{
 "cells": [
  {
   "cell_type": "code",
   "execution_count": 1,
   "id": "d81ecea5",
   "metadata": {},
   "outputs": [
    {
     "name": "stdout",
     "output_type": "stream",
     "text": [
      "Defaulting to user installation because normal site-packages is not writeable\n",
      "Requirement already satisfied: sentence-transformers in /home/jupyter-vit_sridevi/.local/lib/python3.9/site-packages (2.2.2)\n",
      "Requirement already satisfied: tqdm in /opt/tljh/user/lib/python3.9/site-packages (from sentence-transformers) (4.62.3)\n",
      "Requirement already satisfied: transformers<5.0.0,>=4.6.0 in /home/jupyter-vit_sridevi/.local/lib/python3.9/site-packages (from sentence-transformers) (4.20.1)\n",
      "Requirement already satisfied: numpy in /opt/tljh/user/lib/python3.9/site-packages (from sentence-transformers) (1.22.3)\n",
      "Requirement already satisfied: nltk in /home/jupyter-vit_sridevi/.local/lib/python3.9/site-packages (from sentence-transformers) (3.7)\n",
      "Requirement already satisfied: sentencepiece in /home/jupyter-vit_sridevi/.local/lib/python3.9/site-packages (from sentence-transformers) (0.1.96)\n",
      "Requirement already satisfied: torch>=1.6.0 in /home/jupyter-vit_sridevi/.local/lib/python3.9/site-packages (from sentence-transformers) (1.12.0)\n",
      "Requirement already satisfied: scikit-learn in /home/jupyter-vit_sridevi/.local/lib/python3.9/site-packages (from sentence-transformers) (1.1.1)\n",
      "Requirement already satisfied: huggingface-hub>=0.4.0 in /home/jupyter-vit_sridevi/.local/lib/python3.9/site-packages (from sentence-transformers) (0.8.1)\n",
      "Requirement already satisfied: torchvision in /home/jupyter-vit_sridevi/.local/lib/python3.9/site-packages (from sentence-transformers) (0.13.0)\n",
      "Requirement already satisfied: scipy in /home/jupyter-vit_sridevi/.local/lib/python3.9/site-packages (from sentence-transformers) (1.8.1)\n",
      "Requirement already satisfied: packaging>=20.9 in /opt/tljh/user/lib/python3.9/site-packages (from huggingface-hub>=0.4.0->sentence-transformers) (21.3)\n",
      "Requirement already satisfied: requests in /opt/tljh/user/lib/python3.9/site-packages (from huggingface-hub>=0.4.0->sentence-transformers) (2.26.0)\n",
      "Requirement already satisfied: typing-extensions>=3.7.4.3 in /home/jupyter-vit_sridevi/.local/lib/python3.9/site-packages (from huggingface-hub>=0.4.0->sentence-transformers) (4.3.0)\n",
      "Requirement already satisfied: pyyaml>=5.1 in /home/jupyter-vit_sridevi/.local/lib/python3.9/site-packages (from huggingface-hub>=0.4.0->sentence-transformers) (6.0)\n",
      "Requirement already satisfied: filelock in /home/jupyter-vit_sridevi/.local/lib/python3.9/site-packages (from huggingface-hub>=0.4.0->sentence-transformers) (3.7.1)\n",
      "Requirement already satisfied: tokenizers!=0.11.3,<0.13,>=0.11.1 in /home/jupyter-vit_sridevi/.local/lib/python3.9/site-packages (from transformers<5.0.0,>=4.6.0->sentence-transformers) (0.12.1)\n",
      "Requirement already satisfied: regex!=2019.12.17 in /home/jupyter-vit_sridevi/.local/lib/python3.9/site-packages (from transformers<5.0.0,>=4.6.0->sentence-transformers) (2022.7.9)\n",
      "Requirement already satisfied: click in /home/jupyter-vit_sridevi/.local/lib/python3.9/site-packages (from nltk->sentence-transformers) (8.1.3)\n",
      "Requirement already satisfied: joblib in /home/jupyter-vit_sridevi/.local/lib/python3.9/site-packages (from nltk->sentence-transformers) (1.1.0)\n",
      "Requirement already satisfied: threadpoolctl>=2.0.0 in /home/jupyter-vit_sridevi/.local/lib/python3.9/site-packages (from scikit-learn->sentence-transformers) (3.1.0)\n",
      "Requirement already satisfied: pillow!=8.3.*,>=5.3.0 in /home/jupyter-vit_sridevi/.local/lib/python3.9/site-packages (from torchvision->sentence-transformers) (9.2.0)\n",
      "Requirement already satisfied: pyparsing!=3.0.5,>=2.0.2 in /opt/tljh/user/lib/python3.9/site-packages (from packaging>=20.9->huggingface-hub>=0.4.0->sentence-transformers) (3.0.9)\n",
      "Requirement already satisfied: urllib3<1.27,>=1.21.1 in /opt/tljh/user/lib/python3.9/site-packages (from requests->huggingface-hub>=0.4.0->sentence-transformers) (1.26.7)\n",
      "Requirement already satisfied: charset-normalizer~=2.0.0 in /opt/tljh/user/lib/python3.9/site-packages (from requests->huggingface-hub>=0.4.0->sentence-transformers) (2.0.0)\n",
      "Requirement already satisfied: certifi>=2017.4.17 in /opt/tljh/user/lib/python3.9/site-packages (from requests->huggingface-hub>=0.4.0->sentence-transformers) (2021.10.8)\n",
      "Requirement already satisfied: idna<4,>=2.5 in /opt/tljh/user/lib/python3.9/site-packages (from requests->huggingface-hub>=0.4.0->sentence-transformers) (3.1)\n",
      "Defaulting to user installation because normal site-packages is not writeable\n",
      "Requirement already satisfied: pandas in /home/jupyter-vit_sridevi/.local/lib/python3.9/site-packages (1.4.3)\n",
      "Requirement already satisfied: numpy>=1.18.5 in /opt/tljh/user/lib/python3.9/site-packages (from pandas) (1.22.3)\n",
      "Requirement already satisfied: python-dateutil>=2.8.1 in /opt/tljh/user/lib/python3.9/site-packages (from pandas) (2.8.2)\n",
      "Requirement already satisfied: pytz>=2020.1 in /opt/tljh/user/lib/python3.9/site-packages (from pandas) (2022.1)\n",
      "Requirement already satisfied: six>=1.5 in /opt/tljh/user/lib/python3.9/site-packages (from python-dateutil>=2.8.1->pandas) (1.16.0)\n"
     ]
    }
   ],
   "source": [
    "!pip install sentence-transformers\n",
    "!pip install pandas"
   ]
  },
  {
   "cell_type": "code",
   "execution_count": 2,
   "id": "c445cdaf",
   "metadata": {},
   "outputs": [],
   "source": [
    "\n",
    "\n",
    "from sklearn.metrics import accuracy_score, f1_score\n",
    "from sklearn.linear_model import LogisticRegression\n",
    "from sentence_transformers import SentenceTransformer, InputExample, losses, models, datasets, evaluation\n",
    "from torch.utils.data import DataLoader\n",
    "\n",
    "from sklearn.manifold import TSNE\n",
    "from matplotlib import pyplot as plt\n",
    "\n",
    "# import warnings filter\n",
    "from warnings import simplefilter\n",
    "# ignore all future warnings\n",
    "simplefilter(action='ignore', category=FutureWarning)\n",
    "\n",
    "import pandas as pd\n",
    "import numpy as np\n",
    "\n",
    "import torch\n",
    "import random\n",
    "import torch\n",
    "\n",
    "def set_seed(seed):\n",
    "  random.seed(seed)\n",
    "  np.random.seed(seed)\n",
    "  torch.manual_seed(seed)"
   ]
  },
  {
   "cell_type": "code",
   "execution_count": 3,
   "id": "14c99818",
   "metadata": {},
   "outputs": [
    {
     "data": {
      "text/html": [
       "<div>\n",
       "<style scoped>\n",
       "    .dataframe tbody tr th:only-of-type {\n",
       "        vertical-align: middle;\n",
       "    }\n",
       "\n",
       "    .dataframe tbody tr th {\n",
       "        vertical-align: top;\n",
       "    }\n",
       "\n",
       "    .dataframe thead th {\n",
       "        text-align: right;\n",
       "    }\n",
       "</style>\n",
       "<table border=\"1\" class=\"dataframe\">\n",
       "  <thead>\n",
       "    <tr style=\"text-align: right;\">\n",
       "      <th></th>\n",
       "      <th>Unnamed: 0</th>\n",
       "      <th>QuestionID</th>\n",
       "      <th>ReferenceAnswer</th>\n",
       "      <th>StudentAnswer</th>\n",
       "      <th>Score1</th>\n",
       "      <th>Score2</th>\n",
       "      <th>avg_score</th>\n",
       "      <th>max_score</th>\n",
       "    </tr>\n",
       "  </thead>\n",
       "  <tbody>\n",
       "    <tr>\n",
       "      <th>0</th>\n",
       "      <td>0.0</td>\n",
       "      <td>PythonQ001</td>\n",
       "      <td>List, Set and Dictionary are mutable data stru...</td>\n",
       "      <td>Tha object structures which can be changeable ...</td>\n",
       "      <td>1.0</td>\n",
       "      <td>0.0</td>\n",
       "      <td>0.5</td>\n",
       "      <td>1.0</td>\n",
       "    </tr>\n",
       "    <tr>\n",
       "      <th>1</th>\n",
       "      <td>1.0</td>\n",
       "      <td>PythonQ001</td>\n",
       "      <td>List, Set and Dictionary are mutable data stru...</td>\n",
       "      <td>Tuple</td>\n",
       "      <td>0.0</td>\n",
       "      <td>0.0</td>\n",
       "      <td>0.0</td>\n",
       "      <td>0.0</td>\n",
       "    </tr>\n",
       "  </tbody>\n",
       "</table>\n",
       "</div>"
      ],
      "text/plain": [
       "   Unnamed: 0  QuestionID                                    ReferenceAnswer  \\\n",
       "0         0.0  PythonQ001  List, Set and Dictionary are mutable data stru...   \n",
       "1         1.0  PythonQ001  List, Set and Dictionary are mutable data stru...   \n",
       "\n",
       "                                       StudentAnswer  Score1  Score2  \\\n",
       "0  Tha object structures which can be changeable ...     1.0     0.0   \n",
       "1                                              Tuple     0.0     0.0   \n",
       "\n",
       "   avg_score  max_score  \n",
       "0        0.5        1.0  \n",
       "1        0.0        0.0  "
      ]
     },
     "execution_count": 3,
     "metadata": {},
     "output_type": "execute_result"
    }
   ],
   "source": [
    "#Load the sprag dataset\n",
    "data = pd.read_csv(\"refstdcombined.csv\")\n",
    "data.head(2)"
   ]
  },
  {
   "cell_type": "code",
   "execution_count": 4,
   "id": "c830d9ed",
   "metadata": {},
   "outputs": [],
   "source": [
    "data['bin_score'] = data.apply(lambda row : 1 if row.avg_score>=3 else 0, axis=1)"
   ]
  },
  {
   "cell_type": "code",
   "execution_count": 5,
   "id": "fb65373f",
   "metadata": {},
   "outputs": [
    {
     "data": {
      "text/html": [
       "<div>\n",
       "<style scoped>\n",
       "    .dataframe tbody tr th:only-of-type {\n",
       "        vertical-align: middle;\n",
       "    }\n",
       "\n",
       "    .dataframe tbody tr th {\n",
       "        vertical-align: top;\n",
       "    }\n",
       "\n",
       "    .dataframe thead th {\n",
       "        text-align: right;\n",
       "    }\n",
       "</style>\n",
       "<table border=\"1\" class=\"dataframe\">\n",
       "  <thead>\n",
       "    <tr style=\"text-align: right;\">\n",
       "      <th></th>\n",
       "      <th>Unnamed: 0</th>\n",
       "      <th>QuestionID</th>\n",
       "      <th>ReferenceAnswer</th>\n",
       "      <th>StudentAnswer</th>\n",
       "      <th>Score1</th>\n",
       "      <th>Score2</th>\n",
       "      <th>avg_score</th>\n",
       "      <th>max_score</th>\n",
       "      <th>bin_score</th>\n",
       "    </tr>\n",
       "  </thead>\n",
       "  <tbody>\n",
       "    <tr>\n",
       "      <th>0</th>\n",
       "      <td>0.0</td>\n",
       "      <td>PythonQ001</td>\n",
       "      <td>List, Set and Dictionary are mutable data stru...</td>\n",
       "      <td>Tha object structures which can be changeable ...</td>\n",
       "      <td>1.0</td>\n",
       "      <td>0.0</td>\n",
       "      <td>0.5</td>\n",
       "      <td>1.0</td>\n",
       "      <td>0</td>\n",
       "    </tr>\n",
       "    <tr>\n",
       "      <th>1</th>\n",
       "      <td>1.0</td>\n",
       "      <td>PythonQ001</td>\n",
       "      <td>List, Set and Dictionary are mutable data stru...</td>\n",
       "      <td>Tuple</td>\n",
       "      <td>0.0</td>\n",
       "      <td>0.0</td>\n",
       "      <td>0.0</td>\n",
       "      <td>0.0</td>\n",
       "      <td>0</td>\n",
       "    </tr>\n",
       "  </tbody>\n",
       "</table>\n",
       "</div>"
      ],
      "text/plain": [
       "   Unnamed: 0  QuestionID                                    ReferenceAnswer  \\\n",
       "0         0.0  PythonQ001  List, Set and Dictionary are mutable data stru...   \n",
       "1         1.0  PythonQ001  List, Set and Dictionary are mutable data stru...   \n",
       "\n",
       "                                       StudentAnswer  Score1  Score2  \\\n",
       "0  Tha object structures which can be changeable ...     1.0     0.0   \n",
       "1                                              Tuple     0.0     0.0   \n",
       "\n",
       "   avg_score  max_score  bin_score  \n",
       "0        0.5        1.0          0  \n",
       "1        0.0        0.0          0  "
      ]
     },
     "execution_count": 5,
     "metadata": {},
     "output_type": "execute_result"
    }
   ],
   "source": [
    "data.head(2)"
   ]
  },
  {
   "cell_type": "code",
   "execution_count": 6,
   "id": "ac3fd9e5",
   "metadata": {},
   "outputs": [],
   "source": [
    "data = data.dropna()"
   ]
  },
  {
   "cell_type": "code",
   "execution_count": 7,
   "id": "c209e2dd",
   "metadata": {},
   "outputs": [
    {
     "data": {
      "image/png": "[encoded data removed]",
      "text/plain": [
       "<Figure size 432x288 with 1 Axes>"
      ]
     },
     "metadata": {
      "needs_background": "light"
     },
     "output_type": "display_data"
    }
   ],
   "source": [
    "data['bin_score'].value_counts(normalize=True).plot(kind='bar');"
   ]
  },
  {
   "cell_type": "code",
   "execution_count": 8,
   "id": "59468089",
   "metadata": {},
   "outputs": [],
   "source": [
    "#### Just some code to print debug information to stdout\n",
    "import logging\n",
    "from sentence_transformers import LoggingHandler\n",
    "logging.basicConfig(format='%(asctime)s - %(message)s',\n",
    "                    datefmt='%Y-%m-%d %H:%M:%S',\n",
    "                    level=logging.INFO,\n",
    "                    handlers=[LoggingHandler()])"
   ]
  },
  {
   "cell_type": "code",
   "execution_count": 9,
   "id": "088b0996",
   "metadata": {},
   "outputs": [],
   "source": [
    "from sklearn.model_selection import train_test_split\n",
    "\n",
    "# Storing labels in array\n",
    "labels = data['bin_score'].values\n",
    "\n",
    "# Dropping labels column from data\n",
    "data = data.drop(['bin_score'], axis=1)\n",
    "\n",
    "# Splitting data into train and test sets in a 70/30 ratio\n",
    "train_data, test_data, train_labels, test_labels = train_test_split(data, labels, stratify=labels, random_state=42, test_size=0.2)"
   ]
  },
  {
   "cell_type": "code",
   "execution_count": 10,
   "id": "6c00c606",
   "metadata": {},
   "outputs": [
    {
     "data": {
      "text/plain": [
       "(2406.0, numpy.ndarray, (3208,))"
      ]
     },
     "execution_count": 10,
     "metadata": {},
     "output_type": "execute_result"
    }
   ],
   "source": [
    "len(train_data)*0.75, type(train_labels), train_labels.shape\n"
   ]
  },
  {
   "cell_type": "code",
   "execution_count": 11,
   "id": "32056e86",
   "metadata": {},
   "outputs": [],
   "source": [
    "train_data = train_data.iloc[0:2406]\n",
    "train_labels = train_labels[0:2406]"
   ]
  },
  {
   "cell_type": "code",
   "execution_count": 12,
   "id": "94b443ed",
   "metadata": {},
   "outputs": [
    {
     "data": {
      "text/plain": [
       "(pandas.core.frame.DataFrame, numpy.ndarray, 2406, 2406)"
      ]
     },
     "execution_count": 12,
     "metadata": {},
     "output_type": "execute_result"
    }
   ],
   "source": [
    "type(train_data), type(train_labels), len(train_data), len(train_labels)"
   ]
  },
  {
   "cell_type": "code",
   "execution_count": 13,
   "id": "43744dab",
   "metadata": {},
   "outputs": [],
   "source": [
    "def sentence_pairs_generation(sentence1, sentence2, labels, pairs):\n",
    "\t# initialize two empty lists to hold the (sentence, sentence) pairs and\n",
    "\t# labels to indicate if the grade of the pair\n",
    "\n",
    "  numClassesList = np.unique(labels)\n",
    "  #print(numClassesList)\n",
    "  idx = [np.where(labels == i)[0] for i in numClassesList]\n",
    "  #print(idx)\n",
    "\n",
    "  for idxA in range(len(sentence1)):      \n",
    "    dAns = sentence1[idxA]\n",
    "    sAns = sentence2[idxA]\n",
    "    label = int(labels[idxA])\n",
    "    \n",
    "\t\t  # prepare a pair and update the sentences and labels lists, respectively\n",
    "    pairs.append(InputExample(texts=[dAns, sAns], label=label))\n",
    "\n",
    "     \n",
    "\t# return a 2-tuple of our image pairs and labels\n",
    "  return (pairs)"
   ]
  },
  {
   "cell_type": "code",
   "execution_count": 14,
   "id": "73812285",
   "metadata": {},
   "outputs": [],
   "source": [
    "set_seed(0)\n",
    "# Equal samples per class training\n",
    "#train_df_sample = pd.concat([train_df[train_df[1]==0].sample(num_training), train_df[train_df[1]==1].sample(num_training)])\n",
    "x_train_dA = train_data['ReferenceAnswer'].values.tolist()\n",
    "x_train_sA = train_data['StudentAnswer'].values.tolist()\n",
    "y_train = train_labels.tolist()\n",
    "y_train = [int(x) for x in y_train]"
   ]
  },
  {
   "cell_type": "code",
   "execution_count": 15,
   "id": "61fd6221",
   "metadata": {},
   "outputs": [],
   "source": [
    "#use test dataset as dev dataset\n",
    "x_test_dA = test_data['ReferenceAnswer'].values.tolist()\n",
    "x_test_sA = test_data['StudentAnswer'].values.tolist()\n",
    "y_test = test_labels / 1.0\n",
    "y_test = test_labels.tolist()\n",
    "#y_test = [int(x) for x in y_test]\n",
    "\n",
    "test_examples = [] \n",
    "test_examples = sentence_pairs_generation(np.array(x_test_dA), np.array(x_test_sA), np.array(y_test), test_examples)"
   ]
  },
  {
   "cell_type": "code",
   "execution_count": 16,
   "id": "6049c777",
   "metadata": {},
   "outputs": [],
   "source": [
    "train_examples = [] \n",
    "train_examples = sentence_pairs_generation(np.array(x_train_dA), np.array(x_train_sA), np.array(y_train), train_examples)"
   ]
  },
  {
   "cell_type": "code",
   "execution_count": 17,
   "id": "5bef49b2",
   "metadata": {},
   "outputs": [],
   "source": [
    "# Save path of the model\n",
    "from datetime import datetime\n",
    "model_save_path = 'output/training_sprag_v4_'+datetime.now().strftime(\"%Y-%m-%d_%H-%M-%S\")"
   ]
  },
  {
   "cell_type": "code",
   "execution_count": 18,
   "id": "cad4f826",
   "metadata": {},
   "outputs": [],
   "source": [
    "from sentence_transformers import evaluation\n",
    "import math\n",
    "\n",
    "\n",
    "def train_and_evaluate(st_model, train_dataloader, test_dataloader, num_epochs,model_save_path):\n",
    "  model = SentenceTransformer(st_model)\n",
    "  #for evaluation\n",
    "  train_loss = losses.SoftmaxLoss(model=model, sentence_embedding_dimension=model.get_sentence_embedding_dimension(), num_labels=2)\n",
    "  #test_evaluator = evaluation.EmbeddingSimilarityEvaluator.from_input_examples(test_examples, batch_size=16, name='SPRAG-test')\n",
    "  x_test_dA = test_data['ReferenceAnswer'].values.tolist()\n",
    "  x_test_sA = test_data['StudentAnswer'].values.tolist()\n",
    "  y_test = test_labels \n",
    "\n",
    "  evaluator = evaluation.BinaryClassificationEvaluator(x_test_dA, x_test_sA, y_test)\n",
    "\n",
    "  #configuring the training\n",
    "  warmup_steps = math.ceil(len(train_dataloader) * num_epochs * 0.1) #10% of train data for warm-up\n",
    "  print(warmup_steps)\n",
    "  #train_loss = losses.CosineSimilarityLoss(model)\n",
    "  model.fit(train_objectives=[(train_dataloader, train_loss)],\n",
    "          evaluator=evaluator,\n",
    "          epochs=num_epochs,\n",
    "          warmup_steps=warmup_steps,\n",
    "          show_progress_bar=True,  \n",
    "          #evaluation_steps=50, \n",
    "          output_path=model_save_path,)\n",
    "  print(\"Training done...\")"
   ]
  },
  {
   "cell_type": "code",
   "execution_count": 19,
   "id": "4d6a71e0",
   "metadata": {},
   "outputs": [
    {
     "name": "stdout",
     "output_type": "stream",
     "text": [
      "2022-09-07 20:11:36 - Load pretrained SentenceTransformer: stsb-distilbert-base\n",
      "2022-09-07 20:11:36 - Use pytorch device: cuda\n",
      "2022-09-07 20:11:36 - Softmax loss: #Vectors concatenated: 3\n",
      "151\n"
     ]
    },
    {
     "data": {
      "application/vnd.jupyter.widget-view+json": {
       "model_id": "3bd07c2465684556b89a6d870535d52b",
       "version_major": 2,
       "version_minor": 0
      },
      "text/plain": [
       "Epoch:   0%|          | 0/10 [00:00<?, ?it/s]"
      ]
     },
     "metadata": {},
     "output_type": "display_data"
    },
    {
     "data": {
      "application/vnd.jupyter.widget-view+json": {
       "model_id": "894d2af8c92443b2adc662d2b8e2231d",
       "version_major": 2,
       "version_minor": 0
      },
      "text/plain": [
       "Iteration:   0%|          | 0/151 [00:00<?, ?it/s]"
      ]
     },
     "metadata": {},
     "output_type": "display_data"
    },
    {
     "name": "stdout",
     "output_type": "stream",
     "text": [
      "2022-09-07 20:11:52 - Binary Accuracy Evaluation of the model on  dataset after epoch 0:\n",
      "2022-09-07 20:11:52 - Accuracy with Cosine-Similarity:           77.68\t(Threshold: 0.4630)\n",
      "2022-09-07 20:11:52 - F1 with Cosine-Similarity:                 83.50\t(Threshold: 0.3764)\n",
      "2022-09-07 20:11:52 - Precision with Cosine-Similarity:          76.40\n",
      "2022-09-07 20:11:52 - Recall with Cosine-Similarity:             92.05\n",
      "2022-09-07 20:11:52 - Average Precision with Cosine-Similarity:  89.73\n",
      "\n",
      "2022-09-07 20:11:52 - Accuracy with Manhattan-Distance:           77.68\t(Threshold: 350.6785)\n",
      "2022-09-07 20:11:52 - F1 with Manhattan-Distance:                 83.50\t(Threshold: 375.8894)\n",
      "2022-09-07 20:11:52 - Precision with Manhattan-Distance:          77.10\n",
      "2022-09-07 20:11:52 - Recall with Manhattan-Distance:             91.05\n",
      "2022-09-07 20:11:52 - Average Precision with Manhattan-Distance:  89.91\n",
      "\n",
      "2022-09-07 20:11:52 - Accuracy with Euclidean-Distance:           78.05\t(Threshold: 16.0712)\n",
      "2022-09-07 20:11:52 - F1 with Euclidean-Distance:                 83.38\t(Threshold: 17.9991)\n",
      "2022-09-07 20:11:52 - Precision with Euclidean-Distance:          74.76\n",
      "2022-09-07 20:11:52 - Recall with Euclidean-Distance:             94.23\n",
      "2022-09-07 20:11:52 - Average Precision with Euclidean-Distance:  89.98\n",
      "\n",
      "2022-09-07 20:11:52 - Accuracy with Dot-Product:           77.06\t(Threshold: 95.3706)\n",
      "2022-09-07 20:11:52 - F1 with Dot-Product:                 83.50\t(Threshold: 78.5317)\n",
      "2022-09-07 20:11:52 - Precision with Dot-Product:          75.08\n",
      "2022-09-07 20:11:52 - Recall with Dot-Product:             94.04\n",
      "2022-09-07 20:11:52 - Average Precision with Dot-Product:  88.75\n",
      "\n",
      "2022-09-07 20:11:52 - Save model to binary_sim_output/stsb-distilbert-base\n"
     ]
    },
    {
     "data": {
      "application/vnd.jupyter.widget-view+json": {
       "model_id": "d22950b2ebaa4b9faf1e55691191acd4",
       "version_major": 2,
       "version_minor": 0
      },
      "text/plain": [
       "Iteration:   0%|          | 0/151 [00:00<?, ?it/s]"
      ]
     },
     "metadata": {},
     "output_type": "display_data"
    },
    {
     "name": "stdout",
     "output_type": "stream",
     "text": [
      "2022-09-07 20:12:05 - Binary Accuracy Evaluation of the model on  dataset after epoch 1:\n",
      "2022-09-07 20:12:06 - Accuracy with Cosine-Similarity:           80.17\t(Threshold: 0.4302)\n",
      "2022-09-07 20:12:06 - F1 with Cosine-Similarity:                 85.35\t(Threshold: 0.3450)\n",
      "2022-09-07 20:12:06 - Precision with Cosine-Similarity:          79.12\n",
      "2022-09-07 20:12:06 - Recall with Cosine-Similarity:             92.64\n",
      "2022-09-07 20:12:06 - Average Precision with Cosine-Similarity:  91.19\n",
      "\n",
      "2022-09-07 20:12:06 - Accuracy with Manhattan-Distance:           81.17\t(Threshold: 367.4700)\n",
      "2022-09-07 20:12:06 - F1 with Manhattan-Distance:                 85.64\t(Threshold: 395.4358)\n",
      "2022-09-07 20:12:06 - Precision with Manhattan-Distance:          79.32\n",
      "2022-09-07 20:12:06 - Recall with Manhattan-Distance:             93.04\n",
      "2022-09-07 20:12:06 - Average Precision with Manhattan-Distance:  91.29\n",
      "\n",
      "2022-09-07 20:12:06 - Accuracy with Euclidean-Distance:           81.42\t(Threshold: 16.9312)\n",
      "2022-09-07 20:12:06 - F1 with Euclidean-Distance:                 85.82\t(Threshold: 16.9312)\n",
      "2022-09-07 20:12:06 - Precision with Euclidean-Distance:          82.30\n",
      "2022-09-07 20:12:06 - Recall with Euclidean-Distance:             89.66\n",
      "2022-09-07 20:12:06 - Average Precision with Euclidean-Distance:  91.28\n",
      "\n",
      "2022-09-07 20:12:06 - Accuracy with Dot-Product:           79.93\t(Threshold: 96.6405)\n",
      "2022-09-07 20:12:06 - F1 with Dot-Product:                 85.35\t(Threshold: 79.4241)\n",
      "2022-09-07 20:12:06 - Precision with Dot-Product:          78.69\n",
      "2022-09-07 20:12:06 - Recall with Dot-Product:             93.24\n",
      "2022-09-07 20:12:06 - Average Precision with Dot-Product:  90.80\n",
      "\n",
      "2022-09-07 20:12:06 - Save model to binary_sim_output/stsb-distilbert-base\n"
     ]
    },
    {
     "data": {
      "application/vnd.jupyter.widget-view+json": {
       "model_id": "b824761d4a1d422cbc5617d49894087d",
       "version_major": 2,
       "version_minor": 0
      },
      "text/plain": [
       "Iteration:   0%|          | 0/151 [00:00<?, ?it/s]"
      ]
     },
     "metadata": {},
     "output_type": "display_data"
    },
    {
     "name": "stdout",
     "output_type": "stream",
     "text": [
      "2022-09-07 20:12:19 - Binary Accuracy Evaluation of the model on  dataset after epoch 2:\n",
      "2022-09-07 20:12:20 - Accuracy with Cosine-Similarity:           80.92\t(Threshold: 0.3630)\n",
      "2022-09-07 20:12:20 - F1 with Cosine-Similarity:                 85.61\t(Threshold: 0.2031)\n",
      "2022-09-07 20:12:20 - Precision with Cosine-Similarity:          77.37\n",
      "2022-09-07 20:12:20 - Recall with Cosine-Similarity:             95.83\n",
      "2022-09-07 20:12:20 - Average Precision with Cosine-Similarity:  91.04\n",
      "\n",
      "2022-09-07 20:12:20 - Accuracy with Manhattan-Distance:           81.17\t(Threshold: 395.6620)\n",
      "2022-09-07 20:12:20 - F1 with Manhattan-Distance:                 86.09\t(Threshold: 445.4368)\n",
      "2022-09-07 20:12:20 - Precision with Manhattan-Distance:          77.64\n",
      "2022-09-07 20:12:20 - Recall with Manhattan-Distance:             96.62\n",
      "2022-09-07 20:12:20 - Average Precision with Manhattan-Distance:  91.19\n",
      "\n",
      "2022-09-07 20:12:20 - Accuracy with Euclidean-Distance:           81.17\t(Threshold: 18.1164)\n",
      "2022-09-07 20:12:20 - F1 with Euclidean-Distance:                 85.89\t(Threshold: 20.1917)\n",
      "2022-09-07 20:12:20 - Precision with Euclidean-Distance:          77.56\n",
      "2022-09-07 20:12:20 - Recall with Euclidean-Distance:             96.22\n",
      "2022-09-07 20:12:20 - Average Precision with Euclidean-Distance:  91.22\n",
      "\n",
      "2022-09-07 20:12:20 - Accuracy with Dot-Product:           80.42\t(Threshold: 91.2742)\n",
      "2022-09-07 20:12:20 - F1 with Dot-Product:                 85.49\t(Threshold: 46.3310)\n",
      "2022-09-07 20:12:20 - Precision with Dot-Product:          77.03\n",
      "2022-09-07 20:12:20 - Recall with Dot-Product:             96.02\n",
      "2022-09-07 20:12:20 - Average Precision with Dot-Product:  90.63\n",
      "\n"
     ]
    },
    {
     "data": {
      "application/vnd.jupyter.widget-view+json": {
       "model_id": "6b15e7da46dc45b8b1bdf50a23fa1e6a",
       "version_major": 2,
       "version_minor": 0
      },
      "text/plain": [
       "Iteration:   0%|          | 0/151 [00:00<?, ?it/s]"
      ]
     },
     "metadata": {},
     "output_type": "display_data"
    },
    {
     "name": "stdout",
     "output_type": "stream",
     "text": [
      "2022-09-07 20:12:32 - Binary Accuracy Evaluation of the model on  dataset after epoch 3:\n",
      "2022-09-07 20:12:33 - Accuracy with Cosine-Similarity:           82.04\t(Threshold: 0.3903)\n",
      "2022-09-07 20:12:33 - F1 with Cosine-Similarity:                 86.33\t(Threshold: 0.1773)\n",
      "2022-09-07 20:12:33 - Precision with Cosine-Similarity:          78.82\n",
      "2022-09-07 20:12:33 - Recall with Cosine-Similarity:             95.43\n",
      "2022-09-07 20:12:33 - Average Precision with Cosine-Similarity:  91.40\n",
      "\n",
      "2022-09-07 20:12:33 - Accuracy with Manhattan-Distance:           81.80\t(Threshold: 412.7483)\n",
      "2022-09-07 20:12:33 - F1 with Manhattan-Distance:                 86.43\t(Threshold: 451.7355)\n",
      "2022-09-07 20:12:33 - Precision with Manhattan-Distance:          78.85\n",
      "2022-09-07 20:12:33 - Recall with Manhattan-Distance:             95.63\n",
      "2022-09-07 20:12:33 - Average Precision with Manhattan-Distance:  91.47\n",
      "\n",
      "2022-09-07 20:12:33 - Accuracy with Euclidean-Distance:           81.80\t(Threshold: 17.8302)\n",
      "2022-09-07 20:12:33 - F1 with Euclidean-Distance:                 86.52\t(Threshold: 20.3051)\n",
      "2022-09-07 20:12:33 - Precision with Euclidean-Distance:          79.40\n",
      "2022-09-07 20:12:33 - Recall with Euclidean-Distance:             95.03\n",
      "2022-09-07 20:12:33 - Average Precision with Euclidean-Distance:  91.49\n",
      "\n",
      "2022-09-07 20:12:33 - Accuracy with Dot-Product:           81.92\t(Threshold: 104.5676)\n",
      "2022-09-07 20:12:33 - F1 with Dot-Product:                 86.33\t(Threshold: 47.3543)\n",
      "2022-09-07 20:12:33 - Precision with Dot-Product:          78.82\n",
      "2022-09-07 20:12:33 - Recall with Dot-Product:             95.43\n",
      "2022-09-07 20:12:33 - Average Precision with Dot-Product:  91.14\n",
      "\n",
      "2022-09-07 20:12:33 - Save model to binary_sim_output/stsb-distilbert-base\n"
     ]
    },
    {
     "data": {
      "application/vnd.jupyter.widget-view+json": {
       "model_id": "6346937cab2e4044bc105700c0944f83",
       "version_major": 2,
       "version_minor": 0
      },
      "text/plain": [
       "Iteration:   0%|          | 0/151 [00:00<?, ?it/s]"
      ]
     },
     "metadata": {},
     "output_type": "display_data"
    },
    {
     "name": "stdout",
     "output_type": "stream",
     "text": [
      "2022-09-07 20:12:46 - Binary Accuracy Evaluation of the model on  dataset after epoch 4:\n",
      "2022-09-07 20:12:47 - Accuracy with Cosine-Similarity:           80.80\t(Threshold: 0.1284)\n",
      "2022-09-07 20:12:47 - F1 with Cosine-Similarity:                 85.82\t(Threshold: 0.1284)\n",
      "2022-09-07 20:12:47 - Precision with Cosine-Similarity:          79.93\n",
      "2022-09-07 20:12:47 - Recall with Cosine-Similarity:             92.64\n",
      "2022-09-07 20:12:47 - Average Precision with Cosine-Similarity:  91.52\n",
      "\n",
      "2022-09-07 20:12:47 - Accuracy with Manhattan-Distance:           80.92\t(Threshold: 386.4485)\n",
      "2022-09-07 20:12:47 - F1 with Manhattan-Distance:                 85.97\t(Threshold: 482.8375)\n",
      "2022-09-07 20:12:47 - Precision with Manhattan-Distance:          79.33\n",
      "2022-09-07 20:12:47 - Recall with Manhattan-Distance:             93.84\n",
      "2022-09-07 20:12:47 - Average Precision with Manhattan-Distance:  91.62\n",
      "\n",
      "2022-09-07 20:12:47 - Accuracy with Euclidean-Distance:           81.17\t(Threshold: 17.7846)\n",
      "2022-09-07 20:12:47 - F1 with Euclidean-Distance:                 85.85\t(Threshold: 21.7536)\n",
      "2022-09-07 20:12:47 - Precision with Euclidean-Distance:          79.83\n",
      "2022-09-07 20:12:47 - Recall with Euclidean-Distance:             92.84\n",
      "2022-09-07 20:12:47 - Average Precision with Euclidean-Distance:  91.64\n",
      "\n",
      "2022-09-07 20:12:47 - Accuracy with Dot-Product:           80.67\t(Threshold: 36.0069)\n",
      "2022-09-07 20:12:47 - F1 with Dot-Product:                 85.74\t(Threshold: 33.8970)\n",
      "2022-09-07 20:12:47 - Precision with Dot-Product:          79.79\n",
      "2022-09-07 20:12:47 - Recall with Dot-Product:             92.64\n",
      "2022-09-07 20:12:47 - Average Precision with Dot-Product:  91.23\n",
      "\n",
      "2022-09-07 20:12:47 - Save model to binary_sim_output/stsb-distilbert-base\n"
     ]
    },
    {
     "data": {
      "application/vnd.jupyter.widget-view+json": {
       "model_id": "631cc12f2c3c4adca740d721e0283aab",
       "version_major": 2,
       "version_minor": 0
      },
      "text/plain": [
       "Iteration:   0%|          | 0/151 [00:00<?, ?it/s]"
      ]
     },
     "metadata": {},
     "output_type": "display_data"
    },
    {
     "name": "stdout",
     "output_type": "stream",
     "text": [
      "2022-09-07 20:13:00 - Binary Accuracy Evaluation of the model on  dataset after epoch 5:\n",
      "2022-09-07 20:13:00 - Accuracy with Cosine-Similarity:           80.67\t(Threshold: 0.1471)\n",
      "2022-09-07 20:13:00 - F1 with Cosine-Similarity:                 85.92\t(Threshold: 0.0148)\n",
      "2022-09-07 20:13:00 - Precision with Cosine-Similarity:          78.27\n",
      "2022-09-07 20:13:00 - Recall with Cosine-Similarity:             95.23\n",
      "2022-09-07 20:13:00 - Average Precision with Cosine-Similarity:  91.30\n",
      "\n",
      "2022-09-07 20:13:00 - Accuracy with Manhattan-Distance:           80.92\t(Threshold: 483.5950)\n",
      "2022-09-07 20:13:00 - F1 with Manhattan-Distance:                 86.03\t(Threshold: 489.4053)\n",
      "2022-09-07 20:13:00 - Precision with Manhattan-Distance:          79.13\n",
      "2022-09-07 20:13:00 - Recall with Manhattan-Distance:             94.23\n",
      "2022-09-07 20:13:00 - Average Precision with Manhattan-Distance:  91.34\n",
      "\n",
      "2022-09-07 20:13:00 - Accuracy with Euclidean-Distance:           80.92\t(Threshold: 22.5521)\n",
      "2022-09-07 20:13:00 - F1 with Euclidean-Distance:                 86.10\t(Threshold: 22.5521)\n",
      "2022-09-07 20:13:00 - Precision with Euclidean-Distance:          79.26\n",
      "2022-09-07 20:13:00 - Recall with Euclidean-Distance:             94.23\n",
      "2022-09-07 20:13:00 - Average Precision with Euclidean-Distance:  91.37\n",
      "\n",
      "2022-09-07 20:13:00 - Accuracy with Dot-Product:           80.67\t(Threshold: 40.7930)\n",
      "2022-09-07 20:13:00 - F1 with Dot-Product:                 85.92\t(Threshold: 3.8044)\n",
      "2022-09-07 20:13:00 - Precision with Dot-Product:          78.27\n",
      "2022-09-07 20:13:00 - Recall with Dot-Product:             95.23\n",
      "2022-09-07 20:13:00 - Average Precision with Dot-Product:  90.97\n",
      "\n"
     ]
    },
    {
     "data": {
      "application/vnd.jupyter.widget-view+json": {
       "model_id": "527023eb64df4ae5ba10f466cef60542",
       "version_major": 2,
       "version_minor": 0
      },
      "text/plain": [
       "Iteration:   0%|          | 0/151 [00:00<?, ?it/s]"
      ]
     },
     "metadata": {},
     "output_type": "display_data"
    },
    {
     "name": "stdout",
     "output_type": "stream",
     "text": [
      "2022-09-07 20:13:13 - Binary Accuracy Evaluation of the model on  dataset after epoch 6:\n",
      "2022-09-07 20:13:13 - Accuracy with Cosine-Similarity:           80.05\t(Threshold: -0.0398)\n",
      "2022-09-07 20:13:13 - F1 with Cosine-Similarity:                 85.64\t(Threshold: -0.0658)\n",
      "2022-09-07 20:13:13 - Precision with Cosine-Similarity:          78.07\n",
      "2022-09-07 20:13:13 - Recall with Cosine-Similarity:             94.83\n",
      "2022-09-07 20:13:13 - Average Precision with Cosine-Similarity:  90.97\n",
      "\n",
      "2022-09-07 20:13:13 - Accuracy with Manhattan-Distance:           80.17\t(Threshold: 470.2825)\n",
      "2022-09-07 20:13:13 - F1 with Manhattan-Distance:                 85.64\t(Threshold: 518.5341)\n",
      "2022-09-07 20:13:13 - Precision with Manhattan-Distance:          78.48\n",
      "2022-09-07 20:13:13 - Recall with Manhattan-Distance:             94.23\n",
      "2022-09-07 20:13:13 - Average Precision with Manhattan-Distance:  91.06\n",
      "\n",
      "2022-09-07 20:13:13 - Accuracy with Euclidean-Distance:           80.17\t(Threshold: 21.5206)\n",
      "2022-09-07 20:13:13 - F1 with Euclidean-Distance:                 85.77\t(Threshold: 24.1040)\n",
      "2022-09-07 20:13:13 - Precision with Euclidean-Distance:          78.01\n",
      "2022-09-07 20:13:13 - Recall with Euclidean-Distance:             95.23\n",
      "2022-09-07 20:13:13 - Average Precision with Euclidean-Distance:  91.11\n",
      "\n",
      "2022-09-07 20:13:13 - Accuracy with Dot-Product:           80.05\t(Threshold: -10.7850)\n",
      "2022-09-07 20:13:13 - F1 with Dot-Product:                 85.64\t(Threshold: -17.8795)\n",
      "2022-09-07 20:13:13 - Precision with Dot-Product:          78.07\n",
      "2022-09-07 20:13:13 - Recall with Dot-Product:             94.83\n",
      "2022-09-07 20:13:13 - Average Precision with Dot-Product:  90.49\n",
      "\n"
     ]
    },
    {
     "data": {
      "application/vnd.jupyter.widget-view+json": {
       "model_id": "11b5efc6314b42fbaa0c532ed34f14e9",
       "version_major": 2,
       "version_minor": 0
      },
      "text/plain": [
       "Iteration:   0%|          | 0/151 [00:00<?, ?it/s]"
      ]
     },
     "metadata": {},
     "output_type": "display_data"
    },
    {
     "name": "stdout",
     "output_type": "stream",
     "text": [
      "2022-09-07 20:13:26 - Binary Accuracy Evaluation of the model on  dataset after epoch 7:\n",
      "2022-09-07 20:13:27 - Accuracy with Cosine-Similarity:           80.05\t(Threshold: -0.0266)\n",
      "2022-09-07 20:13:27 - F1 with Cosine-Similarity:                 85.74\t(Threshold: -0.1279)\n",
      "2022-09-07 20:13:27 - Precision with Cosine-Similarity:          77.71\n",
      "2022-09-07 20:13:27 - Recall with Cosine-Similarity:             95.63\n",
      "2022-09-07 20:13:27 - Average Precision with Cosine-Similarity:  91.55\n",
      "\n",
      "2022-09-07 20:13:27 - Accuracy with Manhattan-Distance:           80.30\t(Threshold: 530.6027)\n",
      "2022-09-07 20:13:27 - F1 with Manhattan-Distance:                 85.82\t(Threshold: 532.3170)\n",
      "2022-09-07 20:13:27 - Precision with Manhattan-Distance:          78.23\n",
      "2022-09-07 20:13:27 - Recall with Manhattan-Distance:             95.03\n",
      "2022-09-07 20:13:27 - Average Precision with Manhattan-Distance:  91.61\n",
      "\n",
      "2022-09-07 20:13:27 - Accuracy with Euclidean-Distance:           80.30\t(Threshold: 23.9390)\n",
      "2022-09-07 20:13:27 - F1 with Euclidean-Distance:                 85.69\t(Threshold: 24.9724)\n",
      "2022-09-07 20:13:27 - Precision with Euclidean-Distance:          77.49\n",
      "2022-09-07 20:13:27 - Recall with Euclidean-Distance:             95.83\n",
      "2022-09-07 20:13:27 - Average Precision with Euclidean-Distance:  91.64\n",
      "\n",
      "2022-09-07 20:13:27 - Accuracy with Dot-Product:           80.05\t(Threshold: -7.4110)\n",
      "2022-09-07 20:13:27 - F1 with Dot-Product:                 85.74\t(Threshold: -34.4241)\n",
      "2022-09-07 20:13:27 - Precision with Dot-Product:          77.71\n",
      "2022-09-07 20:13:27 - Recall with Dot-Product:             95.63\n",
      "2022-09-07 20:13:27 - Average Precision with Dot-Product:  91.21\n",
      "\n"
     ]
    },
    {
     "data": {
      "application/vnd.jupyter.widget-view+json": {
       "model_id": "830561012e8a4d21b5d742570a585876",
       "version_major": 2,
       "version_minor": 0
      },
      "text/plain": [
       "Iteration:   0%|          | 0/151 [00:00<?, ?it/s]"
      ]
     },
     "metadata": {},
     "output_type": "display_data"
    },
    {
     "name": "stdout",
     "output_type": "stream",
     "text": [
      "2022-09-07 20:13:39 - Binary Accuracy Evaluation of the model on  dataset after epoch 8:\n",
      "2022-09-07 20:13:40 - Accuracy with Cosine-Similarity:           80.05\t(Threshold: 0.1865)\n",
      "2022-09-07 20:13:40 - F1 with Cosine-Similarity:                 85.64\t(Threshold: -0.1215)\n",
      "2022-09-07 20:13:40 - Precision with Cosine-Similarity:          77.28\n",
      "2022-09-07 20:13:40 - Recall with Cosine-Similarity:             96.02\n",
      "2022-09-07 20:13:40 - Average Precision with Cosine-Similarity:  91.62\n",
      "\n",
      "2022-09-07 20:13:40 - Accuracy with Manhattan-Distance:           80.30\t(Threshold: 473.5095)\n",
      "2022-09-07 20:13:40 - F1 with Manhattan-Distance:                 85.49\t(Threshold: 534.0582)\n",
      "2022-09-07 20:13:40 - Precision with Manhattan-Distance:          77.42\n",
      "2022-09-07 20:13:40 - Recall with Manhattan-Distance:             95.43\n",
      "2022-09-07 20:13:40 - Average Precision with Manhattan-Distance:  91.69\n",
      "\n",
      "2022-09-07 20:13:40 - Accuracy with Euclidean-Distance:           80.05\t(Threshold: 21.4942)\n",
      "2022-09-07 20:13:40 - F1 with Euclidean-Distance:                 85.64\t(Threshold: 25.0111)\n",
      "2022-09-07 20:13:40 - Precision with Euclidean-Distance:          77.28\n",
      "2022-09-07 20:13:40 - Recall with Euclidean-Distance:             96.02\n",
      "2022-09-07 20:13:40 - Average Precision with Euclidean-Distance:  91.70\n",
      "\n",
      "2022-09-07 20:13:40 - Accuracy with Dot-Product:           80.05\t(Threshold: 51.1052)\n",
      "2022-09-07 20:13:40 - F1 with Dot-Product:                 85.64\t(Threshold: -33.0247)\n",
      "2022-09-07 20:13:40 - Precision with Dot-Product:          77.28\n",
      "2022-09-07 20:13:40 - Recall with Dot-Product:             96.02\n",
      "2022-09-07 20:13:40 - Average Precision with Dot-Product:  91.30\n",
      "\n",
      "2022-09-07 20:13:40 - Save model to binary_sim_output/stsb-distilbert-base\n"
     ]
    },
    {
     "data": {
      "application/vnd.jupyter.widget-view+json": {
       "model_id": "978a6c5974734e02b42bb6db32640e87",
       "version_major": 2,
       "version_minor": 0
      },
      "text/plain": [
       "Iteration:   0%|          | 0/151 [00:00<?, ?it/s]"
      ]
     },
     "metadata": {},
     "output_type": "display_data"
    },
    {
     "name": "stdout",
     "output_type": "stream",
     "text": [
      "2022-09-07 20:13:53 - Binary Accuracy Evaluation of the model on  dataset after epoch 9:\n",
      "2022-09-07 20:13:53 - Accuracy with Cosine-Similarity:           80.30\t(Threshold: 0.1339)\n",
      "2022-09-07 20:13:53 - F1 with Cosine-Similarity:                 85.66\t(Threshold: -0.1190)\n",
      "2022-09-07 20:13:53 - Precision with Cosine-Similarity:          77.19\n",
      "2022-09-07 20:13:53 - Recall with Cosine-Similarity:             96.22\n",
      "2022-09-07 20:13:53 - Average Precision with Cosine-Similarity:  91.49\n",
      "\n",
      "2022-09-07 20:13:53 - Accuracy with Manhattan-Distance:           80.30\t(Threshold: 491.5757)\n",
      "2022-09-07 20:13:53 - F1 with Manhattan-Distance:                 85.66\t(Threshold: 536.0880)\n",
      "2022-09-07 20:13:53 - Precision with Manhattan-Distance:          77.58\n",
      "2022-09-07 20:13:53 - Recall with Manhattan-Distance:             95.63\n",
      "2022-09-07 20:13:53 - Average Precision with Manhattan-Distance:  91.57\n",
      "\n",
      "2022-09-07 20:13:53 - Accuracy with Euclidean-Distance:           80.17\t(Threshold: 21.9476)\n",
      "2022-09-07 20:13:53 - F1 with Euclidean-Distance:                 85.64\t(Threshold: 24.5331)\n",
      "2022-09-07 20:13:53 - Precision with Euclidean-Distance:          77.67\n",
      "2022-09-07 20:13:53 - Recall with Euclidean-Distance:             95.43\n",
      "2022-09-07 20:13:53 - Average Precision with Euclidean-Distance:  91.58\n",
      "\n",
      "2022-09-07 20:13:53 - Accuracy with Dot-Product:           80.30\t(Threshold: 35.0199)\n",
      "2022-09-07 20:13:53 - F1 with Dot-Product:                 85.66\t(Threshold: -32.7383)\n",
      "2022-09-07 20:13:53 - Precision with Dot-Product:          77.19\n",
      "2022-09-07 20:13:53 - Recall with Dot-Product:             96.22\n",
      "2022-09-07 20:13:53 - Average Precision with Dot-Product:  91.19\n",
      "\n",
      "Training done...\n",
      "\n",
      "\n",
      "\n",
      "                     ********** stsb-distilbert-base **********\n",
      "2022-09-07 20:13:53 - Load pretrained SentenceTransformer: binary_sim_output/stsb-distilbert-base\n",
      "2022-09-07 20:13:54 - Use pytorch device: cuda\n",
      "2022-09-07 20:13:54 - Softmax loss: #Vectors concatenated: 3\n",
      "2022-09-07 20:13:54 - EmbeddingSimilarityEvaluator: Evaluating the model on SPRAG-test dataset:\n",
      "2022-09-07 20:13:55 - Cosine-Similarity :\tPearson: 0.6379\tSpearman: 0.6225\n",
      "2022-09-07 20:13:55 - Manhattan-Distance:\tPearson: 0.6375\tSpearman: 0.6242\n",
      "2022-09-07 20:13:55 - Euclidean-Distance:\tPearson: 0.6386\tSpearman: 0.6244\n",
      "2022-09-07 20:13:55 - Dot-Product-Similarity:\tPearson: 0.6378\tSpearman: 0.6190\n",
      "2022-09-07 20:13:56 - Binary Accuracy Evaluation of the model on  dataset:\n",
      "2022-09-07 20:13:56 - Accuracy with Cosine-Similarity:           80.05\t(Threshold: 0.1865)\n",
      "2022-09-07 20:13:56 - F1 with Cosine-Similarity:                 85.64\t(Threshold: -0.1215)\n",
      "2022-09-07 20:13:56 - Precision with Cosine-Similarity:          77.28\n",
      "2022-09-07 20:13:56 - Recall with Cosine-Similarity:             96.02\n",
      "2022-09-07 20:13:56 - Average Precision with Cosine-Similarity:  91.62\n",
      "\n",
      "2022-09-07 20:13:56 - Accuracy with Manhattan-Distance:           80.30\t(Threshold: 473.5095)\n",
      "2022-09-07 20:13:56 - F1 with Manhattan-Distance:                 85.49\t(Threshold: 534.0582)\n",
      "2022-09-07 20:13:56 - Precision with Manhattan-Distance:          77.42\n",
      "2022-09-07 20:13:56 - Recall with Manhattan-Distance:             95.43\n",
      "2022-09-07 20:13:56 - Average Precision with Manhattan-Distance:  91.69\n",
      "\n",
      "2022-09-07 20:13:56 - Accuracy with Euclidean-Distance:           80.05\t(Threshold: 21.4942)\n",
      "2022-09-07 20:13:56 - F1 with Euclidean-Distance:                 85.64\t(Threshold: 25.0111)\n",
      "2022-09-07 20:13:56 - Precision with Euclidean-Distance:          77.28\n",
      "2022-09-07 20:13:56 - Recall with Euclidean-Distance:             96.02\n",
      "2022-09-07 20:13:56 - Average Precision with Euclidean-Distance:  91.70\n",
      "\n",
      "2022-09-07 20:13:56 - Accuracy with Dot-Product:           80.05\t(Threshold: 51.1052)\n",
      "2022-09-07 20:13:56 - F1 with Dot-Product:                 85.64\t(Threshold: -33.0247)\n",
      "2022-09-07 20:13:56 - Precision with Dot-Product:          77.28\n",
      "2022-09-07 20:13:56 - Recall with Dot-Product:             96.02\n",
      "2022-09-07 20:13:56 - Average Precision with Dot-Product:  91.30\n",
      "\n"
     ]
    },
    {
     "data": {
      "text/plain": [
       "0.9169582579942581"
      ]
     },
     "execution_count": 19,
     "metadata": {},
     "output_type": "execute_result"
    }
   ],
   "source": [
    "st_model = 'stsb-distilbert-base'\n",
    "num_epochs = 10\n",
    "batch_size=16\n",
    "model_save_path = \"binary_sim_output/\"+st_model\n",
    "train_dataloader = DataLoader(train_examples, shuffle=True, batch_size=batch_size)\n",
    "  \n",
    "test_dataloader = DataLoader(test_examples, shuffle=True, batch_size=batch_size)\n",
    "model = train_and_evaluate(st_model, train_dataloader, test_dataloader, num_epochs, model_save_path)\n",
    "print(\"\\n\\n\")\n",
    "print(\" \"*20, \"*\"*10, st_model , \"*\"*10)\n",
    "\n",
    "# Load the stored model and evaluate its performance on mohler test dataset\n",
    "model = SentenceTransformer(model_save_path)\n",
    "train_loss = losses.SoftmaxLoss(model=model, sentence_embedding_dimension=model.get_sentence_embedding_dimension(), num_labels=2)\n",
    "test_evaluator = evaluation.EmbeddingSimilarityEvaluator.from_input_examples(test_examples, batch_size=16, name='SPRAG-test')\n",
    "test_evaluator(model, output_path=model_save_path)\n",
    "train_loss.cuda()\n",
    "\n",
    "x_test_dA = test_data['ReferenceAnswer'].values.tolist()\n",
    "x_test_sA = test_data['StudentAnswer'].values.tolist()\n",
    "y_test = test_labels \n",
    "\n",
    "evaluator = evaluation.BinaryClassificationEvaluator(x_test_dA, x_test_sA, y_test)\n",
    "evaluator(model, output_path=model_save_path)\n"
   ]
  },
  {
   "cell_type": "code",
   "execution_count": 20,
   "id": "28ca7d4f",
   "metadata": {},
   "outputs": [
    {
     "name": "stdout",
     "output_type": "stream",
     "text": [
      "2022-09-07 20:13:56 - Load pretrained SentenceTransformer: sentence-transformers/paraphrase-albert-small-v2\n",
      "2022-09-07 20:13:56 - Use pytorch device: cuda\n",
      "2022-09-07 20:13:56 - Softmax loss: #Vectors concatenated: 3\n",
      "151\n"
     ]
    },
    {
     "data": {
      "application/vnd.jupyter.widget-view+json": {
       "model_id": "d2edfeb3d88944cfbbd3a0821dff951d",
       "version_major": 2,
       "version_minor": 0
      },
      "text/plain": [
       "Epoch:   0%|          | 0/10 [00:00<?, ?it/s]"
      ]
     },
     "metadata": {},
     "output_type": "display_data"
    },
    {
     "data": {
      "application/vnd.jupyter.widget-view+json": {
       "model_id": "361ab42b699548cf94b395d3a3c22c38",
       "version_major": 2,
       "version_minor": 0
      },
      "text/plain": [
       "Iteration:   0%|          | 0/151 [00:00<?, ?it/s]"
      ]
     },
     "metadata": {},
     "output_type": "display_data"
    },
    {
     "name": "stdout",
     "output_type": "stream",
     "text": [
      "2022-09-07 20:14:07 - Binary Accuracy Evaluation of the model on  dataset after epoch 0:\n",
      "2022-09-07 20:14:08 - Accuracy with Cosine-Similarity:           75.31\t(Threshold: 0.4840)\n",
      "2022-09-07 20:14:08 - F1 with Cosine-Similarity:                 81.96\t(Threshold: 0.3666)\n",
      "2022-09-07 20:14:08 - Precision with Cosine-Similarity:          72.16\n",
      "2022-09-07 20:14:08 - Recall with Cosine-Similarity:             94.83\n",
      "2022-09-07 20:14:08 - Average Precision with Cosine-Similarity:  87.65\n",
      "\n",
      "2022-09-07 20:14:08 - Accuracy with Manhattan-Distance:           74.31\t(Threshold: 477.2397)\n",
      "2022-09-07 20:14:08 - F1 with Manhattan-Distance:                 81.29\t(Threshold: 515.5353)\n",
      "2022-09-07 20:14:08 - Precision with Manhattan-Distance:          72.29\n",
      "2022-09-07 20:14:08 - Recall with Manhattan-Distance:             92.84\n",
      "2022-09-07 20:14:08 - Average Precision with Manhattan-Distance:  86.52\n",
      "\n",
      "2022-09-07 20:14:08 - Accuracy with Euclidean-Distance:           74.56\t(Threshold: 21.7785)\n",
      "2022-09-07 20:14:08 - F1 with Euclidean-Distance:                 81.22\t(Threshold: 23.4892)\n",
      "2022-09-07 20:14:08 - Precision with Euclidean-Distance:          72.18\n",
      "2022-09-07 20:14:08 - Recall with Euclidean-Distance:             92.84\n",
      "2022-09-07 20:14:08 - Average Precision with Euclidean-Distance:  86.56\n",
      "\n",
      "2022-09-07 20:14:08 - Accuracy with Dot-Product:           73.44\t(Threshold: 206.6208)\n",
      "2022-09-07 20:14:08 - F1 with Dot-Product:                 81.29\t(Threshold: 127.1934)\n",
      "2022-09-07 20:14:08 - Precision with Dot-Product:          69.65\n",
      "2022-09-07 20:14:08 - Recall with Dot-Product:             97.61\n",
      "2022-09-07 20:14:08 - Average Precision with Dot-Product:  84.57\n",
      "\n",
      "2022-09-07 20:14:08 - Save model to binary_sim_output/sentence-transformers/paraphrase-albert-small-v2\n"
     ]
    },
    {
     "data": {
      "application/vnd.jupyter.widget-view+json": {
       "model_id": "f231c163cf9d4c53a4953c454fa35d08",
       "version_major": 2,
       "version_minor": 0
      },
      "text/plain": [
       "Iteration:   0%|          | 0/151 [00:00<?, ?it/s]"
      ]
     },
     "metadata": {},
     "output_type": "display_data"
    },
    {
     "name": "stdout",
     "output_type": "stream",
     "text": [
      "2022-09-07 20:14:19 - Binary Accuracy Evaluation of the model on  dataset after epoch 1:\n",
      "2022-09-07 20:14:20 - Accuracy with Cosine-Similarity:           78.43\t(Threshold: 0.4720)\n",
      "2022-09-07 20:14:20 - F1 with Cosine-Similarity:                 84.53\t(Threshold: 0.3882)\n",
      "2022-09-07 20:14:20 - Precision with Cosine-Similarity:          76.11\n",
      "2022-09-07 20:14:20 - Recall with Cosine-Similarity:             95.03\n",
      "2022-09-07 20:14:20 - Average Precision with Cosine-Similarity:  89.13\n",
      "\n",
      "2022-09-07 20:14:20 - Accuracy with Manhattan-Distance:           78.30\t(Threshold: 579.1634)\n",
      "2022-09-07 20:14:20 - F1 with Manhattan-Distance:                 84.24\t(Threshold: 579.1634)\n",
      "2022-09-07 20:14:20 - Precision with Manhattan-Distance:          77.37\n",
      "2022-09-07 20:14:20 - Recall with Manhattan-Distance:             92.45\n",
      "2022-09-07 20:14:20 - Average Precision with Manhattan-Distance:  88.74\n",
      "\n",
      "2022-09-07 20:14:20 - Accuracy with Euclidean-Distance:           78.55\t(Threshold: 25.6929)\n",
      "2022-09-07 20:14:20 - F1 with Euclidean-Distance:                 83.99\t(Threshold: 25.6929)\n",
      "2022-09-07 20:14:20 - Precision with Euclidean-Distance:          78.98\n",
      "2022-09-07 20:14:20 - Recall with Euclidean-Distance:             89.66\n",
      "2022-09-07 20:14:20 - Average Precision with Euclidean-Distance:  88.77\n",
      "\n",
      "2022-09-07 20:14:20 - Accuracy with Dot-Product:           77.68\t(Threshold: 260.5001)\n",
      "2022-09-07 20:14:20 - F1 with Dot-Product:                 83.22\t(Threshold: 217.2276)\n",
      "2022-09-07 20:14:20 - Precision with Dot-Product:          74.88\n",
      "2022-09-07 20:14:20 - Recall with Dot-Product:             93.64\n",
      "2022-09-07 20:14:20 - Average Precision with Dot-Product:  87.28\n",
      "\n",
      "2022-09-07 20:14:20 - Save model to binary_sim_output/sentence-transformers/paraphrase-albert-small-v2\n"
     ]
    },
    {
     "data": {
      "application/vnd.jupyter.widget-view+json": {
       "model_id": "39d0b2e67f62483889a0e6e471b025d6",
       "version_major": 2,
       "version_minor": 0
      },
      "text/plain": [
       "Iteration:   0%|          | 0/151 [00:00<?, ?it/s]"
      ]
     },
     "metadata": {},
     "output_type": "display_data"
    },
    {
     "name": "stdout",
     "output_type": "stream",
     "text": [
      "2022-09-07 20:14:31 - Binary Accuracy Evaluation of the model on  dataset after epoch 2:\n",
      "2022-09-07 20:14:32 - Accuracy with Cosine-Similarity:           78.93\t(Threshold: 0.4130)\n",
      "2022-09-07 20:14:32 - F1 with Cosine-Similarity:                 84.42\t(Threshold: 0.3532)\n",
      "2022-09-07 20:14:32 - Precision with Cosine-Similarity:          77.54\n",
      "2022-09-07 20:14:32 - Recall with Cosine-Similarity:             92.64\n",
      "2022-09-07 20:14:32 - Average Precision with Cosine-Similarity:  89.60\n",
      "\n",
      "2022-09-07 20:14:32 - Accuracy with Manhattan-Distance:           79.30\t(Threshold: 628.4453)\n",
      "2022-09-07 20:14:32 - F1 with Manhattan-Distance:                 84.31\t(Threshold: 628.4453)\n",
      "2022-09-07 20:14:32 - Precision with Manhattan-Distance:          80.36\n",
      "2022-09-07 20:14:32 - Recall with Manhattan-Distance:             88.67\n",
      "2022-09-07 20:14:32 - Average Precision with Manhattan-Distance:  89.50\n",
      "\n",
      "2022-09-07 20:14:32 - Accuracy with Euclidean-Distance:           79.18\t(Threshold: 28.1818)\n",
      "2022-09-07 20:14:32 - F1 with Euclidean-Distance:                 84.23\t(Threshold: 29.1627)\n",
      "2022-09-07 20:14:32 - Precision with Euclidean-Distance:          78.96\n",
      "2022-09-07 20:14:32 - Recall with Euclidean-Distance:             90.26\n",
      "2022-09-07 20:14:32 - Average Precision with Euclidean-Distance:  89.49\n",
      "\n",
      "2022-09-07 20:14:32 - Accuracy with Dot-Product:           78.05\t(Threshold: 245.3528)\n",
      "2022-09-07 20:14:32 - F1 with Dot-Product:                 83.82\t(Threshold: 244.9797)\n",
      "2022-09-07 20:14:32 - Precision with Dot-Product:          77.95\n",
      "2022-09-07 20:14:32 - Recall with Dot-Product:             90.66\n",
      "2022-09-07 20:14:32 - Average Precision with Dot-Product:  88.08\n",
      "\n",
      "2022-09-07 20:14:32 - Save model to binary_sim_output/sentence-transformers/paraphrase-albert-small-v2\n"
     ]
    },
    {
     "data": {
      "application/vnd.jupyter.widget-view+json": {
       "model_id": "ad926500bab14cd39a5509853b3f04f8",
       "version_major": 2,
       "version_minor": 0
      },
      "text/plain": [
       "Iteration:   0%|          | 0/151 [00:00<?, ?it/s]"
      ]
     },
     "metadata": {},
     "output_type": "display_data"
    },
    {
     "name": "stdout",
     "output_type": "stream",
     "text": [
      "2022-09-07 20:14:44 - Binary Accuracy Evaluation of the model on  dataset after epoch 3:\n",
      "2022-09-07 20:14:44 - Accuracy with Cosine-Similarity:           79.55\t(Threshold: 0.4282)\n",
      "2022-09-07 20:14:44 - F1 with Cosine-Similarity:                 84.60\t(Threshold: 0.3545)\n",
      "2022-09-07 20:14:44 - Precision with Cosine-Similarity:          77.70\n",
      "2022-09-07 20:14:44 - Recall with Cosine-Similarity:             92.84\n",
      "2022-09-07 20:14:44 - Average Precision with Cosine-Similarity:  89.24\n",
      "\n",
      "2022-09-07 20:14:44 - Accuracy with Manhattan-Distance:           79.80\t(Threshold: 679.5739)\n",
      "2022-09-07 20:14:44 - F1 with Manhattan-Distance:                 84.80\t(Threshold: 679.5739)\n",
      "2022-09-07 20:14:44 - Precision with Manhattan-Distance:          80.28\n",
      "2022-09-07 20:14:44 - Recall with Manhattan-Distance:             89.86\n",
      "2022-09-07 20:14:44 - Average Precision with Manhattan-Distance:  89.45\n",
      "\n",
      "2022-09-07 20:14:44 - Accuracy with Euclidean-Distance:           79.43\t(Threshold: 30.7250)\n",
      "2022-09-07 20:14:44 - F1 with Euclidean-Distance:                 84.61\t(Threshold: 31.5139)\n",
      "2022-09-07 20:14:44 - Precision with Euclidean-Distance:          78.87\n",
      "2022-09-07 20:14:44 - Recall with Euclidean-Distance:             91.25\n",
      "2022-09-07 20:14:44 - Average Precision with Euclidean-Distance:  89.43\n",
      "\n",
      "2022-09-07 20:14:44 - Accuracy with Dot-Product:           78.55\t(Threshold: 332.7961)\n",
      "2022-09-07 20:14:44 - F1 with Dot-Product:                 84.18\t(Threshold: 284.8229)\n",
      "2022-09-07 20:14:44 - Precision with Dot-Product:          77.55\n",
      "2022-09-07 20:14:44 - Recall with Dot-Product:             92.05\n",
      "2022-09-07 20:14:44 - Average Precision with Dot-Product:  87.85\n",
      "\n"
     ]
    },
    {
     "data": {
      "application/vnd.jupyter.widget-view+json": {
       "model_id": "9081a8d214944ae999852d3f2389752c",
       "version_major": 2,
       "version_minor": 0
      },
      "text/plain": [
       "Iteration:   0%|          | 0/151 [00:00<?, ?it/s]"
      ]
     },
     "metadata": {},
     "output_type": "display_data"
    },
    {
     "name": "stdout",
     "output_type": "stream",
     "text": [
      "2022-09-07 20:14:56 - Binary Accuracy Evaluation of the model on  dataset after epoch 4:\n",
      "2022-09-07 20:14:56 - Accuracy with Cosine-Similarity:           80.42\t(Threshold: 0.3869)\n",
      "2022-09-07 20:14:56 - F1 with Cosine-Similarity:                 84.93\t(Threshold: 0.3553)\n",
      "2022-09-07 20:14:56 - Precision with Cosine-Similarity:          81.16\n",
      "2022-09-07 20:14:56 - Recall with Cosine-Similarity:             89.07\n",
      "2022-09-07 20:14:56 - Average Precision with Cosine-Similarity:  90.38\n",
      "\n",
      "2022-09-07 20:14:56 - Accuracy with Manhattan-Distance:           80.30\t(Threshold: 715.6819)\n",
      "2022-09-07 20:14:56 - F1 with Manhattan-Distance:                 85.01\t(Threshold: 720.7626)\n",
      "2022-09-07 20:14:56 - Precision with Manhattan-Distance:          81.31\n",
      "2022-09-07 20:14:56 - Recall with Manhattan-Distance:             89.07\n",
      "2022-09-07 20:14:56 - Average Precision with Manhattan-Distance:  90.50\n",
      "\n",
      "2022-09-07 20:14:56 - Accuracy with Euclidean-Distance:           80.42\t(Threshold: 32.6395)\n",
      "2022-09-07 20:14:56 - F1 with Euclidean-Distance:                 85.03\t(Threshold: 32.7471)\n",
      "2022-09-07 20:14:56 - Precision with Euclidean-Distance:          81.68\n",
      "2022-09-07 20:14:56 - Recall with Euclidean-Distance:             88.67\n",
      "2022-09-07 20:14:56 - Average Precision with Euclidean-Distance:  90.48\n",
      "\n",
      "2022-09-07 20:14:56 - Accuracy with Dot-Product:           79.68\t(Threshold: 324.8344)\n",
      "2022-09-07 20:14:56 - F1 with Dot-Product:                 84.90\t(Threshold: 222.9228)\n",
      "2022-09-07 20:14:56 - Precision with Dot-Product:          78.64\n",
      "2022-09-07 20:14:56 - Recall with Dot-Product:             92.25\n",
      "2022-09-07 20:14:56 - Average Precision with Dot-Product:  89.63\n",
      "\n",
      "2022-09-07 20:14:56 - Save model to binary_sim_output/sentence-transformers/paraphrase-albert-small-v2\n"
     ]
    },
    {
     "data": {
      "application/vnd.jupyter.widget-view+json": {
       "model_id": "52c9179b7a67439389ca643608aeb90f",
       "version_major": 2,
       "version_minor": 0
      },
      "text/plain": [
       "Iteration:   0%|          | 0/151 [00:00<?, ?it/s]"
      ]
     },
     "metadata": {},
     "output_type": "display_data"
    },
    {
     "name": "stdout",
     "output_type": "stream",
     "text": [
      "2022-09-07 20:15:08 - Binary Accuracy Evaluation of the model on  dataset after epoch 5:\n",
      "2022-09-07 20:15:09 - Accuracy with Cosine-Similarity:           79.43\t(Threshold: 0.3391)\n",
      "2022-09-07 20:15:09 - F1 with Cosine-Similarity:                 84.30\t(Threshold: 0.3391)\n",
      "2022-09-07 20:15:09 - Precision with Cosine-Similarity:          80.84\n",
      "2022-09-07 20:15:09 - Recall with Cosine-Similarity:             88.07\n",
      "2022-09-07 20:15:09 - Average Precision with Cosine-Similarity:  90.09\n",
      "\n",
      "2022-09-07 20:15:09 - Accuracy with Manhattan-Distance:           79.43\t(Threshold: 746.6184)\n",
      "2022-09-07 20:15:09 - F1 with Manhattan-Distance:                 84.36\t(Threshold: 755.7258)\n",
      "2022-09-07 20:15:09 - Precision with Manhattan-Distance:          80.62\n",
      "2022-09-07 20:15:09 - Recall with Manhattan-Distance:             88.47\n",
      "2022-09-07 20:15:09 - Average Precision with Manhattan-Distance:  90.22\n",
      "\n",
      "2022-09-07 20:15:09 - Accuracy with Euclidean-Distance:           79.43\t(Threshold: 34.5588)\n",
      "2022-09-07 20:15:09 - F1 with Euclidean-Distance:                 84.48\t(Threshold: 35.0794)\n",
      "2022-09-07 20:15:09 - Precision with Euclidean-Distance:          80.18\n",
      "2022-09-07 20:15:09 - Recall with Euclidean-Distance:             89.26\n",
      "2022-09-07 20:15:09 - Average Precision with Euclidean-Distance:  90.24\n",
      "\n",
      "2022-09-07 20:15:09 - Accuracy with Dot-Product:           79.68\t(Threshold: 338.5946)\n",
      "2022-09-07 20:15:09 - F1 with Dot-Product:                 84.43\t(Threshold: 309.3791)\n",
      "2022-09-07 20:15:09 - Precision with Dot-Product:          81.25\n",
      "2022-09-07 20:15:09 - Recall with Dot-Product:             87.87\n",
      "2022-09-07 20:15:09 - Average Precision with Dot-Product:  89.32\n",
      "\n"
     ]
    },
    {
     "data": {
      "application/vnd.jupyter.widget-view+json": {
       "model_id": "bd98ccc3110c428aa0555025cfc2cbf5",
       "version_major": 2,
       "version_minor": 0
      },
      "text/plain": [
       "Iteration:   0%|          | 0/151 [00:00<?, ?it/s]"
      ]
     },
     "metadata": {},
     "output_type": "display_data"
    },
    {
     "name": "stdout",
     "output_type": "stream",
     "text": [
      "2022-09-07 20:15:20 - Binary Accuracy Evaluation of the model on  dataset after epoch 6:\n",
      "2022-09-07 20:15:20 - Accuracy with Cosine-Similarity:           79.68\t(Threshold: 0.3797)\n",
      "2022-09-07 20:15:20 - F1 with Cosine-Similarity:                 84.32\t(Threshold: 0.1901)\n",
      "2022-09-07 20:15:20 - Precision with Cosine-Similarity:          77.50\n",
      "2022-09-07 20:15:20 - Recall with Cosine-Similarity:             92.45\n",
      "2022-09-07 20:15:20 - Average Precision with Cosine-Similarity:  90.44\n",
      "\n",
      "2022-09-07 20:15:20 - Accuracy with Manhattan-Distance:           80.05\t(Threshold: 746.1135)\n",
      "2022-09-07 20:15:20 - F1 with Manhattan-Distance:                 84.73\t(Threshold: 749.9699)\n",
      "2022-09-07 20:15:20 - Precision with Manhattan-Distance:          81.47\n",
      "2022-09-07 20:15:20 - Recall with Manhattan-Distance:             88.27\n",
      "2022-09-07 20:15:20 - Average Precision with Manhattan-Distance:  90.64\n",
      "\n",
      "2022-09-07 20:15:20 - Accuracy with Euclidean-Distance:           79.93\t(Threshold: 34.0308)\n",
      "2022-09-07 20:15:20 - F1 with Euclidean-Distance:                 84.65\t(Threshold: 34.3905)\n",
      "2022-09-07 20:15:20 - Precision with Euclidean-Distance:          81.32\n",
      "2022-09-07 20:15:20 - Recall with Euclidean-Distance:             88.27\n",
      "2022-09-07 20:15:20 - Average Precision with Euclidean-Distance:  90.63\n",
      "\n",
      "2022-09-07 20:15:21 - Accuracy with Dot-Product:           79.30\t(Threshold: 316.9846)\n",
      "2022-09-07 20:15:21 - F1 with Dot-Product:                 84.40\t(Threshold: 204.1264)\n",
      "2022-09-07 20:15:21 - Precision with Dot-Product:          78.36\n",
      "2022-09-07 20:15:21 - Recall with Dot-Product:             91.45\n",
      "2022-09-07 20:15:21 - Average Precision with Dot-Product:  89.79\n",
      "\n",
      "2022-09-07 20:15:21 - Save model to binary_sim_output/sentence-transformers/paraphrase-albert-small-v2\n"
     ]
    },
    {
     "data": {
      "application/vnd.jupyter.widget-view+json": {
       "model_id": "76d36d0fb6c4420b96d4b19ac6af69c5",
       "version_major": 2,
       "version_minor": 0
      },
      "text/plain": [
       "Iteration:   0%|          | 0/151 [00:00<?, ?it/s]"
      ]
     },
     "metadata": {},
     "output_type": "display_data"
    },
    {
     "name": "stdout",
     "output_type": "stream",
     "text": [
      "2022-09-07 20:15:32 - Binary Accuracy Evaluation of the model on  dataset after epoch 7:\n",
      "2022-09-07 20:15:33 - Accuracy with Cosine-Similarity:           79.93\t(Threshold: 0.3814)\n",
      "2022-09-07 20:15:33 - F1 with Cosine-Similarity:                 84.44\t(Threshold: 0.3814)\n",
      "2022-09-07 20:15:33 - Precision with Cosine-Similarity:          82.14\n",
      "2022-09-07 20:15:33 - Recall with Cosine-Similarity:             86.88\n",
      "2022-09-07 20:15:33 - Average Precision with Cosine-Similarity:  90.66\n",
      "\n",
      "2022-09-07 20:15:33 - Accuracy with Manhattan-Distance:           79.55\t(Threshold: 755.4516)\n",
      "2022-09-07 20:15:33 - F1 with Manhattan-Distance:                 84.44\t(Threshold: 755.4516)\n",
      "2022-09-07 20:15:33 - Precision with Manhattan-Distance:          80.76\n",
      "2022-09-07 20:15:33 - Recall with Manhattan-Distance:             88.47\n",
      "2022-09-07 20:15:33 - Average Precision with Manhattan-Distance:  90.87\n",
      "\n",
      "2022-09-07 20:15:33 - Accuracy with Euclidean-Distance:           79.80\t(Threshold: 33.8738)\n",
      "2022-09-07 20:15:33 - F1 with Euclidean-Distance:                 84.48\t(Threshold: 34.0241)\n",
      "2022-09-07 20:15:33 - Precision with Euclidean-Distance:          81.52\n",
      "2022-09-07 20:15:33 - Recall with Euclidean-Distance:             87.67\n",
      "2022-09-07 20:15:33 - Average Precision with Euclidean-Distance:  90.87\n",
      "\n",
      "2022-09-07 20:15:33 - Accuracy with Dot-Product:           79.30\t(Threshold: 323.8835)\n",
      "2022-09-07 20:15:33 - F1 with Dot-Product:                 84.36\t(Threshold: 254.9619)\n",
      "2022-09-07 20:15:33 - Precision with Dot-Product:          79.33\n",
      "2022-09-07 20:15:33 - Recall with Dot-Product:             90.06\n",
      "2022-09-07 20:15:33 - Average Precision with Dot-Product:  89.94\n",
      "\n",
      "2022-09-07 20:15:33 - Save model to binary_sim_output/sentence-transformers/paraphrase-albert-small-v2\n"
     ]
    },
    {
     "data": {
      "application/vnd.jupyter.widget-view+json": {
       "model_id": "b641e6d1094d421aac9168c24f22c9e7",
       "version_major": 2,
       "version_minor": 0
      },
      "text/plain": [
       "Iteration:   0%|          | 0/151 [00:00<?, ?it/s]"
      ]
     },
     "metadata": {},
     "output_type": "display_data"
    },
    {
     "name": "stdout",
     "output_type": "stream",
     "text": [
      "2022-09-07 20:15:44 - Binary Accuracy Evaluation of the model on  dataset after epoch 8:\n",
      "2022-09-07 20:15:45 - Accuracy with Cosine-Similarity:           79.68\t(Threshold: 0.3895)\n",
      "2022-09-07 20:15:45 - F1 with Cosine-Similarity:                 84.22\t(Threshold: 0.3832)\n",
      "2022-09-07 20:15:45 - Precision with Cosine-Similarity:          82.08\n",
      "2022-09-07 20:15:45 - Recall with Cosine-Similarity:             86.48\n",
      "2022-09-07 20:15:45 - Average Precision with Cosine-Similarity:  90.63\n",
      "\n",
      "2022-09-07 20:15:45 - Accuracy with Manhattan-Distance:           79.68\t(Threshold: 754.3540)\n",
      "2022-09-07 20:15:45 - F1 with Manhattan-Distance:                 84.46\t(Threshold: 754.3540)\n",
      "2022-09-07 20:15:45 - Precision with Manhattan-Distance:          81.14\n",
      "2022-09-07 20:15:45 - Recall with Manhattan-Distance:             88.07\n",
      "2022-09-07 20:15:45 - Average Precision with Manhattan-Distance:  90.83\n",
      "\n",
      "2022-09-07 20:15:45 - Accuracy with Euclidean-Distance:           79.55\t(Threshold: 34.9513)\n",
      "2022-09-07 20:15:45 - F1 with Euclidean-Distance:                 84.53\t(Threshold: 34.9513)\n",
      "2022-09-07 20:15:45 - Precision with Euclidean-Distance:          80.43\n",
      "2022-09-07 20:15:45 - Recall with Euclidean-Distance:             89.07\n",
      "2022-09-07 20:15:45 - Average Precision with Euclidean-Distance:  90.80\n",
      "\n",
      "2022-09-07 20:15:45 - Accuracy with Dot-Product:           79.55\t(Threshold: 345.1223)\n",
      "2022-09-07 20:15:45 - F1 with Dot-Product:                 84.20\t(Threshold: 205.3265)\n",
      "2022-09-07 20:15:45 - Precision with Dot-Product:          77.87\n",
      "2022-09-07 20:15:45 - Recall with Dot-Product:             91.65\n",
      "2022-09-07 20:15:45 - Average Precision with Dot-Product:  89.95\n",
      "\n"
     ]
    },
    {
     "data": {
      "application/vnd.jupyter.widget-view+json": {
       "model_id": "6317f42cac964826907fdaa0967b6597",
       "version_major": 2,
       "version_minor": 0
      },
      "text/plain": [
       "Iteration:   0%|          | 0/151 [00:00<?, ?it/s]"
      ]
     },
     "metadata": {},
     "output_type": "display_data"
    },
    {
     "name": "stdout",
     "output_type": "stream",
     "text": [
      "2022-09-07 20:15:56 - Binary Accuracy Evaluation of the model on  dataset after epoch 9:\n",
      "2022-09-07 20:15:57 - Accuracy with Cosine-Similarity:           79.80\t(Threshold: 0.3870)\n",
      "2022-09-07 20:15:57 - F1 with Cosine-Similarity:                 84.36\t(Threshold: 0.3822)\n",
      "2022-09-07 20:15:57 - Precision with Cosine-Similarity:          81.99\n",
      "2022-09-07 20:15:57 - Recall with Cosine-Similarity:             86.88\n",
      "2022-09-07 20:15:57 - Average Precision with Cosine-Similarity:  90.59\n",
      "\n",
      "2022-09-07 20:15:57 - Accuracy with Manhattan-Distance:           79.68\t(Threshold: 756.3484)\n",
      "2022-09-07 20:15:57 - F1 with Manhattan-Distance:                 84.58\t(Threshold: 759.2037)\n",
      "2022-09-07 20:15:57 - Precision with Manhattan-Distance:          80.69\n",
      "2022-09-07 20:15:57 - Recall with Manhattan-Distance:             88.87\n",
      "2022-09-07 20:15:57 - Average Precision with Manhattan-Distance:  90.80\n",
      "\n",
      "2022-09-07 20:15:57 - Accuracy with Euclidean-Distance:           79.55\t(Threshold: 34.5855)\n",
      "2022-09-07 20:15:57 - F1 with Euclidean-Distance:                 84.53\t(Threshold: 34.9124)\n",
      "2022-09-07 20:15:57 - Precision with Euclidean-Distance:          80.43\n",
      "2022-09-07 20:15:57 - Recall with Euclidean-Distance:             89.07\n",
      "2022-09-07 20:15:57 - Average Precision with Euclidean-Distance:  90.77\n",
      "\n",
      "2022-09-07 20:15:57 - Accuracy with Dot-Product:           79.55\t(Threshold: 364.2504)\n",
      "2022-09-07 20:15:57 - F1 with Dot-Product:                 84.26\t(Threshold: 197.2447)\n",
      "2022-09-07 20:15:57 - Precision with Dot-Product:          77.68\n",
      "2022-09-07 20:15:57 - Recall with Dot-Product:             92.05\n",
      "2022-09-07 20:15:57 - Average Precision with Dot-Product:  89.86\n",
      "\n",
      "Training done...\n",
      "\n",
      "\n",
      "\n",
      "                     ********** sentence-transformers/paraphrase-albert-small-v2 **********\n",
      "2022-09-07 20:15:57 - Load pretrained SentenceTransformer: binary_sim_output/sentence-transformers/paraphrase-albert-small-v2\n",
      "2022-09-07 20:15:57 - Use pytorch device: cuda\n",
      "2022-09-07 20:15:57 - Softmax loss: #Vectors concatenated: 3\n",
      "2022-09-07 20:15:57 - EmbeddingSimilarityEvaluator: Evaluating the model on SPRAG-test dataset:\n",
      "2022-09-07 20:15:58 - Cosine-Similarity :\tPearson: 0.6109\tSpearman: 0.6006\n",
      "2022-09-07 20:15:58 - Manhattan-Distance:\tPearson: 0.5896\tSpearman: 0.6028\n",
      "2022-09-07 20:15:58 - Euclidean-Distance:\tPearson: 0.5913\tSpearman: 0.6038\n",
      "2022-09-07 20:15:58 - Dot-Product-Similarity:\tPearson: 0.6035\tSpearman: 0.5895\n",
      "2022-09-07 20:15:58 - Binary Accuracy Evaluation of the model on  dataset:\n",
      "2022-09-07 20:15:59 - Accuracy with Cosine-Similarity:           79.93\t(Threshold: 0.3814)\n",
      "2022-09-07 20:15:59 - F1 with Cosine-Similarity:                 84.44\t(Threshold: 0.3814)\n",
      "2022-09-07 20:15:59 - Precision with Cosine-Similarity:          82.14\n",
      "2022-09-07 20:15:59 - Recall with Cosine-Similarity:             86.88\n",
      "2022-09-07 20:15:59 - Average Precision with Cosine-Similarity:  90.66\n",
      "\n",
      "2022-09-07 20:15:59 - Accuracy with Manhattan-Distance:           79.55\t(Threshold: 755.4516)\n",
      "2022-09-07 20:15:59 - F1 with Manhattan-Distance:                 84.44\t(Threshold: 755.4516)\n",
      "2022-09-07 20:15:59 - Precision with Manhattan-Distance:          80.76\n",
      "2022-09-07 20:15:59 - Recall with Manhattan-Distance:             88.47\n",
      "2022-09-07 20:15:59 - Average Precision with Manhattan-Distance:  90.87\n",
      "\n",
      "2022-09-07 20:15:59 - Accuracy with Euclidean-Distance:           79.80\t(Threshold: 33.8738)\n",
      "2022-09-07 20:15:59 - F1 with Euclidean-Distance:                 84.48\t(Threshold: 34.0241)\n",
      "2022-09-07 20:15:59 - Precision with Euclidean-Distance:          81.52\n",
      "2022-09-07 20:15:59 - Recall with Euclidean-Distance:             87.67\n",
      "2022-09-07 20:15:59 - Average Precision with Euclidean-Distance:  90.87\n",
      "\n",
      "2022-09-07 20:15:59 - Accuracy with Dot-Product:           79.30\t(Threshold: 323.8835)\n",
      "2022-09-07 20:15:59 - F1 with Dot-Product:                 84.36\t(Threshold: 254.9619)\n",
      "2022-09-07 20:15:59 - Precision with Dot-Product:          79.33\n",
      "2022-09-07 20:15:59 - Recall with Dot-Product:             90.06\n",
      "2022-09-07 20:15:59 - Average Precision with Dot-Product:  89.94\n",
      "\n"
     ]
    },
    {
     "data": {
      "text/plain": [
       "0.9087375096650468"
      ]
     },
     "execution_count": 20,
     "metadata": {},
     "output_type": "execute_result"
    }
   ],
   "source": [
    "st_model = 'sentence-transformers/paraphrase-albert-small-v2'\n",
    "num_epochs = 10\n",
    "batch_size=16\n",
    "model_save_path = \"binary_sim_output/\"+st_model\n",
    "train_dataloader = DataLoader(train_examples, shuffle=True, batch_size=batch_size)\n",
    "  \n",
    "test_dataloader = DataLoader(test_examples, shuffle=True, batch_size=batch_size)\n",
    "model = train_and_evaluate(st_model, train_dataloader, test_dataloader, num_epochs, model_save_path)\n",
    "print(\"\\n\\n\")\n",
    "print(\" \"*20, \"*\"*10, st_model , \"*\"*10)\n",
    "\n",
    "# Load the stored model and evaluate its performance on mohler test dataset\n",
    "model = SentenceTransformer(model_save_path)\n",
    "train_loss = losses.SoftmaxLoss(model=model, sentence_embedding_dimension=model.get_sentence_embedding_dimension(), num_labels=2)\n",
    "test_evaluator = evaluation.EmbeddingSimilarityEvaluator.from_input_examples(test_examples, batch_size=16, name='SPRAG-test')\n",
    "test_evaluator(model, output_path=model_save_path)\n",
    "train_loss.cuda()\n",
    "\n",
    "x_test_dA = test_data['ReferenceAnswer'].values.tolist()\n",
    "x_test_sA = test_data['StudentAnswer'].values.tolist()\n",
    "y_test = test_labels \n",
    "\n",
    "evaluator = evaluation.BinaryClassificationEvaluator(x_test_dA, x_test_sA, y_test)\n",
    "evaluator(model, output_path=model_save_path)\n"
   ]
  },
  {
   "cell_type": "code",
   "execution_count": 21,
   "id": "513f89bc",
   "metadata": {},
   "outputs": [
    {
     "name": "stdout",
     "output_type": "stream",
     "text": [
      "2022-09-07 20:15:59 - Load pretrained SentenceTransformer: sentence-transformers/quora-distilbert-base\n",
      "2022-09-07 20:16:00 - Use pytorch device: cuda\n",
      "2022-09-07 20:16:00 - Softmax loss: #Vectors concatenated: 3\n",
      "151\n"
     ]
    },
    {
     "data": {
      "application/vnd.jupyter.widget-view+json": {
       "model_id": "0a79b423b9ed474db06e375ae80bc629",
       "version_major": 2,
       "version_minor": 0
      },
      "text/plain": [
       "Epoch:   0%|          | 0/10 [00:00<?, ?it/s]"
      ]
     },
     "metadata": {},
     "output_type": "display_data"
    },
    {
     "data": {
      "application/vnd.jupyter.widget-view+json": {
       "model_id": "cac25426d96f432aad0a55dab551160b",
       "version_major": 2,
       "version_minor": 0
      },
      "text/plain": [
       "Iteration:   0%|          | 0/151 [00:00<?, ?it/s]"
      ]
     },
     "metadata": {},
     "output_type": "display_data"
    },
    {
     "name": "stdout",
     "output_type": "stream",
     "text": [
      "2022-09-07 20:16:12 - Binary Accuracy Evaluation of the model on  dataset after epoch 0:\n",
      "2022-09-07 20:16:13 - Accuracy with Cosine-Similarity:           79.05\t(Threshold: 0.5462)\n",
      "2022-09-07 20:16:13 - F1 with Cosine-Similarity:                 84.62\t(Threshold: 0.3939)\n",
      "2022-09-07 20:16:13 - Precision with Cosine-Similarity:          75.51\n",
      "2022-09-07 20:16:13 - Recall with Cosine-Similarity:             96.22\n",
      "2022-09-07 20:16:13 - Average Precision with Cosine-Similarity:  90.51\n",
      "\n",
      "2022-09-07 20:16:13 - Accuracy with Manhattan-Distance:           78.68\t(Threshold: 290.1735)\n",
      "2022-09-07 20:16:13 - F1 with Manhattan-Distance:                 84.44\t(Threshold: 309.6839)\n",
      "2022-09-07 20:16:13 - Precision with Manhattan-Distance:          77.85\n",
      "2022-09-07 20:16:13 - Recall with Manhattan-Distance:             92.25\n",
      "2022-09-07 20:16:13 - Average Precision with Manhattan-Distance:  89.45\n",
      "\n",
      "2022-09-07 20:16:13 - Accuracy with Euclidean-Distance:           78.80\t(Threshold: 13.9002)\n",
      "2022-09-07 20:16:13 - F1 with Euclidean-Distance:                 84.30\t(Threshold: 14.2102)\n",
      "2022-09-07 20:16:13 - Precision with Euclidean-Distance:          78.33\n",
      "2022-09-07 20:16:13 - Recall with Euclidean-Distance:             91.25\n",
      "2022-09-07 20:16:13 - Average Precision with Euclidean-Distance:  89.42\n",
      "\n",
      "2022-09-07 20:16:13 - Accuracy with Dot-Product:           78.55\t(Threshold: 77.1499)\n",
      "2022-09-07 20:16:13 - F1 with Dot-Product:                 84.16\t(Threshold: 77.1499)\n",
      "2022-09-07 20:16:13 - Precision with Dot-Product:          78.39\n",
      "2022-09-07 20:16:13 - Recall with Dot-Product:             90.85\n",
      "2022-09-07 20:16:13 - Average Precision with Dot-Product:  89.29\n",
      "\n",
      "2022-09-07 20:16:13 - Save model to binary_sim_output/sentence-transformers/quora-distilbert-base\n"
     ]
    },
    {
     "data": {
      "application/vnd.jupyter.widget-view+json": {
       "model_id": "2c15b9af06d744f78b1c522aec8ea39a",
       "version_major": 2,
       "version_minor": 0
      },
      "text/plain": [
       "Iteration:   0%|          | 0/151 [00:00<?, ?it/s]"
      ]
     },
     "metadata": {},
     "output_type": "display_data"
    },
    {
     "name": "stdout",
     "output_type": "stream",
     "text": [
      "2022-09-07 20:16:26 - Binary Accuracy Evaluation of the model on  dataset after epoch 1:\n",
      "2022-09-07 20:16:27 - Accuracy with Cosine-Similarity:           81.67\t(Threshold: 0.4223)\n",
      "2022-09-07 20:16:27 - F1 with Cosine-Similarity:                 86.27\t(Threshold: 0.4223)\n",
      "2022-09-07 20:16:27 - Precision with Cosine-Similarity:          81.34\n",
      "2022-09-07 20:16:27 - Recall with Cosine-Similarity:             91.85\n",
      "2022-09-07 20:16:27 - Average Precision with Cosine-Similarity:  91.56\n",
      "\n",
      "2022-09-07 20:16:27 - Accuracy with Manhattan-Distance:           80.30\t(Threshold: 324.4864)\n",
      "2022-09-07 20:16:27 - F1 with Manhattan-Distance:                 85.37\t(Threshold: 324.4864)\n",
      "2022-09-07 20:16:27 - Precision with Manhattan-Distance:          79.90\n",
      "2022-09-07 20:16:27 - Recall with Manhattan-Distance:             91.65\n",
      "2022-09-07 20:16:27 - Average Precision with Manhattan-Distance:  90.31\n",
      "\n",
      "2022-09-07 20:16:27 - Accuracy with Euclidean-Distance:           81.30\t(Threshold: 14.8243)\n",
      "2022-09-07 20:16:27 - F1 with Euclidean-Distance:                 85.98\t(Threshold: 14.8243)\n",
      "2022-09-07 20:16:27 - Precision with Euclidean-Distance:          81.13\n",
      "2022-09-07 20:16:27 - Recall with Euclidean-Distance:             91.45\n",
      "2022-09-07 20:16:27 - Average Precision with Euclidean-Distance:  90.40\n",
      "\n",
      "2022-09-07 20:16:27 - Accuracy with Dot-Product:           81.30\t(Threshold: 85.9726)\n",
      "2022-09-07 20:16:27 - F1 with Dot-Product:                 85.66\t(Threshold: 85.2112)\n",
      "2022-09-07 20:16:27 - Precision with Dot-Product:          82.50\n",
      "2022-09-07 20:16:27 - Recall with Dot-Product:             89.07\n",
      "2022-09-07 20:16:27 - Average Precision with Dot-Product:  90.80\n",
      "\n",
      "2022-09-07 20:16:27 - Save model to binary_sim_output/sentence-transformers/quora-distilbert-base\n"
     ]
    },
    {
     "data": {
      "application/vnd.jupyter.widget-view+json": {
       "model_id": "a635124d11c84c4aa9c49744cf38a341",
       "version_major": 2,
       "version_minor": 0
      },
      "text/plain": [
       "Iteration:   0%|          | 0/151 [00:00<?, ?it/s]"
      ]
     },
     "metadata": {},
     "output_type": "display_data"
    },
    {
     "name": "stdout",
     "output_type": "stream",
     "text": [
      "2022-09-07 20:16:40 - Binary Accuracy Evaluation of the model on  dataset after epoch 2:\n",
      "2022-09-07 20:16:40 - Accuracy with Cosine-Similarity:           82.17\t(Threshold: 0.4534)\n",
      "2022-09-07 20:16:40 - F1 with Cosine-Similarity:                 86.52\t(Threshold: 0.4534)\n",
      "2022-09-07 20:16:40 - Precision with Cosine-Similarity:          82.26\n",
      "2022-09-07 20:16:40 - Recall with Cosine-Similarity:             91.25\n",
      "2022-09-07 20:16:40 - Average Precision with Cosine-Similarity:  91.42\n",
      "\n",
      "2022-09-07 20:16:40 - Accuracy with Manhattan-Distance:           81.67\t(Threshold: 345.6508)\n",
      "2022-09-07 20:16:40 - F1 with Manhattan-Distance:                 86.22\t(Threshold: 345.6508)\n",
      "2022-09-07 20:16:40 - Precision with Manhattan-Distance:          81.56\n",
      "2022-09-07 20:16:40 - Recall with Manhattan-Distance:             91.45\n",
      "2022-09-07 20:16:40 - Average Precision with Manhattan-Distance:  91.10\n",
      "\n",
      "2022-09-07 20:16:40 - Accuracy with Euclidean-Distance:           82.04\t(Threshold: 15.1204)\n",
      "2022-09-07 20:16:40 - F1 with Euclidean-Distance:                 86.41\t(Threshold: 16.1613)\n",
      "2022-09-07 20:16:40 - Precision with Euclidean-Distance:          81.26\n",
      "2022-09-07 20:16:40 - Recall with Euclidean-Distance:             92.25\n",
      "2022-09-07 20:16:40 - Average Precision with Euclidean-Distance:  91.16\n",
      "\n",
      "2022-09-07 20:16:40 - Accuracy with Dot-Product:           82.17\t(Threshold: 108.0189)\n",
      "2022-09-07 20:16:40 - F1 with Dot-Product:                 86.39\t(Threshold: 108.0189)\n",
      "2022-09-07 20:16:40 - Precision with Dot-Product:          82.85\n",
      "2022-09-07 20:16:40 - Recall with Dot-Product:             90.26\n",
      "2022-09-07 20:16:40 - Average Precision with Dot-Product:  90.92\n",
      "\n"
     ]
    },
    {
     "data": {
      "application/vnd.jupyter.widget-view+json": {
       "model_id": "8d46423cb9c1487b894b575d1d8f12cf",
       "version_major": 2,
       "version_minor": 0
      },
      "text/plain": [
       "Iteration:   0%|          | 0/151 [00:00<?, ?it/s]"
      ]
     },
     "metadata": {},
     "output_type": "display_data"
    },
    {
     "name": "stdout",
     "output_type": "stream",
     "text": [
      "2022-09-07 20:16:53 - Binary Accuracy Evaluation of the model on  dataset after epoch 3:\n",
      "2022-09-07 20:16:53 - Accuracy with Cosine-Similarity:           81.92\t(Threshold: 0.3127)\n",
      "2022-09-07 20:16:53 - F1 with Cosine-Similarity:                 86.66\t(Threshold: 0.3091)\n",
      "2022-09-07 20:16:53 - Precision with Cosine-Similarity:          80.65\n",
      "2022-09-07 20:16:53 - Recall with Cosine-Similarity:             93.64\n",
      "2022-09-07 20:16:53 - Average Precision with Cosine-Similarity:  92.24\n",
      "\n",
      "2022-09-07 20:16:53 - Accuracy with Manhattan-Distance:           81.05\t(Threshold: 378.9726)\n",
      "2022-09-07 20:16:53 - F1 with Manhattan-Distance:                 86.17\t(Threshold: 396.2816)\n",
      "2022-09-07 20:16:53 - Precision with Manhattan-Distance:          78.16\n",
      "2022-09-07 20:16:53 - Recall with Manhattan-Distance:             96.02\n",
      "2022-09-07 20:16:53 - Average Precision with Manhattan-Distance:  92.01\n",
      "\n",
      "2022-09-07 20:16:53 - Accuracy with Euclidean-Distance:           81.17\t(Threshold: 17.7683)\n",
      "2022-09-07 20:16:53 - F1 with Euclidean-Distance:                 86.29\t(Threshold: 17.7683)\n",
      "2022-09-07 20:16:53 - Precision with Euclidean-Distance:          79.43\n",
      "2022-09-07 20:16:53 - Recall with Euclidean-Distance:             94.43\n",
      "2022-09-07 20:16:53 - Average Precision with Euclidean-Distance:  92.01\n",
      "\n",
      "2022-09-07 20:16:53 - Accuracy with Dot-Product:           82.04\t(Threshold: 59.1984)\n",
      "2022-09-07 20:16:53 - F1 with Dot-Product:                 86.74\t(Threshold: 59.1984)\n",
      "2022-09-07 20:16:53 - Precision with Dot-Product:          80.79\n",
      "2022-09-07 20:16:53 - Recall with Dot-Product:             93.64\n",
      "2022-09-07 20:16:53 - Average Precision with Dot-Product:  91.86\n",
      "\n",
      "2022-09-07 20:16:53 - Save model to binary_sim_output/sentence-transformers/quora-distilbert-base\n"
     ]
    },
    {
     "data": {
      "application/vnd.jupyter.widget-view+json": {
       "model_id": "4a3981112a8b4e8a88aa15fe3059d642",
       "version_major": 2,
       "version_minor": 0
      },
      "text/plain": [
       "Iteration:   0%|          | 0/151 [00:00<?, ?it/s]"
      ]
     },
     "metadata": {},
     "output_type": "display_data"
    },
    {
     "name": "stdout",
     "output_type": "stream",
     "text": [
      "2022-09-07 20:17:06 - Binary Accuracy Evaluation of the model on  dataset after epoch 4:\n",
      "2022-09-07 20:17:07 - Accuracy with Cosine-Similarity:           81.05\t(Threshold: 0.4596)\n",
      "2022-09-07 20:17:07 - F1 with Cosine-Similarity:                 86.00\t(Threshold: 0.2578)\n",
      "2022-09-07 20:17:07 - Precision with Cosine-Similarity:          79.23\n",
      "2022-09-07 20:17:07 - Recall with Cosine-Similarity:             94.04\n",
      "2022-09-07 20:17:07 - Average Precision with Cosine-Similarity:  91.76\n",
      "\n",
      "2022-09-07 20:17:07 - Accuracy with Manhattan-Distance:           81.17\t(Threshold: 388.6666)\n",
      "2022-09-07 20:17:07 - F1 with Manhattan-Distance:                 86.13\t(Threshold: 389.0963)\n",
      "2022-09-07 20:17:07 - Precision with Manhattan-Distance:          80.03\n",
      "2022-09-07 20:17:07 - Recall with Manhattan-Distance:             93.24\n",
      "2022-09-07 20:17:07 - Average Precision with Manhattan-Distance:  91.61\n",
      "\n",
      "2022-09-07 20:17:07 - Accuracy with Euclidean-Distance:           80.92\t(Threshold: 17.9607)\n",
      "2022-09-07 20:17:07 - F1 with Euclidean-Distance:                 85.97\t(Threshold: 19.3556)\n",
      "2022-09-07 20:17:07 - Precision with Euclidean-Distance:          77.69\n",
      "2022-09-07 20:17:07 - Recall with Euclidean-Distance:             96.22\n",
      "2022-09-07 20:17:07 - Average Precision with Euclidean-Distance:  91.63\n",
      "\n",
      "2022-09-07 20:17:07 - Accuracy with Dot-Product:           80.67\t(Threshold: 130.2506)\n",
      "2022-09-07 20:17:07 - F1 with Dot-Product:                 85.77\t(Threshold: 41.3651)\n",
      "2022-09-07 20:17:07 - Precision with Dot-Product:          78.01\n",
      "2022-09-07 20:17:07 - Recall with Dot-Product:             95.23\n",
      "2022-09-07 20:17:07 - Average Precision with Dot-Product:  91.50\n",
      "\n"
     ]
    },
    {
     "data": {
      "application/vnd.jupyter.widget-view+json": {
       "model_id": "bd6af503712a4b2cad16f9bf93197843",
       "version_major": 2,
       "version_minor": 0
      },
      "text/plain": [
       "Iteration:   0%|          | 0/151 [00:00<?, ?it/s]"
      ]
     },
     "metadata": {},
     "output_type": "display_data"
    },
    {
     "name": "stdout",
     "output_type": "stream",
     "text": [
      "2022-09-07 20:17:19 - Binary Accuracy Evaluation of the model on  dataset after epoch 5:\n",
      "2022-09-07 20:17:20 - Accuracy with Cosine-Similarity:           80.80\t(Threshold: 0.1865)\n",
      "2022-09-07 20:17:20 - F1 with Cosine-Similarity:                 85.85\t(Threshold: 0.1758)\n",
      "2022-09-07 20:17:20 - Precision with Cosine-Similarity:          79.83\n",
      "2022-09-07 20:17:20 - Recall with Cosine-Similarity:             92.84\n",
      "2022-09-07 20:17:20 - Average Precision with Cosine-Similarity:  92.12\n",
      "\n",
      "2022-09-07 20:17:20 - Accuracy with Manhattan-Distance:           80.17\t(Threshold: 415.1198)\n",
      "2022-09-07 20:17:20 - F1 with Manhattan-Distance:                 85.40\t(Threshold: 431.3411)\n",
      "2022-09-07 20:17:20 - Precision with Manhattan-Distance:          78.50\n",
      "2022-09-07 20:17:20 - Recall with Manhattan-Distance:             93.64\n",
      "2022-09-07 20:17:20 - Average Precision with Manhattan-Distance:  91.96\n",
      "\n",
      "2022-09-07 20:17:20 - Accuracy with Euclidean-Distance:           80.42\t(Threshold: 18.7923)\n",
      "2022-09-07 20:17:20 - F1 with Euclidean-Distance:                 85.53\t(Threshold: 19.4643)\n",
      "2022-09-07 20:17:20 - Precision with Euclidean-Distance:          79.29\n",
      "2022-09-07 20:17:20 - Recall with Euclidean-Distance:             92.84\n",
      "2022-09-07 20:17:20 - Average Precision with Euclidean-Distance:  91.98\n",
      "\n",
      "2022-09-07 20:17:20 - Accuracy with Dot-Product:           80.80\t(Threshold: 27.3730)\n",
      "2022-09-07 20:17:20 - F1 with Dot-Product:                 85.90\t(Threshold: 27.3730)\n",
      "2022-09-07 20:17:20 - Precision with Dot-Product:          79.63\n",
      "2022-09-07 20:17:20 - Recall with Dot-Product:             93.24\n",
      "2022-09-07 20:17:20 - Average Precision with Dot-Product:  92.02\n",
      "\n"
     ]
    },
    {
     "data": {
      "application/vnd.jupyter.widget-view+json": {
       "model_id": "460e3e0f14b746e3b1420cde1713adfa",
       "version_major": 2,
       "version_minor": 0
      },
      "text/plain": [
       "Iteration:   0%|          | 0/151 [00:00<?, ?it/s]"
      ]
     },
     "metadata": {},
     "output_type": "display_data"
    },
    {
     "name": "stdout",
     "output_type": "stream",
     "text": [
      "2022-09-07 20:17:32 - Binary Accuracy Evaluation of the model on  dataset after epoch 6:\n",
      "2022-09-07 20:17:33 - Accuracy with Cosine-Similarity:           81.05\t(Threshold: 0.1551)\n",
      "2022-09-07 20:17:33 - F1 with Cosine-Similarity:                 86.08\t(Threshold: 0.1022)\n",
      "2022-09-07 20:17:33 - Precision with Cosine-Similarity:          79.80\n",
      "2022-09-07 20:17:33 - Recall with Cosine-Similarity:             93.44\n",
      "2022-09-07 20:17:33 - Average Precision with Cosine-Similarity:  92.16\n",
      "\n",
      "2022-09-07 20:17:33 - Accuracy with Manhattan-Distance:           80.55\t(Threshold: 443.7899)\n",
      "2022-09-07 20:17:33 - F1 with Manhattan-Distance:                 85.87\t(Threshold: 447.0879)\n",
      "2022-09-07 20:17:33 - Precision with Manhattan-Distance:          78.87\n",
      "2022-09-07 20:17:33 - Recall with Manhattan-Distance:             94.23\n",
      "2022-09-07 20:17:33 - Average Precision with Manhattan-Distance:  91.86\n",
      "\n",
      "2022-09-07 20:17:33 - Accuracy with Euclidean-Distance:           80.80\t(Threshold: 20.2952)\n",
      "2022-09-07 20:17:33 - F1 with Euclidean-Distance:                 85.97\t(Threshold: 20.2952)\n",
      "2022-09-07 20:17:33 - Precision with Euclidean-Distance:          79.33\n",
      "2022-09-07 20:17:33 - Recall with Euclidean-Distance:             93.84\n",
      "2022-09-07 20:17:33 - Average Precision with Euclidean-Distance:  91.93\n",
      "\n",
      "2022-09-07 20:17:33 - Accuracy with Dot-Product:           81.05\t(Threshold: 40.3009)\n",
      "2022-09-07 20:17:33 - F1 with Dot-Product:                 86.11\t(Threshold: 19.7415)\n",
      "2022-09-07 20:17:33 - Precision with Dot-Product:          79.70\n",
      "2022-09-07 20:17:33 - Recall with Dot-Product:             93.64\n",
      "2022-09-07 20:17:33 - Average Precision with Dot-Product:  92.07\n",
      "\n"
     ]
    },
    {
     "data": {
      "application/vnd.jupyter.widget-view+json": {
       "model_id": "74b4749ee2d948af8e8a95d99b269b16",
       "version_major": 2,
       "version_minor": 0
      },
      "text/plain": [
       "Iteration:   0%|          | 0/151 [00:00<?, ?it/s]"
      ]
     },
     "metadata": {},
     "output_type": "display_data"
    },
    {
     "name": "stdout",
     "output_type": "stream",
     "text": [
      "2022-09-07 20:17:45 - Binary Accuracy Evaluation of the model on  dataset after epoch 7:\n",
      "2022-09-07 20:17:46 - Accuracy with Cosine-Similarity:           80.55\t(Threshold: 0.2231)\n",
      "2022-09-07 20:17:46 - F1 with Cosine-Similarity:                 85.74\t(Threshold: -0.0183)\n",
      "2022-09-07 20:17:46 - Precision with Cosine-Similarity:          78.51\n",
      "2022-09-07 20:17:46 - Recall with Cosine-Similarity:             94.43\n",
      "2022-09-07 20:17:46 - Average Precision with Cosine-Similarity:  91.92\n",
      "\n",
      "2022-09-07 20:17:46 - Accuracy with Manhattan-Distance:           80.80\t(Threshold: 457.9649)\n",
      "2022-09-07 20:17:46 - F1 with Manhattan-Distance:                 86.03\t(Threshold: 457.9649)\n",
      "2022-09-07 20:17:46 - Precision with Manhattan-Distance:          79.13\n",
      "2022-09-07 20:17:46 - Recall with Manhattan-Distance:             94.23\n",
      "2022-09-07 20:17:46 - Average Precision with Manhattan-Distance:  91.73\n",
      "\n",
      "2022-09-07 20:17:46 - Accuracy with Euclidean-Distance:           80.80\t(Threshold: 20.6999)\n",
      "2022-09-07 20:17:46 - F1 with Euclidean-Distance:                 86.00\t(Threshold: 20.9693)\n",
      "2022-09-07 20:17:46 - Precision with Euclidean-Distance:          79.23\n",
      "2022-09-07 20:17:46 - Recall with Euclidean-Distance:             94.04\n",
      "2022-09-07 20:17:46 - Average Precision with Euclidean-Distance:  91.78\n",
      "\n",
      "2022-09-07 20:17:46 - Accuracy with Dot-Product:           80.42\t(Threshold: 49.2872)\n",
      "2022-09-07 20:17:46 - F1 with Dot-Product:                 85.74\t(Threshold: -4.3757)\n",
      "2022-09-07 20:17:46 - Precision with Dot-Product:          78.51\n",
      "2022-09-07 20:17:46 - Recall with Dot-Product:             94.43\n",
      "2022-09-07 20:17:46 - Average Precision with Dot-Product:  91.81\n",
      "\n"
     ]
    },
    {
     "data": {
      "application/vnd.jupyter.widget-view+json": {
       "model_id": "96cf1994d9f94bf8addc2531333b50b8",
       "version_major": 2,
       "version_minor": 0
      },
      "text/plain": [
       "Iteration:   0%|          | 0/151 [00:00<?, ?it/s]"
      ]
     },
     "metadata": {},
     "output_type": "display_data"
    },
    {
     "name": "stdout",
     "output_type": "stream",
     "text": [
      "2022-09-07 20:17:58 - Binary Accuracy Evaluation of the model on  dataset after epoch 8:\n",
      "2022-09-07 20:17:59 - Accuracy with Cosine-Similarity:           80.30\t(Threshold: 0.1107)\n",
      "2022-09-07 20:17:59 - F1 with Cosine-Similarity:                 85.71\t(Threshold: -0.0131)\n",
      "2022-09-07 20:17:59 - Precision with Cosine-Similarity:          78.20\n",
      "2022-09-07 20:17:59 - Recall with Cosine-Similarity:             94.83\n",
      "2022-09-07 20:17:59 - Average Precision with Cosine-Similarity:  91.77\n",
      "\n",
      "2022-09-07 20:17:59 - Accuracy with Manhattan-Distance:           80.55\t(Threshold: 433.3498)\n",
      "2022-09-07 20:17:59 - F1 with Manhattan-Distance:                 85.71\t(Threshold: 440.3922)\n",
      "2022-09-07 20:17:59 - Precision with Manhattan-Distance:          79.03\n",
      "2022-09-07 20:17:59 - Recall with Manhattan-Distance:             93.64\n",
      "2022-09-07 20:17:59 - Average Precision with Manhattan-Distance:  91.52\n",
      "\n",
      "2022-09-07 20:17:59 - Accuracy with Euclidean-Distance:           80.42\t(Threshold: 19.7462)\n",
      "2022-09-07 20:17:59 - F1 with Euclidean-Distance:                 85.77\t(Threshold: 20.8610)\n",
      "2022-09-07 20:17:59 - Precision with Euclidean-Distance:          78.42\n",
      "2022-09-07 20:17:59 - Recall with Euclidean-Distance:             94.63\n",
      "2022-09-07 20:17:59 - Average Precision with Euclidean-Distance:  91.62\n",
      "\n",
      "2022-09-07 20:17:59 - Accuracy with Dot-Product:           80.17\t(Threshold: 41.7877)\n",
      "2022-09-07 20:17:59 - F1 with Dot-Product:                 85.71\t(Threshold: -3.0470)\n",
      "2022-09-07 20:17:59 - Precision with Dot-Product:          78.20\n",
      "2022-09-07 20:17:59 - Recall with Dot-Product:             94.83\n",
      "2022-09-07 20:17:59 - Average Precision with Dot-Product:  91.64\n",
      "\n"
     ]
    },
    {
     "data": {
      "application/vnd.jupyter.widget-view+json": {
       "model_id": "34abf23b23b54d4c863481fcda05fde3",
       "version_major": 2,
       "version_minor": 0
      },
      "text/plain": [
       "Iteration:   0%|          | 0/151 [00:00<?, ?it/s]"
      ]
     },
     "metadata": {},
     "output_type": "display_data"
    },
    {
     "name": "stdout",
     "output_type": "stream",
     "text": [
      "2022-09-07 20:18:11 - Binary Accuracy Evaluation of the model on  dataset after epoch 9:\n",
      "2022-09-07 20:18:12 - Accuracy with Cosine-Similarity:           80.30\t(Threshold: 0.0933)\n",
      "2022-09-07 20:18:12 - F1 with Cosine-Similarity:                 85.74\t(Threshold: -0.0249)\n",
      "2022-09-07 20:18:12 - Precision with Cosine-Similarity:          78.51\n",
      "2022-09-07 20:18:12 - Recall with Cosine-Similarity:             94.43\n",
      "2022-09-07 20:18:12 - Average Precision with Cosine-Similarity:  91.77\n",
      "\n",
      "2022-09-07 20:18:12 - Accuracy with Manhattan-Distance:           80.30\t(Threshold: 434.1265)\n",
      "2022-09-07 20:18:12 - F1 with Manhattan-Distance:                 85.71\t(Threshold: 458.9307)\n",
      "2022-09-07 20:18:12 - Precision with Manhattan-Distance:          78.61\n",
      "2022-09-07 20:18:12 - Recall with Manhattan-Distance:             94.23\n",
      "2022-09-07 20:18:12 - Average Precision with Manhattan-Distance:  91.53\n",
      "\n",
      "2022-09-07 20:18:12 - Accuracy with Euclidean-Distance:           80.42\t(Threshold: 21.0202)\n",
      "2022-09-07 20:18:12 - F1 with Euclidean-Distance:                 85.82\t(Threshold: 21.0202)\n",
      "2022-09-07 20:18:12 - Precision with Euclidean-Distance:          78.64\n",
      "2022-09-07 20:18:12 - Recall with Euclidean-Distance:             94.43\n",
      "2022-09-07 20:18:12 - Average Precision with Euclidean-Distance:  91.63\n",
      "\n",
      "2022-09-07 20:18:12 - Accuracy with Dot-Product:           80.42\t(Threshold: -3.8027)\n",
      "2022-09-07 20:18:12 - F1 with Dot-Product:                 85.82\t(Threshold: -3.8027)\n",
      "2022-09-07 20:18:12 - Precision with Dot-Product:          78.64\n",
      "2022-09-07 20:18:12 - Recall with Dot-Product:             94.43\n",
      "2022-09-07 20:18:12 - Average Precision with Dot-Product:  91.64\n",
      "\n",
      "Training done...\n",
      "\n",
      "\n",
      "\n",
      "                     ********** sentence-transformers/quora-distilbert-base **********\n",
      "2022-09-07 20:18:12 - Load pretrained SentenceTransformer: binary_sim_output/sentence-transformers/quora-distilbert-base\n",
      "2022-09-07 20:18:12 - Use pytorch device: cuda\n",
      "2022-09-07 20:18:12 - Softmax loss: #Vectors concatenated: 3\n",
      "2022-09-07 20:18:12 - EmbeddingSimilarityEvaluator: Evaluating the model on SPRAG-test dataset:\n",
      "2022-09-07 20:18:14 - Cosine-Similarity :\tPearson: 0.6604\tSpearman: 0.6418\n",
      "2022-09-07 20:18:14 - Manhattan-Distance:\tPearson: 0.6294\tSpearman: 0.6354\n",
      "2022-09-07 20:18:14 - Euclidean-Distance:\tPearson: 0.6351\tSpearman: 0.6361\n",
      "2022-09-07 20:18:14 - Dot-Product-Similarity:\tPearson: 0.6564\tSpearman: 0.6357\n",
      "2022-09-07 20:18:14 - Binary Accuracy Evaluation of the model on  dataset:\n",
      "2022-09-07 20:18:14 - Accuracy with Cosine-Similarity:           81.92\t(Threshold: 0.3127)\n",
      "2022-09-07 20:18:14 - F1 with Cosine-Similarity:                 86.66\t(Threshold: 0.3091)\n",
      "2022-09-07 20:18:14 - Precision with Cosine-Similarity:          80.65\n",
      "2022-09-07 20:18:14 - Recall with Cosine-Similarity:             93.64\n",
      "2022-09-07 20:18:14 - Average Precision with Cosine-Similarity:  92.24\n",
      "\n",
      "2022-09-07 20:18:14 - Accuracy with Manhattan-Distance:           81.05\t(Threshold: 378.9726)\n",
      "2022-09-07 20:18:14 - F1 with Manhattan-Distance:                 86.17\t(Threshold: 396.2816)\n",
      "2022-09-07 20:18:14 - Precision with Manhattan-Distance:          78.16\n",
      "2022-09-07 20:18:14 - Recall with Manhattan-Distance:             96.02\n",
      "2022-09-07 20:18:14 - Average Precision with Manhattan-Distance:  92.01\n",
      "\n",
      "2022-09-07 20:18:14 - Accuracy with Euclidean-Distance:           81.17\t(Threshold: 17.7683)\n",
      "2022-09-07 20:18:14 - F1 with Euclidean-Distance:                 86.29\t(Threshold: 17.7683)\n",
      "2022-09-07 20:18:14 - Precision with Euclidean-Distance:          79.43\n",
      "2022-09-07 20:18:14 - Recall with Euclidean-Distance:             94.43\n",
      "2022-09-07 20:18:14 - Average Precision with Euclidean-Distance:  92.01\n",
      "\n",
      "2022-09-07 20:18:14 - Accuracy with Dot-Product:           82.04\t(Threshold: 59.1984)\n",
      "2022-09-07 20:18:14 - F1 with Dot-Product:                 86.74\t(Threshold: 59.1984)\n",
      "2022-09-07 20:18:14 - Precision with Dot-Product:          80.79\n",
      "2022-09-07 20:18:14 - Recall with Dot-Product:             93.64\n",
      "2022-09-07 20:18:14 - Average Precision with Dot-Product:  91.86\n",
      "\n"
     ]
    },
    {
     "data": {
      "text/plain": [
       "0.9224249379260415"
      ]
     },
     "execution_count": 21,
     "metadata": {},
     "output_type": "execute_result"
    }
   ],
   "source": [
    "\n",
    "st_model = 'sentence-transformers/quora-distilbert-base'\n",
    "num_epochs = 10\n",
    "batch_size=16\n",
    "model_save_path = \"binary_sim_output/\"+st_model\n",
    "train_dataloader = DataLoader(train_examples, shuffle=True, batch_size=batch_size)\n",
    "  \n",
    "test_dataloader = DataLoader(test_examples, shuffle=True, batch_size=batch_size)\n",
    "model = train_and_evaluate(st_model, train_dataloader, test_dataloader, num_epochs, model_save_path)\n",
    "print(\"\\n\\n\")\n",
    "print(\" \"*20, \"*\"*10, st_model , \"*\"*10)\n",
    "\n",
    "# Load the stored model and evaluate its performance on mohler test dataset\n",
    "model = SentenceTransformer(model_save_path)\n",
    "train_loss = losses.SoftmaxLoss(model=model, sentence_embedding_dimension=model.get_sentence_embedding_dimension(), num_labels=2)\n",
    "test_evaluator = evaluation.EmbeddingSimilarityEvaluator.from_input_examples(test_examples, batch_size=16, name='SPRAG-test')\n",
    "test_evaluator(model, output_path=model_save_path)\n",
    "train_loss.cuda()\n",
    "\n",
    "x_test_dA = test_data['ReferenceAnswer'].values.tolist()\n",
    "x_test_sA = test_data['StudentAnswer'].values.tolist()\n",
    "y_test = test_labels \n",
    "\n",
    "evaluator = evaluation.BinaryClassificationEvaluator(x_test_dA, x_test_sA, y_test)\n",
    "evaluator(model, output_path=model_save_path)\n"
   ]
  },
  {
   "cell_type": "code",
   "execution_count": 22,
   "id": "2b4f91ba",
   "metadata": {},
   "outputs": [
    {
     "data": {
      "application/vnd.jupyter.widget-view+json": {
       "model_id": "c17995f819ef43f6a2104fd3a84abf0f",
       "version_major": 2,
       "version_minor": 0
      },
      "text/plain": [
       "Batches:   0%|          | 0/1 [00:00<?, ?it/s]"
      ]
     },
     "metadata": {},
     "output_type": "display_data"
    },
    {
     "data": {
      "application/vnd.jupyter.widget-view+json": {
       "model_id": "18319f56effb495b8a4357a87e315278",
       "version_major": 2,
       "version_minor": 0
      },
      "text/plain": [
       "Batches:   0%|          | 0/1 [00:00<?, ?it/s]"
      ]
     },
     "metadata": {},
     "output_type": "display_data"
    },
    {
     "data": {
      "text/plain": [
       "(768,)"
      ]
     },
     "execution_count": 22,
     "metadata": {},
     "output_type": "execute_result"
    }
   ],
   "source": [
    "#Our sentences we like to encode\n",
    "s1 = model.encode(\"Python is an object oriented programming language\")\n",
    "s2 = model.encode(\"java is an oop language\")\n",
    "\n",
    "s1.shape"
   ]
  },
  {
   "cell_type": "markdown",
   "id": "0667637a",
   "metadata": {},
   "source": []
  },
  {
   "cell_type": "code",
   "execution_count": 23,
   "id": "0c3ebdfe",
   "metadata": {},
   "outputs": [
    {
     "data": {
      "text/plain": [
       "tensor([[0.1997]])"
      ]
     },
     "execution_count": 23,
     "metadata": {},
     "output_type": "execute_result"
    }
   ],
   "source": [
    "#Compute cosine similarity between all pairs\n",
    "from sentence_transformers import util\n",
    "cos_sim = util.cos_sim(s1, s2)\n",
    "cos_sim"
   ]
  },
  {
   "cell_type": "code",
   "execution_count": null,
   "id": "f3185216",
   "metadata": {},
   "outputs": [],
   "source": []
  }
 ],
 "metadata": {
  "kernelspec": {
   "display_name": "Python 3 (ipykernel)",
   "language": "python",
   "name": "python3"
  },
  "language_info": {
   "codemirror_mode": {
    "name": "ipython",
    "version": 3
   },
   "file_extension": ".py",
   "mimetype": "text/x-python",
   "name": "python",
   "nbconvert_exporter": "python",
   "pygments_lexer": "ipython3",
   "version": "3.9.7"
  }
 },
 "nbformat": 4,
 "nbformat_minor": 5
}
