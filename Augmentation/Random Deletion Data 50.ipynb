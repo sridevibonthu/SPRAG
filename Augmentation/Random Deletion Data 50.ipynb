{
 "cells": [
  {
   "cell_type": "code",
   "execution_count": 1,
   "id": "d81ecea5",
   "metadata": {},
   "outputs": [
    {
     "name": "stdout",
     "output_type": "stream",
     "text": [
      "Defaulting to user installation because normal site-packages is not writeable\n",
      "Requirement already satisfied: sentence-transformers in /home/jupyter-vit_sridevi/.local/lib/python3.9/site-packages (2.2.2)\n",
      "Requirement already satisfied: huggingface-hub>=0.4.0 in /home/jupyter-vit_sridevi/.local/lib/python3.9/site-packages (from sentence-transformers) (0.8.1)\n",
      "Requirement already satisfied: scikit-learn in /home/jupyter-vit_sridevi/.local/lib/python3.9/site-packages (from sentence-transformers) (1.1.1)\n",
      "Requirement already satisfied: torchvision in /home/jupyter-vit_sridevi/.local/lib/python3.9/site-packages (from sentence-transformers) (0.13.0)\n",
      "Requirement already satisfied: nltk in /home/jupyter-vit_sridevi/.local/lib/python3.9/site-packages (from sentence-transformers) (3.7)\n",
      "Requirement already satisfied: tqdm in /opt/tljh/user/lib/python3.9/site-packages (from sentence-transformers) (4.62.3)\n",
      "Requirement already satisfied: torch>=1.6.0 in /home/jupyter-vit_sridevi/.local/lib/python3.9/site-packages (from sentence-transformers) (1.12.0)\n",
      "Requirement already satisfied: transformers<5.0.0,>=4.6.0 in /home/jupyter-vit_sridevi/.local/lib/python3.9/site-packages (from sentence-transformers) (4.20.1)\n",
      "Requirement already satisfied: numpy in /opt/tljh/user/lib/python3.9/site-packages (from sentence-transformers) (1.22.3)\n",
      "Requirement already satisfied: scipy in /home/jupyter-vit_sridevi/.local/lib/python3.9/site-packages (from sentence-transformers) (1.8.1)\n",
      "Requirement already satisfied: sentencepiece in /home/jupyter-vit_sridevi/.local/lib/python3.9/site-packages (from sentence-transformers) (0.1.96)\n",
      "Requirement already satisfied: typing-extensions>=3.7.4.3 in /home/jupyter-vit_sridevi/.local/lib/python3.9/site-packages (from huggingface-hub>=0.4.0->sentence-transformers) (4.3.0)\n",
      "Requirement already satisfied: pyyaml>=5.1 in /home/jupyter-vit_sridevi/.local/lib/python3.9/site-packages (from huggingface-hub>=0.4.0->sentence-transformers) (6.0)\n",
      "Requirement already satisfied: requests in /opt/tljh/user/lib/python3.9/site-packages (from huggingface-hub>=0.4.0->sentence-transformers) (2.26.0)\n",
      "Requirement already satisfied: filelock in /home/jupyter-vit_sridevi/.local/lib/python3.9/site-packages (from huggingface-hub>=0.4.0->sentence-transformers) (3.7.1)\n",
      "Requirement already satisfied: packaging>=20.9 in /opt/tljh/user/lib/python3.9/site-packages (from huggingface-hub>=0.4.0->sentence-transformers) (21.3)\n",
      "Requirement already satisfied: regex!=2019.12.17 in /home/jupyter-vit_sridevi/.local/lib/python3.9/site-packages (from transformers<5.0.0,>=4.6.0->sentence-transformers) (2022.7.9)\n",
      "Requirement already satisfied: tokenizers!=0.11.3,<0.13,>=0.11.1 in /home/jupyter-vit_sridevi/.local/lib/python3.9/site-packages (from transformers<5.0.0,>=4.6.0->sentence-transformers) (0.12.1)\n",
      "Requirement already satisfied: joblib in /home/jupyter-vit_sridevi/.local/lib/python3.9/site-packages (from nltk->sentence-transformers) (1.1.0)\n",
      "Requirement already satisfied: click in /home/jupyter-vit_sridevi/.local/lib/python3.9/site-packages (from nltk->sentence-transformers) (8.1.3)\n",
      "Requirement already satisfied: threadpoolctl>=2.0.0 in /home/jupyter-vit_sridevi/.local/lib/python3.9/site-packages (from scikit-learn->sentence-transformers) (3.1.0)\n",
      "Requirement already satisfied: pillow!=8.3.*,>=5.3.0 in /home/jupyter-vit_sridevi/.local/lib/python3.9/site-packages (from torchvision->sentence-transformers) (9.2.0)\n",
      "Requirement already satisfied: pyparsing!=3.0.5,>=2.0.2 in /opt/tljh/user/lib/python3.9/site-packages (from packaging>=20.9->huggingface-hub>=0.4.0->sentence-transformers) (3.0.9)\n",
      "Requirement already satisfied: charset-normalizer~=2.0.0 in /opt/tljh/user/lib/python3.9/site-packages (from requests->huggingface-hub>=0.4.0->sentence-transformers) (2.0.0)\n",
      "Requirement already satisfied: certifi>=2017.4.17 in /opt/tljh/user/lib/python3.9/site-packages (from requests->huggingface-hub>=0.4.0->sentence-transformers) (2021.10.8)\n",
      "Requirement already satisfied: urllib3<1.27,>=1.21.1 in /opt/tljh/user/lib/python3.9/site-packages (from requests->huggingface-hub>=0.4.0->sentence-transformers) (1.26.7)\n",
      "Requirement already satisfied: idna<4,>=2.5 in /opt/tljh/user/lib/python3.9/site-packages (from requests->huggingface-hub>=0.4.0->sentence-transformers) (3.1)\n",
      "Defaulting to user installation because normal site-packages is not writeable\n",
      "Requirement already satisfied: pandas in /home/jupyter-vit_sridevi/.local/lib/python3.9/site-packages (1.4.3)\n",
      "Requirement already satisfied: pytz>=2020.1 in /opt/tljh/user/lib/python3.9/site-packages (from pandas) (2022.1)\n",
      "Requirement already satisfied: numpy>=1.18.5 in /opt/tljh/user/lib/python3.9/site-packages (from pandas) (1.22.3)\n",
      "Requirement already satisfied: python-dateutil>=2.8.1 in /opt/tljh/user/lib/python3.9/site-packages (from pandas) (2.8.2)\n",
      "Requirement already satisfied: six>=1.5 in /opt/tljh/user/lib/python3.9/site-packages (from python-dateutil>=2.8.1->pandas) (1.16.0)\n"
     ]
    }
   ],
   "source": [
    "!pip install sentence-transformers\n",
    "!pip install pandas\n"
   ]
  },
  {
   "cell_type": "code",
   "execution_count": 2,
   "id": "c445cdaf",
   "metadata": {},
   "outputs": [],
   "source": [
    "\n",
    "\n",
    "from sklearn.metrics import accuracy_score, f1_score\n",
    "from sklearn.linear_model import LogisticRegression\n",
    "from sentence_transformers import SentenceTransformer, InputExample, losses, models, datasets, evaluation\n",
    "from torch.utils.data import DataLoader\n",
    "\n",
    "from sklearn.manifold import TSNE\n",
    "from matplotlib import pyplot as plt\n",
    "\n",
    "# import warnings filter\n",
    "from warnings import simplefilter\n",
    "# ignore all future warnings\n",
    "simplefilter(action='ignore', category=FutureWarning)\n",
    "\n",
    "import pandas as pd\n",
    "import numpy as np\n",
    "\n",
    "import torch\n",
    "import random\n",
    "import torch\n",
    "import random\n",
    "\n",
    "def set_seed(seed):\n",
    "  random.seed(seed)\n",
    "  np.random.seed(seed)\n",
    "  torch.manual_seed(seed)"
   ]
  },
  {
   "cell_type": "code",
   "execution_count": 3,
   "id": "14c99818",
   "metadata": {},
   "outputs": [
    {
     "data": {
      "text/html": [
       "<div>\n",
       "<style scoped>\n",
       "    .dataframe tbody tr th:only-of-type {\n",
       "        vertical-align: middle;\n",
       "    }\n",
       "\n",
       "    .dataframe tbody tr th {\n",
       "        vertical-align: top;\n",
       "    }\n",
       "\n",
       "    .dataframe thead th {\n",
       "        text-align: right;\n",
       "    }\n",
       "</style>\n",
       "<table border=\"1\" class=\"dataframe\">\n",
       "  <thead>\n",
       "    <tr style=\"text-align: right;\">\n",
       "      <th></th>\n",
       "      <th>Unnamed: 0</th>\n",
       "      <th>QuestionID</th>\n",
       "      <th>ReferenceAnswer</th>\n",
       "      <th>StudentAnswer</th>\n",
       "      <th>Score1</th>\n",
       "      <th>Score2</th>\n",
       "      <th>avg_score</th>\n",
       "      <th>max_score</th>\n",
       "    </tr>\n",
       "  </thead>\n",
       "  <tbody>\n",
       "    <tr>\n",
       "      <th>0</th>\n",
       "      <td>0.0</td>\n",
       "      <td>PythonQ001</td>\n",
       "      <td>List, Set and Dictionary are mutable data stru...</td>\n",
       "      <td>Tha object structures which can be changeable ...</td>\n",
       "      <td>1.0</td>\n",
       "      <td>0.0</td>\n",
       "      <td>0.5</td>\n",
       "      <td>1.0</td>\n",
       "    </tr>\n",
       "    <tr>\n",
       "      <th>1</th>\n",
       "      <td>1.0</td>\n",
       "      <td>PythonQ001</td>\n",
       "      <td>List, Set and Dictionary are mutable data stru...</td>\n",
       "      <td>Tuple</td>\n",
       "      <td>0.0</td>\n",
       "      <td>0.0</td>\n",
       "      <td>0.0</td>\n",
       "      <td>0.0</td>\n",
       "    </tr>\n",
       "  </tbody>\n",
       "</table>\n",
       "</div>"
      ],
      "text/plain": [
       "   Unnamed: 0  QuestionID                                    ReferenceAnswer  \\\n",
       "0         0.0  PythonQ001  List, Set and Dictionary are mutable data stru...   \n",
       "1         1.0  PythonQ001  List, Set and Dictionary are mutable data stru...   \n",
       "\n",
       "                                       StudentAnswer  Score1  Score2  \\\n",
       "0  Tha object structures which can be changeable ...     1.0     0.0   \n",
       "1                                              Tuple     0.0     0.0   \n",
       "\n",
       "   avg_score  max_score  \n",
       "0        0.5        1.0  \n",
       "1        0.0        0.0  "
      ]
     },
     "execution_count": 3,
     "metadata": {},
     "output_type": "execute_result"
    }
   ],
   "source": [
    "#Load the sprag dataset\n",
    "data = pd.read_csv(\"refstdcombined.csv\")\n",
    "data.head(2)"
   ]
  },
  {
   "cell_type": "code",
   "execution_count": 4,
   "id": "c830d9ed",
   "metadata": {},
   "outputs": [],
   "source": [
    "data['bin_score'] = data.apply(lambda row : 1 if row.avg_score>=3 else 0, axis=1)"
   ]
  },
  {
   "cell_type": "code",
   "execution_count": 5,
   "id": "fb65373f",
   "metadata": {},
   "outputs": [
    {
     "data": {
      "text/html": [
       "<div>\n",
       "<style scoped>\n",
       "    .dataframe tbody tr th:only-of-type {\n",
       "        vertical-align: middle;\n",
       "    }\n",
       "\n",
       "    .dataframe tbody tr th {\n",
       "        vertical-align: top;\n",
       "    }\n",
       "\n",
       "    .dataframe thead th {\n",
       "        text-align: right;\n",
       "    }\n",
       "</style>\n",
       "<table border=\"1\" class=\"dataframe\">\n",
       "  <thead>\n",
       "    <tr style=\"text-align: right;\">\n",
       "      <th></th>\n",
       "      <th>Unnamed: 0</th>\n",
       "      <th>QuestionID</th>\n",
       "      <th>ReferenceAnswer</th>\n",
       "      <th>StudentAnswer</th>\n",
       "      <th>Score1</th>\n",
       "      <th>Score2</th>\n",
       "      <th>avg_score</th>\n",
       "      <th>max_score</th>\n",
       "      <th>bin_score</th>\n",
       "    </tr>\n",
       "  </thead>\n",
       "  <tbody>\n",
       "    <tr>\n",
       "      <th>0</th>\n",
       "      <td>0.0</td>\n",
       "      <td>PythonQ001</td>\n",
       "      <td>List, Set and Dictionary are mutable data stru...</td>\n",
       "      <td>Tha object structures which can be changeable ...</td>\n",
       "      <td>1.0</td>\n",
       "      <td>0.0</td>\n",
       "      <td>0.5</td>\n",
       "      <td>1.0</td>\n",
       "      <td>0</td>\n",
       "    </tr>\n",
       "    <tr>\n",
       "      <th>1</th>\n",
       "      <td>1.0</td>\n",
       "      <td>PythonQ001</td>\n",
       "      <td>List, Set and Dictionary are mutable data stru...</td>\n",
       "      <td>Tuple</td>\n",
       "      <td>0.0</td>\n",
       "      <td>0.0</td>\n",
       "      <td>0.0</td>\n",
       "      <td>0.0</td>\n",
       "      <td>0</td>\n",
       "    </tr>\n",
       "  </tbody>\n",
       "</table>\n",
       "</div>"
      ],
      "text/plain": [
       "   Unnamed: 0  QuestionID                                    ReferenceAnswer  \\\n",
       "0         0.0  PythonQ001  List, Set and Dictionary are mutable data stru...   \n",
       "1         1.0  PythonQ001  List, Set and Dictionary are mutable data stru...   \n",
       "\n",
       "                                       StudentAnswer  Score1  Score2  \\\n",
       "0  Tha object structures which can be changeable ...     1.0     0.0   \n",
       "1                                              Tuple     0.0     0.0   \n",
       "\n",
       "   avg_score  max_score  bin_score  \n",
       "0        0.5        1.0          0  \n",
       "1        0.0        0.0          0  "
      ]
     },
     "execution_count": 5,
     "metadata": {},
     "output_type": "execute_result"
    }
   ],
   "source": [
    "data.head(2)"
   ]
  },
  {
   "cell_type": "code",
   "execution_count": 6,
   "id": "ac3fd9e5",
   "metadata": {},
   "outputs": [],
   "source": [
    "data = data.dropna()"
   ]
  },
  {
   "cell_type": "code",
   "execution_count": 7,
   "id": "c209e2dd",
   "metadata": {},
   "outputs": [
    {
     "data": {
      "image/png": "[encoded data removed]",
      "text/plain": [
       "<Figure size 432x288 with 1 Axes>"
      ]
     },
     "metadata": {
      "needs_background": "light"
     },
     "output_type": "display_data"
    }
   ],
   "source": [
    "data['bin_score'].value_counts(normalize=True).plot(kind='bar');"
   ]
  },
  {
   "cell_type": "code",
   "execution_count": 8,
   "id": "59468089",
   "metadata": {},
   "outputs": [],
   "source": [
    "#### Just some code to print debug information to stdout\n",
    "import logging\n",
    "from sentence_transformers import LoggingHandler\n",
    "logging.basicConfig(format='%(asctime)s - %(message)s',\n",
    "                    datefmt='%Y-%m-%d %H:%M:%S',\n",
    "                    level=logging.INFO,\n",
    "                    handlers=[LoggingHandler()])"
   ]
  },
  {
   "cell_type": "code",
   "execution_count": 9,
   "id": "088b0996",
   "metadata": {},
   "outputs": [],
   "source": [
    "from sklearn.model_selection import train_test_split\n",
    "\n",
    "# Storing labels in array\n",
    "labels = data['bin_score'].values\n",
    "\n",
    "# Dropping labels column from data\n",
    "data = data.drop(['bin_score'], axis=1)\n",
    "\n",
    "# Splitting data into train and test sets in a 70/30 ratio\n",
    "train_data, test_data, train_labels, test_labels = train_test_split(data, labels, stratify=labels, random_state=42, test_size=0.2)"
   ]
  },
  {
   "cell_type": "code",
   "execution_count": 10,
   "id": "6c00c606",
   "metadata": {},
   "outputs": [
    {
     "data": {
      "text/plain": [
       "(1604.0, numpy.ndarray, (3208,))"
      ]
     },
     "execution_count": 10,
     "metadata": {},
     "output_type": "execute_result"
    }
   ],
   "source": [
    "len(train_data)*0.5, type(train_labels), train_labels.shape\n"
   ]
  },
  {
   "cell_type": "code",
   "execution_count": 11,
   "id": "32056e86",
   "metadata": {},
   "outputs": [],
   "source": [
    "train_data = train_data.iloc[0:1604]\n",
    "train_labels = train_labels[0:1604]"
   ]
  },
  {
   "cell_type": "code",
   "execution_count": 12,
   "id": "94b443ed",
   "metadata": {},
   "outputs": [
    {
     "data": {
      "text/plain": [
       "(pandas.core.frame.DataFrame, numpy.ndarray, 1604, 1604)"
      ]
     },
     "execution_count": 12,
     "metadata": {},
     "output_type": "execute_result"
    }
   ],
   "source": [
    "type(train_data), type(train_labels), len(train_data), len(train_labels)"
   ]
  },
  {
   "cell_type": "code",
   "execution_count": 13,
   "id": "4996fc09",
   "metadata": {},
   "outputs": [],
   "source": [
    "\n",
    "def random_deletion(sentence, p=0.2): \n",
    "  words = sentence.split()\n",
    "  if len(words) <= 3:\n",
    "    return ' '.join(words)\n",
    "  remaining = list(filter(lambda x: random.uniform(0,1) > p,words)) \n",
    "  if len(remaining) == 0: # if not left, sample a random word\n",
    "    return ' '.join([random.choice(words)])\n",
    "  else:\n",
    "    return ' '.join(remaining)\n"
   ]
  },
  {
   "cell_type": "code",
   "execution_count": 14,
   "id": "6fd64e4a",
   "metadata": {},
   "outputs": [
    {
     "data": {
      "text/plain": [
       "'Hi i am'"
      ]
     },
     "execution_count": 14,
     "metadata": {},
     "output_type": "execute_result"
    }
   ],
   "source": [
    "random_deletion(\"Hi i am \")"
   ]
  },
  {
   "cell_type": "code",
   "execution_count": 15,
   "id": "43744dab",
   "metadata": {},
   "outputs": [],
   "source": [
    "def sentence_pairs_generation(sentence1, sentence2, labels, pairs, datatype='train'):\n",
    "\t# initialize two empty lists to hold the (sentence, sentence) pairs and\n",
    "\t# labels to indicate if the grade of the pair\n",
    "\n",
    "  numClassesList = np.unique(labels)\n",
    "  #print(numClassesList)\n",
    "  idx = [np.where(labels == i)[0] for i in numClassesList]\n",
    "  #print(idx)\n",
    "  i=0\n",
    "\n",
    "  for idxA in range(len(sentence1)):      \n",
    "    dAns = sentence1[idxA]\n",
    "    sAns = sentence2[idxA]\n",
    "    label = int(labels[idxA])\n",
    "    \n",
    "\t\t  # prepare a pair and update the sentences and labels lists, respectively\n",
    "    pairs.append(InputExample(texts=[dAns, sAns], label=label))\n",
    "    \n",
    "    if datatype=='train' and random.random() >= 0.5:\n",
    "      sAns = random_deletion(sentence2[idxA])\n",
    "      #print(sAns)\n",
    "      pairs.append(InputExample(texts=[dAns, sAns], label=label))\n",
    "      i = i+1\n",
    "  \n",
    "  print(\"No.of augmented examples : \", i)\n",
    "\n",
    "     \n",
    "\t# return a 2-tuple of our image pairs and labels\n",
    "  return (pairs)"
   ]
  },
  {
   "cell_type": "code",
   "execution_count": 16,
   "id": "73812285",
   "metadata": {},
   "outputs": [],
   "source": [
    "set_seed(0)\n",
    "# Equal samples per class training\n",
    "#train_df_sample = pd.concat([train_df[train_df[1]==0].sample(num_training), train_df[train_df[1]==1].sample(num_training)])\n",
    "x_train_dA = train_data['ReferenceAnswer'].values.tolist()\n",
    "x_train_sA = train_data['StudentAnswer'].values.tolist()\n",
    "y_train = train_labels.tolist()\n",
    "y_train = [int(x) for x in y_train]"
   ]
  },
  {
   "cell_type": "code",
   "execution_count": 17,
   "id": "61fd6221",
   "metadata": {},
   "outputs": [
    {
     "name": "stdout",
     "output_type": "stream",
     "text": [
      "No.of augmented examples :  0\n"
     ]
    }
   ],
   "source": [
    "#use test dataset as dev dataset\n",
    "x_test_dA = test_data['ReferenceAnswer'].values.tolist()\n",
    "x_test_sA = test_data['StudentAnswer'].values.tolist()\n",
    "y_test = test_labels / 1.0\n",
    "y_test = test_labels.tolist()\n",
    "#y_test = [int(x) for x in y_test]\n",
    "\n",
    "test_examples = [] \n",
    "test_examples = sentence_pairs_generation(np.array(x_test_dA), np.array(x_test_sA), np.array(y_test), test_examples, datatype='test')"
   ]
  },
  {
   "cell_type": "code",
   "execution_count": 18,
   "id": "7a7d2e74",
   "metadata": {},
   "outputs": [
    {
     "data": {
      "text/plain": [
       "802"
      ]
     },
     "execution_count": 18,
     "metadata": {},
     "output_type": "execute_result"
    }
   ],
   "source": [
    "len(test_examples)"
   ]
  },
  {
   "cell_type": "code",
   "execution_count": 19,
   "id": "6049c777",
   "metadata": {},
   "outputs": [
    {
     "name": "stdout",
     "output_type": "stream",
     "text": [
      "No.of augmented examples :  852\n"
     ]
    }
   ],
   "source": [
    "train_examples = [] \n",
    "train_examples = sentence_pairs_generation(np.array(x_train_dA), np.array(x_train_sA), np.array(y_train), train_examples)"
   ]
  },
  {
   "cell_type": "code",
   "execution_count": 20,
   "id": "980e63b8",
   "metadata": {},
   "outputs": [
    {
     "data": {
      "text/plain": [
       "2456"
      ]
     },
     "execution_count": 20,
     "metadata": {},
     "output_type": "execute_result"
    }
   ],
   "source": [
    "len(train_examples)"
   ]
  },
  {
   "cell_type": "code",
   "execution_count": 21,
   "id": "5bef49b2",
   "metadata": {},
   "outputs": [],
   "source": [
    "# Save path of the model\n",
    "from datetime import datetime\n",
    "model_save_path = 'output/training_sprag_v4_'+datetime.now().strftime(\"%Y-%m-%d_%H-%M-%S\")"
   ]
  },
  {
   "cell_type": "code",
   "execution_count": 22,
   "id": "cad4f826",
   "metadata": {},
   "outputs": [],
   "source": [
    "from sentence_transformers import evaluation\n",
    "import math\n",
    "\n",
    "\n",
    "def train_and_evaluate(st_model, train_dataloader, test_dataloader, num_epochs,model_save_path):\n",
    "  model = SentenceTransformer(st_model)\n",
    "  #for evaluation\n",
    "  train_loss = losses.SoftmaxLoss(model=model, sentence_embedding_dimension=model.get_sentence_embedding_dimension(), num_labels=2)\n",
    "  #test_evaluator = evaluation.EmbeddingSimilarityEvaluator.from_input_examples(test_examples, batch_size=16, name='SPRAG-test')\n",
    "  x_test_dA = test_data['ReferenceAnswer'].values.tolist()\n",
    "  x_test_sA = test_data['StudentAnswer'].values.tolist()\n",
    "  y_test = test_labels \n",
    "\n",
    "  evaluator = evaluation.BinaryClassificationEvaluator(x_test_dA, x_test_sA, y_test)\n",
    "\n",
    "  #configuring the training\n",
    "  warmup_steps = math.ceil(len(train_dataloader) * num_epochs * 0.1) #10% of train data for warm-up\n",
    "  print(warmup_steps)\n",
    "  #train_loss = losses.CosineSimilarityLoss(model)\n",
    "  model.fit(train_objectives=[(train_dataloader, train_loss)],\n",
    "          evaluator=evaluator,\n",
    "          epochs=num_epochs,\n",
    "          warmup_steps=warmup_steps,\n",
    "          show_progress_bar=True,  \n",
    "          #evaluation_steps=50, \n",
    "          output_path=model_save_path,)\n",
    "  print(\"Training done...\")"
   ]
  },
  {
   "cell_type": "code",
   "execution_count": 57,
   "id": "4d6a71e0",
   "metadata": {},
   "outputs": [
    {
     "name": "stdout",
     "output_type": "stream",
     "text": [
      "2022-09-07 19:38:21 - Load pretrained SentenceTransformer: stsb-distilbert-base\n",
      "2022-09-07 19:38:22 - Use pytorch device: cuda\n",
      "2022-09-07 19:38:22 - Softmax loss: #Vectors concatenated: 3\n",
      "154\n"
     ]
    },
    {
     "data": {
      "application/vnd.jupyter.widget-view+json": {
       "model_id": "6b7fc72dbb724a80bc3954a1f0dafdda",
       "version_major": 2,
       "version_minor": 0
      },
      "text/plain": [
       "Epoch:   0%|          | 0/10 [00:00<?, ?it/s]"
      ]
     },
     "metadata": {},
     "output_type": "display_data"
    },
    {
     "data": {
      "application/vnd.jupyter.widget-view+json": {
       "model_id": "3af390dfffb34c9c91a2839ee6b5bdb7",
       "version_major": 2,
       "version_minor": 0
      },
      "text/plain": [
       "Iteration:   0%|          | 0/154 [00:00<?, ?it/s]"
      ]
     },
     "metadata": {},
     "output_type": "display_data"
    },
    {
     "name": "stdout",
     "output_type": "stream",
     "text": [
      "2022-09-07 19:38:34 - Binary Accuracy Evaluation of the model on  dataset after epoch 0:\n",
      "2022-09-07 19:38:35 - Accuracy with Cosine-Similarity:           77.68\t(Threshold: 0.4959)\n",
      "2022-09-07 19:38:35 - F1 with Cosine-Similarity:                 83.32\t(Threshold: 0.3624)\n",
      "2022-09-07 19:38:35 - Precision with Cosine-Similarity:          73.70\n",
      "2022-09-07 19:38:35 - Recall with Cosine-Similarity:             95.83\n",
      "2022-09-07 19:38:35 - Average Precision with Cosine-Similarity:  89.70\n",
      "\n",
      "2022-09-07 19:38:35 - Accuracy with Manhattan-Distance:           77.31\t(Threshold: 338.3260)\n",
      "2022-09-07 19:38:35 - F1 with Manhattan-Distance:                 83.42\t(Threshold: 385.9946)\n",
      "2022-09-07 19:38:35 - Precision with Manhattan-Distance:          73.74\n",
      "2022-09-07 19:38:35 - Recall with Manhattan-Distance:             96.02\n",
      "2022-09-07 19:38:35 - Average Precision with Manhattan-Distance:  89.82\n",
      "\n",
      "2022-09-07 19:38:35 - Accuracy with Euclidean-Distance:           77.56\t(Threshold: 15.4615)\n",
      "2022-09-07 19:38:35 - F1 with Euclidean-Distance:                 83.47\t(Threshold: 16.2257)\n",
      "2022-09-07 19:38:35 - Precision with Euclidean-Distance:          77.20\n",
      "2022-09-07 19:38:35 - Recall with Euclidean-Distance:             90.85\n",
      "2022-09-07 19:38:35 - Average Precision with Euclidean-Distance:  89.85\n",
      "\n",
      "2022-09-07 19:38:35 - Accuracy with Dot-Product:           77.18\t(Threshold: 127.9638)\n",
      "2022-09-07 19:38:35 - F1 with Dot-Product:                 83.36\t(Threshold: 84.1419)\n",
      "2022-09-07 19:38:35 - Precision with Dot-Product:          73.30\n",
      "2022-09-07 19:38:35 - Recall with Dot-Product:             96.62\n",
      "2022-09-07 19:38:35 - Average Precision with Dot-Product:  88.69\n",
      "\n",
      "2022-09-07 19:38:35 - Save model to binary_sim_output/stsb-distilbert-base\n"
     ]
    },
    {
     "data": {
      "application/vnd.jupyter.widget-view+json": {
       "model_id": "8df679b2452d47dfa7c243b0adfe4e7f",
       "version_major": 2,
       "version_minor": 0
      },
      "text/plain": [
       "Iteration:   0%|          | 0/154 [00:00<?, ?it/s]"
      ]
     },
     "metadata": {},
     "output_type": "display_data"
    },
    {
     "name": "stdout",
     "output_type": "stream",
     "text": [
      "2022-09-07 19:38:48 - Binary Accuracy Evaluation of the model on  dataset after epoch 1:\n",
      "2022-09-07 19:38:48 - Accuracy with Cosine-Similarity:           80.42\t(Threshold: 0.4148)\n",
      "2022-09-07 19:38:48 - F1 with Cosine-Similarity:                 85.38\t(Threshold: 0.2960)\n",
      "2022-09-07 19:38:48 - Precision with Cosine-Similarity:          77.38\n",
      "2022-09-07 19:38:48 - Recall with Cosine-Similarity:             95.23\n",
      "2022-09-07 19:38:48 - Average Precision with Cosine-Similarity:  90.71\n",
      "\n",
      "2022-09-07 19:38:48 - Accuracy with Manhattan-Distance:           80.80\t(Threshold: 373.5344)\n",
      "2022-09-07 19:38:48 - F1 with Manhattan-Distance:                 85.56\t(Threshold: 401.1766)\n",
      "2022-09-07 19:38:48 - Precision with Manhattan-Distance:          78.76\n",
      "2022-09-07 19:38:48 - Recall with Manhattan-Distance:             93.64\n",
      "2022-09-07 19:38:48 - Average Precision with Manhattan-Distance:  90.82\n",
      "\n",
      "2022-09-07 19:38:48 - Accuracy with Euclidean-Distance:           81.05\t(Threshold: 17.1215)\n",
      "2022-09-07 19:38:48 - F1 with Euclidean-Distance:                 85.50\t(Threshold: 17.1215)\n",
      "2022-09-07 19:38:48 - Precision with Euclidean-Distance:          82.20\n",
      "2022-09-07 19:38:48 - Recall with Euclidean-Distance:             89.07\n",
      "2022-09-07 19:38:48 - Average Precision with Euclidean-Distance:  90.86\n",
      "\n",
      "2022-09-07 19:38:48 - Accuracy with Dot-Product:           79.93\t(Threshold: 91.5156)\n",
      "2022-09-07 19:38:48 - F1 with Dot-Product:                 85.38\t(Threshold: 79.0458)\n",
      "2022-09-07 19:38:48 - Precision with Dot-Product:          78.18\n",
      "2022-09-07 19:38:48 - Recall with Dot-Product:             94.04\n",
      "2022-09-07 19:38:48 - Average Precision with Dot-Product:  90.24\n",
      "\n",
      "2022-09-07 19:38:48 - Save model to binary_sim_output/stsb-distilbert-base\n"
     ]
    },
    {
     "data": {
      "application/vnd.jupyter.widget-view+json": {
       "model_id": "833a8a6afff241809ec8178f5e064633",
       "version_major": 2,
       "version_minor": 0
      },
      "text/plain": [
       "Iteration:   0%|          | 0/154 [00:00<?, ?it/s]"
      ]
     },
     "metadata": {},
     "output_type": "display_data"
    },
    {
     "name": "stdout",
     "output_type": "stream",
     "text": [
      "2022-09-07 19:39:01 - Binary Accuracy Evaluation of the model on  dataset after epoch 2:\n",
      "2022-09-07 19:39:02 - Accuracy with Cosine-Similarity:           80.55\t(Threshold: 0.2660)\n",
      "2022-09-07 19:39:02 - F1 with Cosine-Similarity:                 85.77\t(Threshold: 0.2660)\n",
      "2022-09-07 19:39:02 - Precision with Cosine-Similarity:          79.26\n",
      "2022-09-07 19:39:02 - Recall with Cosine-Similarity:             93.44\n",
      "2022-09-07 19:39:02 - Average Precision with Cosine-Similarity:  90.53\n",
      "\n",
      "2022-09-07 19:39:02 - Accuracy with Manhattan-Distance:           79.68\t(Threshold: 420.0049)\n",
      "2022-09-07 19:39:02 - F1 with Manhattan-Distance:                 85.56\t(Threshold: 445.2050)\n",
      "2022-09-07 19:39:02 - Precision with Manhattan-Distance:          76.41\n",
      "2022-09-07 19:39:02 - Recall with Manhattan-Distance:             97.22\n",
      "2022-09-07 19:39:02 - Average Precision with Manhattan-Distance:  90.62\n",
      "\n",
      "2022-09-07 19:39:02 - Accuracy with Euclidean-Distance:           79.93\t(Threshold: 19.1368)\n",
      "2022-09-07 19:39:02 - F1 with Euclidean-Distance:                 85.56\t(Threshold: 20.1817)\n",
      "2022-09-07 19:39:02 - Precision with Euclidean-Distance:          76.41\n",
      "2022-09-07 19:39:02 - Recall with Euclidean-Distance:             97.22\n",
      "2022-09-07 19:39:02 - Average Precision with Euclidean-Distance:  90.63\n",
      "\n",
      "2022-09-07 19:39:02 - Accuracy with Dot-Product:           80.42\t(Threshold: 68.3529)\n",
      "2022-09-07 19:39:02 - F1 with Dot-Product:                 85.74\t(Threshold: 54.8126)\n",
      "2022-09-07 19:39:02 - Precision with Dot-Product:          77.32\n",
      "2022-09-07 19:39:02 - Recall with Dot-Product:             96.22\n",
      "2022-09-07 19:39:02 - Average Precision with Dot-Product:  90.16\n",
      "\n"
     ]
    },
    {
     "data": {
      "application/vnd.jupyter.widget-view+json": {
       "model_id": "186a510713694f6ba8cb69354adf2ca0",
       "version_major": 2,
       "version_minor": 0
      },
      "text/plain": [
       "Iteration:   0%|          | 0/154 [00:00<?, ?it/s]"
      ]
     },
     "metadata": {},
     "output_type": "display_data"
    },
    {
     "name": "stdout",
     "output_type": "stream",
     "text": [
      "2022-09-07 19:39:14 - Binary Accuracy Evaluation of the model on  dataset after epoch 3:\n",
      "2022-09-07 19:39:14 - Accuracy with Cosine-Similarity:           80.67\t(Threshold: 0.2892)\n",
      "2022-09-07 19:39:14 - F1 with Cosine-Similarity:                 86.00\t(Threshold: 0.1721)\n",
      "2022-09-07 19:39:14 - Precision with Cosine-Similarity:          78.81\n",
      "2022-09-07 19:39:14 - Recall with Cosine-Similarity:             94.63\n",
      "2022-09-07 19:39:14 - Average Precision with Cosine-Similarity:  91.00\n",
      "\n",
      "2022-09-07 19:39:14 - Accuracy with Manhattan-Distance:           80.92\t(Threshold: 436.1743)\n",
      "2022-09-07 19:39:14 - F1 with Manhattan-Distance:                 86.12\t(Threshold: 460.7914)\n",
      "2022-09-07 19:39:14 - Precision with Manhattan-Distance:          77.94\n",
      "2022-09-07 19:39:14 - Recall with Manhattan-Distance:             96.22\n",
      "2022-09-07 19:39:14 - Average Precision with Manhattan-Distance:  91.13\n",
      "\n",
      "2022-09-07 19:39:14 - Accuracy with Euclidean-Distance:           81.17\t(Threshold: 20.6629)\n",
      "2022-09-07 19:39:14 - F1 with Euclidean-Distance:                 86.41\t(Threshold: 20.6629)\n",
      "2022-09-07 19:39:14 - Precision with Euclidean-Distance:          78.95\n",
      "2022-09-07 19:39:14 - Recall with Euclidean-Distance:             95.43\n",
      "2022-09-07 19:39:14 - Average Precision with Euclidean-Distance:  91.11\n",
      "\n",
      "2022-09-07 19:39:14 - Accuracy with Dot-Product:           80.67\t(Threshold: 62.1257)\n",
      "2022-09-07 19:39:14 - F1 with Dot-Product:                 85.84\t(Threshold: 46.1227)\n",
      "2022-09-07 19:39:14 - Precision with Dot-Product:          78.96\n",
      "2022-09-07 19:39:14 - Recall with Dot-Product:             94.04\n",
      "2022-09-07 19:39:14 - Average Precision with Dot-Product:  90.61\n",
      "\n",
      "2022-09-07 19:39:14 - Save model to binary_sim_output/stsb-distilbert-base\n"
     ]
    },
    {
     "data": {
      "application/vnd.jupyter.widget-view+json": {
       "model_id": "54123f8e01f5403ba704032bffa19266",
       "version_major": 2,
       "version_minor": 0
      },
      "text/plain": [
       "Iteration:   0%|          | 0/154 [00:00<?, ?it/s]"
      ]
     },
     "metadata": {},
     "output_type": "display_data"
    },
    {
     "name": "stdout",
     "output_type": "stream",
     "text": [
      "2022-09-07 19:39:27 - Binary Accuracy Evaluation of the model on  dataset after epoch 4:\n",
      "2022-09-07 19:39:28 - Accuracy with Cosine-Similarity:           80.30\t(Threshold: 0.1812)\n",
      "2022-09-07 19:39:28 - F1 with Cosine-Similarity:                 85.48\t(Threshold: 0.1130)\n",
      "2022-09-07 19:39:28 - Precision with Cosine-Similarity:          78.63\n",
      "2022-09-07 19:39:28 - Recall with Cosine-Similarity:             93.64\n",
      "2022-09-07 19:39:28 - Average Precision with Cosine-Similarity:  90.94\n",
      "\n",
      "2022-09-07 19:39:28 - Accuracy with Manhattan-Distance:           80.30\t(Threshold: 429.2671)\n",
      "2022-09-07 19:39:28 - F1 with Manhattan-Distance:                 85.22\t(Threshold: 466.4043)\n",
      "2022-09-07 19:39:28 - Precision with Manhattan-Distance:          79.18\n",
      "2022-09-07 19:39:28 - Recall with Manhattan-Distance:             92.25\n",
      "2022-09-07 19:39:28 - Average Precision with Manhattan-Distance:  91.04\n",
      "\n",
      "2022-09-07 19:39:28 - Accuracy with Euclidean-Distance:           80.30\t(Threshold: 18.9730)\n",
      "2022-09-07 19:39:28 - F1 with Euclidean-Distance:                 85.50\t(Threshold: 21.2758)\n",
      "2022-09-07 19:39:28 - Precision with Euclidean-Distance:          79.39\n",
      "2022-09-07 19:39:28 - Recall with Euclidean-Distance:             92.64\n",
      "2022-09-07 19:39:28 - Average Precision with Euclidean-Distance:  91.02\n",
      "\n",
      "2022-09-07 19:39:28 - Accuracy with Dot-Product:           80.30\t(Threshold: 43.9152)\n",
      "2022-09-07 19:39:28 - F1 with Dot-Product:                 85.48\t(Threshold: 30.1582)\n",
      "2022-09-07 19:39:28 - Precision with Dot-Product:          78.63\n",
      "2022-09-07 19:39:28 - Recall with Dot-Product:             93.64\n",
      "2022-09-07 19:39:28 - Average Precision with Dot-Product:  90.66\n",
      "\n"
     ]
    },
    {
     "data": {
      "application/vnd.jupyter.widget-view+json": {
       "model_id": "e78b31d4b4f5456a93df86f430e72b94",
       "version_major": 2,
       "version_minor": 0
      },
      "text/plain": [
       "Iteration:   0%|          | 0/154 [00:00<?, ?it/s]"
      ]
     },
     "metadata": {},
     "output_type": "display_data"
    },
    {
     "name": "stdout",
     "output_type": "stream",
     "text": [
      "2022-09-07 19:39:40 - Binary Accuracy Evaluation of the model on  dataset after epoch 5:\n",
      "2022-09-07 19:39:41 - Accuracy with Cosine-Similarity:           80.05\t(Threshold: 0.2277)\n",
      "2022-09-07 19:39:41 - F1 with Cosine-Similarity:                 85.59\t(Threshold: 0.0913)\n",
      "2022-09-07 19:39:41 - Precision with Cosine-Similarity:          77.85\n",
      "2022-09-07 19:39:41 - Recall with Cosine-Similarity:             95.03\n",
      "2022-09-07 19:39:41 - Average Precision with Cosine-Similarity:  90.70\n",
      "\n",
      "2022-09-07 19:39:41 - Accuracy with Manhattan-Distance:           80.42\t(Threshold: 443.8375)\n",
      "2022-09-07 19:39:41 - F1 with Manhattan-Distance:                 85.79\t(Threshold: 467.0510)\n",
      "2022-09-07 19:39:41 - Precision with Manhattan-Distance:          78.74\n",
      "2022-09-07 19:39:41 - Recall with Manhattan-Distance:             94.23\n",
      "2022-09-07 19:39:41 - Average Precision with Manhattan-Distance:  90.82\n",
      "\n",
      "2022-09-07 19:39:41 - Accuracy with Euclidean-Distance:           80.30\t(Threshold: 20.1788)\n",
      "2022-09-07 19:39:41 - F1 with Euclidean-Distance:                 85.77\t(Threshold: 21.3535)\n",
      "2022-09-07 19:39:41 - Precision with Euclidean-Distance:          78.42\n",
      "2022-09-07 19:39:41 - Recall with Euclidean-Distance:             94.63\n",
      "2022-09-07 19:39:41 - Average Precision with Euclidean-Distance:  90.80\n",
      "\n",
      "2022-09-07 19:39:41 - Accuracy with Dot-Product:           80.17\t(Threshold: 64.8383)\n",
      "2022-09-07 19:39:41 - F1 with Dot-Product:                 85.59\t(Threshold: 24.7076)\n",
      "2022-09-07 19:39:41 - Precision with Dot-Product:          77.85\n",
      "2022-09-07 19:39:41 - Recall with Dot-Product:             95.03\n",
      "2022-09-07 19:39:41 - Average Precision with Dot-Product:  90.40\n",
      "\n"
     ]
    },
    {
     "data": {
      "application/vnd.jupyter.widget-view+json": {
       "model_id": "fe8aae47ab0843af975993c9955d6b10",
       "version_major": 2,
       "version_minor": 0
      },
      "text/plain": [
       "Iteration:   0%|          | 0/154 [00:00<?, ?it/s]"
      ]
     },
     "metadata": {},
     "output_type": "display_data"
    },
    {
     "name": "stdout",
     "output_type": "stream",
     "text": [
      "2022-09-07 19:39:53 - Binary Accuracy Evaluation of the model on  dataset after epoch 6:\n",
      "2022-09-07 19:39:53 - Accuracy with Cosine-Similarity:           80.17\t(Threshold: 0.4821)\n",
      "2022-09-07 19:39:53 - F1 with Cosine-Similarity:                 85.27\t(Threshold: 0.3790)\n",
      "2022-09-07 19:39:53 - Precision with Cosine-Similarity:          79.42\n",
      "2022-09-07 19:39:53 - Recall with Cosine-Similarity:             92.05\n",
      "2022-09-07 19:39:53 - Average Precision with Cosine-Similarity:  90.52\n",
      "\n",
      "2022-09-07 19:39:53 - Accuracy with Manhattan-Distance:           79.80\t(Threshold: 400.1886)\n",
      "2022-09-07 19:39:53 - F1 with Manhattan-Distance:                 85.12\t(Threshold: 433.3365)\n",
      "2022-09-07 19:39:53 - Precision with Manhattan-Distance:          77.89\n",
      "2022-09-07 19:39:53 - Recall with Manhattan-Distance:             93.84\n",
      "2022-09-07 19:39:53 - Average Precision with Manhattan-Distance:  90.62\n",
      "\n",
      "2022-09-07 19:39:53 - Accuracy with Euclidean-Distance:           80.05\t(Threshold: 18.3246)\n",
      "2022-09-07 19:39:53 - F1 with Euclidean-Distance:                 85.24\t(Threshold: 18.3246)\n",
      "2022-09-07 19:39:53 - Precision with Euclidean-Distance:          79.52\n",
      "2022-09-07 19:39:53 - Recall with Euclidean-Distance:             91.85\n",
      "2022-09-07 19:39:53 - Average Precision with Euclidean-Distance:  90.59\n",
      "\n",
      "2022-09-07 19:39:53 - Accuracy with Dot-Product:           80.05\t(Threshold: 132.4574)\n",
      "2022-09-07 19:39:53 - F1 with Dot-Product:                 85.13\t(Threshold: 104.2349)\n",
      "2022-09-07 19:39:53 - Precision with Dot-Product:          79.48\n",
      "2022-09-07 19:39:53 - Recall with Dot-Product:             91.65\n",
      "2022-09-07 19:39:53 - Average Precision with Dot-Product:  90.18\n",
      "\n"
     ]
    },
    {
     "data": {
      "application/vnd.jupyter.widget-view+json": {
       "model_id": "d876d4180b4b46f9a8189468e46e8640",
       "version_major": 2,
       "version_minor": 0
      },
      "text/plain": [
       "Iteration:   0%|          | 0/154 [00:00<?, ?it/s]"
      ]
     },
     "metadata": {},
     "output_type": "display_data"
    },
    {
     "name": "stdout",
     "output_type": "stream",
     "text": [
      "2022-09-07 19:40:05 - Binary Accuracy Evaluation of the model on  dataset after epoch 7:\n",
      "2022-09-07 19:40:06 - Accuracy with Cosine-Similarity:           79.80\t(Threshold: 0.1110)\n",
      "2022-09-07 19:40:06 - F1 with Cosine-Similarity:                 85.16\t(Threshold: 0.1046)\n",
      "2022-09-07 19:40:06 - Precision with Cosine-Similarity:          78.95\n",
      "2022-09-07 19:40:06 - Recall with Cosine-Similarity:             92.45\n",
      "2022-09-07 19:40:06 - Average Precision with Cosine-Similarity:  90.46\n",
      "\n",
      "2022-09-07 19:40:06 - Accuracy with Manhattan-Distance:           80.05\t(Threshold: 480.1751)\n",
      "2022-09-07 19:40:06 - F1 with Manhattan-Distance:                 85.43\t(Threshold: 489.0123)\n",
      "2022-09-07 19:40:06 - Precision with Manhattan-Distance:          78.82\n",
      "2022-09-07 19:40:06 - Recall with Manhattan-Distance:             93.24\n",
      "2022-09-07 19:40:06 - Average Precision with Manhattan-Distance:  90.56\n",
      "\n",
      "2022-09-07 19:40:06 - Accuracy with Euclidean-Distance:           80.05\t(Threshold: 21.2808)\n",
      "2022-09-07 19:40:06 - F1 with Euclidean-Distance:                 85.40\t(Threshold: 22.4774)\n",
      "2022-09-07 19:40:06 - Precision with Euclidean-Distance:          78.50\n",
      "2022-09-07 19:40:06 - Recall with Euclidean-Distance:             93.64\n",
      "2022-09-07 19:40:06 - Average Precision with Euclidean-Distance:  90.57\n",
      "\n",
      "2022-09-07 19:40:06 - Accuracy with Dot-Product:           79.80\t(Threshold: 30.5408)\n",
      "2022-09-07 19:40:06 - F1 with Dot-Product:                 85.14\t(Threshold: 30.5408)\n",
      "2022-09-07 19:40:06 - Precision with Dot-Product:          79.05\n",
      "2022-09-07 19:40:06 - Recall with Dot-Product:             92.25\n",
      "2022-09-07 19:40:06 - Average Precision with Dot-Product:  90.10\n",
      "\n"
     ]
    },
    {
     "data": {
      "application/vnd.jupyter.widget-view+json": {
       "model_id": "d2dcd612bd1740c2ba6bfa94a5d10a56",
       "version_major": 2,
       "version_minor": 0
      },
      "text/plain": [
       "Iteration:   0%|          | 0/154 [00:00<?, ?it/s]"
      ]
     },
     "metadata": {},
     "output_type": "display_data"
    },
    {
     "name": "stdout",
     "output_type": "stream",
     "text": [
      "2022-09-07 19:40:18 - Binary Accuracy Evaluation of the model on  dataset after epoch 8:\n",
      "2022-09-07 19:40:19 - Accuracy with Cosine-Similarity:           79.80\t(Threshold: 0.2270)\n",
      "2022-09-07 19:40:19 - F1 with Cosine-Similarity:                 85.20\t(Threshold: 0.0596)\n",
      "2022-09-07 19:40:19 - Precision with Cosine-Similarity:          77.61\n",
      "2022-09-07 19:40:19 - Recall with Cosine-Similarity:             94.43\n",
      "2022-09-07 19:40:19 - Average Precision with Cosine-Similarity:  90.41\n",
      "\n",
      "2022-09-07 19:40:19 - Accuracy with Manhattan-Distance:           80.17\t(Threshold: 457.9717)\n",
      "2022-09-07 19:40:19 - F1 with Manhattan-Distance:                 85.43\t(Threshold: 457.9717)\n",
      "2022-09-07 19:40:19 - Precision with Manhattan-Distance:          79.25\n",
      "2022-09-07 19:40:19 - Recall with Manhattan-Distance:             92.64\n",
      "2022-09-07 19:40:19 - Average Precision with Manhattan-Distance:  90.51\n",
      "\n",
      "2022-09-07 19:40:19 - Accuracy with Euclidean-Distance:           80.17\t(Threshold: 20.8122)\n",
      "2022-09-07 19:40:19 - F1 with Euclidean-Distance:                 85.40\t(Threshold: 20.8122)\n",
      "2022-09-07 19:40:19 - Precision with Euclidean-Distance:          79.35\n",
      "2022-09-07 19:40:19 - Recall with Euclidean-Distance:             92.45\n",
      "2022-09-07 19:40:19 - Average Precision with Euclidean-Distance:  90.50\n",
      "\n",
      "2022-09-07 19:40:19 - Accuracy with Dot-Product:           79.80\t(Threshold: 55.0432)\n",
      "2022-09-07 19:40:19 - F1 with Dot-Product:                 85.28\t(Threshold: 16.6143)\n",
      "2022-09-07 19:40:19 - Precision with Dot-Product:          77.74\n",
      "2022-09-07 19:40:19 - Recall with Dot-Product:             94.43\n",
      "2022-09-07 19:40:19 - Average Precision with Dot-Product:  89.97\n",
      "\n"
     ]
    },
    {
     "data": {
      "application/vnd.jupyter.widget-view+json": {
       "model_id": "e5f8959cb1414ed68d9072d9cb6d58b9",
       "version_major": 2,
       "version_minor": 0
      },
      "text/plain": [
       "Iteration:   0%|          | 0/154 [00:00<?, ?it/s]"
      ]
     },
     "metadata": {},
     "output_type": "display_data"
    },
    {
     "name": "stdout",
     "output_type": "stream",
     "text": [
      "2022-09-07 19:40:31 - Binary Accuracy Evaluation of the model on  dataset after epoch 9:\n",
      "2022-09-07 19:40:31 - Accuracy with Cosine-Similarity:           79.93\t(Threshold: 0.2009)\n",
      "2022-09-07 19:40:31 - F1 with Cosine-Similarity:                 85.23\t(Threshold: 0.0841)\n",
      "2022-09-07 19:40:31 - Precision with Cosine-Similarity:          77.92\n",
      "2022-09-07 19:40:31 - Recall with Cosine-Similarity:             94.04\n",
      "2022-09-07 19:40:31 - Average Precision with Cosine-Similarity:  90.46\n",
      "\n",
      "2022-09-07 19:40:31 - Accuracy with Manhattan-Distance:           80.05\t(Threshold: 460.4834)\n",
      "2022-09-07 19:40:31 - F1 with Manhattan-Distance:                 85.43\t(Threshold: 471.7573)\n",
      "2022-09-07 19:40:31 - Precision with Manhattan-Distance:          78.82\n",
      "2022-09-07 19:40:31 - Recall with Manhattan-Distance:             93.24\n",
      "2022-09-07 19:40:31 - Average Precision with Manhattan-Distance:  90.56\n",
      "\n",
      "2022-09-07 19:40:31 - Accuracy with Euclidean-Distance:           80.05\t(Threshold: 21.7734)\n",
      "2022-09-07 19:40:31 - F1 with Euclidean-Distance:                 85.48\t(Threshold: 21.7734)\n",
      "2022-09-07 19:40:31 - Precision with Euclidean-Distance:          78.63\n",
      "2022-09-07 19:40:31 - Recall with Euclidean-Distance:             93.64\n",
      "2022-09-07 19:40:31 - Average Precision with Euclidean-Distance:  90.58\n",
      "\n",
      "2022-09-07 19:40:31 - Accuracy with Dot-Product:           79.93\t(Threshold: 53.3803)\n",
      "2022-09-07 19:40:31 - F1 with Dot-Product:                 85.30\t(Threshold: 22.9083)\n",
      "2022-09-07 19:40:31 - Precision with Dot-Product:          78.05\n",
      "2022-09-07 19:40:31 - Recall with Dot-Product:             94.04\n",
      "2022-09-07 19:40:31 - Average Precision with Dot-Product:  90.04\n",
      "\n",
      "Training done...\n",
      "\n",
      "\n",
      "\n",
      "                     ********** stsb-distilbert-base **********\n",
      "2022-09-07 19:40:31 - Load pretrained SentenceTransformer: binary_sim_output/stsb-distilbert-base\n",
      "2022-09-07 19:40:32 - Use pytorch device: cuda\n",
      "2022-09-07 19:40:32 - Softmax loss: #Vectors concatenated: 3\n",
      "2022-09-07 19:40:32 - EmbeddingSimilarityEvaluator: Evaluating the model on SPRAG-test dataset:\n",
      "2022-09-07 19:40:34 - Cosine-Similarity :\tPearson: 0.6385\tSpearman: 0.6159\n",
      "2022-09-07 19:40:34 - Manhattan-Distance:\tPearson: 0.6137\tSpearman: 0.6183\n",
      "2022-09-07 19:40:34 - Euclidean-Distance:\tPearson: 0.6157\tSpearman: 0.6184\n",
      "2022-09-07 19:40:34 - Dot-Product-Similarity:\tPearson: 0.6330\tSpearman: 0.6111\n",
      "2022-09-07 19:40:34 - Binary Accuracy Evaluation of the model on  dataset:\n",
      "2022-09-07 19:40:34 - Accuracy with Cosine-Similarity:           80.67\t(Threshold: 0.2892)\n",
      "2022-09-07 19:40:34 - F1 with Cosine-Similarity:                 86.00\t(Threshold: 0.1721)\n",
      "2022-09-07 19:40:34 - Precision with Cosine-Similarity:          78.81\n",
      "2022-09-07 19:40:34 - Recall with Cosine-Similarity:             94.63\n",
      "2022-09-07 19:40:34 - Average Precision with Cosine-Similarity:  91.00\n",
      "\n",
      "2022-09-07 19:40:34 - Accuracy with Manhattan-Distance:           80.92\t(Threshold: 436.1743)\n",
      "2022-09-07 19:40:34 - F1 with Manhattan-Distance:                 86.12\t(Threshold: 460.7914)\n",
      "2022-09-07 19:40:34 - Precision with Manhattan-Distance:          77.94\n",
      "2022-09-07 19:40:34 - Recall with Manhattan-Distance:             96.22\n",
      "2022-09-07 19:40:34 - Average Precision with Manhattan-Distance:  91.13\n",
      "\n",
      "2022-09-07 19:40:34 - Accuracy with Euclidean-Distance:           81.17\t(Threshold: 20.6629)\n",
      "2022-09-07 19:40:34 - F1 with Euclidean-Distance:                 86.41\t(Threshold: 20.6629)\n",
      "2022-09-07 19:40:34 - Precision with Euclidean-Distance:          78.95\n",
      "2022-09-07 19:40:34 - Recall with Euclidean-Distance:             95.43\n",
      "2022-09-07 19:40:34 - Average Precision with Euclidean-Distance:  91.11\n",
      "\n",
      "2022-09-07 19:40:34 - Accuracy with Dot-Product:           80.67\t(Threshold: 62.1257)\n",
      "2022-09-07 19:40:34 - F1 with Dot-Product:                 85.84\t(Threshold: 46.1227)\n",
      "2022-09-07 19:40:34 - Precision with Dot-Product:          78.96\n",
      "2022-09-07 19:40:34 - Recall with Dot-Product:             94.04\n",
      "2022-09-07 19:40:34 - Average Precision with Dot-Product:  90.61\n",
      "\n"
     ]
    },
    {
     "data": {
      "text/plain": [
       "0.9113187971150507"
      ]
     },
     "execution_count": 57,
     "metadata": {},
     "output_type": "execute_result"
    }
   ],
   "source": [
    "st_model = 'stsb-distilbert-base'\n",
    "num_epochs = 10\n",
    "batch_size=16\n",
    "model_save_path = \"binary_sim_output/\"+st_model\n",
    "train_dataloader = DataLoader(train_examples, shuffle=True, batch_size=batch_size)\n",
    "  \n",
    "test_dataloader = DataLoader(test_examples, shuffle=True, batch_size=batch_size)\n",
    "model = train_and_evaluate(st_model, train_dataloader, test_dataloader, num_epochs, model_save_path)\n",
    "print(\"\\n\\n\")\n",
    "print(\" \"*20, \"*\"*10, st_model , \"*\"*10)\n",
    "\n",
    "# Load the stored model and evaluate its performance on mohler test dataset\n",
    "model = SentenceTransformer(model_save_path)\n",
    "train_loss = losses.SoftmaxLoss(model=model, sentence_embedding_dimension=model.get_sentence_embedding_dimension(), num_labels=2)\n",
    "test_evaluator = evaluation.EmbeddingSimilarityEvaluator.from_input_examples(test_examples, batch_size=16, name='SPRAG-test')\n",
    "test_evaluator(model, output_path=model_save_path)\n",
    "train_loss.cuda()\n",
    "\n",
    "x_test_dA = test_data['ReferenceAnswer'].values.tolist()\n",
    "x_test_sA = test_data['StudentAnswer'].values.tolist()\n",
    "y_test = test_labels \n",
    "\n",
    "evaluator = evaluation.BinaryClassificationEvaluator(x_test_dA, x_test_sA, y_test)\n",
    "evaluator(model, output_path=model_save_path)\n"
   ]
  },
  {
   "cell_type": "code",
   "execution_count": 58,
   "id": "28ca7d4f",
   "metadata": {},
   "outputs": [
    {
     "name": "stdout",
     "output_type": "stream",
     "text": [
      "2022-09-07 19:40:34 - Load pretrained SentenceTransformer: sentence-transformers/paraphrase-albert-small-v2\n",
      "2022-09-07 19:40:34 - Use pytorch device: cuda\n",
      "2022-09-07 19:40:34 - Softmax loss: #Vectors concatenated: 3\n",
      "154\n"
     ]
    },
    {
     "data": {
      "application/vnd.jupyter.widget-view+json": {
       "model_id": "11471bf2df6c4ea3a767bf02842407f9",
       "version_major": 2,
       "version_minor": 0
      },
      "text/plain": [
       "Epoch:   0%|          | 0/10 [00:00<?, ?it/s]"
      ]
     },
     "metadata": {},
     "output_type": "display_data"
    },
    {
     "data": {
      "application/vnd.jupyter.widget-view+json": {
       "model_id": "684c44d8ab5241beb3768cdf38d0f990",
       "version_major": 2,
       "version_minor": 0
      },
      "text/plain": [
       "Iteration:   0%|          | 0/154 [00:00<?, ?it/s]"
      ]
     },
     "metadata": {},
     "output_type": "display_data"
    },
    {
     "name": "stdout",
     "output_type": "stream",
     "text": [
      "2022-09-07 19:40:45 - Binary Accuracy Evaluation of the model on  dataset after epoch 0:\n",
      "2022-09-07 19:40:46 - Accuracy with Cosine-Similarity:           75.44\t(Threshold: 0.5219)\n",
      "2022-09-07 19:40:46 - F1 with Cosine-Similarity:                 81.40\t(Threshold: 0.4040)\n",
      "2022-09-07 19:40:46 - Precision with Cosine-Similarity:          73.98\n",
      "2022-09-07 19:40:46 - Recall with Cosine-Similarity:             90.46\n",
      "2022-09-07 19:40:46 - Average Precision with Cosine-Similarity:  87.49\n",
      "\n",
      "2022-09-07 19:40:46 - Accuracy with Manhattan-Distance:           75.44\t(Threshold: 530.0317)\n",
      "2022-09-07 19:40:46 - F1 with Manhattan-Distance:                 81.94\t(Threshold: 530.0317)\n",
      "2022-09-07 19:40:46 - Precision with Manhattan-Distance:          76.02\n",
      "2022-09-07 19:40:46 - Recall with Manhattan-Distance:             88.87\n",
      "2022-09-07 19:40:46 - Average Precision with Manhattan-Distance:  86.91\n",
      "\n",
      "2022-09-07 19:40:46 - Accuracy with Euclidean-Distance:           75.69\t(Threshold: 24.2193)\n",
      "2022-09-07 19:40:46 - F1 with Euclidean-Distance:                 82.22\t(Threshold: 24.2193)\n",
      "2022-09-07 19:40:46 - Precision with Euclidean-Distance:          75.93\n",
      "2022-09-07 19:40:46 - Recall with Euclidean-Distance:             89.66\n",
      "2022-09-07 19:40:46 - Average Precision with Euclidean-Distance:  86.95\n",
      "\n",
      "2022-09-07 19:40:46 - Accuracy with Dot-Product:           72.94\t(Threshold: 257.9886)\n",
      "2022-09-07 19:40:46 - F1 with Dot-Product:                 80.61\t(Threshold: 163.3562)\n",
      "2022-09-07 19:40:46 - Precision with Dot-Product:          69.99\n",
      "2022-09-07 19:40:46 - Recall with Dot-Product:             95.03\n",
      "2022-09-07 19:40:46 - Average Precision with Dot-Product:  85.40\n",
      "\n",
      "2022-09-07 19:40:46 - Save model to binary_sim_output/sentence-transformers/paraphrase-albert-small-v2\n"
     ]
    },
    {
     "data": {
      "application/vnd.jupyter.widget-view+json": {
       "model_id": "289321124f8a4416a7b4f122949e50c1",
       "version_major": 2,
       "version_minor": 0
      },
      "text/plain": [
       "Iteration:   0%|          | 0/154 [00:00<?, ?it/s]"
      ]
     },
     "metadata": {},
     "output_type": "display_data"
    },
    {
     "name": "stdout",
     "output_type": "stream",
     "text": [
      "2022-09-07 19:40:58 - Binary Accuracy Evaluation of the model on  dataset after epoch 1:\n",
      "2022-09-07 19:40:58 - Accuracy with Cosine-Similarity:           78.18\t(Threshold: 0.4363)\n",
      "2022-09-07 19:40:58 - F1 with Cosine-Similarity:                 83.32\t(Threshold: 0.4363)\n",
      "2022-09-07 19:40:58 - Precision with Cosine-Similarity:          80.04\n",
      "2022-09-07 19:40:58 - Recall with Cosine-Similarity:             86.88\n",
      "2022-09-07 19:40:58 - Average Precision with Cosine-Similarity:  88.53\n",
      "\n",
      "2022-09-07 19:40:58 - Accuracy with Manhattan-Distance:           78.05\t(Threshold: 593.5033)\n",
      "2022-09-07 19:40:58 - F1 with Manhattan-Distance:                 83.88\t(Threshold: 643.4340)\n",
      "2022-09-07 19:40:58 - Precision with Manhattan-Distance:          75.32\n",
      "2022-09-07 19:40:58 - Recall with Manhattan-Distance:             94.63\n",
      "2022-09-07 19:40:58 - Average Precision with Manhattan-Distance:  88.54\n",
      "\n",
      "2022-09-07 19:40:58 - Accuracy with Euclidean-Distance:           78.30\t(Threshold: 27.0821)\n",
      "2022-09-07 19:40:58 - F1 with Euclidean-Distance:                 83.96\t(Threshold: 28.8095)\n",
      "2022-09-07 19:40:58 - Precision with Euclidean-Distance:          76.09\n",
      "2022-09-07 19:40:58 - Recall with Euclidean-Distance:             93.64\n",
      "2022-09-07 19:40:58 - Average Precision with Euclidean-Distance:  88.71\n",
      "\n",
      "2022-09-07 19:40:58 - Accuracy with Dot-Product:           76.56\t(Threshold: 307.1909)\n",
      "2022-09-07 19:40:58 - F1 with Dot-Product:                 82.06\t(Threshold: 219.2595)\n",
      "2022-09-07 19:40:58 - Precision with Dot-Product:          73.02\n",
      "2022-09-07 19:40:58 - Recall with Dot-Product:             93.64\n",
      "2022-09-07 19:40:58 - Average Precision with Dot-Product:  87.22\n",
      "\n",
      "2022-09-07 19:40:58 - Save model to binary_sim_output/sentence-transformers/paraphrase-albert-small-v2\n"
     ]
    },
    {
     "data": {
      "application/vnd.jupyter.widget-view+json": {
       "model_id": "ccabce2909ac48d78a40691bbe5f612f",
       "version_major": 2,
       "version_minor": 0
      },
      "text/plain": [
       "Iteration:   0%|          | 0/154 [00:00<?, ?it/s]"
      ]
     },
     "metadata": {},
     "output_type": "display_data"
    },
    {
     "name": "stdout",
     "output_type": "stream",
     "text": [
      "2022-09-07 19:41:10 - Binary Accuracy Evaluation of the model on  dataset after epoch 2:\n",
      "2022-09-07 19:41:10 - Accuracy with Cosine-Similarity:           78.43\t(Threshold: 0.4097)\n",
      "2022-09-07 19:41:10 - F1 with Cosine-Similarity:                 83.86\t(Threshold: 0.2990)\n",
      "2022-09-07 19:41:10 - Precision with Cosine-Similarity:          76.73\n",
      "2022-09-07 19:41:10 - Recall with Cosine-Similarity:             92.45\n",
      "2022-09-07 19:41:10 - Average Precision with Cosine-Similarity:  89.58\n",
      "\n",
      "2022-09-07 19:41:10 - Accuracy with Manhattan-Distance:           78.30\t(Threshold: 667.0123)\n",
      "2022-09-07 19:41:10 - F1 with Manhattan-Distance:                 84.03\t(Threshold: 713.6180)\n",
      "2022-09-07 19:41:10 - Precision with Manhattan-Distance:          74.58\n",
      "2022-09-07 19:41:10 - Recall with Manhattan-Distance:             96.22\n",
      "2022-09-07 19:41:10 - Average Precision with Manhattan-Distance:  89.61\n",
      "\n",
      "2022-09-07 19:41:10 - Accuracy with Euclidean-Distance:           78.18\t(Threshold: 29.4422)\n",
      "2022-09-07 19:41:10 - F1 with Euclidean-Distance:                 84.02\t(Threshold: 32.2979)\n",
      "2022-09-07 19:41:10 - Precision with Euclidean-Distance:          74.92\n",
      "2022-09-07 19:41:10 - Recall with Euclidean-Distance:             95.63\n",
      "2022-09-07 19:41:10 - Average Precision with Euclidean-Distance:  89.51\n",
      "\n",
      "2022-09-07 19:41:10 - Accuracy with Dot-Product:           78.18\t(Threshold: 278.2081)\n",
      "2022-09-07 19:41:10 - F1 with Dot-Product:                 83.17\t(Threshold: 218.5787)\n",
      "2022-09-07 19:41:10 - Precision with Dot-Product:          76.68\n",
      "2022-09-07 19:41:10 - Recall with Dot-Product:             90.85\n",
      "2022-09-07 19:41:10 - Average Precision with Dot-Product:  88.54\n",
      "\n",
      "2022-09-07 19:41:10 - Save model to binary_sim_output/sentence-transformers/paraphrase-albert-small-v2\n"
     ]
    },
    {
     "data": {
      "application/vnd.jupyter.widget-view+json": {
       "model_id": "d31a1b8830554c25b28a4a421b494656",
       "version_major": 2,
       "version_minor": 0
      },
      "text/plain": [
       "Iteration:   0%|          | 0/154 [00:00<?, ?it/s]"
      ]
     },
     "metadata": {},
     "output_type": "display_data"
    },
    {
     "name": "stdout",
     "output_type": "stream",
     "text": [
      "2022-09-07 19:41:22 - Binary Accuracy Evaluation of the model on  dataset after epoch 3:\n",
      "2022-09-07 19:41:22 - Accuracy with Cosine-Similarity:           79.43\t(Threshold: 0.3310)\n",
      "2022-09-07 19:41:22 - F1 with Cosine-Similarity:                 85.04\t(Threshold: 0.3069)\n",
      "2022-09-07 19:41:22 - Precision with Cosine-Similarity:          78.17\n",
      "2022-09-07 19:41:22 - Recall with Cosine-Similarity:             93.24\n",
      "2022-09-07 19:41:22 - Average Precision with Cosine-Similarity:  89.57\n",
      "\n",
      "2022-09-07 19:41:22 - Accuracy with Manhattan-Distance:           79.43\t(Threshold: 711.5414)\n",
      "2022-09-07 19:41:22 - F1 with Manhattan-Distance:                 85.31\t(Threshold: 764.6950)\n",
      "2022-09-07 19:41:22 - Precision with Manhattan-Distance:          76.50\n",
      "2022-09-07 19:41:22 - Recall with Manhattan-Distance:             96.42\n",
      "2022-09-07 19:41:22 - Average Precision with Manhattan-Distance:  89.67\n",
      "\n",
      "2022-09-07 19:41:22 - Accuracy with Euclidean-Distance:           79.43\t(Threshold: 32.8981)\n",
      "2022-09-07 19:41:22 - F1 with Euclidean-Distance:                 84.88\t(Threshold: 33.2201)\n",
      "2022-09-07 19:41:22 - Precision with Euclidean-Distance:          78.32\n",
      "2022-09-07 19:41:22 - Recall with Euclidean-Distance:             92.64\n",
      "2022-09-07 19:41:22 - Average Precision with Euclidean-Distance:  89.62\n",
      "\n",
      "2022-09-07 19:41:22 - Accuracy with Dot-Product:           79.68\t(Threshold: 274.3121)\n",
      "2022-09-07 19:41:22 - F1 with Dot-Product:                 84.84\t(Threshold: 274.3121)\n",
      "2022-09-07 19:41:22 - Precision with Dot-Product:          79.72\n",
      "2022-09-07 19:41:22 - Recall with Dot-Product:             90.66\n",
      "2022-09-07 19:41:22 - Average Precision with Dot-Product:  88.86\n",
      "\n",
      "2022-09-07 19:41:22 - Save model to binary_sim_output/sentence-transformers/paraphrase-albert-small-v2\n"
     ]
    },
    {
     "data": {
      "application/vnd.jupyter.widget-view+json": {
       "model_id": "126f55778f8940a9b09c1dc6c362b1fe",
       "version_major": 2,
       "version_minor": 0
      },
      "text/plain": [
       "Iteration:   0%|          | 0/154 [00:00<?, ?it/s]"
      ]
     },
     "metadata": {},
     "output_type": "display_data"
    },
    {
     "name": "stdout",
     "output_type": "stream",
     "text": [
      "2022-09-07 19:41:34 - Binary Accuracy Evaluation of the model on  dataset after epoch 4:\n",
      "2022-09-07 19:41:34 - Accuracy with Cosine-Similarity:           79.80\t(Threshold: 0.3412)\n",
      "2022-09-07 19:41:34 - F1 with Cosine-Similarity:                 85.02\t(Threshold: 0.2240)\n",
      "2022-09-07 19:41:34 - Precision with Cosine-Similarity:          77.45\n",
      "2022-09-07 19:41:34 - Recall with Cosine-Similarity:             94.23\n",
      "2022-09-07 19:41:34 - Average Precision with Cosine-Similarity:  89.71\n",
      "\n",
      "2022-09-07 19:41:34 - Accuracy with Manhattan-Distance:           80.42\t(Threshold: 750.5965)\n",
      "2022-09-07 19:41:34 - F1 with Manhattan-Distance:                 85.16\t(Threshold: 766.5565)\n",
      "2022-09-07 19:41:34 - Precision with Manhattan-Distance:          79.38\n",
      "2022-09-07 19:41:34 - Recall with Manhattan-Distance:             91.85\n",
      "2022-09-07 19:41:34 - Average Precision with Manhattan-Distance:  89.91\n",
      "\n",
      "2022-09-07 19:41:34 - Accuracy with Euclidean-Distance:           80.05\t(Threshold: 34.7748)\n",
      "2022-09-07 19:41:34 - F1 with Euclidean-Distance:                 85.05\t(Threshold: 34.7748)\n",
      "2022-09-07 19:41:34 - Precision with Euclidean-Distance:          80.25\n",
      "2022-09-07 19:41:34 - Recall with Euclidean-Distance:             90.46\n",
      "2022-09-07 19:41:34 - Average Precision with Euclidean-Distance:  89.85\n",
      "\n",
      "2022-09-07 19:41:34 - Accuracy with Dot-Product:           79.43\t(Threshold: 306.1301)\n",
      "2022-09-07 19:41:34 - F1 with Dot-Product:                 84.75\t(Threshold: 216.0740)\n",
      "2022-09-07 19:41:34 - Precision with Dot-Product:          78.38\n",
      "2022-09-07 19:41:34 - Recall with Dot-Product:             92.25\n",
      "2022-09-07 19:41:34 - Average Precision with Dot-Product:  89.23\n",
      "\n",
      "2022-09-07 19:41:34 - Save model to binary_sim_output/sentence-transformers/paraphrase-albert-small-v2\n"
     ]
    },
    {
     "data": {
      "application/vnd.jupyter.widget-view+json": {
       "model_id": "5e2e20d2f7e74f75b6e59e7e3055d942",
       "version_major": 2,
       "version_minor": 0
      },
      "text/plain": [
       "Iteration:   0%|          | 0/154 [00:00<?, ?it/s]"
      ]
     },
     "metadata": {},
     "output_type": "display_data"
    },
    {
     "name": "stdout",
     "output_type": "stream",
     "text": [
      "2022-09-07 19:41:46 - Binary Accuracy Evaluation of the model on  dataset after epoch 5:\n",
      "2022-09-07 19:41:46 - Accuracy with Cosine-Similarity:           79.30\t(Threshold: 0.4170)\n",
      "2022-09-07 19:41:46 - F1 with Cosine-Similarity:                 84.57\t(Threshold: 0.2377)\n",
      "2022-09-07 19:41:46 - Precision with Cosine-Similarity:          76.70\n",
      "2022-09-07 19:41:46 - Recall with Cosine-Similarity:             94.23\n",
      "2022-09-07 19:41:46 - Average Precision with Cosine-Similarity:  89.48\n",
      "\n",
      "2022-09-07 19:41:46 - Accuracy with Manhattan-Distance:           80.05\t(Threshold: 770.8708)\n",
      "2022-09-07 19:41:46 - F1 with Manhattan-Distance:                 85.22\t(Threshold: 776.8334)\n",
      "2022-09-07 19:41:46 - Precision with Manhattan-Distance:          79.18\n",
      "2022-09-07 19:41:46 - Recall with Manhattan-Distance:             92.25\n",
      "2022-09-07 19:41:46 - Average Precision with Manhattan-Distance:  89.69\n",
      "\n",
      "2022-09-07 19:41:46 - Accuracy with Euclidean-Distance:           79.93\t(Threshold: 33.3737)\n",
      "2022-09-07 19:41:46 - F1 with Euclidean-Distance:                 85.01\t(Threshold: 35.7691)\n",
      "2022-09-07 19:41:46 - Precision with Euclidean-Distance:          78.68\n",
      "2022-09-07 19:41:46 - Recall with Euclidean-Distance:             92.45\n",
      "2022-09-07 19:41:46 - Average Precision with Euclidean-Distance:  89.70\n",
      "\n",
      "2022-09-07 19:41:46 - Accuracy with Dot-Product:           79.18\t(Threshold: 311.9761)\n",
      "2022-09-07 19:41:46 - F1 with Dot-Product:                 84.42\t(Threshold: 192.9072)\n",
      "2022-09-07 19:41:46 - Precision with Dot-Product:          76.08\n",
      "2022-09-07 19:41:46 - Recall with Dot-Product:             94.83\n",
      "2022-09-07 19:41:46 - Average Precision with Dot-Product:  89.11\n",
      "\n"
     ]
    },
    {
     "data": {
      "application/vnd.jupyter.widget-view+json": {
       "model_id": "546915fb84754dc8b0957a7cfe8fec92",
       "version_major": 2,
       "version_minor": 0
      },
      "text/plain": [
       "Iteration:   0%|          | 0/154 [00:00<?, ?it/s]"
      ]
     },
     "metadata": {},
     "output_type": "display_data"
    },
    {
     "name": "stdout",
     "output_type": "stream",
     "text": [
      "2022-09-07 19:41:58 - Binary Accuracy Evaluation of the model on  dataset after epoch 6:\n",
      "2022-09-07 19:41:58 - Accuracy with Cosine-Similarity:           79.18\t(Threshold: 0.3858)\n",
      "2022-09-07 19:41:58 - F1 with Cosine-Similarity:                 84.58\t(Threshold: 0.2655)\n",
      "2022-09-07 19:41:58 - Precision with Cosine-Similarity:          77.39\n",
      "2022-09-07 19:41:58 - Recall with Cosine-Similarity:             93.24\n",
      "2022-09-07 19:41:58 - Average Precision with Cosine-Similarity:  89.41\n",
      "\n",
      "2022-09-07 19:41:58 - Accuracy with Manhattan-Distance:           79.55\t(Threshold: 739.4379)\n",
      "2022-09-07 19:41:58 - F1 with Manhattan-Distance:                 85.00\t(Threshold: 813.2570)\n",
      "2022-09-07 19:41:58 - Precision with Manhattan-Distance:          77.15\n",
      "2022-09-07 19:41:58 - Recall with Manhattan-Distance:             94.63\n",
      "2022-09-07 19:41:58 - Average Precision with Manhattan-Distance:  89.62\n",
      "\n",
      "2022-09-07 19:41:58 - Accuracy with Euclidean-Distance:           79.55\t(Threshold: 34.7755)\n",
      "2022-09-07 19:41:58 - F1 with Euclidean-Distance:                 85.05\t(Threshold: 37.1492)\n",
      "2022-09-07 19:41:58 - Precision with Euclidean-Distance:          77.36\n",
      "2022-09-07 19:41:58 - Recall with Euclidean-Distance:             94.43\n",
      "2022-09-07 19:41:58 - Average Precision with Euclidean-Distance:  89.60\n",
      "\n",
      "2022-09-07 19:41:58 - Accuracy with Dot-Product:           78.80\t(Threshold: 360.2680)\n",
      "2022-09-07 19:41:58 - F1 with Dot-Product:                 84.37\t(Threshold: 218.2087)\n",
      "2022-09-07 19:41:58 - Precision with Dot-Product:          76.24\n",
      "2022-09-07 19:41:58 - Recall with Dot-Product:             94.43\n",
      "2022-09-07 19:41:58 - Average Precision with Dot-Product:  89.05\n",
      "\n"
     ]
    },
    {
     "data": {
      "application/vnd.jupyter.widget-view+json": {
       "model_id": "84e4b36d5c1d47c2b3681d24444dc607",
       "version_major": 2,
       "version_minor": 0
      },
      "text/plain": [
       "Iteration:   0%|          | 0/154 [00:00<?, ?it/s]"
      ]
     },
     "metadata": {},
     "output_type": "display_data"
    },
    {
     "name": "stdout",
     "output_type": "stream",
     "text": [
      "2022-09-07 19:42:09 - Binary Accuracy Evaluation of the model on  dataset after epoch 7:\n",
      "2022-09-07 19:42:10 - Accuracy with Cosine-Similarity:           79.30\t(Threshold: 0.3243)\n",
      "2022-09-07 19:42:10 - F1 with Cosine-Similarity:                 84.40\t(Threshold: 0.3224)\n",
      "2022-09-07 19:42:10 - Precision with Cosine-Similarity:          80.04\n",
      "2022-09-07 19:42:10 - Recall with Cosine-Similarity:             89.26\n",
      "2022-09-07 19:42:10 - Average Precision with Cosine-Similarity:  89.41\n",
      "\n",
      "2022-09-07 19:42:10 - Accuracy with Manhattan-Distance:           79.80\t(Threshold: 769.3200)\n",
      "2022-09-07 19:42:10 - F1 with Manhattan-Distance:                 84.91\t(Threshold: 814.7011)\n",
      "2022-09-07 19:42:10 - Precision with Manhattan-Distance:          78.22\n",
      "2022-09-07 19:42:10 - Recall with Manhattan-Distance:             92.84\n",
      "2022-09-07 19:42:10 - Average Precision with Manhattan-Distance:  89.62\n",
      "\n",
      "2022-09-07 19:42:10 - Accuracy with Euclidean-Distance:           79.68\t(Threshold: 35.3340)\n",
      "2022-09-07 19:42:10 - F1 with Euclidean-Distance:                 84.89\t(Threshold: 37.7793)\n",
      "2022-09-07 19:42:10 - Precision with Euclidean-Distance:          77.50\n",
      "2022-09-07 19:42:10 - Recall with Euclidean-Distance:             93.84\n",
      "2022-09-07 19:42:10 - Average Precision with Euclidean-Distance:  89.61\n",
      "\n",
      "2022-09-07 19:42:10 - Accuracy with Dot-Product:           79.18\t(Threshold: 262.1454)\n",
      "2022-09-07 19:42:10 - F1 with Dot-Product:                 84.49\t(Threshold: 262.1454)\n",
      "2022-09-07 19:42:10 - Precision with Dot-Product:          79.27\n",
      "2022-09-07 19:42:10 - Recall with Dot-Product:             90.46\n",
      "2022-09-07 19:42:10 - Average Precision with Dot-Product:  88.95\n",
      "\n"
     ]
    },
    {
     "data": {
      "application/vnd.jupyter.widget-view+json": {
       "model_id": "f825a3710260485492d676de3adb644d",
       "version_major": 2,
       "version_minor": 0
      },
      "text/plain": [
       "Iteration:   0%|          | 0/154 [00:00<?, ?it/s]"
      ]
     },
     "metadata": {},
     "output_type": "display_data"
    },
    {
     "name": "stdout",
     "output_type": "stream",
     "text": [
      "2022-09-07 19:42:21 - Binary Accuracy Evaluation of the model on  dataset after epoch 8:\n",
      "2022-09-07 19:42:22 - Accuracy with Cosine-Similarity:           79.18\t(Threshold: 0.3523)\n",
      "2022-09-07 19:42:22 - F1 with Cosine-Similarity:                 84.37\t(Threshold: 0.1777)\n",
      "2022-09-07 19:42:22 - Precision with Cosine-Similarity:          76.24\n",
      "2022-09-07 19:42:22 - Recall with Cosine-Similarity:             94.43\n",
      "2022-09-07 19:42:22 - Average Precision with Cosine-Similarity:  89.48\n",
      "\n",
      "2022-09-07 19:42:22 - Accuracy with Manhattan-Distance:           79.68\t(Threshold: 773.1165)\n",
      "2022-09-07 19:42:22 - F1 with Manhattan-Distance:                 84.86\t(Threshold: 830.4609)\n",
      "2022-09-07 19:42:22 - Precision with Manhattan-Distance:          77.59\n",
      "2022-09-07 19:42:22 - Recall with Manhattan-Distance:             93.64\n",
      "2022-09-07 19:42:22 - Average Precision with Manhattan-Distance:  89.70\n",
      "\n",
      "2022-09-07 19:42:22 - Accuracy with Euclidean-Distance:           79.68\t(Threshold: 35.1006)\n",
      "2022-09-07 19:42:22 - F1 with Euclidean-Distance:                 84.84\t(Threshold: 38.0001)\n",
      "2022-09-07 19:42:22 - Precision with Euclidean-Distance:          77.69\n",
      "2022-09-07 19:42:22 - Recall with Euclidean-Distance:             93.44\n",
      "2022-09-07 19:42:22 - Average Precision with Euclidean-Distance:  89.68\n",
      "\n",
      "2022-09-07 19:42:22 - Accuracy with Dot-Product:           79.05\t(Threshold: 242.1702)\n",
      "2022-09-07 19:42:22 - F1 with Dot-Product:                 84.53\t(Threshold: 242.1702)\n",
      "2022-09-07 19:42:22 - Precision with Dot-Product:          78.73\n",
      "2022-09-07 19:42:22 - Recall with Dot-Product:             91.25\n",
      "2022-09-07 19:42:22 - Average Precision with Dot-Product:  89.02\n",
      "\n"
     ]
    },
    {
     "data": {
      "application/vnd.jupyter.widget-view+json": {
       "model_id": "d86498fd7fdf42fe801c469b1be5c821",
       "version_major": 2,
       "version_minor": 0
      },
      "text/plain": [
       "Iteration:   0%|          | 0/154 [00:00<?, ?it/s]"
      ]
     },
     "metadata": {},
     "output_type": "display_data"
    },
    {
     "name": "stdout",
     "output_type": "stream",
     "text": [
      "2022-09-07 19:42:33 - Binary Accuracy Evaluation of the model on  dataset after epoch 9:\n",
      "2022-09-07 19:42:34 - Accuracy with Cosine-Similarity:           79.05\t(Threshold: 0.3842)\n",
      "2022-09-07 19:42:34 - F1 with Cosine-Similarity:                 84.45\t(Threshold: 0.1811)\n",
      "2022-09-07 19:42:34 - Precision with Cosine-Similarity:          75.99\n",
      "2022-09-07 19:42:34 - Recall with Cosine-Similarity:             95.03\n",
      "2022-09-07 19:42:34 - Average Precision with Cosine-Similarity:  89.46\n",
      "\n",
      "2022-09-07 19:42:34 - Accuracy with Manhattan-Distance:           79.93\t(Threshold: 778.0042)\n",
      "2022-09-07 19:42:34 - F1 with Manhattan-Distance:                 84.94\t(Threshold: 778.0042)\n",
      "2022-09-07 19:42:34 - Precision with Manhattan-Distance:          80.21\n",
      "2022-09-07 19:42:34 - Recall with Manhattan-Distance:             90.26\n",
      "2022-09-07 19:42:34 - Average Precision with Manhattan-Distance:  89.68\n",
      "\n",
      "2022-09-07 19:42:34 - Accuracy with Euclidean-Distance:           79.80\t(Threshold: 35.5743)\n",
      "2022-09-07 19:42:34 - F1 with Euclidean-Distance:                 84.83\t(Threshold: 35.5743)\n",
      "2022-09-07 19:42:34 - Precision with Euclidean-Distance:          80.18\n",
      "2022-09-07 19:42:34 - Recall with Euclidean-Distance:             90.06\n",
      "2022-09-07 19:42:34 - Average Precision with Euclidean-Distance:  89.65\n",
      "\n",
      "2022-09-07 19:42:34 - Accuracy with Dot-Product:           78.93\t(Threshold: 328.4706)\n",
      "2022-09-07 19:42:34 - F1 with Dot-Product:                 84.34\t(Threshold: 259.9488)\n",
      "2022-09-07 19:42:34 - Precision with Dot-Product:          78.99\n",
      "2022-09-07 19:42:34 - Recall with Dot-Product:             90.46\n",
      "2022-09-07 19:42:34 - Average Precision with Dot-Product:  89.00\n",
      "\n",
      "Training done...\n",
      "\n",
      "\n",
      "\n",
      "                     ********** sentence-transformers/paraphrase-albert-small-v2 **********\n",
      "2022-09-07 19:42:34 - Load pretrained SentenceTransformer: binary_sim_output/sentence-transformers/paraphrase-albert-small-v2\n",
      "2022-09-07 19:42:34 - Use pytorch device: cuda\n",
      "2022-09-07 19:42:34 - Softmax loss: #Vectors concatenated: 3\n",
      "2022-09-07 19:42:34 - EmbeddingSimilarityEvaluator: Evaluating the model on SPRAG-test dataset:\n",
      "2022-09-07 19:42:35 - Cosine-Similarity :\tPearson: 0.6010\tSpearman: 0.5902\n",
      "2022-09-07 19:42:35 - Manhattan-Distance:\tPearson: 0.5660\tSpearman: 0.5948\n",
      "2022-09-07 19:42:35 - Euclidean-Distance:\tPearson: 0.5663\tSpearman: 0.5936\n",
      "2022-09-07 19:42:35 - Dot-Product-Similarity:\tPearson: 0.5914\tSpearman: 0.5827\n",
      "2022-09-07 19:42:35 - Binary Accuracy Evaluation of the model on  dataset:\n",
      "2022-09-07 19:42:36 - Accuracy with Cosine-Similarity:           79.80\t(Threshold: 0.3412)\n",
      "2022-09-07 19:42:36 - F1 with Cosine-Similarity:                 85.02\t(Threshold: 0.2240)\n",
      "2022-09-07 19:42:36 - Precision with Cosine-Similarity:          77.45\n",
      "2022-09-07 19:42:36 - Recall with Cosine-Similarity:             94.23\n",
      "2022-09-07 19:42:36 - Average Precision with Cosine-Similarity:  89.71\n",
      "\n",
      "2022-09-07 19:42:36 - Accuracy with Manhattan-Distance:           80.42\t(Threshold: 750.5965)\n",
      "2022-09-07 19:42:36 - F1 with Manhattan-Distance:                 85.16\t(Threshold: 766.5565)\n",
      "2022-09-07 19:42:36 - Precision with Manhattan-Distance:          79.38\n",
      "2022-09-07 19:42:36 - Recall with Manhattan-Distance:             91.85\n",
      "2022-09-07 19:42:36 - Average Precision with Manhattan-Distance:  89.91\n",
      "\n",
      "2022-09-07 19:42:36 - Accuracy with Euclidean-Distance:           80.05\t(Threshold: 34.7748)\n",
      "2022-09-07 19:42:36 - F1 with Euclidean-Distance:                 85.05\t(Threshold: 34.7748)\n",
      "2022-09-07 19:42:36 - Precision with Euclidean-Distance:          80.25\n",
      "2022-09-07 19:42:36 - Recall with Euclidean-Distance:             90.46\n",
      "2022-09-07 19:42:36 - Average Precision with Euclidean-Distance:  89.85\n",
      "\n",
      "2022-09-07 19:42:36 - Accuracy with Dot-Product:           79.43\t(Threshold: 306.1301)\n",
      "2022-09-07 19:42:36 - F1 with Dot-Product:                 84.75\t(Threshold: 216.0740)\n",
      "2022-09-07 19:42:36 - Precision with Dot-Product:          78.38\n",
      "2022-09-07 19:42:36 - Recall with Dot-Product:             92.25\n",
      "2022-09-07 19:42:36 - Average Precision with Dot-Product:  89.23\n",
      "\n"
     ]
    },
    {
     "data": {
      "text/plain": [
       "0.8991332575353475"
      ]
     },
     "execution_count": 58,
     "metadata": {},
     "output_type": "execute_result"
    }
   ],
   "source": [
    "st_model = 'sentence-transformers/paraphrase-albert-small-v2'\n",
    "num_epochs = 10\n",
    "batch_size=16\n",
    "model_save_path = \"binary_sim_output/\"+st_model\n",
    "train_dataloader = DataLoader(train_examples, shuffle=True, batch_size=batch_size)\n",
    "  \n",
    "test_dataloader = DataLoader(test_examples, shuffle=True, batch_size=batch_size)\n",
    "model = train_and_evaluate(st_model, train_dataloader, test_dataloader, num_epochs, model_save_path)\n",
    "print(\"\\n\\n\")\n",
    "print(\" \"*20, \"*\"*10, st_model , \"*\"*10)\n",
    "\n",
    "# Load the stored model and evaluate its performance on mohler test dataset\n",
    "model = SentenceTransformer(model_save_path)\n",
    "train_loss = losses.SoftmaxLoss(model=model, sentence_embedding_dimension=model.get_sentence_embedding_dimension(), num_labels=2)\n",
    "test_evaluator = evaluation.EmbeddingSimilarityEvaluator.from_input_examples(test_examples, batch_size=16, name='SPRAG-test')\n",
    "test_evaluator(model, output_path=model_save_path)\n",
    "train_loss.cuda()\n",
    "\n",
    "x_test_dA = test_data['ReferenceAnswer'].values.tolist()\n",
    "x_test_sA = test_data['StudentAnswer'].values.tolist()\n",
    "y_test = test_labels \n",
    "\n",
    "evaluator = evaluation.BinaryClassificationEvaluator(x_test_dA, x_test_sA, y_test)\n",
    "evaluator(model, output_path=model_save_path)\n"
   ]
  },
  {
   "cell_type": "code",
   "execution_count": 23,
   "id": "513f89bc",
   "metadata": {},
   "outputs": [
    {
     "name": "stdout",
     "output_type": "stream",
     "text": [
      "2022-09-07 20:26:47 - Load pretrained SentenceTransformer: sentence-transformers/quora-distilbert-base\n",
      "2022-09-07 20:26:48 - Use pytorch device: cuda\n",
      "2022-09-07 20:26:48 - Softmax loss: #Vectors concatenated: 3\n",
      "154\n"
     ]
    },
    {
     "data": {
      "application/vnd.jupyter.widget-view+json": {
       "model_id": "a0a72fddc9684683828355ff8105e9d8",
       "version_major": 2,
       "version_minor": 0
      },
      "text/plain": [
       "Epoch:   0%|          | 0/10 [00:00<?, ?it/s]"
      ]
     },
     "metadata": {},
     "output_type": "display_data"
    },
    {
     "data": {
      "application/vnd.jupyter.widget-view+json": {
       "model_id": "bf34c0d72a764efd8a1e46464ba226f3",
       "version_major": 2,
       "version_minor": 0
      },
      "text/plain": [
       "Iteration:   0%|          | 0/154 [00:00<?, ?it/s]"
      ]
     },
     "metadata": {},
     "output_type": "display_data"
    },
    {
     "name": "stdout",
     "output_type": "stream",
     "text": [
      "2022-09-07 20:27:03 - Binary Accuracy Evaluation of the model on  dataset after epoch 0:\n",
      "2022-09-07 20:27:04 - Accuracy with Cosine-Similarity:           77.93\t(Threshold: 0.5067)\n",
      "2022-09-07 20:27:04 - F1 with Cosine-Similarity:                 83.55\t(Threshold: 0.3779)\n",
      "2022-09-07 20:27:04 - Precision with Cosine-Similarity:          74.92\n",
      "2022-09-07 20:27:04 - Recall with Cosine-Similarity:             94.43\n",
      "2022-09-07 20:27:04 - Average Precision with Cosine-Similarity:  89.42\n",
      "\n",
      "2022-09-07 20:27:04 - Accuracy with Manhattan-Distance:           76.31\t(Threshold: 315.1390)\n",
      "2022-09-07 20:27:04 - F1 with Manhattan-Distance:                 83.39\t(Threshold: 319.2321)\n",
      "2022-09-07 20:27:04 - Precision with Manhattan-Distance:          74.41\n",
      "2022-09-07 20:27:04 - Recall with Manhattan-Distance:             94.83\n",
      "2022-09-07 20:27:04 - Average Precision with Manhattan-Distance:  88.79\n",
      "\n",
      "2022-09-07 20:27:04 - Accuracy with Euclidean-Distance:           76.81\t(Threshold: 14.1458)\n",
      "2022-09-07 20:27:04 - F1 with Euclidean-Distance:                 83.39\t(Threshold: 15.4167)\n",
      "2022-09-07 20:27:04 - Precision with Euclidean-Distance:          73.23\n",
      "2022-09-07 20:27:04 - Recall with Euclidean-Distance:             96.82\n",
      "2022-09-07 20:27:04 - Average Precision with Euclidean-Distance:  88.81\n",
      "\n",
      "2022-09-07 20:27:04 - Accuracy with Dot-Product:           76.93\t(Threshold: 87.0618)\n",
      "2022-09-07 20:27:04 - F1 with Dot-Product:                 83.30\t(Threshold: 63.6338)\n",
      "2022-09-07 20:27:04 - Precision with Dot-Product:          75.28\n",
      "2022-09-07 20:27:04 - Recall with Dot-Product:             93.24\n",
      "2022-09-07 20:27:04 - Average Precision with Dot-Product:  88.16\n",
      "\n",
      "2022-09-07 20:27:04 - Save model to binary_sim_output/sentence-transformers/quora-distilbert-base\n"
     ]
    },
    {
     "data": {
      "application/vnd.jupyter.widget-view+json": {
       "model_id": "bd65f85503c5493ea0fa33bccdf2ef78",
       "version_major": 2,
       "version_minor": 0
      },
      "text/plain": [
       "Iteration:   0%|          | 0/154 [00:00<?, ?it/s]"
      ]
     },
     "metadata": {},
     "output_type": "display_data"
    },
    {
     "name": "stdout",
     "output_type": "stream",
     "text": [
      "2022-09-07 20:27:17 - Binary Accuracy Evaluation of the model on  dataset after epoch 1:\n",
      "2022-09-07 20:27:17 - Accuracy with Cosine-Similarity:           79.68\t(Threshold: 0.5490)\n",
      "2022-09-07 20:27:17 - F1 with Cosine-Similarity:                 85.16\t(Threshold: 0.3099)\n",
      "2022-09-07 20:27:17 - Precision with Cosine-Similarity:          76.63\n",
      "2022-09-07 20:27:17 - Recall with Cosine-Similarity:             95.83\n",
      "2022-09-07 20:27:17 - Average Precision with Cosine-Similarity:  91.10\n",
      "\n",
      "2022-09-07 20:27:17 - Accuracy with Manhattan-Distance:           79.05\t(Threshold: 305.6761)\n",
      "2022-09-07 20:27:17 - F1 with Manhattan-Distance:                 84.51\t(Threshold: 331.1627)\n",
      "2022-09-07 20:27:17 - Precision with Manhattan-Distance:          78.40\n",
      "2022-09-07 20:27:17 - Recall with Manhattan-Distance:             91.65\n",
      "2022-09-07 20:27:17 - Average Precision with Manhattan-Distance:  90.25\n",
      "\n",
      "2022-09-07 20:27:17 - Accuracy with Euclidean-Distance:           79.30\t(Threshold: 15.7741)\n",
      "2022-09-07 20:27:17 - F1 with Euclidean-Distance:                 85.00\t(Threshold: 15.9524)\n",
      "2022-09-07 20:27:17 - Precision with Euclidean-Distance:          77.15\n",
      "2022-09-07 20:27:17 - Recall with Euclidean-Distance:             94.63\n",
      "2022-09-07 20:27:17 - Average Precision with Euclidean-Distance:  90.40\n",
      "\n",
      "2022-09-07 20:27:17 - Accuracy with Dot-Product:           79.18\t(Threshold: 93.2584)\n",
      "2022-09-07 20:27:17 - F1 with Dot-Product:                 84.84\t(Threshold: 49.9095)\n",
      "2022-09-07 20:27:17 - Precision with Dot-Product:          75.86\n",
      "2022-09-07 20:27:17 - Recall with Dot-Product:             96.22\n",
      "2022-09-07 20:27:17 - Average Precision with Dot-Product:  90.13\n",
      "\n",
      "2022-09-07 20:27:17 - Save model to binary_sim_output/sentence-transformers/quora-distilbert-base\n"
     ]
    },
    {
     "data": {
      "application/vnd.jupyter.widget-view+json": {
       "model_id": "af84a47182b9453fac4f11e6da5a12db",
       "version_major": 2,
       "version_minor": 0
      },
      "text/plain": [
       "Iteration:   0%|          | 0/154 [00:00<?, ?it/s]"
      ]
     },
     "metadata": {},
     "output_type": "display_data"
    },
    {
     "name": "stdout",
     "output_type": "stream",
     "text": [
      "2022-09-07 20:27:30 - Binary Accuracy Evaluation of the model on  dataset after epoch 2:\n",
      "2022-09-07 20:27:31 - Accuracy with Cosine-Similarity:           81.30\t(Threshold: 0.3723)\n",
      "2022-09-07 20:27:31 - F1 with Cosine-Similarity:                 86.29\t(Threshold: 0.3613)\n",
      "2022-09-07 20:27:31 - Precision with Cosine-Similarity:          79.86\n",
      "2022-09-07 20:27:31 - Recall with Cosine-Similarity:             93.84\n",
      "2022-09-07 20:27:31 - Average Precision with Cosine-Similarity:  91.13\n",
      "\n",
      "2022-09-07 20:27:31 - Accuracy with Manhattan-Distance:           80.17\t(Threshold: 329.2588)\n",
      "2022-09-07 20:27:31 - F1 with Manhattan-Distance:                 85.37\t(Threshold: 339.4553)\n",
      "2022-09-07 20:27:31 - Precision with Manhattan-Distance:          79.45\n",
      "2022-09-07 20:27:31 - Recall with Manhattan-Distance:             92.25\n",
      "2022-09-07 20:27:31 - Average Precision with Manhattan-Distance:  90.12\n",
      "\n",
      "2022-09-07 20:27:31 - Accuracy with Euclidean-Distance:           80.80\t(Threshold: 15.9413)\n",
      "2022-09-07 20:27:31 - F1 with Euclidean-Distance:                 85.85\t(Threshold: 15.9413)\n",
      "2022-09-07 20:27:31 - Precision with Euclidean-Distance:          79.83\n",
      "2022-09-07 20:27:31 - Recall with Euclidean-Distance:             92.84\n",
      "2022-09-07 20:27:31 - Average Precision with Euclidean-Distance:  90.26\n",
      "\n",
      "2022-09-07 20:27:31 - Accuracy with Dot-Product:           80.30\t(Threshold: 64.6459)\n",
      "2022-09-07 20:27:31 - F1 with Dot-Product:                 85.45\t(Threshold: 64.6459)\n",
      "2022-09-07 20:27:31 - Precision with Dot-Product:          79.59\n",
      "2022-09-07 20:27:31 - Recall with Dot-Product:             92.25\n",
      "2022-09-07 20:27:31 - Average Precision with Dot-Product:  90.22\n",
      "\n",
      "2022-09-07 20:27:31 - Save model to binary_sim_output/sentence-transformers/quora-distilbert-base\n"
     ]
    },
    {
     "data": {
      "application/vnd.jupyter.widget-view+json": {
       "model_id": "55ac668e13ee4cdd92e9d134f35379c4",
       "version_major": 2,
       "version_minor": 0
      },
      "text/plain": [
       "Iteration:   0%|          | 0/154 [00:00<?, ?it/s]"
      ]
     },
     "metadata": {},
     "output_type": "display_data"
    },
    {
     "name": "stdout",
     "output_type": "stream",
     "text": [
      "2022-09-07 20:27:44 - Binary Accuracy Evaluation of the model on  dataset after epoch 3:\n",
      "2022-09-07 20:27:44 - Accuracy with Cosine-Similarity:           79.68\t(Threshold: 0.2796)\n",
      "2022-09-07 20:27:44 - F1 with Cosine-Similarity:                 85.26\t(Threshold: 0.1879)\n",
      "2022-09-07 20:27:44 - Precision with Cosine-Similarity:          77.05\n",
      "2022-09-07 20:27:44 - Recall with Cosine-Similarity:             95.43\n",
      "2022-09-07 20:27:44 - Average Precision with Cosine-Similarity:  91.00\n",
      "\n",
      "2022-09-07 20:27:44 - Accuracy with Manhattan-Distance:           78.80\t(Threshold: 374.2812)\n",
      "2022-09-07 20:27:44 - F1 with Manhattan-Distance:                 85.00\t(Threshold: 404.6922)\n",
      "2022-09-07 20:27:44 - Precision with Manhattan-Distance:          75.38\n",
      "2022-09-07 20:27:44 - Recall with Manhattan-Distance:             97.42\n",
      "2022-09-07 20:27:44 - Average Precision with Manhattan-Distance:  90.91\n",
      "\n",
      "2022-09-07 20:27:44 - Accuracy with Euclidean-Distance:           79.30\t(Threshold: 17.5653)\n",
      "2022-09-07 20:27:44 - F1 with Euclidean-Distance:                 85.28\t(Threshold: 18.3256)\n",
      "2022-09-07 20:27:44 - Precision with Euclidean-Distance:          76.96\n",
      "2022-09-07 20:27:44 - Recall with Euclidean-Distance:             95.63\n",
      "2022-09-07 20:27:44 - Average Precision with Euclidean-Distance:  90.96\n",
      "\n",
      "2022-09-07 20:27:44 - Accuracy with Dot-Product:           79.80\t(Threshold: 42.2908)\n",
      "2022-09-07 20:27:44 - F1 with Dot-Product:                 85.38\t(Threshold: 42.2908)\n",
      "2022-09-07 20:27:44 - Precision with Dot-Product:          78.18\n",
      "2022-09-07 20:27:44 - Recall with Dot-Product:             94.04\n",
      "2022-09-07 20:27:44 - Average Precision with Dot-Product:  90.52\n",
      "\n"
     ]
    },
    {
     "data": {
      "application/vnd.jupyter.widget-view+json": {
       "model_id": "b68bdada8a1444bea3b8ca10ebb6f193",
       "version_major": 2,
       "version_minor": 0
      },
      "text/plain": [
       "Iteration:   0%|          | 0/154 [00:00<?, ?it/s]"
      ]
     },
     "metadata": {},
     "output_type": "display_data"
    },
    {
     "name": "stdout",
     "output_type": "stream",
     "text": [
      "2022-09-07 20:27:57 - Binary Accuracy Evaluation of the model on  dataset after epoch 4:\n",
      "2022-09-07 20:27:57 - Accuracy with Cosine-Similarity:           80.42\t(Threshold: 0.2928)\n",
      "2022-09-07 20:27:57 - F1 with Cosine-Similarity:                 85.31\t(Threshold: 0.2928)\n",
      "2022-09-07 20:27:57 - Precision with Cosine-Similarity:          80.57\n",
      "2022-09-07 20:27:57 - Recall with Cosine-Similarity:             90.66\n",
      "2022-09-07 20:27:57 - Average Precision with Cosine-Similarity:  90.80\n",
      "\n",
      "2022-09-07 20:27:57 - Accuracy with Manhattan-Distance:           79.55\t(Threshold: 377.4933)\n",
      "2022-09-07 20:27:57 - F1 with Manhattan-Distance:                 84.98\t(Threshold: 411.6385)\n",
      "2022-09-07 20:27:57 - Precision with Manhattan-Distance:          76.47\n",
      "2022-09-07 20:27:57 - Recall with Manhattan-Distance:             95.63\n",
      "2022-09-07 20:27:57 - Average Precision with Manhattan-Distance:  90.64\n",
      "\n",
      "2022-09-07 20:27:57 - Accuracy with Euclidean-Distance:           79.93\t(Threshold: 17.9030)\n",
      "2022-09-07 20:27:57 - F1 with Euclidean-Distance:                 85.16\t(Threshold: 17.9030)\n",
      "2022-09-07 20:27:57 - Precision with Euclidean-Distance:          79.38\n",
      "2022-09-07 20:27:57 - Recall with Euclidean-Distance:             91.85\n",
      "2022-09-07 20:27:57 - Average Precision with Euclidean-Distance:  90.74\n",
      "\n",
      "2022-09-07 20:27:57 - Accuracy with Dot-Product:           79.93\t(Threshold: 69.6805)\n",
      "2022-09-07 20:27:57 - F1 with Dot-Product:                 85.33\t(Threshold: 23.2799)\n",
      "2022-09-07 20:27:57 - Precision with Dot-Product:          77.96\n",
      "2022-09-07 20:27:57 - Recall with Dot-Product:             94.23\n",
      "2022-09-07 20:27:57 - Average Precision with Dot-Product:  90.29\n",
      "\n"
     ]
    },
    {
     "data": {
      "application/vnd.jupyter.widget-view+json": {
       "model_id": "b0ddd68307aa447b894da020fa509727",
       "version_major": 2,
       "version_minor": 0
      },
      "text/plain": [
       "Iteration:   0%|          | 0/154 [00:00<?, ?it/s]"
      ]
     },
     "metadata": {},
     "output_type": "display_data"
    },
    {
     "name": "stdout",
     "output_type": "stream",
     "text": [
      "2022-09-07 20:28:10 - Binary Accuracy Evaluation of the model on  dataset after epoch 5:\n",
      "2022-09-07 20:28:10 - Accuracy with Cosine-Similarity:           80.67\t(Threshold: 0.1310)\n",
      "2022-09-07 20:28:10 - F1 with Cosine-Similarity:                 85.82\t(Threshold: 0.1310)\n",
      "2022-09-07 20:28:10 - Precision with Cosine-Similarity:          79.49\n",
      "2022-09-07 20:28:10 - Recall with Cosine-Similarity:             93.24\n",
      "2022-09-07 20:28:10 - Average Precision with Cosine-Similarity:  90.61\n",
      "\n",
      "2022-09-07 20:28:10 - Accuracy with Manhattan-Distance:           80.55\t(Threshold: 389.7304)\n",
      "2022-09-07 20:28:10 - F1 with Manhattan-Distance:                 85.48\t(Threshold: 396.9205)\n",
      "2022-09-07 20:28:10 - Precision with Manhattan-Distance:          79.93\n",
      "2022-09-07 20:28:10 - Recall with Manhattan-Distance:             91.85\n",
      "2022-09-07 20:28:10 - Average Precision with Manhattan-Distance:  90.76\n",
      "\n",
      "2022-09-07 20:28:10 - Accuracy with Euclidean-Distance:           81.05\t(Threshold: 18.5148)\n",
      "2022-09-07 20:28:10 - F1 with Euclidean-Distance:                 85.93\t(Threshold: 18.5148)\n",
      "2022-09-07 20:28:10 - Precision with Euclidean-Distance:          80.42\n",
      "2022-09-07 20:28:10 - Recall with Euclidean-Distance:             92.25\n",
      "2022-09-07 20:28:10 - Average Precision with Euclidean-Distance:  90.79\n",
      "\n",
      "2022-09-07 20:28:10 - Accuracy with Dot-Product:           80.55\t(Threshold: 29.0284)\n",
      "2022-09-07 20:28:10 - F1 with Dot-Product:                 85.71\t(Threshold: 27.5551)\n",
      "2022-09-07 20:28:10 - Precision with Dot-Product:          79.46\n",
      "2022-09-07 20:28:10 - Recall with Dot-Product:             93.04\n",
      "2022-09-07 20:28:10 - Average Precision with Dot-Product:  90.25\n",
      "\n"
     ]
    },
    {
     "data": {
      "application/vnd.jupyter.widget-view+json": {
       "model_id": "33efa910c26f4520b4a5b242668aa286",
       "version_major": 2,
       "version_minor": 0
      },
      "text/plain": [
       "Iteration:   0%|          | 0/154 [00:00<?, ?it/s]"
      ]
     },
     "metadata": {},
     "output_type": "display_data"
    },
    {
     "name": "stdout",
     "output_type": "stream",
     "text": [
      "2022-09-07 20:28:22 - Binary Accuracy Evaluation of the model on  dataset after epoch 6:\n",
      "2022-09-07 20:28:23 - Accuracy with Cosine-Similarity:           80.42\t(Threshold: 0.4687)\n",
      "2022-09-07 20:28:23 - F1 with Cosine-Similarity:                 85.24\t(Threshold: -0.1190)\n",
      "2022-09-07 20:28:23 - Precision with Cosine-Similarity:          75.65\n",
      "2022-09-07 20:28:23 - Recall with Cosine-Similarity:             97.61\n",
      "2022-09-07 20:28:23 - Average Precision with Cosine-Similarity:  91.18\n",
      "\n",
      "2022-09-07 20:28:23 - Accuracy with Manhattan-Distance:           80.42\t(Threshold: 353.3992)\n",
      "2022-09-07 20:28:23 - F1 with Manhattan-Distance:                 85.82\t(Threshold: 429.4451)\n",
      "2022-09-07 20:28:23 - Precision with Manhattan-Distance:          77.83\n",
      "2022-09-07 20:28:23 - Recall with Manhattan-Distance:             95.63\n",
      "2022-09-07 20:28:23 - Average Precision with Manhattan-Distance:  91.25\n",
      "\n",
      "2022-09-07 20:28:23 - Accuracy with Euclidean-Distance:           80.67\t(Threshold: 16.5490)\n",
      "2022-09-07 20:28:23 - F1 with Euclidean-Distance:                 85.39\t(Threshold: 20.7402)\n",
      "2022-09-07 20:28:23 - Precision with Euclidean-Distance:          76.62\n",
      "2022-09-07 20:28:23 - Recall with Euclidean-Distance:             96.42\n",
      "2022-09-07 20:28:23 - Average Precision with Euclidean-Distance:  91.28\n",
      "\n",
      "2022-09-07 20:28:23 - Accuracy with Dot-Product:           80.17\t(Threshold: 113.2079)\n",
      "2022-09-07 20:28:23 - F1 with Dot-Product:                 85.27\t(Threshold: -25.0207)\n",
      "2022-09-07 20:28:23 - Precision with Dot-Product:          75.58\n",
      "2022-09-07 20:28:23 - Recall with Dot-Product:             97.81\n",
      "2022-09-07 20:28:23 - Average Precision with Dot-Product:  90.76\n",
      "\n",
      "2022-09-07 20:28:23 - Save model to binary_sim_output/sentence-transformers/quora-distilbert-base\n"
     ]
    },
    {
     "data": {
      "application/vnd.jupyter.widget-view+json": {
       "model_id": "c854e3bd47cf4125bcb3220d074fe482",
       "version_major": 2,
       "version_minor": 0
      },
      "text/plain": [
       "Iteration:   0%|          | 0/154 [00:00<?, ?it/s]"
      ]
     },
     "metadata": {},
     "output_type": "display_data"
    },
    {
     "name": "stdout",
     "output_type": "stream",
     "text": [
      "2022-09-07 20:28:36 - Binary Accuracy Evaluation of the model on  dataset after epoch 7:\n",
      "2022-09-07 20:28:36 - Accuracy with Cosine-Similarity:           80.17\t(Threshold: 0.5697)\n",
      "2022-09-07 20:28:36 - F1 with Cosine-Similarity:                 85.26\t(Threshold: 0.3034)\n",
      "2022-09-07 20:28:36 - Precision with Cosine-Similarity:          79.86\n",
      "2022-09-07 20:28:36 - Recall with Cosine-Similarity:             91.45\n",
      "2022-09-07 20:28:36 - Average Precision with Cosine-Similarity:  90.93\n",
      "\n",
      "2022-09-07 20:28:36 - Accuracy with Manhattan-Distance:           80.80\t(Threshold: 304.7932)\n",
      "2022-09-07 20:28:36 - F1 with Manhattan-Distance:                 85.58\t(Threshold: 386.7786)\n",
      "2022-09-07 20:28:36 - Precision with Manhattan-Distance:          79.97\n",
      "2022-09-07 20:28:36 - Recall with Manhattan-Distance:             92.05\n",
      "2022-09-07 20:28:36 - Average Precision with Manhattan-Distance:  90.97\n",
      "\n",
      "2022-09-07 20:28:36 - Accuracy with Euclidean-Distance:           80.67\t(Threshold: 13.9977)\n",
      "2022-09-07 20:28:36 - F1 with Euclidean-Distance:                 85.58\t(Threshold: 18.0468)\n",
      "2022-09-07 20:28:36 - Precision with Euclidean-Distance:          80.42\n",
      "2022-09-07 20:28:36 - Recall with Euclidean-Distance:             91.45\n",
      "2022-09-07 20:28:36 - Average Precision with Euclidean-Distance:  90.98\n",
      "\n",
      "2022-09-07 20:28:36 - Accuracy with Dot-Product:           80.30\t(Threshold: 108.4373)\n",
      "2022-09-07 20:28:36 - F1 with Dot-Product:                 85.15\t(Threshold: 86.7212)\n",
      "2022-09-07 20:28:36 - Precision with Dot-Product:          80.75\n",
      "2022-09-07 20:28:36 - Recall with Dot-Product:             90.06\n",
      "2022-09-07 20:28:36 - Average Precision with Dot-Product:  90.59\n",
      "\n"
     ]
    },
    {
     "data": {
      "application/vnd.jupyter.widget-view+json": {
       "model_id": "d629b96cb46b40c0af6868aca0fdfb0a",
       "version_major": 2,
       "version_minor": 0
      },
      "text/plain": [
       "Iteration:   0%|          | 0/154 [00:00<?, ?it/s]"
      ]
     },
     "metadata": {},
     "output_type": "display_data"
    },
    {
     "name": "stdout",
     "output_type": "stream",
     "text": [
      "2022-09-07 20:28:49 - Binary Accuracy Evaluation of the model on  dataset after epoch 8:\n",
      "2022-09-07 20:28:49 - Accuracy with Cosine-Similarity:           80.55\t(Threshold: 0.2956)\n",
      "2022-09-07 20:28:49 - F1 with Cosine-Similarity:                 85.53\t(Threshold: 0.2956)\n",
      "2022-09-07 20:28:49 - Precision with Cosine-Similarity:          80.17\n",
      "2022-09-07 20:28:49 - Recall with Cosine-Similarity:             91.65\n",
      "2022-09-07 20:28:49 - Average Precision with Cosine-Similarity:  90.82\n",
      "\n",
      "2022-09-07 20:28:49 - Accuracy with Manhattan-Distance:           80.55\t(Threshold: 372.7047)\n",
      "2022-09-07 20:28:49 - F1 with Manhattan-Distance:                 85.64\t(Threshold: 416.3447)\n",
      "2022-09-07 20:28:49 - Precision with Manhattan-Distance:          78.48\n",
      "2022-09-07 20:28:49 - Recall with Manhattan-Distance:             94.23\n",
      "2022-09-07 20:28:49 - Average Precision with Manhattan-Distance:  90.85\n",
      "\n",
      "2022-09-07 20:28:49 - Accuracy with Euclidean-Distance:           80.67\t(Threshold: 17.6361)\n",
      "2022-09-07 20:28:49 - F1 with Euclidean-Distance:                 85.53\t(Threshold: 17.6361)\n",
      "2022-09-07 20:28:49 - Precision with Euclidean-Distance:          80.63\n",
      "2022-09-07 20:28:49 - Recall with Euclidean-Distance:             91.05\n",
      "2022-09-07 20:28:49 - Average Precision with Euclidean-Distance:  90.87\n",
      "\n",
      "2022-09-07 20:28:49 - Accuracy with Dot-Product:           80.17\t(Threshold: 112.2493)\n",
      "2022-09-07 20:28:49 - F1 with Dot-Product:                 85.24\t(Threshold: 48.6130)\n",
      "2022-09-07 20:28:49 - Precision with Dot-Product:          79.08\n",
      "2022-09-07 20:28:49 - Recall with Dot-Product:             92.45\n",
      "2022-09-07 20:28:49 - Average Precision with Dot-Product:  90.52\n",
      "\n"
     ]
    },
    {
     "data": {
      "application/vnd.jupyter.widget-view+json": {
       "model_id": "0dde63277d2e4ff0bb365ed539c5142d",
       "version_major": 2,
       "version_minor": 0
      },
      "text/plain": [
       "Iteration:   0%|          | 0/154 [00:00<?, ?it/s]"
      ]
     },
     "metadata": {},
     "output_type": "display_data"
    },
    {
     "name": "stdout",
     "output_type": "stream",
     "text": [
      "2022-09-07 20:29:02 - Binary Accuracy Evaluation of the model on  dataset after epoch 9:\n",
      "2022-09-07 20:29:02 - Accuracy with Cosine-Similarity:           80.30\t(Threshold: 0.4008)\n",
      "2022-09-07 20:29:02 - F1 with Cosine-Similarity:                 85.32\t(Threshold: 0.2683)\n",
      "2022-09-07 20:29:02 - Precision with Cosine-Similarity:          80.10\n",
      "2022-09-07 20:29:02 - Recall with Cosine-Similarity:             91.25\n",
      "2022-09-07 20:29:02 - Average Precision with Cosine-Similarity:  90.86\n",
      "\n",
      "2022-09-07 20:29:02 - Accuracy with Manhattan-Distance:           80.42\t(Threshold: 376.6394)\n",
      "2022-09-07 20:29:02 - F1 with Manhattan-Distance:                 85.37\t(Threshold: 405.1107)\n",
      "2022-09-07 20:29:02 - Precision with Manhattan-Distance:          79.45\n",
      "2022-09-07 20:29:02 - Recall with Manhattan-Distance:             92.25\n",
      "2022-09-07 20:29:02 - Average Precision with Manhattan-Distance:  90.87\n",
      "\n",
      "2022-09-07 20:29:02 - Accuracy with Euclidean-Distance:           80.55\t(Threshold: 17.9313)\n",
      "2022-09-07 20:29:02 - F1 with Euclidean-Distance:                 85.45\t(Threshold: 17.9313)\n",
      "2022-09-07 20:29:02 - Precision with Euclidean-Distance:          80.49\n",
      "2022-09-07 20:29:02 - Recall with Euclidean-Distance:             91.05\n",
      "2022-09-07 20:29:02 - Average Precision with Euclidean-Distance:  90.88\n",
      "\n",
      "2022-09-07 20:29:02 - Accuracy with Dot-Product:           80.05\t(Threshold: 99.6808)\n",
      "2022-09-07 20:29:02 - F1 with Dot-Product:                 85.03\t(Threshold: 50.0722)\n",
      "2022-09-07 20:29:02 - Precision with Dot-Product:          79.45\n",
      "2022-09-07 20:29:02 - Recall with Dot-Product:             91.45\n",
      "2022-09-07 20:29:02 - Average Precision with Dot-Product:  90.59\n",
      "\n",
      "Training done...\n",
      "\n",
      "\n",
      "\n",
      "                     ********** sentence-transformers/quora-distilbert-base **********\n",
      "2022-09-07 20:29:02 - Load pretrained SentenceTransformer: binary_sim_output/sentence-transformers/quora-distilbert-base\n",
      "2022-09-07 20:29:03 - Use pytorch device: cuda\n",
      "2022-09-07 20:29:03 - Softmax loss: #Vectors concatenated: 3\n",
      "2022-09-07 20:29:03 - EmbeddingSimilarityEvaluator: Evaluating the model on SPRAG-test dataset:\n",
      "2022-09-07 20:29:04 - Cosine-Similarity :\tPearson: 0.6269\tSpearman: 0.6131\n",
      "2022-09-07 20:29:04 - Manhattan-Distance:\tPearson: 0.6259\tSpearman: 0.6163\n",
      "2022-09-07 20:29:04 - Euclidean-Distance:\tPearson: 0.6280\tSpearman: 0.6164\n",
      "2022-09-07 20:29:04 - Dot-Product-Similarity:\tPearson: 0.6238\tSpearman: 0.6059\n",
      "2022-09-07 20:29:04 - Binary Accuracy Evaluation of the model on  dataset:\n",
      "2022-09-07 20:29:05 - Accuracy with Cosine-Similarity:           80.42\t(Threshold: 0.4687)\n",
      "2022-09-07 20:29:05 - F1 with Cosine-Similarity:                 85.24\t(Threshold: -0.1190)\n",
      "2022-09-07 20:29:05 - Precision with Cosine-Similarity:          75.65\n",
      "2022-09-07 20:29:05 - Recall with Cosine-Similarity:             97.61\n",
      "2022-09-07 20:29:05 - Average Precision with Cosine-Similarity:  91.18\n",
      "\n",
      "2022-09-07 20:29:05 - Accuracy with Manhattan-Distance:           80.42\t(Threshold: 353.3992)\n",
      "2022-09-07 20:29:05 - F1 with Manhattan-Distance:                 85.82\t(Threshold: 429.4451)\n",
      "2022-09-07 20:29:05 - Precision with Manhattan-Distance:          77.83\n",
      "2022-09-07 20:29:05 - Recall with Manhattan-Distance:             95.63\n",
      "2022-09-07 20:29:05 - Average Precision with Manhattan-Distance:  91.25\n",
      "\n",
      "2022-09-07 20:29:05 - Accuracy with Euclidean-Distance:           80.67\t(Threshold: 16.5490)\n",
      "2022-09-07 20:29:05 - F1 with Euclidean-Distance:                 85.39\t(Threshold: 20.7402)\n",
      "2022-09-07 20:29:05 - Precision with Euclidean-Distance:          76.62\n",
      "2022-09-07 20:29:05 - Recall with Euclidean-Distance:             96.42\n",
      "2022-09-07 20:29:05 - Average Precision with Euclidean-Distance:  91.28\n",
      "\n",
      "2022-09-07 20:29:05 - Accuracy with Dot-Product:           80.17\t(Threshold: 113.2079)\n",
      "2022-09-07 20:29:05 - F1 with Dot-Product:                 85.27\t(Threshold: -25.0207)\n",
      "2022-09-07 20:29:05 - Precision with Dot-Product:          75.58\n",
      "2022-09-07 20:29:05 - Recall with Dot-Product:             97.81\n",
      "2022-09-07 20:29:05 - Average Precision with Dot-Product:  90.76\n",
      "\n"
     ]
    },
    {
     "data": {
      "text/plain": [
       "0.91275218311147"
      ]
     },
     "execution_count": 23,
     "metadata": {},
     "output_type": "execute_result"
    }
   ],
   "source": [
    "\n",
    "st_model = 'sentence-transformers/quora-distilbert-base'\n",
    "num_epochs = 10\n",
    "batch_size=16\n",
    "model_save_path = \"binary_sim_output/\"+st_model\n",
    "train_dataloader = DataLoader(train_examples, shuffle=True, batch_size=batch_size)\n",
    "  \n",
    "test_dataloader = DataLoader(test_examples, shuffle=True, batch_size=batch_size)\n",
    "model = train_and_evaluate(st_model, train_dataloader, test_dataloader, num_epochs, model_save_path)\n",
    "print(\"\\n\\n\")\n",
    "print(\" \"*20, \"*\"*10, st_model , \"*\"*10)\n",
    "\n",
    "# Load the stored model and evaluate its performance on mohler test dataset\n",
    "model = SentenceTransformer(model_save_path)\n",
    "train_loss = losses.SoftmaxLoss(model=model, sentence_embedding_dimension=model.get_sentence_embedding_dimension(), num_labels=2)\n",
    "test_evaluator = evaluation.EmbeddingSimilarityEvaluator.from_input_examples(test_examples, batch_size=16, name='SPRAG-test')\n",
    "test_evaluator(model, output_path=model_save_path)\n",
    "train_loss.cuda()\n",
    "\n",
    "x_test_dA = test_data['ReferenceAnswer'].values.tolist()\n",
    "x_test_sA = test_data['StudentAnswer'].values.tolist()\n",
    "y_test = test_labels \n",
    "\n",
    "evaluator = evaluation.BinaryClassificationEvaluator(x_test_dA, x_test_sA, y_test)\n",
    "evaluator(model, output_path=model_save_path)\n"
   ]
  },
  {
   "cell_type": "code",
   "execution_count": 24,
   "id": "2b4f91ba",
   "metadata": {},
   "outputs": [
    {
     "data": {
      "application/vnd.jupyter.widget-view+json": {
       "model_id": "8436a89cf99f4ab484f076b65ed30628",
       "version_major": 2,
       "version_minor": 0
      },
      "text/plain": [
       "Batches:   0%|          | 0/1 [00:00<?, ?it/s]"
      ]
     },
     "metadata": {},
     "output_type": "display_data"
    },
    {
     "data": {
      "application/vnd.jupyter.widget-view+json": {
       "model_id": "d0eca1816d1e42d3a8217e0aa9ed013c",
       "version_major": 2,
       "version_minor": 0
      },
      "text/plain": [
       "Batches:   0%|          | 0/1 [00:00<?, ?it/s]"
      ]
     },
     "metadata": {},
     "output_type": "display_data"
    },
    {
     "data": {
      "text/plain": [
       "(768,)"
      ]
     },
     "execution_count": 24,
     "metadata": {},
     "output_type": "execute_result"
    }
   ],
   "source": [
    "#Our sentences we like to encode\n",
    "s1 = model.encode(\"Python is an object oriented programming language\")\n",
    "s2 = model.encode(\"java is an oop language\")\n",
    "\n",
    "s1.shape"
   ]
  },
  {
   "cell_type": "markdown",
   "id": "0667637a",
   "metadata": {},
   "source": []
  },
  {
   "cell_type": "code",
   "execution_count": 25,
   "id": "0c3ebdfe",
   "metadata": {},
   "outputs": [
    {
     "data": {
      "text/plain": [
       "tensor([[0.4429]])"
      ]
     },
     "execution_count": 25,
     "metadata": {},
     "output_type": "execute_result"
    }
   ],
   "source": [
    "#Compute cosine similarity between all pairs\n",
    "from sentence_transformers import util\n",
    "cos_sim = util.cos_sim(s1, s2)\n",
    "cos_sim"
   ]
  },
  {
   "cell_type": "code",
   "execution_count": null,
   "id": "f3185216",
   "metadata": {},
   "outputs": [],
   "source": []
  },
  {
   "cell_type": "code",
   "execution_count": null,
   "id": "ad833e3e",
   "metadata": {},
   "outputs": [],
   "source": []
  }
 ],
 "metadata": {
  "kernelspec": {
   "display_name": "Python 3 (ipykernel)",
   "language": "python",
   "name": "python3"
  },
  "language_info": {
   "codemirror_mode": {
    "name": "ipython",
    "version": 3
   },
   "file_extension": ".py",
   "mimetype": "text/x-python",
   "name": "python",
   "nbconvert_exporter": "python",
   "pygments_lexer": "ipython3",
   "version": "3.9.7"
  }
 },
 "nbformat": 4,
 "nbformat_minor": 5
}
