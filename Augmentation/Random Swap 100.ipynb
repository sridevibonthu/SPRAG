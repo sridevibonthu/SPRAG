{
 "cells": [
  {
   "cell_type": "code",
   "execution_count": 89,
   "id": "d81ecea5",
   "metadata": {},
   "outputs": [
    {
     "name": "stdout",
     "output_type": "stream",
     "text": [
      "huggingface/tokenizers: The current process just got forked, after parallelism has already been used. Disabling parallelism to avoid deadlocks...\n",
      "To disable this warning, you can either:\n",
      "\t- Avoid using `tokenizers` before the fork if possible\n",
      "\t- Explicitly set the environment variable TOKENIZERS_PARALLELISM=(true | false)\n",
      "Defaulting to user installation because normal site-packages is not writeable\n",
      "Requirement already satisfied: sentence-transformers in /home/jupyter-vit_sridevi/.local/lib/python3.9/site-packages (2.2.2)\n",
      "Requirement already satisfied: torchvision in /home/jupyter-vit_sridevi/.local/lib/python3.9/site-packages (from sentence-transformers) (0.13.0)\n",
      "Requirement already satisfied: numpy in /opt/tljh/user/lib/python3.9/site-packages (from sentence-transformers) (1.22.3)\n",
      "Requirement already satisfied: torch>=1.6.0 in /home/jupyter-vit_sridevi/.local/lib/python3.9/site-packages (from sentence-transformers) (1.12.0)\n",
      "Requirement already satisfied: transformers<5.0.0,>=4.6.0 in /home/jupyter-vit_sridevi/.local/lib/python3.9/site-packages (from sentence-transformers) (4.20.1)\n",
      "Requirement already satisfied: nltk in /home/jupyter-vit_sridevi/.local/lib/python3.9/site-packages (from sentence-transformers) (3.7)\n",
      "Requirement already satisfied: scikit-learn in /home/jupyter-vit_sridevi/.local/lib/python3.9/site-packages (from sentence-transformers) (1.1.1)\n",
      "Requirement already satisfied: tqdm in /opt/tljh/user/lib/python3.9/site-packages (from sentence-transformers) (4.62.3)\n",
      "Requirement already satisfied: sentencepiece in /home/jupyter-vit_sridevi/.local/lib/python3.9/site-packages (from sentence-transformers) (0.1.96)\n",
      "Requirement already satisfied: huggingface-hub>=0.4.0 in /home/jupyter-vit_sridevi/.local/lib/python3.9/site-packages (from sentence-transformers) (0.8.1)\n",
      "Requirement already satisfied: scipy in /home/jupyter-vit_sridevi/.local/lib/python3.9/site-packages (from sentence-transformers) (1.8.1)\n",
      "Requirement already satisfied: pyyaml>=5.1 in /home/jupyter-vit_sridevi/.local/lib/python3.9/site-packages (from huggingface-hub>=0.4.0->sentence-transformers) (6.0)\n",
      "Requirement already satisfied: requests in /opt/tljh/user/lib/python3.9/site-packages (from huggingface-hub>=0.4.0->sentence-transformers) (2.26.0)\n",
      "Requirement already satisfied: packaging>=20.9 in /opt/tljh/user/lib/python3.9/site-packages (from huggingface-hub>=0.4.0->sentence-transformers) (21.3)\n",
      "Requirement already satisfied: typing-extensions>=3.7.4.3 in /home/jupyter-vit_sridevi/.local/lib/python3.9/site-packages (from huggingface-hub>=0.4.0->sentence-transformers) (4.3.0)\n",
      "Requirement already satisfied: filelock in /home/jupyter-vit_sridevi/.local/lib/python3.9/site-packages (from huggingface-hub>=0.4.0->sentence-transformers) (3.7.1)\n",
      "Requirement already satisfied: regex!=2019.12.17 in /home/jupyter-vit_sridevi/.local/lib/python3.9/site-packages (from transformers<5.0.0,>=4.6.0->sentence-transformers) (2022.7.9)\n",
      "Requirement already satisfied: tokenizers!=0.11.3,<0.13,>=0.11.1 in /home/jupyter-vit_sridevi/.local/lib/python3.9/site-packages (from transformers<5.0.0,>=4.6.0->sentence-transformers) (0.12.1)\n",
      "Requirement already satisfied: joblib in /home/jupyter-vit_sridevi/.local/lib/python3.9/site-packages (from nltk->sentence-transformers) (1.1.0)\n",
      "Requirement already satisfied: click in /home/jupyter-vit_sridevi/.local/lib/python3.9/site-packages (from nltk->sentence-transformers) (8.1.3)\n",
      "Requirement already satisfied: threadpoolctl>=2.0.0 in /home/jupyter-vit_sridevi/.local/lib/python3.9/site-packages (from scikit-learn->sentence-transformers) (3.1.0)\n",
      "Requirement already satisfied: pillow!=8.3.*,>=5.3.0 in /home/jupyter-vit_sridevi/.local/lib/python3.9/site-packages (from torchvision->sentence-transformers) (9.2.0)\n",
      "Requirement already satisfied: pyparsing!=3.0.5,>=2.0.2 in /opt/tljh/user/lib/python3.9/site-packages (from packaging>=20.9->huggingface-hub>=0.4.0->sentence-transformers) (3.0.9)\n",
      "Requirement already satisfied: charset-normalizer~=2.0.0 in /opt/tljh/user/lib/python3.9/site-packages (from requests->huggingface-hub>=0.4.0->sentence-transformers) (2.0.0)\n",
      "Requirement already satisfied: urllib3<1.27,>=1.21.1 in /opt/tljh/user/lib/python3.9/site-packages (from requests->huggingface-hub>=0.4.0->sentence-transformers) (1.26.7)\n",
      "Requirement already satisfied: certifi>=2017.4.17 in /opt/tljh/user/lib/python3.9/site-packages (from requests->huggingface-hub>=0.4.0->sentence-transformers) (2021.10.8)\n",
      "Requirement already satisfied: idna<4,>=2.5 in /opt/tljh/user/lib/python3.9/site-packages (from requests->huggingface-hub>=0.4.0->sentence-transformers) (3.1)\n",
      "huggingface/tokenizers: The current process just got forked, after parallelism has already been used. Disabling parallelism to avoid deadlocks...\n",
      "To disable this warning, you can either:\n",
      "\t- Avoid using `tokenizers` before the fork if possible\n",
      "\t- Explicitly set the environment variable TOKENIZERS_PARALLELISM=(true | false)\n",
      "Defaulting to user installation because normal site-packages is not writeable\n",
      "Requirement already satisfied: pandas in /home/jupyter-vit_sridevi/.local/lib/python3.9/site-packages (1.4.3)\n",
      "Requirement already satisfied: numpy>=1.18.5 in /opt/tljh/user/lib/python3.9/site-packages (from pandas) (1.22.3)\n",
      "Requirement already satisfied: python-dateutil>=2.8.1 in /opt/tljh/user/lib/python3.9/site-packages (from pandas) (2.8.2)\n",
      "Requirement already satisfied: pytz>=2020.1 in /opt/tljh/user/lib/python3.9/site-packages (from pandas) (2022.1)\n",
      "Requirement already satisfied: six>=1.5 in /opt/tljh/user/lib/python3.9/site-packages (from python-dateutil>=2.8.1->pandas) (1.16.0)\n"
     ]
    }
   ],
   "source": [
    "!pip install sentence-transformers\n",
    "!pip install pandas\n"
   ]
  },
  {
   "cell_type": "code",
   "execution_count": 90,
   "id": "c445cdaf",
   "metadata": {},
   "outputs": [],
   "source": [
    "\n",
    "\n",
    "from sklearn.metrics import accuracy_score, f1_score\n",
    "from sklearn.linear_model import LogisticRegression\n",
    "from sentence_transformers import SentenceTransformer, InputExample, losses, models, datasets, evaluation\n",
    "from torch.utils.data import DataLoader\n",
    "\n",
    "from sklearn.manifold import TSNE\n",
    "from matplotlib import pyplot as plt\n",
    "\n",
    "# import warnings filter\n",
    "from warnings import simplefilter\n",
    "# ignore all future warnings\n",
    "simplefilter(action='ignore', category=FutureWarning)\n",
    "\n",
    "import pandas as pd\n",
    "import numpy as np\n",
    "\n",
    "import torch\n",
    "import random\n",
    "import torch\n",
    "import random\n",
    "\n",
    "def set_seed(seed):\n",
    "  random.seed(seed)\n",
    "  np.random.seed(seed)\n",
    "  torch.manual_seed(seed)"
   ]
  },
  {
   "cell_type": "code",
   "execution_count": 91,
   "id": "14c99818",
   "metadata": {},
   "outputs": [
    {
     "data": {
      "text/html": [
       "<div>\n",
       "<style scoped>\n",
       "    .dataframe tbody tr th:only-of-type {\n",
       "        vertical-align: middle;\n",
       "    }\n",
       "\n",
       "    .dataframe tbody tr th {\n",
       "        vertical-align: top;\n",
       "    }\n",
       "\n",
       "    .dataframe thead th {\n",
       "        text-align: right;\n",
       "    }\n",
       "</style>\n",
       "<table border=\"1\" class=\"dataframe\">\n",
       "  <thead>\n",
       "    <tr style=\"text-align: right;\">\n",
       "      <th></th>\n",
       "      <th>Unnamed: 0</th>\n",
       "      <th>QuestionID</th>\n",
       "      <th>ReferenceAnswer</th>\n",
       "      <th>StudentAnswer</th>\n",
       "      <th>Score1</th>\n",
       "      <th>Score2</th>\n",
       "      <th>avg_score</th>\n",
       "      <th>max_score</th>\n",
       "    </tr>\n",
       "  </thead>\n",
       "  <tbody>\n",
       "    <tr>\n",
       "      <th>0</th>\n",
       "      <td>0.0</td>\n",
       "      <td>PythonQ001</td>\n",
       "      <td>List, Set and Dictionary are mutable data stru...</td>\n",
       "      <td>Tha object structures which can be changeable ...</td>\n",
       "      <td>1.0</td>\n",
       "      <td>0.0</td>\n",
       "      <td>0.5</td>\n",
       "      <td>1.0</td>\n",
       "    </tr>\n",
       "    <tr>\n",
       "      <th>1</th>\n",
       "      <td>1.0</td>\n",
       "      <td>PythonQ001</td>\n",
       "      <td>List, Set and Dictionary are mutable data stru...</td>\n",
       "      <td>Tuple</td>\n",
       "      <td>0.0</td>\n",
       "      <td>0.0</td>\n",
       "      <td>0.0</td>\n",
       "      <td>0.0</td>\n",
       "    </tr>\n",
       "  </tbody>\n",
       "</table>\n",
       "</div>"
      ],
      "text/plain": [
       "   Unnamed: 0  QuestionID                                    ReferenceAnswer  \\\n",
       "0         0.0  PythonQ001  List, Set and Dictionary are mutable data stru...   \n",
       "1         1.0  PythonQ001  List, Set and Dictionary are mutable data stru...   \n",
       "\n",
       "                                       StudentAnswer  Score1  Score2  \\\n",
       "0  Tha object structures which can be changeable ...     1.0     0.0   \n",
       "1                                              Tuple     0.0     0.0   \n",
       "\n",
       "   avg_score  max_score  \n",
       "0        0.5        1.0  \n",
       "1        0.0        0.0  "
      ]
     },
     "execution_count": 91,
     "metadata": {},
     "output_type": "execute_result"
    }
   ],
   "source": [
    "#Load the sprag dataset\n",
    "data = pd.read_csv(\"refstdcombined.csv\")\n",
    "data.head(2)"
   ]
  },
  {
   "cell_type": "code",
   "execution_count": 92,
   "id": "c830d9ed",
   "metadata": {},
   "outputs": [],
   "source": [
    "data['bin_score'] = data.apply(lambda row : 1 if row.avg_score>=3 else 0, axis=1)"
   ]
  },
  {
   "cell_type": "code",
   "execution_count": 93,
   "id": "fb65373f",
   "metadata": {},
   "outputs": [
    {
     "data": {
      "text/html": [
       "<div>\n",
       "<style scoped>\n",
       "    .dataframe tbody tr th:only-of-type {\n",
       "        vertical-align: middle;\n",
       "    }\n",
       "\n",
       "    .dataframe tbody tr th {\n",
       "        vertical-align: top;\n",
       "    }\n",
       "\n",
       "    .dataframe thead th {\n",
       "        text-align: right;\n",
       "    }\n",
       "</style>\n",
       "<table border=\"1\" class=\"dataframe\">\n",
       "  <thead>\n",
       "    <tr style=\"text-align: right;\">\n",
       "      <th></th>\n",
       "      <th>Unnamed: 0</th>\n",
       "      <th>QuestionID</th>\n",
       "      <th>ReferenceAnswer</th>\n",
       "      <th>StudentAnswer</th>\n",
       "      <th>Score1</th>\n",
       "      <th>Score2</th>\n",
       "      <th>avg_score</th>\n",
       "      <th>max_score</th>\n",
       "      <th>bin_score</th>\n",
       "    </tr>\n",
       "  </thead>\n",
       "  <tbody>\n",
       "    <tr>\n",
       "      <th>0</th>\n",
       "      <td>0.0</td>\n",
       "      <td>PythonQ001</td>\n",
       "      <td>List, Set and Dictionary are mutable data stru...</td>\n",
       "      <td>Tha object structures which can be changeable ...</td>\n",
       "      <td>1.0</td>\n",
       "      <td>0.0</td>\n",
       "      <td>0.5</td>\n",
       "      <td>1.0</td>\n",
       "      <td>0</td>\n",
       "    </tr>\n",
       "    <tr>\n",
       "      <th>1</th>\n",
       "      <td>1.0</td>\n",
       "      <td>PythonQ001</td>\n",
       "      <td>List, Set and Dictionary are mutable data stru...</td>\n",
       "      <td>Tuple</td>\n",
       "      <td>0.0</td>\n",
       "      <td>0.0</td>\n",
       "      <td>0.0</td>\n",
       "      <td>0.0</td>\n",
       "      <td>0</td>\n",
       "    </tr>\n",
       "  </tbody>\n",
       "</table>\n",
       "</div>"
      ],
      "text/plain": [
       "   Unnamed: 0  QuestionID                                    ReferenceAnswer  \\\n",
       "0         0.0  PythonQ001  List, Set and Dictionary are mutable data stru...   \n",
       "1         1.0  PythonQ001  List, Set and Dictionary are mutable data stru...   \n",
       "\n",
       "                                       StudentAnswer  Score1  Score2  \\\n",
       "0  Tha object structures which can be changeable ...     1.0     0.0   \n",
       "1                                              Tuple     0.0     0.0   \n",
       "\n",
       "   avg_score  max_score  bin_score  \n",
       "0        0.5        1.0          0  \n",
       "1        0.0        0.0          0  "
      ]
     },
     "execution_count": 93,
     "metadata": {},
     "output_type": "execute_result"
    }
   ],
   "source": [
    "data.head(2)"
   ]
  },
  {
   "cell_type": "code",
   "execution_count": 94,
   "id": "ac3fd9e5",
   "metadata": {},
   "outputs": [],
   "source": [
    "data = data.dropna()"
   ]
  },
  {
   "cell_type": "code",
   "execution_count": 95,
   "id": "c209e2dd",
   "metadata": {},
   "outputs": [
    {
     "data": {
      "image/png": "[encoded data removed]",
      "text/plain": [
       "<Figure size 432x288 with 1 Axes>"
      ]
     },
     "metadata": {
      "needs_background": "light"
     },
     "output_type": "display_data"
    }
   ],
   "source": [
    "data['bin_score'].value_counts(normalize=True).plot(kind='bar');"
   ]
  },
  {
   "cell_type": "code",
   "execution_count": 96,
   "id": "59468089",
   "metadata": {},
   "outputs": [],
   "source": [
    "#### Just some code to print debug information to stdout\n",
    "import logging\n",
    "from sentence_transformers import LoggingHandler\n",
    "logging.basicConfig(format='%(asctime)s - %(message)s',\n",
    "                    datefmt='%Y-%m-%d %H:%M:%S',\n",
    "                    level=logging.INFO,\n",
    "                    handlers=[LoggingHandler()])"
   ]
  },
  {
   "cell_type": "code",
   "execution_count": 97,
   "id": "088b0996",
   "metadata": {},
   "outputs": [],
   "source": [
    "from sklearn.model_selection import train_test_split\n",
    "\n",
    "# Storing labels in array\n",
    "labels = data['bin_score'].values\n",
    "\n",
    "# Dropping labels column from data\n",
    "data = data.drop(['bin_score'], axis=1)\n",
    "\n",
    "# Splitting data into train and test sets in a 70/30 ratio\n",
    "train_data, test_data, train_labels, test_labels = train_test_split(data, labels, stratify=labels, random_state=42, test_size=0.2)"
   ]
  },
  {
   "cell_type": "code",
   "execution_count": 98,
   "id": "6c00c606",
   "metadata": {},
   "outputs": [
    {
     "data": {
      "text/plain": [
       "(3208, numpy.ndarray, (3208,))"
      ]
     },
     "execution_count": 98,
     "metadata": {},
     "output_type": "execute_result"
    }
   ],
   "source": [
    "len(train_data)*1, type(train_labels), train_labels.shape\n"
   ]
  },
  {
   "cell_type": "code",
   "execution_count": 100,
   "id": "32056e86",
   "metadata": {},
   "outputs": [],
   "source": [
    "train_data = train_data.iloc[0:3208]\n",
    "train_labels = train_labels[0:3208]"
   ]
  },
  {
   "cell_type": "code",
   "execution_count": 101,
   "id": "94b443ed",
   "metadata": {},
   "outputs": [
    {
     "data": {
      "text/plain": [
       "(pandas.core.frame.DataFrame, numpy.ndarray, 3208, 3208)"
      ]
     },
     "execution_count": 101,
     "metadata": {},
     "output_type": "execute_result"
    }
   ],
   "source": [
    "type(train_data), type(train_labels), len(train_data), len(train_labels)"
   ]
  },
  {
   "cell_type": "code",
   "execution_count": 102,
   "id": "d8f67464",
   "metadata": {},
   "outputs": [],
   "source": [
    "def random_swap(sentence, n=2): \n",
    "    sentence = sentence.split()\n",
    "    if len(sentence) > 4:\n",
    "\n",
    "      length = range(len(sentence)-1) \n",
    "      #print(sentence, length)\n",
    "      for _ in range(n):\n",
    "          idx1, idx2 = random.sample(length, 2)\n",
    "          sentence[idx1], sentence[idx2] = sentence[idx2], sentence[idx1] \n",
    "          #print(idx1, idx2, sentence)\n",
    "      return ' '.join(sentence)\n",
    "    return ' '.join(sentence)"
   ]
  },
  {
   "cell_type": "code",
   "execution_count": 103,
   "id": "1fbed970",
   "metadata": {},
   "outputs": [
    {
     "data": {
      "text/plain": [
       "'Hi there am where i are you'"
      ]
     },
     "execution_count": 103,
     "metadata": {},
     "output_type": "execute_result"
    }
   ],
   "source": [
    "random_swap(\"Hi i am there where are you\")"
   ]
  },
  {
   "cell_type": "code",
   "execution_count": 104,
   "id": "43744dab",
   "metadata": {},
   "outputs": [],
   "source": [
    "def sentence_pairs_generation(sentence1, sentence2, labels, pairs, datatype='train'):\n",
    "\t# initialize two empty lists to hold the (sentence, sentence) pairs and\n",
    "\t# labels to indicate if the grade of the pair\n",
    "\n",
    "  numClassesList = np.unique(labels)\n",
    "  #print(numClassesList)\n",
    "  idx = [np.where(labels == i)[0] for i in numClassesList]\n",
    "  #print(idx)\n",
    "  i=0\n",
    "\n",
    "  for idxA in range(len(sentence1)):      \n",
    "    dAns = sentence1[idxA]\n",
    "    sAns = sentence2[idxA]\n",
    "    label = int(labels[idxA])\n",
    "    \n",
    "\t\t  # prepare a pair and update the sentences and labels lists, respectively\n",
    "    pairs.append(InputExample(texts=[dAns, sAns], label=label))\n",
    "    \n",
    "    if datatype=='train' and random.random() >= 0.5:\n",
    "      sAns = random_swap(sentence2[idxA])\n",
    "      #print(sAns)\n",
    "      pairs.append(InputExample(texts=[dAns, sAns], label=label))\n",
    "      i = i+1\n",
    "  \n",
    "  print(\"No.of augmented examples : \", i)\n",
    "\n",
    "     \n",
    "\t# return a 2-tuple of our image pairs and labels\n",
    "  return (pairs)"
   ]
  },
  {
   "cell_type": "code",
   "execution_count": 105,
   "id": "73812285",
   "metadata": {},
   "outputs": [],
   "source": [
    "set_seed(0)\n",
    "# Equal samples per class training\n",
    "#train_df_sample = pd.concat([train_df[train_df[1]==0].sample(num_training), train_df[train_df[1]==1].sample(num_training)])\n",
    "x_train_dA = train_data['ReferenceAnswer'].values.tolist()\n",
    "x_train_sA = train_data['StudentAnswer'].values.tolist()\n",
    "y_train = train_labels.tolist()\n",
    "y_train = [int(x) for x in y_train]"
   ]
  },
  {
   "cell_type": "code",
   "execution_count": 106,
   "id": "61fd6221",
   "metadata": {},
   "outputs": [
    {
     "name": "stdout",
     "output_type": "stream",
     "text": [
      "No.of augmented examples :  0\n"
     ]
    }
   ],
   "source": [
    "#use test dataset as dev dataset\n",
    "x_test_dA = test_data['ReferenceAnswer'].values.tolist()\n",
    "x_test_sA = test_data['StudentAnswer'].values.tolist()\n",
    "y_test = test_labels / 1.0\n",
    "y_test = test_labels.tolist()\n",
    "#y_test = [int(x) for x in y_test]\n",
    "\n",
    "test_examples = [] \n",
    "test_examples = sentence_pairs_generation(np.array(x_test_dA), np.array(x_test_sA), np.array(y_test), test_examples, datatype='test')"
   ]
  },
  {
   "cell_type": "code",
   "execution_count": 107,
   "id": "c8691ad5",
   "metadata": {},
   "outputs": [
    {
     "data": {
      "text/plain": [
       "802"
      ]
     },
     "execution_count": 107,
     "metadata": {},
     "output_type": "execute_result"
    }
   ],
   "source": [
    "len(test_examples)"
   ]
  },
  {
   "cell_type": "code",
   "execution_count": 108,
   "id": "6049c777",
   "metadata": {},
   "outputs": [
    {
     "name": "stdout",
     "output_type": "stream",
     "text": [
      "No.of augmented examples :  1610\n"
     ]
    }
   ],
   "source": [
    "train_examples = [] \n",
    "train_examples = sentence_pairs_generation(np.array(x_train_dA), np.array(x_train_sA), np.array(y_train), train_examples)"
   ]
  },
  {
   "cell_type": "code",
   "execution_count": 109,
   "id": "1dc07f9e",
   "metadata": {},
   "outputs": [
    {
     "data": {
      "text/plain": [
       "4818"
      ]
     },
     "execution_count": 109,
     "metadata": {},
     "output_type": "execute_result"
    }
   ],
   "source": [
    "len(train_examples)"
   ]
  },
  {
   "cell_type": "code",
   "execution_count": 110,
   "id": "5bef49b2",
   "metadata": {},
   "outputs": [],
   "source": [
    "# Save path of the model\n",
    "from datetime import datetime\n",
    "model_save_path = 'output/training_sprag_v4_'+datetime.now().strftime(\"%Y-%m-%d_%H-%M-%S\")"
   ]
  },
  {
   "cell_type": "code",
   "execution_count": 111,
   "id": "cad4f826",
   "metadata": {},
   "outputs": [],
   "source": [
    "from sentence_transformers import evaluation\n",
    "import math\n",
    "\n",
    "\n",
    "def train_and_evaluate(st_model, train_dataloader, test_dataloader, num_epochs,model_save_path):\n",
    "  model = SentenceTransformer(st_model)\n",
    "  #for evaluation\n",
    "  train_loss = losses.SoftmaxLoss(model=model, sentence_embedding_dimension=model.get_sentence_embedding_dimension(), num_labels=2)\n",
    "  #test_evaluator = evaluation.EmbeddingSimilarityEvaluator.from_input_examples(test_examples, batch_size=16, name='SPRAG-test')\n",
    "  x_test_dA = test_data['ReferenceAnswer'].values.tolist()\n",
    "  x_test_sA = test_data['StudentAnswer'].values.tolist()\n",
    "  y_test = test_labels \n",
    "\n",
    "  evaluator = evaluation.BinaryClassificationEvaluator(x_test_dA, x_test_sA, y_test)\n",
    "\n",
    "  #configuring the training\n",
    "  warmup_steps = math.ceil(len(train_dataloader) * num_epochs * 0.1) #10% of train data for warm-up\n",
    "  print(warmup_steps)\n",
    "  #train_loss = losses.CosineSimilarityLoss(model)\n",
    "  model.fit(train_objectives=[(train_dataloader, train_loss)],\n",
    "          evaluator=evaluator,\n",
    "          epochs=num_epochs,\n",
    "          warmup_steps=warmup_steps,\n",
    "          show_progress_bar=True,  \n",
    "          #evaluation_steps=50, \n",
    "          output_path=model_save_path,)\n",
    "  print(\"Training done...\")"
   ]
  },
  {
   "cell_type": "code",
   "execution_count": 112,
   "id": "4d6a71e0",
   "metadata": {},
   "outputs": [
    {
     "name": "stdout",
     "output_type": "stream",
     "text": [
      "2022-09-07 21:04:41 - Load pretrained SentenceTransformer: stsb-distilbert-base\n",
      "2022-09-07 21:04:42 - Use pytorch device: cuda\n",
      "2022-09-07 21:04:42 - Softmax loss: #Vectors concatenated: 3\n",
      "302\n"
     ]
    },
    {
     "data": {
      "application/vnd.jupyter.widget-view+json": {
       "model_id": "1fbecf45a491404ba2eb0e8b1bc97c0d",
       "version_major": 2,
       "version_minor": 0
      },
      "text/plain": [
       "Epoch:   0%|          | 0/10 [00:00<?, ?it/s]"
      ]
     },
     "metadata": {},
     "output_type": "display_data"
    },
    {
     "data": {
      "application/vnd.jupyter.widget-view+json": {
       "model_id": "a7cb078fbca54aceb43cad42565a9a28",
       "version_major": 2,
       "version_minor": 0
      },
      "text/plain": [
       "Iteration:   0%|          | 0/302 [00:00<?, ?it/s]"
      ]
     },
     "metadata": {},
     "output_type": "display_data"
    },
    {
     "name": "stdout",
     "output_type": "stream",
     "text": [
      "2022-09-07 21:05:07 - Binary Accuracy Evaluation of the model on  dataset after epoch 0:\n",
      "2022-09-07 21:05:07 - Accuracy with Cosine-Similarity:           79.18\t(Threshold: 0.3771)\n",
      "2022-09-07 21:05:07 - F1 with Cosine-Similarity:                 85.13\t(Threshold: 0.2807)\n",
      "2022-09-07 21:05:07 - Precision with Cosine-Similarity:          77.10\n",
      "2022-09-07 21:05:07 - Recall with Cosine-Similarity:             95.03\n",
      "2022-09-07 21:05:07 - Average Precision with Cosine-Similarity:  91.19\n",
      "\n",
      "2022-09-07 21:05:07 - Accuracy with Manhattan-Distance:           79.80\t(Threshold: 369.5582)\n",
      "2022-09-07 21:05:07 - F1 with Manhattan-Distance:                 84.68\t(Threshold: 422.2367)\n",
      "2022-09-07 21:05:07 - Precision with Manhattan-Distance:          75.99\n",
      "2022-09-07 21:05:07 - Recall with Manhattan-Distance:             95.63\n",
      "2022-09-07 21:05:07 - Average Precision with Manhattan-Distance:  91.37\n",
      "\n",
      "2022-09-07 21:05:07 - Accuracy with Euclidean-Distance:           79.80\t(Threshold: 16.6526)\n",
      "2022-09-07 21:05:07 - F1 with Euclidean-Distance:                 84.72\t(Threshold: 19.3909)\n",
      "2022-09-07 21:05:07 - Precision with Euclidean-Distance:          75.55\n",
      "2022-09-07 21:05:07 - Recall with Euclidean-Distance:             96.42\n",
      "2022-09-07 21:05:07 - Average Precision with Euclidean-Distance:  91.42\n",
      "\n",
      "2022-09-07 21:05:07 - Accuracy with Dot-Product:           79.30\t(Threshold: 73.9795)\n",
      "2022-09-07 21:05:07 - F1 with Dot-Product:                 85.26\t(Threshold: 68.9013)\n",
      "2022-09-07 21:05:07 - Precision with Dot-Product:          77.05\n",
      "2022-09-07 21:05:07 - Recall with Dot-Product:             95.43\n",
      "2022-09-07 21:05:07 - Average Precision with Dot-Product:  90.66\n",
      "\n",
      "2022-09-07 21:05:07 - Save model to binary_sim_output/stsb-distilbert-base\n"
     ]
    },
    {
     "data": {
      "application/vnd.jupyter.widget-view+json": {
       "model_id": "c2940d93f5e74990bdd1e2a28a5ade15",
       "version_major": 2,
       "version_minor": 0
      },
      "text/plain": [
       "Iteration:   0%|          | 0/302 [00:00<?, ?it/s]"
      ]
     },
     "metadata": {},
     "output_type": "display_data"
    },
    {
     "name": "stdout",
     "output_type": "stream",
     "text": [
      "2022-09-07 21:05:33 - Binary Accuracy Evaluation of the model on  dataset after epoch 1:\n",
      "2022-09-07 21:05:34 - Accuracy with Cosine-Similarity:           82.04\t(Threshold: 0.3734)\n",
      "2022-09-07 21:05:34 - F1 with Cosine-Similarity:                 86.58\t(Threshold: 0.2707)\n",
      "2022-09-07 21:05:34 - Precision with Cosine-Similarity:          80.07\n",
      "2022-09-07 21:05:34 - Recall with Cosine-Similarity:             94.23\n",
      "2022-09-07 21:05:34 - Average Precision with Cosine-Similarity:  91.58\n",
      "\n",
      "2022-09-07 21:05:34 - Accuracy with Manhattan-Distance:           81.92\t(Threshold: 394.9049)\n",
      "2022-09-07 21:05:34 - F1 with Manhattan-Distance:                 86.23\t(Threshold: 434.1912)\n",
      "2022-09-07 21:05:34 - Precision with Manhattan-Distance:          78.78\n",
      "2022-09-07 21:05:34 - Recall with Manhattan-Distance:             95.23\n",
      "2022-09-07 21:05:34 - Average Precision with Manhattan-Distance:  91.77\n",
      "\n",
      "2022-09-07 21:05:34 - Accuracy with Euclidean-Distance:           82.04\t(Threshold: 17.8175)\n",
      "2022-09-07 21:05:34 - F1 with Euclidean-Distance:                 86.33\t(Threshold: 19.7704)\n",
      "2022-09-07 21:05:34 - Precision with Euclidean-Distance:          79.24\n",
      "2022-09-07 21:05:34 - Recall with Euclidean-Distance:             94.83\n",
      "2022-09-07 21:05:34 - Average Precision with Euclidean-Distance:  91.80\n",
      "\n",
      "2022-09-07 21:05:34 - Accuracy with Dot-Product:           81.55\t(Threshold: 94.4351)\n",
      "2022-09-07 21:05:34 - F1 with Dot-Product:                 86.36\t(Threshold: 69.3279)\n",
      "2022-09-07 21:05:34 - Precision with Dot-Product:          79.56\n",
      "2022-09-07 21:05:34 - Recall with Dot-Product:             94.43\n",
      "2022-09-07 21:05:34 - Average Precision with Dot-Product:  91.01\n",
      "\n",
      "2022-09-07 21:05:34 - Save model to binary_sim_output/stsb-distilbert-base\n"
     ]
    },
    {
     "data": {
      "application/vnd.jupyter.widget-view+json": {
       "model_id": "779dbf3a48e4487ba1b233f53bbdc85d",
       "version_major": 2,
       "version_minor": 0
      },
      "text/plain": [
       "Iteration:   0%|          | 0/302 [00:00<?, ?it/s]"
      ]
     },
     "metadata": {},
     "output_type": "display_data"
    },
    {
     "name": "stdout",
     "output_type": "stream",
     "text": [
      "2022-09-07 21:05:59 - Binary Accuracy Evaluation of the model on  dataset after epoch 2:\n",
      "2022-09-07 21:06:00 - Accuracy with Cosine-Similarity:           81.92\t(Threshold: 0.2321)\n",
      "2022-09-07 21:06:00 - F1 with Cosine-Similarity:                 86.43\t(Threshold: 0.1899)\n",
      "2022-09-07 21:06:00 - Precision with Cosine-Similarity:          81.15\n",
      "2022-09-07 21:06:00 - Recall with Cosine-Similarity:             92.45\n",
      "2022-09-07 21:06:00 - Average Precision with Cosine-Similarity:  91.53\n",
      "\n",
      "2022-09-07 21:06:00 - Accuracy with Manhattan-Distance:           82.42\t(Threshold: 446.8201)\n",
      "2022-09-07 21:06:00 - F1 with Manhattan-Distance:                 86.91\t(Threshold: 448.0668)\n",
      "2022-09-07 21:06:00 - Precision with Manhattan-Distance:          81.53\n",
      "2022-09-07 21:06:00 - Recall with Manhattan-Distance:             93.04\n",
      "2022-09-07 21:06:00 - Average Precision with Manhattan-Distance:  91.74\n",
      "\n",
      "2022-09-07 21:06:00 - Accuracy with Euclidean-Distance:           82.54\t(Threshold: 20.9417)\n",
      "2022-09-07 21:06:00 - F1 with Euclidean-Distance:                 87.06\t(Threshold: 20.9417)\n",
      "2022-09-07 21:06:00 - Precision with Euclidean-Distance:          81.35\n",
      "2022-09-07 21:06:00 - Recall with Euclidean-Distance:             93.64\n",
      "2022-09-07 21:06:00 - Average Precision with Euclidean-Distance:  91.74\n",
      "\n",
      "2022-09-07 21:06:00 - Accuracy with Dot-Product:           81.92\t(Threshold: 58.2663)\n",
      "2022-09-07 21:06:00 - F1 with Dot-Product:                 86.41\t(Threshold: 53.6276)\n",
      "2022-09-07 21:06:00 - Precision with Dot-Product:          81.74\n",
      "2022-09-07 21:06:00 - Recall with Dot-Product:             91.65\n",
      "2022-09-07 21:06:00 - Average Precision with Dot-Product:  90.94\n",
      "\n"
     ]
    },
    {
     "data": {
      "application/vnd.jupyter.widget-view+json": {
       "model_id": "9ba0d77bfcfd44e4bbf4a7107d1127c5",
       "version_major": 2,
       "version_minor": 0
      },
      "text/plain": [
       "Iteration:   0%|          | 0/302 [00:00<?, ?it/s]"
      ]
     },
     "metadata": {},
     "output_type": "display_data"
    },
    {
     "name": "stdout",
     "output_type": "stream",
     "text": [
      "2022-09-07 21:06:24 - Binary Accuracy Evaluation of the model on  dataset after epoch 3:\n",
      "2022-09-07 21:06:25 - Accuracy with Cosine-Similarity:           82.04\t(Threshold: 0.1150)\n",
      "2022-09-07 21:06:25 - F1 with Cosine-Similarity:                 86.54\t(Threshold: 0.1150)\n",
      "2022-09-07 21:06:25 - Precision with Cosine-Similarity:          81.66\n",
      "2022-09-07 21:06:25 - Recall with Cosine-Similarity:             92.05\n",
      "2022-09-07 21:06:25 - Average Precision with Cosine-Similarity:  91.01\n",
      "\n",
      "2022-09-07 21:06:25 - Accuracy with Manhattan-Distance:           82.04\t(Threshold: 443.2008)\n",
      "2022-09-07 21:06:25 - F1 with Manhattan-Distance:                 86.49\t(Threshold: 474.7016)\n",
      "2022-09-07 21:06:25 - Precision with Manhattan-Distance:          81.88\n",
      "2022-09-07 21:06:25 - Recall with Manhattan-Distance:             91.65\n",
      "2022-09-07 21:06:25 - Average Precision with Manhattan-Distance:  91.21\n",
      "\n",
      "2022-09-07 21:06:25 - Accuracy with Euclidean-Distance:           82.29\t(Threshold: 21.5009)\n",
      "2022-09-07 21:06:25 - F1 with Euclidean-Distance:                 86.65\t(Threshold: 21.5009)\n",
      "2022-09-07 21:06:25 - Precision with Euclidean-Distance:          82.17\n",
      "2022-09-07 21:06:25 - Recall with Euclidean-Distance:             91.65\n",
      "2022-09-07 21:06:25 - Average Precision with Euclidean-Distance:  91.22\n",
      "\n",
      "2022-09-07 21:06:25 - Accuracy with Dot-Product:           81.92\t(Threshold: 36.1382)\n",
      "2022-09-07 21:06:25 - F1 with Dot-Product:                 86.41\t(Threshold: 31.5185)\n",
      "2022-09-07 21:06:25 - Precision with Dot-Product:          81.74\n",
      "2022-09-07 21:06:25 - Recall with Dot-Product:             91.65\n",
      "2022-09-07 21:06:25 - Average Precision with Dot-Product:  90.32\n",
      "\n"
     ]
    },
    {
     "data": {
      "application/vnd.jupyter.widget-view+json": {
       "model_id": "58629e97abf14af2a6a7cd0b03f5552c",
       "version_major": 2,
       "version_minor": 0
      },
      "text/plain": [
       "Iteration:   0%|          | 0/302 [00:00<?, ?it/s]"
      ]
     },
     "metadata": {},
     "output_type": "display_data"
    },
    {
     "name": "stdout",
     "output_type": "stream",
     "text": [
      "2022-09-07 21:06:50 - Binary Accuracy Evaluation of the model on  dataset after epoch 4:\n",
      "2022-09-07 21:06:50 - Accuracy with Cosine-Similarity:           81.67\t(Threshold: 0.0301)\n",
      "2022-09-07 21:06:50 - F1 with Cosine-Similarity:                 86.40\t(Threshold: 0.0301)\n",
      "2022-09-07 21:06:50 - Precision with Cosine-Similarity:          80.80\n",
      "2022-09-07 21:06:50 - Recall with Cosine-Similarity:             92.84\n",
      "2022-09-07 21:06:50 - Average Precision with Cosine-Similarity:  91.91\n",
      "\n",
      "2022-09-07 21:06:50 - Accuracy with Manhattan-Distance:           81.92\t(Threshold: 503.3859)\n",
      "2022-09-07 21:06:50 - F1 with Manhattan-Distance:                 86.59\t(Threshold: 503.3859)\n",
      "2022-09-07 21:06:50 - Precision with Manhattan-Distance:          80.97\n",
      "2022-09-07 21:06:50 - Recall with Manhattan-Distance:             93.04\n",
      "2022-09-07 21:06:50 - Average Precision with Manhattan-Distance:  92.00\n",
      "\n",
      "2022-09-07 21:06:50 - Accuracy with Euclidean-Distance:           82.17\t(Threshold: 23.3428)\n",
      "2022-09-07 21:06:50 - F1 with Euclidean-Distance:                 86.84\t(Threshold: 23.3428)\n",
      "2022-09-07 21:06:50 - Precision with Euclidean-Distance:          80.82\n",
      "2022-09-07 21:06:50 - Recall with Euclidean-Distance:             93.84\n",
      "2022-09-07 21:06:50 - Average Precision with Euclidean-Distance:  92.02\n",
      "\n",
      "2022-09-07 21:06:50 - Accuracy with Dot-Product:           81.67\t(Threshold: 8.0970)\n",
      "2022-09-07 21:06:50 - F1 with Dot-Product:                 86.40\t(Threshold: 8.0970)\n",
      "2022-09-07 21:06:50 - Precision with Dot-Product:          80.80\n",
      "2022-09-07 21:06:50 - Recall with Dot-Product:             92.84\n",
      "2022-09-07 21:06:50 - Average Precision with Dot-Product:  91.38\n",
      "\n",
      "2022-09-07 21:06:50 - Save model to binary_sim_output/stsb-distilbert-base\n"
     ]
    },
    {
     "data": {
      "application/vnd.jupyter.widget-view+json": {
       "model_id": "c8c6d92c1f794c9cb6e755a41fcc86c1",
       "version_major": 2,
       "version_minor": 0
      },
      "text/plain": [
       "Iteration:   0%|          | 0/302 [00:00<?, ?it/s]"
      ]
     },
     "metadata": {},
     "output_type": "display_data"
    },
    {
     "name": "stdout",
     "output_type": "stream",
     "text": [
      "2022-09-07 21:07:16 - Binary Accuracy Evaluation of the model on  dataset after epoch 5:\n",
      "2022-09-07 21:07:16 - Accuracy with Cosine-Similarity:           82.17\t(Threshold: 0.2284)\n",
      "2022-09-07 21:07:16 - F1 with Cosine-Similarity:                 86.34\t(Threshold: 0.2239)\n",
      "2022-09-07 21:07:16 - Precision with Cosine-Similarity:          83.09\n",
      "2022-09-07 21:07:16 - Recall with Cosine-Similarity:             89.86\n",
      "2022-09-07 21:07:16 - Average Precision with Cosine-Similarity:  91.87\n",
      "\n",
      "2022-09-07 21:07:16 - Accuracy with Manhattan-Distance:           82.42\t(Threshold: 451.4351)\n",
      "2022-09-07 21:07:16 - F1 with Manhattan-Distance:                 86.55\t(Threshold: 464.7237)\n",
      "2022-09-07 21:07:16 - Precision with Manhattan-Distance:          82.64\n",
      "2022-09-07 21:07:16 - Recall with Manhattan-Distance:             90.85\n",
      "2022-09-07 21:07:16 - Average Precision with Manhattan-Distance:  91.98\n",
      "\n",
      "2022-09-07 21:07:16 - Accuracy with Euclidean-Distance:           82.29\t(Threshold: 20.3462)\n",
      "2022-09-07 21:07:16 - F1 with Euclidean-Distance:                 86.50\t(Threshold: 21.1341)\n",
      "2022-09-07 21:07:16 - Precision with Euclidean-Distance:          82.88\n",
      "2022-09-07 21:07:16 - Recall with Euclidean-Distance:             90.46\n",
      "2022-09-07 21:07:16 - Average Precision with Euclidean-Distance:  91.98\n",
      "\n",
      "2022-09-07 21:07:16 - Accuracy with Dot-Product:           82.04\t(Threshold: 66.2188)\n",
      "2022-09-07 21:07:16 - F1 with Dot-Product:                 86.29\t(Threshold: -8.8131)\n",
      "2022-09-07 21:07:16 - Precision with Dot-Product:          79.86\n",
      "2022-09-07 21:07:16 - Recall with Dot-Product:             93.84\n",
      "2022-09-07 21:07:16 - Average Precision with Dot-Product:  91.39\n",
      "\n"
     ]
    },
    {
     "data": {
      "application/vnd.jupyter.widget-view+json": {
       "model_id": "9910a400f23142b59cc82ff0be15c187",
       "version_major": 2,
       "version_minor": 0
      },
      "text/plain": [
       "Iteration:   0%|          | 0/302 [00:00<?, ?it/s]"
      ]
     },
     "metadata": {},
     "output_type": "display_data"
    },
    {
     "name": "stdout",
     "output_type": "stream",
     "text": [
      "2022-09-07 21:07:41 - Binary Accuracy Evaluation of the model on  dataset after epoch 6:\n",
      "2022-09-07 21:07:42 - Accuracy with Cosine-Similarity:           81.80\t(Threshold: 0.3310)\n",
      "2022-09-07 21:07:42 - F1 with Cosine-Similarity:                 85.92\t(Threshold: -0.0507)\n",
      "2022-09-07 21:07:42 - Precision with Cosine-Similarity:          79.97\n",
      "2022-09-07 21:07:42 - Recall with Cosine-Similarity:             92.84\n",
      "2022-09-07 21:07:42 - Average Precision with Cosine-Similarity:  91.35\n",
      "\n",
      "2022-09-07 21:07:42 - Accuracy with Manhattan-Distance:           82.04\t(Threshold: 425.4974)\n",
      "2022-09-07 21:07:42 - F1 with Manhattan-Distance:                 86.02\t(Threshold: 436.5212)\n",
      "2022-09-07 21:07:42 - Precision with Manhattan-Distance:          84.06\n",
      "2022-09-07 21:07:42 - Recall with Manhattan-Distance:             88.07\n",
      "2022-09-07 21:07:42 - Average Precision with Manhattan-Distance:  91.42\n",
      "\n",
      "2022-09-07 21:07:42 - Accuracy with Euclidean-Distance:           82.04\t(Threshold: 19.4588)\n",
      "2022-09-07 21:07:42 - F1 with Euclidean-Distance:                 86.02\t(Threshold: 19.9841)\n",
      "2022-09-07 21:07:42 - Precision with Euclidean-Distance:          84.06\n",
      "2022-09-07 21:07:42 - Recall with Euclidean-Distance:             88.07\n",
      "2022-09-07 21:07:42 - Average Precision with Euclidean-Distance:  91.45\n",
      "\n",
      "2022-09-07 21:07:42 - Accuracy with Dot-Product:           81.67\t(Threshold: 88.3884)\n",
      "2022-09-07 21:07:42 - F1 with Dot-Product:                 85.92\t(Threshold: -14.3078)\n",
      "2022-09-07 21:07:42 - Precision with Dot-Product:          79.97\n",
      "2022-09-07 21:07:42 - Recall with Dot-Product:             92.84\n",
      "2022-09-07 21:07:42 - Average Precision with Dot-Product:  90.88\n",
      "\n"
     ]
    },
    {
     "data": {
      "application/vnd.jupyter.widget-view+json": {
       "model_id": "dcabf9db310d43258493a0b018ffbabf",
       "version_major": 2,
       "version_minor": 0
      },
      "text/plain": [
       "Iteration:   0%|          | 0/302 [00:00<?, ?it/s]"
      ]
     },
     "metadata": {},
     "output_type": "display_data"
    },
    {
     "name": "stdout",
     "output_type": "stream",
     "text": [
      "2022-09-07 21:08:07 - Binary Accuracy Evaluation of the model on  dataset after epoch 7:\n",
      "2022-09-07 21:08:07 - Accuracy with Cosine-Similarity:           81.05\t(Threshold: 0.2548)\n",
      "2022-09-07 21:08:07 - F1 with Cosine-Similarity:                 85.82\t(Threshold: -0.1004)\n",
      "2022-09-07 21:08:07 - Precision with Cosine-Similarity:          80.38\n",
      "2022-09-07 21:08:07 - Recall with Cosine-Similarity:             92.05\n",
      "2022-09-07 21:08:07 - Average Precision with Cosine-Similarity:  91.62\n",
      "\n",
      "2022-09-07 21:08:07 - Accuracy with Manhattan-Distance:           81.55\t(Threshold: 449.4909)\n",
      "2022-09-07 21:08:07 - F1 with Manhattan-Distance:                 85.90\t(Threshold: 515.7874)\n",
      "2022-09-07 21:08:07 - Precision with Manhattan-Distance:          80.99\n",
      "2022-09-07 21:08:07 - Recall with Manhattan-Distance:             91.45\n",
      "2022-09-07 21:08:07 - Average Precision with Manhattan-Distance:  91.70\n",
      "\n",
      "2022-09-07 21:08:07 - Accuracy with Euclidean-Distance:           81.55\t(Threshold: 20.3508)\n",
      "2022-09-07 21:08:07 - F1 with Euclidean-Distance:                 85.90\t(Threshold: 23.8780)\n",
      "2022-09-07 21:08:07 - Precision with Euclidean-Distance:          80.99\n",
      "2022-09-07 21:08:07 - Recall with Euclidean-Distance:             91.45\n",
      "2022-09-07 21:08:07 - Average Precision with Euclidean-Distance:  91.69\n",
      "\n",
      "2022-09-07 21:08:07 - Accuracy with Dot-Product:           81.17\t(Threshold: 65.0943)\n",
      "2022-09-07 21:08:07 - F1 with Dot-Product:                 85.82\t(Threshold: -28.4725)\n",
      "2022-09-07 21:08:07 - Precision with Dot-Product:          80.38\n",
      "2022-09-07 21:08:07 - Recall with Dot-Product:             92.05\n",
      "2022-09-07 21:08:07 - Average Precision with Dot-Product:  91.23\n",
      "\n"
     ]
    },
    {
     "data": {
      "application/vnd.jupyter.widget-view+json": {
       "model_id": "d91e9360463c405680d23007b28c20ff",
       "version_major": 2,
       "version_minor": 0
      },
      "text/plain": [
       "Iteration:   0%|          | 0/302 [00:00<?, ?it/s]"
      ]
     },
     "metadata": {},
     "output_type": "display_data"
    },
    {
     "name": "stdout",
     "output_type": "stream",
     "text": [
      "2022-09-07 21:08:32 - Binary Accuracy Evaluation of the model on  dataset after epoch 8:\n",
      "2022-09-07 21:08:33 - Accuracy with Cosine-Similarity:           81.30\t(Threshold: 0.5262)\n",
      "2022-09-07 21:08:33 - F1 with Cosine-Similarity:                 85.77\t(Threshold: 0.1051)\n",
      "2022-09-07 21:08:33 - Precision with Cosine-Similarity:          81.06\n",
      "2022-09-07 21:08:33 - Recall with Cosine-Similarity:             91.05\n",
      "2022-09-07 21:08:33 - Average Precision with Cosine-Similarity:  91.69\n",
      "\n",
      "2022-09-07 21:08:33 - Accuracy with Manhattan-Distance:           81.55\t(Threshold: 418.9033)\n",
      "2022-09-07 21:08:33 - F1 with Manhattan-Distance:                 85.88\t(Threshold: 472.9485)\n",
      "2022-09-07 21:08:33 - Precision with Manhattan-Distance:          81.57\n",
      "2022-09-07 21:08:33 - Recall with Manhattan-Distance:             90.66\n",
      "2022-09-07 21:08:33 - Average Precision with Manhattan-Distance:  91.74\n",
      "\n",
      "2022-09-07 21:08:33 - Accuracy with Euclidean-Distance:           81.55\t(Threshold: 19.3677)\n",
      "2022-09-07 21:08:33 - F1 with Euclidean-Distance:                 85.88\t(Threshold: 21.6054)\n",
      "2022-09-07 21:08:33 - Precision with Euclidean-Distance:          81.57\n",
      "2022-09-07 21:08:33 - Recall with Euclidean-Distance:             90.66\n",
      "2022-09-07 21:08:33 - Average Precision with Euclidean-Distance:  91.74\n",
      "\n",
      "2022-09-07 21:08:33 - Accuracy with Dot-Product:           81.30\t(Threshold: 96.2216)\n",
      "2022-09-07 21:08:33 - F1 with Dot-Product:                 85.63\t(Threshold: 31.9303)\n",
      "2022-09-07 21:08:33 - Precision with Dot-Product:          81.14\n",
      "2022-09-07 21:08:33 - Recall with Dot-Product:             90.66\n",
      "2022-09-07 21:08:33 - Average Precision with Dot-Product:  91.30\n",
      "\n"
     ]
    },
    {
     "data": {
      "application/vnd.jupyter.widget-view+json": {
       "model_id": "bf8df4f34cc74e7bbbdcc493c1d977d7",
       "version_major": 2,
       "version_minor": 0
      },
      "text/plain": [
       "Iteration:   0%|          | 0/302 [00:00<?, ?it/s]"
      ]
     },
     "metadata": {},
     "output_type": "display_data"
    },
    {
     "name": "stdout",
     "output_type": "stream",
     "text": [
      "2022-09-07 21:08:57 - Binary Accuracy Evaluation of the model on  dataset after epoch 9:\n",
      "2022-09-07 21:08:58 - Accuracy with Cosine-Similarity:           81.42\t(Threshold: 0.2768)\n",
      "2022-09-07 21:08:58 - F1 with Cosine-Similarity:                 85.77\t(Threshold: 0.0558)\n",
      "2022-09-07 21:08:58 - Precision with Cosine-Similarity:          81.06\n",
      "2022-09-07 21:08:58 - Recall with Cosine-Similarity:             91.05\n",
      "2022-09-07 21:08:58 - Average Precision with Cosine-Similarity:  91.62\n",
      "\n",
      "2022-09-07 21:08:58 - Accuracy with Manhattan-Distance:           81.80\t(Threshold: 442.1555)\n",
      "2022-09-07 21:08:58 - F1 with Manhattan-Distance:                 85.96\t(Threshold: 442.1555)\n",
      "2022-09-07 21:08:58 - Precision with Manhattan-Distance:          83.24\n",
      "2022-09-07 21:08:58 - Recall with Manhattan-Distance:             88.87\n",
      "2022-09-07 21:08:58 - Average Precision with Manhattan-Distance:  91.67\n",
      "\n",
      "2022-09-07 21:08:58 - Accuracy with Euclidean-Distance:           81.80\t(Threshold: 20.3088)\n",
      "2022-09-07 21:08:58 - F1 with Euclidean-Distance:                 85.96\t(Threshold: 20.3088)\n",
      "2022-09-07 21:08:58 - Precision with Euclidean-Distance:          83.24\n",
      "2022-09-07 21:08:58 - Recall with Euclidean-Distance:             88.87\n",
      "2022-09-07 21:08:58 - Average Precision with Euclidean-Distance:  91.68\n",
      "\n",
      "2022-09-07 21:08:58 - Accuracy with Dot-Product:           81.42\t(Threshold: 89.6040)\n",
      "2022-09-07 21:08:58 - F1 with Dot-Product:                 85.77\t(Threshold: 15.1173)\n",
      "2022-09-07 21:08:58 - Precision with Dot-Product:          81.06\n",
      "2022-09-07 21:08:58 - Recall with Dot-Product:             91.05\n",
      "2022-09-07 21:08:58 - Average Precision with Dot-Product:  91.19\n",
      "\n",
      "Training done...\n",
      "\n",
      "\n",
      "\n",
      "                     ********** stsb-distilbert-base **********\n",
      "2022-09-07 21:08:58 - Load pretrained SentenceTransformer: binary_sim_output/stsb-distilbert-base\n",
      "2022-09-07 21:08:59 - Use pytorch device: cuda\n",
      "2022-09-07 21:08:59 - Softmax loss: #Vectors concatenated: 3\n",
      "2022-09-07 21:08:59 - EmbeddingSimilarityEvaluator: Evaluating the model on SPRAG-test dataset:\n",
      "2022-09-07 21:09:00 - Cosine-Similarity :\tPearson: 0.6540\tSpearman: 0.6334\n",
      "2022-09-07 21:09:00 - Manhattan-Distance:\tPearson: 0.6508\tSpearman: 0.6353\n",
      "2022-09-07 21:09:00 - Euclidean-Distance:\tPearson: 0.6519\tSpearman: 0.6359\n",
      "2022-09-07 21:09:00 - Dot-Product-Similarity:\tPearson: 0.6521\tSpearman: 0.6278\n",
      "2022-09-07 21:09:00 - Binary Accuracy Evaluation of the model on  dataset:\n",
      "2022-09-07 21:09:01 - Accuracy with Cosine-Similarity:           81.67\t(Threshold: 0.0301)\n",
      "2022-09-07 21:09:01 - F1 with Cosine-Similarity:                 86.40\t(Threshold: 0.0301)\n",
      "2022-09-07 21:09:01 - Precision with Cosine-Similarity:          80.80\n",
      "2022-09-07 21:09:01 - Recall with Cosine-Similarity:             92.84\n",
      "2022-09-07 21:09:01 - Average Precision with Cosine-Similarity:  91.91\n",
      "\n",
      "2022-09-07 21:09:01 - Accuracy with Manhattan-Distance:           81.92\t(Threshold: 503.3859)\n",
      "2022-09-07 21:09:01 - F1 with Manhattan-Distance:                 86.59\t(Threshold: 503.3859)\n",
      "2022-09-07 21:09:01 - Precision with Manhattan-Distance:          80.97\n",
      "2022-09-07 21:09:01 - Recall with Manhattan-Distance:             93.04\n",
      "2022-09-07 21:09:01 - Average Precision with Manhattan-Distance:  92.00\n",
      "\n",
      "2022-09-07 21:09:01 - Accuracy with Euclidean-Distance:           82.17\t(Threshold: 23.3428)\n",
      "2022-09-07 21:09:01 - F1 with Euclidean-Distance:                 86.84\t(Threshold: 23.3428)\n",
      "2022-09-07 21:09:01 - Precision with Euclidean-Distance:          80.82\n",
      "2022-09-07 21:09:01 - Recall with Euclidean-Distance:             93.84\n",
      "2022-09-07 21:09:01 - Average Precision with Euclidean-Distance:  92.02\n",
      "\n",
      "2022-09-07 21:09:01 - Accuracy with Dot-Product:           81.67\t(Threshold: 8.0970)\n",
      "2022-09-07 21:09:01 - F1 with Dot-Product:                 86.40\t(Threshold: 8.0970)\n",
      "2022-09-07 21:09:01 - Precision with Dot-Product:          80.80\n",
      "2022-09-07 21:09:01 - Recall with Dot-Product:             92.84\n",
      "2022-09-07 21:09:01 - Average Precision with Dot-Product:  91.38\n",
      "\n"
     ]
    },
    {
     "data": {
      "text/plain": [
       "0.9201896789878903"
      ]
     },
     "execution_count": 112,
     "metadata": {},
     "output_type": "execute_result"
    }
   ],
   "source": [
    "st_model = 'stsb-distilbert-base'\n",
    "num_epochs = 10\n",
    "batch_size=16\n",
    "model_save_path = \"binary_sim_output/\"+st_model\n",
    "train_dataloader = DataLoader(train_examples, shuffle=True, batch_size=batch_size)\n",
    "  \n",
    "test_dataloader = DataLoader(test_examples, shuffle=True, batch_size=batch_size)\n",
    "model = train_and_evaluate(st_model, train_dataloader, test_dataloader, num_epochs, model_save_path)\n",
    "print(\"\\n\\n\")\n",
    "print(\" \"*20, \"*\"*10, st_model , \"*\"*10)\n",
    "\n",
    "# Load the stored model and evaluate its performance on mohler test dataset\n",
    "model = SentenceTransformer(model_save_path)\n",
    "train_loss = losses.SoftmaxLoss(model=model, sentence_embedding_dimension=model.get_sentence_embedding_dimension(), num_labels=2)\n",
    "test_evaluator = evaluation.EmbeddingSimilarityEvaluator.from_input_examples(test_examples, batch_size=16, name='SPRAG-test')\n",
    "test_evaluator(model, output_path=model_save_path)\n",
    "train_loss.cuda()\n",
    "\n",
    "x_test_dA = test_data['ReferenceAnswer'].values.tolist()\n",
    "x_test_sA = test_data['StudentAnswer'].values.tolist()\n",
    "y_test = test_labels \n",
    "\n",
    "evaluator = evaluation.BinaryClassificationEvaluator(x_test_dA, x_test_sA, y_test)\n",
    "evaluator(model, output_path=model_save_path)\n"
   ]
  },
  {
   "cell_type": "code",
   "execution_count": 113,
   "id": "28ca7d4f",
   "metadata": {},
   "outputs": [
    {
     "name": "stdout",
     "output_type": "stream",
     "text": [
      "2022-09-07 21:09:01 - Load pretrained SentenceTransformer: sentence-transformers/paraphrase-albert-small-v2\n",
      "2022-09-07 21:09:01 - Use pytorch device: cuda\n",
      "2022-09-07 21:09:01 - Softmax loss: #Vectors concatenated: 3\n",
      "302\n"
     ]
    },
    {
     "data": {
      "application/vnd.jupyter.widget-view+json": {
       "model_id": "ff7c190e9e314c1589137627eca9b2fb",
       "version_major": 2,
       "version_minor": 0
      },
      "text/plain": [
       "Epoch:   0%|          | 0/10 [00:00<?, ?it/s]"
      ]
     },
     "metadata": {},
     "output_type": "display_data"
    },
    {
     "data": {
      "application/vnd.jupyter.widget-view+json": {
       "model_id": "8df9cd0d335645519dfa72828713cf52",
       "version_major": 2,
       "version_minor": 0
      },
      "text/plain": [
       "Iteration:   0%|          | 0/302 [00:00<?, ?it/s]"
      ]
     },
     "metadata": {},
     "output_type": "display_data"
    },
    {
     "name": "stdout",
     "output_type": "stream",
     "text": [
      "2022-09-07 21:09:24 - Binary Accuracy Evaluation of the model on  dataset after epoch 0:\n",
      "2022-09-07 21:09:24 - Accuracy with Cosine-Similarity:           78.18\t(Threshold: 0.4742)\n",
      "2022-09-07 21:09:24 - F1 with Cosine-Similarity:                 84.30\t(Threshold: 0.4043)\n",
      "2022-09-07 21:09:24 - Precision with Cosine-Similarity:          76.80\n",
      "2022-09-07 21:09:24 - Recall with Cosine-Similarity:             93.44\n",
      "2022-09-07 21:09:24 - Average Precision with Cosine-Similarity:  88.87\n",
      "\n",
      "2022-09-07 21:09:24 - Accuracy with Manhattan-Distance:           77.56\t(Threshold: 572.6671)\n",
      "2022-09-07 21:09:24 - F1 with Manhattan-Distance:                 83.73\t(Threshold: 572.6671)\n",
      "2022-09-07 21:09:24 - Precision with Manhattan-Distance:          76.78\n",
      "2022-09-07 21:09:24 - Recall with Manhattan-Distance:             92.05\n",
      "2022-09-07 21:09:24 - Average Precision with Manhattan-Distance:  88.58\n",
      "\n",
      "2022-09-07 21:09:24 - Accuracy with Euclidean-Distance:           77.18\t(Threshold: 26.0843)\n",
      "2022-09-07 21:09:24 - F1 with Euclidean-Distance:                 83.51\t(Threshold: 26.2523)\n",
      "2022-09-07 21:09:24 - Precision with Euclidean-Distance:          76.02\n",
      "2022-09-07 21:09:24 - Recall with Euclidean-Distance:             92.64\n",
      "2022-09-07 21:09:24 - Average Precision with Euclidean-Distance:  88.57\n",
      "\n",
      "2022-09-07 21:09:24 - Accuracy with Dot-Product:           76.43\t(Threshold: 267.1635)\n",
      "2022-09-07 21:09:24 - F1 with Dot-Product:                 82.45\t(Threshold: 216.5674)\n",
      "2022-09-07 21:09:24 - Precision with Dot-Product:          74.40\n",
      "2022-09-07 21:09:24 - Recall with Dot-Product:             92.45\n",
      "2022-09-07 21:09:24 - Average Precision with Dot-Product:  86.62\n",
      "\n",
      "2022-09-07 21:09:24 - Save model to binary_sim_output/sentence-transformers/paraphrase-albert-small-v2\n"
     ]
    },
    {
     "data": {
      "application/vnd.jupyter.widget-view+json": {
       "model_id": "b98c1bc3b9164610a230d3f44025e6c4",
       "version_major": 2,
       "version_minor": 0
      },
      "text/plain": [
       "Iteration:   0%|          | 0/302 [00:00<?, ?it/s]"
      ]
     },
     "metadata": {},
     "output_type": "display_data"
    },
    {
     "name": "stdout",
     "output_type": "stream",
     "text": [
      "2022-09-07 21:09:47 - Binary Accuracy Evaluation of the model on  dataset after epoch 1:\n",
      "2022-09-07 21:09:48 - Accuracy with Cosine-Similarity:           81.55\t(Threshold: 0.3650)\n",
      "2022-09-07 21:09:48 - F1 with Cosine-Similarity:                 86.35\t(Threshold: 0.3621)\n",
      "2022-09-07 21:09:48 - Precision with Cosine-Similarity:          80.55\n",
      "2022-09-07 21:09:48 - Recall with Cosine-Similarity:             93.04\n",
      "2022-09-07 21:09:48 - Average Precision with Cosine-Similarity:  90.77\n",
      "\n",
      "2022-09-07 21:09:48 - Accuracy with Manhattan-Distance:           80.55\t(Threshold: 629.8227)\n",
      "2022-09-07 21:09:48 - F1 with Manhattan-Distance:                 85.74\t(Threshold: 670.4905)\n",
      "2022-09-07 21:09:48 - Precision with Manhattan-Distance:          77.32\n",
      "2022-09-07 21:09:48 - Recall with Manhattan-Distance:             96.22\n",
      "2022-09-07 21:09:48 - Average Precision with Manhattan-Distance:  90.65\n",
      "\n",
      "2022-09-07 21:09:48 - Accuracy with Euclidean-Distance:           80.55\t(Threshold: 28.7092)\n",
      "2022-09-07 21:09:48 - F1 with Euclidean-Distance:                 85.79\t(Threshold: 30.1930)\n",
      "2022-09-07 21:09:48 - Precision with Euclidean-Distance:          77.92\n",
      "2022-09-07 21:09:48 - Recall with Euclidean-Distance:             95.43\n",
      "2022-09-07 21:09:48 - Average Precision with Euclidean-Distance:  90.65\n",
      "\n",
      "2022-09-07 21:09:48 - Accuracy with Dot-Product:           80.92\t(Threshold: 253.9447)\n",
      "2022-09-07 21:09:48 - F1 with Dot-Product:                 85.77\t(Threshold: 218.1157)\n",
      "2022-09-07 21:09:48 - Precision with Dot-Product:          78.01\n",
      "2022-09-07 21:09:48 - Recall with Dot-Product:             95.23\n",
      "2022-09-07 21:09:48 - Average Precision with Dot-Product:  89.74\n",
      "\n",
      "2022-09-07 21:09:48 - Save model to binary_sim_output/sentence-transformers/paraphrase-albert-small-v2\n"
     ]
    },
    {
     "data": {
      "application/vnd.jupyter.widget-view+json": {
       "model_id": "098e77ad3000428da84529770784b321",
       "version_major": 2,
       "version_minor": 0
      },
      "text/plain": [
       "Iteration:   0%|          | 0/302 [00:00<?, ?it/s]"
      ]
     },
     "metadata": {},
     "output_type": "display_data"
    },
    {
     "name": "stdout",
     "output_type": "stream",
     "text": [
      "2022-09-07 21:10:11 - Binary Accuracy Evaluation of the model on  dataset after epoch 2:\n",
      "2022-09-07 21:10:11 - Accuracy with Cosine-Similarity:           80.67\t(Threshold: 0.3621)\n",
      "2022-09-07 21:10:11 - F1 with Cosine-Similarity:                 85.77\t(Threshold: 0.3309)\n",
      "2022-09-07 21:10:11 - Precision with Cosine-Similarity:          79.69\n",
      "2022-09-07 21:10:11 - Recall with Cosine-Similarity:             92.84\n",
      "2022-09-07 21:10:11 - Average Precision with Cosine-Similarity:  90.98\n",
      "\n",
      "2022-09-07 21:10:11 - Accuracy with Manhattan-Distance:           80.55\t(Threshold: 724.6852)\n",
      "2022-09-07 21:10:11 - F1 with Manhattan-Distance:                 85.90\t(Threshold: 724.6852)\n",
      "2022-09-07 21:10:11 - Precision with Manhattan-Distance:          78.77\n",
      "2022-09-07 21:10:11 - Recall with Manhattan-Distance:             94.43\n",
      "2022-09-07 21:10:11 - Average Precision with Manhattan-Distance:  91.16\n",
      "\n",
      "2022-09-07 21:10:11 - Accuracy with Euclidean-Distance:           80.80\t(Threshold: 31.8598)\n",
      "2022-09-07 21:10:11 - F1 with Euclidean-Distance:                 85.92\t(Threshold: 33.3380)\n",
      "2022-09-07 21:10:11 - Precision with Euclidean-Distance:          78.27\n",
      "2022-09-07 21:10:11 - Recall with Euclidean-Distance:             95.23\n",
      "2022-09-07 21:10:11 - Average Precision with Euclidean-Distance:  91.12\n",
      "\n",
      "2022-09-07 21:10:11 - Accuracy with Dot-Product:           81.17\t(Threshold: 262.3600)\n",
      "2022-09-07 21:10:11 - F1 with Dot-Product:                 86.08\t(Threshold: 262.3600)\n",
      "2022-09-07 21:10:11 - Precision with Dot-Product:          80.24\n",
      "2022-09-07 21:10:11 - Recall with Dot-Product:             92.84\n",
      "2022-09-07 21:10:11 - Average Precision with Dot-Product:  90.22\n",
      "\n",
      "2022-09-07 21:10:11 - Save model to binary_sim_output/sentence-transformers/paraphrase-albert-small-v2\n"
     ]
    },
    {
     "data": {
      "application/vnd.jupyter.widget-view+json": {
       "model_id": "70fb227f8e4b416d8bad610acd489fcd",
       "version_major": 2,
       "version_minor": 0
      },
      "text/plain": [
       "Iteration:   0%|          | 0/302 [00:00<?, ?it/s]"
      ]
     },
     "metadata": {},
     "output_type": "display_data"
    },
    {
     "name": "stdout",
     "output_type": "stream",
     "text": [
      "2022-09-07 21:10:34 - Binary Accuracy Evaluation of the model on  dataset after epoch 3:\n",
      "2022-09-07 21:10:35 - Accuracy with Cosine-Similarity:           80.42\t(Threshold: 0.4250)\n",
      "2022-09-07 21:10:35 - F1 with Cosine-Similarity:                 85.34\t(Threshold: 0.2799)\n",
      "2022-09-07 21:10:35 - Precision with Cosine-Similarity:          80.00\n",
      "2022-09-07 21:10:35 - Recall with Cosine-Similarity:             91.45\n",
      "2022-09-07 21:10:35 - Average Precision with Cosine-Similarity:  91.94\n",
      "\n",
      "2022-09-07 21:10:35 - Accuracy with Manhattan-Distance:           80.30\t(Threshold: 710.6583)\n",
      "2022-09-07 21:10:35 - F1 with Manhattan-Distance:                 85.43\t(Threshold: 804.5692)\n",
      "2022-09-07 21:10:35 - Precision with Manhattan-Distance:          78.82\n",
      "2022-09-07 21:10:35 - Recall with Manhattan-Distance:             93.24\n",
      "2022-09-07 21:10:35 - Average Precision with Manhattan-Distance:  91.95\n",
      "\n",
      "2022-09-07 21:10:35 - Accuracy with Euclidean-Distance:           80.67\t(Threshold: 32.2271)\n",
      "2022-09-07 21:10:35 - F1 with Euclidean-Distance:                 85.58\t(Threshold: 36.8435)\n",
      "2022-09-07 21:10:35 - Precision with Euclidean-Distance:          79.09\n",
      "2022-09-07 21:10:35 - Recall with Euclidean-Distance:             93.24\n",
      "2022-09-07 21:10:35 - Average Precision with Euclidean-Distance:  91.90\n",
      "\n",
      "2022-09-07 21:10:35 - Accuracy with Dot-Product:           80.55\t(Threshold: 305.3348)\n",
      "2022-09-07 21:10:35 - F1 with Dot-Product:                 85.35\t(Threshold: 238.4725)\n",
      "2022-09-07 21:10:35 - Precision with Dot-Product:          79.55\n",
      "2022-09-07 21:10:35 - Recall with Dot-Product:             92.05\n",
      "2022-09-07 21:10:35 - Average Precision with Dot-Product:  91.63\n",
      "\n",
      "2022-09-07 21:10:35 - Save model to binary_sim_output/sentence-transformers/paraphrase-albert-small-v2\n"
     ]
    },
    {
     "data": {
      "application/vnd.jupyter.widget-view+json": {
       "model_id": "2e05f9bdc8bd49299a542628aa984a53",
       "version_major": 2,
       "version_minor": 0
      },
      "text/plain": [
       "Iteration:   0%|          | 0/302 [00:00<?, ?it/s]"
      ]
     },
     "metadata": {},
     "output_type": "display_data"
    },
    {
     "name": "stdout",
     "output_type": "stream",
     "text": [
      "2022-09-07 21:10:57 - Binary Accuracy Evaluation of the model on  dataset after epoch 4:\n",
      "2022-09-07 21:10:58 - Accuracy with Cosine-Similarity:           81.42\t(Threshold: 0.3088)\n",
      "2022-09-07 21:10:58 - F1 with Cosine-Similarity:                 86.06\t(Threshold: 0.3088)\n",
      "2022-09-07 21:10:58 - Precision with Cosine-Similarity:          81.27\n",
      "2022-09-07 21:10:58 - Recall with Cosine-Similarity:             91.45\n",
      "2022-09-07 21:10:58 - Average Precision with Cosine-Similarity:  91.86\n",
      "\n",
      "2022-09-07 21:10:58 - Accuracy with Manhattan-Distance:           81.42\t(Threshold: 747.5366)\n",
      "2022-09-07 21:10:58 - F1 with Manhattan-Distance:                 85.87\t(Threshold: 794.5005)\n",
      "2022-09-07 21:10:58 - Precision with Manhattan-Distance:          80.17\n",
      "2022-09-07 21:10:58 - Recall with Manhattan-Distance:             92.45\n",
      "2022-09-07 21:10:58 - Average Precision with Manhattan-Distance:  91.92\n",
      "\n",
      "2022-09-07 21:10:58 - Accuracy with Euclidean-Distance:           81.55\t(Threshold: 34.1864)\n",
      "2022-09-07 21:10:58 - F1 with Euclidean-Distance:                 86.11\t(Threshold: 36.0785)\n",
      "2022-09-07 21:10:58 - Precision with Euclidean-Distance:          80.59\n",
      "2022-09-07 21:10:58 - Recall with Euclidean-Distance:             92.45\n",
      "2022-09-07 21:10:58 - Average Precision with Euclidean-Distance:  91.87\n",
      "\n",
      "2022-09-07 21:10:58 - Accuracy with Dot-Product:           81.17\t(Threshold: 391.2410)\n",
      "2022-09-07 21:10:58 - F1 with Dot-Product:                 85.87\t(Threshold: 282.9726)\n",
      "2022-09-07 21:10:58 - Precision with Dot-Product:          80.63\n",
      "2022-09-07 21:10:58 - Recall with Dot-Product:             91.85\n",
      "2022-09-07 21:10:58 - Average Precision with Dot-Product:  91.62\n",
      "\n"
     ]
    },
    {
     "data": {
      "application/vnd.jupyter.widget-view+json": {
       "model_id": "f599787afe0845b4becdcb2f4fe3fb69",
       "version_major": 2,
       "version_minor": 0
      },
      "text/plain": [
       "Iteration:   0%|          | 0/302 [00:00<?, ?it/s]"
      ]
     },
     "metadata": {},
     "output_type": "display_data"
    },
    {
     "name": "stdout",
     "output_type": "stream",
     "text": [
      "2022-09-07 21:11:21 - Binary Accuracy Evaluation of the model on  dataset after epoch 5:\n",
      "2022-09-07 21:11:21 - Accuracy with Cosine-Similarity:           81.05\t(Threshold: 0.3477)\n",
      "2022-09-07 21:11:21 - F1 with Cosine-Similarity:                 86.21\t(Threshold: 0.1560)\n",
      "2022-09-07 21:11:21 - Precision with Cosine-Similarity:          79.30\n",
      "2022-09-07 21:11:21 - Recall with Cosine-Similarity:             94.43\n",
      "2022-09-07 21:11:21 - Average Precision with Cosine-Similarity:  91.25\n",
      "\n",
      "2022-09-07 21:11:21 - Accuracy with Manhattan-Distance:           81.05\t(Threshold: 747.0155)\n",
      "2022-09-07 21:11:21 - F1 with Manhattan-Distance:                 86.05\t(Threshold: 861.7220)\n",
      "2022-09-07 21:11:21 - Precision with Manhattan-Distance:          79.46\n",
      "2022-09-07 21:11:21 - Recall with Manhattan-Distance:             93.84\n",
      "2022-09-07 21:11:21 - Average Precision with Manhattan-Distance:  90.86\n",
      "\n",
      "2022-09-07 21:11:21 - Accuracy with Euclidean-Distance:           81.17\t(Threshold: 34.5557)\n",
      "2022-09-07 21:11:21 - F1 with Euclidean-Distance:                 86.13\t(Threshold: 40.0498)\n",
      "2022-09-07 21:11:21 - Precision with Euclidean-Distance:          79.17\n",
      "2022-09-07 21:11:21 - Recall with Euclidean-Distance:             94.43\n",
      "2022-09-07 21:11:21 - Average Precision with Euclidean-Distance:  90.86\n",
      "\n",
      "2022-09-07 21:11:21 - Accuracy with Dot-Product:           81.42\t(Threshold: 245.2767)\n",
      "2022-09-07 21:11:21 - F1 with Dot-Product:                 86.13\t(Threshold: 147.4125)\n",
      "2022-09-07 21:11:21 - Precision with Dot-Product:          79.17\n",
      "2022-09-07 21:11:21 - Recall with Dot-Product:             94.43\n",
      "2022-09-07 21:11:21 - Average Precision with Dot-Product:  90.91\n",
      "\n"
     ]
    },
    {
     "data": {
      "application/vnd.jupyter.widget-view+json": {
       "model_id": "b71d52d2e3664f7793065601717832e6",
       "version_major": 2,
       "version_minor": 0
      },
      "text/plain": [
       "Iteration:   0%|          | 0/302 [00:00<?, ?it/s]"
      ]
     },
     "metadata": {},
     "output_type": "display_data"
    },
    {
     "name": "stdout",
     "output_type": "stream",
     "text": [
      "2022-09-07 21:11:44 - Binary Accuracy Evaluation of the model on  dataset after epoch 6:\n",
      "2022-09-07 21:11:45 - Accuracy with Cosine-Similarity:           81.30\t(Threshold: 0.3046)\n",
      "2022-09-07 21:11:45 - F1 with Cosine-Similarity:                 85.85\t(Threshold: 0.2427)\n",
      "2022-09-07 21:11:45 - Precision with Cosine-Similarity:          81.69\n",
      "2022-09-07 21:11:45 - Recall with Cosine-Similarity:             90.46\n",
      "2022-09-07 21:11:45 - Average Precision with Cosine-Similarity:  91.11\n",
      "\n",
      "2022-09-07 21:11:45 - Accuracy with Manhattan-Distance:           81.05\t(Threshold: 816.8181)\n",
      "2022-09-07 21:11:45 - F1 with Manhattan-Distance:                 85.90\t(Threshold: 858.7174)\n",
      "2022-09-07 21:11:45 - Precision with Manhattan-Distance:          79.63\n",
      "2022-09-07 21:11:45 - Recall with Manhattan-Distance:             93.24\n",
      "2022-09-07 21:11:45 - Average Precision with Manhattan-Distance:  90.50\n",
      "\n",
      "2022-09-07 21:11:45 - Accuracy with Euclidean-Distance:           81.05\t(Threshold: 35.2383)\n",
      "2022-09-07 21:11:45 - F1 with Euclidean-Distance:                 85.82\t(Threshold: 38.6030)\n",
      "2022-09-07 21:11:45 - Precision with Euclidean-Distance:          80.38\n",
      "2022-09-07 21:11:45 - Recall with Euclidean-Distance:             92.05\n",
      "2022-09-07 21:11:45 - Average Precision with Euclidean-Distance:  90.51\n",
      "\n",
      "2022-09-07 21:11:45 - Accuracy with Dot-Product:           81.92\t(Threshold: 345.5672)\n",
      "2022-09-07 21:11:45 - F1 with Dot-Product:                 85.93\t(Threshold: 219.9803)\n",
      "2022-09-07 21:11:45 - Precision with Dot-Product:          81.83\n",
      "2022-09-07 21:11:45 - Recall with Dot-Product:             90.46\n",
      "2022-09-07 21:11:45 - Average Precision with Dot-Product:  90.86\n",
      "\n"
     ]
    },
    {
     "data": {
      "application/vnd.jupyter.widget-view+json": {
       "model_id": "26606fee0e2e4d82b42b309d5ff3b0da",
       "version_major": 2,
       "version_minor": 0
      },
      "text/plain": [
       "Iteration:   0%|          | 0/302 [00:00<?, ?it/s]"
      ]
     },
     "metadata": {},
     "output_type": "display_data"
    },
    {
     "name": "stdout",
     "output_type": "stream",
     "text": [
      "2022-09-07 21:12:07 - Binary Accuracy Evaluation of the model on  dataset after epoch 7:\n",
      "2022-09-07 21:12:08 - Accuracy with Cosine-Similarity:           81.42\t(Threshold: 0.3698)\n",
      "2022-09-07 21:12:08 - F1 with Cosine-Similarity:                 85.87\t(Threshold: 0.2462)\n",
      "2022-09-07 21:12:08 - Precision with Cosine-Similarity:          80.17\n",
      "2022-09-07 21:12:08 - Recall with Cosine-Similarity:             92.45\n",
      "2022-09-07 21:12:08 - Average Precision with Cosine-Similarity:  91.78\n",
      "\n",
      "2022-09-07 21:12:08 - Accuracy with Manhattan-Distance:           81.30\t(Threshold: 756.8619)\n",
      "2022-09-07 21:12:08 - F1 with Manhattan-Distance:                 85.71\t(Threshold: 784.6016)\n",
      "2022-09-07 21:12:08 - Precision with Manhattan-Distance:          81.28\n",
      "2022-09-07 21:12:08 - Recall with Manhattan-Distance:             90.66\n",
      "2022-09-07 21:12:08 - Average Precision with Manhattan-Distance:  91.63\n",
      "\n",
      "2022-09-07 21:12:08 - Accuracy with Euclidean-Distance:           81.05\t(Threshold: 35.8975)\n",
      "2022-09-07 21:12:08 - F1 with Euclidean-Distance:                 85.85\t(Threshold: 38.2507)\n",
      "2022-09-07 21:12:08 - Precision with Euclidean-Distance:          79.83\n",
      "2022-09-07 21:12:08 - Recall with Euclidean-Distance:             92.84\n",
      "2022-09-07 21:12:08 - Average Precision with Euclidean-Distance:  91.61\n",
      "\n",
      "2022-09-07 21:12:08 - Accuracy with Dot-Product:           81.67\t(Threshold: 412.5023)\n",
      "2022-09-07 21:12:08 - F1 with Dot-Product:                 86.14\t(Threshold: 256.0715)\n",
      "2022-09-07 21:12:08 - Precision with Dot-Product:          80.94\n",
      "2022-09-07 21:12:08 - Recall with Dot-Product:             92.05\n",
      "2022-09-07 21:12:08 - Average Precision with Dot-Product:  91.29\n",
      "\n"
     ]
    },
    {
     "data": {
      "application/vnd.jupyter.widget-view+json": {
       "model_id": "79edf7b318b84beab4230ced489d892e",
       "version_major": 2,
       "version_minor": 0
      },
      "text/plain": [
       "Iteration:   0%|          | 0/302 [00:00<?, ?it/s]"
      ]
     },
     "metadata": {},
     "output_type": "display_data"
    },
    {
     "name": "stdout",
     "output_type": "stream",
     "text": [
      "2022-09-07 21:12:30 - Binary Accuracy Evaluation of the model on  dataset after epoch 8:\n",
      "2022-09-07 21:12:31 - Accuracy with Cosine-Similarity:           82.17\t(Threshold: 0.3783)\n",
      "2022-09-07 21:12:31 - F1 with Cosine-Similarity:                 86.42\t(Threshold: 0.3701)\n",
      "2022-09-07 21:12:31 - Precision with Cosine-Similarity:          82.73\n",
      "2022-09-07 21:12:31 - Recall with Cosine-Similarity:             90.46\n",
      "2022-09-07 21:12:31 - Average Precision with Cosine-Similarity:  91.73\n",
      "\n",
      "2022-09-07 21:12:31 - Accuracy with Manhattan-Distance:           82.04\t(Threshold: 758.1786)\n",
      "2022-09-07 21:12:31 - F1 with Manhattan-Distance:                 86.34\t(Threshold: 758.1786)\n",
      "2022-09-07 21:12:31 - Precision with Manhattan-Distance:          82.58\n",
      "2022-09-07 21:12:31 - Recall with Manhattan-Distance:             90.46\n",
      "2022-09-07 21:12:31 - Average Precision with Manhattan-Distance:  91.25\n",
      "\n",
      "2022-09-07 21:12:31 - Accuracy with Euclidean-Distance:           81.80\t(Threshold: 35.1862)\n",
      "2022-09-07 21:12:31 - F1 with Euclidean-Distance:                 86.20\t(Threshold: 35.1862)\n",
      "2022-09-07 21:12:31 - Precision with Euclidean-Distance:          82.16\n",
      "2022-09-07 21:12:31 - Recall with Euclidean-Distance:             90.66\n",
      "2022-09-07 21:12:31 - Average Precision with Euclidean-Distance:  91.23\n",
      "\n",
      "2022-09-07 21:12:31 - Accuracy with Dot-Product:           82.17\t(Threshold: 363.3397)\n",
      "2022-09-07 21:12:31 - F1 with Dot-Product:                 86.37\t(Threshold: 338.1056)\n",
      "2022-09-07 21:12:31 - Precision with Dot-Product:          82.97\n",
      "2022-09-07 21:12:31 - Recall with Dot-Product:             90.06\n",
      "2022-09-07 21:12:31 - Average Precision with Dot-Product:  91.39\n",
      "\n"
     ]
    },
    {
     "data": {
      "application/vnd.jupyter.widget-view+json": {
       "model_id": "256d0ecb63c54535ad93b2dc495101ef",
       "version_major": 2,
       "version_minor": 0
      },
      "text/plain": [
       "Iteration:   0%|          | 0/302 [00:00<?, ?it/s]"
      ]
     },
     "metadata": {},
     "output_type": "display_data"
    },
    {
     "name": "stdout",
     "output_type": "stream",
     "text": [
      "2022-09-07 21:12:54 - Binary Accuracy Evaluation of the model on  dataset after epoch 9:\n",
      "2022-09-07 21:12:54 - Accuracy with Cosine-Similarity:           82.17\t(Threshold: 0.3608)\n",
      "2022-09-07 21:12:54 - F1 with Cosine-Similarity:                 86.42\t(Threshold: 0.3373)\n",
      "2022-09-07 21:12:54 - Precision with Cosine-Similarity:          82.73\n",
      "2022-09-07 21:12:54 - Recall with Cosine-Similarity:             90.46\n",
      "2022-09-07 21:12:54 - Average Precision with Cosine-Similarity:  91.69\n",
      "\n",
      "2022-09-07 21:12:54 - Accuracy with Manhattan-Distance:           82.04\t(Threshold: 776.0541)\n",
      "2022-09-07 21:12:54 - F1 with Manhattan-Distance:                 86.34\t(Threshold: 776.0541)\n",
      "2022-09-07 21:12:54 - Precision with Manhattan-Distance:          82.58\n",
      "2022-09-07 21:12:54 - Recall with Manhattan-Distance:             90.46\n",
      "2022-09-07 21:12:54 - Average Precision with Manhattan-Distance:  91.13\n",
      "\n",
      "2022-09-07 21:12:54 - Accuracy with Euclidean-Distance:           81.80\t(Threshold: 35.3097)\n",
      "2022-09-07 21:12:54 - F1 with Euclidean-Distance:                 86.12\t(Threshold: 36.1442)\n",
      "2022-09-07 21:12:54 - Precision with Euclidean-Distance:          82.01\n",
      "2022-09-07 21:12:54 - Recall with Euclidean-Distance:             90.66\n",
      "2022-09-07 21:12:54 - Average Precision with Euclidean-Distance:  91.14\n",
      "\n",
      "2022-09-07 21:12:54 - Accuracy with Dot-Product:           82.42\t(Threshold: 341.3009)\n",
      "2022-09-07 21:12:54 - F1 with Dot-Product:                 86.51\t(Threshold: 327.8286)\n",
      "2022-09-07 21:12:54 - Precision with Dot-Product:          83.39\n",
      "2022-09-07 21:12:54 - Recall with Dot-Product:             89.86\n",
      "2022-09-07 21:12:54 - Average Precision with Dot-Product:  91.50\n",
      "\n",
      "Training done...\n",
      "\n",
      "\n",
      "\n",
      "                     ********** sentence-transformers/paraphrase-albert-small-v2 **********\n",
      "2022-09-07 21:12:54 - Load pretrained SentenceTransformer: binary_sim_output/sentence-transformers/paraphrase-albert-small-v2\n",
      "2022-09-07 21:12:55 - Use pytorch device: cuda\n",
      "2022-09-07 21:12:55 - Softmax loss: #Vectors concatenated: 3\n",
      "2022-09-07 21:12:55 - EmbeddingSimilarityEvaluator: Evaluating the model on SPRAG-test dataset:\n",
      "2022-09-07 21:12:56 - Cosine-Similarity :\tPearson: 0.6381\tSpearman: 0.6264\n",
      "2022-09-07 21:12:56 - Manhattan-Distance:\tPearson: 0.6105\tSpearman: 0.6273\n",
      "2022-09-07 21:12:56 - Euclidean-Distance:\tPearson: 0.6111\tSpearman: 0.6262\n",
      "2022-09-07 21:12:56 - Dot-Product-Similarity:\tPearson: 0.6317\tSpearman: 0.6211\n",
      "2022-09-07 21:12:56 - Binary Accuracy Evaluation of the model on  dataset:\n",
      "2022-09-07 21:12:57 - Accuracy with Cosine-Similarity:           80.42\t(Threshold: 0.4250)\n",
      "2022-09-07 21:12:57 - F1 with Cosine-Similarity:                 85.34\t(Threshold: 0.2799)\n",
      "2022-09-07 21:12:57 - Precision with Cosine-Similarity:          80.00\n",
      "2022-09-07 21:12:57 - Recall with Cosine-Similarity:             91.45\n",
      "2022-09-07 21:12:57 - Average Precision with Cosine-Similarity:  91.94\n",
      "\n",
      "2022-09-07 21:12:57 - Accuracy with Manhattan-Distance:           80.30\t(Threshold: 710.6583)\n",
      "2022-09-07 21:12:57 - F1 with Manhattan-Distance:                 85.43\t(Threshold: 804.5692)\n",
      "2022-09-07 21:12:57 - Precision with Manhattan-Distance:          78.82\n",
      "2022-09-07 21:12:57 - Recall with Manhattan-Distance:             93.24\n",
      "2022-09-07 21:12:57 - Average Precision with Manhattan-Distance:  91.95\n",
      "\n",
      "2022-09-07 21:12:57 - Accuracy with Euclidean-Distance:           80.67\t(Threshold: 32.2271)\n",
      "2022-09-07 21:12:57 - F1 with Euclidean-Distance:                 85.58\t(Threshold: 36.8435)\n",
      "2022-09-07 21:12:57 - Precision with Euclidean-Distance:          79.09\n",
      "2022-09-07 21:12:57 - Recall with Euclidean-Distance:             93.24\n",
      "2022-09-07 21:12:57 - Average Precision with Euclidean-Distance:  91.90\n",
      "\n",
      "2022-09-07 21:12:57 - Accuracy with Dot-Product:           80.55\t(Threshold: 305.3348)\n",
      "2022-09-07 21:12:57 - F1 with Dot-Product:                 85.35\t(Threshold: 238.4725)\n",
      "2022-09-07 21:12:57 - Precision with Dot-Product:          79.55\n",
      "2022-09-07 21:12:57 - Recall with Dot-Product:             92.05\n",
      "2022-09-07 21:12:57 - Average Precision with Dot-Product:  91.63\n",
      "\n"
     ]
    },
    {
     "data": {
      "text/plain": [
       "0.9194502734839399"
      ]
     },
     "execution_count": 113,
     "metadata": {},
     "output_type": "execute_result"
    }
   ],
   "source": [
    "st_model = 'sentence-transformers/paraphrase-albert-small-v2'\n",
    "num_epochs = 10\n",
    "batch_size=16\n",
    "model_save_path = \"binary_sim_output/\"+st_model\n",
    "train_dataloader = DataLoader(train_examples, shuffle=True, batch_size=batch_size)\n",
    "  \n",
    "test_dataloader = DataLoader(test_examples, shuffle=True, batch_size=batch_size)\n",
    "model = train_and_evaluate(st_model, train_dataloader, test_dataloader, num_epochs, model_save_path)\n",
    "print(\"\\n\\n\")\n",
    "print(\" \"*20, \"*\"*10, st_model , \"*\"*10)\n",
    "\n",
    "# Load the stored model and evaluate its performance on mohler test dataset\n",
    "model = SentenceTransformer(model_save_path)\n",
    "train_loss = losses.SoftmaxLoss(model=model, sentence_embedding_dimension=model.get_sentence_embedding_dimension(), num_labels=2)\n",
    "test_evaluator = evaluation.EmbeddingSimilarityEvaluator.from_input_examples(test_examples, batch_size=16, name='SPRAG-test')\n",
    "test_evaluator(model, output_path=model_save_path)\n",
    "train_loss.cuda()\n",
    "\n",
    "x_test_dA = test_data['ReferenceAnswer'].values.tolist()\n",
    "x_test_sA = test_data['StudentAnswer'].values.tolist()\n",
    "y_test = test_labels \n",
    "\n",
    "evaluator = evaluation.BinaryClassificationEvaluator(x_test_dA, x_test_sA, y_test)\n",
    "evaluator(model, output_path=model_save_path)\n"
   ]
  },
  {
   "cell_type": "code",
   "execution_count": 114,
   "id": "513f89bc",
   "metadata": {},
   "outputs": [
    {
     "name": "stdout",
     "output_type": "stream",
     "text": [
      "2022-09-07 21:12:57 - Load pretrained SentenceTransformer: sentence-transformers/quora-distilbert-base\n",
      "2022-09-07 21:12:57 - Use pytorch device: cuda\n",
      "2022-09-07 21:12:57 - Softmax loss: #Vectors concatenated: 3\n",
      "302\n"
     ]
    },
    {
     "data": {
      "application/vnd.jupyter.widget-view+json": {
       "model_id": "dbfa95b8bde44956a1a04c4066b4360d",
       "version_major": 2,
       "version_minor": 0
      },
      "text/plain": [
       "Epoch:   0%|          | 0/10 [00:00<?, ?it/s]"
      ]
     },
     "metadata": {},
     "output_type": "display_data"
    },
    {
     "data": {
      "application/vnd.jupyter.widget-view+json": {
       "model_id": "91ec5e3f036a427297efcb789235482b",
       "version_major": 2,
       "version_minor": 0
      },
      "text/plain": [
       "Iteration:   0%|          | 0/302 [00:00<?, ?it/s]"
      ]
     },
     "metadata": {},
     "output_type": "display_data"
    },
    {
     "name": "stdout",
     "output_type": "stream",
     "text": [
      "2022-09-07 21:13:22 - Binary Accuracy Evaluation of the model on  dataset after epoch 0:\n",
      "2022-09-07 21:13:23 - Accuracy with Cosine-Similarity:           80.55\t(Threshold: 0.4325)\n",
      "2022-09-07 21:13:23 - F1 with Cosine-Similarity:                 85.40\t(Threshold: 0.4148)\n",
      "2022-09-07 21:13:23 - Precision with Cosine-Similarity:          80.24\n",
      "2022-09-07 21:13:23 - Recall with Cosine-Similarity:             91.25\n",
      "2022-09-07 21:13:23 - Average Precision with Cosine-Similarity:  90.47\n",
      "\n",
      "2022-09-07 21:13:23 - Accuracy with Manhattan-Distance:           77.31\t(Threshold: 308.1942)\n",
      "2022-09-07 21:13:23 - F1 with Manhattan-Distance:                 83.82\t(Threshold: 339.3217)\n",
      "2022-09-07 21:13:23 - Precision with Manhattan-Distance:          75.48\n",
      "2022-09-07 21:13:23 - Recall with Manhattan-Distance:             94.23\n",
      "2022-09-07 21:13:23 - Average Precision with Manhattan-Distance:  88.35\n",
      "\n",
      "2022-09-07 21:13:23 - Accuracy with Euclidean-Distance:           77.81\t(Threshold: 15.2370)\n",
      "2022-09-07 21:13:23 - F1 with Euclidean-Distance:                 84.25\t(Threshold: 15.6407)\n",
      "2022-09-07 21:13:23 - Precision with Euclidean-Distance:          75.92\n",
      "2022-09-07 21:13:23 - Recall with Euclidean-Distance:             94.63\n",
      "2022-09-07 21:13:23 - Average Precision with Euclidean-Distance:  88.47\n",
      "\n",
      "2022-09-07 21:13:23 - Accuracy with Dot-Product:           80.17\t(Threshold: 88.2632)\n",
      "2022-09-07 21:13:23 - F1 with Dot-Product:                 85.17\t(Threshold: 62.8721)\n",
      "2022-09-07 21:13:23 - Precision with Dot-Product:          78.52\n",
      "2022-09-07 21:13:23 - Recall with Dot-Product:             93.04\n",
      "2022-09-07 21:13:23 - Average Precision with Dot-Product:  89.52\n",
      "\n",
      "2022-09-07 21:13:23 - Save model to binary_sim_output/sentence-transformers/quora-distilbert-base\n"
     ]
    },
    {
     "data": {
      "application/vnd.jupyter.widget-view+json": {
       "model_id": "fbd7b12145694659acbfd89a3061ec1f",
       "version_major": 2,
       "version_minor": 0
      },
      "text/plain": [
       "Iteration:   0%|          | 0/302 [00:00<?, ?it/s]"
      ]
     },
     "metadata": {},
     "output_type": "display_data"
    },
    {
     "name": "stdout",
     "output_type": "stream",
     "text": [
      "2022-09-07 21:13:48 - Binary Accuracy Evaluation of the model on  dataset after epoch 1:\n",
      "2022-09-07 21:13:49 - Accuracy with Cosine-Similarity:           81.67\t(Threshold: 0.5470)\n",
      "2022-09-07 21:13:49 - F1 with Cosine-Similarity:                 85.55\t(Threshold: 0.4405)\n",
      "2022-09-07 21:13:49 - Precision with Cosine-Similarity:          81.47\n",
      "2022-09-07 21:13:49 - Recall with Cosine-Similarity:             90.06\n",
      "2022-09-07 21:13:49 - Average Precision with Cosine-Similarity:  92.14\n",
      "\n",
      "2022-09-07 21:13:49 - Accuracy with Manhattan-Distance:           81.67\t(Threshold: 317.4021)\n",
      "2022-09-07 21:13:49 - F1 with Manhattan-Distance:                 85.52\t(Threshold: 327.0305)\n",
      "2022-09-07 21:13:49 - Precision with Manhattan-Distance:          84.77\n",
      "2022-09-07 21:13:49 - Recall with Manhattan-Distance:             86.28\n",
      "2022-09-07 21:13:49 - Average Precision with Manhattan-Distance:  91.55\n",
      "\n",
      "2022-09-07 21:13:49 - Accuracy with Euclidean-Distance:           81.67\t(Threshold: 14.3430)\n",
      "2022-09-07 21:13:49 - F1 with Euclidean-Distance:                 85.49\t(Threshold: 15.1628)\n",
      "2022-09-07 21:13:49 - Precision with Euclidean-Distance:          84.33\n",
      "2022-09-07 21:13:49 - Recall with Euclidean-Distance:             86.68\n",
      "2022-09-07 21:13:49 - Average Precision with Euclidean-Distance:  91.70\n",
      "\n",
      "2022-09-07 21:13:49 - Accuracy with Dot-Product:           81.67\t(Threshold: 135.7643)\n",
      "2022-09-07 21:13:49 - F1 with Dot-Product:                 86.13\t(Threshold: 82.0935)\n",
      "2022-09-07 21:13:49 - Precision with Dot-Product:          79.60\n",
      "2022-09-07 21:13:49 - Recall with Dot-Product:             93.84\n",
      "2022-09-07 21:13:49 - Average Precision with Dot-Product:  91.98\n",
      "\n",
      "2022-09-07 21:13:49 - Save model to binary_sim_output/sentence-transformers/quora-distilbert-base\n"
     ]
    },
    {
     "data": {
      "application/vnd.jupyter.widget-view+json": {
       "model_id": "858aeb48a27947aea170fd47659873d1",
       "version_major": 2,
       "version_minor": 0
      },
      "text/plain": [
       "Iteration:   0%|          | 0/302 [00:00<?, ?it/s]"
      ]
     },
     "metadata": {},
     "output_type": "display_data"
    },
    {
     "name": "stdout",
     "output_type": "stream",
     "text": [
      "2022-09-07 21:14:14 - Binary Accuracy Evaluation of the model on  dataset after epoch 2:\n",
      "2022-09-07 21:14:15 - Accuracy with Cosine-Similarity:           82.29\t(Threshold: 0.3709)\n",
      "2022-09-07 21:14:15 - F1 with Cosine-Similarity:                 86.29\t(Threshold: 0.3709)\n",
      "2022-09-07 21:14:15 - Precision with Cosine-Similarity:          83.86\n",
      "2022-09-07 21:14:15 - Recall with Cosine-Similarity:             88.87\n",
      "2022-09-07 21:14:15 - Average Precision with Cosine-Similarity:  92.16\n",
      "\n",
      "2022-09-07 21:14:15 - Accuracy with Manhattan-Distance:           82.17\t(Threshold: 384.3081)\n",
      "2022-09-07 21:14:15 - F1 with Manhattan-Distance:                 86.45\t(Threshold: 384.3081)\n",
      "2022-09-07 21:14:15 - Precision with Manhattan-Distance:          82.61\n",
      "2022-09-07 21:14:15 - Recall with Manhattan-Distance:             90.66\n",
      "2022-09-07 21:14:15 - Average Precision with Manhattan-Distance:  91.52\n",
      "\n",
      "2022-09-07 21:14:15 - Accuracy with Euclidean-Distance:           81.67\t(Threshold: 17.6669)\n",
      "2022-09-07 21:14:15 - F1 with Euclidean-Distance:                 86.08\t(Threshold: 18.9862)\n",
      "2022-09-07 21:14:15 - Precision with Euclidean-Distance:          78.94\n",
      "2022-09-07 21:14:15 - Recall with Euclidean-Distance:             94.63\n",
      "2022-09-07 21:14:15 - Average Precision with Euclidean-Distance:  91.59\n",
      "\n",
      "2022-09-07 21:14:15 - Accuracy with Dot-Product:           82.42\t(Threshold: 93.5305)\n",
      "2022-09-07 21:14:15 - F1 with Dot-Product:                 86.64\t(Threshold: 69.6784)\n",
      "2022-09-07 21:14:15 - Precision with Dot-Product:          82.79\n",
      "2022-09-07 21:14:15 - Recall with Dot-Product:             90.85\n",
      "2022-09-07 21:14:15 - Average Precision with Dot-Product:  92.13\n",
      "\n",
      "2022-09-07 21:14:15 - Save model to binary_sim_output/sentence-transformers/quora-distilbert-base\n"
     ]
    },
    {
     "data": {
      "application/vnd.jupyter.widget-view+json": {
       "model_id": "76c9b37371d1452a9a52c9120b7fc728",
       "version_major": 2,
       "version_minor": 0
      },
      "text/plain": [
       "Iteration:   0%|          | 0/302 [00:00<?, ?it/s]"
      ]
     },
     "metadata": {},
     "output_type": "display_data"
    },
    {
     "name": "stdout",
     "output_type": "stream",
     "text": [
      "2022-09-07 21:14:41 - Binary Accuracy Evaluation of the model on  dataset after epoch 3:\n",
      "2022-09-07 21:14:41 - Accuracy with Cosine-Similarity:           81.67\t(Threshold: 0.2420)\n",
      "2022-09-07 21:14:41 - F1 with Cosine-Similarity:                 85.55\t(Threshold: 0.2420)\n",
      "2022-09-07 21:14:41 - Precision with Cosine-Similarity:          84.63\n",
      "2022-09-07 21:14:41 - Recall with Cosine-Similarity:             86.48\n",
      "2022-09-07 21:14:41 - Average Precision with Cosine-Similarity:  92.08\n",
      "\n",
      "2022-09-07 21:14:41 - Accuracy with Manhattan-Distance:           80.67\t(Threshold: 410.6644)\n",
      "2022-09-07 21:14:41 - F1 with Manhattan-Distance:                 85.42\t(Threshold: 439.7142)\n",
      "2022-09-07 21:14:41 - Precision with Manhattan-Distance:          80.14\n",
      "2022-09-07 21:14:41 - Recall with Manhattan-Distance:             91.45\n",
      "2022-09-07 21:14:41 - Average Precision with Manhattan-Distance:  91.54\n",
      "\n",
      "2022-09-07 21:14:41 - Accuracy with Euclidean-Distance:           80.92\t(Threshold: 19.0319)\n",
      "2022-09-07 21:14:41 - F1 with Euclidean-Distance:                 85.37\t(Threshold: 20.3393)\n",
      "2022-09-07 21:14:41 - Precision with Euclidean-Distance:          80.35\n",
      "2022-09-07 21:14:41 - Recall with Euclidean-Distance:             91.05\n",
      "2022-09-07 21:14:41 - Average Precision with Euclidean-Distance:  91.66\n",
      "\n",
      "2022-09-07 21:14:41 - Accuracy with Dot-Product:           81.55\t(Threshold: 56.7696)\n",
      "2022-09-07 21:14:41 - F1 with Dot-Product:                 85.43\t(Threshold: 55.3603)\n",
      "2022-09-07 21:14:41 - Precision with Dot-Product:          84.60\n",
      "2022-09-07 21:14:41 - Recall with Dot-Product:             86.28\n",
      "2022-09-07 21:14:41 - Average Precision with Dot-Product:  92.22\n",
      "\n",
      "2022-09-07 21:14:41 - Save model to binary_sim_output/sentence-transformers/quora-distilbert-base\n"
     ]
    },
    {
     "data": {
      "application/vnd.jupyter.widget-view+json": {
       "model_id": "690271735741433c9725da2d941d1ad5",
       "version_major": 2,
       "version_minor": 0
      },
      "text/plain": [
       "Iteration:   0%|          | 0/302 [00:00<?, ?it/s]"
      ]
     },
     "metadata": {},
     "output_type": "display_data"
    },
    {
     "name": "stdout",
     "output_type": "stream",
     "text": [
      "2022-09-07 21:15:07 - Binary Accuracy Evaluation of the model on  dataset after epoch 4:\n",
      "2022-09-07 21:15:07 - Accuracy with Cosine-Similarity:           81.17\t(Threshold: 0.4870)\n",
      "2022-09-07 21:15:07 - F1 with Cosine-Similarity:                 85.66\t(Threshold: 0.2685)\n",
      "2022-09-07 21:15:07 - Precision with Cosine-Similarity:          81.51\n",
      "2022-09-07 21:15:07 - Recall with Cosine-Similarity:             90.26\n",
      "2022-09-07 21:15:07 - Average Precision with Cosine-Similarity:  92.09\n",
      "\n",
      "2022-09-07 21:15:07 - Accuracy with Manhattan-Distance:           81.42\t(Threshold: 357.1085)\n",
      "2022-09-07 21:15:07 - F1 with Manhattan-Distance:                 85.29\t(Threshold: 380.7945)\n",
      "2022-09-07 21:15:07 - Precision with Manhattan-Distance:          84.14\n",
      "2022-09-07 21:15:07 - Recall with Manhattan-Distance:             86.48\n",
      "2022-09-07 21:15:07 - Average Precision with Manhattan-Distance:  91.96\n",
      "\n",
      "2022-09-07 21:15:07 - Accuracy with Euclidean-Distance:           81.17\t(Threshold: 16.3195)\n",
      "2022-09-07 21:15:07 - F1 with Euclidean-Distance:                 85.35\t(Threshold: 17.8256)\n",
      "2022-09-07 21:15:07 - Precision with Euclidean-Distance:          83.33\n",
      "2022-09-07 21:15:07 - Recall with Euclidean-Distance:             87.48\n",
      "2022-09-07 21:15:07 - Average Precision with Euclidean-Distance:  92.02\n",
      "\n",
      "2022-09-07 21:15:07 - Accuracy with Dot-Product:           81.30\t(Threshold: 96.5680)\n",
      "2022-09-07 21:15:07 - F1 with Dot-Product:                 85.61\t(Threshold: 68.7412)\n",
      "2022-09-07 21:15:07 - Precision with Dot-Product:          81.74\n",
      "2022-09-07 21:15:07 - Recall with Dot-Product:             89.86\n",
      "2022-09-07 21:15:07 - Average Precision with Dot-Product:  92.01\n",
      "\n"
     ]
    },
    {
     "data": {
      "application/vnd.jupyter.widget-view+json": {
       "model_id": "2f9f1db434b94e98a082b5e5f2f4eee6",
       "version_major": 2,
       "version_minor": 0
      },
      "text/plain": [
       "Iteration:   0%|          | 0/302 [00:00<?, ?it/s]"
      ]
     },
     "metadata": {},
     "output_type": "display_data"
    },
    {
     "name": "stdout",
     "output_type": "stream",
     "text": [
      "2022-09-07 21:15:32 - Binary Accuracy Evaluation of the model on  dataset after epoch 5:\n",
      "2022-09-07 21:15:33 - Accuracy with Cosine-Similarity:           80.67\t(Threshold: 0.6179)\n",
      "2022-09-07 21:15:33 - F1 with Cosine-Similarity:                 85.79\t(Threshold: 0.1547)\n",
      "2022-09-07 21:15:33 - Precision with Cosine-Similarity:          79.59\n",
      "2022-09-07 21:15:33 - Recall with Cosine-Similarity:             93.04\n",
      "2022-09-07 21:15:33 - Average Precision with Cosine-Similarity:  92.31\n",
      "\n",
      "2022-09-07 21:15:33 - Accuracy with Manhattan-Distance:           80.55\t(Threshold: 303.3241)\n",
      "2022-09-07 21:15:33 - F1 with Manhattan-Distance:                 85.45\t(Threshold: 424.8335)\n",
      "2022-09-07 21:15:33 - Precision with Manhattan-Distance:          80.03\n",
      "2022-09-07 21:15:33 - Recall with Manhattan-Distance:             91.65\n",
      "2022-09-07 21:15:33 - Average Precision with Manhattan-Distance:  92.25\n",
      "\n",
      "2022-09-07 21:15:33 - Accuracy with Euclidean-Distance:           80.80\t(Threshold: 19.1346)\n",
      "2022-09-07 21:15:33 - F1 with Euclidean-Distance:                 85.66\t(Threshold: 19.1346)\n",
      "2022-09-07 21:15:33 - Precision with Euclidean-Distance:          80.56\n",
      "2022-09-07 21:15:33 - Recall with Euclidean-Distance:             91.45\n",
      "2022-09-07 21:15:33 - Average Precision with Euclidean-Distance:  92.29\n",
      "\n",
      "2022-09-07 21:15:33 - Accuracy with Dot-Product:           80.80\t(Threshold: 42.8192)\n",
      "2022-09-07 21:15:33 - F1 with Dot-Product:                 85.87\t(Threshold: 42.8192)\n",
      "2022-09-07 21:15:33 - Precision with Dot-Product:          79.73\n",
      "2022-09-07 21:15:33 - Recall with Dot-Product:             93.04\n",
      "2022-09-07 21:15:33 - Average Precision with Dot-Product:  92.19\n",
      "\n",
      "2022-09-07 21:15:33 - Save model to binary_sim_output/sentence-transformers/quora-distilbert-base\n"
     ]
    },
    {
     "data": {
      "application/vnd.jupyter.widget-view+json": {
       "model_id": "6f0f50a17dcc411193865733ae3823b5",
       "version_major": 2,
       "version_minor": 0
      },
      "text/plain": [
       "Iteration:   0%|          | 0/302 [00:00<?, ?it/s]"
      ]
     },
     "metadata": {},
     "output_type": "display_data"
    },
    {
     "name": "stdout",
     "output_type": "stream",
     "text": [
      "2022-09-07 21:15:58 - Binary Accuracy Evaluation of the model on  dataset after epoch 6:\n",
      "2022-09-07 21:15:59 - Accuracy with Cosine-Similarity:           81.05\t(Threshold: 0.3226)\n",
      "2022-09-07 21:15:59 - F1 with Cosine-Similarity:                 84.74\t(Threshold: -0.2507)\n",
      "2022-09-07 21:15:59 - Precision with Cosine-Similarity:          77.25\n",
      "2022-09-07 21:15:59 - Recall with Cosine-Similarity:             93.84\n",
      "2022-09-07 21:15:59 - Average Precision with Cosine-Similarity:  92.31\n",
      "\n",
      "2022-09-07 21:15:59 - Accuracy with Manhattan-Distance:           80.55\t(Threshold: 400.1894)\n",
      "2022-09-07 21:15:59 - F1 with Manhattan-Distance:                 84.34\t(Threshold: 446.1268)\n",
      "2022-09-07 21:15:59 - Precision with Manhattan-Distance:          83.04\n",
      "2022-09-07 21:15:59 - Recall with Manhattan-Distance:             85.69\n",
      "2022-09-07 21:15:59 - Average Precision with Manhattan-Distance:  91.88\n",
      "\n",
      "2022-09-07 21:15:59 - Accuracy with Euclidean-Distance:           80.80\t(Threshold: 18.8157)\n",
      "2022-09-07 21:15:59 - F1 with Euclidean-Distance:                 84.55\t(Threshold: 20.8395)\n",
      "2022-09-07 21:15:59 - Precision with Euclidean-Distance:          82.70\n",
      "2022-09-07 21:15:59 - Recall with Euclidean-Distance:             86.48\n",
      "2022-09-07 21:15:59 - Average Precision with Euclidean-Distance:  91.99\n",
      "\n",
      "2022-09-07 21:15:59 - Accuracy with Dot-Product:           80.92\t(Threshold: 91.6616)\n",
      "2022-09-07 21:15:59 - F1 with Dot-Product:                 84.66\t(Threshold: 63.0676)\n",
      "2022-09-07 21:15:59 - Precision with Dot-Product:          84.83\n",
      "2022-09-07 21:15:59 - Recall with Dot-Product:             84.49\n",
      "2022-09-07 21:15:59 - Average Precision with Dot-Product:  92.38\n",
      "\n",
      "2022-09-07 21:15:59 - Save model to binary_sim_output/sentence-transformers/quora-distilbert-base\n"
     ]
    },
    {
     "data": {
      "application/vnd.jupyter.widget-view+json": {
       "model_id": "f448dbced239496893bd3d68bbba013a",
       "version_major": 2,
       "version_minor": 0
      },
      "text/plain": [
       "Iteration:   0%|          | 0/302 [00:00<?, ?it/s]"
      ]
     },
     "metadata": {},
     "output_type": "display_data"
    },
    {
     "name": "stdout",
     "output_type": "stream",
     "text": [
      "2022-09-07 21:16:24 - Binary Accuracy Evaluation of the model on  dataset after epoch 7:\n",
      "2022-09-07 21:16:25 - Accuracy with Cosine-Similarity:           81.05\t(Threshold: 0.5335)\n",
      "2022-09-07 21:16:25 - F1 with Cosine-Similarity:                 85.24\t(Threshold: 0.0523)\n",
      "2022-09-07 21:16:25 - Precision with Cosine-Similarity:          79.52\n",
      "2022-09-07 21:16:25 - Recall with Cosine-Similarity:             91.85\n",
      "2022-09-07 21:16:25 - Average Precision with Cosine-Similarity:  92.55\n",
      "\n",
      "2022-09-07 21:16:25 - Accuracy with Manhattan-Distance:           81.30\t(Threshold: 366.3255)\n",
      "2022-09-07 21:16:25 - F1 with Manhattan-Distance:                 85.21\t(Threshold: 366.3255)\n",
      "2022-09-07 21:16:25 - Precision with Manhattan-Distance:          84.54\n",
      "2022-09-07 21:16:25 - Recall with Manhattan-Distance:             85.88\n",
      "2022-09-07 21:16:25 - Average Precision with Manhattan-Distance:  92.33\n",
      "\n",
      "2022-09-07 21:16:25 - Accuracy with Euclidean-Distance:           81.42\t(Threshold: 16.7438)\n",
      "2022-09-07 21:16:25 - F1 with Euclidean-Distance:                 85.29\t(Threshold: 16.7636)\n",
      "2022-09-07 21:16:25 - Precision with Euclidean-Distance:          84.71\n",
      "2022-09-07 21:16:25 - Recall with Euclidean-Distance:             85.88\n",
      "2022-09-07 21:16:25 - Average Precision with Euclidean-Distance:  92.39\n",
      "\n",
      "2022-09-07 21:16:25 - Accuracy with Dot-Product:           81.05\t(Threshold: 169.2789)\n",
      "2022-09-07 21:16:25 - F1 with Dot-Product:                 85.24\t(Threshold: 11.9901)\n",
      "2022-09-07 21:16:25 - Precision with Dot-Product:          79.52\n",
      "2022-09-07 21:16:25 - Recall with Dot-Product:             91.85\n",
      "2022-09-07 21:16:25 - Average Precision with Dot-Product:  92.53\n",
      "\n",
      "2022-09-07 21:16:25 - Save model to binary_sim_output/sentence-transformers/quora-distilbert-base\n"
     ]
    },
    {
     "data": {
      "application/vnd.jupyter.widget-view+json": {
       "model_id": "f0916aa2e82a4a828b46783a2a175759",
       "version_major": 2,
       "version_minor": 0
      },
      "text/plain": [
       "Iteration:   0%|          | 0/302 [00:00<?, ?it/s]"
      ]
     },
     "metadata": {},
     "output_type": "display_data"
    },
    {
     "name": "stdout",
     "output_type": "stream",
     "text": [
      "2022-09-07 21:16:50 - Binary Accuracy Evaluation of the model on  dataset after epoch 8:\n",
      "2022-09-07 21:16:51 - Accuracy with Cosine-Similarity:           80.67\t(Threshold: 0.4545)\n",
      "2022-09-07 21:16:51 - F1 with Cosine-Similarity:                 84.94\t(Threshold: 0.3095)\n",
      "2022-09-07 21:16:51 - Precision with Cosine-Similarity:          83.08\n",
      "2022-09-07 21:16:51 - Recall with Cosine-Similarity:             86.88\n",
      "2022-09-07 21:16:51 - Average Precision with Cosine-Similarity:  92.24\n",
      "\n",
      "2022-09-07 21:16:51 - Accuracy with Manhattan-Distance:           80.55\t(Threshold: 365.0852)\n",
      "2022-09-07 21:16:51 - F1 with Manhattan-Distance:                 84.66\t(Threshold: 406.3455)\n",
      "2022-09-07 21:16:51 - Precision with Manhattan-Distance:          82.73\n",
      "2022-09-07 21:16:51 - Recall with Manhattan-Distance:             86.68\n",
      "2022-09-07 21:16:51 - Average Precision with Manhattan-Distance:  92.00\n",
      "\n",
      "2022-09-07 21:16:51 - Accuracy with Euclidean-Distance:           80.55\t(Threshold: 16.8729)\n",
      "2022-09-07 21:16:51 - F1 with Euclidean-Distance:                 84.95\t(Threshold: 22.1046)\n",
      "2022-09-07 21:16:51 - Precision with Euclidean-Distance:          79.31\n",
      "2022-09-07 21:16:51 - Recall with Euclidean-Distance:             91.45\n",
      "2022-09-07 21:16:51 - Average Precision with Euclidean-Distance:  92.06\n",
      "\n",
      "2022-09-07 21:16:51 - Accuracy with Dot-Product:           80.80\t(Threshold: 112.6952)\n",
      "2022-09-07 21:16:51 - F1 with Dot-Product:                 84.91\t(Threshold: 81.5369)\n",
      "2022-09-07 21:16:51 - Precision with Dot-Product:          83.21\n",
      "2022-09-07 21:16:51 - Recall with Dot-Product:             86.68\n",
      "2022-09-07 21:16:51 - Average Precision with Dot-Product:  92.27\n",
      "\n"
     ]
    },
    {
     "data": {
      "application/vnd.jupyter.widget-view+json": {
       "model_id": "d5d5d34461d14339994847dd889b1e1e",
       "version_major": 2,
       "version_minor": 0
      },
      "text/plain": [
       "Iteration:   0%|          | 0/302 [00:00<?, ?it/s]"
      ]
     },
     "metadata": {},
     "output_type": "display_data"
    },
    {
     "name": "stdout",
     "output_type": "stream",
     "text": [
      "2022-09-07 21:17:16 - Binary Accuracy Evaluation of the model on  dataset after epoch 9:\n",
      "2022-09-07 21:17:16 - Accuracy with Cosine-Similarity:           80.80\t(Threshold: 0.3661)\n",
      "2022-09-07 21:17:16 - F1 with Cosine-Similarity:                 84.90\t(Threshold: 0.3661)\n",
      "2022-09-07 21:17:16 - Precision with Cosine-Similarity:          83.75\n",
      "2022-09-07 21:17:16 - Recall with Cosine-Similarity:             86.08\n",
      "2022-09-07 21:17:16 - Average Precision with Cosine-Similarity:  92.17\n",
      "\n",
      "2022-09-07 21:17:16 - Accuracy with Manhattan-Distance:           80.55\t(Threshold: 368.4842)\n",
      "2022-09-07 21:17:16 - F1 with Manhattan-Distance:                 84.76\t(Threshold: 481.5500)\n",
      "2022-09-07 21:17:16 - Precision with Manhattan-Distance:          79.14\n",
      "2022-09-07 21:17:16 - Recall with Manhattan-Distance:             91.25\n",
      "2022-09-07 21:17:16 - Average Precision with Manhattan-Distance:  91.92\n",
      "\n",
      "2022-09-07 21:17:16 - Accuracy with Euclidean-Distance:           80.55\t(Threshold: 16.4921)\n",
      "2022-09-07 21:17:16 - F1 with Euclidean-Distance:                 84.92\t(Threshold: 22.1329)\n",
      "2022-09-07 21:17:16 - Precision with Euclidean-Distance:          79.41\n",
      "2022-09-07 21:17:16 - Recall with Euclidean-Distance:             91.25\n",
      "2022-09-07 21:17:16 - Average Precision with Euclidean-Distance:  92.00\n",
      "\n",
      "2022-09-07 21:17:16 - Accuracy with Dot-Product:           80.92\t(Threshold: 87.1476)\n",
      "2022-09-07 21:17:16 - F1 with Dot-Product:                 85.07\t(Threshold: 87.1476)\n",
      "2022-09-07 21:17:16 - Precision with Dot-Product:          83.52\n",
      "2022-09-07 21:17:16 - Recall with Dot-Product:             86.68\n",
      "2022-09-07 21:17:16 - Average Precision with Dot-Product:  92.20\n",
      "\n",
      "Training done...\n",
      "\n",
      "\n",
      "\n",
      "                     ********** sentence-transformers/quora-distilbert-base **********\n",
      "2022-09-07 21:17:16 - Load pretrained SentenceTransformer: binary_sim_output/sentence-transformers/quora-distilbert-base\n",
      "2022-09-07 21:17:17 - Use pytorch device: cuda\n",
      "2022-09-07 21:17:17 - Softmax loss: #Vectors concatenated: 3\n",
      "2022-09-07 21:17:17 - EmbeddingSimilarityEvaluator: Evaluating the model on SPRAG-test dataset:\n",
      "2022-09-07 21:17:18 - Cosine-Similarity :\tPearson: 0.6391\tSpearman: 0.6411\n",
      "2022-09-07 21:17:18 - Manhattan-Distance:\tPearson: 0.6439\tSpearman: 0.6324\n",
      "2022-09-07 21:17:18 - Euclidean-Distance:\tPearson: 0.6456\tSpearman: 0.6347\n",
      "2022-09-07 21:17:18 - Dot-Product-Similarity:\tPearson: 0.6453\tSpearman: 0.6413\n",
      "2022-09-07 21:17:18 - Binary Accuracy Evaluation of the model on  dataset:\n",
      "2022-09-07 21:17:19 - Accuracy with Cosine-Similarity:           81.05\t(Threshold: 0.5335)\n",
      "2022-09-07 21:17:19 - F1 with Cosine-Similarity:                 85.24\t(Threshold: 0.0523)\n",
      "2022-09-07 21:17:19 - Precision with Cosine-Similarity:          79.52\n",
      "2022-09-07 21:17:19 - Recall with Cosine-Similarity:             91.85\n",
      "2022-09-07 21:17:19 - Average Precision with Cosine-Similarity:  92.55\n",
      "\n",
      "2022-09-07 21:17:19 - Accuracy with Manhattan-Distance:           81.30\t(Threshold: 366.3255)\n",
      "2022-09-07 21:17:19 - F1 with Manhattan-Distance:                 85.21\t(Threshold: 366.3255)\n",
      "2022-09-07 21:17:19 - Precision with Manhattan-Distance:          84.54\n",
      "2022-09-07 21:17:19 - Recall with Manhattan-Distance:             85.88\n",
      "2022-09-07 21:17:19 - Average Precision with Manhattan-Distance:  92.33\n",
      "\n",
      "2022-09-07 21:17:19 - Accuracy with Euclidean-Distance:           81.42\t(Threshold: 16.7438)\n",
      "2022-09-07 21:17:19 - F1 with Euclidean-Distance:                 85.29\t(Threshold: 16.7636)\n",
      "2022-09-07 21:17:19 - Precision with Euclidean-Distance:          84.71\n",
      "2022-09-07 21:17:19 - Recall with Euclidean-Distance:             85.88\n",
      "2022-09-07 21:17:19 - Average Precision with Euclidean-Distance:  92.39\n",
      "\n",
      "2022-09-07 21:17:19 - Accuracy with Dot-Product:           81.05\t(Threshold: 169.2789)\n",
      "2022-09-07 21:17:19 - F1 with Dot-Product:                 85.24\t(Threshold: 11.9901)\n",
      "2022-09-07 21:17:19 - Precision with Dot-Product:          79.52\n",
      "2022-09-07 21:17:19 - Recall with Dot-Product:             91.85\n",
      "2022-09-07 21:17:19 - Average Precision with Dot-Product:  92.53\n",
      "\n"
     ]
    },
    {
     "data": {
      "text/plain": [
       "0.9254943408138846"
      ]
     },
     "execution_count": 114,
     "metadata": {},
     "output_type": "execute_result"
    }
   ],
   "source": [
    "\n",
    "st_model = 'sentence-transformers/quora-distilbert-base'\n",
    "num_epochs = 10\n",
    "batch_size=16\n",
    "model_save_path = \"binary_sim_output/\"+st_model\n",
    "train_dataloader = DataLoader(train_examples, shuffle=True, batch_size=batch_size)\n",
    "  \n",
    "test_dataloader = DataLoader(test_examples, shuffle=True, batch_size=batch_size)\n",
    "model = train_and_evaluate(st_model, train_dataloader, test_dataloader, num_epochs, model_save_path)\n",
    "print(\"\\n\\n\")\n",
    "print(\" \"*20, \"*\"*10, st_model , \"*\"*10)\n",
    "\n",
    "# Load the stored model and evaluate its performance on mohler test dataset\n",
    "model = SentenceTransformer(model_save_path)\n",
    "train_loss = losses.SoftmaxLoss(model=model, sentence_embedding_dimension=model.get_sentence_embedding_dimension(), num_labels=2)\n",
    "test_evaluator = evaluation.EmbeddingSimilarityEvaluator.from_input_examples(test_examples, batch_size=16, name='SPRAG-test')\n",
    "test_evaluator(model, output_path=model_save_path)\n",
    "train_loss.cuda()\n",
    "\n",
    "x_test_dA = test_data['ReferenceAnswer'].values.tolist()\n",
    "x_test_sA = test_data['StudentAnswer'].values.tolist()\n",
    "y_test = test_labels \n",
    "\n",
    "evaluator = evaluation.BinaryClassificationEvaluator(x_test_dA, x_test_sA, y_test)\n",
    "evaluator(model, output_path=model_save_path)\n"
   ]
  },
  {
   "cell_type": "code",
   "execution_count": 115,
   "id": "2b4f91ba",
   "metadata": {},
   "outputs": [
    {
     "data": {
      "application/vnd.jupyter.widget-view+json": {
       "model_id": "c0d1a991a779483a9102473c7683acb9",
       "version_major": 2,
       "version_minor": 0
      },
      "text/plain": [
       "Batches:   0%|          | 0/1 [00:00<?, ?it/s]"
      ]
     },
     "metadata": {},
     "output_type": "display_data"
    },
    {
     "data": {
      "application/vnd.jupyter.widget-view+json": {
       "model_id": "eb8d6acf868b44bdba0b4e37d42807d0",
       "version_major": 2,
       "version_minor": 0
      },
      "text/plain": [
       "Batches:   0%|          | 0/1 [00:00<?, ?it/s]"
      ]
     },
     "metadata": {},
     "output_type": "display_data"
    },
    {
     "data": {
      "text/plain": [
       "(768,)"
      ]
     },
     "execution_count": 115,
     "metadata": {},
     "output_type": "execute_result"
    }
   ],
   "source": [
    "#Our sentences we like to encode\n",
    "s1 = model.encode(\"Python is an object oriented programming language\")\n",
    "s2 = model.encode(\"java is an oop language\")\n",
    "\n",
    "s1.shape"
   ]
  },
  {
   "cell_type": "markdown",
   "id": "0667637a",
   "metadata": {},
   "source": []
  },
  {
   "cell_type": "code",
   "execution_count": 116,
   "id": "0c3ebdfe",
   "metadata": {},
   "outputs": [
    {
     "data": {
      "text/plain": [
       "tensor([[0.4935]])"
      ]
     },
     "execution_count": 116,
     "metadata": {},
     "output_type": "execute_result"
    }
   ],
   "source": [
    "#Compute cosine similarity between all pairs\n",
    "from sentence_transformers import util\n",
    "cos_sim = util.cos_sim(s1, s2)\n",
    "cos_sim"
   ]
  },
  {
   "cell_type": "code",
   "execution_count": null,
   "id": "f3185216",
   "metadata": {},
   "outputs": [],
   "source": []
  },
  {
   "cell_type": "code",
   "execution_count": null,
   "id": "1edf2612",
   "metadata": {},
   "outputs": [],
   "source": []
  }
 ],
 "metadata": {
  "kernelspec": {
   "display_name": "Python 3 (ipykernel)",
   "language": "python",
   "name": "python3"
  },
  "language_info": {
   "codemirror_mode": {
    "name": "ipython",
    "version": 3
   },
   "file_extension": ".py",
   "mimetype": "text/x-python",
   "name": "python",
   "nbconvert_exporter": "python",
   "pygments_lexer": "ipython3",
   "version": "3.9.7"
  }
 },
 "nbformat": 4,
 "nbformat_minor": 5
}
