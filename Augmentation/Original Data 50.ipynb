{
 "cells": [
  {
   "cell_type": "code",
   "execution_count": 1,
   "id": "d81ecea5",
   "metadata": {},
   "outputs": [
    {
     "name": "stdout",
     "output_type": "stream",
     "text": [
      "Defaulting to user installation because normal site-packages is not writeable\n",
      "Requirement already satisfied: sentence-transformers in /home/jupyter-vit_sridevi/.local/lib/python3.9/site-packages (2.2.2)\n",
      "Requirement already satisfied: scikit-learn in /home/jupyter-vit_sridevi/.local/lib/python3.9/site-packages (from sentence-transformers) (1.1.1)\n",
      "Requirement already satisfied: sentencepiece in /home/jupyter-vit_sridevi/.local/lib/python3.9/site-packages (from sentence-transformers) (0.1.96)\n",
      "Requirement already satisfied: transformers<5.0.0,>=4.6.0 in /home/jupyter-vit_sridevi/.local/lib/python3.9/site-packages (from sentence-transformers) (4.20.1)\n",
      "Requirement already satisfied: torch>=1.6.0 in /home/jupyter-vit_sridevi/.local/lib/python3.9/site-packages (from sentence-transformers) (1.12.0)\n",
      "Requirement already satisfied: scipy in /home/jupyter-vit_sridevi/.local/lib/python3.9/site-packages (from sentence-transformers) (1.8.1)\n",
      "Requirement already satisfied: huggingface-hub>=0.4.0 in /home/jupyter-vit_sridevi/.local/lib/python3.9/site-packages (from sentence-transformers) (0.8.1)\n",
      "Requirement already satisfied: numpy in /opt/tljh/user/lib/python3.9/site-packages (from sentence-transformers) (1.22.3)\n",
      "Requirement already satisfied: tqdm in /opt/tljh/user/lib/python3.9/site-packages (from sentence-transformers) (4.62.3)\n",
      "Requirement already satisfied: torchvision in /home/jupyter-vit_sridevi/.local/lib/python3.9/site-packages (from sentence-transformers) (0.13.0)\n",
      "Requirement already satisfied: nltk in /home/jupyter-vit_sridevi/.local/lib/python3.9/site-packages (from sentence-transformers) (3.7)\n",
      "Requirement already satisfied: packaging>=20.9 in /opt/tljh/user/lib/python3.9/site-packages (from huggingface-hub>=0.4.0->sentence-transformers) (21.3)\n",
      "Requirement already satisfied: requests in /opt/tljh/user/lib/python3.9/site-packages (from huggingface-hub>=0.4.0->sentence-transformers) (2.26.0)\n",
      "Requirement already satisfied: filelock in /home/jupyter-vit_sridevi/.local/lib/python3.9/site-packages (from huggingface-hub>=0.4.0->sentence-transformers) (3.7.1)\n",
      "Requirement already satisfied: typing-extensions>=3.7.4.3 in /home/jupyter-vit_sridevi/.local/lib/python3.9/site-packages (from huggingface-hub>=0.4.0->sentence-transformers) (4.3.0)\n",
      "Requirement already satisfied: pyyaml>=5.1 in /home/jupyter-vit_sridevi/.local/lib/python3.9/site-packages (from huggingface-hub>=0.4.0->sentence-transformers) (6.0)\n",
      "Requirement already satisfied: regex!=2019.12.17 in /home/jupyter-vit_sridevi/.local/lib/python3.9/site-packages (from transformers<5.0.0,>=4.6.0->sentence-transformers) (2022.7.9)\n",
      "Requirement already satisfied: tokenizers!=0.11.3,<0.13,>=0.11.1 in /home/jupyter-vit_sridevi/.local/lib/python3.9/site-packages (from transformers<5.0.0,>=4.6.0->sentence-transformers) (0.12.1)\n",
      "Requirement already satisfied: joblib in /home/jupyter-vit_sridevi/.local/lib/python3.9/site-packages (from nltk->sentence-transformers) (1.1.0)\n",
      "Requirement already satisfied: click in /home/jupyter-vit_sridevi/.local/lib/python3.9/site-packages (from nltk->sentence-transformers) (8.1.3)\n",
      "Requirement already satisfied: threadpoolctl>=2.0.0 in /home/jupyter-vit_sridevi/.local/lib/python3.9/site-packages (from scikit-learn->sentence-transformers) (3.1.0)\n",
      "Requirement already satisfied: pillow!=8.3.*,>=5.3.0 in /home/jupyter-vit_sridevi/.local/lib/python3.9/site-packages (from torchvision->sentence-transformers) (9.2.0)\n",
      "Requirement already satisfied: pyparsing!=3.0.5,>=2.0.2 in /opt/tljh/user/lib/python3.9/site-packages (from packaging>=20.9->huggingface-hub>=0.4.0->sentence-transformers) (3.0.9)\n",
      "Requirement already satisfied: idna<4,>=2.5 in /opt/tljh/user/lib/python3.9/site-packages (from requests->huggingface-hub>=0.4.0->sentence-transformers) (3.1)\n",
      "Requirement already satisfied: urllib3<1.27,>=1.21.1 in /opt/tljh/user/lib/python3.9/site-packages (from requests->huggingface-hub>=0.4.0->sentence-transformers) (1.26.7)\n",
      "Requirement already satisfied: certifi>=2017.4.17 in /opt/tljh/user/lib/python3.9/site-packages (from requests->huggingface-hub>=0.4.0->sentence-transformers) (2021.10.8)\n",
      "Requirement already satisfied: charset-normalizer~=2.0.0 in /opt/tljh/user/lib/python3.9/site-packages (from requests->huggingface-hub>=0.4.0->sentence-transformers) (2.0.0)\n",
      "Defaulting to user installation because normal site-packages is not writeable\n",
      "Requirement already satisfied: pandas in /home/jupyter-vit_sridevi/.local/lib/python3.9/site-packages (1.4.3)\n",
      "Requirement already satisfied: pytz>=2020.1 in /opt/tljh/user/lib/python3.9/site-packages (from pandas) (2022.1)\n",
      "Requirement already satisfied: python-dateutil>=2.8.1 in /opt/tljh/user/lib/python3.9/site-packages (from pandas) (2.8.2)\n",
      "Requirement already satisfied: numpy>=1.18.5 in /opt/tljh/user/lib/python3.9/site-packages (from pandas) (1.22.3)\n",
      "Requirement already satisfied: six>=1.5 in /opt/tljh/user/lib/python3.9/site-packages (from python-dateutil>=2.8.1->pandas) (1.16.0)\n"
     ]
    }
   ],
   "source": [
    "!pip install sentence-transformers\n",
    "!pip install pandas"
   ]
  },
  {
   "cell_type": "code",
   "execution_count": 2,
   "id": "c445cdaf",
   "metadata": {},
   "outputs": [],
   "source": [
    "\n",
    "\n",
    "from sklearn.metrics import accuracy_score, f1_score\n",
    "from sklearn.linear_model import LogisticRegression\n",
    "from sentence_transformers import SentenceTransformer, InputExample, losses, models, datasets, evaluation\n",
    "from torch.utils.data import DataLoader\n",
    "\n",
    "from sklearn.manifold import TSNE\n",
    "from matplotlib import pyplot as plt\n",
    "\n",
    "# import warnings filter\n",
    "from warnings import simplefilter\n",
    "# ignore all future warnings\n",
    "simplefilter(action='ignore', category=FutureWarning)\n",
    "\n",
    "import pandas as pd\n",
    "import numpy as np\n",
    "\n",
    "import torch\n",
    "import random\n",
    "import torch\n",
    "\n",
    "def set_seed(seed):\n",
    "  random.seed(seed)\n",
    "  np.random.seed(seed)\n",
    "  torch.manual_seed(seed)"
   ]
  },
  {
   "cell_type": "code",
   "execution_count": 3,
   "id": "14c99818",
   "metadata": {},
   "outputs": [
    {
     "data": {
      "text/html": [
       "<div>\n",
       "<style scoped>\n",
       "    .dataframe tbody tr th:only-of-type {\n",
       "        vertical-align: middle;\n",
       "    }\n",
       "\n",
       "    .dataframe tbody tr th {\n",
       "        vertical-align: top;\n",
       "    }\n",
       "\n",
       "    .dataframe thead th {\n",
       "        text-align: right;\n",
       "    }\n",
       "</style>\n",
       "<table border=\"1\" class=\"dataframe\">\n",
       "  <thead>\n",
       "    <tr style=\"text-align: right;\">\n",
       "      <th></th>\n",
       "      <th>Unnamed: 0</th>\n",
       "      <th>QuestionID</th>\n",
       "      <th>ReferenceAnswer</th>\n",
       "      <th>StudentAnswer</th>\n",
       "      <th>Score1</th>\n",
       "      <th>Score2</th>\n",
       "      <th>avg_score</th>\n",
       "      <th>max_score</th>\n",
       "    </tr>\n",
       "  </thead>\n",
       "  <tbody>\n",
       "    <tr>\n",
       "      <th>0</th>\n",
       "      <td>0.0</td>\n",
       "      <td>PythonQ001</td>\n",
       "      <td>List, Set and Dictionary are mutable data stru...</td>\n",
       "      <td>Tha object structures which can be changeable ...</td>\n",
       "      <td>1.0</td>\n",
       "      <td>0.0</td>\n",
       "      <td>0.5</td>\n",
       "      <td>1.0</td>\n",
       "    </tr>\n",
       "    <tr>\n",
       "      <th>1</th>\n",
       "      <td>1.0</td>\n",
       "      <td>PythonQ001</td>\n",
       "      <td>List, Set and Dictionary are mutable data stru...</td>\n",
       "      <td>Tuple</td>\n",
       "      <td>0.0</td>\n",
       "      <td>0.0</td>\n",
       "      <td>0.0</td>\n",
       "      <td>0.0</td>\n",
       "    </tr>\n",
       "  </tbody>\n",
       "</table>\n",
       "</div>"
      ],
      "text/plain": [
       "   Unnamed: 0  QuestionID                                    ReferenceAnswer  \\\n",
       "0         0.0  PythonQ001  List, Set and Dictionary are mutable data stru...   \n",
       "1         1.0  PythonQ001  List, Set and Dictionary are mutable data stru...   \n",
       "\n",
       "                                       StudentAnswer  Score1  Score2  \\\n",
       "0  Tha object structures which can be changeable ...     1.0     0.0   \n",
       "1                                              Tuple     0.0     0.0   \n",
       "\n",
       "   avg_score  max_score  \n",
       "0        0.5        1.0  \n",
       "1        0.0        0.0  "
      ]
     },
     "execution_count": 3,
     "metadata": {},
     "output_type": "execute_result"
    }
   ],
   "source": [
    "#Load the sprag dataset\n",
    "data = pd.read_csv(\"refstdcombined.csv\")\n",
    "data.head(2)"
   ]
  },
  {
   "cell_type": "code",
   "execution_count": 4,
   "id": "c830d9ed",
   "metadata": {},
   "outputs": [],
   "source": [
    "data['bin_score'] = data.apply(lambda row : 1 if row.avg_score>=3 else 0, axis=1)"
   ]
  },
  {
   "cell_type": "code",
   "execution_count": 5,
   "id": "fb65373f",
   "metadata": {},
   "outputs": [
    {
     "data": {
      "text/html": [
       "<div>\n",
       "<style scoped>\n",
       "    .dataframe tbody tr th:only-of-type {\n",
       "        vertical-align: middle;\n",
       "    }\n",
       "\n",
       "    .dataframe tbody tr th {\n",
       "        vertical-align: top;\n",
       "    }\n",
       "\n",
       "    .dataframe thead th {\n",
       "        text-align: right;\n",
       "    }\n",
       "</style>\n",
       "<table border=\"1\" class=\"dataframe\">\n",
       "  <thead>\n",
       "    <tr style=\"text-align: right;\">\n",
       "      <th></th>\n",
       "      <th>Unnamed: 0</th>\n",
       "      <th>QuestionID</th>\n",
       "      <th>ReferenceAnswer</th>\n",
       "      <th>StudentAnswer</th>\n",
       "      <th>Score1</th>\n",
       "      <th>Score2</th>\n",
       "      <th>avg_score</th>\n",
       "      <th>max_score</th>\n",
       "      <th>bin_score</th>\n",
       "    </tr>\n",
       "  </thead>\n",
       "  <tbody>\n",
       "    <tr>\n",
       "      <th>0</th>\n",
       "      <td>0.0</td>\n",
       "      <td>PythonQ001</td>\n",
       "      <td>List, Set and Dictionary are mutable data stru...</td>\n",
       "      <td>Tha object structures which can be changeable ...</td>\n",
       "      <td>1.0</td>\n",
       "      <td>0.0</td>\n",
       "      <td>0.5</td>\n",
       "      <td>1.0</td>\n",
       "      <td>0</td>\n",
       "    </tr>\n",
       "    <tr>\n",
       "      <th>1</th>\n",
       "      <td>1.0</td>\n",
       "      <td>PythonQ001</td>\n",
       "      <td>List, Set and Dictionary are mutable data stru...</td>\n",
       "      <td>Tuple</td>\n",
       "      <td>0.0</td>\n",
       "      <td>0.0</td>\n",
       "      <td>0.0</td>\n",
       "      <td>0.0</td>\n",
       "      <td>0</td>\n",
       "    </tr>\n",
       "  </tbody>\n",
       "</table>\n",
       "</div>"
      ],
      "text/plain": [
       "   Unnamed: 0  QuestionID                                    ReferenceAnswer  \\\n",
       "0         0.0  PythonQ001  List, Set and Dictionary are mutable data stru...   \n",
       "1         1.0  PythonQ001  List, Set and Dictionary are mutable data stru...   \n",
       "\n",
       "                                       StudentAnswer  Score1  Score2  \\\n",
       "0  Tha object structures which can be changeable ...     1.0     0.0   \n",
       "1                                              Tuple     0.0     0.0   \n",
       "\n",
       "   avg_score  max_score  bin_score  \n",
       "0        0.5        1.0          0  \n",
       "1        0.0        0.0          0  "
      ]
     },
     "execution_count": 5,
     "metadata": {},
     "output_type": "execute_result"
    }
   ],
   "source": [
    "data.head(2)"
   ]
  },
  {
   "cell_type": "code",
   "execution_count": 6,
   "id": "ac3fd9e5",
   "metadata": {},
   "outputs": [],
   "source": [
    "data = data.dropna()"
   ]
  },
  {
   "cell_type": "code",
   "execution_count": 7,
   "id": "c209e2dd",
   "metadata": {},
   "outputs": [
    {
     "data": {
      "image/png": "[encoded data removed]",
      "text/plain": [
       "<Figure size 432x288 with 1 Axes>"
      ]
     },
     "metadata": {
      "needs_background": "light"
     },
     "output_type": "display_data"
    }
   ],
   "source": [
    "data['bin_score'].value_counts(normalize=True).plot(kind='bar');"
   ]
  },
  {
   "cell_type": "code",
   "execution_count": 8,
   "id": "59468089",
   "metadata": {},
   "outputs": [],
   "source": [
    "#### Just some code to print debug information to stdout\n",
    "import logging\n",
    "from sentence_transformers import LoggingHandler\n",
    "logging.basicConfig(format='%(asctime)s - %(message)s',\n",
    "                    datefmt='%Y-%m-%d %H:%M:%S',\n",
    "                    level=logging.INFO,\n",
    "                    handlers=[LoggingHandler()])"
   ]
  },
  {
   "cell_type": "code",
   "execution_count": 9,
   "id": "088b0996",
   "metadata": {},
   "outputs": [],
   "source": [
    "from sklearn.model_selection import train_test_split\n",
    "\n",
    "# Storing labels in array\n",
    "labels = data['bin_score'].values\n",
    "\n",
    "# Dropping labels column from data\n",
    "data = data.drop(['bin_score'], axis=1)\n",
    "\n",
    "# Splitting data into train and test sets in a 70/30 ratio\n",
    "train_data, test_data, train_labels, test_labels = train_test_split(data, labels, stratify=labels, random_state=42, test_size=0.2)"
   ]
  },
  {
   "cell_type": "code",
   "execution_count": 10,
   "id": "6c00c606",
   "metadata": {},
   "outputs": [
    {
     "data": {
      "text/plain": [
       "(1604.0, numpy.ndarray, (3208,))"
      ]
     },
     "execution_count": 10,
     "metadata": {},
     "output_type": "execute_result"
    }
   ],
   "source": [
    "len(train_data)*0.5, type(train_labels), train_labels.shape\n"
   ]
  },
  {
   "cell_type": "code",
   "execution_count": 11,
   "id": "4c624c80",
   "metadata": {},
   "outputs": [],
   "source": [
    "train_data = train_data.iloc[0:1604]\n",
    "train_labels = train_labels[0:1604]"
   ]
  },
  {
   "cell_type": "code",
   "execution_count": 12,
   "id": "94e9e19c",
   "metadata": {},
   "outputs": [
    {
     "data": {
      "text/plain": [
       "(pandas.core.frame.DataFrame, numpy.ndarray, 1604, 1604)"
      ]
     },
     "execution_count": 12,
     "metadata": {},
     "output_type": "execute_result"
    }
   ],
   "source": [
    "type(train_data), type(train_labels), len(train_data), len(train_labels)"
   ]
  },
  {
   "cell_type": "code",
   "execution_count": 13,
   "id": "43744dab",
   "metadata": {},
   "outputs": [],
   "source": [
    "def sentence_pairs_generation(sentence1, sentence2, labels, pairs):\n",
    "\t# initialize two empty lists to hold the (sentence, sentence) pairs and\n",
    "\t# labels to indicate if the grade of the pair\n",
    "\n",
    "  numClassesList = np.unique(labels)\n",
    "  #print(numClassesList)\n",
    "  idx = [np.where(labels == i)[0] for i in numClassesList]\n",
    "  #print(idx)\n",
    "\n",
    "  for idxA in range(len(sentence1)):      \n",
    "    dAns = sentence1[idxA]\n",
    "    sAns = sentence2[idxA]\n",
    "    label = int(labels[idxA])\n",
    "    \n",
    "\t\t  # prepare a pair and update the sentences and labels lists, respectively\n",
    "    pairs.append(InputExample(texts=[dAns, sAns], label=label))\n",
    "\n",
    "     \n",
    "\t# return a 2-tuple of our image pairs and labels\n",
    "  return (pairs)"
   ]
  },
  {
   "cell_type": "code",
   "execution_count": 14,
   "id": "73812285",
   "metadata": {},
   "outputs": [],
   "source": [
    "set_seed(0)\n",
    "# Equal samples per class training\n",
    "#train_df_sample = pd.concat([train_df[train_df[1]==0].sample(num_training), train_df[train_df[1]==1].sample(num_training)])\n",
    "x_train_dA = train_data['ReferenceAnswer'].values.tolist()\n",
    "x_train_sA = train_data['StudentAnswer'].values.tolist()\n",
    "y_train = train_labels.tolist()\n",
    "y_train = [int(x) for x in y_train]"
   ]
  },
  {
   "cell_type": "code",
   "execution_count": 15,
   "id": "61fd6221",
   "metadata": {},
   "outputs": [],
   "source": [
    "#use test dataset as dev dataset\n",
    "x_test_dA = test_data['ReferenceAnswer'].values.tolist()\n",
    "x_test_sA = test_data['StudentAnswer'].values.tolist()\n",
    "y_test = test_labels / 1.0\n",
    "y_test = test_labels.tolist()\n",
    "#y_test = [int(x) for x in y_test]\n",
    "\n",
    "test_examples = [] \n",
    "test_examples = sentence_pairs_generation(np.array(x_test_dA), np.array(x_test_sA), np.array(y_test), test_examples)"
   ]
  },
  {
   "cell_type": "code",
   "execution_count": 16,
   "id": "6049c777",
   "metadata": {},
   "outputs": [],
   "source": [
    "train_examples = [] \n",
    "train_examples = sentence_pairs_generation(np.array(x_train_dA), np.array(x_train_sA), np.array(y_train), train_examples)"
   ]
  },
  {
   "cell_type": "code",
   "execution_count": 17,
   "id": "5bef49b2",
   "metadata": {},
   "outputs": [],
   "source": [
    "# Save path of the model\n",
    "from datetime import datetime\n",
    "model_save_path = 'output/training_sprag_v4_'+datetime.now().strftime(\"%Y-%m-%d_%H-%M-%S\")"
   ]
  },
  {
   "cell_type": "code",
   "execution_count": 18,
   "id": "cad4f826",
   "metadata": {},
   "outputs": [],
   "source": [
    "from sentence_transformers import evaluation\n",
    "import math\n",
    "\n",
    "\n",
    "def train_and_evaluate(st_model, train_dataloader, test_dataloader, num_epochs,model_save_path):\n",
    "  model = SentenceTransformer(st_model)\n",
    "  #for evaluation\n",
    "  train_loss = losses.SoftmaxLoss(model=model, sentence_embedding_dimension=model.get_sentence_embedding_dimension(), num_labels=2)\n",
    "  #test_evaluator = evaluation.EmbeddingSimilarityEvaluator.from_input_examples(test_examples, batch_size=16, name='SPRAG-test')\n",
    "  x_test_dA = test_data['ReferenceAnswer'].values.tolist()\n",
    "  x_test_sA = test_data['StudentAnswer'].values.tolist()\n",
    "  y_test = test_labels \n",
    "\n",
    "  evaluator = evaluation.BinaryClassificationEvaluator(x_test_dA, x_test_sA, y_test)\n",
    "\n",
    "  #configuring the training\n",
    "  warmup_steps = math.ceil(len(train_dataloader) * num_epochs * 0.1) #10% of train data for warm-up\n",
    "  print(warmup_steps)\n",
    "  #train_loss = losses.CosineSimilarityLoss(model)\n",
    "  model.fit(train_objectives=[(train_dataloader, train_loss)],\n",
    "          evaluator=evaluator,\n",
    "          epochs=num_epochs,\n",
    "          warmup_steps=warmup_steps,\n",
    "          show_progress_bar=True,  \n",
    "          #evaluation_steps=50, \n",
    "          output_path=model_save_path,)\n",
    "  print(\"Training done...\")"
   ]
  },
  {
   "cell_type": "code",
   "execution_count": 19,
   "id": "4d6a71e0",
   "metadata": {},
   "outputs": [
    {
     "name": "stdout",
     "output_type": "stream",
     "text": [
      "2022-09-06 21:54:37 - Load pretrained SentenceTransformer: stsb-distilbert-base\n",
      "2022-09-06 21:54:38 - Use pytorch device: cuda\n",
      "2022-09-06 21:54:38 - Softmax loss: #Vectors concatenated: 3\n",
      "101\n"
     ]
    },
    {
     "data": {
      "application/vnd.jupyter.widget-view+json": {
       "model_id": "0292968d92054e64b629c1d89947fef5",
       "version_major": 2,
       "version_minor": 0
      },
      "text/plain": [
       "Epoch:   0%|          | 0/10 [00:00<?, ?it/s]"
      ]
     },
     "metadata": {},
     "output_type": "display_data"
    },
    {
     "data": {
      "application/vnd.jupyter.widget-view+json": {
       "model_id": "a84b5047cebe4c13b2fa6374798c4206",
       "version_major": 2,
       "version_minor": 0
      },
      "text/plain": [
       "Iteration:   0%|          | 0/101 [00:00<?, ?it/s]"
      ]
     },
     "metadata": {},
     "output_type": "display_data"
    },
    {
     "name": "stdout",
     "output_type": "stream",
     "text": [
      "2022-09-06 21:54:58 - Binary Accuracy Evaluation of the model on  dataset after epoch 0:\n",
      "2022-09-06 21:54:59 - Accuracy with Cosine-Similarity:           75.56\t(Threshold: 0.4625)\n",
      "2022-09-06 21:54:59 - F1 with Cosine-Similarity:                 82.51\t(Threshold: 0.3279)\n",
      "2022-09-06 21:54:59 - Precision with Cosine-Similarity:          72.00\n",
      "2022-09-06 21:54:59 - Recall with Cosine-Similarity:             96.62\n",
      "2022-09-06 21:54:59 - Average Precision with Cosine-Similarity:  88.16\n",
      "\n",
      "2022-09-06 21:54:59 - Accuracy with Manhattan-Distance:           75.44\t(Threshold: 342.1565)\n",
      "2022-09-06 21:54:59 - F1 with Manhattan-Distance:                 82.65\t(Threshold: 392.2606)\n",
      "2022-09-06 21:54:59 - Precision with Manhattan-Distance:          72.77\n",
      "2022-09-06 21:54:59 - Recall with Manhattan-Distance:             95.63\n",
      "2022-09-06 21:54:59 - Average Precision with Manhattan-Distance:  88.49\n",
      "\n",
      "2022-09-06 21:54:59 - Accuracy with Euclidean-Distance:           75.69\t(Threshold: 15.1575)\n",
      "2022-09-06 21:54:59 - F1 with Euclidean-Distance:                 82.35\t(Threshold: 17.7388)\n",
      "2022-09-06 21:54:59 - Precision with Euclidean-Distance:          72.89\n",
      "2022-09-06 21:54:59 - Recall with Euclidean-Distance:             94.63\n",
      "2022-09-06 21:54:59 - Average Precision with Euclidean-Distance:  88.53\n",
      "\n",
      "2022-09-06 21:54:59 - Accuracy with Dot-Product:           75.19\t(Threshold: 113.5660)\n",
      "2022-09-06 21:54:59 - F1 with Dot-Product:                 82.59\t(Threshold: 79.6045)\n",
      "2022-09-06 21:54:59 - Precision with Dot-Product:          72.35\n",
      "2022-09-06 21:54:59 - Recall with Dot-Product:             96.22\n",
      "2022-09-06 21:54:59 - Average Precision with Dot-Product:  86.38\n",
      "\n",
      "2022-09-06 21:54:59 - Save model to binary_sim_output/stsb-distilbert-base\n"
     ]
    },
    {
     "data": {
      "application/vnd.jupyter.widget-view+json": {
       "model_id": "ca5d12902ad5411bb7d5b3933e8ba311",
       "version_major": 2,
       "version_minor": 0
      },
      "text/plain": [
       "Iteration:   0%|          | 0/101 [00:00<?, ?it/s]"
      ]
     },
     "metadata": {},
     "output_type": "display_data"
    },
    {
     "name": "stdout",
     "output_type": "stream",
     "text": [
      "2022-09-06 21:55:14 - Binary Accuracy Evaluation of the model on  dataset after epoch 1:\n",
      "2022-09-06 21:55:15 - Accuracy with Cosine-Similarity:           78.93\t(Threshold: 0.4148)\n",
      "2022-09-06 21:55:15 - F1 with Cosine-Similarity:                 84.65\t(Threshold: 0.3133)\n",
      "2022-09-06 21:55:15 - Precision with Cosine-Similarity:          76.44\n",
      "2022-09-06 21:55:15 - Recall with Cosine-Similarity:             94.83\n",
      "2022-09-06 21:55:15 - Average Precision with Cosine-Similarity:  90.74\n",
      "\n",
      "2022-09-06 21:55:15 - Accuracy with Manhattan-Distance:           78.93\t(Threshold: 375.5246)\n",
      "2022-09-06 21:55:15 - F1 with Manhattan-Distance:                 84.66\t(Threshold: 410.6037)\n",
      "2022-09-06 21:55:15 - Precision with Manhattan-Distance:          75.71\n",
      "2022-09-06 21:55:15 - Recall with Manhattan-Distance:             96.02\n",
      "2022-09-06 21:55:15 - Average Precision with Manhattan-Distance:  90.90\n",
      "\n",
      "2022-09-06 21:55:15 - Accuracy with Euclidean-Distance:           79.18\t(Threshold: 17.1443)\n",
      "2022-09-06 21:55:15 - F1 with Euclidean-Distance:                 84.91\t(Threshold: 18.6975)\n",
      "2022-09-06 21:55:15 - Precision with Euclidean-Distance:          75.98\n",
      "2022-09-06 21:55:15 - Recall with Euclidean-Distance:             96.22\n",
      "2022-09-06 21:55:15 - Average Precision with Euclidean-Distance:  90.92\n",
      "\n",
      "2022-09-06 21:55:15 - Accuracy with Dot-Product:           78.93\t(Threshold: 103.5715)\n",
      "2022-09-06 21:55:15 - F1 with Dot-Product:                 84.51\t(Threshold: 66.9877)\n",
      "2022-09-06 21:55:15 - Precision with Dot-Product:          75.47\n",
      "2022-09-06 21:55:15 - Recall with Dot-Product:             96.02\n",
      "2022-09-06 21:55:15 - Average Precision with Dot-Product:  90.17\n",
      "\n",
      "2022-09-06 21:55:15 - Save model to binary_sim_output/stsb-distilbert-base\n"
     ]
    },
    {
     "data": {
      "application/vnd.jupyter.widget-view+json": {
       "model_id": "b9ee8ee543954938a66294552668ad4f",
       "version_major": 2,
       "version_minor": 0
      },
      "text/plain": [
       "Iteration:   0%|          | 0/101 [00:00<?, ?it/s]"
      ]
     },
     "metadata": {},
     "output_type": "display_data"
    },
    {
     "name": "stdout",
     "output_type": "stream",
     "text": [
      "2022-09-06 21:55:33 - Binary Accuracy Evaluation of the model on  dataset after epoch 2:\n",
      "2022-09-06 21:55:34 - Accuracy with Cosine-Similarity:           80.05\t(Threshold: 0.2635)\n",
      "2022-09-06 21:55:34 - F1 with Cosine-Similarity:                 85.59\t(Threshold: 0.1922)\n",
      "2022-09-06 21:55:34 - Precision with Cosine-Similarity:          76.69\n",
      "2022-09-06 21:55:34 - Recall with Cosine-Similarity:             96.82\n",
      "2022-09-06 21:55:34 - Average Precision with Cosine-Similarity:  91.62\n",
      "\n",
      "2022-09-06 21:55:34 - Accuracy with Manhattan-Distance:           80.92\t(Threshold: 403.3790)\n",
      "2022-09-06 21:55:34 - F1 with Manhattan-Distance:                 85.82\t(Threshold: 403.3790)\n",
      "2022-09-06 21:55:34 - Precision with Manhattan-Distance:          80.38\n",
      "2022-09-06 21:55:34 - Recall with Manhattan-Distance:             92.05\n",
      "2022-09-06 21:55:34 - Average Precision with Manhattan-Distance:  91.75\n",
      "\n",
      "2022-09-06 21:55:34 - Accuracy with Euclidean-Distance:           80.67\t(Threshold: 18.0333)\n",
      "2022-09-06 21:55:34 - F1 with Euclidean-Distance:                 85.61\t(Threshold: 18.3358)\n",
      "2022-09-06 21:55:34 - Precision with Euclidean-Distance:          80.31\n",
      "2022-09-06 21:55:34 - Recall with Euclidean-Distance:             91.65\n",
      "2022-09-06 21:55:34 - Average Precision with Euclidean-Distance:  91.78\n",
      "\n",
      "2022-09-06 21:55:34 - Accuracy with Dot-Product:           80.05\t(Threshold: 60.3951)\n",
      "2022-09-06 21:55:34 - F1 with Dot-Product:                 85.66\t(Threshold: 60.3951)\n",
      "2022-09-06 21:55:34 - Precision with Dot-Product:          77.98\n",
      "2022-09-06 21:55:34 - Recall with Dot-Product:             95.03\n",
      "2022-09-06 21:55:34 - Average Precision with Dot-Product:  91.22\n",
      "\n",
      "2022-09-06 21:55:34 - Save model to binary_sim_output/stsb-distilbert-base\n"
     ]
    },
    {
     "data": {
      "application/vnd.jupyter.widget-view+json": {
       "model_id": "348f9a31fc97475f9413304de7a56e69",
       "version_major": 2,
       "version_minor": 0
      },
      "text/plain": [
       "Iteration:   0%|          | 0/101 [00:00<?, ?it/s]"
      ]
     },
     "metadata": {},
     "output_type": "display_data"
    },
    {
     "name": "stdout",
     "output_type": "stream",
     "text": [
      "2022-09-06 21:55:50 - Binary Accuracy Evaluation of the model on  dataset after epoch 3:\n",
      "2022-09-06 21:55:51 - Accuracy with Cosine-Similarity:           80.67\t(Threshold: 0.2164)\n",
      "2022-09-06 21:55:51 - F1 with Cosine-Similarity:                 85.92\t(Threshold: 0.2099)\n",
      "2022-09-06 21:55:51 - Precision with Cosine-Similarity:          79.10\n",
      "2022-09-06 21:55:51 - Recall with Cosine-Similarity:             94.04\n",
      "2022-09-06 21:55:51 - Average Precision with Cosine-Similarity:  91.47\n",
      "\n",
      "2022-09-06 21:55:51 - Accuracy with Manhattan-Distance:           80.55\t(Threshold: 444.3318)\n",
      "2022-09-06 21:55:51 - F1 with Manhattan-Distance:                 85.97\t(Threshold: 444.3318)\n",
      "2022-09-06 21:55:51 - Precision with Manhattan-Distance:          78.49\n",
      "2022-09-06 21:55:51 - Recall with Manhattan-Distance:             95.03\n",
      "2022-09-06 21:55:51 - Average Precision with Manhattan-Distance:  91.63\n",
      "\n",
      "2022-09-06 21:55:51 - Accuracy with Euclidean-Distance:           80.42\t(Threshold: 19.9933)\n",
      "2022-09-06 21:55:51 - F1 with Euclidean-Distance:                 85.94\t(Threshold: 20.4313)\n",
      "2022-09-06 21:55:51 - Precision with Euclidean-Distance:          78.18\n",
      "2022-09-06 21:55:51 - Recall with Euclidean-Distance:             95.43\n",
      "2022-09-06 21:55:51 - Average Precision with Euclidean-Distance:  91.66\n",
      "\n",
      "2022-09-06 21:55:51 - Accuracy with Dot-Product:           80.67\t(Threshold: 58.4314)\n",
      "2022-09-06 21:55:51 - F1 with Dot-Product:                 85.84\t(Threshold: 52.2023)\n",
      "2022-09-06 21:55:51 - Precision with Dot-Product:          78.96\n",
      "2022-09-06 21:55:51 - Recall with Dot-Product:             94.04\n",
      "2022-09-06 21:55:51 - Average Precision with Dot-Product:  91.10\n",
      "\n"
     ]
    },
    {
     "data": {
      "application/vnd.jupyter.widget-view+json": {
       "model_id": "7195591eea514224ad075ef8d17524f5",
       "version_major": 2,
       "version_minor": 0
      },
      "text/plain": [
       "Iteration:   0%|          | 0/101 [00:00<?, ?it/s]"
      ]
     },
     "metadata": {},
     "output_type": "display_data"
    },
    {
     "name": "stdout",
     "output_type": "stream",
     "text": [
      "2022-09-06 21:56:08 - Binary Accuracy Evaluation of the model on  dataset after epoch 4:\n",
      "2022-09-06 21:56:09 - Accuracy with Cosine-Similarity:           81.05\t(Threshold: 0.3362)\n",
      "2022-09-06 21:56:09 - F1 with Cosine-Similarity:                 86.04\t(Threshold: 0.1265)\n",
      "2022-09-06 21:56:09 - Precision with Cosine-Similarity:          77.81\n",
      "2022-09-06 21:56:09 - Recall with Cosine-Similarity:             96.22\n",
      "2022-09-06 21:56:09 - Average Precision with Cosine-Similarity:  91.76\n",
      "\n",
      "2022-09-06 21:56:09 - Accuracy with Manhattan-Distance:           81.30\t(Threshold: 412.2153)\n",
      "2022-09-06 21:56:09 - F1 with Manhattan-Distance:                 86.43\t(Threshold: 465.0084)\n",
      "2022-09-06 21:56:09 - Precision with Manhattan-Distance:          78.44\n",
      "2022-09-06 21:56:09 - Recall with Manhattan-Distance:             96.22\n",
      "2022-09-06 21:56:09 - Average Precision with Manhattan-Distance:  91.89\n",
      "\n",
      "2022-09-06 21:56:09 - Accuracy with Euclidean-Distance:           81.55\t(Threshold: 18.9065)\n",
      "2022-09-06 21:56:09 - F1 with Euclidean-Distance:                 86.43\t(Threshold: 21.0153)\n",
      "2022-09-06 21:56:09 - Precision with Euclidean-Distance:          78.85\n",
      "2022-09-06 21:56:09 - Recall with Euclidean-Distance:             95.63\n",
      "2022-09-06 21:56:09 - Average Precision with Euclidean-Distance:  91.94\n",
      "\n",
      "2022-09-06 21:56:09 - Accuracy with Dot-Product:           81.05\t(Threshold: 61.2485)\n",
      "2022-09-06 21:56:09 - F1 with Dot-Product:                 85.99\t(Threshold: 31.1857)\n",
      "2022-09-06 21:56:09 - Precision with Dot-Product:          77.60\n",
      "2022-09-06 21:56:09 - Recall with Dot-Product:             96.42\n",
      "2022-09-06 21:56:09 - Average Precision with Dot-Product:  91.47\n",
      "\n",
      "2022-09-06 21:56:09 - Save model to binary_sim_output/stsb-distilbert-base\n"
     ]
    },
    {
     "data": {
      "application/vnd.jupyter.widget-view+json": {
       "model_id": "2f5cc6e1cc0643baacc532e614b8023b",
       "version_major": 2,
       "version_minor": 0
      },
      "text/plain": [
       "Iteration:   0%|          | 0/101 [00:00<?, ?it/s]"
      ]
     },
     "metadata": {},
     "output_type": "display_data"
    },
    {
     "name": "stdout",
     "output_type": "stream",
     "text": [
      "2022-09-06 21:56:26 - Binary Accuracy Evaluation of the model on  dataset after epoch 5:\n",
      "2022-09-06 21:56:27 - Accuracy with Cosine-Similarity:           81.55\t(Threshold: 0.1651)\n",
      "2022-09-06 21:56:27 - F1 with Cosine-Similarity:                 86.42\t(Threshold: 0.1651)\n",
      "2022-09-06 21:56:27 - Precision with Cosine-Similarity:          80.24\n",
      "2022-09-06 21:56:27 - Recall with Cosine-Similarity:             93.64\n",
      "2022-09-06 21:56:27 - Average Precision with Cosine-Similarity:  91.05\n",
      "\n",
      "2022-09-06 21:56:27 - Accuracy with Manhattan-Distance:           81.55\t(Threshold: 457.4250)\n",
      "2022-09-06 21:56:27 - F1 with Manhattan-Distance:                 86.42\t(Threshold: 457.4250)\n",
      "2022-09-06 21:56:27 - Precision with Manhattan-Distance:          80.24\n",
      "2022-09-06 21:56:27 - Recall with Manhattan-Distance:             93.64\n",
      "2022-09-06 21:56:27 - Average Precision with Manhattan-Distance:  91.22\n",
      "\n",
      "2022-09-06 21:56:27 - Accuracy with Euclidean-Distance:           81.55\t(Threshold: 21.0525)\n",
      "2022-09-06 21:56:27 - F1 with Euclidean-Distance:                 86.50\t(Threshold: 21.0525)\n",
      "2022-09-06 21:56:27 - Precision with Euclidean-Distance:          79.93\n",
      "2022-09-06 21:56:27 - Recall with Euclidean-Distance:             94.23\n",
      "2022-09-06 21:56:27 - Average Precision with Euclidean-Distance:  91.24\n",
      "\n",
      "2022-09-06 21:56:27 - Accuracy with Dot-Product:           81.55\t(Threshold: 46.8815)\n",
      "2022-09-06 21:56:27 - F1 with Dot-Product:                 86.47\t(Threshold: 39.2543)\n",
      "2022-09-06 21:56:27 - Precision with Dot-Product:          80.03\n",
      "2022-09-06 21:56:27 - Recall with Dot-Product:             94.04\n",
      "2022-09-06 21:56:27 - Average Precision with Dot-Product:  90.70\n",
      "\n"
     ]
    },
    {
     "data": {
      "application/vnd.jupyter.widget-view+json": {
       "model_id": "f8176257b4ed49e9970d84b5fa3dde3b",
       "version_major": 2,
       "version_minor": 0
      },
      "text/plain": [
       "Iteration:   0%|          | 0/101 [00:00<?, ?it/s]"
      ]
     },
     "metadata": {},
     "output_type": "display_data"
    },
    {
     "name": "stdout",
     "output_type": "stream",
     "text": [
      "2022-09-06 21:56:43 - Binary Accuracy Evaluation of the model on  dataset after epoch 6:\n",
      "2022-09-06 21:56:44 - Accuracy with Cosine-Similarity:           81.17\t(Threshold: 0.1861)\n",
      "2022-09-06 21:56:44 - F1 with Cosine-Similarity:                 86.11\t(Threshold: 0.1861)\n",
      "2022-09-06 21:56:44 - Precision with Cosine-Similarity:          80.14\n",
      "2022-09-06 21:56:44 - Recall with Cosine-Similarity:             93.04\n",
      "2022-09-06 21:56:44 - Average Precision with Cosine-Similarity:  90.90\n",
      "\n",
      "2022-09-06 21:56:44 - Accuracy with Manhattan-Distance:           81.17\t(Threshold: 437.7562)\n",
      "2022-09-06 21:56:44 - F1 with Manhattan-Distance:                 86.11\t(Threshold: 457.6835)\n",
      "2022-09-06 21:56:44 - Precision with Manhattan-Distance:          80.14\n",
      "2022-09-06 21:56:44 - Recall with Manhattan-Distance:             93.04\n",
      "2022-09-06 21:56:44 - Average Precision with Manhattan-Distance:  90.98\n",
      "\n",
      "2022-09-06 21:56:44 - Accuracy with Euclidean-Distance:           81.55\t(Threshold: 20.5196)\n",
      "2022-09-06 21:56:44 - F1 with Euclidean-Distance:                 86.32\t(Threshold: 20.5196)\n",
      "2022-09-06 21:56:44 - Precision with Euclidean-Distance:          80.66\n",
      "2022-09-06 21:56:44 - Recall with Euclidean-Distance:             92.84\n",
      "2022-09-06 21:56:44 - Average Precision with Euclidean-Distance:  91.04\n",
      "\n",
      "2022-09-06 21:56:44 - Accuracy with Dot-Product:           81.17\t(Threshold: 49.2062)\n",
      "2022-09-06 21:56:44 - F1 with Dot-Product:                 86.11\t(Threshold: 49.2062)\n",
      "2022-09-06 21:56:44 - Precision with Dot-Product:          80.14\n",
      "2022-09-06 21:56:44 - Recall with Dot-Product:             93.04\n",
      "2022-09-06 21:56:44 - Average Precision with Dot-Product:  90.55\n",
      "\n"
     ]
    },
    {
     "data": {
      "application/vnd.jupyter.widget-view+json": {
       "model_id": "4a917d2eba164d9ab68aec58a2919ab3",
       "version_major": 2,
       "version_minor": 0
      },
      "text/plain": [
       "Iteration:   0%|          | 0/101 [00:00<?, ?it/s]"
      ]
     },
     "metadata": {},
     "output_type": "display_data"
    },
    {
     "name": "stdout",
     "output_type": "stream",
     "text": [
      "2022-09-06 21:57:00 - Binary Accuracy Evaluation of the model on  dataset after epoch 7:\n",
      "2022-09-06 21:57:01 - Accuracy with Cosine-Similarity:           80.92\t(Threshold: 0.2051)\n",
      "2022-09-06 21:57:01 - F1 with Cosine-Similarity:                 85.79\t(Threshold: 0.0401)\n",
      "2022-09-06 21:57:01 - Precision with Cosine-Similarity:          78.33\n",
      "2022-09-06 21:57:01 - Recall with Cosine-Similarity:             94.83\n",
      "2022-09-06 21:57:01 - Average Precision with Cosine-Similarity:  90.71\n",
      "\n",
      "2022-09-06 21:57:01 - Accuracy with Manhattan-Distance:           81.17\t(Threshold: 455.0645)\n",
      "2022-09-06 21:57:01 - F1 with Manhattan-Distance:                 86.02\t(Threshold: 493.6718)\n",
      "2022-09-06 21:57:01 - Precision with Manhattan-Distance:          78.71\n",
      "2022-09-06 21:57:01 - Recall with Manhattan-Distance:             94.83\n",
      "2022-09-06 21:57:01 - Average Precision with Manhattan-Distance:  90.79\n",
      "\n",
      "2022-09-06 21:57:01 - Accuracy with Euclidean-Distance:           81.05\t(Threshold: 20.8879)\n",
      "2022-09-06 21:57:01 - F1 with Euclidean-Distance:                 86.00\t(Threshold: 22.3499)\n",
      "2022-09-06 21:57:01 - Precision with Euclidean-Distance:          78.81\n",
      "2022-09-06 21:57:01 - Recall with Euclidean-Distance:             94.63\n",
      "2022-09-06 21:57:01 - Average Precision with Euclidean-Distance:  90.84\n",
      "\n",
      "2022-09-06 21:57:01 - Accuracy with Dot-Product:           80.80\t(Threshold: 58.4337)\n",
      "2022-09-06 21:57:01 - F1 with Dot-Product:                 85.77\t(Threshold: 13.1217)\n",
      "2022-09-06 21:57:01 - Precision with Dot-Product:          78.42\n",
      "2022-09-06 21:57:01 - Recall with Dot-Product:             94.63\n",
      "2022-09-06 21:57:01 - Average Precision with Dot-Product:  90.33\n",
      "\n"
     ]
    },
    {
     "data": {
      "application/vnd.jupyter.widget-view+json": {
       "model_id": "18230efe6fbe4e488366389e75d9be0b",
       "version_major": 2,
       "version_minor": 0
      },
      "text/plain": [
       "Iteration:   0%|          | 0/101 [00:00<?, ?it/s]"
      ]
     },
     "metadata": {},
     "output_type": "display_data"
    },
    {
     "name": "stdout",
     "output_type": "stream",
     "text": [
      "2022-09-06 21:57:18 - Binary Accuracy Evaluation of the model on  dataset after epoch 8:\n",
      "2022-09-06 21:57:19 - Accuracy with Cosine-Similarity:           80.92\t(Threshold: 0.2144)\n",
      "2022-09-06 21:57:19 - F1 with Cosine-Similarity:                 85.77\t(Threshold: 0.0287)\n",
      "2022-09-06 21:57:19 - Precision with Cosine-Similarity:          78.42\n",
      "2022-09-06 21:57:19 - Recall with Cosine-Similarity:             94.63\n",
      "2022-09-06 21:57:19 - Average Precision with Cosine-Similarity:  90.70\n",
      "\n",
      "2022-09-06 21:57:19 - Accuracy with Manhattan-Distance:           81.42\t(Threshold: 454.4614)\n",
      "2022-09-06 21:57:19 - F1 with Manhattan-Distance:                 86.06\t(Threshold: 456.1006)\n",
      "2022-09-06 21:57:19 - Precision with Manhattan-Distance:          81.27\n",
      "2022-09-06 21:57:19 - Recall with Manhattan-Distance:             91.45\n",
      "2022-09-06 21:57:19 - Average Precision with Manhattan-Distance:  90.81\n",
      "\n",
      "2022-09-06 21:57:19 - Accuracy with Euclidean-Distance:           81.30\t(Threshold: 20.5470)\n",
      "2022-09-06 21:57:19 - F1 with Euclidean-Distance:                 85.98\t(Threshold: 21.7430)\n",
      "2022-09-06 21:57:19 - Precision with Euclidean-Distance:          79.76\n",
      "2022-09-06 21:57:19 - Recall with Euclidean-Distance:             93.24\n",
      "2022-09-06 21:57:19 - Average Precision with Euclidean-Distance:  90.84\n",
      "\n",
      "2022-09-06 21:57:19 - Accuracy with Dot-Product:           81.05\t(Threshold: 55.6601)\n",
      "2022-09-06 21:57:19 - F1 with Dot-Product:                 85.77\t(Threshold: 7.5664)\n",
      "2022-09-06 21:57:19 - Precision with Dot-Product:          78.42\n",
      "2022-09-06 21:57:19 - Recall with Dot-Product:             94.63\n",
      "2022-09-06 21:57:19 - Average Precision with Dot-Product:  90.32\n",
      "\n"
     ]
    },
    {
     "data": {
      "application/vnd.jupyter.widget-view+json": {
       "model_id": "5678b6cf9b3d443cbcd4fb5fc98ed7ec",
       "version_major": 2,
       "version_minor": 0
      },
      "text/plain": [
       "Iteration:   0%|          | 0/101 [00:00<?, ?it/s]"
      ]
     },
     "metadata": {},
     "output_type": "display_data"
    },
    {
     "name": "stdout",
     "output_type": "stream",
     "text": [
      "2022-09-06 21:57:35 - Binary Accuracy Evaluation of the model on  dataset after epoch 9:\n",
      "2022-09-06 21:57:36 - Accuracy with Cosine-Similarity:           80.92\t(Threshold: 0.2122)\n",
      "2022-09-06 21:57:36 - F1 with Cosine-Similarity:                 85.74\t(Threshold: 0.1296)\n",
      "2022-09-06 21:57:36 - Precision with Cosine-Similarity:          79.79\n",
      "2022-09-06 21:57:36 - Recall with Cosine-Similarity:             92.64\n",
      "2022-09-06 21:57:36 - Average Precision with Cosine-Similarity:  90.58\n",
      "\n",
      "2022-09-06 21:57:36 - Accuracy with Manhattan-Distance:           81.30\t(Threshold: 455.7488)\n",
      "2022-09-06 21:57:36 - F1 with Manhattan-Distance:                 86.03\t(Threshold: 462.2429)\n",
      "2022-09-06 21:57:36 - Precision with Manhattan-Distance:          80.91\n",
      "2022-09-06 21:57:36 - Recall with Manhattan-Distance:             91.85\n",
      "2022-09-06 21:57:36 - Average Precision with Manhattan-Distance:  90.70\n",
      "\n",
      "2022-09-06 21:57:36 - Accuracy with Euclidean-Distance:           81.17\t(Threshold: 20.5663)\n",
      "2022-09-06 21:57:36 - F1 with Euclidean-Distance:                 86.05\t(Threshold: 22.5534)\n",
      "2022-09-06 21:57:36 - Precision with Euclidean-Distance:          79.03\n",
      "2022-09-06 21:57:36 - Recall with Euclidean-Distance:             94.43\n",
      "2022-09-06 21:57:36 - Average Precision with Euclidean-Distance:  90.72\n",
      "\n",
      "2022-09-06 21:57:36 - Accuracy with Dot-Product:           80.80\t(Threshold: 55.5294)\n",
      "2022-09-06 21:57:36 - F1 with Dot-Product:                 85.74\t(Threshold: 13.6181)\n",
      "2022-09-06 21:57:36 - Precision with Dot-Product:          78.51\n",
      "2022-09-06 21:57:36 - Recall with Dot-Product:             94.43\n",
      "2022-09-06 21:57:36 - Average Precision with Dot-Product:  90.25\n",
      "\n",
      "Training done...\n",
      "\n",
      "\n",
      "\n",
      "                     ********** stsb-distilbert-base **********\n",
      "2022-09-06 21:57:36 - Load pretrained SentenceTransformer: binary_sim_output/stsb-distilbert-base\n",
      "2022-09-06 21:57:37 - Use pytorch device: cuda\n",
      "2022-09-06 21:57:37 - Softmax loss: #Vectors concatenated: 3\n",
      "2022-09-06 21:57:37 - EmbeddingSimilarityEvaluator: Evaluating the model on SPRAG-test dataset:\n",
      "2022-09-06 21:57:39 - Cosine-Similarity :\tPearson: 0.6501\tSpearman: 0.6273\n",
      "2022-09-06 21:57:39 - Manhattan-Distance:\tPearson: 0.6294\tSpearman: 0.6310\n",
      "2022-09-06 21:57:39 - Euclidean-Distance:\tPearson: 0.6323\tSpearman: 0.6322\n",
      "2022-09-06 21:57:39 - Dot-Product-Similarity:\tPearson: 0.6450\tSpearman: 0.6224\n",
      "2022-09-06 21:57:39 - Binary Accuracy Evaluation of the model on  dataset:\n",
      "2022-09-06 21:57:40 - Accuracy with Cosine-Similarity:           81.05\t(Threshold: 0.3362)\n",
      "2022-09-06 21:57:40 - F1 with Cosine-Similarity:                 86.04\t(Threshold: 0.1265)\n",
      "2022-09-06 21:57:40 - Precision with Cosine-Similarity:          77.81\n",
      "2022-09-06 21:57:40 - Recall with Cosine-Similarity:             96.22\n",
      "2022-09-06 21:57:40 - Average Precision with Cosine-Similarity:  91.76\n",
      "\n",
      "2022-09-06 21:57:40 - Accuracy with Manhattan-Distance:           81.30\t(Threshold: 412.2153)\n",
      "2022-09-06 21:57:40 - F1 with Manhattan-Distance:                 86.43\t(Threshold: 465.0084)\n",
      "2022-09-06 21:57:40 - Precision with Manhattan-Distance:          78.44\n",
      "2022-09-06 21:57:40 - Recall with Manhattan-Distance:             96.22\n",
      "2022-09-06 21:57:40 - Average Precision with Manhattan-Distance:  91.89\n",
      "\n",
      "2022-09-06 21:57:40 - Accuracy with Euclidean-Distance:           81.55\t(Threshold: 18.9065)\n",
      "2022-09-06 21:57:40 - F1 with Euclidean-Distance:                 86.43\t(Threshold: 21.0153)\n",
      "2022-09-06 21:57:40 - Precision with Euclidean-Distance:          78.85\n",
      "2022-09-06 21:57:40 - Recall with Euclidean-Distance:             95.63\n",
      "2022-09-06 21:57:40 - Average Precision with Euclidean-Distance:  91.94\n",
      "\n",
      "2022-09-06 21:57:40 - Accuracy with Dot-Product:           81.05\t(Threshold: 61.2485)\n",
      "2022-09-06 21:57:40 - F1 with Dot-Product:                 85.99\t(Threshold: 31.1857)\n",
      "2022-09-06 21:57:40 - Precision with Dot-Product:          77.60\n",
      "2022-09-06 21:57:40 - Recall with Dot-Product:             96.42\n",
      "2022-09-06 21:57:40 - Average Precision with Dot-Product:  91.47\n",
      "\n"
     ]
    },
    {
     "data": {
      "text/plain": [
       "0.9193768466669205"
      ]
     },
     "execution_count": 19,
     "metadata": {},
     "output_type": "execute_result"
    }
   ],
   "source": [
    "st_model = 'stsb-distilbert-base'\n",
    "num_epochs = 10\n",
    "batch_size=16\n",
    "model_save_path = \"binary_sim_output/\"+st_model\n",
    "train_dataloader = DataLoader(train_examples, shuffle=True, batch_size=batch_size)\n",
    "  \n",
    "test_dataloader = DataLoader(test_examples, shuffle=True, batch_size=batch_size)\n",
    "model = train_and_evaluate(st_model, train_dataloader, test_dataloader, num_epochs, model_save_path)\n",
    "print(\"\\n\\n\")\n",
    "print(\" \"*20, \"*\"*10, st_model , \"*\"*10)\n",
    "\n",
    "# Load the stored model and evaluate its performance on mohler test dataset\n",
    "model = SentenceTransformer(model_save_path)\n",
    "train_loss = losses.SoftmaxLoss(model=model, sentence_embedding_dimension=model.get_sentence_embedding_dimension(), num_labels=2)\n",
    "test_evaluator = evaluation.EmbeddingSimilarityEvaluator.from_input_examples(test_examples, batch_size=16, name='SPRAG-test')\n",
    "test_evaluator(model, output_path=model_save_path)\n",
    "train_loss.cuda()\n",
    "\n",
    "x_test_dA = test_data['ReferenceAnswer'].values.tolist()\n",
    "x_test_sA = test_data['StudentAnswer'].values.tolist()\n",
    "y_test = test_labels \n",
    "\n",
    "evaluator = evaluation.BinaryClassificationEvaluator(x_test_dA, x_test_sA, y_test)\n",
    "evaluator(model, output_path=model_save_path)\n"
   ]
  },
  {
   "cell_type": "code",
   "execution_count": 20,
   "id": "28ca7d4f",
   "metadata": {},
   "outputs": [
    {
     "name": "stdout",
     "output_type": "stream",
     "text": [
      "2022-09-06 21:57:40 - Load pretrained SentenceTransformer: sentence-transformers/paraphrase-albert-small-v2\n",
      "2022-09-06 21:57:40 - Use pytorch device: cuda\n",
      "2022-09-06 21:57:40 - Softmax loss: #Vectors concatenated: 3\n",
      "101\n"
     ]
    },
    {
     "data": {
      "application/vnd.jupyter.widget-view+json": {
       "model_id": "d744821a65a14c76a58f7201fefd2afd",
       "version_major": 2,
       "version_minor": 0
      },
      "text/plain": [
       "Epoch:   0%|          | 0/10 [00:00<?, ?it/s]"
      ]
     },
     "metadata": {},
     "output_type": "display_data"
    },
    {
     "data": {
      "application/vnd.jupyter.widget-view+json": {
       "model_id": "8ae1ebcd22f1484ebfaede2362a5ab37",
       "version_major": 2,
       "version_minor": 0
      },
      "text/plain": [
       "Iteration:   0%|          | 0/101 [00:00<?, ?it/s]"
      ]
     },
     "metadata": {},
     "output_type": "display_data"
    },
    {
     "name": "stdout",
     "output_type": "stream",
     "text": [
      "2022-09-06 21:57:57 - Binary Accuracy Evaluation of the model on  dataset after epoch 0:\n",
      "2022-09-06 21:57:58 - Accuracy with Cosine-Similarity:           74.56\t(Threshold: 0.5491)\n",
      "2022-09-06 21:57:58 - F1 with Cosine-Similarity:                 81.11\t(Threshold: 0.3682)\n",
      "2022-09-06 21:57:58 - Precision with Cosine-Similarity:          71.89\n",
      "2022-09-06 21:57:58 - Recall with Cosine-Similarity:             93.04\n",
      "2022-09-06 21:57:58 - Average Precision with Cosine-Similarity:  87.10\n",
      "\n",
      "2022-09-06 21:57:58 - Accuracy with Manhattan-Distance:           73.57\t(Threshold: 450.3566)\n",
      "2022-09-06 21:57:58 - F1 with Manhattan-Distance:                 80.33\t(Threshold: 516.3202)\n",
      "2022-09-06 21:57:58 - Precision with Manhattan-Distance:          68.34\n",
      "2022-09-06 21:57:58 - Recall with Manhattan-Distance:             97.42\n",
      "2022-09-06 21:57:58 - Average Precision with Manhattan-Distance:  85.97\n",
      "\n",
      "2022-09-06 21:57:58 - Accuracy with Euclidean-Distance:           73.57\t(Threshold: 20.4476)\n",
      "2022-09-06 21:57:58 - F1 with Euclidean-Distance:                 80.49\t(Threshold: 21.5511)\n",
      "2022-09-06 21:57:58 - Precision with Euclidean-Distance:          72.38\n",
      "2022-09-06 21:57:58 - Recall with Euclidean-Distance:             90.66\n",
      "2022-09-06 21:57:58 - Average Precision with Euclidean-Distance:  86.05\n",
      "\n",
      "2022-09-06 21:57:58 - Accuracy with Dot-Product:           72.19\t(Threshold: 180.0549)\n",
      "2022-09-06 21:57:58 - F1 with Dot-Product:                 80.68\t(Threshold: 115.3932)\n",
      "2022-09-06 21:57:58 - Precision with Dot-Product:          70.31\n",
      "2022-09-06 21:57:58 - Recall with Dot-Product:             94.63\n",
      "2022-09-06 21:57:58 - Average Precision with Dot-Product:  83.89\n",
      "\n",
      "2022-09-06 21:57:58 - Save model to binary_sim_output/sentence-transformers/paraphrase-albert-small-v2\n"
     ]
    },
    {
     "data": {
      "application/vnd.jupyter.widget-view+json": {
       "model_id": "b822f63d0a9c460ca98567630b7e78b7",
       "version_major": 2,
       "version_minor": 0
      },
      "text/plain": [
       "Iteration:   0%|          | 0/101 [00:00<?, ?it/s]"
      ]
     },
     "metadata": {},
     "output_type": "display_data"
    },
    {
     "name": "stdout",
     "output_type": "stream",
     "text": [
      "2022-09-06 21:58:14 - Binary Accuracy Evaluation of the model on  dataset after epoch 1:\n",
      "2022-09-06 21:58:16 - Accuracy with Cosine-Similarity:           77.68\t(Threshold: 0.4408)\n",
      "2022-09-06 21:58:16 - F1 with Cosine-Similarity:                 83.53\t(Threshold: 0.4388)\n",
      "2022-09-06 21:58:16 - Precision with Cosine-Similarity:          77.74\n",
      "2022-09-06 21:58:16 - Recall with Cosine-Similarity:             90.26\n",
      "2022-09-06 21:58:16 - Average Precision with Cosine-Similarity:  88.80\n",
      "\n",
      "2022-09-06 21:58:16 - Accuracy with Manhattan-Distance:           77.18\t(Threshold: 570.0612)\n",
      "2022-09-06 21:58:16 - F1 with Manhattan-Distance:                 83.23\t(Threshold: 576.8286)\n",
      "2022-09-06 21:58:16 - Precision with Manhattan-Distance:          76.50\n",
      "2022-09-06 21:58:16 - Recall with Manhattan-Distance:             91.25\n",
      "2022-09-06 21:58:16 - Average Precision with Manhattan-Distance:  88.25\n",
      "\n",
      "2022-09-06 21:58:16 - Accuracy with Euclidean-Distance:           77.43\t(Threshold: 25.3370)\n",
      "2022-09-06 21:58:16 - F1 with Euclidean-Distance:                 83.04\t(Threshold: 26.7843)\n",
      "2022-09-06 21:58:16 - Precision with Euclidean-Distance:          74.10\n",
      "2022-09-06 21:58:16 - Recall with Euclidean-Distance:             94.43\n",
      "2022-09-06 21:58:16 - Average Precision with Euclidean-Distance:  88.40\n",
      "\n",
      "2022-09-06 21:58:16 - Accuracy with Dot-Product:           76.06\t(Threshold: 281.9169)\n",
      "2022-09-06 21:58:16 - F1 with Dot-Product:                 82.02\t(Threshold: 222.6121)\n",
      "2022-09-06 21:58:16 - Precision with Dot-Product:          73.96\n",
      "2022-09-06 21:58:16 - Recall with Dot-Product:             92.05\n",
      "2022-09-06 21:58:16 - Average Precision with Dot-Product:  87.10\n",
      "\n",
      "2022-09-06 21:58:16 - Save model to binary_sim_output/sentence-transformers/paraphrase-albert-small-v2\n"
     ]
    },
    {
     "data": {
      "application/vnd.jupyter.widget-view+json": {
       "model_id": "527f29db582746d0977a855fcfaebda3",
       "version_major": 2,
       "version_minor": 0
      },
      "text/plain": [
       "Iteration:   0%|          | 0/101 [00:00<?, ?it/s]"
      ]
     },
     "metadata": {},
     "output_type": "display_data"
    },
    {
     "name": "stdout",
     "output_type": "stream",
     "text": [
      "2022-09-06 21:58:32 - Binary Accuracy Evaluation of the model on  dataset after epoch 2:\n",
      "2022-09-06 21:58:34 - Accuracy with Cosine-Similarity:           78.18\t(Threshold: 0.4096)\n",
      "2022-09-06 21:58:34 - F1 with Cosine-Similarity:                 83.78\t(Threshold: 0.3905)\n",
      "2022-09-06 21:58:34 - Precision with Cosine-Similarity:          77.72\n",
      "2022-09-06 21:58:34 - Recall with Cosine-Similarity:             90.85\n",
      "2022-09-06 21:58:34 - Average Precision with Cosine-Similarity:  88.90\n",
      "\n",
      "2022-09-06 21:58:34 - Accuracy with Manhattan-Distance:           77.93\t(Threshold: 636.0503)\n",
      "2022-09-06 21:58:34 - F1 with Manhattan-Distance:                 83.81\t(Threshold: 644.1801)\n",
      "2022-09-06 21:58:34 - Precision with Manhattan-Distance:          77.63\n",
      "2022-09-06 21:58:34 - Recall with Manhattan-Distance:             91.05\n",
      "2022-09-06 21:58:34 - Average Precision with Manhattan-Distance:  88.63\n",
      "\n",
      "2022-09-06 21:58:34 - Accuracy with Euclidean-Distance:           77.56\t(Threshold: 28.9566)\n",
      "2022-09-06 21:58:34 - F1 with Euclidean-Distance:                 83.39\t(Threshold: 28.9566)\n",
      "2022-09-06 21:58:34 - Precision with Euclidean-Distance:          77.80\n",
      "2022-09-06 21:58:34 - Recall with Euclidean-Distance:             89.86\n",
      "2022-09-06 21:58:34 - Average Precision with Euclidean-Distance:  88.69\n",
      "\n",
      "2022-09-06 21:58:34 - Accuracy with Dot-Product:           77.68\t(Threshold: 286.0997)\n",
      "2022-09-06 21:58:34 - F1 with Dot-Product:                 83.48\t(Threshold: 251.9958)\n",
      "2022-09-06 21:58:34 - Precision with Dot-Product:          76.79\n",
      "2022-09-06 21:58:34 - Recall with Dot-Product:             91.45\n",
      "2022-09-06 21:58:34 - Average Precision with Dot-Product:  87.66\n",
      "\n",
      "2022-09-06 21:58:34 - Save model to binary_sim_output/sentence-transformers/paraphrase-albert-small-v2\n"
     ]
    },
    {
     "data": {
      "application/vnd.jupyter.widget-view+json": {
       "model_id": "c4704b8f974c47b98d73963e50ca7405",
       "version_major": 2,
       "version_minor": 0
      },
      "text/plain": [
       "Iteration:   0%|          | 0/101 [00:00<?, ?it/s]"
      ]
     },
     "metadata": {},
     "output_type": "display_data"
    },
    {
     "name": "stdout",
     "output_type": "stream",
     "text": [
      "2022-09-06 21:58:50 - Binary Accuracy Evaluation of the model on  dataset after epoch 3:\n",
      "2022-09-06 21:58:51 - Accuracy with Cosine-Similarity:           79.43\t(Threshold: 0.3941)\n",
      "2022-09-06 21:58:51 - F1 with Cosine-Similarity:                 84.60\t(Threshold: 0.3419)\n",
      "2022-09-06 21:58:51 - Precision with Cosine-Similarity:          77.70\n",
      "2022-09-06 21:58:51 - Recall with Cosine-Similarity:             92.84\n",
      "2022-09-06 21:58:51 - Average Precision with Cosine-Similarity:  89.78\n",
      "\n",
      "2022-09-06 21:58:51 - Accuracy with Manhattan-Distance:           79.55\t(Threshold: 676.6406)\n",
      "2022-09-06 21:58:51 - F1 with Manhattan-Distance:                 84.84\t(Threshold: 676.6406)\n",
      "2022-09-06 21:58:51 - Precision with Manhattan-Distance:          79.27\n",
      "2022-09-06 21:58:51 - Recall with Manhattan-Distance:             91.25\n",
      "2022-09-06 21:58:51 - Average Precision with Manhattan-Distance:  89.74\n",
      "\n",
      "2022-09-06 21:58:51 - Accuracy with Euclidean-Distance:           79.18\t(Threshold: 30.8372)\n",
      "2022-09-06 21:58:51 - F1 with Euclidean-Distance:                 84.67\t(Threshold: 32.0778)\n",
      "2022-09-06 21:58:51 - Precision with Euclidean-Distance:          76.74\n",
      "2022-09-06 21:58:51 - Recall with Euclidean-Distance:             94.43\n",
      "2022-09-06 21:58:51 - Average Precision with Euclidean-Distance:  89.77\n",
      "\n",
      "2022-09-06 21:58:51 - Accuracy with Dot-Product:           79.18\t(Threshold: 318.8169)\n",
      "2022-09-06 21:58:51 - F1 with Dot-Product:                 84.34\t(Threshold: 273.4388)\n",
      "2022-09-06 21:58:51 - Precision with Dot-Product:          78.99\n",
      "2022-09-06 21:58:51 - Recall with Dot-Product:             90.46\n",
      "2022-09-06 21:58:51 - Average Precision with Dot-Product:  88.86\n",
      "\n",
      "2022-09-06 21:58:51 - Save model to binary_sim_output/sentence-transformers/paraphrase-albert-small-v2\n"
     ]
    },
    {
     "data": {
      "application/vnd.jupyter.widget-view+json": {
       "model_id": "f2eca69f682c46ffa4687a509ba837cb",
       "version_major": 2,
       "version_minor": 0
      },
      "text/plain": [
       "Iteration:   0%|          | 0/101 [00:00<?, ?it/s]"
      ]
     },
     "metadata": {},
     "output_type": "display_data"
    },
    {
     "name": "stdout",
     "output_type": "stream",
     "text": [
      "2022-09-06 21:59:08 - Binary Accuracy Evaluation of the model on  dataset after epoch 4:\n",
      "2022-09-06 21:59:09 - Accuracy with Cosine-Similarity:           79.30\t(Threshold: 0.3782)\n",
      "2022-09-06 21:59:09 - F1 with Cosine-Similarity:                 84.49\t(Threshold: 0.3477)\n",
      "2022-09-06 21:59:09 - Precision with Cosine-Similarity:          79.27\n",
      "2022-09-06 21:59:09 - Recall with Cosine-Similarity:             90.46\n",
      "2022-09-06 21:59:09 - Average Precision with Cosine-Similarity:  89.71\n",
      "\n",
      "2022-09-06 21:59:09 - Accuracy with Manhattan-Distance:           79.05\t(Threshold: 707.1788)\n",
      "2022-09-06 21:59:09 - F1 with Manhattan-Distance:                 84.56\t(Threshold: 739.5284)\n",
      "2022-09-06 21:59:09 - Precision with Manhattan-Distance:          77.09\n",
      "2022-09-06 21:59:09 - Recall with Manhattan-Distance:             93.64\n",
      "2022-09-06 21:59:09 - Average Precision with Manhattan-Distance:  90.02\n",
      "\n",
      "2022-09-06 21:59:09 - Accuracy with Euclidean-Distance:           79.05\t(Threshold: 32.2870)\n",
      "2022-09-06 21:59:09 - F1 with Euclidean-Distance:                 84.61\t(Threshold: 33.5319)\n",
      "2022-09-06 21:59:09 - Precision with Euclidean-Distance:          77.30\n",
      "2022-09-06 21:59:09 - Recall with Euclidean-Distance:             93.44\n",
      "2022-09-06 21:59:09 - Average Precision with Euclidean-Distance:  89.98\n",
      "\n",
      "2022-09-06 21:59:09 - Accuracy with Dot-Product:           78.80\t(Threshold: 266.0153)\n",
      "2022-09-06 21:59:09 - F1 with Dot-Product:                 84.37\t(Threshold: 266.0153)\n",
      "2022-09-06 21:59:09 - Precision with Dot-Product:          78.46\n",
      "2022-09-06 21:59:09 - Recall with Dot-Product:             91.25\n",
      "2022-09-06 21:59:09 - Average Precision with Dot-Product:  88.76\n",
      "\n",
      "2022-09-06 21:59:09 - Save model to binary_sim_output/sentence-transformers/paraphrase-albert-small-v2\n"
     ]
    },
    {
     "data": {
      "application/vnd.jupyter.widget-view+json": {
       "model_id": "3a0075c62cbb45948e76d051cd6b5bc4",
       "version_major": 2,
       "version_minor": 0
      },
      "text/plain": [
       "Iteration:   0%|          | 0/101 [00:00<?, ?it/s]"
      ]
     },
     "metadata": {},
     "output_type": "display_data"
    },
    {
     "name": "stdout",
     "output_type": "stream",
     "text": [
      "2022-09-06 21:59:26 - Binary Accuracy Evaluation of the model on  dataset after epoch 5:\n",
      "2022-09-06 21:59:27 - Accuracy with Cosine-Similarity:           78.93\t(Threshold: 0.2661)\n",
      "2022-09-06 21:59:27 - F1 with Cosine-Similarity:                 84.65\t(Threshold: 0.2415)\n",
      "2022-09-06 21:59:27 - Precision with Cosine-Similarity:          77.93\n",
      "2022-09-06 21:59:27 - Recall with Cosine-Similarity:             92.64\n",
      "2022-09-06 21:59:27 - Average Precision with Cosine-Similarity:  89.92\n",
      "\n",
      "2022-09-06 21:59:27 - Accuracy with Manhattan-Distance:           78.68\t(Threshold: 739.3045)\n",
      "2022-09-06 21:59:27 - F1 with Manhattan-Distance:                 84.53\t(Threshold: 796.8097)\n",
      "2022-09-06 21:59:27 - Precision with Manhattan-Distance:          77.18\n",
      "2022-09-06 21:59:27 - Recall with Manhattan-Distance:             93.44\n",
      "2022-09-06 21:59:27 - Average Precision with Manhattan-Distance:  90.22\n",
      "\n",
      "2022-09-06 21:59:27 - Accuracy with Euclidean-Distance:           78.68\t(Threshold: 33.7109)\n",
      "2022-09-06 21:59:27 - F1 with Euclidean-Distance:                 84.17\t(Threshold: 37.2606)\n",
      "2022-09-06 21:59:27 - Precision with Euclidean-Distance:          75.80\n",
      "2022-09-06 21:59:27 - Recall with Euclidean-Distance:             94.63\n",
      "2022-09-06 21:59:27 - Average Precision with Euclidean-Distance:  90.16\n",
      "\n",
      "2022-09-06 21:59:27 - Accuracy with Dot-Product:           78.93\t(Threshold: 235.4802)\n",
      "2022-09-06 21:59:27 - F1 with Dot-Product:                 84.51\t(Threshold: 220.8296)\n",
      "2022-09-06 21:59:27 - Precision with Dot-Product:          78.40\n",
      "2022-09-06 21:59:27 - Recall with Dot-Product:             91.65\n",
      "2022-09-06 21:59:27 - Average Precision with Dot-Product:  89.06\n",
      "\n",
      "2022-09-06 21:59:27 - Save model to binary_sim_output/sentence-transformers/paraphrase-albert-small-v2\n"
     ]
    },
    {
     "data": {
      "application/vnd.jupyter.widget-view+json": {
       "model_id": "df388beb78e04f9489dc78a33621c5d7",
       "version_major": 2,
       "version_minor": 0
      },
      "text/plain": [
       "Iteration:   0%|          | 0/101 [00:00<?, ?it/s]"
      ]
     },
     "metadata": {},
     "output_type": "display_data"
    },
    {
     "name": "stdout",
     "output_type": "stream",
     "text": [
      "2022-09-06 21:59:41 - Binary Accuracy Evaluation of the model on  dataset after epoch 6:\n",
      "2022-09-06 21:59:42 - Accuracy with Cosine-Similarity:           78.80\t(Threshold: 0.3055)\n",
      "2022-09-06 21:59:42 - F1 with Cosine-Similarity:                 84.48\t(Threshold: 0.2482)\n",
      "2022-09-06 21:59:42 - Precision with Cosine-Similarity:          77.36\n",
      "2022-09-06 21:59:42 - Recall with Cosine-Similarity:             93.04\n",
      "2022-09-06 21:59:42 - Average Precision with Cosine-Similarity:  89.48\n",
      "\n",
      "2022-09-06 21:59:42 - Accuracy with Manhattan-Distance:           79.43\t(Threshold: 755.2386)\n",
      "2022-09-06 21:59:42 - F1 with Manhattan-Distance:                 84.57\t(Threshold: 755.2386)\n",
      "2022-09-06 21:59:42 - Precision with Manhattan-Distance:          79.86\n",
      "2022-09-06 21:59:42 - Recall with Manhattan-Distance:             89.86\n",
      "2022-09-06 21:59:42 - Average Precision with Manhattan-Distance:  89.81\n",
      "\n",
      "2022-09-06 21:59:42 - Accuracy with Euclidean-Distance:           79.05\t(Threshold: 34.4817)\n",
      "2022-09-06 21:59:42 - F1 with Euclidean-Distance:                 84.39\t(Threshold: 34.7171)\n",
      "2022-09-06 21:59:42 - Precision with Euclidean-Distance:          79.23\n",
      "2022-09-06 21:59:42 - Recall with Euclidean-Distance:             90.26\n",
      "2022-09-06 21:59:42 - Average Precision with Euclidean-Distance:  89.75\n",
      "\n",
      "2022-09-06 21:59:42 - Accuracy with Dot-Product:           78.68\t(Threshold: 252.3237)\n",
      "2022-09-06 21:59:42 - F1 with Dot-Product:                 84.46\t(Threshold: 207.0634)\n",
      "2022-09-06 21:59:42 - Precision with Dot-Product:          77.05\n",
      "2022-09-06 21:59:42 - Recall with Dot-Product:             93.44\n",
      "2022-09-06 21:59:42 - Average Precision with Dot-Product:  88.61\n",
      "\n"
     ]
    },
    {
     "data": {
      "application/vnd.jupyter.widget-view+json": {
       "model_id": "a884e03db8cd49ca9b7a0eea892a7c79",
       "version_major": 2,
       "version_minor": 0
      },
      "text/plain": [
       "Iteration:   0%|          | 0/101 [00:00<?, ?it/s]"
      ]
     },
     "metadata": {},
     "output_type": "display_data"
    },
    {
     "name": "stdout",
     "output_type": "stream",
     "text": [
      "2022-09-06 21:59:59 - Binary Accuracy Evaluation of the model on  dataset after epoch 7:\n",
      "2022-09-06 22:00:00 - Accuracy with Cosine-Similarity:           79.05\t(Threshold: 0.2268)\n",
      "2022-09-06 22:00:00 - F1 with Cosine-Similarity:                 84.73\t(Threshold: 0.2268)\n",
      "2022-09-06 22:00:00 - Precision with Cosine-Similarity:          78.06\n",
      "2022-09-06 22:00:00 - Recall with Cosine-Similarity:             92.64\n",
      "2022-09-06 22:00:00 - Average Precision with Cosine-Similarity:  89.65\n",
      "\n",
      "2022-09-06 22:00:00 - Accuracy with Manhattan-Distance:           78.80\t(Threshold: 794.8715)\n",
      "2022-09-06 22:00:00 - F1 with Manhattan-Distance:                 84.53\t(Threshold: 819.5441)\n",
      "2022-09-06 22:00:00 - Precision with Manhattan-Distance:          77.18\n",
      "2022-09-06 22:00:00 - Recall with Manhattan-Distance:             93.44\n",
      "2022-09-06 22:00:00 - Average Precision with Manhattan-Distance:  89.90\n",
      "\n",
      "2022-09-06 22:00:00 - Accuracy with Euclidean-Distance:           78.68\t(Threshold: 36.9973)\n",
      "2022-09-06 22:00:00 - F1 with Euclidean-Distance:                 84.47\t(Threshold: 36.9973)\n",
      "2022-09-06 22:00:00 - Precision with Euclidean-Distance:          77.76\n",
      "2022-09-06 22:00:00 - Recall with Euclidean-Distance:             92.45\n",
      "2022-09-06 22:00:00 - Average Precision with Euclidean-Distance:  89.87\n",
      "\n",
      "2022-09-06 22:00:00 - Accuracy with Dot-Product:           79.18\t(Threshold: 200.5576)\n",
      "2022-09-06 22:00:00 - F1 with Dot-Product:                 84.80\t(Threshold: 200.5576)\n",
      "2022-09-06 22:00:00 - Precision with Dot-Product:          78.19\n",
      "2022-09-06 22:00:00 - Recall with Dot-Product:             92.64\n",
      "2022-09-06 22:00:00 - Average Precision with Dot-Product:  88.78\n",
      "\n"
     ]
    },
    {
     "data": {
      "application/vnd.jupyter.widget-view+json": {
       "model_id": "b2cdddbb6f51476e80695a12b0d55ff9",
       "version_major": 2,
       "version_minor": 0
      },
      "text/plain": [
       "Iteration:   0%|          | 0/101 [00:00<?, ?it/s]"
      ]
     },
     "metadata": {},
     "output_type": "display_data"
    },
    {
     "name": "stdout",
     "output_type": "stream",
     "text": [
      "2022-09-06 22:00:17 - Binary Accuracy Evaluation of the model on  dataset after epoch 8:\n",
      "2022-09-06 22:00:18 - Accuracy with Cosine-Similarity:           79.05\t(Threshold: 0.2298)\n",
      "2022-09-06 22:00:18 - F1 with Cosine-Similarity:                 84.68\t(Threshold: 0.2180)\n",
      "2022-09-06 22:00:18 - Precision with Cosine-Similarity:          77.83\n",
      "2022-09-06 22:00:18 - Recall with Cosine-Similarity:             92.84\n",
      "2022-09-06 22:00:18 - Average Precision with Cosine-Similarity:  89.79\n",
      "\n",
      "2022-09-06 22:00:18 - Accuracy with Manhattan-Distance:           79.05\t(Threshold: 785.2786)\n",
      "2022-09-06 22:00:18 - F1 with Manhattan-Distance:                 84.42\t(Threshold: 785.2786)\n",
      "2022-09-06 22:00:18 - Precision with Manhattan-Distance:          79.13\n",
      "2022-09-06 22:00:18 - Recall with Manhattan-Distance:             90.46\n",
      "2022-09-06 22:00:18 - Average Precision with Manhattan-Distance:  90.04\n",
      "\n",
      "2022-09-06 22:00:18 - Accuracy with Euclidean-Distance:           79.05\t(Threshold: 35.7062)\n",
      "2022-09-06 22:00:18 - F1 with Euclidean-Distance:                 84.33\t(Threshold: 35.7062)\n",
      "2022-09-06 22:00:18 - Precision with Euclidean-Distance:          79.44\n",
      "2022-09-06 22:00:18 - Recall with Euclidean-Distance:             89.86\n",
      "2022-09-06 22:00:18 - Average Precision with Euclidean-Distance:  90.00\n",
      "\n",
      "2022-09-06 22:00:18 - Accuracy with Dot-Product:           78.68\t(Threshold: 206.7628)\n",
      "2022-09-06 22:00:18 - F1 with Dot-Product:                 84.45\t(Threshold: 190.3419)\n",
      "2022-09-06 22:00:18 - Precision with Dot-Product:          77.45\n",
      "2022-09-06 22:00:18 - Recall with Dot-Product:             92.84\n",
      "2022-09-06 22:00:18 - Average Precision with Dot-Product:  88.92\n",
      "\n"
     ]
    },
    {
     "data": {
      "application/vnd.jupyter.widget-view+json": {
       "model_id": "d30d4aa01e04456ba72cbb895909d4b8",
       "version_major": 2,
       "version_minor": 0
      },
      "text/plain": [
       "Iteration:   0%|          | 0/101 [00:00<?, ?it/s]"
      ]
     },
     "metadata": {},
     "output_type": "display_data"
    },
    {
     "name": "stdout",
     "output_type": "stream",
     "text": [
      "2022-09-06 22:00:34 - Binary Accuracy Evaluation of the model on  dataset after epoch 9:\n",
      "2022-09-06 22:00:35 - Accuracy with Cosine-Similarity:           78.80\t(Threshold: 0.2531)\n",
      "2022-09-06 22:00:35 - F1 with Cosine-Similarity:                 84.47\t(Threshold: 0.2415)\n",
      "2022-09-06 22:00:35 - Precision with Cosine-Similarity:          77.76\n",
      "2022-09-06 22:00:35 - Recall with Cosine-Similarity:             92.45\n",
      "2022-09-06 22:00:35 - Average Precision with Cosine-Similarity:  89.74\n",
      "\n",
      "2022-09-06 22:00:35 - Accuracy with Manhattan-Distance:           78.80\t(Threshold: 755.9061)\n",
      "2022-09-06 22:00:35 - F1 with Manhattan-Distance:                 84.26\t(Threshold: 802.8584)\n",
      "2022-09-06 22:00:35 - Precision with Manhattan-Distance:          77.68\n",
      "2022-09-06 22:00:35 - Recall with Manhattan-Distance:             92.05\n",
      "2022-09-06 22:00:35 - Average Precision with Manhattan-Distance:  90.02\n",
      "\n",
      "2022-09-06 22:00:35 - Accuracy with Euclidean-Distance:           79.18\t(Threshold: 35.4177)\n",
      "2022-09-06 22:00:35 - F1 with Euclidean-Distance:                 84.41\t(Threshold: 35.4177)\n",
      "2022-09-06 22:00:35 - Precision with Euclidean-Distance:          79.58\n",
      "2022-09-06 22:00:35 - Recall with Euclidean-Distance:             89.86\n",
      "2022-09-06 22:00:35 - Average Precision with Euclidean-Distance:  89.96\n",
      "\n",
      "2022-09-06 22:00:35 - Accuracy with Dot-Product:           78.68\t(Threshold: 234.5905)\n",
      "2022-09-06 22:00:35 - F1 with Dot-Product:                 84.33\t(Threshold: 226.8431)\n",
      "2022-09-06 22:00:35 - Precision with Dot-Product:          78.23\n",
      "2022-09-06 22:00:35 - Recall with Dot-Product:             91.45\n",
      "2022-09-06 22:00:35 - Average Precision with Dot-Product:  88.87\n",
      "\n",
      "Training done...\n",
      "\n",
      "\n",
      "\n",
      "                     ********** sentence-transformers/paraphrase-albert-small-v2 **********\n",
      "2022-09-06 22:00:35 - Load pretrained SentenceTransformer: binary_sim_output/sentence-transformers/paraphrase-albert-small-v2\n",
      "2022-09-06 22:00:35 - Use pytorch device: cuda\n",
      "2022-09-06 22:00:35 - Softmax loss: #Vectors concatenated: 3\n",
      "2022-09-06 22:00:35 - EmbeddingSimilarityEvaluator: Evaluating the model on SPRAG-test dataset:\n",
      "2022-09-06 22:00:38 - Cosine-Similarity :\tPearson: 0.5996\tSpearman: 0.5872\n",
      "2022-09-06 22:00:38 - Manhattan-Distance:\tPearson: 0.5662\tSpearman: 0.5920\n",
      "2022-09-06 22:00:38 - Euclidean-Distance:\tPearson: 0.5660\tSpearman: 0.5909\n",
      "2022-09-06 22:00:38 - Dot-Product-Similarity:\tPearson: 0.5877\tSpearman: 0.5769\n",
      "2022-09-06 22:00:38 - Binary Accuracy Evaluation of the model on  dataset:\n",
      "2022-09-06 22:00:39 - Accuracy with Cosine-Similarity:           78.93\t(Threshold: 0.2661)\n",
      "2022-09-06 22:00:39 - F1 with Cosine-Similarity:                 84.65\t(Threshold: 0.2415)\n",
      "2022-09-06 22:00:39 - Precision with Cosine-Similarity:          77.93\n",
      "2022-09-06 22:00:39 - Recall with Cosine-Similarity:             92.64\n",
      "2022-09-06 22:00:39 - Average Precision with Cosine-Similarity:  89.92\n",
      "\n",
      "2022-09-06 22:00:39 - Accuracy with Manhattan-Distance:           78.68\t(Threshold: 739.3045)\n",
      "2022-09-06 22:00:39 - F1 with Manhattan-Distance:                 84.53\t(Threshold: 796.8097)\n",
      "2022-09-06 22:00:39 - Precision with Manhattan-Distance:          77.18\n",
      "2022-09-06 22:00:39 - Recall with Manhattan-Distance:             93.44\n",
      "2022-09-06 22:00:39 - Average Precision with Manhattan-Distance:  90.22\n",
      "\n",
      "2022-09-06 22:00:39 - Accuracy with Euclidean-Distance:           78.68\t(Threshold: 33.7109)\n",
      "2022-09-06 22:00:39 - F1 with Euclidean-Distance:                 84.17\t(Threshold: 37.2606)\n",
      "2022-09-06 22:00:39 - Precision with Euclidean-Distance:          75.80\n",
      "2022-09-06 22:00:39 - Recall with Euclidean-Distance:             94.63\n",
      "2022-09-06 22:00:39 - Average Precision with Euclidean-Distance:  90.16\n",
      "\n",
      "2022-09-06 22:00:39 - Accuracy with Dot-Product:           78.93\t(Threshold: 235.4802)\n",
      "2022-09-06 22:00:39 - F1 with Dot-Product:                 84.51\t(Threshold: 220.8296)\n",
      "2022-09-06 22:00:39 - Precision with Dot-Product:          78.40\n",
      "2022-09-06 22:00:39 - Recall with Dot-Product:             91.65\n",
      "2022-09-06 22:00:39 - Average Precision with Dot-Product:  89.06\n",
      "\n"
     ]
    },
    {
     "data": {
      "text/plain": [
       "0.9021889584080882"
      ]
     },
     "execution_count": 20,
     "metadata": {},
     "output_type": "execute_result"
    }
   ],
   "source": [
    "st_model = 'sentence-transformers/paraphrase-albert-small-v2'\n",
    "num_epochs = 10\n",
    "batch_size=16\n",
    "model_save_path = \"binary_sim_output/\"+st_model\n",
    "train_dataloader = DataLoader(train_examples, shuffle=True, batch_size=batch_size)\n",
    "  \n",
    "test_dataloader = DataLoader(test_examples, shuffle=True, batch_size=batch_size)\n",
    "model = train_and_evaluate(st_model, train_dataloader, test_dataloader, num_epochs, model_save_path)\n",
    "print(\"\\n\\n\")\n",
    "print(\" \"*20, \"*\"*10, st_model , \"*\"*10)\n",
    "\n",
    "# Load the stored model and evaluate its performance on mohler test dataset\n",
    "model = SentenceTransformer(model_save_path)\n",
    "train_loss = losses.SoftmaxLoss(model=model, sentence_embedding_dimension=model.get_sentence_embedding_dimension(), num_labels=2)\n",
    "test_evaluator = evaluation.EmbeddingSimilarityEvaluator.from_input_examples(test_examples, batch_size=16, name='SPRAG-test')\n",
    "test_evaluator(model, output_path=model_save_path)\n",
    "train_loss.cuda()\n",
    "\n",
    "x_test_dA = test_data['ReferenceAnswer'].values.tolist()\n",
    "x_test_sA = test_data['StudentAnswer'].values.tolist()\n",
    "y_test = test_labels \n",
    "\n",
    "evaluator = evaluation.BinaryClassificationEvaluator(x_test_dA, x_test_sA, y_test)\n",
    "evaluator(model, output_path=model_save_path)\n"
   ]
  },
  {
   "cell_type": "code",
   "execution_count": 21,
   "id": "513f89bc",
   "metadata": {},
   "outputs": [
    {
     "name": "stdout",
     "output_type": "stream",
     "text": [
      "2022-09-06 22:00:39 - Load pretrained SentenceTransformer: sentence-transformers/quora-distilbert-base\n",
      "2022-09-06 22:00:40 - Use pytorch device: cuda\n",
      "2022-09-06 22:00:40 - Softmax loss: #Vectors concatenated: 3\n",
      "101\n"
     ]
    },
    {
     "data": {
      "application/vnd.jupyter.widget-view+json": {
       "model_id": "78c1caf94ea74098bd6354d468b9a468",
       "version_major": 2,
       "version_minor": 0
      },
      "text/plain": [
       "Epoch:   0%|          | 0/10 [00:00<?, ?it/s]"
      ]
     },
     "metadata": {},
     "output_type": "display_data"
    },
    {
     "data": {
      "application/vnd.jupyter.widget-view+json": {
       "model_id": "86158eb3466e4af391646c178022a433",
       "version_major": 2,
       "version_minor": 0
      },
      "text/plain": [
       "Iteration:   0%|          | 0/101 [00:00<?, ?it/s]"
      ]
     },
     "metadata": {},
     "output_type": "display_data"
    },
    {
     "name": "stdout",
     "output_type": "stream",
     "text": [
      "2022-09-06 22:00:57 - Binary Accuracy Evaluation of the model on  dataset after epoch 0:\n",
      "2022-09-06 22:00:58 - Accuracy with Cosine-Similarity:           77.68\t(Threshold: 0.4200)\n",
      "2022-09-06 22:00:58 - F1 with Cosine-Similarity:                 83.66\t(Threshold: 0.3370)\n",
      "2022-09-06 22:00:58 - Precision with Cosine-Similarity:          74.96\n",
      "2022-09-06 22:00:58 - Recall with Cosine-Similarity:             94.63\n",
      "2022-09-06 22:00:58 - Average Precision with Cosine-Similarity:  89.26\n",
      "\n",
      "2022-09-06 22:00:58 - Accuracy with Manhattan-Distance:           75.69\t(Threshold: 303.6355)\n",
      "2022-09-06 22:00:58 - F1 with Manhattan-Distance:                 82.56\t(Threshold: 333.9176)\n",
      "2022-09-06 22:00:58 - Precision with Manhattan-Distance:          73.82\n",
      "2022-09-06 22:00:58 - Recall with Manhattan-Distance:             93.64\n",
      "2022-09-06 22:00:58 - Average Precision with Manhattan-Distance:  88.01\n",
      "\n",
      "2022-09-06 22:00:58 - Accuracy with Euclidean-Distance:           76.18\t(Threshold: 14.2974)\n",
      "2022-09-06 22:00:58 - F1 with Euclidean-Distance:                 82.29\t(Threshold: 15.2445)\n",
      "2022-09-06 22:00:58 - Precision with Euclidean-Distance:          74.80\n",
      "2022-09-06 22:00:58 - Recall with Euclidean-Distance:             91.45\n",
      "2022-09-06 22:00:58 - Average Precision with Euclidean-Distance:  87.92\n",
      "\n",
      "2022-09-06 22:00:58 - Accuracy with Dot-Product:           77.31\t(Threshold: 81.3817)\n",
      "2022-09-06 22:00:58 - F1 with Dot-Product:                 83.38\t(Threshold: 50.3180)\n",
      "2022-09-06 22:00:58 - Precision with Dot-Product:          74.76\n",
      "2022-09-06 22:00:58 - Recall with Dot-Product:             94.23\n",
      "2022-09-06 22:00:58 - Average Precision with Dot-Product:  88.08\n",
      "\n",
      "2022-09-06 22:00:58 - Save model to binary_sim_output/sentence-transformers/quora-distilbert-base\n"
     ]
    },
    {
     "data": {
      "application/vnd.jupyter.widget-view+json": {
       "model_id": "2cfa4c47c39d494c80944a5a0f18b69c",
       "version_major": 2,
       "version_minor": 0
      },
      "text/plain": [
       "Iteration:   0%|          | 0/101 [00:00<?, ?it/s]"
      ]
     },
     "metadata": {},
     "output_type": "display_data"
    },
    {
     "name": "stdout",
     "output_type": "stream",
     "text": [
      "2022-09-06 22:01:15 - Binary Accuracy Evaluation of the model on  dataset after epoch 1:\n",
      "2022-09-06 22:01:16 - Accuracy with Cosine-Similarity:           79.30\t(Threshold: 0.4481)\n",
      "2022-09-06 22:01:16 - F1 with Cosine-Similarity:                 84.86\t(Threshold: 0.3771)\n",
      "2022-09-06 22:01:16 - Precision with Cosine-Similarity:          77.59\n",
      "2022-09-06 22:01:16 - Recall with Cosine-Similarity:             93.64\n",
      "2022-09-06 22:01:16 - Average Precision with Cosine-Similarity:  90.84\n",
      "\n",
      "2022-09-06 22:01:16 - Accuracy with Manhattan-Distance:           78.55\t(Threshold: 314.2039)\n",
      "2022-09-06 22:01:16 - F1 with Manhattan-Distance:                 84.14\t(Threshold: 327.7853)\n",
      "2022-09-06 22:01:16 - Precision with Manhattan-Distance:          78.06\n",
      "2022-09-06 22:01:16 - Recall with Manhattan-Distance:             91.25\n",
      "2022-09-06 22:01:16 - Average Precision with Manhattan-Distance:  89.30\n",
      "\n",
      "2022-09-06 22:01:16 - Accuracy with Euclidean-Distance:           78.43\t(Threshold: 14.6100)\n",
      "2022-09-06 22:01:16 - F1 with Euclidean-Distance:                 84.19\t(Threshold: 15.6868)\n",
      "2022-09-06 22:01:16 - Precision with Euclidean-Distance:          76.08\n",
      "2022-09-06 22:01:16 - Recall with Euclidean-Distance:             94.23\n",
      "2022-09-06 22:01:16 - Average Precision with Euclidean-Distance:  89.38\n",
      "\n",
      "2022-09-06 22:01:16 - Accuracy with Dot-Product:           79.55\t(Threshold: 87.4466)\n",
      "2022-09-06 22:01:16 - F1 with Dot-Product:                 84.59\t(Threshold: 53.2391)\n",
      "2022-09-06 22:01:16 - Precision with Dot-Product:          75.59\n",
      "2022-09-06 22:01:16 - Recall with Dot-Product:             96.02\n",
      "2022-09-06 22:01:16 - Average Precision with Dot-Product:  90.27\n",
      "\n",
      "2022-09-06 22:01:16 - Save model to binary_sim_output/sentence-transformers/quora-distilbert-base\n"
     ]
    },
    {
     "data": {
      "application/vnd.jupyter.widget-view+json": {
       "model_id": "2899ac78dcf146979b0de7460f7b42b2",
       "version_major": 2,
       "version_minor": 0
      },
      "text/plain": [
       "Iteration:   0%|          | 0/101 [00:00<?, ?it/s]"
      ]
     },
     "metadata": {},
     "output_type": "display_data"
    },
    {
     "name": "stdout",
     "output_type": "stream",
     "text": [
      "2022-09-06 22:01:33 - Binary Accuracy Evaluation of the model on  dataset after epoch 2:\n",
      "2022-09-06 22:01:34 - Accuracy with Cosine-Similarity:           80.30\t(Threshold: 0.5524)\n",
      "2022-09-06 22:01:34 - F1 with Cosine-Similarity:                 85.25\t(Threshold: 0.3828)\n",
      "2022-09-06 22:01:34 - Precision with Cosine-Similarity:          77.83\n",
      "2022-09-06 22:01:34 - Recall with Cosine-Similarity:             94.23\n",
      "2022-09-06 22:01:34 - Average Precision with Cosine-Similarity:  90.90\n",
      "\n",
      "2022-09-06 22:01:34 - Accuracy with Manhattan-Distance:           79.68\t(Threshold: 317.2371)\n",
      "2022-09-06 22:01:34 - F1 with Manhattan-Distance:                 85.28\t(Threshold: 361.4917)\n",
      "2022-09-06 22:01:34 - Precision with Manhattan-Distance:          76.96\n",
      "2022-09-06 22:01:34 - Recall with Manhattan-Distance:             95.63\n",
      "2022-09-06 22:01:34 - Average Precision with Manhattan-Distance:  90.51\n",
      "\n",
      "2022-09-06 22:01:34 - Accuracy with Euclidean-Distance:           79.93\t(Threshold: 16.0863)\n",
      "2022-09-06 22:01:34 - F1 with Euclidean-Distance:                 85.44\t(Threshold: 17.0800)\n",
      "2022-09-06 22:01:34 - Precision with Euclidean-Distance:          76.09\n",
      "2022-09-06 22:01:34 - Recall with Euclidean-Distance:             97.42\n",
      "2022-09-06 22:01:34 - Average Precision with Euclidean-Distance:  90.61\n",
      "\n",
      "2022-09-06 22:01:34 - Accuracy with Dot-Product:           80.42\t(Threshold: 117.7451)\n",
      "2022-09-06 22:01:34 - F1 with Dot-Product:                 84.84\t(Threshold: 80.2860)\n",
      "2022-09-06 22:01:34 - Precision with Dot-Product:          77.29\n",
      "2022-09-06 22:01:34 - Recall with Dot-Product:             94.04\n",
      "2022-09-06 22:01:34 - Average Precision with Dot-Product:  90.41\n",
      "\n",
      "2022-09-06 22:01:34 - Save model to binary_sim_output/sentence-transformers/quora-distilbert-base\n"
     ]
    },
    {
     "data": {
      "application/vnd.jupyter.widget-view+json": {
       "model_id": "1a66d0ead78a4654aee6cb2ef396c285",
       "version_major": 2,
       "version_minor": 0
      },
      "text/plain": [
       "Iteration:   0%|          | 0/101 [00:00<?, ?it/s]"
      ]
     },
     "metadata": {},
     "output_type": "display_data"
    },
    {
     "name": "stdout",
     "output_type": "stream",
     "text": [
      "2022-09-06 22:01:52 - Binary Accuracy Evaluation of the model on  dataset after epoch 3:\n",
      "2022-09-06 22:01:53 - Accuracy with Cosine-Similarity:           81.42\t(Threshold: 0.4202)\n",
      "2022-09-06 22:01:53 - F1 with Cosine-Similarity:                 85.74\t(Threshold: 0.3844)\n",
      "2022-09-06 22:01:53 - Precision with Cosine-Similarity:          81.65\n",
      "2022-09-06 22:01:53 - Recall with Cosine-Similarity:             90.26\n",
      "2022-09-06 22:01:53 - Average Precision with Cosine-Similarity:  91.46\n",
      "\n",
      "2022-09-06 22:01:53 - Accuracy with Manhattan-Distance:           81.55\t(Threshold: 356.7481)\n",
      "2022-09-06 22:01:53 - F1 with Manhattan-Distance:                 86.01\t(Threshold: 356.7481)\n",
      "2022-09-06 22:01:53 - Precision with Manhattan-Distance:          81.98\n",
      "2022-09-06 22:01:53 - Recall with Manhattan-Distance:             90.46\n",
      "2022-09-06 22:01:53 - Average Precision with Manhattan-Distance:  90.66\n",
      "\n",
      "2022-09-06 22:01:53 - Accuracy with Euclidean-Distance:           81.05\t(Threshold: 16.2796)\n",
      "2022-09-06 22:01:53 - F1 with Euclidean-Distance:                 85.66\t(Threshold: 16.7129)\n",
      "2022-09-06 22:01:53 - Precision with Euclidean-Distance:          80.56\n",
      "2022-09-06 22:01:53 - Recall with Euclidean-Distance:             91.45\n",
      "2022-09-06 22:01:53 - Average Precision with Euclidean-Distance:  90.82\n",
      "\n",
      "2022-09-06 22:01:53 - Accuracy with Dot-Product:           81.30\t(Threshold: 90.5009)\n",
      "2022-09-06 22:01:53 - F1 with Dot-Product:                 85.71\t(Threshold: 87.0431)\n",
      "2022-09-06 22:01:53 - Precision with Dot-Product:          82.27\n",
      "2022-09-06 22:01:53 - Recall with Dot-Product:             89.46\n",
      "2022-09-06 22:01:53 - Average Precision with Dot-Product:  91.26\n",
      "\n",
      "2022-09-06 22:01:53 - Save model to binary_sim_output/sentence-transformers/quora-distilbert-base\n"
     ]
    },
    {
     "data": {
      "application/vnd.jupyter.widget-view+json": {
       "model_id": "0fc61468d9b6450995328df6704497ed",
       "version_major": 2,
       "version_minor": 0
      },
      "text/plain": [
       "Iteration:   0%|          | 0/101 [00:00<?, ?it/s]"
      ]
     },
     "metadata": {},
     "output_type": "display_data"
    },
    {
     "name": "stdout",
     "output_type": "stream",
     "text": [
      "2022-09-06 22:02:10 - Binary Accuracy Evaluation of the model on  dataset after epoch 4:\n",
      "2022-09-06 22:02:11 - Accuracy with Cosine-Similarity:           80.42\t(Threshold: 0.2851)\n",
      "2022-09-06 22:02:11 - F1 with Cosine-Similarity:                 85.28\t(Threshold: 0.1309)\n",
      "2022-09-06 22:02:11 - Precision with Cosine-Similarity:          77.74\n",
      "2022-09-06 22:02:11 - Recall with Cosine-Similarity:             94.43\n",
      "2022-09-06 22:02:11 - Average Precision with Cosine-Similarity:  91.14\n",
      "\n",
      "2022-09-06 22:02:11 - Accuracy with Manhattan-Distance:           78.93\t(Threshold: 356.7703)\n",
      "2022-09-06 22:02:11 - F1 with Manhattan-Distance:                 84.71\t(Threshold: 410.8347)\n",
      "2022-09-06 22:02:11 - Precision with Manhattan-Distance:          77.34\n",
      "2022-09-06 22:02:11 - Recall with Manhattan-Distance:             93.64\n",
      "2022-09-06 22:02:11 - Average Precision with Manhattan-Distance:  90.20\n",
      "\n",
      "2022-09-06 22:02:11 - Accuracy with Euclidean-Distance:           79.30\t(Threshold: 16.6515)\n",
      "2022-09-06 22:02:11 - F1 with Euclidean-Distance:                 84.90\t(Threshold: 19.1752)\n",
      "2022-09-06 22:02:11 - Precision with Euclidean-Distance:          77.11\n",
      "2022-09-06 22:02:11 - Recall with Euclidean-Distance:             94.43\n",
      "2022-09-06 22:02:11 - Average Precision with Euclidean-Distance:  90.28\n",
      "\n",
      "2022-09-06 22:02:11 - Accuracy with Dot-Product:           80.80\t(Threshold: 78.6881)\n",
      "2022-09-06 22:02:11 - F1 with Dot-Product:                 85.35\t(Threshold: 33.0865)\n",
      "2022-09-06 22:02:11 - Precision with Dot-Product:          78.69\n",
      "2022-09-06 22:02:11 - Recall with Dot-Product:             93.24\n",
      "2022-09-06 22:02:11 - Average Precision with Dot-Product:  91.08\n",
      "\n"
     ]
    },
    {
     "data": {
      "application/vnd.jupyter.widget-view+json": {
       "model_id": "13b21860747449beb60ea68694ea8b9e",
       "version_major": 2,
       "version_minor": 0
      },
      "text/plain": [
       "Iteration:   0%|          | 0/101 [00:00<?, ?it/s]"
      ]
     },
     "metadata": {},
     "output_type": "display_data"
    },
    {
     "name": "stdout",
     "output_type": "stream",
     "text": [
      "2022-09-06 22:02:28 - Binary Accuracy Evaluation of the model on  dataset after epoch 5:\n",
      "2022-09-06 22:02:29 - Accuracy with Cosine-Similarity:           80.55\t(Threshold: 0.2873)\n",
      "2022-09-06 22:02:29 - F1 with Cosine-Similarity:                 85.69\t(Threshold: 0.2873)\n",
      "2022-09-06 22:02:29 - Precision with Cosine-Similarity:          79.56\n",
      "2022-09-06 22:02:29 - Recall with Cosine-Similarity:             92.84\n",
      "2022-09-06 22:02:29 - Average Precision with Cosine-Similarity:  91.17\n",
      "\n",
      "2022-09-06 22:02:29 - Accuracy with Manhattan-Distance:           80.17\t(Threshold: 381.2548)\n",
      "2022-09-06 22:02:29 - F1 with Manhattan-Distance:                 85.46\t(Threshold: 426.4202)\n",
      "2022-09-06 22:02:29 - Precision with Manhattan-Distance:          77.12\n",
      "2022-09-06 22:02:29 - Recall with Manhattan-Distance:             95.83\n",
      "2022-09-06 22:02:29 - Average Precision with Manhattan-Distance:  91.08\n",
      "\n",
      "2022-09-06 22:02:29 - Accuracy with Euclidean-Distance:           80.67\t(Threshold: 18.3308)\n",
      "2022-09-06 22:02:29 - F1 with Euclidean-Distance:                 85.74\t(Threshold: 18.3308)\n",
      "2022-09-06 22:02:29 - Precision with Euclidean-Distance:          79.79\n",
      "2022-09-06 22:02:29 - Recall with Euclidean-Distance:             92.64\n",
      "2022-09-06 22:02:29 - Average Precision with Euclidean-Distance:  91.16\n",
      "\n",
      "2022-09-06 22:02:29 - Accuracy with Dot-Product:           80.30\t(Threshold: 82.0024)\n",
      "2022-09-06 22:02:29 - F1 with Dot-Product:                 85.58\t(Threshold: 60.1475)\n",
      "2022-09-06 22:02:29 - Precision with Dot-Product:          79.09\n",
      "2022-09-06 22:02:29 - Recall with Dot-Product:             93.24\n",
      "2022-09-06 22:02:29 - Average Precision with Dot-Product:  90.94\n",
      "\n"
     ]
    },
    {
     "data": {
      "application/vnd.jupyter.widget-view+json": {
       "model_id": "b6b1069fd9f44db3b6302827e93e7ac9",
       "version_major": 2,
       "version_minor": 0
      },
      "text/plain": [
       "Iteration:   0%|          | 0/101 [00:00<?, ?it/s]"
      ]
     },
     "metadata": {},
     "output_type": "display_data"
    },
    {
     "name": "stdout",
     "output_type": "stream",
     "text": [
      "2022-09-06 22:02:45 - Binary Accuracy Evaluation of the model on  dataset after epoch 6:\n",
      "2022-09-06 22:02:46 - Accuracy with Cosine-Similarity:           80.67\t(Threshold: 0.2740)\n",
      "2022-09-06 22:02:46 - F1 with Cosine-Similarity:                 85.42\t(Threshold: 0.2421)\n",
      "2022-09-06 22:02:46 - Precision with Cosine-Similarity:          81.07\n",
      "2022-09-06 22:02:46 - Recall with Cosine-Similarity:             90.26\n",
      "2022-09-06 22:02:46 - Average Precision with Cosine-Similarity:  90.96\n",
      "\n",
      "2022-09-06 22:02:46 - Accuracy with Manhattan-Distance:           79.68\t(Threshold: 418.6246)\n",
      "2022-09-06 22:02:46 - F1 with Manhattan-Distance:                 84.95\t(Threshold: 422.5316)\n",
      "2022-09-06 22:02:46 - Precision with Manhattan-Distance:          79.31\n",
      "2022-09-06 22:02:46 - Recall with Manhattan-Distance:             91.45\n",
      "2022-09-06 22:02:46 - Average Precision with Manhattan-Distance:  90.81\n",
      "\n",
      "2022-09-06 22:02:46 - Accuracy with Euclidean-Distance:           80.30\t(Threshold: 18.5835)\n",
      "2022-09-06 22:02:46 - F1 with Euclidean-Distance:                 85.23\t(Threshold: 19.0485)\n",
      "2022-09-06 22:02:46 - Precision with Euclidean-Distance:          80.42\n",
      "2022-09-06 22:02:46 - Recall with Euclidean-Distance:             90.66\n",
      "2022-09-06 22:02:46 - Average Precision with Euclidean-Distance:  90.89\n",
      "\n",
      "2022-09-06 22:02:46 - Accuracy with Dot-Product:           80.30\t(Threshold: 75.1979)\n",
      "2022-09-06 22:02:46 - F1 with Dot-Product:                 85.29\t(Threshold: 40.5969)\n",
      "2022-09-06 22:02:46 - Precision with Dot-Product:          79.32\n",
      "2022-09-06 22:02:46 - Recall with Dot-Product:             92.25\n",
      "2022-09-06 22:02:46 - Average Precision with Dot-Product:  90.78\n",
      "\n"
     ]
    },
    {
     "data": {
      "application/vnd.jupyter.widget-view+json": {
       "model_id": "c3865d8a5a5b4bc28ae44e9f424c3e2f",
       "version_major": 2,
       "version_minor": 0
      },
      "text/plain": [
       "Iteration:   0%|          | 0/101 [00:00<?, ?it/s]"
      ]
     },
     "metadata": {},
     "output_type": "display_data"
    },
    {
     "name": "stdout",
     "output_type": "stream",
     "text": [
      "2022-09-06 22:03:03 - Binary Accuracy Evaluation of the model on  dataset after epoch 7:\n",
      "2022-09-06 22:03:04 - Accuracy with Cosine-Similarity:           80.80\t(Threshold: 0.2788)\n",
      "2022-09-06 22:03:04 - F1 with Cosine-Similarity:                 85.74\t(Threshold: 0.2143)\n",
      "2022-09-06 22:03:04 - Precision with Cosine-Similarity:          79.79\n",
      "2022-09-06 22:03:04 - Recall with Cosine-Similarity:             92.64\n",
      "2022-09-06 22:03:04 - Average Precision with Cosine-Similarity:  91.19\n",
      "\n",
      "2022-09-06 22:03:04 - Accuracy with Manhattan-Distance:           80.42\t(Threshold: 398.1161)\n",
      "2022-09-06 22:03:04 - F1 with Manhattan-Distance:                 85.23\t(Threshold: 398.1161)\n",
      "2022-09-06 22:03:04 - Precision with Manhattan-Distance:          80.89\n",
      "2022-09-06 22:03:04 - Recall with Manhattan-Distance:             90.06\n",
      "2022-09-06 22:03:04 - Average Precision with Manhattan-Distance:  91.06\n",
      "\n",
      "2022-09-06 22:03:04 - Accuracy with Euclidean-Distance:           80.55\t(Threshold: 18.0668)\n",
      "2022-09-06 22:03:04 - F1 with Euclidean-Distance:                 85.40\t(Threshold: 19.5214)\n",
      "2022-09-06 22:03:04 - Precision with Euclidean-Distance:          79.35\n",
      "2022-09-06 22:03:04 - Recall with Euclidean-Distance:             92.45\n",
      "2022-09-06 22:03:04 - Average Precision with Euclidean-Distance:  91.12\n",
      "\n",
      "2022-09-06 22:03:04 - Accuracy with Dot-Product:           80.67\t(Threshold: 53.2956)\n",
      "2022-09-06 22:03:04 - F1 with Dot-Product:                 85.79\t(Threshold: 51.2159)\n",
      "2022-09-06 22:03:04 - Precision with Dot-Product:          79.59\n",
      "2022-09-06 22:03:04 - Recall with Dot-Product:             93.04\n",
      "2022-09-06 22:03:04 - Average Precision with Dot-Product:  90.89\n",
      "\n"
     ]
    },
    {
     "data": {
      "application/vnd.jupyter.widget-view+json": {
       "model_id": "a0276497027245c9ab65e45bae2c738d",
       "version_major": 2,
       "version_minor": 0
      },
      "text/plain": [
       "Iteration:   0%|          | 0/101 [00:00<?, ?it/s]"
      ]
     },
     "metadata": {},
     "output_type": "display_data"
    },
    {
     "name": "stdout",
     "output_type": "stream",
     "text": [
      "2022-09-06 22:03:21 - Binary Accuracy Evaluation of the model on  dataset after epoch 8:\n",
      "2022-09-06 22:03:22 - Accuracy with Cosine-Similarity:           80.42\t(Threshold: 0.1967)\n",
      "2022-09-06 22:03:22 - F1 with Cosine-Similarity:                 85.40\t(Threshold: 0.1221)\n",
      "2022-09-06 22:03:22 - Precision with Cosine-Similarity:          78.92\n",
      "2022-09-06 22:03:22 - Recall with Cosine-Similarity:             93.04\n",
      "2022-09-06 22:03:22 - Average Precision with Cosine-Similarity:  91.08\n",
      "\n",
      "2022-09-06 22:03:22 - Accuracy with Manhattan-Distance:           79.93\t(Threshold: 436.7005)\n",
      "2022-09-06 22:03:22 - F1 with Manhattan-Distance:                 85.13\t(Threshold: 436.7005)\n",
      "2022-09-06 22:03:22 - Precision with Manhattan-Distance:          79.48\n",
      "2022-09-06 22:03:22 - Recall with Manhattan-Distance:             91.65\n",
      "2022-09-06 22:03:22 - Average Precision with Manhattan-Distance:  90.86\n",
      "\n",
      "2022-09-06 22:03:22 - Accuracy with Euclidean-Distance:           80.17\t(Threshold: 19.8432)\n",
      "2022-09-06 22:03:22 - F1 with Euclidean-Distance:                 85.37\t(Threshold: 20.1077)\n",
      "2022-09-06 22:03:22 - Precision with Euclidean-Distance:          79.45\n",
      "2022-09-06 22:03:22 - Recall with Euclidean-Distance:             92.25\n",
      "2022-09-06 22:03:22 - Average Precision with Euclidean-Distance:  90.95\n",
      "\n",
      "2022-09-06 22:03:22 - Accuracy with Dot-Product:           80.17\t(Threshold: 38.7706)\n",
      "2022-09-06 22:03:22 - F1 with Dot-Product:                 85.45\t(Threshold: 30.8752)\n",
      "2022-09-06 22:03:22 - Precision with Dot-Product:          79.15\n",
      "2022-09-06 22:03:22 - Recall with Dot-Product:             92.84\n",
      "2022-09-06 22:03:22 - Average Precision with Dot-Product:  90.86\n",
      "\n"
     ]
    },
    {
     "data": {
      "application/vnd.jupyter.widget-view+json": {
       "model_id": "cd85bf263eb548c9a0354c6ed2ae9426",
       "version_major": 2,
       "version_minor": 0
      },
      "text/plain": [
       "Iteration:   0%|          | 0/101 [00:00<?, ?it/s]"
      ]
     },
     "metadata": {},
     "output_type": "display_data"
    },
    {
     "name": "stdout",
     "output_type": "stream",
     "text": [
      "2022-09-06 22:03:39 - Binary Accuracy Evaluation of the model on  dataset after epoch 9:\n",
      "2022-09-06 22:03:40 - Accuracy with Cosine-Similarity:           80.30\t(Threshold: 0.2482)\n",
      "2022-09-06 22:03:40 - F1 with Cosine-Similarity:                 85.42\t(Threshold: 0.2482)\n",
      "2022-09-06 22:03:40 - Precision with Cosine-Similarity:          79.69\n",
      "2022-09-06 22:03:40 - Recall with Cosine-Similarity:             92.05\n",
      "2022-09-06 22:03:40 - Average Precision with Cosine-Similarity:  91.03\n",
      "\n",
      "2022-09-06 22:03:40 - Accuracy with Manhattan-Distance:           80.17\t(Threshold: 404.2246)\n",
      "2022-09-06 22:03:40 - F1 with Manhattan-Distance:                 85.13\t(Threshold: 404.2246)\n",
      "2022-09-06 22:03:40 - Precision with Manhattan-Distance:          80.39\n",
      "2022-09-06 22:03:40 - Recall with Manhattan-Distance:             90.46\n",
      "2022-09-06 22:03:40 - Average Precision with Manhattan-Distance:  90.92\n",
      "\n",
      "2022-09-06 22:03:40 - Accuracy with Euclidean-Distance:           80.55\t(Threshold: 18.3356)\n",
      "2022-09-06 22:03:40 - F1 with Euclidean-Distance:                 85.39\t(Threshold: 18.4583)\n",
      "2022-09-06 22:03:40 - Precision with Euclidean-Distance:          80.71\n",
      "2022-09-06 22:03:40 - Recall with Euclidean-Distance:             90.66\n",
      "2022-09-06 22:03:40 - Average Precision with Euclidean-Distance:  90.98\n",
      "\n",
      "2022-09-06 22:03:40 - Accuracy with Dot-Product:           80.17\t(Threshold: 56.4158)\n",
      "2022-09-06 22:03:40 - F1 with Dot-Product:                 85.32\t(Threshold: 56.4158)\n",
      "2022-09-06 22:03:40 - Precision with Dot-Product:          79.66\n",
      "2022-09-06 22:03:40 - Recall with Dot-Product:             91.85\n",
      "2022-09-06 22:03:40 - Average Precision with Dot-Product:  90.76\n",
      "\n",
      "Training done...\n",
      "\n",
      "\n",
      "\n",
      "                     ********** sentence-transformers/quora-distilbert-base **********\n",
      "2022-09-06 22:03:40 - Load pretrained SentenceTransformer: binary_sim_output/sentence-transformers/quora-distilbert-base\n",
      "2022-09-06 22:03:40 - Use pytorch device: cuda\n",
      "2022-09-06 22:03:40 - Softmax loss: #Vectors concatenated: 3\n",
      "2022-09-06 22:03:40 - EmbeddingSimilarityEvaluator: Evaluating the model on SPRAG-test dataset:\n",
      "2022-09-06 22:03:43 - Cosine-Similarity :\tPearson: 0.6429\tSpearman: 0.6232\n",
      "2022-09-06 22:03:43 - Manhattan-Distance:\tPearson: 0.5786\tSpearman: 0.6036\n",
      "2022-09-06 22:03:43 - Euclidean-Distance:\tPearson: 0.5902\tSpearman: 0.6107\n",
      "2022-09-06 22:03:43 - Dot-Product-Similarity:\tPearson: 0.6347\tSpearman: 0.6199\n",
      "2022-09-06 22:03:43 - Binary Accuracy Evaluation of the model on  dataset:\n",
      "2022-09-06 22:03:44 - Accuracy with Cosine-Similarity:           81.42\t(Threshold: 0.4202)\n",
      "2022-09-06 22:03:44 - F1 with Cosine-Similarity:                 85.74\t(Threshold: 0.3844)\n",
      "2022-09-06 22:03:44 - Precision with Cosine-Similarity:          81.65\n",
      "2022-09-06 22:03:44 - Recall with Cosine-Similarity:             90.26\n",
      "2022-09-06 22:03:44 - Average Precision with Cosine-Similarity:  91.46\n",
      "\n",
      "2022-09-06 22:03:44 - Accuracy with Manhattan-Distance:           81.55\t(Threshold: 356.7481)\n",
      "2022-09-06 22:03:44 - F1 with Manhattan-Distance:                 86.01\t(Threshold: 356.7481)\n",
      "2022-09-06 22:03:44 - Precision with Manhattan-Distance:          81.98\n",
      "2022-09-06 22:03:44 - Recall with Manhattan-Distance:             90.46\n",
      "2022-09-06 22:03:44 - Average Precision with Manhattan-Distance:  90.66\n",
      "\n",
      "2022-09-06 22:03:44 - Accuracy with Euclidean-Distance:           81.05\t(Threshold: 16.2796)\n",
      "2022-09-06 22:03:44 - F1 with Euclidean-Distance:                 85.66\t(Threshold: 16.7129)\n",
      "2022-09-06 22:03:44 - Precision with Euclidean-Distance:          80.56\n",
      "2022-09-06 22:03:44 - Recall with Euclidean-Distance:             91.45\n",
      "2022-09-06 22:03:44 - Average Precision with Euclidean-Distance:  90.82\n",
      "\n",
      "2022-09-06 22:03:44 - Accuracy with Dot-Product:           81.30\t(Threshold: 90.5009)\n",
      "2022-09-06 22:03:44 - F1 with Dot-Product:                 85.71\t(Threshold: 87.0431)\n",
      "2022-09-06 22:03:44 - Precision with Dot-Product:          82.27\n",
      "2022-09-06 22:03:44 - Recall with Dot-Product:             89.46\n",
      "2022-09-06 22:03:44 - Average Precision with Dot-Product:  91.26\n",
      "\n"
     ]
    },
    {
     "data": {
      "text/plain": [
       "0.9146258059297059"
      ]
     },
     "execution_count": 21,
     "metadata": {},
     "output_type": "execute_result"
    }
   ],
   "source": [
    "\n",
    "st_model = 'sentence-transformers/quora-distilbert-base'\n",
    "num_epochs = 10\n",
    "batch_size=16\n",
    "model_save_path = \"binary_sim_output/\"+st_model\n",
    "train_dataloader = DataLoader(train_examples, shuffle=True, batch_size=batch_size)\n",
    "  \n",
    "test_dataloader = DataLoader(test_examples, shuffle=True, batch_size=batch_size)\n",
    "model = train_and_evaluate(st_model, train_dataloader, test_dataloader, num_epochs, model_save_path)\n",
    "print(\"\\n\\n\")\n",
    "print(\" \"*20, \"*\"*10, st_model , \"*\"*10)\n",
    "\n",
    "# Load the stored model and evaluate its performance on mohler test dataset\n",
    "model = SentenceTransformer(model_save_path)\n",
    "train_loss = losses.SoftmaxLoss(model=model, sentence_embedding_dimension=model.get_sentence_embedding_dimension(), num_labels=2)\n",
    "test_evaluator = evaluation.EmbeddingSimilarityEvaluator.from_input_examples(test_examples, batch_size=16, name='SPRAG-test')\n",
    "test_evaluator(model, output_path=model_save_path)\n",
    "train_loss.cuda()\n",
    "\n",
    "x_test_dA = test_data['ReferenceAnswer'].values.tolist()\n",
    "x_test_sA = test_data['StudentAnswer'].values.tolist()\n",
    "y_test = test_labels \n",
    "\n",
    "evaluator = evaluation.BinaryClassificationEvaluator(x_test_dA, x_test_sA, y_test)\n",
    "evaluator(model, output_path=model_save_path)\n"
   ]
  },
  {
   "cell_type": "code",
   "execution_count": 22,
   "id": "2b4f91ba",
   "metadata": {},
   "outputs": [
    {
     "data": {
      "application/vnd.jupyter.widget-view+json": {
       "model_id": "97865b35be5a44c6afefa7cbdcf6ac98",
       "version_major": 2,
       "version_minor": 0
      },
      "text/plain": [
       "Batches:   0%|          | 0/1 [00:00<?, ?it/s]"
      ]
     },
     "metadata": {},
     "output_type": "display_data"
    },
    {
     "data": {
      "application/vnd.jupyter.widget-view+json": {
       "model_id": "174d5275edd3439d85f5109f48fb6f9b",
       "version_major": 2,
       "version_minor": 0
      },
      "text/plain": [
       "Batches:   0%|          | 0/1 [00:00<?, ?it/s]"
      ]
     },
     "metadata": {},
     "output_type": "display_data"
    },
    {
     "data": {
      "text/plain": [
       "(768,)"
      ]
     },
     "execution_count": 22,
     "metadata": {},
     "output_type": "execute_result"
    }
   ],
   "source": [
    "#Our sentences we like to encode\n",
    "s1 = model.encode(\"Python is an object oriented programming language\")\n",
    "s2 = model.encode(\"java is an oop language\")\n",
    "\n",
    "s1.shape"
   ]
  },
  {
   "cell_type": "markdown",
   "id": "0667637a",
   "metadata": {},
   "source": []
  },
  {
   "cell_type": "code",
   "execution_count": 23,
   "id": "0c3ebdfe",
   "metadata": {},
   "outputs": [
    {
     "data": {
      "text/plain": [
       "tensor([[0.2203]])"
      ]
     },
     "execution_count": 23,
     "metadata": {},
     "output_type": "execute_result"
    }
   ],
   "source": [
    "#Compute cosine similarity between all pairs\n",
    "from sentence_transformers import util\n",
    "cos_sim = util.cos_sim(s1, s2)\n",
    "cos_sim"
   ]
  },
  {
   "cell_type": "code",
   "execution_count": null,
   "id": "f3185216",
   "metadata": {},
   "outputs": [],
   "source": []
  },
  {
   "cell_type": "code",
   "execution_count": null,
   "id": "20ebf25f",
   "metadata": {},
   "outputs": [],
   "source": []
  }
 ],
 "metadata": {
  "kernelspec": {
   "display_name": "Python 3 (ipykernel)",
   "language": "python",
   "name": "python3"
  },
  "language_info": {
   "codemirror_mode": {
    "name": "ipython",
    "version": 3
   },
   "file_extension": ".py",
   "mimetype": "text/x-python",
   "name": "python",
   "nbconvert_exporter": "python",
   "pygments_lexer": "ipython3",
   "version": "3.9.7"
  }
 },
 "nbformat": 4,
 "nbformat_minor": 5
}
