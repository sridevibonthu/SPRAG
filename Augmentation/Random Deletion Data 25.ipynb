{
 "cells": [
  {
   "cell_type": "code",
   "execution_count": 62,
   "id": "d81ecea5",
   "metadata": {},
   "outputs": [
    {
     "name": "stdout",
     "output_type": "stream",
     "text": [
      "huggingface/tokenizers: The current process just got forked, after parallelism has already been used. Disabling parallelism to avoid deadlocks...\n",
      "To disable this warning, you can either:\n",
      "\t- Avoid using `tokenizers` before the fork if possible\n",
      "\t- Explicitly set the environment variable TOKENIZERS_PARALLELISM=(true | false)\n",
      "Defaulting to user installation because normal site-packages is not writeable\n",
      "Requirement already satisfied: sentence-transformers in /home/jupyter-vit_sridevi/.local/lib/python3.9/site-packages (2.2.2)\n",
      "Requirement already satisfied: scikit-learn in /home/jupyter-vit_sridevi/.local/lib/python3.9/site-packages (from sentence-transformers) (1.1.1)\n",
      "Requirement already satisfied: transformers<5.0.0,>=4.6.0 in /home/jupyter-vit_sridevi/.local/lib/python3.9/site-packages (from sentence-transformers) (4.20.1)\n",
      "Requirement already satisfied: sentencepiece in /home/jupyter-vit_sridevi/.local/lib/python3.9/site-packages (from sentence-transformers) (0.1.96)\n",
      "Requirement already satisfied: scipy in /home/jupyter-vit_sridevi/.local/lib/python3.9/site-packages (from sentence-transformers) (1.8.1)\n",
      "Requirement already satisfied: nltk in /home/jupyter-vit_sridevi/.local/lib/python3.9/site-packages (from sentence-transformers) (3.7)\n",
      "Requirement already satisfied: huggingface-hub>=0.4.0 in /home/jupyter-vit_sridevi/.local/lib/python3.9/site-packages (from sentence-transformers) (0.8.1)\n",
      "Requirement already satisfied: torchvision in /home/jupyter-vit_sridevi/.local/lib/python3.9/site-packages (from sentence-transformers) (0.13.0)\n",
      "Requirement already satisfied: tqdm in /opt/tljh/user/lib/python3.9/site-packages (from sentence-transformers) (4.62.3)\n",
      "Requirement already satisfied: torch>=1.6.0 in /home/jupyter-vit_sridevi/.local/lib/python3.9/site-packages (from sentence-transformers) (1.12.0)\n",
      "Requirement already satisfied: numpy in /opt/tljh/user/lib/python3.9/site-packages (from sentence-transformers) (1.22.3)\n",
      "Requirement already satisfied: requests in /opt/tljh/user/lib/python3.9/site-packages (from huggingface-hub>=0.4.0->sentence-transformers) (2.26.0)\n",
      "Requirement already satisfied: pyyaml>=5.1 in /home/jupyter-vit_sridevi/.local/lib/python3.9/site-packages (from huggingface-hub>=0.4.0->sentence-transformers) (6.0)\n",
      "Requirement already satisfied: typing-extensions>=3.7.4.3 in /home/jupyter-vit_sridevi/.local/lib/python3.9/site-packages (from huggingface-hub>=0.4.0->sentence-transformers) (4.3.0)\n",
      "Requirement already satisfied: packaging>=20.9 in /opt/tljh/user/lib/python3.9/site-packages (from huggingface-hub>=0.4.0->sentence-transformers) (21.3)\n",
      "Requirement already satisfied: filelock in /home/jupyter-vit_sridevi/.local/lib/python3.9/site-packages (from huggingface-hub>=0.4.0->sentence-transformers) (3.7.1)\n",
      "Requirement already satisfied: regex!=2019.12.17 in /home/jupyter-vit_sridevi/.local/lib/python3.9/site-packages (from transformers<5.0.0,>=4.6.0->sentence-transformers) (2022.7.9)\n",
      "Requirement already satisfied: tokenizers!=0.11.3,<0.13,>=0.11.1 in /home/jupyter-vit_sridevi/.local/lib/python3.9/site-packages (from transformers<5.0.0,>=4.6.0->sentence-transformers) (0.12.1)\n",
      "Requirement already satisfied: joblib in /home/jupyter-vit_sridevi/.local/lib/python3.9/site-packages (from nltk->sentence-transformers) (1.1.0)\n",
      "Requirement already satisfied: click in /home/jupyter-vit_sridevi/.local/lib/python3.9/site-packages (from nltk->sentence-transformers) (8.1.3)\n",
      "Requirement already satisfied: threadpoolctl>=2.0.0 in /home/jupyter-vit_sridevi/.local/lib/python3.9/site-packages (from scikit-learn->sentence-transformers) (3.1.0)\n",
      "Requirement already satisfied: pillow!=8.3.*,>=5.3.0 in /home/jupyter-vit_sridevi/.local/lib/python3.9/site-packages (from torchvision->sentence-transformers) (9.2.0)\n",
      "Requirement already satisfied: pyparsing!=3.0.5,>=2.0.2 in /opt/tljh/user/lib/python3.9/site-packages (from packaging>=20.9->huggingface-hub>=0.4.0->sentence-transformers) (3.0.9)\n",
      "Requirement already satisfied: urllib3<1.27,>=1.21.1 in /opt/tljh/user/lib/python3.9/site-packages (from requests->huggingface-hub>=0.4.0->sentence-transformers) (1.26.7)\n",
      "Requirement already satisfied: certifi>=2017.4.17 in /opt/tljh/user/lib/python3.9/site-packages (from requests->huggingface-hub>=0.4.0->sentence-transformers) (2021.10.8)\n",
      "Requirement already satisfied: charset-normalizer~=2.0.0 in /opt/tljh/user/lib/python3.9/site-packages (from requests->huggingface-hub>=0.4.0->sentence-transformers) (2.0.0)\n",
      "Requirement already satisfied: idna<4,>=2.5 in /opt/tljh/user/lib/python3.9/site-packages (from requests->huggingface-hub>=0.4.0->sentence-transformers) (3.1)\n",
      "huggingface/tokenizers: The current process just got forked, after parallelism has already been used. Disabling parallelism to avoid deadlocks...\n",
      "To disable this warning, you can either:\n",
      "\t- Avoid using `tokenizers` before the fork if possible\n",
      "\t- Explicitly set the environment variable TOKENIZERS_PARALLELISM=(true | false)\n",
      "Defaulting to user installation because normal site-packages is not writeable\n",
      "Requirement already satisfied: pandas in /home/jupyter-vit_sridevi/.local/lib/python3.9/site-packages (1.4.3)\n",
      "Requirement already satisfied: python-dateutil>=2.8.1 in /opt/tljh/user/lib/python3.9/site-packages (from pandas) (2.8.2)\n",
      "Requirement already satisfied: pytz>=2020.1 in /opt/tljh/user/lib/python3.9/site-packages (from pandas) (2022.1)\n",
      "Requirement already satisfied: numpy>=1.18.5 in /opt/tljh/user/lib/python3.9/site-packages (from pandas) (1.22.3)\n",
      "Requirement already satisfied: six>=1.5 in /opt/tljh/user/lib/python3.9/site-packages (from python-dateutil>=2.8.1->pandas) (1.16.0)\n"
     ]
    }
   ],
   "source": [
    "!pip install sentence-transformers\n",
    "!pip install pandas\n"
   ]
  },
  {
   "cell_type": "code",
   "execution_count": 63,
   "id": "c445cdaf",
   "metadata": {},
   "outputs": [],
   "source": [
    "\n",
    "\n",
    "from sklearn.metrics import accuracy_score, f1_score\n",
    "from sklearn.linear_model import LogisticRegression\n",
    "from sentence_transformers import SentenceTransformer, InputExample, losses, models, datasets, evaluation\n",
    "from torch.utils.data import DataLoader\n",
    "\n",
    "from sklearn.manifold import TSNE\n",
    "from matplotlib import pyplot as plt\n",
    "\n",
    "# import warnings filter\n",
    "from warnings import simplefilter\n",
    "# ignore all future warnings\n",
    "simplefilter(action='ignore', category=FutureWarning)\n",
    "\n",
    "import pandas as pd\n",
    "import numpy as np\n",
    "\n",
    "import torch\n",
    "import random\n",
    "import torch\n",
    "import random\n",
    "\n",
    "def set_seed(seed):\n",
    "  random.seed(seed)\n",
    "  np.random.seed(seed)\n",
    "  torch.manual_seed(seed)"
   ]
  },
  {
   "cell_type": "code",
   "execution_count": 64,
   "id": "14c99818",
   "metadata": {},
   "outputs": [
    {
     "data": {
      "text/html": [
       "<div>\n",
       "<style scoped>\n",
       "    .dataframe tbody tr th:only-of-type {\n",
       "        vertical-align: middle;\n",
       "    }\n",
       "\n",
       "    .dataframe tbody tr th {\n",
       "        vertical-align: top;\n",
       "    }\n",
       "\n",
       "    .dataframe thead th {\n",
       "        text-align: right;\n",
       "    }\n",
       "</style>\n",
       "<table border=\"1\" class=\"dataframe\">\n",
       "  <thead>\n",
       "    <tr style=\"text-align: right;\">\n",
       "      <th></th>\n",
       "      <th>Unnamed: 0</th>\n",
       "      <th>QuestionID</th>\n",
       "      <th>ReferenceAnswer</th>\n",
       "      <th>StudentAnswer</th>\n",
       "      <th>Score1</th>\n",
       "      <th>Score2</th>\n",
       "      <th>avg_score</th>\n",
       "      <th>max_score</th>\n",
       "    </tr>\n",
       "  </thead>\n",
       "  <tbody>\n",
       "    <tr>\n",
       "      <th>0</th>\n",
       "      <td>0.0</td>\n",
       "      <td>PythonQ001</td>\n",
       "      <td>List, Set and Dictionary are mutable data stru...</td>\n",
       "      <td>Tha object structures which can be changeable ...</td>\n",
       "      <td>1.0</td>\n",
       "      <td>0.0</td>\n",
       "      <td>0.5</td>\n",
       "      <td>1.0</td>\n",
       "    </tr>\n",
       "    <tr>\n",
       "      <th>1</th>\n",
       "      <td>1.0</td>\n",
       "      <td>PythonQ001</td>\n",
       "      <td>List, Set and Dictionary are mutable data stru...</td>\n",
       "      <td>Tuple</td>\n",
       "      <td>0.0</td>\n",
       "      <td>0.0</td>\n",
       "      <td>0.0</td>\n",
       "      <td>0.0</td>\n",
       "    </tr>\n",
       "  </tbody>\n",
       "</table>\n",
       "</div>"
      ],
      "text/plain": [
       "   Unnamed: 0  QuestionID                                    ReferenceAnswer  \\\n",
       "0         0.0  PythonQ001  List, Set and Dictionary are mutable data stru...   \n",
       "1         1.0  PythonQ001  List, Set and Dictionary are mutable data stru...   \n",
       "\n",
       "                                       StudentAnswer  Score1  Score2  \\\n",
       "0  Tha object structures which can be changeable ...     1.0     0.0   \n",
       "1                                              Tuple     0.0     0.0   \n",
       "\n",
       "   avg_score  max_score  \n",
       "0        0.5        1.0  \n",
       "1        0.0        0.0  "
      ]
     },
     "execution_count": 64,
     "metadata": {},
     "output_type": "execute_result"
    }
   ],
   "source": [
    "#Load the sprag dataset\n",
    "data = pd.read_csv(\"refstdcombined.csv\")\n",
    "data.head(2)"
   ]
  },
  {
   "cell_type": "code",
   "execution_count": 65,
   "id": "c830d9ed",
   "metadata": {},
   "outputs": [],
   "source": [
    "data['bin_score'] = data.apply(lambda row : 1 if row.avg_score>=3 else 0, axis=1)"
   ]
  },
  {
   "cell_type": "code",
   "execution_count": 66,
   "id": "fb65373f",
   "metadata": {},
   "outputs": [
    {
     "data": {
      "text/html": [
       "<div>\n",
       "<style scoped>\n",
       "    .dataframe tbody tr th:only-of-type {\n",
       "        vertical-align: middle;\n",
       "    }\n",
       "\n",
       "    .dataframe tbody tr th {\n",
       "        vertical-align: top;\n",
       "    }\n",
       "\n",
       "    .dataframe thead th {\n",
       "        text-align: right;\n",
       "    }\n",
       "</style>\n",
       "<table border=\"1\" class=\"dataframe\">\n",
       "  <thead>\n",
       "    <tr style=\"text-align: right;\">\n",
       "      <th></th>\n",
       "      <th>Unnamed: 0</th>\n",
       "      <th>QuestionID</th>\n",
       "      <th>ReferenceAnswer</th>\n",
       "      <th>StudentAnswer</th>\n",
       "      <th>Score1</th>\n",
       "      <th>Score2</th>\n",
       "      <th>avg_score</th>\n",
       "      <th>max_score</th>\n",
       "      <th>bin_score</th>\n",
       "    </tr>\n",
       "  </thead>\n",
       "  <tbody>\n",
       "    <tr>\n",
       "      <th>0</th>\n",
       "      <td>0.0</td>\n",
       "      <td>PythonQ001</td>\n",
       "      <td>List, Set and Dictionary are mutable data stru...</td>\n",
       "      <td>Tha object structures which can be changeable ...</td>\n",
       "      <td>1.0</td>\n",
       "      <td>0.0</td>\n",
       "      <td>0.5</td>\n",
       "      <td>1.0</td>\n",
       "      <td>0</td>\n",
       "    </tr>\n",
       "    <tr>\n",
       "      <th>1</th>\n",
       "      <td>1.0</td>\n",
       "      <td>PythonQ001</td>\n",
       "      <td>List, Set and Dictionary are mutable data stru...</td>\n",
       "      <td>Tuple</td>\n",
       "      <td>0.0</td>\n",
       "      <td>0.0</td>\n",
       "      <td>0.0</td>\n",
       "      <td>0.0</td>\n",
       "      <td>0</td>\n",
       "    </tr>\n",
       "  </tbody>\n",
       "</table>\n",
       "</div>"
      ],
      "text/plain": [
       "   Unnamed: 0  QuestionID                                    ReferenceAnswer  \\\n",
       "0         0.0  PythonQ001  List, Set and Dictionary are mutable data stru...   \n",
       "1         1.0  PythonQ001  List, Set and Dictionary are mutable data stru...   \n",
       "\n",
       "                                       StudentAnswer  Score1  Score2  \\\n",
       "0  Tha object structures which can be changeable ...     1.0     0.0   \n",
       "1                                              Tuple     0.0     0.0   \n",
       "\n",
       "   avg_score  max_score  bin_score  \n",
       "0        0.5        1.0          0  \n",
       "1        0.0        0.0          0  "
      ]
     },
     "execution_count": 66,
     "metadata": {},
     "output_type": "execute_result"
    }
   ],
   "source": [
    "data.head(2)"
   ]
  },
  {
   "cell_type": "code",
   "execution_count": 67,
   "id": "ac3fd9e5",
   "metadata": {},
   "outputs": [],
   "source": [
    "data = data.dropna()"
   ]
  },
  {
   "cell_type": "code",
   "execution_count": 68,
   "id": "c209e2dd",
   "metadata": {},
   "outputs": [
    {
     "data": {
      "image/png": "[encoded data removed]",
      "text/plain": [
       "<Figure size 432x288 with 1 Axes>"
      ]
     },
     "metadata": {
      "needs_background": "light"
     },
     "output_type": "display_data"
    }
   ],
   "source": [
    "data['bin_score'].value_counts(normalize=True).plot(kind='bar');"
   ]
  },
  {
   "cell_type": "code",
   "execution_count": 69,
   "id": "59468089",
   "metadata": {},
   "outputs": [],
   "source": [
    "#### Just some code to print debug information to stdout\n",
    "import logging\n",
    "from sentence_transformers import LoggingHandler\n",
    "logging.basicConfig(format='%(asctime)s - %(message)s',\n",
    "                    datefmt='%Y-%m-%d %H:%M:%S',\n",
    "                    level=logging.INFO,\n",
    "                    handlers=[LoggingHandler()])"
   ]
  },
  {
   "cell_type": "code",
   "execution_count": 70,
   "id": "088b0996",
   "metadata": {},
   "outputs": [],
   "source": [
    "from sklearn.model_selection import train_test_split\n",
    "\n",
    "# Storing labels in array\n",
    "labels = data['bin_score'].values\n",
    "\n",
    "# Dropping labels column from data\n",
    "data = data.drop(['bin_score'], axis=1)\n",
    "\n",
    "# Splitting data into train and test sets in a 70/30 ratio\n",
    "train_data, test_data, train_labels, test_labels = train_test_split(data, labels, stratify=labels, random_state=42, test_size=0.2)"
   ]
  },
  {
   "cell_type": "code",
   "execution_count": 72,
   "id": "6c00c606",
   "metadata": {},
   "outputs": [
    {
     "data": {
      "text/plain": [
       "(802.0, numpy.ndarray, (3208,))"
      ]
     },
     "execution_count": 72,
     "metadata": {},
     "output_type": "execute_result"
    }
   ],
   "source": [
    "len(train_data)*0.25, type(train_labels), train_labels.shape\n"
   ]
  },
  {
   "cell_type": "code",
   "execution_count": 73,
   "id": "32056e86",
   "metadata": {},
   "outputs": [],
   "source": [
    "train_data = train_data.iloc[0:802]\n",
    "train_labels = train_labels[0:802]"
   ]
  },
  {
   "cell_type": "code",
   "execution_count": 74,
   "id": "94b443ed",
   "metadata": {},
   "outputs": [
    {
     "data": {
      "text/plain": [
       "(pandas.core.frame.DataFrame, numpy.ndarray, 802, 802)"
      ]
     },
     "execution_count": 74,
     "metadata": {},
     "output_type": "execute_result"
    }
   ],
   "source": [
    "type(train_data), type(train_labels), len(train_data), len(train_labels)"
   ]
  },
  {
   "cell_type": "code",
   "execution_count": 75,
   "id": "d8f67464",
   "metadata": {},
   "outputs": [],
   "source": [
    "\n",
    "def random_deletion(sentence, p=0.2): \n",
    "  words = sentence.split()\n",
    "  if len(words) <= 3:\n",
    "    return ' '.join(words)\n",
    "  remaining = list(filter(lambda x: random.uniform(0,1) > p,words)) \n",
    "  if len(remaining) == 0: # if not left, sample a random word\n",
    "    return ' '.join([random.choice(words)])\n",
    "  else:\n",
    "    return ' '.join(remaining)\n"
   ]
  },
  {
   "cell_type": "code",
   "execution_count": 76,
   "id": "1fbed970",
   "metadata": {},
   "outputs": [
    {
     "data": {
      "text/plain": [
       "'Hi i am'"
      ]
     },
     "execution_count": 76,
     "metadata": {},
     "output_type": "execute_result"
    }
   ],
   "source": [
    "random_deletion(\"Hi i am \")"
   ]
  },
  {
   "cell_type": "code",
   "execution_count": 77,
   "id": "43744dab",
   "metadata": {},
   "outputs": [],
   "source": [
    "def sentence_pairs_generation(sentence1, sentence2, labels, pairs, datatype='train'):\n",
    "\t# initialize two empty lists to hold the (sentence, sentence) pairs and\n",
    "\t# labels to indicate if the grade of the pair\n",
    "\n",
    "  numClassesList = np.unique(labels)\n",
    "  #print(numClassesList)\n",
    "  idx = [np.where(labels == i)[0] for i in numClassesList]\n",
    "  #print(idx)\n",
    "  i=0\n",
    "\n",
    "  for idxA in range(len(sentence1)):      \n",
    "    dAns = sentence1[idxA]\n",
    "    sAns = sentence2[idxA]\n",
    "    label = int(labels[idxA])\n",
    "    \n",
    "\t\t  # prepare a pair and update the sentences and labels lists, respectively\n",
    "    pairs.append(InputExample(texts=[dAns, sAns], label=label))\n",
    "    \n",
    "    if datatype=='train' and random.random() >= 0.5:\n",
    "      sAns = random_deletion(sentence2[idxA])\n",
    "      #print(sAns)\n",
    "      pairs.append(InputExample(texts=[dAns, sAns], label=label))\n",
    "      i = i+1\n",
    "  \n",
    "  print(\"No.of augmented examples : \", i)\n",
    "\n",
    "     \n",
    "\t# return a 2-tuple of our image pairs and labels\n",
    "  return (pairs)"
   ]
  },
  {
   "cell_type": "code",
   "execution_count": 78,
   "id": "73812285",
   "metadata": {},
   "outputs": [],
   "source": [
    "set_seed(0)\n",
    "# Equal samples per class training\n",
    "#train_df_sample = pd.concat([train_df[train_df[1]==0].sample(num_training), train_df[train_df[1]==1].sample(num_training)])\n",
    "x_train_dA = train_data['ReferenceAnswer'].values.tolist()\n",
    "x_train_sA = train_data['StudentAnswer'].values.tolist()\n",
    "y_train = train_labels.tolist()\n",
    "y_train = [int(x) for x in y_train]"
   ]
  },
  {
   "cell_type": "code",
   "execution_count": 79,
   "id": "61fd6221",
   "metadata": {},
   "outputs": [
    {
     "name": "stdout",
     "output_type": "stream",
     "text": [
      "No.of augmented examples :  0\n"
     ]
    }
   ],
   "source": [
    "#use test dataset as dev dataset\n",
    "x_test_dA = test_data['ReferenceAnswer'].values.tolist()\n",
    "x_test_sA = test_data['StudentAnswer'].values.tolist()\n",
    "y_test = test_labels / 1.0\n",
    "y_test = test_labels.tolist()\n",
    "#y_test = [int(x) for x in y_test]\n",
    "\n",
    "test_examples = [] \n",
    "test_examples = sentence_pairs_generation(np.array(x_test_dA), np.array(x_test_sA), np.array(y_test), test_examples, datatype='test')"
   ]
  },
  {
   "cell_type": "code",
   "execution_count": 80,
   "id": "c8691ad5",
   "metadata": {},
   "outputs": [
    {
     "data": {
      "text/plain": [
       "802"
      ]
     },
     "execution_count": 80,
     "metadata": {},
     "output_type": "execute_result"
    }
   ],
   "source": [
    "len(test_examples)"
   ]
  },
  {
   "cell_type": "code",
   "execution_count": 81,
   "id": "6049c777",
   "metadata": {},
   "outputs": [
    {
     "name": "stdout",
     "output_type": "stream",
     "text": [
      "No.of augmented examples :  420\n"
     ]
    }
   ],
   "source": [
    "train_examples = [] \n",
    "train_examples = sentence_pairs_generation(np.array(x_train_dA), np.array(x_train_sA), np.array(y_train), train_examples)"
   ]
  },
  {
   "cell_type": "code",
   "execution_count": 82,
   "id": "1dc07f9e",
   "metadata": {},
   "outputs": [
    {
     "data": {
      "text/plain": [
       "1222"
      ]
     },
     "execution_count": 82,
     "metadata": {},
     "output_type": "execute_result"
    }
   ],
   "source": [
    "len(train_examples)"
   ]
  },
  {
   "cell_type": "code",
   "execution_count": 83,
   "id": "5bef49b2",
   "metadata": {},
   "outputs": [],
   "source": [
    "# Save path of the model\n",
    "from datetime import datetime\n",
    "model_save_path = 'output/training_sprag_v4_'+datetime.now().strftime(\"%Y-%m-%d_%H-%M-%S\")"
   ]
  },
  {
   "cell_type": "code",
   "execution_count": 84,
   "id": "cad4f826",
   "metadata": {},
   "outputs": [],
   "source": [
    "from sentence_transformers import evaluation\n",
    "import math\n",
    "\n",
    "\n",
    "def train_and_evaluate(st_model, train_dataloader, test_dataloader, num_epochs,model_save_path):\n",
    "  model = SentenceTransformer(st_model)\n",
    "  #for evaluation\n",
    "  train_loss = losses.SoftmaxLoss(model=model, sentence_embedding_dimension=model.get_sentence_embedding_dimension(), num_labels=2)\n",
    "  #test_evaluator = evaluation.EmbeddingSimilarityEvaluator.from_input_examples(test_examples, batch_size=16, name='SPRAG-test')\n",
    "  x_test_dA = test_data['ReferenceAnswer'].values.tolist()\n",
    "  x_test_sA = test_data['StudentAnswer'].values.tolist()\n",
    "  y_test = test_labels \n",
    "\n",
    "  evaluator = evaluation.BinaryClassificationEvaluator(x_test_dA, x_test_sA, y_test)\n",
    "\n",
    "  #configuring the training\n",
    "  warmup_steps = math.ceil(len(train_dataloader) * num_epochs * 0.1) #10% of train data for warm-up\n",
    "  print(warmup_steps)\n",
    "  #train_loss = losses.CosineSimilarityLoss(model)\n",
    "  model.fit(train_objectives=[(train_dataloader, train_loss)],\n",
    "          evaluator=evaluator,\n",
    "          epochs=num_epochs,\n",
    "          warmup_steps=warmup_steps,\n",
    "          show_progress_bar=True,  \n",
    "          #evaluation_steps=50, \n",
    "          output_path=model_save_path,)\n",
    "  print(\"Training done...\")"
   ]
  },
  {
   "cell_type": "code",
   "execution_count": 85,
   "id": "4d6a71e0",
   "metadata": {},
   "outputs": [
    {
     "name": "stdout",
     "output_type": "stream",
     "text": [
      "2022-09-07 19:47:37 - Load pretrained SentenceTransformer: stsb-distilbert-base\n",
      "2022-09-07 19:47:38 - Use pytorch device: cuda\n",
      "2022-09-07 19:47:38 - Softmax loss: #Vectors concatenated: 3\n",
      "77\n"
     ]
    },
    {
     "data": {
      "application/vnd.jupyter.widget-view+json": {
       "model_id": "fd02de58bd584b108c994fb60637ce0c",
       "version_major": 2,
       "version_minor": 0
      },
      "text/plain": [
       "Epoch:   0%|          | 0/10 [00:00<?, ?it/s]"
      ]
     },
     "metadata": {},
     "output_type": "display_data"
    },
    {
     "data": {
      "application/vnd.jupyter.widget-view+json": {
       "model_id": "d01f4102ed5040498460727ebbf06005",
       "version_major": 2,
       "version_minor": 0
      },
      "text/plain": [
       "Iteration:   0%|          | 0/77 [00:00<?, ?it/s]"
      ]
     },
     "metadata": {},
     "output_type": "display_data"
    },
    {
     "name": "stdout",
     "output_type": "stream",
     "text": [
      "2022-09-07 19:47:44 - Binary Accuracy Evaluation of the model on  dataset after epoch 0:\n",
      "2022-09-07 19:47:45 - Accuracy with Cosine-Similarity:           74.94\t(Threshold: 0.4509)\n",
      "2022-09-07 19:47:45 - F1 with Cosine-Similarity:                 82.32\t(Threshold: 0.3964)\n",
      "2022-09-07 19:47:45 - Precision with Cosine-Similarity:          73.82\n",
      "2022-09-07 19:47:45 - Recall with Cosine-Similarity:             93.04\n",
      "2022-09-07 19:47:45 - Average Precision with Cosine-Similarity:  87.53\n",
      "\n",
      "2022-09-07 19:47:45 - Accuracy with Manhattan-Distance:           75.19\t(Threshold: 368.8943)\n",
      "2022-09-07 19:47:45 - F1 with Manhattan-Distance:                 82.40\t(Threshold: 368.8943)\n",
      "2022-09-07 19:47:45 - Precision with Manhattan-Distance:          74.20\n",
      "2022-09-07 19:47:45 - Recall with Manhattan-Distance:             92.64\n",
      "2022-09-07 19:47:45 - Average Precision with Manhattan-Distance:  87.93\n",
      "\n",
      "2022-09-07 19:47:45 - Accuracy with Euclidean-Distance:           75.56\t(Threshold: 14.8910)\n",
      "2022-09-07 19:47:45 - F1 with Euclidean-Distance:                 82.33\t(Threshold: 16.7359)\n",
      "2022-09-07 19:47:45 - Precision with Euclidean-Distance:          74.09\n",
      "2022-09-07 19:47:45 - Recall with Euclidean-Distance:             92.64\n",
      "2022-09-07 19:47:45 - Average Precision with Euclidean-Distance:  87.94\n",
      "\n",
      "2022-09-07 19:47:45 - Accuracy with Dot-Product:           74.81\t(Threshold: 101.7383)\n",
      "2022-09-07 19:47:45 - F1 with Dot-Product:                 82.25\t(Threshold: 87.9260)\n",
      "2022-09-07 19:47:45 - Precision with Dot-Product:          72.85\n",
      "2022-09-07 19:47:45 - Recall with Dot-Product:             94.43\n",
      "2022-09-07 19:47:45 - Average Precision with Dot-Product:  85.72\n",
      "\n",
      "2022-09-07 19:47:45 - Save model to binary_sim_output/stsb-distilbert-base\n"
     ]
    },
    {
     "data": {
      "application/vnd.jupyter.widget-view+json": {
       "model_id": "88d0dd2afd954dc68f5779a110e2182c",
       "version_major": 2,
       "version_minor": 0
      },
      "text/plain": [
       "Iteration:   0%|          | 0/77 [00:00<?, ?it/s]"
      ]
     },
     "metadata": {},
     "output_type": "display_data"
    },
    {
     "name": "stdout",
     "output_type": "stream",
     "text": [
      "2022-09-07 19:47:52 - Binary Accuracy Evaluation of the model on  dataset after epoch 1:\n",
      "2022-09-07 19:47:52 - Accuracy with Cosine-Similarity:           77.93\t(Threshold: 0.4135)\n",
      "2022-09-07 19:47:52 - F1 with Cosine-Similarity:                 83.71\t(Threshold: 0.2877)\n",
      "2022-09-07 19:47:52 - Precision with Cosine-Similarity:          74.19\n",
      "2022-09-07 19:47:52 - Recall with Cosine-Similarity:             96.02\n",
      "2022-09-07 19:47:52 - Average Precision with Cosine-Similarity:  89.21\n",
      "\n",
      "2022-09-07 19:47:52 - Accuracy with Manhattan-Distance:           77.43\t(Threshold: 389.6789)\n",
      "2022-09-07 19:47:52 - F1 with Manhattan-Distance:                 84.27\t(Threshold: 404.7732)\n",
      "2022-09-07 19:47:52 - Precision with Manhattan-Distance:          74.85\n",
      "2022-09-07 19:47:52 - Recall with Manhattan-Distance:             96.42\n",
      "2022-09-07 19:47:52 - Average Precision with Manhattan-Distance:  89.42\n",
      "\n",
      "2022-09-07 19:47:52 - Accuracy with Euclidean-Distance:           77.56\t(Threshold: 17.8607)\n",
      "2022-09-07 19:47:52 - F1 with Euclidean-Distance:                 84.17\t(Threshold: 18.3700)\n",
      "2022-09-07 19:47:52 - Precision with Euclidean-Distance:          74.81\n",
      "2022-09-07 19:47:52 - Recall with Euclidean-Distance:             96.22\n",
      "2022-09-07 19:47:52 - Average Precision with Euclidean-Distance:  89.46\n",
      "\n",
      "2022-09-07 19:47:52 - Accuracy with Dot-Product:           77.43\t(Threshold: 93.6744)\n",
      "2022-09-07 19:47:52 - F1 with Dot-Product:                 83.44\t(Threshold: 78.1923)\n",
      "2022-09-07 19:47:52 - Precision with Dot-Product:          75.24\n",
      "2022-09-07 19:47:52 - Recall with Dot-Product:             93.64\n",
      "2022-09-07 19:47:52 - Average Precision with Dot-Product:  88.46\n",
      "\n",
      "2022-09-07 19:47:52 - Save model to binary_sim_output/stsb-distilbert-base\n"
     ]
    },
    {
     "data": {
      "application/vnd.jupyter.widget-view+json": {
       "model_id": "614b393257ac4919b9f058eff48e740f",
       "version_major": 2,
       "version_minor": 0
      },
      "text/plain": [
       "Iteration:   0%|          | 0/77 [00:00<?, ?it/s]"
      ]
     },
     "metadata": {},
     "output_type": "display_data"
    },
    {
     "name": "stdout",
     "output_type": "stream",
     "text": [
      "2022-09-07 19:47:59 - Binary Accuracy Evaluation of the model on  dataset after epoch 2:\n",
      "2022-09-07 19:48:00 - Accuracy with Cosine-Similarity:           79.93\t(Threshold: 0.3636)\n",
      "2022-09-07 19:48:00 - F1 with Cosine-Similarity:                 85.35\t(Threshold: 0.3522)\n",
      "2022-09-07 19:48:00 - Precision with Cosine-Similarity:          78.69\n",
      "2022-09-07 19:48:00 - Recall with Cosine-Similarity:             93.24\n",
      "2022-09-07 19:48:00 - Average Precision with Cosine-Similarity:  90.12\n",
      "\n",
      "2022-09-07 19:48:00 - Accuracy with Manhattan-Distance:           80.17\t(Threshold: 384.6390)\n",
      "2022-09-07 19:48:00 - F1 with Manhattan-Distance:                 85.11\t(Threshold: 393.3026)\n",
      "2022-09-07 19:48:00 - Precision with Manhattan-Distance:          79.15\n",
      "2022-09-07 19:48:00 - Recall with Manhattan-Distance:             92.05\n",
      "2022-09-07 19:48:00 - Average Precision with Manhattan-Distance:  90.14\n",
      "\n",
      "2022-09-07 19:48:00 - Accuracy with Euclidean-Distance:           79.93\t(Threshold: 17.3152)\n",
      "2022-09-07 19:48:00 - F1 with Euclidean-Distance:                 85.22\t(Threshold: 17.9638)\n",
      "2022-09-07 19:48:00 - Precision with Euclidean-Distance:          78.75\n",
      "2022-09-07 19:48:00 - Recall with Euclidean-Distance:             92.84\n",
      "2022-09-07 19:48:00 - Average Precision with Euclidean-Distance:  90.17\n",
      "\n",
      "2022-09-07 19:48:00 - Accuracy with Dot-Product:           79.93\t(Threshold: 91.1725)\n",
      "2022-09-07 19:48:00 - F1 with Dot-Product:                 85.22\t(Threshold: 91.1725)\n",
      "2022-09-07 19:48:00 - Precision with Dot-Product:          79.18\n",
      "2022-09-07 19:48:00 - Recall with Dot-Product:             92.25\n",
      "2022-09-07 19:48:00 - Average Precision with Dot-Product:  89.81\n",
      "\n",
      "2022-09-07 19:48:00 - Save model to binary_sim_output/stsb-distilbert-base\n"
     ]
    },
    {
     "data": {
      "application/vnd.jupyter.widget-view+json": {
       "model_id": "0b9e21dac40e48458ef50f9e67ad2ff8",
       "version_major": 2,
       "version_minor": 0
      },
      "text/plain": [
       "Iteration:   0%|          | 0/77 [00:00<?, ?it/s]"
      ]
     },
     "metadata": {},
     "output_type": "display_data"
    },
    {
     "name": "stdout",
     "output_type": "stream",
     "text": [
      "2022-09-07 19:48:06 - Binary Accuracy Evaluation of the model on  dataset after epoch 3:\n",
      "2022-09-07 19:48:07 - Accuracy with Cosine-Similarity:           79.05\t(Threshold: 0.3646)\n",
      "2022-09-07 19:48:07 - F1 with Cosine-Similarity:                 84.24\t(Threshold: 0.1671)\n",
      "2022-09-07 19:48:07 - Precision with Cosine-Similarity:          75.27\n",
      "2022-09-07 19:48:07 - Recall with Cosine-Similarity:             95.63\n",
      "2022-09-07 19:48:07 - Average Precision with Cosine-Similarity:  89.42\n",
      "\n",
      "2022-09-07 19:48:07 - Accuracy with Manhattan-Distance:           79.30\t(Threshold: 398.2450)\n",
      "2022-09-07 19:48:07 - F1 with Manhattan-Distance:                 84.49\t(Threshold: 417.1031)\n",
      "2022-09-07 19:48:07 - Precision with Manhattan-Distance:          79.27\n",
      "2022-09-07 19:48:07 - Recall with Manhattan-Distance:             90.46\n",
      "2022-09-07 19:48:07 - Average Precision with Manhattan-Distance:  89.45\n",
      "\n",
      "2022-09-07 19:48:07 - Accuracy with Euclidean-Distance:           79.18\t(Threshold: 18.2553)\n",
      "2022-09-07 19:48:07 - F1 with Euclidean-Distance:                 84.35\t(Threshold: 19.1794)\n",
      "2022-09-07 19:48:07 - Precision with Euclidean-Distance:          78.56\n",
      "2022-09-07 19:48:07 - Recall with Euclidean-Distance:             91.05\n",
      "2022-09-07 19:48:07 - Average Precision with Euclidean-Distance:  89.48\n",
      "\n",
      "2022-09-07 19:48:07 - Accuracy with Dot-Product:           78.43\t(Threshold: 85.9506)\n",
      "2022-09-07 19:48:07 - F1 with Dot-Product:                 84.23\t(Threshold: 35.0057)\n",
      "2022-09-07 19:48:07 - Precision with Dot-Product:          74.65\n",
      "2022-09-07 19:48:07 - Recall with Dot-Product:             96.62\n",
      "2022-09-07 19:48:07 - Average Precision with Dot-Product:  89.20\n",
      "\n"
     ]
    },
    {
     "data": {
      "application/vnd.jupyter.widget-view+json": {
       "model_id": "82a1c38b7b764f529f67a4238955a39a",
       "version_major": 2,
       "version_minor": 0
      },
      "text/plain": [
       "Iteration:   0%|          | 0/77 [00:00<?, ?it/s]"
      ]
     },
     "metadata": {},
     "output_type": "display_data"
    },
    {
     "name": "stdout",
     "output_type": "stream",
     "text": [
      "2022-09-07 19:48:13 - Binary Accuracy Evaluation of the model on  dataset after epoch 4:\n",
      "2022-09-07 19:48:14 - Accuracy with Cosine-Similarity:           78.93\t(Threshold: 0.3814)\n",
      "2022-09-07 19:48:14 - F1 with Cosine-Similarity:                 84.57\t(Threshold: 0.1382)\n",
      "2022-09-07 19:48:14 - Precision with Cosine-Similarity:          76.32\n",
      "2022-09-07 19:48:14 - Recall with Cosine-Similarity:             94.83\n",
      "2022-09-07 19:48:14 - Average Precision with Cosine-Similarity:  90.03\n",
      "\n",
      "2022-09-07 19:48:14 - Accuracy with Manhattan-Distance:           79.43\t(Threshold: 427.1953)\n",
      "2022-09-07 19:48:14 - F1 with Manhattan-Distance:                 84.54\t(Threshold: 430.9471)\n",
      "2022-09-07 19:48:14 - Precision with Manhattan-Distance:          79.96\n",
      "2022-09-07 19:48:14 - Recall with Manhattan-Distance:             89.66\n",
      "2022-09-07 19:48:14 - Average Precision with Manhattan-Distance:  90.07\n",
      "\n",
      "2022-09-07 19:48:14 - Accuracy with Euclidean-Distance:           79.43\t(Threshold: 19.2938)\n",
      "2022-09-07 19:48:14 - F1 with Euclidean-Distance:                 84.48\t(Threshold: 20.8182)\n",
      "2022-09-07 19:48:14 - Precision with Euclidean-Distance:          76.96\n",
      "2022-09-07 19:48:14 - Recall with Euclidean-Distance:             93.64\n",
      "2022-09-07 19:48:14 - Average Precision with Euclidean-Distance:  90.12\n",
      "\n",
      "2022-09-07 19:48:14 - Accuracy with Dot-Product:           78.80\t(Threshold: 84.8345)\n",
      "2022-09-07 19:48:14 - F1 with Dot-Product:                 84.48\t(Threshold: 31.5019)\n",
      "2022-09-07 19:48:14 - Precision with Dot-Product:          75.91\n",
      "2022-09-07 19:48:14 - Recall with Dot-Product:             95.23\n",
      "2022-09-07 19:48:14 - Average Precision with Dot-Product:  89.74\n",
      "\n"
     ]
    },
    {
     "data": {
      "application/vnd.jupyter.widget-view+json": {
       "model_id": "41b97fdeccb347f482822ec359015397",
       "version_major": 2,
       "version_minor": 0
      },
      "text/plain": [
       "Iteration:   0%|          | 0/77 [00:00<?, ?it/s]"
      ]
     },
     "metadata": {},
     "output_type": "display_data"
    },
    {
     "name": "stdout",
     "output_type": "stream",
     "text": [
      "2022-09-07 19:48:20 - Binary Accuracy Evaluation of the model on  dataset after epoch 5:\n",
      "2022-09-07 19:48:20 - Accuracy with Cosine-Similarity:           79.05\t(Threshold: 0.2677)\n",
      "2022-09-07 19:48:20 - F1 with Cosine-Similarity:                 83.99\t(Threshold: 0.2385)\n",
      "2022-09-07 19:48:20 - Precision with Cosine-Similarity:          79.79\n",
      "2022-09-07 19:48:20 - Recall with Cosine-Similarity:             88.67\n",
      "2022-09-07 19:48:20 - Average Precision with Cosine-Similarity:  89.65\n",
      "\n",
      "2022-09-07 19:48:20 - Accuracy with Manhattan-Distance:           79.30\t(Threshold: 436.4941)\n",
      "2022-09-07 19:48:20 - F1 with Manhattan-Distance:                 84.29\t(Threshold: 440.1245)\n",
      "2022-09-07 19:48:20 - Precision with Manhattan-Distance:          80.00\n",
      "2022-09-07 19:48:20 - Recall with Manhattan-Distance:             89.07\n",
      "2022-09-07 19:48:20 - Average Precision with Manhattan-Distance:  89.66\n",
      "\n",
      "2022-09-07 19:48:20 - Accuracy with Euclidean-Distance:           79.05\t(Threshold: 19.9791)\n",
      "2022-09-07 19:48:20 - F1 with Euclidean-Distance:                 84.21\t(Threshold: 20.0365)\n",
      "2022-09-07 19:48:20 - Precision with Euclidean-Distance:          79.86\n",
      "2022-09-07 19:48:20 - Recall with Euclidean-Distance:             89.07\n",
      "2022-09-07 19:48:20 - Average Precision with Euclidean-Distance:  89.74\n",
      "\n",
      "2022-09-07 19:48:20 - Accuracy with Dot-Product:           79.05\t(Threshold: 72.1982)\n",
      "2022-09-07 19:48:20 - F1 with Dot-Product:                 83.97\t(Threshold: 69.4218)\n",
      "2022-09-07 19:48:20 - Precision with Dot-Product:          80.73\n",
      "2022-09-07 19:48:20 - Recall with Dot-Product:             87.48\n",
      "2022-09-07 19:48:20 - Average Precision with Dot-Product:  89.32\n",
      "\n"
     ]
    },
    {
     "data": {
      "application/vnd.jupyter.widget-view+json": {
       "model_id": "4c36d1183ff1404e9759d3d24c98301a",
       "version_major": 2,
       "version_minor": 0
      },
      "text/plain": [
       "Iteration:   0%|          | 0/77 [00:00<?, ?it/s]"
      ]
     },
     "metadata": {},
     "output_type": "display_data"
    },
    {
     "name": "stdout",
     "output_type": "stream",
     "text": [
      "2022-09-07 19:48:27 - Binary Accuracy Evaluation of the model on  dataset after epoch 6:\n",
      "2022-09-07 19:48:27 - Accuracy with Cosine-Similarity:           78.55\t(Threshold: 0.2446)\n",
      "2022-09-07 19:48:27 - F1 with Cosine-Similarity:                 84.07\t(Threshold: 0.2446)\n",
      "2022-09-07 19:48:27 - Precision with Cosine-Similarity:          78.68\n",
      "2022-09-07 19:48:27 - Recall with Cosine-Similarity:             90.26\n",
      "2022-09-07 19:48:27 - Average Precision with Cosine-Similarity:  89.54\n",
      "\n",
      "2022-09-07 19:48:27 - Accuracy with Manhattan-Distance:           79.30\t(Threshold: 431.8044)\n",
      "2022-09-07 19:48:27 - F1 with Manhattan-Distance:                 84.46\t(Threshold: 434.5287)\n",
      "2022-09-07 19:48:27 - Precision with Manhattan-Distance:          79.82\n",
      "2022-09-07 19:48:27 - Recall with Manhattan-Distance:             89.66\n",
      "2022-09-07 19:48:27 - Average Precision with Manhattan-Distance:  89.54\n",
      "\n",
      "2022-09-07 19:48:27 - Accuracy with Euclidean-Distance:           79.18\t(Threshold: 19.7281)\n",
      "2022-09-07 19:48:27 - F1 with Euclidean-Distance:                 84.35\t(Threshold: 19.7281)\n",
      "2022-09-07 19:48:27 - Precision with Euclidean-Distance:          79.79\n",
      "2022-09-07 19:48:27 - Recall with Euclidean-Distance:             89.46\n",
      "2022-09-07 19:48:27 - Average Precision with Euclidean-Distance:  89.63\n",
      "\n",
      "2022-09-07 19:48:27 - Accuracy with Dot-Product:           78.55\t(Threshold: 65.4564)\n",
      "2022-09-07 19:48:27 - F1 with Dot-Product:                 83.99\t(Threshold: 65.4564)\n",
      "2022-09-07 19:48:27 - Precision with Dot-Product:          78.98\n",
      "2022-09-07 19:48:27 - Recall with Dot-Product:             89.66\n",
      "2022-09-07 19:48:27 - Average Precision with Dot-Product:  89.13\n",
      "\n"
     ]
    },
    {
     "data": {
      "application/vnd.jupyter.widget-view+json": {
       "model_id": "e70366cf1e364c9f87f7af0f9e059ca9",
       "version_major": 2,
       "version_minor": 0
      },
      "text/plain": [
       "Iteration:   0%|          | 0/77 [00:00<?, ?it/s]"
      ]
     },
     "metadata": {},
     "output_type": "display_data"
    },
    {
     "name": "stdout",
     "output_type": "stream",
     "text": [
      "2022-09-07 19:48:33 - Binary Accuracy Evaluation of the model on  dataset after epoch 7:\n",
      "2022-09-07 19:48:34 - Accuracy with Cosine-Similarity:           78.43\t(Threshold: 0.2937)\n",
      "2022-09-07 19:48:34 - F1 with Cosine-Similarity:                 83.86\t(Threshold: 0.2246)\n",
      "2022-09-07 19:48:34 - Precision with Cosine-Similarity:          78.61\n",
      "2022-09-07 19:48:34 - Recall with Cosine-Similarity:             89.86\n",
      "2022-09-07 19:48:34 - Average Precision with Cosine-Similarity:  89.22\n",
      "\n",
      "2022-09-07 19:48:34 - Accuracy with Manhattan-Distance:           78.93\t(Threshold: 427.4067)\n",
      "2022-09-07 19:48:34 - F1 with Manhattan-Distance:                 84.13\t(Threshold: 439.3651)\n",
      "2022-09-07 19:48:34 - Precision with Manhattan-Distance:          79.72\n",
      "2022-09-07 19:48:34 - Recall with Manhattan-Distance:             89.07\n",
      "2022-09-07 19:48:34 - Average Precision with Manhattan-Distance:  89.24\n",
      "\n",
      "2022-09-07 19:48:34 - Accuracy with Euclidean-Distance:           78.80\t(Threshold: 20.0388)\n",
      "2022-09-07 19:48:34 - F1 with Euclidean-Distance:                 84.05\t(Threshold: 20.0388)\n",
      "2022-09-07 19:48:34 - Precision with Euclidean-Distance:          79.57\n",
      "2022-09-07 19:48:34 - Recall with Euclidean-Distance:             89.07\n",
      "2022-09-07 19:48:34 - Average Precision with Euclidean-Distance:  89.30\n",
      "\n",
      "2022-09-07 19:48:34 - Accuracy with Dot-Product:           78.43\t(Threshold: 67.2288)\n",
      "2022-09-07 19:48:34 - F1 with Dot-Product:                 83.84\t(Threshold: -0.0016)\n",
      "2022-09-07 19:48:34 - Precision with Dot-Product:          74.77\n",
      "2022-09-07 19:48:34 - Recall with Dot-Product:             95.43\n",
      "2022-09-07 19:48:34 - Average Precision with Dot-Product:  88.85\n",
      "\n"
     ]
    },
    {
     "data": {
      "application/vnd.jupyter.widget-view+json": {
       "model_id": "eee8513ceba649edb1aacf03c47a89d1",
       "version_major": 2,
       "version_minor": 0
      },
      "text/plain": [
       "Iteration:   0%|          | 0/77 [00:00<?, ?it/s]"
      ]
     },
     "metadata": {},
     "output_type": "display_data"
    },
    {
     "name": "stdout",
     "output_type": "stream",
     "text": [
      "2022-09-07 19:48:40 - Binary Accuracy Evaluation of the model on  dataset after epoch 8:\n",
      "2022-09-07 19:48:41 - Accuracy with Cosine-Similarity:           78.68\t(Threshold: 0.2853)\n",
      "2022-09-07 19:48:41 - F1 with Cosine-Similarity:                 83.81\t(Threshold: 0.1832)\n",
      "2022-09-07 19:48:41 - Precision with Cosine-Similarity:          77.63\n",
      "2022-09-07 19:48:41 - Recall with Cosine-Similarity:             91.05\n",
      "2022-09-07 19:48:41 - Average Precision with Cosine-Similarity:  89.19\n",
      "\n",
      "2022-09-07 19:48:41 - Accuracy with Manhattan-Distance:           79.05\t(Threshold: 435.1666)\n",
      "2022-09-07 19:48:41 - F1 with Manhattan-Distance:                 84.15\t(Threshold: 436.9591)\n",
      "2022-09-07 19:48:41 - Precision with Manhattan-Distance:          80.07\n",
      "2022-09-07 19:48:41 - Recall with Manhattan-Distance:             88.67\n",
      "2022-09-07 19:48:41 - Average Precision with Manhattan-Distance:  89.20\n",
      "\n",
      "2022-09-07 19:48:41 - Accuracy with Euclidean-Distance:           78.80\t(Threshold: 19.3334)\n",
      "2022-09-07 19:48:41 - F1 with Euclidean-Distance:                 84.10\t(Threshold: 24.0504)\n",
      "2022-09-07 19:48:41 - Precision with Euclidean-Distance:          74.69\n",
      "2022-09-07 19:48:41 - Recall with Euclidean-Distance:             96.22\n",
      "2022-09-07 19:48:41 - Average Precision with Euclidean-Distance:  89.27\n",
      "\n",
      "2022-09-07 19:48:41 - Accuracy with Dot-Product:           78.55\t(Threshold: 73.1001)\n",
      "2022-09-07 19:48:41 - F1 with Dot-Product:                 83.81\t(Threshold: -22.2640)\n",
      "2022-09-07 19:48:41 - Precision with Dot-Product:          74.23\n",
      "2022-09-07 19:48:41 - Recall with Dot-Product:             96.22\n",
      "2022-09-07 19:48:41 - Average Precision with Dot-Product:  88.81\n",
      "\n"
     ]
    },
    {
     "data": {
      "application/vnd.jupyter.widget-view+json": {
       "model_id": "cc5d90f4e6144889b72a57c427a1afc2",
       "version_major": 2,
       "version_minor": 0
      },
      "text/plain": [
       "Iteration:   0%|          | 0/77 [00:00<?, ?it/s]"
      ]
     },
     "metadata": {},
     "output_type": "display_data"
    },
    {
     "name": "stdout",
     "output_type": "stream",
     "text": [
      "2022-09-07 19:48:47 - Binary Accuracy Evaluation of the model on  dataset after epoch 9:\n",
      "2022-09-07 19:48:47 - Accuracy with Cosine-Similarity:           78.68\t(Threshold: 0.2962)\n",
      "2022-09-07 19:48:47 - F1 with Cosine-Similarity:                 83.92\t(Threshold: 0.1744)\n",
      "2022-09-07 19:48:47 - Precision with Cosine-Similarity:          77.26\n",
      "2022-09-07 19:48:47 - Recall with Cosine-Similarity:             91.85\n",
      "2022-09-07 19:48:47 - Average Precision with Cosine-Similarity:  89.23\n",
      "\n",
      "2022-09-07 19:48:47 - Accuracy with Manhattan-Distance:           79.05\t(Threshold: 425.2442)\n",
      "2022-09-07 19:48:47 - F1 with Manhattan-Distance:                 84.15\t(Threshold: 435.5705)\n",
      "2022-09-07 19:48:47 - Precision with Manhattan-Distance:          80.07\n",
      "2022-09-07 19:48:47 - Recall with Manhattan-Distance:             88.67\n",
      "2022-09-07 19:48:47 - Average Precision with Manhattan-Distance:  89.26\n",
      "\n",
      "2022-09-07 19:48:47 - Accuracy with Euclidean-Distance:           79.05\t(Threshold: 19.3421)\n",
      "2022-09-07 19:48:47 - F1 with Euclidean-Distance:                 84.10\t(Threshold: 24.0184)\n",
      "2022-09-07 19:48:47 - Precision with Euclidean-Distance:          74.69\n",
      "2022-09-07 19:48:47 - Recall with Euclidean-Distance:             96.22\n",
      "2022-09-07 19:48:47 - Average Precision with Euclidean-Distance:  89.31\n",
      "\n",
      "2022-09-07 19:48:47 - Accuracy with Dot-Product:           78.30\t(Threshold: 77.1826)\n",
      "2022-09-07 19:48:47 - F1 with Dot-Product:                 83.89\t(Threshold: 47.6917)\n",
      "2022-09-07 19:48:47 - Precision with Dot-Product:          77.35\n",
      "2022-09-07 19:48:47 - Recall with Dot-Product:             91.65\n",
      "2022-09-07 19:48:47 - Average Precision with Dot-Product:  88.87\n",
      "\n",
      "Training done...\n",
      "\n",
      "\n",
      "\n",
      "                     ********** stsb-distilbert-base **********\n",
      "2022-09-07 19:48:47 - Load pretrained SentenceTransformer: binary_sim_output/stsb-distilbert-base\n",
      "2022-09-07 19:48:48 - Use pytorch device: cuda\n",
      "2022-09-07 19:48:48 - Softmax loss: #Vectors concatenated: 3\n",
      "2022-09-07 19:48:48 - EmbeddingSimilarityEvaluator: Evaluating the model on SPRAG-test dataset:\n",
      "2022-09-07 19:48:49 - Cosine-Similarity :\tPearson: 0.6068\tSpearman: 0.5878\n",
      "2022-09-07 19:48:49 - Manhattan-Distance:\tPearson: 0.5845\tSpearman: 0.5883\n",
      "2022-09-07 19:48:49 - Euclidean-Distance:\tPearson: 0.5857\tSpearman: 0.5888\n",
      "2022-09-07 19:48:49 - Dot-Product-Similarity:\tPearson: 0.6021\tSpearman: 0.5836\n",
      "2022-09-07 19:48:50 - Binary Accuracy Evaluation of the model on  dataset:\n",
      "2022-09-07 19:48:50 - Accuracy with Cosine-Similarity:           79.93\t(Threshold: 0.3636)\n",
      "2022-09-07 19:48:50 - F1 with Cosine-Similarity:                 85.35\t(Threshold: 0.3522)\n",
      "2022-09-07 19:48:50 - Precision with Cosine-Similarity:          78.69\n",
      "2022-09-07 19:48:50 - Recall with Cosine-Similarity:             93.24\n",
      "2022-09-07 19:48:50 - Average Precision with Cosine-Similarity:  90.12\n",
      "\n",
      "2022-09-07 19:48:50 - Accuracy with Manhattan-Distance:           80.17\t(Threshold: 384.6390)\n",
      "2022-09-07 19:48:50 - F1 with Manhattan-Distance:                 85.11\t(Threshold: 393.3026)\n",
      "2022-09-07 19:48:50 - Precision with Manhattan-Distance:          79.15\n",
      "2022-09-07 19:48:50 - Recall with Manhattan-Distance:             92.05\n",
      "2022-09-07 19:48:50 - Average Precision with Manhattan-Distance:  90.14\n",
      "\n",
      "2022-09-07 19:48:50 - Accuracy with Euclidean-Distance:           79.93\t(Threshold: 17.3152)\n",
      "2022-09-07 19:48:50 - F1 with Euclidean-Distance:                 85.22\t(Threshold: 17.9638)\n",
      "2022-09-07 19:48:50 - Precision with Euclidean-Distance:          78.75\n",
      "2022-09-07 19:48:50 - Recall with Euclidean-Distance:             92.84\n",
      "2022-09-07 19:48:50 - Average Precision with Euclidean-Distance:  90.17\n",
      "\n",
      "2022-09-07 19:48:50 - Accuracy with Dot-Product:           79.93\t(Threshold: 91.1725)\n",
      "2022-09-07 19:48:50 - F1 with Dot-Product:                 85.22\t(Threshold: 91.1725)\n",
      "2022-09-07 19:48:50 - Precision with Dot-Product:          79.18\n",
      "2022-09-07 19:48:50 - Recall with Dot-Product:             92.25\n",
      "2022-09-07 19:48:50 - Average Precision with Dot-Product:  89.81\n",
      "\n"
     ]
    },
    {
     "data": {
      "text/plain": [
       "0.9016983565490617"
      ]
     },
     "execution_count": 85,
     "metadata": {},
     "output_type": "execute_result"
    }
   ],
   "source": [
    "st_model = 'stsb-distilbert-base'\n",
    "num_epochs = 10\n",
    "batch_size=16\n",
    "model_save_path = \"binary_sim_output/\"+st_model\n",
    "train_dataloader = DataLoader(train_examples, shuffle=True, batch_size=batch_size)\n",
    "  \n",
    "test_dataloader = DataLoader(test_examples, shuffle=True, batch_size=batch_size)\n",
    "model = train_and_evaluate(st_model, train_dataloader, test_dataloader, num_epochs, model_save_path)\n",
    "print(\"\\n\\n\")\n",
    "print(\" \"*20, \"*\"*10, st_model , \"*\"*10)\n",
    "\n",
    "# Load the stored model and evaluate its performance on mohler test dataset\n",
    "model = SentenceTransformer(model_save_path)\n",
    "train_loss = losses.SoftmaxLoss(model=model, sentence_embedding_dimension=model.get_sentence_embedding_dimension(), num_labels=2)\n",
    "test_evaluator = evaluation.EmbeddingSimilarityEvaluator.from_input_examples(test_examples, batch_size=16, name='SPRAG-test')\n",
    "test_evaluator(model, output_path=model_save_path)\n",
    "train_loss.cuda()\n",
    "\n",
    "x_test_dA = test_data['ReferenceAnswer'].values.tolist()\n",
    "x_test_sA = test_data['StudentAnswer'].values.tolist()\n",
    "y_test = test_labels \n",
    "\n",
    "evaluator = evaluation.BinaryClassificationEvaluator(x_test_dA, x_test_sA, y_test)\n",
    "evaluator(model, output_path=model_save_path)\n"
   ]
  },
  {
   "cell_type": "code",
   "execution_count": 86,
   "id": "28ca7d4f",
   "metadata": {},
   "outputs": [
    {
     "name": "stdout",
     "output_type": "stream",
     "text": [
      "2022-09-07 19:48:50 - Load pretrained SentenceTransformer: sentence-transformers/paraphrase-albert-small-v2\n",
      "2022-09-07 19:48:50 - Use pytorch device: cuda\n",
      "2022-09-07 19:48:50 - Softmax loss: #Vectors concatenated: 3\n",
      "77\n"
     ]
    },
    {
     "data": {
      "application/vnd.jupyter.widget-view+json": {
       "model_id": "c6f94b1a3bf1426980ce22765d9c7d38",
       "version_major": 2,
       "version_minor": 0
      },
      "text/plain": [
       "Epoch:   0%|          | 0/10 [00:00<?, ?it/s]"
      ]
     },
     "metadata": {},
     "output_type": "display_data"
    },
    {
     "data": {
      "application/vnd.jupyter.widget-view+json": {
       "model_id": "04566fa8f7d4410a9676db00884280de",
       "version_major": 2,
       "version_minor": 0
      },
      "text/plain": [
       "Iteration:   0%|          | 0/77 [00:00<?, ?it/s]"
      ]
     },
     "metadata": {},
     "output_type": "display_data"
    },
    {
     "name": "stdout",
     "output_type": "stream",
     "text": [
      "2022-09-07 19:48:56 - Binary Accuracy Evaluation of the model on  dataset after epoch 0:\n",
      "2022-09-07 19:48:56 - Accuracy with Cosine-Similarity:           73.07\t(Threshold: 0.4604)\n",
      "2022-09-07 19:48:56 - F1 with Cosine-Similarity:                 80.64\t(Threshold: 0.3274)\n",
      "2022-09-07 19:48:56 - Precision with Cosine-Similarity:          70.15\n",
      "2022-09-07 19:48:56 - Recall with Cosine-Similarity:             94.83\n",
      "2022-09-07 19:48:56 - Average Precision with Cosine-Similarity:  86.64\n",
      "\n",
      "2022-09-07 19:48:56 - Accuracy with Manhattan-Distance:           73.44\t(Threshold: 428.3157)\n",
      "2022-09-07 19:48:56 - F1 with Manhattan-Distance:                 80.93\t(Threshold: 428.3157)\n",
      "2022-09-07 19:48:56 - Precision with Manhattan-Distance:          73.62\n",
      "2022-09-07 19:48:56 - Recall with Manhattan-Distance:             89.86\n",
      "2022-09-07 19:48:56 - Average Precision with Manhattan-Distance:  86.39\n",
      "\n",
      "2022-09-07 19:48:56 - Accuracy with Euclidean-Distance:           73.69\t(Threshold: 17.5868)\n",
      "2022-09-07 19:48:56 - F1 with Euclidean-Distance:                 80.61\t(Threshold: 19.4389)\n",
      "2022-09-07 19:48:56 - Precision with Euclidean-Distance:          73.21\n",
      "2022-09-07 19:48:56 - Recall with Euclidean-Distance:             89.66\n",
      "2022-09-07 19:48:56 - Average Precision with Euclidean-Distance:  86.44\n",
      "\n",
      "2022-09-07 19:48:56 - Accuracy with Dot-Product:           70.20\t(Threshold: 109.5121)\n",
      "2022-09-07 19:48:56 - F1 with Dot-Product:                 79.83\t(Threshold: 88.4484)\n",
      "2022-09-07 19:48:56 - Precision with Dot-Product:          69.14\n",
      "2022-09-07 19:48:56 - Recall with Dot-Product:             94.43\n",
      "2022-09-07 19:48:56 - Average Precision with Dot-Product:  81.55\n",
      "\n",
      "2022-09-07 19:48:56 - Save model to binary_sim_output/sentence-transformers/paraphrase-albert-small-v2\n"
     ]
    },
    {
     "data": {
      "application/vnd.jupyter.widget-view+json": {
       "model_id": "09d85f64de1a4a818cbdea2ce8a87e93",
       "version_major": 2,
       "version_minor": 0
      },
      "text/plain": [
       "Iteration:   0%|          | 0/77 [00:00<?, ?it/s]"
      ]
     },
     "metadata": {},
     "output_type": "display_data"
    },
    {
     "name": "stdout",
     "output_type": "stream",
     "text": [
      "2022-09-07 19:49:02 - Binary Accuracy Evaluation of the model on  dataset after epoch 1:\n",
      "2022-09-07 19:49:03 - Accuracy with Cosine-Similarity:           75.69\t(Threshold: 0.5308)\n",
      "2022-09-07 19:49:03 - F1 with Cosine-Similarity:                 81.72\t(Threshold: 0.3832)\n",
      "2022-09-07 19:49:03 - Precision with Cosine-Similarity:          73.23\n",
      "2022-09-07 19:49:03 - Recall with Cosine-Similarity:             92.45\n",
      "2022-09-07 19:49:03 - Average Precision with Cosine-Similarity:  87.92\n",
      "\n",
      "2022-09-07 19:49:03 - Accuracy with Manhattan-Distance:           75.69\t(Threshold: 568.7067)\n",
      "2022-09-07 19:49:03 - F1 with Manhattan-Distance:                 82.73\t(Threshold: 590.1941)\n",
      "2022-09-07 19:49:03 - Precision with Manhattan-Distance:          73.98\n",
      "2022-09-07 19:49:03 - Recall with Manhattan-Distance:             93.84\n",
      "2022-09-07 19:49:03 - Average Precision with Manhattan-Distance:  87.92\n",
      "\n",
      "2022-09-07 19:49:03 - Accuracy with Euclidean-Distance:           76.06\t(Threshold: 25.5882)\n",
      "2022-09-07 19:49:03 - F1 with Euclidean-Distance:                 82.72\t(Threshold: 26.9400)\n",
      "2022-09-07 19:49:03 - Precision with Euclidean-Distance:          73.72\n",
      "2022-09-07 19:49:03 - Recall with Euclidean-Distance:             94.23\n",
      "2022-09-07 19:49:03 - Average Precision with Euclidean-Distance:  88.04\n",
      "\n",
      "2022-09-07 19:49:03 - Accuracy with Dot-Product:           72.57\t(Threshold: 272.4185)\n",
      "2022-09-07 19:49:03 - F1 with Dot-Product:                 80.76\t(Threshold: 165.1452)\n",
      "2022-09-07 19:49:03 - Precision with Dot-Product:          69.07\n",
      "2022-09-07 19:49:03 - Recall with Dot-Product:             97.22\n",
      "2022-09-07 19:49:03 - Average Precision with Dot-Product:  85.53\n",
      "\n",
      "2022-09-07 19:49:03 - Save model to binary_sim_output/sentence-transformers/paraphrase-albert-small-v2\n"
     ]
    },
    {
     "data": {
      "application/vnd.jupyter.widget-view+json": {
       "model_id": "b30d72f967f446769bac82db12303d49",
       "version_major": 2,
       "version_minor": 0
      },
      "text/plain": [
       "Iteration:   0%|          | 0/77 [00:00<?, ?it/s]"
      ]
     },
     "metadata": {},
     "output_type": "display_data"
    },
    {
     "name": "stdout",
     "output_type": "stream",
     "text": [
      "2022-09-07 19:49:09 - Binary Accuracy Evaluation of the model on  dataset after epoch 2:\n",
      "2022-09-07 19:49:09 - Accuracy with Cosine-Similarity:           77.31\t(Threshold: 0.4374)\n",
      "2022-09-07 19:49:09 - F1 with Cosine-Similarity:                 82.86\t(Threshold: 0.4374)\n",
      "2022-09-07 19:49:09 - Precision with Cosine-Similarity:          78.71\n",
      "2022-09-07 19:49:09 - Recall with Cosine-Similarity:             87.48\n",
      "2022-09-07 19:49:09 - Average Precision with Cosine-Similarity:  87.82\n",
      "\n",
      "2022-09-07 19:49:09 - Accuracy with Manhattan-Distance:           77.81\t(Threshold: 640.6286)\n",
      "2022-09-07 19:49:09 - F1 with Manhattan-Distance:                 83.52\t(Threshold: 642.4004)\n",
      "2022-09-07 19:49:09 - Precision with Manhattan-Distance:          78.16\n",
      "2022-09-07 19:49:09 - Recall with Manhattan-Distance:             89.66\n",
      "2022-09-07 19:49:09 - Average Precision with Manhattan-Distance:  88.19\n",
      "\n",
      "2022-09-07 19:49:09 - Accuracy with Euclidean-Distance:           77.43\t(Threshold: 29.1044)\n",
      "2022-09-07 19:49:09 - F1 with Euclidean-Distance:                 83.50\t(Threshold: 29.6033)\n",
      "2022-09-07 19:49:09 - Precision with Euclidean-Distance:          77.10\n",
      "2022-09-07 19:49:09 - Recall with Euclidean-Distance:             91.05\n",
      "2022-09-07 19:49:09 - Average Precision with Euclidean-Distance:  88.12\n",
      "\n",
      "2022-09-07 19:49:09 - Accuracy with Dot-Product:           75.31\t(Threshold: 346.3208)\n",
      "2022-09-07 19:49:09 - F1 with Dot-Product:                 82.23\t(Threshold: 221.1652)\n",
      "2022-09-07 19:49:09 - Precision with Dot-Product:          71.58\n",
      "2022-09-07 19:49:09 - Recall with Dot-Product:             96.62\n",
      "2022-09-07 19:49:09 - Average Precision with Dot-Product:  86.45\n",
      "\n",
      "2022-09-07 19:49:09 - Save model to binary_sim_output/sentence-transformers/paraphrase-albert-small-v2\n"
     ]
    },
    {
     "data": {
      "application/vnd.jupyter.widget-view+json": {
       "model_id": "c585967aafb64519b5bad669c06b3ad8",
       "version_major": 2,
       "version_minor": 0
      },
      "text/plain": [
       "Iteration:   0%|          | 0/77 [00:00<?, ?it/s]"
      ]
     },
     "metadata": {},
     "output_type": "display_data"
    },
    {
     "name": "stdout",
     "output_type": "stream",
     "text": [
      "2022-09-07 19:49:15 - Binary Accuracy Evaluation of the model on  dataset after epoch 3:\n",
      "2022-09-07 19:49:16 - Accuracy with Cosine-Similarity:           78.93\t(Threshold: 0.4107)\n",
      "2022-09-07 19:49:16 - F1 with Cosine-Similarity:                 84.04\t(Threshold: 0.4107)\n",
      "2022-09-07 19:49:16 - Precision with Cosine-Similarity:          80.04\n",
      "2022-09-07 19:49:16 - Recall with Cosine-Similarity:             88.47\n",
      "2022-09-07 19:49:16 - Average Precision with Cosine-Similarity:  88.45\n",
      "\n",
      "2022-09-07 19:49:16 - Accuracy with Manhattan-Distance:           78.80\t(Threshold: 678.1982)\n",
      "2022-09-07 19:49:16 - F1 with Manhattan-Distance:                 84.26\t(Threshold: 679.2531)\n",
      "2022-09-07 19:49:16 - Precision with Manhattan-Distance:          78.86\n",
      "2022-09-07 19:49:16 - Recall with Manhattan-Distance:             90.46\n",
      "2022-09-07 19:49:16 - Average Precision with Manhattan-Distance:  88.70\n",
      "\n",
      "2022-09-07 19:49:16 - Accuracy with Euclidean-Distance:           78.18\t(Threshold: 30.0907)\n",
      "2022-09-07 19:49:16 - F1 with Euclidean-Distance:                 84.25\t(Threshold: 31.6280)\n",
      "2022-09-07 19:49:16 - Precision with Euclidean-Distance:          76.97\n",
      "2022-09-07 19:49:16 - Recall with Euclidean-Distance:             93.04\n",
      "2022-09-07 19:49:16 - Average Precision with Euclidean-Distance:  88.65\n",
      "\n",
      "2022-09-07 19:49:16 - Accuracy with Dot-Product:           78.43\t(Threshold: 349.7159)\n",
      "2022-09-07 19:49:16 - F1 with Dot-Product:                 83.19\t(Threshold: 334.0687)\n",
      "2022-09-07 19:49:16 - Precision with Dot-Product:          80.48\n",
      "2022-09-07 19:49:16 - Recall with Dot-Product:             86.08\n",
      "2022-09-07 19:49:16 - Average Precision with Dot-Product:  87.66\n",
      "\n",
      "2022-09-07 19:49:16 - Save model to binary_sim_output/sentence-transformers/paraphrase-albert-small-v2\n"
     ]
    },
    {
     "data": {
      "application/vnd.jupyter.widget-view+json": {
       "model_id": "c390845af5d047aa8e55b9330d7c0239",
       "version_major": 2,
       "version_minor": 0
      },
      "text/plain": [
       "Iteration:   0%|          | 0/77 [00:00<?, ?it/s]"
      ]
     },
     "metadata": {},
     "output_type": "display_data"
    },
    {
     "name": "stdout",
     "output_type": "stream",
     "text": [
      "2022-09-07 19:49:22 - Binary Accuracy Evaluation of the model on  dataset after epoch 4:\n",
      "2022-09-07 19:49:22 - Accuracy with Cosine-Similarity:           79.68\t(Threshold: 0.3746)\n",
      "2022-09-07 19:49:22 - F1 with Cosine-Similarity:                 84.40\t(Threshold: 0.3746)\n",
      "2022-09-07 19:49:22 - Precision with Cosine-Similarity:          81.37\n",
      "2022-09-07 19:49:22 - Recall with Cosine-Similarity:             87.67\n",
      "2022-09-07 19:49:22 - Average Precision with Cosine-Similarity:  88.48\n",
      "\n",
      "2022-09-07 19:49:22 - Accuracy with Manhattan-Distance:           79.43\t(Threshold: 717.6658)\n",
      "2022-09-07 19:49:22 - F1 with Manhattan-Distance:                 84.57\t(Threshold: 720.5099)\n",
      "2022-09-07 19:49:22 - Precision with Manhattan-Distance:          79.41\n",
      "2022-09-07 19:49:22 - Recall with Manhattan-Distance:             90.46\n",
      "2022-09-07 19:49:22 - Average Precision with Manhattan-Distance:  88.62\n",
      "\n",
      "2022-09-07 19:49:22 - Accuracy with Euclidean-Distance:           79.18\t(Threshold: 32.0637)\n",
      "2022-09-07 19:49:22 - F1 with Euclidean-Distance:                 84.42\t(Threshold: 32.9410)\n",
      "2022-09-07 19:49:22 - Precision with Euclidean-Distance:          79.13\n",
      "2022-09-07 19:49:22 - Recall with Euclidean-Distance:             90.46\n",
      "2022-09-07 19:49:22 - Average Precision with Euclidean-Distance:  88.67\n",
      "\n",
      "2022-09-07 19:49:22 - Accuracy with Dot-Product:           78.18\t(Threshold: 295.3114)\n",
      "2022-09-07 19:49:22 - F1 with Dot-Product:                 83.61\t(Threshold: 287.0765)\n",
      "2022-09-07 19:49:22 - Precision with Dot-Product:          78.63\n",
      "2022-09-07 19:49:22 - Recall with Dot-Product:             89.26\n",
      "2022-09-07 19:49:22 - Average Precision with Dot-Product:  87.82\n",
      "\n"
     ]
    },
    {
     "data": {
      "application/vnd.jupyter.widget-view+json": {
       "model_id": "a24e71ba744a4913a61fb61120c848d1",
       "version_major": 2,
       "version_minor": 0
      },
      "text/plain": [
       "Iteration:   0%|          | 0/77 [00:00<?, ?it/s]"
      ]
     },
     "metadata": {},
     "output_type": "display_data"
    },
    {
     "name": "stdout",
     "output_type": "stream",
     "text": [
      "2022-09-07 19:49:28 - Binary Accuracy Evaluation of the model on  dataset after epoch 5:\n",
      "2022-09-07 19:49:29 - Accuracy with Cosine-Similarity:           78.43\t(Threshold: 0.3772)\n",
      "2022-09-07 19:49:29 - F1 with Cosine-Similarity:                 83.78\t(Threshold: 0.3152)\n",
      "2022-09-07 19:49:29 - Precision with Cosine-Similarity:          76.61\n",
      "2022-09-07 19:49:29 - Recall with Cosine-Similarity:             92.45\n",
      "2022-09-07 19:49:29 - Average Precision with Cosine-Similarity:  89.15\n",
      "\n",
      "2022-09-07 19:49:29 - Accuracy with Manhattan-Distance:           78.93\t(Threshold: 715.5815)\n",
      "2022-09-07 19:49:29 - F1 with Manhattan-Distance:                 84.77\t(Threshold: 762.1392)\n",
      "2022-09-07 19:49:29 - Precision with Manhattan-Distance:          76.77\n",
      "2022-09-07 19:49:29 - Recall with Manhattan-Distance:             94.63\n",
      "2022-09-07 19:49:29 - Average Precision with Manhattan-Distance:  89.32\n",
      "\n",
      "2022-09-07 19:49:29 - Accuracy with Euclidean-Distance:           78.93\t(Threshold: 32.3341)\n",
      "2022-09-07 19:49:29 - F1 with Euclidean-Distance:                 84.45\t(Threshold: 35.2219)\n",
      "2022-09-07 19:49:29 - Precision with Euclidean-Distance:          75.99\n",
      "2022-09-07 19:49:29 - Recall with Euclidean-Distance:             95.03\n",
      "2022-09-07 19:49:29 - Average Precision with Euclidean-Distance:  89.35\n",
      "\n",
      "2022-09-07 19:49:29 - Accuracy with Dot-Product:           77.81\t(Threshold: 310.5930)\n",
      "2022-09-07 19:49:29 - F1 with Dot-Product:                 83.59\t(Threshold: 289.5775)\n",
      "2022-09-07 19:49:29 - Precision with Dot-Product:          77.55\n",
      "2022-09-07 19:49:29 - Recall with Dot-Product:             90.66\n",
      "2022-09-07 19:49:29 - Average Precision with Dot-Product:  88.48\n",
      "\n",
      "2022-09-07 19:49:29 - Save model to binary_sim_output/sentence-transformers/paraphrase-albert-small-v2\n"
     ]
    },
    {
     "data": {
      "application/vnd.jupyter.widget-view+json": {
       "model_id": "c325b53722054d828781b4b2ca9917e5",
       "version_major": 2,
       "version_minor": 0
      },
      "text/plain": [
       "Iteration:   0%|          | 0/77 [00:00<?, ?it/s]"
      ]
     },
     "metadata": {},
     "output_type": "display_data"
    },
    {
     "name": "stdout",
     "output_type": "stream",
     "text": [
      "2022-09-07 19:49:34 - Binary Accuracy Evaluation of the model on  dataset after epoch 6:\n",
      "2022-09-07 19:49:35 - Accuracy with Cosine-Similarity:           78.68\t(Threshold: 0.3642)\n",
      "2022-09-07 19:49:35 - F1 with Cosine-Similarity:                 83.88\t(Threshold: 0.3642)\n",
      "2022-09-07 19:49:35 - Precision with Cosine-Similarity:          79.75\n",
      "2022-09-07 19:49:35 - Recall with Cosine-Similarity:             88.47\n",
      "2022-09-07 19:49:35 - Average Precision with Cosine-Similarity:  88.99\n",
      "\n",
      "2022-09-07 19:49:35 - Accuracy with Manhattan-Distance:           78.55\t(Threshold: 747.9818)\n",
      "2022-09-07 19:49:35 - F1 with Manhattan-Distance:                 84.64\t(Threshold: 775.3691)\n",
      "2022-09-07 19:49:35 - Precision with Manhattan-Distance:          76.82\n",
      "2022-09-07 19:49:35 - Recall with Manhattan-Distance:             94.23\n",
      "2022-09-07 19:49:35 - Average Precision with Manhattan-Distance:  89.16\n",
      "\n",
      "2022-09-07 19:49:35 - Accuracy with Euclidean-Distance:           78.55\t(Threshold: 32.8552)\n",
      "2022-09-07 19:49:35 - F1 with Euclidean-Distance:                 84.48\t(Threshold: 35.8955)\n",
      "2022-09-07 19:49:35 - Precision with Euclidean-Distance:          75.91\n",
      "2022-09-07 19:49:35 - Recall with Euclidean-Distance:             95.23\n",
      "2022-09-07 19:49:35 - Average Precision with Euclidean-Distance:  89.17\n",
      "\n",
      "2022-09-07 19:49:35 - Accuracy with Dot-Product:           78.18\t(Threshold: 340.7380)\n",
      "2022-09-07 19:49:35 - F1 with Dot-Product:                 83.65\t(Threshold: 162.2719)\n",
      "2022-09-07 19:49:35 - Precision with Dot-Product:          73.75\n",
      "2022-09-07 19:49:35 - Recall with Dot-Product:             96.62\n",
      "2022-09-07 19:49:35 - Average Precision with Dot-Product:  88.42\n",
      "\n"
     ]
    },
    {
     "data": {
      "application/vnd.jupyter.widget-view+json": {
       "model_id": "2071c13091844adf827988393bb9315f",
       "version_major": 2,
       "version_minor": 0
      },
      "text/plain": [
       "Iteration:   0%|          | 0/77 [00:00<?, ?it/s]"
      ]
     },
     "metadata": {},
     "output_type": "display_data"
    },
    {
     "name": "stdout",
     "output_type": "stream",
     "text": [
      "2022-09-07 19:49:41 - Binary Accuracy Evaluation of the model on  dataset after epoch 7:\n",
      "2022-09-07 19:49:41 - Accuracy with Cosine-Similarity:           78.43\t(Threshold: 0.3974)\n",
      "2022-09-07 19:49:41 - F1 with Cosine-Similarity:                 83.88\t(Threshold: 0.3683)\n",
      "2022-09-07 19:49:41 - Precision with Cosine-Similarity:          78.95\n",
      "2022-09-07 19:49:41 - Recall with Cosine-Similarity:             89.46\n",
      "2022-09-07 19:49:41 - Average Precision with Cosine-Similarity:  88.92\n",
      "\n",
      "2022-09-07 19:49:41 - Accuracy with Manhattan-Distance:           79.05\t(Threshold: 750.4651)\n",
      "2022-09-07 19:49:41 - F1 with Manhattan-Distance:                 84.64\t(Threshold: 750.4651)\n",
      "2022-09-07 19:49:41 - Precision with Manhattan-Distance:          78.34\n",
      "2022-09-07 19:49:41 - Recall with Manhattan-Distance:             92.05\n",
      "2022-09-07 19:49:41 - Average Precision with Manhattan-Distance:  89.10\n",
      "\n",
      "2022-09-07 19:49:41 - Accuracy with Euclidean-Distance:           78.80\t(Threshold: 34.3797)\n",
      "2022-09-07 19:49:41 - F1 with Euclidean-Distance:                 84.46\t(Threshold: 34.3797)\n",
      "2022-09-07 19:49:41 - Precision with Euclidean-Distance:          78.17\n",
      "2022-09-07 19:49:41 - Recall with Euclidean-Distance:             91.85\n",
      "2022-09-07 19:49:41 - Average Precision with Euclidean-Distance:  89.12\n",
      "\n",
      "2022-09-07 19:49:41 - Accuracy with Dot-Product:           78.05\t(Threshold: 329.2781)\n",
      "2022-09-07 19:49:41 - F1 with Dot-Product:                 83.65\t(Threshold: 179.4932)\n",
      "2022-09-07 19:49:41 - Precision with Dot-Product:          73.75\n",
      "2022-09-07 19:49:41 - Recall with Dot-Product:             96.62\n",
      "2022-09-07 19:49:41 - Average Precision with Dot-Product:  88.34\n",
      "\n"
     ]
    },
    {
     "data": {
      "application/vnd.jupyter.widget-view+json": {
       "model_id": "48a2b1f827d644609bf38cd43ffae6f3",
       "version_major": 2,
       "version_minor": 0
      },
      "text/plain": [
       "Iteration:   0%|          | 0/77 [00:00<?, ?it/s]"
      ]
     },
     "metadata": {},
     "output_type": "display_data"
    },
    {
     "name": "stdout",
     "output_type": "stream",
     "text": [
      "2022-09-07 19:49:47 - Binary Accuracy Evaluation of the model on  dataset after epoch 8:\n",
      "2022-09-07 19:49:47 - Accuracy with Cosine-Similarity:           78.43\t(Threshold: 0.3925)\n",
      "2022-09-07 19:49:47 - F1 with Cosine-Similarity:                 83.89\t(Threshold: 0.3531)\n",
      "2022-09-07 19:49:47 - Precision with Cosine-Similarity:          78.51\n",
      "2022-09-07 19:49:47 - Recall with Cosine-Similarity:             90.06\n",
      "2022-09-07 19:49:47 - Average Precision with Cosine-Similarity:  88.94\n",
      "\n",
      "2022-09-07 19:49:48 - Accuracy with Manhattan-Distance:           79.05\t(Threshold: 750.9552)\n",
      "2022-09-07 19:49:48 - F1 with Manhattan-Distance:                 84.67\t(Threshold: 756.5404)\n",
      "2022-09-07 19:49:48 - Precision with Manhattan-Distance:          78.25\n",
      "2022-09-07 19:49:48 - Recall with Manhattan-Distance:             92.25\n",
      "2022-09-07 19:49:48 - Average Precision with Manhattan-Distance:  89.09\n",
      "\n",
      "2022-09-07 19:49:48 - Accuracy with Euclidean-Distance:           78.93\t(Threshold: 34.3741)\n",
      "2022-09-07 19:49:48 - F1 with Euclidean-Distance:                 84.57\t(Threshold: 34.7836)\n",
      "2022-09-07 19:49:48 - Precision with Euclidean-Distance:          77.80\n",
      "2022-09-07 19:49:48 - Recall with Euclidean-Distance:             92.64\n",
      "2022-09-07 19:49:48 - Average Precision with Euclidean-Distance:  89.12\n",
      "\n",
      "2022-09-07 19:49:48 - Accuracy with Dot-Product:           78.30\t(Threshold: 337.5382)\n",
      "2022-09-07 19:49:48 - F1 with Dot-Product:                 83.69\t(Threshold: 179.6838)\n",
      "2022-09-07 19:49:48 - Precision with Dot-Product:          73.93\n",
      "2022-09-07 19:49:48 - Recall with Dot-Product:             96.42\n",
      "2022-09-07 19:49:48 - Average Precision with Dot-Product:  88.36\n",
      "\n"
     ]
    },
    {
     "data": {
      "application/vnd.jupyter.widget-view+json": {
       "model_id": "297083eb2815467980fe2b1fcdfcf6d9",
       "version_major": 2,
       "version_minor": 0
      },
      "text/plain": [
       "Iteration:   0%|          | 0/77 [00:00<?, ?it/s]"
      ]
     },
     "metadata": {},
     "output_type": "display_data"
    },
    {
     "name": "stdout",
     "output_type": "stream",
     "text": [
      "2022-09-07 19:49:53 - Binary Accuracy Evaluation of the model on  dataset after epoch 9:\n",
      "2022-09-07 19:49:54 - Accuracy with Cosine-Similarity:           78.55\t(Threshold: 0.3946)\n",
      "2022-09-07 19:49:54 - F1 with Cosine-Similarity:                 83.86\t(Threshold: 0.3583)\n",
      "2022-09-07 19:49:54 - Precision with Cosine-Similarity:          78.61\n",
      "2022-09-07 19:49:54 - Recall with Cosine-Similarity:             89.86\n",
      "2022-09-07 19:49:54 - Average Precision with Cosine-Similarity:  88.93\n",
      "\n",
      "2022-09-07 19:49:54 - Accuracy with Manhattan-Distance:           79.05\t(Threshold: 751.0348)\n",
      "2022-09-07 19:49:54 - F1 with Manhattan-Distance:                 84.67\t(Threshold: 755.4767)\n",
      "2022-09-07 19:49:54 - Precision with Manhattan-Distance:          78.25\n",
      "2022-09-07 19:49:54 - Recall with Manhattan-Distance:             92.25\n",
      "2022-09-07 19:49:54 - Average Precision with Manhattan-Distance:  89.07\n",
      "\n",
      "2022-09-07 19:49:54 - Accuracy with Euclidean-Distance:           78.80\t(Threshold: 34.1858)\n",
      "2022-09-07 19:49:54 - F1 with Euclidean-Distance:                 84.50\t(Threshold: 34.8081)\n",
      "2022-09-07 19:49:54 - Precision with Euclidean-Distance:          77.67\n",
      "2022-09-07 19:49:54 - Recall with Euclidean-Distance:             92.64\n",
      "2022-09-07 19:49:54 - Average Precision with Euclidean-Distance:  89.11\n",
      "\n",
      "2022-09-07 19:49:54 - Accuracy with Dot-Product:           78.30\t(Threshold: 342.5577)\n",
      "2022-09-07 19:49:54 - F1 with Dot-Product:                 83.65\t(Threshold: 175.4078)\n",
      "2022-09-07 19:49:54 - Precision with Dot-Product:          73.75\n",
      "2022-09-07 19:49:54 - Recall with Dot-Product:             96.62\n",
      "2022-09-07 19:49:54 - Average Precision with Dot-Product:  88.35\n",
      "\n",
      "Training done...\n",
      "\n",
      "\n",
      "\n",
      "                     ********** sentence-transformers/paraphrase-albert-small-v2 **********\n",
      "2022-09-07 19:49:54 - Load pretrained SentenceTransformer: binary_sim_output/sentence-transformers/paraphrase-albert-small-v2\n",
      "2022-09-07 19:49:54 - Use pytorch device: cuda\n",
      "2022-09-07 19:49:54 - Softmax loss: #Vectors concatenated: 3\n",
      "2022-09-07 19:49:54 - EmbeddingSimilarityEvaluator: Evaluating the model on SPRAG-test dataset:\n",
      "2022-09-07 19:49:56 - Cosine-Similarity :\tPearson: 0.5842\tSpearman: 0.5766\n",
      "2022-09-07 19:49:56 - Manhattan-Distance:\tPearson: 0.5523\tSpearman: 0.5843\n",
      "2022-09-07 19:49:56 - Euclidean-Distance:\tPearson: 0.5525\tSpearman: 0.5849\n",
      "2022-09-07 19:49:56 - Dot-Product-Similarity:\tPearson: 0.5704\tSpearman: 0.5620\n",
      "2022-09-07 19:49:56 - Binary Accuracy Evaluation of the model on  dataset:\n",
      "2022-09-07 19:49:56 - Accuracy with Cosine-Similarity:           78.43\t(Threshold: 0.3772)\n",
      "2022-09-07 19:49:56 - F1 with Cosine-Similarity:                 83.78\t(Threshold: 0.3152)\n",
      "2022-09-07 19:49:56 - Precision with Cosine-Similarity:          76.61\n",
      "2022-09-07 19:49:56 - Recall with Cosine-Similarity:             92.45\n",
      "2022-09-07 19:49:56 - Average Precision with Cosine-Similarity:  89.15\n",
      "\n",
      "2022-09-07 19:49:56 - Accuracy with Manhattan-Distance:           78.93\t(Threshold: 715.5815)\n",
      "2022-09-07 19:49:56 - F1 with Manhattan-Distance:                 84.77\t(Threshold: 762.1392)\n",
      "2022-09-07 19:49:56 - Precision with Manhattan-Distance:          76.77\n",
      "2022-09-07 19:49:56 - Recall with Manhattan-Distance:             94.63\n",
      "2022-09-07 19:49:56 - Average Precision with Manhattan-Distance:  89.32\n",
      "\n",
      "2022-09-07 19:49:56 - Accuracy with Euclidean-Distance:           78.93\t(Threshold: 32.3341)\n",
      "2022-09-07 19:49:56 - F1 with Euclidean-Distance:                 84.45\t(Threshold: 35.2219)\n",
      "2022-09-07 19:49:56 - Precision with Euclidean-Distance:          75.99\n",
      "2022-09-07 19:49:56 - Recall with Euclidean-Distance:             95.03\n",
      "2022-09-07 19:49:56 - Average Precision with Euclidean-Distance:  89.35\n",
      "\n",
      "2022-09-07 19:49:56 - Accuracy with Dot-Product:           77.81\t(Threshold: 310.5930)\n",
      "2022-09-07 19:49:56 - F1 with Dot-Product:                 83.59\t(Threshold: 289.5775)\n",
      "2022-09-07 19:49:56 - Precision with Dot-Product:          77.55\n",
      "2022-09-07 19:49:56 - Recall with Dot-Product:             90.66\n",
      "2022-09-07 19:49:56 - Average Precision with Dot-Product:  88.48\n",
      "\n"
     ]
    },
    {
     "data": {
      "text/plain": [
       "0.893463682902669"
      ]
     },
     "execution_count": 86,
     "metadata": {},
     "output_type": "execute_result"
    }
   ],
   "source": [
    "st_model = 'sentence-transformers/paraphrase-albert-small-v2'\n",
    "num_epochs = 10\n",
    "batch_size=16\n",
    "model_save_path = \"binary_sim_output/\"+st_model\n",
    "train_dataloader = DataLoader(train_examples, shuffle=True, batch_size=batch_size)\n",
    "  \n",
    "test_dataloader = DataLoader(test_examples, shuffle=True, batch_size=batch_size)\n",
    "model = train_and_evaluate(st_model, train_dataloader, test_dataloader, num_epochs, model_save_path)\n",
    "print(\"\\n\\n\")\n",
    "print(\" \"*20, \"*\"*10, st_model , \"*\"*10)\n",
    "\n",
    "# Load the stored model and evaluate its performance on mohler test dataset\n",
    "model = SentenceTransformer(model_save_path)\n",
    "train_loss = losses.SoftmaxLoss(model=model, sentence_embedding_dimension=model.get_sentence_embedding_dimension(), num_labels=2)\n",
    "test_evaluator = evaluation.EmbeddingSimilarityEvaluator.from_input_examples(test_examples, batch_size=16, name='SPRAG-test')\n",
    "test_evaluator(model, output_path=model_save_path)\n",
    "train_loss.cuda()\n",
    "\n",
    "x_test_dA = test_data['ReferenceAnswer'].values.tolist()\n",
    "x_test_sA = test_data['StudentAnswer'].values.tolist()\n",
    "y_test = test_labels \n",
    "\n",
    "evaluator = evaluation.BinaryClassificationEvaluator(x_test_dA, x_test_sA, y_test)\n",
    "evaluator(model, output_path=model_save_path)\n"
   ]
  },
  {
   "cell_type": "code",
   "execution_count": 87,
   "id": "513f89bc",
   "metadata": {},
   "outputs": [
    {
     "name": "stdout",
     "output_type": "stream",
     "text": [
      "2022-09-07 19:49:56 - Load pretrained SentenceTransformer: sentence-transformers/quora-distilbert-base\n",
      "2022-09-07 19:49:57 - Use pytorch device: cuda\n",
      "2022-09-07 19:49:57 - Softmax loss: #Vectors concatenated: 3\n",
      "77\n"
     ]
    },
    {
     "data": {
      "application/vnd.jupyter.widget-view+json": {
       "model_id": "eae291c28e494efa8dcbf09f59a60a9d",
       "version_major": 2,
       "version_minor": 0
      },
      "text/plain": [
       "Epoch:   0%|          | 0/10 [00:00<?, ?it/s]"
      ]
     },
     "metadata": {},
     "output_type": "display_data"
    },
    {
     "data": {
      "application/vnd.jupyter.widget-view+json": {
       "model_id": "4ae3f4d790034245955ce7522a97aeab",
       "version_major": 2,
       "version_minor": 0
      },
      "text/plain": [
       "Iteration:   0%|          | 0/77 [00:00<?, ?it/s]"
      ]
     },
     "metadata": {},
     "output_type": "display_data"
    },
    {
     "name": "stdout",
     "output_type": "stream",
     "text": [
      "2022-09-07 19:50:03 - Binary Accuracy Evaluation of the model on  dataset after epoch 0:\n",
      "2022-09-07 19:50:04 - Accuracy with Cosine-Similarity:           76.31\t(Threshold: 0.4619)\n",
      "2022-09-07 19:50:04 - F1 with Cosine-Similarity:                 82.30\t(Threshold: 0.4117)\n",
      "2022-09-07 19:50:04 - Precision with Cosine-Similarity:          76.05\n",
      "2022-09-07 19:50:04 - Recall with Cosine-Similarity:             89.66\n",
      "2022-09-07 19:50:04 - Average Precision with Cosine-Similarity:  88.44\n",
      "\n",
      "2022-09-07 19:50:04 - Accuracy with Manhattan-Distance:           75.19\t(Threshold: 292.5936)\n",
      "2022-09-07 19:50:04 - F1 with Manhattan-Distance:                 81.14\t(Threshold: 314.9000)\n",
      "2022-09-07 19:50:04 - Precision with Manhattan-Distance:          75.21\n",
      "2022-09-07 19:50:04 - Recall with Manhattan-Distance:             88.07\n",
      "2022-09-07 19:50:04 - Average Precision with Manhattan-Distance:  86.59\n",
      "\n",
      "2022-09-07 19:50:04 - Accuracy with Euclidean-Distance:           75.44\t(Threshold: 13.6799)\n",
      "2022-09-07 19:50:04 - F1 with Euclidean-Distance:                 80.89\t(Threshold: 13.7822)\n",
      "2022-09-07 19:50:04 - Precision with Euclidean-Distance:          78.61\n",
      "2022-09-07 19:50:04 - Recall with Euclidean-Distance:             83.30\n",
      "2022-09-07 19:50:04 - Average Precision with Euclidean-Distance:  86.63\n",
      "\n",
      "2022-09-07 19:50:04 - Accuracy with Dot-Product:           76.43\t(Threshold: 61.7577)\n",
      "2022-09-07 19:50:04 - F1 with Dot-Product:                 83.05\t(Threshold: 61.7577)\n",
      "2022-09-07 19:50:04 - Precision with Dot-Product:          75.65\n",
      "2022-09-07 19:50:04 - Recall with Dot-Product:             92.05\n",
      "2022-09-07 19:50:04 - Average Precision with Dot-Product:  88.13\n",
      "\n",
      "2022-09-07 19:50:04 - Save model to binary_sim_output/sentence-transformers/quora-distilbert-base\n"
     ]
    },
    {
     "data": {
      "application/vnd.jupyter.widget-view+json": {
       "model_id": "4c569fbd6e904281a2a7bba188929d98",
       "version_major": 2,
       "version_minor": 0
      },
      "text/plain": [
       "Iteration:   0%|          | 0/77 [00:00<?, ?it/s]"
      ]
     },
     "metadata": {},
     "output_type": "display_data"
    },
    {
     "name": "stdout",
     "output_type": "stream",
     "text": [
      "2022-09-07 19:50:10 - Binary Accuracy Evaluation of the model on  dataset after epoch 1:\n",
      "2022-09-07 19:50:11 - Accuracy with Cosine-Similarity:           79.80\t(Threshold: 0.4511)\n",
      "2022-09-07 19:50:11 - F1 with Cosine-Similarity:                 84.62\t(Threshold: 0.3924)\n",
      "2022-09-07 19:50:11 - Precision with Cosine-Similarity:          79.65\n",
      "2022-09-07 19:50:11 - Recall with Cosine-Similarity:             90.26\n",
      "2022-09-07 19:50:11 - Average Precision with Cosine-Similarity:  90.20\n",
      "\n",
      "2022-09-07 19:50:11 - Accuracy with Manhattan-Distance:           79.18\t(Threshold: 341.7511)\n",
      "2022-09-07 19:50:11 - F1 with Manhattan-Distance:                 84.20\t(Threshold: 341.7511)\n",
      "2022-09-07 19:50:11 - Precision with Manhattan-Distance:          80.32\n",
      "2022-09-07 19:50:11 - Recall with Manhattan-Distance:             88.47\n",
      "2022-09-07 19:50:11 - Average Precision with Manhattan-Distance:  89.30\n",
      "\n",
      "2022-09-07 19:50:11 - Accuracy with Euclidean-Distance:           78.80\t(Threshold: 15.6599)\n",
      "2022-09-07 19:50:11 - F1 with Euclidean-Distance:                 84.00\t(Threshold: 15.8055)\n",
      "2022-09-07 19:50:11 - Precision with Euclidean-Distance:          79.33\n",
      "2022-09-07 19:50:11 - Recall with Euclidean-Distance:             89.26\n",
      "2022-09-07 19:50:11 - Average Precision with Euclidean-Distance:  89.42\n",
      "\n",
      "2022-09-07 19:50:11 - Accuracy with Dot-Product:           79.30\t(Threshold: 64.8306)\n",
      "2022-09-07 19:50:11 - F1 with Dot-Product:                 85.26\t(Threshold: 64.2695)\n",
      "2022-09-07 19:50:11 - Precision with Dot-Product:          77.05\n",
      "2022-09-07 19:50:11 - Recall with Dot-Product:             95.43\n",
      "2022-09-07 19:50:11 - Average Precision with Dot-Product:  90.05\n",
      "\n",
      "2022-09-07 19:50:11 - Save model to binary_sim_output/sentence-transformers/quora-distilbert-base\n"
     ]
    },
    {
     "data": {
      "application/vnd.jupyter.widget-view+json": {
       "model_id": "8f59ecfa7292451cb6bd4839986340fc",
       "version_major": 2,
       "version_minor": 0
      },
      "text/plain": [
       "Iteration:   0%|          | 0/77 [00:00<?, ?it/s]"
      ]
     },
     "metadata": {},
     "output_type": "display_data"
    },
    {
     "name": "stdout",
     "output_type": "stream",
     "text": [
      "2022-09-07 19:50:18 - Binary Accuracy Evaluation of the model on  dataset after epoch 2:\n",
      "2022-09-07 19:50:18 - Accuracy with Cosine-Similarity:           80.67\t(Threshold: 0.3775)\n",
      "2022-09-07 19:50:18 - F1 with Cosine-Similarity:                 85.66\t(Threshold: 0.3775)\n",
      "2022-09-07 19:50:18 - Precision with Cosine-Similarity:          80.10\n",
      "2022-09-07 19:50:18 - Recall with Cosine-Similarity:             92.05\n",
      "2022-09-07 19:50:18 - Average Precision with Cosine-Similarity:  91.38\n",
      "\n",
      "2022-09-07 19:50:18 - Accuracy with Manhattan-Distance:           79.93\t(Threshold: 365.6235)\n",
      "2022-09-07 19:50:18 - F1 with Manhattan-Distance:                 85.33\t(Threshold: 373.7770)\n",
      "2022-09-07 19:50:18 - Precision with Manhattan-Distance:          78.37\n",
      "2022-09-07 19:50:18 - Recall with Manhattan-Distance:             93.64\n",
      "2022-09-07 19:50:18 - Average Precision with Manhattan-Distance:  90.63\n",
      "\n",
      "2022-09-07 19:50:18 - Accuracy with Euclidean-Distance:           80.05\t(Threshold: 17.2563)\n",
      "2022-09-07 19:50:18 - F1 with Euclidean-Distance:                 85.59\t(Threshold: 17.4350)\n",
      "2022-09-07 19:50:18 - Precision with Euclidean-Distance:          78.25\n",
      "2022-09-07 19:50:18 - Recall with Euclidean-Distance:             94.43\n",
      "2022-09-07 19:50:18 - Average Precision with Euclidean-Distance:  90.73\n",
      "\n",
      "2022-09-07 19:50:18 - Accuracy with Dot-Product:           80.80\t(Threshold: 115.9430)\n",
      "2022-09-07 19:50:18 - F1 with Dot-Product:                 85.15\t(Threshold: 66.4876)\n",
      "2022-09-07 19:50:18 - Precision with Dot-Product:          77.40\n",
      "2022-09-07 19:50:18 - Recall with Dot-Product:             94.63\n",
      "2022-09-07 19:50:18 - Average Precision with Dot-Product:  91.07\n",
      "\n",
      "2022-09-07 19:50:18 - Save model to binary_sim_output/sentence-transformers/quora-distilbert-base\n"
     ]
    },
    {
     "data": {
      "application/vnd.jupyter.widget-view+json": {
       "model_id": "2f877246d82d4e45bfd1f98c1cada66a",
       "version_major": 2,
       "version_minor": 0
      },
      "text/plain": [
       "Iteration:   0%|          | 0/77 [00:00<?, ?it/s]"
      ]
     },
     "metadata": {},
     "output_type": "display_data"
    },
    {
     "name": "stdout",
     "output_type": "stream",
     "text": [
      "2022-09-07 19:50:25 - Binary Accuracy Evaluation of the model on  dataset after epoch 3:\n",
      "2022-09-07 19:50:25 - Accuracy with Cosine-Similarity:           81.17\t(Threshold: 0.4762)\n",
      "2022-09-07 19:50:25 - F1 with Cosine-Similarity:                 85.77\t(Threshold: 0.4594)\n",
      "2022-09-07 19:50:25 - Precision with Cosine-Similarity:          81.54\n",
      "2022-09-07 19:50:25 - Recall with Cosine-Similarity:             90.46\n",
      "2022-09-07 19:50:25 - Average Precision with Cosine-Similarity:  90.77\n",
      "\n",
      "2022-09-07 19:50:25 - Accuracy with Manhattan-Distance:           80.05\t(Threshold: 368.6294)\n",
      "2022-09-07 19:50:25 - F1 with Manhattan-Distance:                 85.32\t(Threshold: 373.1897)\n",
      "2022-09-07 19:50:25 - Precision with Manhattan-Distance:          79.22\n",
      "2022-09-07 19:50:25 - Recall with Manhattan-Distance:             92.45\n",
      "2022-09-07 19:50:25 - Average Precision with Manhattan-Distance:  90.64\n",
      "\n",
      "2022-09-07 19:50:25 - Accuracy with Euclidean-Distance:           80.30\t(Threshold: 15.4380)\n",
      "2022-09-07 19:50:25 - F1 with Euclidean-Distance:                 85.45\t(Threshold: 16.9333)\n",
      "2022-09-07 19:50:25 - Precision with Euclidean-Distance:          79.59\n",
      "2022-09-07 19:50:25 - Recall with Euclidean-Distance:             92.25\n",
      "2022-09-07 19:50:25 - Average Precision with Euclidean-Distance:  90.66\n",
      "\n",
      "2022-09-07 19:50:25 - Accuracy with Dot-Product:           80.67\t(Threshold: 115.3358)\n",
      "2022-09-07 19:50:25 - F1 with Dot-Product:                 85.34\t(Threshold: 112.2724)\n",
      "2022-09-07 19:50:25 - Precision with Dot-Product:          81.41\n",
      "2022-09-07 19:50:25 - Recall with Dot-Product:             89.66\n",
      "2022-09-07 19:50:25 - Average Precision with Dot-Product:  90.55\n",
      "\n"
     ]
    },
    {
     "data": {
      "application/vnd.jupyter.widget-view+json": {
       "model_id": "ec08b798c6e340f1abbd1ba3e0d271c2",
       "version_major": 2,
       "version_minor": 0
      },
      "text/plain": [
       "Iteration:   0%|          | 0/77 [00:00<?, ?it/s]"
      ]
     },
     "metadata": {},
     "output_type": "display_data"
    },
    {
     "name": "stdout",
     "output_type": "stream",
     "text": [
      "2022-09-07 19:50:32 - Binary Accuracy Evaluation of the model on  dataset after epoch 4:\n",
      "2022-09-07 19:50:32 - Accuracy with Cosine-Similarity:           79.30\t(Threshold: 0.1907)\n",
      "2022-09-07 19:50:32 - F1 with Cosine-Similarity:                 84.91\t(Threshold: 0.1818)\n",
      "2022-09-07 19:50:32 - Precision with Cosine-Similarity:          78.22\n",
      "2022-09-07 19:50:32 - Recall with Cosine-Similarity:             92.84\n",
      "2022-09-07 19:50:32 - Average Precision with Cosine-Similarity:  89.86\n",
      "\n",
      "2022-09-07 19:50:32 - Accuracy with Manhattan-Distance:           78.93\t(Threshold: 445.3909)\n",
      "2022-09-07 19:50:32 - F1 with Manhattan-Distance:                 84.82\t(Threshold: 448.2977)\n",
      "2022-09-07 19:50:32 - Precision with Manhattan-Distance:          77.38\n",
      "2022-09-07 19:50:32 - Recall with Manhattan-Distance:             93.84\n",
      "2022-09-07 19:50:32 - Average Precision with Manhattan-Distance:  89.55\n",
      "\n",
      "2022-09-07 19:50:32 - Accuracy with Euclidean-Distance:           79.18\t(Threshold: 20.1429)\n",
      "2022-09-07 19:50:32 - F1 with Euclidean-Distance:                 85.00\t(Threshold: 20.4964)\n",
      "2022-09-07 19:50:32 - Precision with Euclidean-Distance:          77.54\n",
      "2022-09-07 19:50:32 - Recall with Euclidean-Distance:             94.04\n",
      "2022-09-07 19:50:32 - Average Precision with Euclidean-Distance:  89.61\n",
      "\n",
      "2022-09-07 19:50:32 - Accuracy with Dot-Product:           79.43\t(Threshold: 66.3855)\n",
      "2022-09-07 19:50:32 - F1 with Dot-Product:                 84.89\t(Threshold: 35.3417)\n",
      "2022-09-07 19:50:32 - Precision with Dot-Product:          77.50\n",
      "2022-09-07 19:50:32 - Recall with Dot-Product:             93.84\n",
      "2022-09-07 19:50:32 - Average Precision with Dot-Product:  89.61\n",
      "\n"
     ]
    },
    {
     "data": {
      "application/vnd.jupyter.widget-view+json": {
       "model_id": "9837b023c2af461ba972fae506f623a4",
       "version_major": 2,
       "version_minor": 0
      },
      "text/plain": [
       "Iteration:   0%|          | 0/77 [00:00<?, ?it/s]"
      ]
     },
     "metadata": {},
     "output_type": "display_data"
    },
    {
     "name": "stdout",
     "output_type": "stream",
     "text": [
      "2022-09-07 19:50:38 - Binary Accuracy Evaluation of the model on  dataset after epoch 5:\n",
      "2022-09-07 19:50:39 - Accuracy with Cosine-Similarity:           79.80\t(Threshold: 0.3437)\n",
      "2022-09-07 19:50:39 - F1 with Cosine-Similarity:                 84.90\t(Threshold: 0.1375)\n",
      "2022-09-07 19:50:39 - Precision with Cosine-Similarity:          76.73\n",
      "2022-09-07 19:50:39 - Recall with Cosine-Similarity:             95.03\n",
      "2022-09-07 19:50:39 - Average Precision with Cosine-Similarity:  90.02\n",
      "\n",
      "2022-09-07 19:50:39 - Accuracy with Manhattan-Distance:           79.05\t(Threshold: 417.5568)\n",
      "2022-09-07 19:50:39 - F1 with Manhattan-Distance:                 84.96\t(Threshold: 469.2950)\n",
      "2022-09-07 19:50:39 - Precision with Manhattan-Distance:          76.18\n",
      "2022-09-07 19:50:39 - Recall with Manhattan-Distance:             96.02\n",
      "2022-09-07 19:50:39 - Average Precision with Manhattan-Distance:  89.92\n",
      "\n",
      "2022-09-07 19:50:39 - Accuracy with Euclidean-Distance:           79.18\t(Threshold: 18.3206)\n",
      "2022-09-07 19:50:39 - F1 with Euclidean-Distance:                 85.13\t(Threshold: 20.9526)\n",
      "2022-09-07 19:50:39 - Precision with Euclidean-Distance:          76.71\n",
      "2022-09-07 19:50:39 - Recall with Euclidean-Distance:             95.63\n",
      "2022-09-07 19:50:39 - Average Precision with Euclidean-Distance:  89.94\n",
      "\n",
      "2022-09-07 19:50:39 - Accuracy with Dot-Product:           80.05\t(Threshold: 84.5990)\n",
      "2022-09-07 19:50:39 - F1 with Dot-Product:                 85.02\t(Threshold: 39.6385)\n",
      "2022-09-07 19:50:39 - Precision with Dot-Product:          77.45\n",
      "2022-09-07 19:50:39 - Recall with Dot-Product:             94.23\n",
      "2022-09-07 19:50:39 - Average Precision with Dot-Product:  89.79\n",
      "\n"
     ]
    },
    {
     "data": {
      "application/vnd.jupyter.widget-view+json": {
       "model_id": "400f891f01bd4fdaa05b8816fca61047",
       "version_major": 2,
       "version_minor": 0
      },
      "text/plain": [
       "Iteration:   0%|          | 0/77 [00:00<?, ?it/s]"
      ]
     },
     "metadata": {},
     "output_type": "display_data"
    },
    {
     "name": "stdout",
     "output_type": "stream",
     "text": [
      "2022-09-07 19:50:45 - Binary Accuracy Evaluation of the model on  dataset after epoch 6:\n",
      "2022-09-07 19:50:45 - Accuracy with Cosine-Similarity:           80.42\t(Threshold: 0.5100)\n",
      "2022-09-07 19:50:45 - F1 with Cosine-Similarity:                 85.23\t(Threshold: 0.5100)\n",
      "2022-09-07 19:50:45 - Precision with Cosine-Similarity:          80.89\n",
      "2022-09-07 19:50:45 - Recall with Cosine-Similarity:             90.06\n",
      "2022-09-07 19:50:45 - Average Precision with Cosine-Similarity:  90.29\n",
      "\n",
      "2022-09-07 19:50:45 - Accuracy with Manhattan-Distance:           80.30\t(Threshold: 340.1946)\n",
      "2022-09-07 19:50:45 - F1 with Manhattan-Distance:                 85.19\t(Threshold: 390.1080)\n",
      "2022-09-07 19:50:45 - Precision with Manhattan-Distance:          78.85\n",
      "2022-09-07 19:50:45 - Recall with Manhattan-Distance:             92.64\n",
      "2022-09-07 19:50:45 - Average Precision with Manhattan-Distance:  90.30\n",
      "\n",
      "2022-09-07 19:50:45 - Accuracy with Euclidean-Distance:           80.42\t(Threshold: 15.4813)\n",
      "2022-09-07 19:50:45 - F1 with Euclidean-Distance:                 85.27\t(Threshold: 17.6253)\n",
      "2022-09-07 19:50:45 - Precision with Euclidean-Distance:          78.98\n",
      "2022-09-07 19:50:45 - Recall with Euclidean-Distance:             92.64\n",
      "2022-09-07 19:50:45 - Average Precision with Euclidean-Distance:  90.30\n",
      "\n",
      "2022-09-07 19:50:45 - Accuracy with Dot-Product:           79.93\t(Threshold: 127.6183)\n",
      "2022-09-07 19:50:45 - F1 with Dot-Product:                 85.08\t(Threshold: 127.6183)\n",
      "2022-09-07 19:50:45 - Precision with Dot-Product:          79.69\n",
      "2022-09-07 19:50:45 - Recall with Dot-Product:             91.25\n",
      "2022-09-07 19:50:45 - Average Precision with Dot-Product:  89.98\n",
      "\n"
     ]
    },
    {
     "data": {
      "application/vnd.jupyter.widget-view+json": {
       "model_id": "41aabf1961964b7bb0dd187f6d725e22",
       "version_major": 2,
       "version_minor": 0
      },
      "text/plain": [
       "Iteration:   0%|          | 0/77 [00:00<?, ?it/s]"
      ]
     },
     "metadata": {},
     "output_type": "display_data"
    },
    {
     "name": "stdout",
     "output_type": "stream",
     "text": [
      "2022-09-07 19:50:52 - Binary Accuracy Evaluation of the model on  dataset after epoch 7:\n",
      "2022-09-07 19:50:52 - Accuracy with Cosine-Similarity:           80.05\t(Threshold: 0.4182)\n",
      "2022-09-07 19:50:52 - F1 with Cosine-Similarity:                 85.02\t(Threshold: 0.4182)\n",
      "2022-09-07 19:50:52 - Precision with Cosine-Similarity:          80.35\n",
      "2022-09-07 19:50:52 - Recall with Cosine-Similarity:             90.26\n",
      "2022-09-07 19:50:52 - Average Precision with Cosine-Similarity:  89.68\n",
      "\n",
      "2022-09-07 19:50:52 - Accuracy with Manhattan-Distance:           79.93\t(Threshold: 380.8543)\n",
      "2022-09-07 19:50:52 - F1 with Manhattan-Distance:                 84.87\t(Threshold: 396.4691)\n",
      "2022-09-07 19:50:52 - Precision with Manhattan-Distance:          79.62\n",
      "2022-09-07 19:50:52 - Recall with Manhattan-Distance:             90.85\n",
      "2022-09-07 19:50:52 - Average Precision with Manhattan-Distance:  89.73\n",
      "\n",
      "2022-09-07 19:50:52 - Accuracy with Euclidean-Distance:           80.05\t(Threshold: 17.6248)\n",
      "2022-09-07 19:50:52 - F1 with Euclidean-Distance:                 85.05\t(Threshold: 17.9919)\n",
      "2022-09-07 19:50:52 - Precision with Euclidean-Distance:          79.79\n",
      "2022-09-07 19:50:52 - Recall with Euclidean-Distance:             91.05\n",
      "2022-09-07 19:50:52 - Average Precision with Euclidean-Distance:  89.72\n",
      "\n",
      "2022-09-07 19:50:52 - Accuracy with Dot-Product:           79.93\t(Threshold: 114.5012)\n",
      "2022-09-07 19:50:52 - F1 with Dot-Product:                 84.94\t(Threshold: 111.4562)\n",
      "2022-09-07 19:50:52 - Precision with Dot-Product:          80.21\n",
      "2022-09-07 19:50:52 - Recall with Dot-Product:             90.26\n",
      "2022-09-07 19:50:52 - Average Precision with Dot-Product:  89.30\n",
      "\n"
     ]
    },
    {
     "data": {
      "application/vnd.jupyter.widget-view+json": {
       "model_id": "922a1bf48f6143e89f99946f08b58e28",
       "version_major": 2,
       "version_minor": 0
      },
      "text/plain": [
       "Iteration:   0%|          | 0/77 [00:00<?, ?it/s]"
      ]
     },
     "metadata": {},
     "output_type": "display_data"
    },
    {
     "name": "stdout",
     "output_type": "stream",
     "text": [
      "2022-09-07 19:50:58 - Binary Accuracy Evaluation of the model on  dataset after epoch 8:\n",
      "2022-09-07 19:50:59 - Accuracy with Cosine-Similarity:           80.42\t(Threshold: 0.4732)\n",
      "2022-09-07 19:50:59 - F1 with Cosine-Similarity:                 85.23\t(Threshold: 0.4706)\n",
      "2022-09-07 19:50:59 - Precision with Cosine-Similarity:          80.89\n",
      "2022-09-07 19:50:59 - Recall with Cosine-Similarity:             90.06\n",
      "2022-09-07 19:50:59 - Average Precision with Cosine-Similarity:  89.74\n",
      "\n",
      "2022-09-07 19:50:59 - Accuracy with Manhattan-Distance:           80.30\t(Threshold: 369.9520)\n",
      "2022-09-07 19:50:59 - F1 with Manhattan-Distance:                 85.12\t(Threshold: 370.5976)\n",
      "2022-09-07 19:50:59 - Precision with Manhattan-Distance:          80.86\n",
      "2022-09-07 19:50:59 - Recall with Manhattan-Distance:             89.86\n",
      "2022-09-07 19:50:59 - Average Precision with Manhattan-Distance:  89.77\n",
      "\n",
      "2022-09-07 19:50:59 - Accuracy with Euclidean-Distance:           80.42\t(Threshold: 17.0011)\n",
      "2022-09-07 19:50:59 - F1 with Euclidean-Distance:                 85.23\t(Threshold: 17.0011)\n",
      "2022-09-07 19:50:59 - Precision with Euclidean-Distance:          80.89\n",
      "2022-09-07 19:50:59 - Recall with Euclidean-Distance:             90.06\n",
      "2022-09-07 19:50:59 - Average Precision with Euclidean-Distance:  89.77\n",
      "\n",
      "2022-09-07 19:50:59 - Accuracy with Dot-Product:           80.30\t(Threshold: 119.2727)\n",
      "2022-09-07 19:50:59 - F1 with Dot-Product:                 85.21\t(Threshold: 119.2727)\n",
      "2022-09-07 19:50:59 - Precision with Dot-Product:          80.53\n",
      "2022-09-07 19:50:59 - Recall with Dot-Product:             90.46\n",
      "2022-09-07 19:50:59 - Average Precision with Dot-Product:  89.33\n",
      "\n"
     ]
    },
    {
     "data": {
      "application/vnd.jupyter.widget-view+json": {
       "model_id": "8fb9fe77708147ba855f02c812ae4ff1",
       "version_major": 2,
       "version_minor": 0
      },
      "text/plain": [
       "Iteration:   0%|          | 0/77 [00:00<?, ?it/s]"
      ]
     },
     "metadata": {},
     "output_type": "display_data"
    },
    {
     "name": "stdout",
     "output_type": "stream",
     "text": [
      "2022-09-07 19:51:05 - Binary Accuracy Evaluation of the model on  dataset after epoch 9:\n",
      "2022-09-07 19:51:05 - Accuracy with Cosine-Similarity:           80.30\t(Threshold: 0.4643)\n",
      "2022-09-07 19:51:05 - F1 with Cosine-Similarity:                 85.12\t(Threshold: 0.4643)\n",
      "2022-09-07 19:51:05 - Precision with Cosine-Similarity:          80.86\n",
      "2022-09-07 19:51:05 - Recall with Cosine-Similarity:             89.86\n",
      "2022-09-07 19:51:05 - Average Precision with Cosine-Similarity:  89.70\n",
      "\n",
      "2022-09-07 19:51:05 - Accuracy with Manhattan-Distance:           80.17\t(Threshold: 369.2143)\n",
      "2022-09-07 19:51:05 - F1 with Manhattan-Distance:                 85.01\t(Threshold: 370.0088)\n",
      "2022-09-07 19:51:05 - Precision with Manhattan-Distance:          80.82\n",
      "2022-09-07 19:51:05 - Recall with Manhattan-Distance:             89.66\n",
      "2022-09-07 19:51:05 - Average Precision with Manhattan-Distance:  89.73\n",
      "\n",
      "2022-09-07 19:51:05 - Accuracy with Euclidean-Distance:           80.30\t(Threshold: 17.1013)\n",
      "2022-09-07 19:51:05 - F1 with Euclidean-Distance:                 85.12\t(Threshold: 17.1013)\n",
      "2022-09-07 19:51:05 - Precision with Euclidean-Distance:          80.86\n",
      "2022-09-07 19:51:05 - Recall with Euclidean-Distance:             89.86\n",
      "2022-09-07 19:51:05 - Average Precision with Euclidean-Distance:  89.73\n",
      "\n",
      "2022-09-07 19:51:05 - Accuracy with Dot-Product:           80.17\t(Threshold: 120.3435)\n",
      "2022-09-07 19:51:05 - F1 with Dot-Product:                 85.10\t(Threshold: 120.3435)\n",
      "2022-09-07 19:51:05 - Precision with Dot-Product:          80.50\n",
      "2022-09-07 19:51:05 - Recall with Dot-Product:             90.26\n",
      "2022-09-07 19:51:05 - Average Precision with Dot-Product:  89.27\n",
      "\n",
      "Training done...\n",
      "\n",
      "\n",
      "\n",
      "                     ********** sentence-transformers/quora-distilbert-base **********\n",
      "2022-09-07 19:51:05 - Load pretrained SentenceTransformer: binary_sim_output/sentence-transformers/quora-distilbert-base\n",
      "2022-09-07 19:51:06 - Use pytorch device: cuda\n",
      "2022-09-07 19:51:06 - Softmax loss: #Vectors concatenated: 3\n",
      "2022-09-07 19:51:06 - EmbeddingSimilarityEvaluator: Evaluating the model on SPRAG-test dataset:\n",
      "2022-09-07 19:51:07 - Cosine-Similarity :\tPearson: 0.6313\tSpearman: 0.6202\n",
      "2022-09-07 19:51:07 - Manhattan-Distance:\tPearson: 0.5834\tSpearman: 0.6026\n",
      "2022-09-07 19:51:07 - Euclidean-Distance:\tPearson: 0.5892\tSpearman: 0.6065\n",
      "2022-09-07 19:51:07 - Dot-Product-Similarity:\tPearson: 0.6284\tSpearman: 0.6152\n",
      "2022-09-07 19:51:07 - Binary Accuracy Evaluation of the model on  dataset:\n",
      "2022-09-07 19:51:08 - Accuracy with Cosine-Similarity:           80.67\t(Threshold: 0.3775)\n",
      "2022-09-07 19:51:08 - F1 with Cosine-Similarity:                 85.66\t(Threshold: 0.3775)\n",
      "2022-09-07 19:51:08 - Precision with Cosine-Similarity:          80.10\n",
      "2022-09-07 19:51:08 - Recall with Cosine-Similarity:             92.05\n",
      "2022-09-07 19:51:08 - Average Precision with Cosine-Similarity:  91.38\n",
      "\n",
      "2022-09-07 19:51:08 - Accuracy with Manhattan-Distance:           79.93\t(Threshold: 365.6235)\n",
      "2022-09-07 19:51:08 - F1 with Manhattan-Distance:                 85.33\t(Threshold: 373.7770)\n",
      "2022-09-07 19:51:08 - Precision with Manhattan-Distance:          78.37\n",
      "2022-09-07 19:51:08 - Recall with Manhattan-Distance:             93.64\n",
      "2022-09-07 19:51:08 - Average Precision with Manhattan-Distance:  90.63\n",
      "\n",
      "2022-09-07 19:51:08 - Accuracy with Euclidean-Distance:           80.05\t(Threshold: 17.2563)\n",
      "2022-09-07 19:51:08 - F1 with Euclidean-Distance:                 85.59\t(Threshold: 17.4350)\n",
      "2022-09-07 19:51:08 - Precision with Euclidean-Distance:          78.25\n",
      "2022-09-07 19:51:08 - Recall with Euclidean-Distance:             94.43\n",
      "2022-09-07 19:51:08 - Average Precision with Euclidean-Distance:  90.73\n",
      "\n",
      "2022-09-07 19:51:08 - Accuracy with Dot-Product:           80.80\t(Threshold: 115.9430)\n",
      "2022-09-07 19:51:08 - F1 with Dot-Product:                 85.15\t(Threshold: 66.4876)\n",
      "2022-09-07 19:51:08 - Precision with Dot-Product:          77.40\n",
      "2022-09-07 19:51:08 - Recall with Dot-Product:             94.63\n",
      "2022-09-07 19:51:08 - Average Precision with Dot-Product:  91.07\n",
      "\n"
     ]
    },
    {
     "data": {
      "text/plain": [
       "0.9137529838469359"
      ]
     },
     "execution_count": 87,
     "metadata": {},
     "output_type": "execute_result"
    }
   ],
   "source": [
    "\n",
    "st_model = 'sentence-transformers/quora-distilbert-base'\n",
    "num_epochs = 10\n",
    "batch_size=16\n",
    "model_save_path = \"binary_sim_output/\"+st_model\n",
    "train_dataloader = DataLoader(train_examples, shuffle=True, batch_size=batch_size)\n",
    "  \n",
    "test_dataloader = DataLoader(test_examples, shuffle=True, batch_size=batch_size)\n",
    "model = train_and_evaluate(st_model, train_dataloader, test_dataloader, num_epochs, model_save_path)\n",
    "print(\"\\n\\n\")\n",
    "print(\" \"*20, \"*\"*10, st_model , \"*\"*10)\n",
    "\n",
    "# Load the stored model and evaluate its performance on mohler test dataset\n",
    "model = SentenceTransformer(model_save_path)\n",
    "train_loss = losses.SoftmaxLoss(model=model, sentence_embedding_dimension=model.get_sentence_embedding_dimension(), num_labels=2)\n",
    "test_evaluator = evaluation.EmbeddingSimilarityEvaluator.from_input_examples(test_examples, batch_size=16, name='SPRAG-test')\n",
    "test_evaluator(model, output_path=model_save_path)\n",
    "train_loss.cuda()\n",
    "\n",
    "x_test_dA = test_data['ReferenceAnswer'].values.tolist()\n",
    "x_test_sA = test_data['StudentAnswer'].values.tolist()\n",
    "y_test = test_labels \n",
    "\n",
    "evaluator = evaluation.BinaryClassificationEvaluator(x_test_dA, x_test_sA, y_test)\n",
    "evaluator(model, output_path=model_save_path)\n"
   ]
  },
  {
   "cell_type": "code",
   "execution_count": 88,
   "id": "2b4f91ba",
   "metadata": {},
   "outputs": [
    {
     "data": {
      "application/vnd.jupyter.widget-view+json": {
       "model_id": "3dc196ce24bd4ffa8c4376a2a59810a7",
       "version_major": 2,
       "version_minor": 0
      },
      "text/plain": [
       "Batches:   0%|          | 0/1 [00:00<?, ?it/s]"
      ]
     },
     "metadata": {},
     "output_type": "display_data"
    },
    {
     "data": {
      "application/vnd.jupyter.widget-view+json": {
       "model_id": "4e1a4456a9ac418abfa7bcbf72524c34",
       "version_major": 2,
       "version_minor": 0
      },
      "text/plain": [
       "Batches:   0%|          | 0/1 [00:00<?, ?it/s]"
      ]
     },
     "metadata": {},
     "output_type": "display_data"
    },
    {
     "data": {
      "text/plain": [
       "(768,)"
      ]
     },
     "execution_count": 88,
     "metadata": {},
     "output_type": "execute_result"
    }
   ],
   "source": [
    "#Our sentences we like to encode\n",
    "s1 = model.encode(\"Python is an object oriented programming language\")\n",
    "s2 = model.encode(\"java is an oop language\")\n",
    "\n",
    "s1.shape"
   ]
  },
  {
   "cell_type": "markdown",
   "id": "0667637a",
   "metadata": {},
   "source": []
  },
  {
   "cell_type": "code",
   "execution_count": 89,
   "id": "0c3ebdfe",
   "metadata": {},
   "outputs": [
    {
     "data": {
      "text/plain": [
       "tensor([[0.2412]])"
      ]
     },
     "execution_count": 89,
     "metadata": {},
     "output_type": "execute_result"
    }
   ],
   "source": [
    "#Compute cosine similarity between all pairs\n",
    "from sentence_transformers import util\n",
    "cos_sim = util.cos_sim(s1, s2)\n",
    "cos_sim"
   ]
  },
  {
   "cell_type": "code",
   "execution_count": null,
   "id": "f3185216",
   "metadata": {},
   "outputs": [],
   "source": []
  },
  {
   "cell_type": "code",
   "execution_count": null,
   "id": "1edf2612",
   "metadata": {},
   "outputs": [],
   "source": []
  }
 ],
 "metadata": {
  "kernelspec": {
   "display_name": "Python 3 (ipykernel)",
   "language": "python",
   "name": "python3"
  },
  "language_info": {
   "codemirror_mode": {
    "name": "ipython",
    "version": 3
   },
   "file_extension": ".py",
   "mimetype": "text/x-python",
   "name": "python",
   "nbconvert_exporter": "python",
   "pygments_lexer": "ipython3",
   "version": "3.9.7"
  }
 },
 "nbformat": 4,
 "nbformat_minor": 5
}
