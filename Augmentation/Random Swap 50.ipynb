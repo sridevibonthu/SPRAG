{
 "cells": [
  {
   "cell_type": "code",
   "execution_count": 35,
   "id": "d81ecea5",
   "metadata": {},
   "outputs": [
    {
     "name": "stdout",
     "output_type": "stream",
     "text": [
      "huggingface/tokenizers: The current process just got forked, after parallelism has already been used. Disabling parallelism to avoid deadlocks...\n",
      "To disable this warning, you can either:\n",
      "\t- Avoid using `tokenizers` before the fork if possible\n",
      "\t- Explicitly set the environment variable TOKENIZERS_PARALLELISM=(true | false)\n",
      "Defaulting to user installation because normal site-packages is not writeable\n",
      "Requirement already satisfied: sentence-transformers in /home/jupyter-vit_sridevi/.local/lib/python3.9/site-packages (2.2.2)\n",
      "Requirement already satisfied: huggingface-hub>=0.4.0 in /home/jupyter-vit_sridevi/.local/lib/python3.9/site-packages (from sentence-transformers) (0.8.1)\n",
      "Requirement already satisfied: torchvision in /home/jupyter-vit_sridevi/.local/lib/python3.9/site-packages (from sentence-transformers) (0.13.0)\n",
      "Requirement already satisfied: numpy in /opt/tljh/user/lib/python3.9/site-packages (from sentence-transformers) (1.22.3)\n",
      "Requirement already satisfied: tqdm in /opt/tljh/user/lib/python3.9/site-packages (from sentence-transformers) (4.62.3)\n",
      "Requirement already satisfied: nltk in /home/jupyter-vit_sridevi/.local/lib/python3.9/site-packages (from sentence-transformers) (3.7)\n",
      "Requirement already satisfied: sentencepiece in /home/jupyter-vit_sridevi/.local/lib/python3.9/site-packages (from sentence-transformers) (0.1.96)\n",
      "Requirement already satisfied: scikit-learn in /home/jupyter-vit_sridevi/.local/lib/python3.9/site-packages (from sentence-transformers) (1.1.1)\n",
      "Requirement already satisfied: torch>=1.6.0 in /home/jupyter-vit_sridevi/.local/lib/python3.9/site-packages (from sentence-transformers) (1.12.0)\n",
      "Requirement already satisfied: scipy in /home/jupyter-vit_sridevi/.local/lib/python3.9/site-packages (from sentence-transformers) (1.8.1)\n",
      "Requirement already satisfied: transformers<5.0.0,>=4.6.0 in /home/jupyter-vit_sridevi/.local/lib/python3.9/site-packages (from sentence-transformers) (4.20.1)\n",
      "Requirement already satisfied: packaging>=20.9 in /opt/tljh/user/lib/python3.9/site-packages (from huggingface-hub>=0.4.0->sentence-transformers) (21.3)\n",
      "Requirement already satisfied: filelock in /home/jupyter-vit_sridevi/.local/lib/python3.9/site-packages (from huggingface-hub>=0.4.0->sentence-transformers) (3.7.1)\n",
      "Requirement already satisfied: pyyaml>=5.1 in /home/jupyter-vit_sridevi/.local/lib/python3.9/site-packages (from huggingface-hub>=0.4.0->sentence-transformers) (6.0)\n",
      "Requirement already satisfied: requests in /opt/tljh/user/lib/python3.9/site-packages (from huggingface-hub>=0.4.0->sentence-transformers) (2.26.0)\n",
      "Requirement already satisfied: typing-extensions>=3.7.4.3 in /home/jupyter-vit_sridevi/.local/lib/python3.9/site-packages (from huggingface-hub>=0.4.0->sentence-transformers) (4.3.0)\n",
      "Requirement already satisfied: tokenizers!=0.11.3,<0.13,>=0.11.1 in /home/jupyter-vit_sridevi/.local/lib/python3.9/site-packages (from transformers<5.0.0,>=4.6.0->sentence-transformers) (0.12.1)\n",
      "Requirement already satisfied: regex!=2019.12.17 in /home/jupyter-vit_sridevi/.local/lib/python3.9/site-packages (from transformers<5.0.0,>=4.6.0->sentence-transformers) (2022.7.9)\n",
      "Requirement already satisfied: joblib in /home/jupyter-vit_sridevi/.local/lib/python3.9/site-packages (from nltk->sentence-transformers) (1.1.0)\n",
      "Requirement already satisfied: click in /home/jupyter-vit_sridevi/.local/lib/python3.9/site-packages (from nltk->sentence-transformers) (8.1.3)\n",
      "Requirement already satisfied: threadpoolctl>=2.0.0 in /home/jupyter-vit_sridevi/.local/lib/python3.9/site-packages (from scikit-learn->sentence-transformers) (3.1.0)\n",
      "Requirement already satisfied: pillow!=8.3.*,>=5.3.0 in /home/jupyter-vit_sridevi/.local/lib/python3.9/site-packages (from torchvision->sentence-transformers) (9.2.0)\n",
      "Requirement already satisfied: pyparsing!=3.0.5,>=2.0.2 in /opt/tljh/user/lib/python3.9/site-packages (from packaging>=20.9->huggingface-hub>=0.4.0->sentence-transformers) (3.0.9)\n",
      "Requirement already satisfied: charset-normalizer~=2.0.0 in /opt/tljh/user/lib/python3.9/site-packages (from requests->huggingface-hub>=0.4.0->sentence-transformers) (2.0.0)\n",
      "Requirement already satisfied: idna<4,>=2.5 in /opt/tljh/user/lib/python3.9/site-packages (from requests->huggingface-hub>=0.4.0->sentence-transformers) (3.1)\n",
      "Requirement already satisfied: urllib3<1.27,>=1.21.1 in /opt/tljh/user/lib/python3.9/site-packages (from requests->huggingface-hub>=0.4.0->sentence-transformers) (1.26.7)\n",
      "Requirement already satisfied: certifi>=2017.4.17 in /opt/tljh/user/lib/python3.9/site-packages (from requests->huggingface-hub>=0.4.0->sentence-transformers) (2021.10.8)\n",
      "huggingface/tokenizers: The current process just got forked, after parallelism has already been used. Disabling parallelism to avoid deadlocks...\n",
      "To disable this warning, you can either:\n",
      "\t- Avoid using `tokenizers` before the fork if possible\n",
      "\t- Explicitly set the environment variable TOKENIZERS_PARALLELISM=(true | false)\n",
      "Defaulting to user installation because normal site-packages is not writeable\n",
      "Requirement already satisfied: pandas in /home/jupyter-vit_sridevi/.local/lib/python3.9/site-packages (1.4.3)\n",
      "Requirement already satisfied: numpy>=1.18.5 in /opt/tljh/user/lib/python3.9/site-packages (from pandas) (1.22.3)\n",
      "Requirement already satisfied: python-dateutil>=2.8.1 in /opt/tljh/user/lib/python3.9/site-packages (from pandas) (2.8.2)\n",
      "Requirement already satisfied: pytz>=2020.1 in /opt/tljh/user/lib/python3.9/site-packages (from pandas) (2022.1)\n",
      "Requirement already satisfied: six>=1.5 in /opt/tljh/user/lib/python3.9/site-packages (from python-dateutil>=2.8.1->pandas) (1.16.0)\n"
     ]
    }
   ],
   "source": [
    "!pip install sentence-transformers\n",
    "!pip install pandas\n"
   ]
  },
  {
   "cell_type": "code",
   "execution_count": 36,
   "id": "c445cdaf",
   "metadata": {},
   "outputs": [],
   "source": [
    "\n",
    "\n",
    "from sklearn.metrics import accuracy_score, f1_score\n",
    "from sklearn.linear_model import LogisticRegression\n",
    "from sentence_transformers import SentenceTransformer, InputExample, losses, models, datasets, evaluation\n",
    "from torch.utils.data import DataLoader\n",
    "\n",
    "from sklearn.manifold import TSNE\n",
    "from matplotlib import pyplot as plt\n",
    "\n",
    "# import warnings filter\n",
    "from warnings import simplefilter\n",
    "# ignore all future warnings\n",
    "simplefilter(action='ignore', category=FutureWarning)\n",
    "\n",
    "import pandas as pd\n",
    "import numpy as np\n",
    "\n",
    "import torch\n",
    "import random\n",
    "import torch\n",
    "import random\n",
    "\n",
    "def set_seed(seed):\n",
    "  random.seed(seed)\n",
    "  np.random.seed(seed)\n",
    "  torch.manual_seed(seed)"
   ]
  },
  {
   "cell_type": "code",
   "execution_count": 37,
   "id": "14c99818",
   "metadata": {},
   "outputs": [
    {
     "data": {
      "text/html": [
       "<div>\n",
       "<style scoped>\n",
       "    .dataframe tbody tr th:only-of-type {\n",
       "        vertical-align: middle;\n",
       "    }\n",
       "\n",
       "    .dataframe tbody tr th {\n",
       "        vertical-align: top;\n",
       "    }\n",
       "\n",
       "    .dataframe thead th {\n",
       "        text-align: right;\n",
       "    }\n",
       "</style>\n",
       "<table border=\"1\" class=\"dataframe\">\n",
       "  <thead>\n",
       "    <tr style=\"text-align: right;\">\n",
       "      <th></th>\n",
       "      <th>Unnamed: 0</th>\n",
       "      <th>QuestionID</th>\n",
       "      <th>ReferenceAnswer</th>\n",
       "      <th>StudentAnswer</th>\n",
       "      <th>Score1</th>\n",
       "      <th>Score2</th>\n",
       "      <th>avg_score</th>\n",
       "      <th>max_score</th>\n",
       "    </tr>\n",
       "  </thead>\n",
       "  <tbody>\n",
       "    <tr>\n",
       "      <th>0</th>\n",
       "      <td>0.0</td>\n",
       "      <td>PythonQ001</td>\n",
       "      <td>List, Set and Dictionary are mutable data stru...</td>\n",
       "      <td>Tha object structures which can be changeable ...</td>\n",
       "      <td>1.0</td>\n",
       "      <td>0.0</td>\n",
       "      <td>0.5</td>\n",
       "      <td>1.0</td>\n",
       "    </tr>\n",
       "    <tr>\n",
       "      <th>1</th>\n",
       "      <td>1.0</td>\n",
       "      <td>PythonQ001</td>\n",
       "      <td>List, Set and Dictionary are mutable data stru...</td>\n",
       "      <td>Tuple</td>\n",
       "      <td>0.0</td>\n",
       "      <td>0.0</td>\n",
       "      <td>0.0</td>\n",
       "      <td>0.0</td>\n",
       "    </tr>\n",
       "  </tbody>\n",
       "</table>\n",
       "</div>"
      ],
      "text/plain": [
       "   Unnamed: 0  QuestionID                                    ReferenceAnswer  \\\n",
       "0         0.0  PythonQ001  List, Set and Dictionary are mutable data stru...   \n",
       "1         1.0  PythonQ001  List, Set and Dictionary are mutable data stru...   \n",
       "\n",
       "                                       StudentAnswer  Score1  Score2  \\\n",
       "0  Tha object structures which can be changeable ...     1.0     0.0   \n",
       "1                                              Tuple     0.0     0.0   \n",
       "\n",
       "   avg_score  max_score  \n",
       "0        0.5        1.0  \n",
       "1        0.0        0.0  "
      ]
     },
     "execution_count": 37,
     "metadata": {},
     "output_type": "execute_result"
    }
   ],
   "source": [
    "#Load the sprag dataset\n",
    "data = pd.read_csv(\"refstdcombined.csv\")\n",
    "data.head(2)"
   ]
  },
  {
   "cell_type": "code",
   "execution_count": 38,
   "id": "c830d9ed",
   "metadata": {},
   "outputs": [],
   "source": [
    "data['bin_score'] = data.apply(lambda row : 1 if row.avg_score>=3 else 0, axis=1)"
   ]
  },
  {
   "cell_type": "code",
   "execution_count": 39,
   "id": "fb65373f",
   "metadata": {},
   "outputs": [
    {
     "data": {
      "text/html": [
       "<div>\n",
       "<style scoped>\n",
       "    .dataframe tbody tr th:only-of-type {\n",
       "        vertical-align: middle;\n",
       "    }\n",
       "\n",
       "    .dataframe tbody tr th {\n",
       "        vertical-align: top;\n",
       "    }\n",
       "\n",
       "    .dataframe thead th {\n",
       "        text-align: right;\n",
       "    }\n",
       "</style>\n",
       "<table border=\"1\" class=\"dataframe\">\n",
       "  <thead>\n",
       "    <tr style=\"text-align: right;\">\n",
       "      <th></th>\n",
       "      <th>Unnamed: 0</th>\n",
       "      <th>QuestionID</th>\n",
       "      <th>ReferenceAnswer</th>\n",
       "      <th>StudentAnswer</th>\n",
       "      <th>Score1</th>\n",
       "      <th>Score2</th>\n",
       "      <th>avg_score</th>\n",
       "      <th>max_score</th>\n",
       "      <th>bin_score</th>\n",
       "    </tr>\n",
       "  </thead>\n",
       "  <tbody>\n",
       "    <tr>\n",
       "      <th>0</th>\n",
       "      <td>0.0</td>\n",
       "      <td>PythonQ001</td>\n",
       "      <td>List, Set and Dictionary are mutable data stru...</td>\n",
       "      <td>Tha object structures which can be changeable ...</td>\n",
       "      <td>1.0</td>\n",
       "      <td>0.0</td>\n",
       "      <td>0.5</td>\n",
       "      <td>1.0</td>\n",
       "      <td>0</td>\n",
       "    </tr>\n",
       "    <tr>\n",
       "      <th>1</th>\n",
       "      <td>1.0</td>\n",
       "      <td>PythonQ001</td>\n",
       "      <td>List, Set and Dictionary are mutable data stru...</td>\n",
       "      <td>Tuple</td>\n",
       "      <td>0.0</td>\n",
       "      <td>0.0</td>\n",
       "      <td>0.0</td>\n",
       "      <td>0.0</td>\n",
       "      <td>0</td>\n",
       "    </tr>\n",
       "  </tbody>\n",
       "</table>\n",
       "</div>"
      ],
      "text/plain": [
       "   Unnamed: 0  QuestionID                                    ReferenceAnswer  \\\n",
       "0         0.0  PythonQ001  List, Set and Dictionary are mutable data stru...   \n",
       "1         1.0  PythonQ001  List, Set and Dictionary are mutable data stru...   \n",
       "\n",
       "                                       StudentAnswer  Score1  Score2  \\\n",
       "0  Tha object structures which can be changeable ...     1.0     0.0   \n",
       "1                                              Tuple     0.0     0.0   \n",
       "\n",
       "   avg_score  max_score  bin_score  \n",
       "0        0.5        1.0          0  \n",
       "1        0.0        0.0          0  "
      ]
     },
     "execution_count": 39,
     "metadata": {},
     "output_type": "execute_result"
    }
   ],
   "source": [
    "data.head(2)"
   ]
  },
  {
   "cell_type": "code",
   "execution_count": 40,
   "id": "ac3fd9e5",
   "metadata": {},
   "outputs": [],
   "source": [
    "data = data.dropna()"
   ]
  },
  {
   "cell_type": "code",
   "execution_count": 41,
   "id": "c209e2dd",
   "metadata": {},
   "outputs": [
    {
     "data": {
      "image/png": "[encoded data removed]",
      "text/plain": [
       "<Figure size 432x288 with 1 Axes>"
      ]
     },
     "metadata": {
      "needs_background": "light"
     },
     "output_type": "display_data"
    }
   ],
   "source": [
    "data['bin_score'].value_counts(normalize=True).plot(kind='bar');"
   ]
  },
  {
   "cell_type": "code",
   "execution_count": 42,
   "id": "59468089",
   "metadata": {},
   "outputs": [],
   "source": [
    "#### Just some code to print debug information to stdout\n",
    "import logging\n",
    "from sentence_transformers import LoggingHandler\n",
    "logging.basicConfig(format='%(asctime)s - %(message)s',\n",
    "                    datefmt='%Y-%m-%d %H:%M:%S',\n",
    "                    level=logging.INFO,\n",
    "                    handlers=[LoggingHandler()])"
   ]
  },
  {
   "cell_type": "code",
   "execution_count": 43,
   "id": "088b0996",
   "metadata": {},
   "outputs": [],
   "source": [
    "from sklearn.model_selection import train_test_split\n",
    "\n",
    "# Storing labels in array\n",
    "labels = data['bin_score'].values\n",
    "\n",
    "# Dropping labels column from data\n",
    "data = data.drop(['bin_score'], axis=1)\n",
    "\n",
    "# Splitting data into train and test sets in a 70/30 ratio\n",
    "train_data, test_data, train_labels, test_labels = train_test_split(data, labels, stratify=labels, random_state=42, test_size=0.2)"
   ]
  },
  {
   "cell_type": "code",
   "execution_count": 44,
   "id": "6c00c606",
   "metadata": {},
   "outputs": [
    {
     "data": {
      "text/plain": [
       "(1604.0, numpy.ndarray, (3208,))"
      ]
     },
     "execution_count": 44,
     "metadata": {},
     "output_type": "execute_result"
    }
   ],
   "source": [
    "len(train_data)*0.5, type(train_labels), train_labels.shape\n"
   ]
  },
  {
   "cell_type": "code",
   "execution_count": 45,
   "id": "32056e86",
   "metadata": {},
   "outputs": [],
   "source": [
    "train_data = train_data.iloc[0:1604]\n",
    "train_labels = train_labels[0:1604]"
   ]
  },
  {
   "cell_type": "code",
   "execution_count": 46,
   "id": "94b443ed",
   "metadata": {},
   "outputs": [
    {
     "data": {
      "text/plain": [
       "(pandas.core.frame.DataFrame, numpy.ndarray, 1604, 1604)"
      ]
     },
     "execution_count": 46,
     "metadata": {},
     "output_type": "execute_result"
    }
   ],
   "source": [
    "type(train_data), type(train_labels), len(train_data), len(train_labels)"
   ]
  },
  {
   "cell_type": "code",
   "execution_count": 47,
   "id": "d8f67464",
   "metadata": {},
   "outputs": [],
   "source": [
    "def random_swap(sentence, n=2): \n",
    "    sentence = sentence.split()\n",
    "    if len(sentence) > 4:\n",
    "\n",
    "      length = range(len(sentence)-1) \n",
    "      #print(sentence, length)\n",
    "      for _ in range(n):\n",
    "          idx1, idx2 = random.sample(length, 2)\n",
    "          sentence[idx1], sentence[idx2] = sentence[idx2], sentence[idx1] \n",
    "          #print(idx1, idx2, sentence)\n",
    "      return ' '.join(sentence)\n",
    "    return ' '.join(sentence)"
   ]
  },
  {
   "cell_type": "code",
   "execution_count": 48,
   "id": "1fbed970",
   "metadata": {},
   "outputs": [
    {
     "data": {
      "text/plain": [
       "'Hi am i there are where you'"
      ]
     },
     "execution_count": 48,
     "metadata": {},
     "output_type": "execute_result"
    }
   ],
   "source": [
    "random_swap(\"Hi i am there where are you\")"
   ]
  },
  {
   "cell_type": "code",
   "execution_count": 49,
   "id": "43744dab",
   "metadata": {},
   "outputs": [],
   "source": [
    "def sentence_pairs_generation(sentence1, sentence2, labels, pairs, datatype='train'):\n",
    "\t# initialize two empty lists to hold the (sentence, sentence) pairs and\n",
    "\t# labels to indicate if the grade of the pair\n",
    "\n",
    "  numClassesList = np.unique(labels)\n",
    "  #print(numClassesList)\n",
    "  idx = [np.where(labels == i)[0] for i in numClassesList]\n",
    "  #print(idx)\n",
    "  i=0\n",
    "\n",
    "  for idxA in range(len(sentence1)):      \n",
    "    dAns = sentence1[idxA]\n",
    "    sAns = sentence2[idxA]\n",
    "    label = int(labels[idxA])\n",
    "    \n",
    "\t\t  # prepare a pair and update the sentences and labels lists, respectively\n",
    "    pairs.append(InputExample(texts=[dAns, sAns], label=label))\n",
    "    \n",
    "    if datatype=='train' and random.random() >= 0.5:\n",
    "      sAns = random_swap(sentence2[idxA])\n",
    "      #print(sAns)\n",
    "      pairs.append(InputExample(texts=[dAns, sAns], label=label))\n",
    "      i = i+1\n",
    "  \n",
    "  print(\"No.of augmented examples : \", i)\n",
    "\n",
    "     \n",
    "\t# return a 2-tuple of our image pairs and labels\n",
    "  return (pairs)"
   ]
  },
  {
   "cell_type": "code",
   "execution_count": 50,
   "id": "73812285",
   "metadata": {},
   "outputs": [],
   "source": [
    "set_seed(0)\n",
    "# Equal samples per class training\n",
    "#train_df_sample = pd.concat([train_df[train_df[1]==0].sample(num_training), train_df[train_df[1]==1].sample(num_training)])\n",
    "x_train_dA = train_data['ReferenceAnswer'].values.tolist()\n",
    "x_train_sA = train_data['StudentAnswer'].values.tolist()\n",
    "y_train = train_labels.tolist()\n",
    "y_train = [int(x) for x in y_train]"
   ]
  },
  {
   "cell_type": "code",
   "execution_count": 51,
   "id": "61fd6221",
   "metadata": {},
   "outputs": [
    {
     "name": "stdout",
     "output_type": "stream",
     "text": [
      "No.of augmented examples :  0\n"
     ]
    }
   ],
   "source": [
    "#use test dataset as dev dataset\n",
    "x_test_dA = test_data['ReferenceAnswer'].values.tolist()\n",
    "x_test_sA = test_data['StudentAnswer'].values.tolist()\n",
    "y_test = test_labels / 1.0\n",
    "y_test = test_labels.tolist()\n",
    "#y_test = [int(x) for x in y_test]\n",
    "\n",
    "test_examples = [] \n",
    "test_examples = sentence_pairs_generation(np.array(x_test_dA), np.array(x_test_sA), np.array(y_test), test_examples, datatype='test')"
   ]
  },
  {
   "cell_type": "code",
   "execution_count": 52,
   "id": "c8691ad5",
   "metadata": {},
   "outputs": [
    {
     "data": {
      "text/plain": [
       "802"
      ]
     },
     "execution_count": 52,
     "metadata": {},
     "output_type": "execute_result"
    }
   ],
   "source": [
    "len(test_examples)"
   ]
  },
  {
   "cell_type": "code",
   "execution_count": 53,
   "id": "6049c777",
   "metadata": {},
   "outputs": [
    {
     "name": "stdout",
     "output_type": "stream",
     "text": [
      "No.of augmented examples :  791\n"
     ]
    }
   ],
   "source": [
    "train_examples = [] \n",
    "train_examples = sentence_pairs_generation(np.array(x_train_dA), np.array(x_train_sA), np.array(y_train), train_examples)"
   ]
  },
  {
   "cell_type": "code",
   "execution_count": 54,
   "id": "1dc07f9e",
   "metadata": {},
   "outputs": [
    {
     "data": {
      "text/plain": [
       "2395"
      ]
     },
     "execution_count": 54,
     "metadata": {},
     "output_type": "execute_result"
    }
   ],
   "source": [
    "len(train_examples)"
   ]
  },
  {
   "cell_type": "code",
   "execution_count": 55,
   "id": "5bef49b2",
   "metadata": {},
   "outputs": [],
   "source": [
    "# Save path of the model\n",
    "from datetime import datetime\n",
    "model_save_path = 'output/training_sprag_v4_'+datetime.now().strftime(\"%Y-%m-%d_%H-%M-%S\")"
   ]
  },
  {
   "cell_type": "code",
   "execution_count": 56,
   "id": "cad4f826",
   "metadata": {},
   "outputs": [],
   "source": [
    "from sentence_transformers import evaluation\n",
    "import math\n",
    "\n",
    "\n",
    "def train_and_evaluate(st_model, train_dataloader, test_dataloader, num_epochs,model_save_path):\n",
    "  model = SentenceTransformer(st_model)\n",
    "  #for evaluation\n",
    "  train_loss = losses.SoftmaxLoss(model=model, sentence_embedding_dimension=model.get_sentence_embedding_dimension(), num_labels=2)\n",
    "  #test_evaluator = evaluation.EmbeddingSimilarityEvaluator.from_input_examples(test_examples, batch_size=16, name='SPRAG-test')\n",
    "  x_test_dA = test_data['ReferenceAnswer'].values.tolist()\n",
    "  x_test_sA = test_data['StudentAnswer'].values.tolist()\n",
    "  y_test = test_labels \n",
    "\n",
    "  evaluator = evaluation.BinaryClassificationEvaluator(x_test_dA, x_test_sA, y_test)\n",
    "\n",
    "  #configuring the training\n",
    "  warmup_steps = math.ceil(len(train_dataloader) * num_epochs * 0.1) #10% of train data for warm-up\n",
    "  print(warmup_steps)\n",
    "  #train_loss = losses.CosineSimilarityLoss(model)\n",
    "  model.fit(train_objectives=[(train_dataloader, train_loss)],\n",
    "          evaluator=evaluator,\n",
    "          epochs=num_epochs,\n",
    "          warmup_steps=warmup_steps,\n",
    "          show_progress_bar=True,  \n",
    "          #evaluation_steps=50, \n",
    "          output_path=model_save_path,)\n",
    "  print(\"Training done...\")"
   ]
  },
  {
   "cell_type": "code",
   "execution_count": 57,
   "id": "4d6a71e0",
   "metadata": {},
   "outputs": [
    {
     "name": "stdout",
     "output_type": "stream",
     "text": [
      "2022-09-07 20:42:34 - Load pretrained SentenceTransformer: stsb-distilbert-base\n",
      "2022-09-07 20:42:35 - Use pytorch device: cuda\n",
      "2022-09-07 20:42:35 - Softmax loss: #Vectors concatenated: 3\n",
      "150\n"
     ]
    },
    {
     "data": {
      "application/vnd.jupyter.widget-view+json": {
       "model_id": "21390a195d0940d092d2884a1681cb65",
       "version_major": 2,
       "version_minor": 0
      },
      "text/plain": [
       "Epoch:   0%|          | 0/10 [00:00<?, ?it/s]"
      ]
     },
     "metadata": {},
     "output_type": "display_data"
    },
    {
     "data": {
      "application/vnd.jupyter.widget-view+json": {
       "model_id": "eed93339dc984859951bbd4d98ed2886",
       "version_major": 2,
       "version_minor": 0
      },
      "text/plain": [
       "Iteration:   0%|          | 0/150 [00:00<?, ?it/s]"
      ]
     },
     "metadata": {},
     "output_type": "display_data"
    },
    {
     "name": "stdout",
     "output_type": "stream",
     "text": [
      "2022-09-07 20:42:47 - Binary Accuracy Evaluation of the model on  dataset after epoch 0:\n",
      "2022-09-07 20:42:48 - Accuracy with Cosine-Similarity:           77.18\t(Threshold: 0.4002)\n",
      "2022-09-07 20:42:48 - F1 with Cosine-Similarity:                 83.38\t(Threshold: 0.3385)\n",
      "2022-09-07 20:42:48 - Precision with Cosine-Similarity:          74.76\n",
      "2022-09-07 20:42:48 - Recall with Cosine-Similarity:             94.23\n",
      "2022-09-07 20:42:48 - Average Precision with Cosine-Similarity:  89.50\n",
      "\n",
      "2022-09-07 20:42:48 - Accuracy with Manhattan-Distance:           76.81\t(Threshold: 342.6188)\n",
      "2022-09-07 20:42:48 - F1 with Manhattan-Distance:                 83.58\t(Threshold: 393.6622)\n",
      "2022-09-07 20:42:48 - Precision with Manhattan-Distance:          74.84\n",
      "2022-09-07 20:42:48 - Recall with Manhattan-Distance:             94.63\n",
      "2022-09-07 20:42:48 - Average Precision with Manhattan-Distance:  89.78\n",
      "\n",
      "2022-09-07 20:42:48 - Accuracy with Euclidean-Distance:           77.18\t(Threshold: 16.0068)\n",
      "2022-09-07 20:42:48 - F1 with Euclidean-Distance:                 83.44\t(Threshold: 17.6366)\n",
      "2022-09-07 20:42:48 - Precision with Euclidean-Distance:          75.24\n",
      "2022-09-07 20:42:48 - Recall with Euclidean-Distance:             93.64\n",
      "2022-09-07 20:42:48 - Average Precision with Euclidean-Distance:  89.81\n",
      "\n",
      "2022-09-07 20:42:48 - Accuracy with Dot-Product:           76.56\t(Threshold: 91.4194)\n",
      "2022-09-07 20:42:48 - F1 with Dot-Product:                 83.44\t(Threshold: 79.1845)\n",
      "2022-09-07 20:42:48 - Precision with Dot-Product:          74.61\n",
      "2022-09-07 20:42:48 - Recall with Dot-Product:             94.63\n",
      "2022-09-07 20:42:48 - Average Precision with Dot-Product:  88.29\n",
      "\n",
      "2022-09-07 20:42:48 - Save model to binary_sim_output/stsb-distilbert-base\n"
     ]
    },
    {
     "data": {
      "application/vnd.jupyter.widget-view+json": {
       "model_id": "9271f981903c4f328c7361dfd30b9d08",
       "version_major": 2,
       "version_minor": 0
      },
      "text/plain": [
       "Iteration:   0%|          | 0/150 [00:00<?, ?it/s]"
      ]
     },
     "metadata": {},
     "output_type": "display_data"
    },
    {
     "name": "stdout",
     "output_type": "stream",
     "text": [
      "2022-09-07 20:43:01 - Binary Accuracy Evaluation of the model on  dataset after epoch 1:\n",
      "2022-09-07 20:43:01 - Accuracy with Cosine-Similarity:           81.67\t(Threshold: 0.4304)\n",
      "2022-09-07 20:43:01 - F1 with Cosine-Similarity:                 85.93\t(Threshold: 0.4304)\n",
      "2022-09-07 20:43:01 - Precision with Cosine-Similarity:          82.84\n",
      "2022-09-07 20:43:01 - Recall with Cosine-Similarity:             89.26\n",
      "2022-09-07 20:43:01 - Average Precision with Cosine-Similarity:  91.62\n",
      "\n",
      "2022-09-07 20:43:01 - Accuracy with Manhattan-Distance:           81.42\t(Threshold: 378.1932)\n",
      "2022-09-07 20:43:01 - F1 with Manhattan-Distance:                 86.09\t(Threshold: 380.9424)\n",
      "2022-09-07 20:43:01 - Precision with Manhattan-Distance:          81.16\n",
      "2022-09-07 20:43:01 - Recall with Manhattan-Distance:             91.65\n",
      "2022-09-07 20:43:01 - Average Precision with Manhattan-Distance:  91.74\n",
      "\n",
      "2022-09-07 20:43:01 - Accuracy with Euclidean-Distance:           81.42\t(Threshold: 16.8388)\n",
      "2022-09-07 20:43:01 - F1 with Euclidean-Distance:                 86.04\t(Threshold: 17.2287)\n",
      "2022-09-07 20:43:01 - Precision with Euclidean-Distance:          81.38\n",
      "2022-09-07 20:43:01 - Recall with Euclidean-Distance:             91.25\n",
      "2022-09-07 20:43:01 - Average Precision with Euclidean-Distance:  91.76\n",
      "\n",
      "2022-09-07 20:43:01 - Accuracy with Dot-Product:           80.80\t(Threshold: 103.8557)\n",
      "2022-09-07 20:43:01 - F1 with Dot-Product:                 85.56\t(Threshold: 93.8460)\n",
      "2022-09-07 20:43:01 - Precision with Dot-Product:          80.07\n",
      "2022-09-07 20:43:01 - Recall with Dot-Product:             91.85\n",
      "2022-09-07 20:43:01 - Average Precision with Dot-Product:  91.11\n",
      "\n",
      "2022-09-07 20:43:01 - Save model to binary_sim_output/stsb-distilbert-base\n"
     ]
    },
    {
     "data": {
      "application/vnd.jupyter.widget-view+json": {
       "model_id": "378795208204464eb58b76df5bb3ec96",
       "version_major": 2,
       "version_minor": 0
      },
      "text/plain": [
       "Iteration:   0%|          | 0/150 [00:00<?, ?it/s]"
      ]
     },
     "metadata": {},
     "output_type": "display_data"
    },
    {
     "name": "stdout",
     "output_type": "stream",
     "text": [
      "2022-09-07 20:43:15 - Binary Accuracy Evaluation of the model on  dataset after epoch 2:\n",
      "2022-09-07 20:43:15 - Accuracy with Cosine-Similarity:           81.67\t(Threshold: 0.2562)\n",
      "2022-09-07 20:43:15 - F1 with Cosine-Similarity:                 86.60\t(Threshold: 0.2562)\n",
      "2022-09-07 20:43:15 - Precision with Cosine-Similarity:          79.97\n",
      "2022-09-07 20:43:15 - Recall with Cosine-Similarity:             94.43\n",
      "2022-09-07 20:43:15 - Average Precision with Cosine-Similarity:  91.32\n",
      "\n",
      "2022-09-07 20:43:15 - Accuracy with Manhattan-Distance:           81.55\t(Threshold: 414.9041)\n",
      "2022-09-07 20:43:15 - F1 with Manhattan-Distance:                 86.44\t(Threshold: 433.5207)\n",
      "2022-09-07 20:43:15 - Precision with Manhattan-Distance:          79.27\n",
      "2022-09-07 20:43:15 - Recall with Manhattan-Distance:             95.03\n",
      "2022-09-07 20:43:15 - Average Precision with Manhattan-Distance:  91.47\n",
      "\n",
      "2022-09-07 20:43:15 - Accuracy with Euclidean-Distance:           81.92\t(Threshold: 19.0494)\n",
      "2022-09-07 20:43:15 - F1 with Euclidean-Distance:                 86.61\t(Threshold: 19.0494)\n",
      "2022-09-07 20:43:15 - Precision with Euclidean-Distance:          80.86\n",
      "2022-09-07 20:43:15 - Recall with Euclidean-Distance:             93.24\n",
      "2022-09-07 20:43:15 - Average Precision with Euclidean-Distance:  91.51\n",
      "\n",
      "2022-09-07 20:43:15 - Accuracy with Dot-Product:           81.67\t(Threshold: 70.5915)\n",
      "2022-09-07 20:43:15 - F1 with Dot-Product:                 86.53\t(Threshold: 70.5915)\n",
      "2022-09-07 20:43:15 - Precision with Dot-Product:          80.27\n",
      "2022-09-07 20:43:15 - Recall with Dot-Product:             93.84\n",
      "2022-09-07 20:43:15 - Average Precision with Dot-Product:  90.91\n",
      "\n"
     ]
    },
    {
     "data": {
      "application/vnd.jupyter.widget-view+json": {
       "model_id": "2c0ef0ab64f64a65b3093934c02ce66a",
       "version_major": 2,
       "version_minor": 0
      },
      "text/plain": [
       "Iteration:   0%|          | 0/150 [00:00<?, ?it/s]"
      ]
     },
     "metadata": {},
     "output_type": "display_data"
    },
    {
     "name": "stdout",
     "output_type": "stream",
     "text": [
      "2022-09-07 20:43:27 - Binary Accuracy Evaluation of the model on  dataset after epoch 3:\n",
      "2022-09-07 20:43:28 - Accuracy with Cosine-Similarity:           81.17\t(Threshold: 0.2354)\n",
      "2022-09-07 20:43:28 - F1 with Cosine-Similarity:                 86.13\t(Threshold: 0.2354)\n",
      "2022-09-07 20:43:28 - Precision with Cosine-Similarity:          80.03\n",
      "2022-09-07 20:43:28 - Recall with Cosine-Similarity:             93.24\n",
      "2022-09-07 20:43:28 - Average Precision with Cosine-Similarity:  90.43\n",
      "\n",
      "2022-09-07 20:43:28 - Accuracy with Manhattan-Distance:           81.30\t(Threshold: 440.5962)\n",
      "2022-09-07 20:43:28 - F1 with Manhattan-Distance:                 86.36\t(Threshold: 445.8483)\n",
      "2022-09-07 20:43:28 - Precision with Manhattan-Distance:          79.56\n",
      "2022-09-07 20:43:28 - Recall with Manhattan-Distance:             94.43\n",
      "2022-09-07 20:43:28 - Average Precision with Manhattan-Distance:  90.60\n",
      "\n",
      "2022-09-07 20:43:28 - Accuracy with Euclidean-Distance:           81.17\t(Threshold: 20.2191)\n",
      "2022-09-07 20:43:28 - F1 with Euclidean-Distance:                 86.24\t(Threshold: 20.3667)\n",
      "2022-09-07 20:43:28 - Precision with Euclidean-Distance:          79.63\n",
      "2022-09-07 20:43:28 - Recall with Euclidean-Distance:             94.04\n",
      "2022-09-07 20:43:28 - Average Precision with Euclidean-Distance:  90.60\n",
      "\n",
      "2022-09-07 20:43:28 - Accuracy with Dot-Product:           80.92\t(Threshold: 65.6374)\n",
      "2022-09-07 20:43:28 - F1 with Dot-Product:                 85.98\t(Threshold: 60.8894)\n",
      "2022-09-07 20:43:28 - Precision with Dot-Product:          79.76\n",
      "2022-09-07 20:43:28 - Recall with Dot-Product:             93.24\n",
      "2022-09-07 20:43:28 - Average Precision with Dot-Product:  89.93\n",
      "\n"
     ]
    },
    {
     "data": {
      "application/vnd.jupyter.widget-view+json": {
       "model_id": "2e82e6d9b996405abe7a8bd17855af2a",
       "version_major": 2,
       "version_minor": 0
      },
      "text/plain": [
       "Iteration:   0%|          | 0/150 [00:00<?, ?it/s]"
      ]
     },
     "metadata": {},
     "output_type": "display_data"
    },
    {
     "name": "stdout",
     "output_type": "stream",
     "text": [
      "2022-09-07 20:43:40 - Binary Accuracy Evaluation of the model on  dataset after epoch 4:\n",
      "2022-09-07 20:43:41 - Accuracy with Cosine-Similarity:           80.80\t(Threshold: 0.2406)\n",
      "2022-09-07 20:43:41 - F1 with Cosine-Similarity:                 85.56\t(Threshold: 0.0607)\n",
      "2022-09-07 20:43:41 - Precision with Cosine-Similarity:          77.94\n",
      "2022-09-07 20:43:41 - Recall with Cosine-Similarity:             94.83\n",
      "2022-09-07 20:43:41 - Average Precision with Cosine-Similarity:  90.80\n",
      "\n",
      "2022-09-07 20:43:41 - Accuracy with Manhattan-Distance:           81.17\t(Threshold: 437.4988)\n",
      "2022-09-07 20:43:41 - F1 with Manhattan-Distance:                 85.84\t(Threshold: 485.1493)\n",
      "2022-09-07 20:43:41 - Precision with Manhattan-Distance:          78.55\n",
      "2022-09-07 20:43:41 - Recall with Manhattan-Distance:             94.63\n",
      "2022-09-07 20:43:41 - Average Precision with Manhattan-Distance:  90.91\n",
      "\n",
      "2022-09-07 20:43:41 - Accuracy with Euclidean-Distance:           80.67\t(Threshold: 19.8283)\n",
      "2022-09-07 20:43:41 - F1 with Euclidean-Distance:                 85.79\t(Threshold: 21.5940)\n",
      "2022-09-07 20:43:41 - Precision with Euclidean-Distance:          79.16\n",
      "2022-09-07 20:43:41 - Recall with Euclidean-Distance:             93.64\n",
      "2022-09-07 20:43:41 - Average Precision with Euclidean-Distance:  90.94\n",
      "\n",
      "2022-09-07 20:43:41 - Accuracy with Dot-Product:           80.80\t(Threshold: 74.6218)\n",
      "2022-09-07 20:43:41 - F1 with Dot-Product:                 85.56\t(Threshold: 16.4492)\n",
      "2022-09-07 20:43:41 - Precision with Dot-Product:          77.94\n",
      "2022-09-07 20:43:41 - Recall with Dot-Product:             94.83\n",
      "2022-09-07 20:43:41 - Average Precision with Dot-Product:  90.26\n",
      "\n"
     ]
    },
    {
     "data": {
      "application/vnd.jupyter.widget-view+json": {
       "model_id": "c2603bd27aa84d22bd798cdb59c72c84",
       "version_major": 2,
       "version_minor": 0
      },
      "text/plain": [
       "Iteration:   0%|          | 0/150 [00:00<?, ?it/s]"
      ]
     },
     "metadata": {},
     "output_type": "display_data"
    },
    {
     "name": "stdout",
     "output_type": "stream",
     "text": [
      "2022-09-07 20:43:53 - Binary Accuracy Evaluation of the model on  dataset after epoch 5:\n",
      "2022-09-07 20:43:54 - Accuracy with Cosine-Similarity:           80.30\t(Threshold: 0.1037)\n",
      "2022-09-07 20:43:54 - F1 with Cosine-Similarity:                 85.66\t(Threshold: -0.0252)\n",
      "2022-09-07 20:43:54 - Precision with Cosine-Similarity:          77.58\n",
      "2022-09-07 20:43:54 - Recall with Cosine-Similarity:             95.63\n",
      "2022-09-07 20:43:54 - Average Precision with Cosine-Similarity:  90.33\n",
      "\n",
      "2022-09-07 20:43:54 - Accuracy with Manhattan-Distance:           80.42\t(Threshold: 492.8793)\n",
      "2022-09-07 20:43:54 - F1 with Manhattan-Distance:                 85.87\t(Threshold: 511.4252)\n",
      "2022-09-07 20:43:54 - Precision with Manhattan-Distance:          78.05\n",
      "2022-09-07 20:43:54 - Recall with Manhattan-Distance:             95.43\n",
      "2022-09-07 20:43:54 - Average Precision with Manhattan-Distance:  90.44\n",
      "\n",
      "2022-09-07 20:43:54 - Accuracy with Euclidean-Distance:           80.55\t(Threshold: 23.0267)\n",
      "2022-09-07 20:43:54 - F1 with Euclidean-Distance:                 85.87\t(Threshold: 23.0267)\n",
      "2022-09-07 20:43:54 - Precision with Euclidean-Distance:          78.87\n",
      "2022-09-07 20:43:54 - Recall with Euclidean-Distance:             94.23\n",
      "2022-09-07 20:43:54 - Average Precision with Euclidean-Distance:  90.46\n",
      "\n",
      "2022-09-07 20:43:54 - Accuracy with Dot-Product:           80.17\t(Threshold: 31.2350)\n",
      "2022-09-07 20:43:54 - F1 with Dot-Product:                 85.66\t(Threshold: -6.8985)\n",
      "2022-09-07 20:43:54 - Precision with Dot-Product:          77.58\n",
      "2022-09-07 20:43:54 - Recall with Dot-Product:             95.63\n",
      "2022-09-07 20:43:54 - Average Precision with Dot-Product:  89.89\n",
      "\n"
     ]
    },
    {
     "data": {
      "application/vnd.jupyter.widget-view+json": {
       "model_id": "5e4dd9171fcb43078bab89eb1b6bfb75",
       "version_major": 2,
       "version_minor": 0
      },
      "text/plain": [
       "Iteration:   0%|          | 0/150 [00:00<?, ?it/s]"
      ]
     },
     "metadata": {},
     "output_type": "display_data"
    },
    {
     "name": "stdout",
     "output_type": "stream",
     "text": [
      "2022-09-07 20:44:06 - Binary Accuracy Evaluation of the model on  dataset after epoch 6:\n",
      "2022-09-07 20:44:06 - Accuracy with Cosine-Similarity:           81.17\t(Threshold: 0.1309)\n",
      "2022-09-07 20:44:06 - F1 with Cosine-Similarity:                 85.79\t(Threshold: 0.1309)\n",
      "2022-09-07 20:44:06 - Precision with Cosine-Similarity:          81.43\n",
      "2022-09-07 20:44:06 - Recall with Cosine-Similarity:             90.66\n",
      "2022-09-07 20:44:06 - Average Precision with Cosine-Similarity:  90.52\n",
      "\n",
      "2022-09-07 20:44:06 - Accuracy with Manhattan-Distance:           81.67\t(Threshold: 470.5899)\n",
      "2022-09-07 20:44:06 - F1 with Manhattan-Distance:                 86.12\t(Threshold: 470.5899)\n",
      "2022-09-07 20:44:06 - Precision with Manhattan-Distance:          82.01\n",
      "2022-09-07 20:44:06 - Recall with Manhattan-Distance:             90.66\n",
      "2022-09-07 20:44:06 - Average Precision with Manhattan-Distance:  90.63\n",
      "\n",
      "2022-09-07 20:44:06 - Accuracy with Euclidean-Distance:           81.42\t(Threshold: 21.8799)\n",
      "2022-09-07 20:44:06 - F1 with Euclidean-Distance:                 86.04\t(Threshold: 21.8799)\n",
      "2022-09-07 20:44:06 - Precision with Euclidean-Distance:          81.38\n",
      "2022-09-07 20:44:06 - Recall with Euclidean-Distance:             91.25\n",
      "2022-09-07 20:44:06 - Average Precision with Euclidean-Distance:  90.65\n",
      "\n",
      "2022-09-07 20:44:06 - Accuracy with Dot-Product:           81.17\t(Threshold: 36.6777)\n",
      "2022-09-07 20:44:06 - F1 with Dot-Product:                 85.79\t(Threshold: 36.6777)\n",
      "2022-09-07 20:44:06 - Precision with Dot-Product:          81.43\n",
      "2022-09-07 20:44:06 - Recall with Dot-Product:             90.66\n",
      "2022-09-07 20:44:06 - Average Precision with Dot-Product:  90.16\n",
      "\n"
     ]
    },
    {
     "data": {
      "application/vnd.jupyter.widget-view+json": {
       "model_id": "6235478c8518493da27c61ac3616edee",
       "version_major": 2,
       "version_minor": 0
      },
      "text/plain": [
       "Iteration:   0%|          | 0/150 [00:00<?, ?it/s]"
      ]
     },
     "metadata": {},
     "output_type": "display_data"
    },
    {
     "name": "stdout",
     "output_type": "stream",
     "text": [
      "2022-09-07 20:44:19 - Binary Accuracy Evaluation of the model on  dataset after epoch 7:\n",
      "2022-09-07 20:44:19 - Accuracy with Cosine-Similarity:           80.42\t(Threshold: 0.1483)\n",
      "2022-09-07 20:44:19 - F1 with Cosine-Similarity:                 85.35\t(Threshold: 0.0449)\n",
      "2022-09-07 20:44:19 - Precision with Cosine-Similarity:          79.55\n",
      "2022-09-07 20:44:19 - Recall with Cosine-Similarity:             92.05\n",
      "2022-09-07 20:44:19 - Average Precision with Cosine-Similarity:  90.01\n",
      "\n",
      "2022-09-07 20:44:19 - Accuracy with Manhattan-Distance:           80.42\t(Threshold: 475.9171)\n",
      "2022-09-07 20:44:19 - F1 with Manhattan-Distance:                 85.53\t(Threshold: 511.7922)\n",
      "2022-09-07 20:44:19 - Precision with Manhattan-Distance:          78.86\n",
      "2022-09-07 20:44:19 - Recall with Manhattan-Distance:             93.44\n",
      "2022-09-07 20:44:19 - Average Precision with Manhattan-Distance:  90.05\n",
      "\n",
      "2022-09-07 20:44:19 - Accuracy with Euclidean-Distance:           80.80\t(Threshold: 21.6659)\n",
      "2022-09-07 20:44:19 - F1 with Euclidean-Distance:                 85.58\t(Threshold: 21.6659)\n",
      "2022-09-07 20:44:19 - Precision with Euclidean-Distance:          80.88\n",
      "2022-09-07 20:44:19 - Recall with Euclidean-Distance:             90.85\n",
      "2022-09-07 20:44:19 - Average Precision with Euclidean-Distance:  90.13\n",
      "\n",
      "2022-09-07 20:44:19 - Accuracy with Dot-Product:           80.42\t(Threshold: 41.4475)\n",
      "2022-09-07 20:44:19 - F1 with Dot-Product:                 85.35\t(Threshold: 11.9271)\n",
      "2022-09-07 20:44:19 - Precision with Dot-Product:          79.55\n",
      "2022-09-07 20:44:19 - Recall with Dot-Product:             92.05\n",
      "2022-09-07 20:44:19 - Average Precision with Dot-Product:  89.47\n",
      "\n"
     ]
    },
    {
     "data": {
      "application/vnd.jupyter.widget-view+json": {
       "model_id": "822c147c258645c68c5cefff2e0bea0f",
       "version_major": 2,
       "version_minor": 0
      },
      "text/plain": [
       "Iteration:   0%|          | 0/150 [00:00<?, ?it/s]"
      ]
     },
     "metadata": {},
     "output_type": "display_data"
    },
    {
     "name": "stdout",
     "output_type": "stream",
     "text": [
      "2022-09-07 20:44:32 - Binary Accuracy Evaluation of the model on  dataset after epoch 8:\n",
      "2022-09-07 20:44:32 - Accuracy with Cosine-Similarity:           80.67\t(Threshold: 0.2325)\n",
      "2022-09-07 20:44:32 - F1 with Cosine-Similarity:                 85.55\t(Threshold: 0.1829)\n",
      "2022-09-07 20:44:32 - Precision with Cosine-Similarity:          80.53\n",
      "2022-09-07 20:44:32 - Recall with Cosine-Similarity:             91.25\n",
      "2022-09-07 20:44:32 - Average Precision with Cosine-Similarity:  89.92\n",
      "\n",
      "2022-09-07 20:44:32 - Accuracy with Manhattan-Distance:           81.05\t(Threshold: 444.0778)\n",
      "2022-09-07 20:44:32 - F1 with Manhattan-Distance:                 85.66\t(Threshold: 454.3788)\n",
      "2022-09-07 20:44:32 - Precision with Manhattan-Distance:          81.03\n",
      "2022-09-07 20:44:32 - Recall with Manhattan-Distance:             90.85\n",
      "2022-09-07 20:44:32 - Average Precision with Manhattan-Distance:  90.02\n",
      "\n",
      "2022-09-07 20:44:32 - Accuracy with Euclidean-Distance:           81.05\t(Threshold: 20.3564)\n",
      "2022-09-07 20:44:32 - F1 with Euclidean-Distance:                 85.74\t(Threshold: 21.0595)\n",
      "2022-09-07 20:44:32 - Precision with Euclidean-Distance:          80.70\n",
      "2022-09-07 20:44:32 - Recall with Euclidean-Distance:             91.45\n",
      "2022-09-07 20:44:32 - Average Precision with Euclidean-Distance:  90.04\n",
      "\n",
      "2022-09-07 20:44:32 - Accuracy with Dot-Product:           80.67\t(Threshold: 63.5399)\n",
      "2022-09-07 20:44:32 - F1 with Dot-Product:                 85.47\t(Threshold: 48.6704)\n",
      "2022-09-07 20:44:32 - Precision with Dot-Product:          80.39\n",
      "2022-09-07 20:44:32 - Recall with Dot-Product:             91.25\n",
      "2022-09-07 20:44:32 - Average Precision with Dot-Product:  89.42\n",
      "\n"
     ]
    },
    {
     "data": {
      "application/vnd.jupyter.widget-view+json": {
       "model_id": "e1d29b505b714eb6a6f737b5ac23d404",
       "version_major": 2,
       "version_minor": 0
      },
      "text/plain": [
       "Iteration:   0%|          | 0/150 [00:00<?, ?it/s]"
      ]
     },
     "metadata": {},
     "output_type": "display_data"
    },
    {
     "name": "stdout",
     "output_type": "stream",
     "text": [
      "2022-09-07 20:44:45 - Binary Accuracy Evaluation of the model on  dataset after epoch 9:\n",
      "2022-09-07 20:44:45 - Accuracy with Cosine-Similarity:           80.92\t(Threshold: 0.2033)\n",
      "2022-09-07 20:44:45 - F1 with Cosine-Similarity:                 85.63\t(Threshold: 0.1875)\n",
      "2022-09-07 20:44:45 - Precision with Cosine-Similarity:          81.14\n",
      "2022-09-07 20:44:45 - Recall with Cosine-Similarity:             90.66\n",
      "2022-09-07 20:44:45 - Average Precision with Cosine-Similarity:  89.90\n",
      "\n",
      "2022-09-07 20:44:45 - Accuracy with Manhattan-Distance:           81.17\t(Threshold: 470.8923)\n",
      "2022-09-07 20:44:45 - F1 with Manhattan-Distance:                 85.93\t(Threshold: 470.8923)\n",
      "2022-09-07 20:44:45 - Precision with Manhattan-Distance:          80.88\n",
      "2022-09-07 20:44:45 - Recall with Manhattan-Distance:             91.65\n",
      "2022-09-07 20:44:45 - Average Precision with Manhattan-Distance:  90.00\n",
      "\n",
      "2022-09-07 20:44:45 - Accuracy with Euclidean-Distance:           81.05\t(Threshold: 20.4796)\n",
      "2022-09-07 20:44:45 - F1 with Euclidean-Distance:                 85.71\t(Threshold: 21.3354)\n",
      "2022-09-07 20:44:45 - Precision with Euclidean-Distance:          80.81\n",
      "2022-09-07 20:44:45 - Recall with Euclidean-Distance:             91.25\n",
      "2022-09-07 20:44:45 - Average Precision with Euclidean-Distance:  90.01\n",
      "\n",
      "2022-09-07 20:44:45 - Accuracy with Dot-Product:           81.05\t(Threshold: 53.4810)\n",
      "2022-09-07 20:44:45 - F1 with Dot-Product:                 85.69\t(Threshold: 53.4810)\n",
      "2022-09-07 20:44:45 - Precision with Dot-Product:          81.40\n",
      "2022-09-07 20:44:45 - Recall with Dot-Product:             90.46\n",
      "2022-09-07 20:44:45 - Average Precision with Dot-Product:  89.39\n",
      "\n",
      "Training done...\n",
      "\n",
      "\n",
      "\n",
      "                     ********** stsb-distilbert-base **********\n",
      "2022-09-07 20:44:45 - Load pretrained SentenceTransformer: binary_sim_output/stsb-distilbert-base\n",
      "2022-09-07 20:44:46 - Use pytorch device: cuda\n",
      "2022-09-07 20:44:46 - Softmax loss: #Vectors concatenated: 3\n",
      "2022-09-07 20:44:46 - EmbeddingSimilarityEvaluator: Evaluating the model on SPRAG-test dataset:\n",
      "2022-09-07 20:44:47 - Cosine-Similarity :\tPearson: 0.6358\tSpearman: 0.6194\n",
      "2022-09-07 20:44:47 - Manhattan-Distance:\tPearson: 0.6066\tSpearman: 0.6212\n",
      "2022-09-07 20:44:47 - Euclidean-Distance:\tPearson: 0.6085\tSpearman: 0.6219\n",
      "2022-09-07 20:44:47 - Dot-Product-Similarity:\tPearson: 0.6282\tSpearman: 0.6113\n",
      "2022-09-07 20:44:47 - Binary Accuracy Evaluation of the model on  dataset:\n",
      "2022-09-07 20:44:48 - Accuracy with Cosine-Similarity:           81.67\t(Threshold: 0.4304)\n",
      "2022-09-07 20:44:48 - F1 with Cosine-Similarity:                 85.93\t(Threshold: 0.4304)\n",
      "2022-09-07 20:44:48 - Precision with Cosine-Similarity:          82.84\n",
      "2022-09-07 20:44:48 - Recall with Cosine-Similarity:             89.26\n",
      "2022-09-07 20:44:48 - Average Precision with Cosine-Similarity:  91.62\n",
      "\n",
      "2022-09-07 20:44:48 - Accuracy with Manhattan-Distance:           81.42\t(Threshold: 378.1932)\n",
      "2022-09-07 20:44:48 - F1 with Manhattan-Distance:                 86.09\t(Threshold: 380.9424)\n",
      "2022-09-07 20:44:48 - Precision with Manhattan-Distance:          81.16\n",
      "2022-09-07 20:44:48 - Recall with Manhattan-Distance:             91.65\n",
      "2022-09-07 20:44:48 - Average Precision with Manhattan-Distance:  91.74\n",
      "\n",
      "2022-09-07 20:44:48 - Accuracy with Euclidean-Distance:           81.42\t(Threshold: 16.8388)\n",
      "2022-09-07 20:44:48 - F1 with Euclidean-Distance:                 86.04\t(Threshold: 17.2287)\n",
      "2022-09-07 20:44:48 - Precision with Euclidean-Distance:          81.38\n",
      "2022-09-07 20:44:48 - Recall with Euclidean-Distance:             91.25\n",
      "2022-09-07 20:44:48 - Average Precision with Euclidean-Distance:  91.76\n",
      "\n",
      "2022-09-07 20:44:48 - Accuracy with Dot-Product:           80.80\t(Threshold: 103.8557)\n",
      "2022-09-07 20:44:48 - F1 with Dot-Product:                 85.56\t(Threshold: 93.8460)\n",
      "2022-09-07 20:44:48 - Precision with Dot-Product:          80.07\n",
      "2022-09-07 20:44:48 - Recall with Dot-Product:             91.85\n",
      "2022-09-07 20:44:48 - Average Precision with Dot-Product:  91.11\n",
      "\n"
     ]
    },
    {
     "data": {
      "text/plain": [
       "0.9176101851153833"
      ]
     },
     "execution_count": 57,
     "metadata": {},
     "output_type": "execute_result"
    }
   ],
   "source": [
    "st_model = 'stsb-distilbert-base'\n",
    "num_epochs = 10\n",
    "batch_size=16\n",
    "model_save_path = \"binary_sim_output/\"+st_model\n",
    "train_dataloader = DataLoader(train_examples, shuffle=True, batch_size=batch_size)\n",
    "  \n",
    "test_dataloader = DataLoader(test_examples, shuffle=True, batch_size=batch_size)\n",
    "model = train_and_evaluate(st_model, train_dataloader, test_dataloader, num_epochs, model_save_path)\n",
    "print(\"\\n\\n\")\n",
    "print(\" \"*20, \"*\"*10, st_model , \"*\"*10)\n",
    "\n",
    "# Load the stored model and evaluate its performance on mohler test dataset\n",
    "model = SentenceTransformer(model_save_path)\n",
    "train_loss = losses.SoftmaxLoss(model=model, sentence_embedding_dimension=model.get_sentence_embedding_dimension(), num_labels=2)\n",
    "test_evaluator = evaluation.EmbeddingSimilarityEvaluator.from_input_examples(test_examples, batch_size=16, name='SPRAG-test')\n",
    "test_evaluator(model, output_path=model_save_path)\n",
    "train_loss.cuda()\n",
    "\n",
    "x_test_dA = test_data['ReferenceAnswer'].values.tolist()\n",
    "x_test_sA = test_data['StudentAnswer'].values.tolist()\n",
    "y_test = test_labels \n",
    "\n",
    "evaluator = evaluation.BinaryClassificationEvaluator(x_test_dA, x_test_sA, y_test)\n",
    "evaluator(model, output_path=model_save_path)\n"
   ]
  },
  {
   "cell_type": "code",
   "execution_count": 58,
   "id": "28ca7d4f",
   "metadata": {},
   "outputs": [
    {
     "name": "stdout",
     "output_type": "stream",
     "text": [
      "2022-09-07 20:44:48 - Load pretrained SentenceTransformer: sentence-transformers/paraphrase-albert-small-v2\n",
      "2022-09-07 20:44:48 - Use pytorch device: cuda\n",
      "2022-09-07 20:44:48 - Softmax loss: #Vectors concatenated: 3\n",
      "150\n"
     ]
    },
    {
     "data": {
      "application/vnd.jupyter.widget-view+json": {
       "model_id": "f51400a9540c4bdf81ab82732c1c6ef5",
       "version_major": 2,
       "version_minor": 0
      },
      "text/plain": [
       "Epoch:   0%|          | 0/10 [00:00<?, ?it/s]"
      ]
     },
     "metadata": {},
     "output_type": "display_data"
    },
    {
     "data": {
      "application/vnd.jupyter.widget-view+json": {
       "model_id": "009d5ffac43242c4970cc035289ff58f",
       "version_major": 2,
       "version_minor": 0
      },
      "text/plain": [
       "Iteration:   0%|          | 0/150 [00:00<?, ?it/s]"
      ]
     },
     "metadata": {},
     "output_type": "display_data"
    },
    {
     "name": "stdout",
     "output_type": "stream",
     "text": [
      "2022-09-07 20:45:00 - Binary Accuracy Evaluation of the model on  dataset after epoch 0:\n",
      "2022-09-07 20:45:00 - Accuracy with Cosine-Similarity:           75.31\t(Threshold: 0.5039)\n",
      "2022-09-07 20:45:00 - F1 with Cosine-Similarity:                 82.26\t(Threshold: 0.3602)\n",
      "2022-09-07 20:45:00 - Precision with Cosine-Similarity:          73.97\n",
      "2022-09-07 20:45:00 - Recall with Cosine-Similarity:             92.64\n",
      "2022-09-07 20:45:00 - Average Precision with Cosine-Similarity:  87.56\n",
      "\n",
      "2022-09-07 20:45:00 - Accuracy with Manhattan-Distance:           73.69\t(Threshold: 493.8925)\n",
      "2022-09-07 20:45:00 - F1 with Manhattan-Distance:                 81.02\t(Threshold: 538.1855)\n",
      "2022-09-07 20:45:00 - Precision with Manhattan-Distance:          70.83\n",
      "2022-09-07 20:45:00 - Recall with Manhattan-Distance:             94.63\n",
      "2022-09-07 20:45:00 - Average Precision with Manhattan-Distance:  86.25\n",
      "\n",
      "2022-09-07 20:45:00 - Accuracy with Euclidean-Distance:           73.44\t(Threshold: 22.8238)\n",
      "2022-09-07 20:45:00 - F1 with Euclidean-Distance:                 80.96\t(Threshold: 25.3390)\n",
      "2022-09-07 20:45:00 - Precision with Euclidean-Distance:          69.15\n",
      "2022-09-07 20:45:00 - Recall with Euclidean-Distance:             97.61\n",
      "2022-09-07 20:45:00 - Average Precision with Euclidean-Distance:  86.30\n",
      "\n",
      "2022-09-07 20:45:00 - Accuracy with Dot-Product:           73.57\t(Threshold: 168.8528)\n",
      "2022-09-07 20:45:00 - F1 with Dot-Product:                 81.64\t(Threshold: 132.3448)\n",
      "2022-09-07 20:45:00 - Precision with Dot-Product:          71.56\n",
      "2022-09-07 20:45:00 - Recall with Dot-Product:             95.03\n",
      "2022-09-07 20:45:00 - Average Precision with Dot-Product:  85.31\n",
      "\n",
      "2022-09-07 20:45:00 - Save model to binary_sim_output/sentence-transformers/paraphrase-albert-small-v2\n"
     ]
    },
    {
     "data": {
      "application/vnd.jupyter.widget-view+json": {
       "model_id": "310055c3bd60423eb80f41ae7175c3b7",
       "version_major": 2,
       "version_minor": 0
      },
      "text/plain": [
       "Iteration:   0%|          | 0/150 [00:00<?, ?it/s]"
      ]
     },
     "metadata": {},
     "output_type": "display_data"
    },
    {
     "name": "stdout",
     "output_type": "stream",
     "text": [
      "2022-09-07 20:45:12 - Binary Accuracy Evaluation of the model on  dataset after epoch 1:\n",
      "2022-09-07 20:45:12 - Accuracy with Cosine-Similarity:           78.68\t(Threshold: 0.4119)\n",
      "2022-09-07 20:45:12 - F1 with Cosine-Similarity:                 84.16\t(Threshold: 0.3471)\n",
      "2022-09-07 20:45:12 - Precision with Cosine-Similarity:          77.24\n",
      "2022-09-07 20:45:12 - Recall with Cosine-Similarity:             92.45\n",
      "2022-09-07 20:45:12 - Average Precision with Cosine-Similarity:  89.40\n",
      "\n",
      "2022-09-07 20:45:12 - Accuracy with Manhattan-Distance:           77.81\t(Threshold: 622.9666)\n",
      "2022-09-07 20:45:12 - F1 with Manhattan-Distance:                 83.77\t(Threshold: 635.9893)\n",
      "2022-09-07 20:45:12 - Precision with Manhattan-Distance:          76.31\n",
      "2022-09-07 20:45:12 - Recall with Manhattan-Distance:             92.84\n",
      "2022-09-07 20:45:12 - Average Precision with Manhattan-Distance:  89.03\n",
      "\n",
      "2022-09-07 20:45:12 - Accuracy with Euclidean-Distance:           77.81\t(Threshold: 28.4607)\n",
      "2022-09-07 20:45:12 - F1 with Euclidean-Distance:                 83.88\t(Threshold: 28.7039)\n",
      "2022-09-07 20:45:12 - Precision with Euclidean-Distance:          77.04\n",
      "2022-09-07 20:45:12 - Recall with Euclidean-Distance:             92.05\n",
      "2022-09-07 20:45:12 - Average Precision with Euclidean-Distance:  89.14\n",
      "\n",
      "2022-09-07 20:45:12 - Accuracy with Dot-Product:           77.68\t(Threshold: 260.7491)\n",
      "2022-09-07 20:45:12 - F1 with Dot-Product:                 83.02\t(Threshold: 232.7498)\n",
      "2022-09-07 20:45:12 - Precision with Dot-Product:          78.21\n",
      "2022-09-07 20:45:12 - Recall with Dot-Product:             88.47\n",
      "2022-09-07 20:45:12 - Average Precision with Dot-Product:  87.74\n",
      "\n",
      "2022-09-07 20:45:12 - Save model to binary_sim_output/sentence-transformers/paraphrase-albert-small-v2\n"
     ]
    },
    {
     "data": {
      "application/vnd.jupyter.widget-view+json": {
       "model_id": "01a653932eae418a9a22599701030523",
       "version_major": 2,
       "version_minor": 0
      },
      "text/plain": [
       "Iteration:   0%|          | 0/150 [00:00<?, ?it/s]"
      ]
     },
     "metadata": {},
     "output_type": "display_data"
    },
    {
     "name": "stdout",
     "output_type": "stream",
     "text": [
      "2022-09-07 20:45:24 - Binary Accuracy Evaluation of the model on  dataset after epoch 2:\n",
      "2022-09-07 20:45:24 - Accuracy with Cosine-Similarity:           80.17\t(Threshold: 0.3442)\n",
      "2022-09-07 20:45:24 - F1 with Cosine-Similarity:                 85.18\t(Threshold: 0.3442)\n",
      "2022-09-07 20:45:24 - Precision with Cosine-Similarity:          80.18\n",
      "2022-09-07 20:45:24 - Recall with Cosine-Similarity:             90.85\n",
      "2022-09-07 20:45:24 - Average Precision with Cosine-Similarity:  90.29\n",
      "\n",
      "2022-09-07 20:45:24 - Accuracy with Manhattan-Distance:           80.42\t(Threshold: 693.7786)\n",
      "2022-09-07 20:45:24 - F1 with Manhattan-Distance:                 85.69\t(Threshold: 693.7786)\n",
      "2022-09-07 20:45:24 - Precision with Manhattan-Distance:          79.12\n",
      "2022-09-07 20:45:24 - Recall with Manhattan-Distance:             93.44\n",
      "2022-09-07 20:45:24 - Average Precision with Manhattan-Distance:  90.24\n",
      "\n",
      "2022-09-07 20:45:24 - Accuracy with Euclidean-Distance:           80.17\t(Threshold: 31.6929)\n",
      "2022-09-07 20:45:24 - F1 with Euclidean-Distance:                 85.53\t(Threshold: 32.0967)\n",
      "2022-09-07 20:45:24 - Precision with Euclidean-Distance:          78.03\n",
      "2022-09-07 20:45:24 - Recall with Euclidean-Distance:             94.63\n",
      "2022-09-07 20:45:24 - Average Precision with Euclidean-Distance:  90.30\n",
      "\n",
      "2022-09-07 20:45:24 - Accuracy with Dot-Product:           79.55\t(Threshold: 247.4182)\n",
      "2022-09-07 20:45:24 - F1 with Dot-Product:                 84.95\t(Threshold: 235.2621)\n",
      "2022-09-07 20:45:24 - Precision with Dot-Product:          78.88\n",
      "2022-09-07 20:45:24 - Recall with Dot-Product:             92.05\n",
      "2022-09-07 20:45:24 - Average Precision with Dot-Product:  89.07\n",
      "\n",
      "2022-09-07 20:45:24 - Save model to binary_sim_output/sentence-transformers/paraphrase-albert-small-v2\n"
     ]
    },
    {
     "data": {
      "application/vnd.jupyter.widget-view+json": {
       "model_id": "d1aee45d949845b4badf9e0bf9cc7838",
       "version_major": 2,
       "version_minor": 0
      },
      "text/plain": [
       "Iteration:   0%|          | 0/150 [00:00<?, ?it/s]"
      ]
     },
     "metadata": {},
     "output_type": "display_data"
    },
    {
     "name": "stdout",
     "output_type": "stream",
     "text": [
      "2022-09-07 20:45:36 - Binary Accuracy Evaluation of the model on  dataset after epoch 3:\n",
      "2022-09-07 20:45:36 - Accuracy with Cosine-Similarity:           79.68\t(Threshold: 0.2670)\n",
      "2022-09-07 20:45:36 - F1 with Cosine-Similarity:                 85.20\t(Threshold: 0.2356)\n",
      "2022-09-07 20:45:36 - Precision with Cosine-Similarity:          78.43\n",
      "2022-09-07 20:45:36 - Recall with Cosine-Similarity:             93.24\n",
      "2022-09-07 20:45:36 - Average Precision with Cosine-Similarity:  90.01\n",
      "\n",
      "2022-09-07 20:45:36 - Accuracy with Manhattan-Distance:           80.42\t(Threshold: 736.8947)\n",
      "2022-09-07 20:45:36 - F1 with Manhattan-Distance:                 85.37\t(Threshold: 737.6844)\n",
      "2022-09-07 20:45:36 - Precision with Manhattan-Distance:          80.35\n",
      "2022-09-07 20:45:36 - Recall with Manhattan-Distance:             91.05\n",
      "2022-09-07 20:45:36 - Average Precision with Manhattan-Distance:  90.32\n",
      "\n",
      "2022-09-07 20:45:36 - Accuracy with Euclidean-Distance:           80.30\t(Threshold: 32.7022)\n",
      "2022-09-07 20:45:36 - F1 with Euclidean-Distance:                 85.37\t(Threshold: 33.9112)\n",
      "2022-09-07 20:45:36 - Precision with Euclidean-Distance:          79.90\n",
      "2022-09-07 20:45:36 - Recall with Euclidean-Distance:             91.65\n",
      "2022-09-07 20:45:36 - Average Precision with Euclidean-Distance:  90.32\n",
      "\n",
      "2022-09-07 20:45:36 - Accuracy with Dot-Product:           79.43\t(Threshold: 286.3460)\n",
      "2022-09-07 20:45:36 - F1 with Dot-Product:                 85.08\t(Threshold: 164.0289)\n",
      "2022-09-07 20:45:36 - Precision with Dot-Product:          77.27\n",
      "2022-09-07 20:45:36 - Recall with Dot-Product:             94.63\n",
      "2022-09-07 20:45:36 - Average Precision with Dot-Product:  89.14\n",
      "\n",
      "2022-09-07 20:45:36 - Save model to binary_sim_output/sentence-transformers/paraphrase-albert-small-v2\n"
     ]
    },
    {
     "data": {
      "application/vnd.jupyter.widget-view+json": {
       "model_id": "6c97dd3c12e54bf499f453e8cff1955c",
       "version_major": 2,
       "version_minor": 0
      },
      "text/plain": [
       "Iteration:   0%|          | 0/150 [00:00<?, ?it/s]"
      ]
     },
     "metadata": {},
     "output_type": "display_data"
    },
    {
     "name": "stdout",
     "output_type": "stream",
     "text": [
      "2022-09-07 20:45:48 - Binary Accuracy Evaluation of the model on  dataset after epoch 4:\n",
      "2022-09-07 20:45:48 - Accuracy with Cosine-Similarity:           80.55\t(Threshold: 0.3216)\n",
      "2022-09-07 20:45:48 - F1 with Cosine-Similarity:                 85.31\t(Threshold: 0.3216)\n",
      "2022-09-07 20:45:48 - Precision with Cosine-Similarity:          81.04\n",
      "2022-09-07 20:45:48 - Recall with Cosine-Similarity:             90.06\n",
      "2022-09-07 20:45:48 - Average Precision with Cosine-Similarity:  89.97\n",
      "\n",
      "2022-09-07 20:45:48 - Accuracy with Manhattan-Distance:           80.67\t(Threshold: 775.6749)\n",
      "2022-09-07 20:45:48 - F1 with Manhattan-Distance:                 85.66\t(Threshold: 775.6749)\n",
      "2022-09-07 20:45:48 - Precision with Manhattan-Distance:          80.10\n",
      "2022-09-07 20:45:48 - Recall with Manhattan-Distance:             92.05\n",
      "2022-09-07 20:45:48 - Average Precision with Manhattan-Distance:  90.30\n",
      "\n",
      "2022-09-07 20:45:48 - Accuracy with Euclidean-Distance:           80.42\t(Threshold: 33.9078)\n",
      "2022-09-07 20:45:48 - F1 with Euclidean-Distance:                 85.51\t(Threshold: 36.0862)\n",
      "2022-09-07 20:45:48 - Precision with Euclidean-Distance:          78.96\n",
      "2022-09-07 20:45:48 - Recall with Euclidean-Distance:             93.24\n",
      "2022-09-07 20:45:48 - Average Precision with Euclidean-Distance:  90.26\n",
      "\n",
      "2022-09-07 20:45:48 - Accuracy with Dot-Product:           80.55\t(Threshold: 285.1342)\n",
      "2022-09-07 20:45:48 - F1 with Dot-Product:                 85.23\t(Threshold: 182.1738)\n",
      "2022-09-07 20:45:48 - Precision with Dot-Product:          77.52\n",
      "2022-09-07 20:45:48 - Recall with Dot-Product:             94.63\n",
      "2022-09-07 20:45:48 - Average Precision with Dot-Product:  88.86\n",
      "\n"
     ]
    },
    {
     "data": {
      "application/vnd.jupyter.widget-view+json": {
       "model_id": "b51187342d1c4db1b3746ae82cb76f9f",
       "version_major": 2,
       "version_minor": 0
      },
      "text/plain": [
       "Iteration:   0%|          | 0/150 [00:00<?, ?it/s]"
      ]
     },
     "metadata": {},
     "output_type": "display_data"
    },
    {
     "name": "stdout",
     "output_type": "stream",
     "text": [
      "2022-09-07 20:46:00 - Binary Accuracy Evaluation of the model on  dataset after epoch 5:\n",
      "2022-09-07 20:46:00 - Accuracy with Cosine-Similarity:           79.68\t(Threshold: 0.3725)\n",
      "2022-09-07 20:46:00 - F1 with Cosine-Similarity:                 84.99\t(Threshold: 0.1937)\n",
      "2022-09-07 20:46:00 - Precision with Cosine-Similarity:          77.94\n",
      "2022-09-07 20:46:00 - Recall with Cosine-Similarity:             93.44\n",
      "2022-09-07 20:46:00 - Average Precision with Cosine-Similarity:  89.88\n",
      "\n",
      "2022-09-07 20:46:00 - Accuracy with Manhattan-Distance:           80.05\t(Threshold: 756.5546)\n",
      "2022-09-07 20:46:00 - F1 with Manhattan-Distance:                 85.28\t(Threshold: 840.8428)\n",
      "2022-09-07 20:46:00 - Precision with Manhattan-Distance:          77.74\n",
      "2022-09-07 20:46:00 - Recall with Manhattan-Distance:             94.43\n",
      "2022-09-07 20:46:00 - Average Precision with Manhattan-Distance:  90.15\n",
      "\n",
      "2022-09-07 20:46:00 - Accuracy with Euclidean-Distance:           80.17\t(Threshold: 34.7463)\n",
      "2022-09-07 20:46:00 - F1 with Euclidean-Distance:                 85.14\t(Threshold: 37.8512)\n",
      "2022-09-07 20:46:00 - Precision with Euclidean-Distance:          78.20\n",
      "2022-09-07 20:46:00 - Recall with Euclidean-Distance:             93.44\n",
      "2022-09-07 20:46:00 - Average Precision with Euclidean-Distance:  90.16\n",
      "\n",
      "2022-09-07 20:46:00 - Accuracy with Dot-Product:           79.55\t(Threshold: 343.3226)\n",
      "2022-09-07 20:46:00 - F1 with Dot-Product:                 84.80\t(Threshold: 178.9762)\n",
      "2022-09-07 20:46:00 - Precision with Dot-Product:          78.19\n",
      "2022-09-07 20:46:00 - Recall with Dot-Product:             92.64\n",
      "2022-09-07 20:46:00 - Average Precision with Dot-Product:  88.76\n",
      "\n"
     ]
    },
    {
     "data": {
      "application/vnd.jupyter.widget-view+json": {
       "model_id": "149af7da3e6047f39f77e219d6a99d07",
       "version_major": 2,
       "version_minor": 0
      },
      "text/plain": [
       "Iteration:   0%|          | 0/150 [00:00<?, ?it/s]"
      ]
     },
     "metadata": {},
     "output_type": "display_data"
    },
    {
     "name": "stdout",
     "output_type": "stream",
     "text": [
      "2022-09-07 20:46:12 - Binary Accuracy Evaluation of the model on  dataset after epoch 6:\n",
      "2022-09-07 20:46:12 - Accuracy with Cosine-Similarity:           79.80\t(Threshold: 0.4114)\n",
      "2022-09-07 20:46:12 - F1 with Cosine-Similarity:                 85.09\t(Threshold: 0.1950)\n",
      "2022-09-07 20:46:12 - Precision with Cosine-Similarity:          78.39\n",
      "2022-09-07 20:46:12 - Recall with Cosine-Similarity:             93.04\n",
      "2022-09-07 20:46:12 - Average Precision with Cosine-Similarity:  90.28\n",
      "\n",
      "2022-09-07 20:46:12 - Accuracy with Manhattan-Distance:           80.42\t(Threshold: 767.1978)\n",
      "2022-09-07 20:46:12 - F1 with Manhattan-Distance:                 84.98\t(Threshold: 821.9632)\n",
      "2022-09-07 20:46:12 - Precision with Manhattan-Distance:          79.21\n",
      "2022-09-07 20:46:12 - Recall with Manhattan-Distance:             91.65\n",
      "2022-09-07 20:46:12 - Average Precision with Manhattan-Distance:  90.37\n",
      "\n",
      "2022-09-07 20:46:12 - Accuracy with Euclidean-Distance:           80.30\t(Threshold: 35.4005)\n",
      "2022-09-07 20:46:12 - F1 with Euclidean-Distance:                 85.04\t(Threshold: 38.0822)\n",
      "2022-09-07 20:46:12 - Precision with Euclidean-Distance:          78.58\n",
      "2022-09-07 20:46:12 - Recall with Euclidean-Distance:             92.64\n",
      "2022-09-07 20:46:12 - Average Precision with Euclidean-Distance:  90.47\n",
      "\n",
      "2022-09-07 20:46:12 - Accuracy with Dot-Product:           79.55\t(Threshold: 359.1105)\n",
      "2022-09-07 20:46:12 - F1 with Dot-Product:                 84.84\t(Threshold: 166.2266)\n",
      "2022-09-07 20:46:12 - Precision with Dot-Product:          77.69\n",
      "2022-09-07 20:46:12 - Recall with Dot-Product:             93.44\n",
      "2022-09-07 20:46:12 - Average Precision with Dot-Product:  89.30\n",
      "\n",
      "2022-09-07 20:46:12 - Save model to binary_sim_output/sentence-transformers/paraphrase-albert-small-v2\n"
     ]
    },
    {
     "data": {
      "application/vnd.jupyter.widget-view+json": {
       "model_id": "42a2ce3e7182410f80840b1674022ee5",
       "version_major": 2,
       "version_minor": 0
      },
      "text/plain": [
       "Iteration:   0%|          | 0/150 [00:00<?, ?it/s]"
      ]
     },
     "metadata": {},
     "output_type": "display_data"
    },
    {
     "name": "stdout",
     "output_type": "stream",
     "text": [
      "2022-09-07 20:46:24 - Binary Accuracy Evaluation of the model on  dataset after epoch 7:\n",
      "2022-09-07 20:46:24 - Accuracy with Cosine-Similarity:           79.55\t(Threshold: 0.3732)\n",
      "2022-09-07 20:46:24 - F1 with Cosine-Similarity:                 84.64\t(Threshold: 0.2188)\n",
      "2022-09-07 20:46:24 - Precision with Cosine-Similarity:          78.34\n",
      "2022-09-07 20:46:24 - Recall with Cosine-Similarity:             92.05\n",
      "2022-09-07 20:46:24 - Average Precision with Cosine-Similarity:  90.06\n",
      "\n",
      "2022-09-07 20:46:24 - Accuracy with Manhattan-Distance:           80.17\t(Threshold: 767.2670)\n",
      "2022-09-07 20:46:24 - F1 with Manhattan-Distance:                 84.84\t(Threshold: 819.0428)\n",
      "2022-09-07 20:46:24 - Precision with Manhattan-Distance:          79.27\n",
      "2022-09-07 20:46:24 - Recall with Manhattan-Distance:             91.25\n",
      "2022-09-07 20:46:24 - Average Precision with Manhattan-Distance:  90.23\n",
      "\n",
      "2022-09-07 20:46:24 - Accuracy with Euclidean-Distance:           80.05\t(Threshold: 35.3594)\n",
      "2022-09-07 20:46:24 - F1 with Euclidean-Distance:                 84.80\t(Threshold: 38.2188)\n",
      "2022-09-07 20:46:24 - Precision with Euclidean-Distance:          78.19\n",
      "2022-09-07 20:46:24 - Recall with Euclidean-Distance:             92.64\n",
      "2022-09-07 20:46:24 - Average Precision with Euclidean-Distance:  90.33\n",
      "\n",
      "2022-09-07 20:46:24 - Accuracy with Dot-Product:           79.43\t(Threshold: 385.1127)\n",
      "2022-09-07 20:46:24 - F1 with Dot-Product:                 84.43\t(Threshold: 208.5995)\n",
      "2022-09-07 20:46:24 - Precision with Dot-Product:          78.27\n",
      "2022-09-07 20:46:24 - Recall with Dot-Product:             91.65\n",
      "2022-09-07 20:46:24 - Average Precision with Dot-Product:  89.06\n",
      "\n"
     ]
    },
    {
     "data": {
      "application/vnd.jupyter.widget-view+json": {
       "model_id": "e9330b7ad71e46deb2f00dd40789d65b",
       "version_major": 2,
       "version_minor": 0
      },
      "text/plain": [
       "Iteration:   0%|          | 0/150 [00:00<?, ?it/s]"
      ]
     },
     "metadata": {},
     "output_type": "display_data"
    },
    {
     "name": "stdout",
     "output_type": "stream",
     "text": [
      "2022-09-07 20:46:35 - Binary Accuracy Evaluation of the model on  dataset after epoch 8:\n",
      "2022-09-07 20:46:36 - Accuracy with Cosine-Similarity:           79.55\t(Threshold: 0.3976)\n",
      "2022-09-07 20:46:36 - F1 with Cosine-Similarity:                 84.66\t(Threshold: 0.2285)\n",
      "2022-09-07 20:46:36 - Precision with Cosine-Similarity:          78.67\n",
      "2022-09-07 20:46:36 - Recall with Cosine-Similarity:             91.65\n",
      "2022-09-07 20:46:36 - Average Precision with Cosine-Similarity:  90.09\n",
      "\n",
      "2022-09-07 20:46:36 - Accuracy with Manhattan-Distance:           80.42\t(Threshold: 770.1621)\n",
      "2022-09-07 20:46:36 - F1 with Manhattan-Distance:                 85.01\t(Threshold: 833.6001)\n",
      "2022-09-07 20:46:36 - Precision with Manhattan-Distance:          78.68\n",
      "2022-09-07 20:46:36 - Recall with Manhattan-Distance:             92.45\n",
      "2022-09-07 20:46:36 - Average Precision with Manhattan-Distance:  90.26\n",
      "\n",
      "2022-09-07 20:46:36 - Accuracy with Euclidean-Distance:           80.30\t(Threshold: 35.3331)\n",
      "2022-09-07 20:46:36 - F1 with Euclidean-Distance:                 84.87\t(Threshold: 35.3331)\n",
      "2022-09-07 20:46:36 - Precision with Euclidean-Distance:          81.89\n",
      "2022-09-07 20:46:36 - Recall with Euclidean-Distance:             88.07\n",
      "2022-09-07 20:46:36 - Average Precision with Euclidean-Distance:  90.34\n",
      "\n",
      "2022-09-07 20:46:36 - Accuracy with Dot-Product:           79.68\t(Threshold: 382.8018)\n",
      "2022-09-07 20:46:36 - F1 with Dot-Product:                 84.57\t(Threshold: 201.3428)\n",
      "2022-09-07 20:46:36 - Precision with Dot-Product:          78.21\n",
      "2022-09-07 20:46:36 - Recall with Dot-Product:             92.05\n",
      "2022-09-07 20:46:36 - Average Precision with Dot-Product:  89.12\n",
      "\n"
     ]
    },
    {
     "data": {
      "application/vnd.jupyter.widget-view+json": {
       "model_id": "6611958c03764077a0d577cd3cfef089",
       "version_major": 2,
       "version_minor": 0
      },
      "text/plain": [
       "Iteration:   0%|          | 0/150 [00:00<?, ?it/s]"
      ]
     },
     "metadata": {},
     "output_type": "display_data"
    },
    {
     "name": "stdout",
     "output_type": "stream",
     "text": [
      "2022-09-07 20:46:47 - Binary Accuracy Evaluation of the model on  dataset after epoch 9:\n",
      "2022-09-07 20:46:48 - Accuracy with Cosine-Similarity:           79.55\t(Threshold: 0.4080)\n",
      "2022-09-07 20:46:48 - F1 with Cosine-Similarity:                 84.56\t(Threshold: 0.2399)\n",
      "2022-09-07 20:46:48 - Precision with Cosine-Similarity:          78.63\n",
      "2022-09-07 20:46:48 - Recall with Cosine-Similarity:             91.45\n",
      "2022-09-07 20:46:48 - Average Precision with Cosine-Similarity:  90.08\n",
      "\n",
      "2022-09-07 20:46:48 - Accuracy with Manhattan-Distance:           80.05\t(Threshold: 762.4699)\n",
      "2022-09-07 20:46:48 - F1 with Manhattan-Distance:                 84.95\t(Threshold: 817.5099)\n",
      "2022-09-07 20:46:48 - Precision with Manhattan-Distance:          79.31\n",
      "2022-09-07 20:46:48 - Recall with Manhattan-Distance:             91.45\n",
      "2022-09-07 20:46:48 - Average Precision with Manhattan-Distance:  90.24\n",
      "\n",
      "2022-09-07 20:46:48 - Accuracy with Euclidean-Distance:           80.17\t(Threshold: 35.1720)\n",
      "2022-09-07 20:46:48 - F1 with Euclidean-Distance:                 84.76\t(Threshold: 35.1720)\n",
      "2022-09-07 20:46:48 - Precision with Euclidean-Distance:          81.85\n",
      "2022-09-07 20:46:48 - Recall with Euclidean-Distance:             87.87\n",
      "2022-09-07 20:46:48 - Average Precision with Euclidean-Distance:  90.30\n",
      "\n",
      "2022-09-07 20:46:48 - Accuracy with Dot-Product:           79.43\t(Threshold: 394.7535)\n",
      "2022-09-07 20:46:48 - F1 with Dot-Product:                 84.57\t(Threshold: 211.0995)\n",
      "2022-09-07 20:46:48 - Precision with Dot-Product:          78.21\n",
      "2022-09-07 20:46:48 - Recall with Dot-Product:             92.05\n",
      "2022-09-07 20:46:48 - Average Precision with Dot-Product:  89.12\n",
      "\n",
      "Training done...\n",
      "\n",
      "\n",
      "\n",
      "                     ********** sentence-transformers/paraphrase-albert-small-v2 **********\n",
      "2022-09-07 20:46:48 - Load pretrained SentenceTransformer: binary_sim_output/sentence-transformers/paraphrase-albert-small-v2\n",
      "2022-09-07 20:46:48 - Use pytorch device: cuda\n",
      "2022-09-07 20:46:48 - Softmax loss: #Vectors concatenated: 3\n",
      "2022-09-07 20:46:48 - EmbeddingSimilarityEvaluator: Evaluating the model on SPRAG-test dataset:\n",
      "2022-09-07 20:46:50 - Cosine-Similarity :\tPearson: 0.6158\tSpearman: 0.5999\n",
      "2022-09-07 20:46:50 - Manhattan-Distance:\tPearson: 0.5945\tSpearman: 0.6006\n",
      "2022-09-07 20:46:50 - Euclidean-Distance:\tPearson: 0.5957\tSpearman: 0.6021\n",
      "2022-09-07 20:46:50 - Dot-Product-Similarity:\tPearson: 0.6079\tSpearman: 0.5900\n",
      "2022-09-07 20:46:50 - Binary Accuracy Evaluation of the model on  dataset:\n",
      "2022-09-07 20:46:50 - Accuracy with Cosine-Similarity:           79.80\t(Threshold: 0.4114)\n",
      "2022-09-07 20:46:50 - F1 with Cosine-Similarity:                 85.09\t(Threshold: 0.1950)\n",
      "2022-09-07 20:46:50 - Precision with Cosine-Similarity:          78.39\n",
      "2022-09-07 20:46:50 - Recall with Cosine-Similarity:             93.04\n",
      "2022-09-07 20:46:50 - Average Precision with Cosine-Similarity:  90.28\n",
      "\n",
      "2022-09-07 20:46:50 - Accuracy with Manhattan-Distance:           80.42\t(Threshold: 767.1978)\n",
      "2022-09-07 20:46:50 - F1 with Manhattan-Distance:                 84.98\t(Threshold: 821.9632)\n",
      "2022-09-07 20:46:50 - Precision with Manhattan-Distance:          79.21\n",
      "2022-09-07 20:46:50 - Recall with Manhattan-Distance:             91.65\n",
      "2022-09-07 20:46:50 - Average Precision with Manhattan-Distance:  90.37\n",
      "\n",
      "2022-09-07 20:46:50 - Accuracy with Euclidean-Distance:           80.30\t(Threshold: 35.4005)\n",
      "2022-09-07 20:46:50 - F1 with Euclidean-Distance:                 85.04\t(Threshold: 38.0822)\n",
      "2022-09-07 20:46:50 - Precision with Euclidean-Distance:          78.58\n",
      "2022-09-07 20:46:50 - Recall with Euclidean-Distance:             92.64\n",
      "2022-09-07 20:46:50 - Average Precision with Euclidean-Distance:  90.47\n",
      "\n",
      "2022-09-07 20:46:50 - Accuracy with Dot-Product:           79.55\t(Threshold: 359.1105)\n",
      "2022-09-07 20:46:50 - F1 with Dot-Product:                 84.84\t(Threshold: 166.2266)\n",
      "2022-09-07 20:46:50 - Precision with Dot-Product:          77.69\n",
      "2022-09-07 20:46:50 - Recall with Dot-Product:             93.44\n",
      "2022-09-07 20:46:50 - Average Precision with Dot-Product:  89.30\n",
      "\n"
     ]
    },
    {
     "data": {
      "text/plain": [
       "0.90467308023036"
      ]
     },
     "execution_count": 58,
     "metadata": {},
     "output_type": "execute_result"
    }
   ],
   "source": [
    "st_model = 'sentence-transformers/paraphrase-albert-small-v2'\n",
    "num_epochs = 10\n",
    "batch_size=16\n",
    "model_save_path = \"binary_sim_output/\"+st_model\n",
    "train_dataloader = DataLoader(train_examples, shuffle=True, batch_size=batch_size)\n",
    "  \n",
    "test_dataloader = DataLoader(test_examples, shuffle=True, batch_size=batch_size)\n",
    "model = train_and_evaluate(st_model, train_dataloader, test_dataloader, num_epochs, model_save_path)\n",
    "print(\"\\n\\n\")\n",
    "print(\" \"*20, \"*\"*10, st_model , \"*\"*10)\n",
    "\n",
    "# Load the stored model and evaluate its performance on mohler test dataset\n",
    "model = SentenceTransformer(model_save_path)\n",
    "train_loss = losses.SoftmaxLoss(model=model, sentence_embedding_dimension=model.get_sentence_embedding_dimension(), num_labels=2)\n",
    "test_evaluator = evaluation.EmbeddingSimilarityEvaluator.from_input_examples(test_examples, batch_size=16, name='SPRAG-test')\n",
    "test_evaluator(model, output_path=model_save_path)\n",
    "train_loss.cuda()\n",
    "\n",
    "x_test_dA = test_data['ReferenceAnswer'].values.tolist()\n",
    "x_test_sA = test_data['StudentAnswer'].values.tolist()\n",
    "y_test = test_labels \n",
    "\n",
    "evaluator = evaluation.BinaryClassificationEvaluator(x_test_dA, x_test_sA, y_test)\n",
    "evaluator(model, output_path=model_save_path)\n"
   ]
  },
  {
   "cell_type": "code",
   "execution_count": 59,
   "id": "513f89bc",
   "metadata": {},
   "outputs": [
    {
     "name": "stdout",
     "output_type": "stream",
     "text": [
      "2022-09-07 20:46:50 - Load pretrained SentenceTransformer: sentence-transformers/quora-distilbert-base\n",
      "2022-09-07 20:46:51 - Use pytorch device: cuda\n",
      "2022-09-07 20:46:51 - Softmax loss: #Vectors concatenated: 3\n",
      "150\n"
     ]
    },
    {
     "data": {
      "application/vnd.jupyter.widget-view+json": {
       "model_id": "34ffb2bcef2349bcb8cea504b871c265",
       "version_major": 2,
       "version_minor": 0
      },
      "text/plain": [
       "Epoch:   0%|          | 0/10 [00:00<?, ?it/s]"
      ]
     },
     "metadata": {},
     "output_type": "display_data"
    },
    {
     "data": {
      "application/vnd.jupyter.widget-view+json": {
       "model_id": "b08b344fb5e5443ab7d2e377600c0d41",
       "version_major": 2,
       "version_minor": 0
      },
      "text/plain": [
       "Iteration:   0%|          | 0/150 [00:00<?, ?it/s]"
      ]
     },
     "metadata": {},
     "output_type": "display_data"
    },
    {
     "name": "stdout",
     "output_type": "stream",
     "text": [
      "2022-09-07 20:47:03 - Binary Accuracy Evaluation of the model on  dataset after epoch 0:\n",
      "2022-09-07 20:47:04 - Accuracy with Cosine-Similarity:           78.68\t(Threshold: 0.4746)\n",
      "2022-09-07 20:47:04 - F1 with Cosine-Similarity:                 84.39\t(Threshold: 0.3549)\n",
      "2022-09-07 20:47:04 - Precision with Cosine-Similarity:          76.54\n",
      "2022-09-07 20:47:04 - Recall with Cosine-Similarity:             94.04\n",
      "2022-09-07 20:47:04 - Average Precision with Cosine-Similarity:  90.17\n",
      "\n",
      "2022-09-07 20:47:04 - Accuracy with Manhattan-Distance:           78.68\t(Threshold: 322.8438)\n",
      "2022-09-07 20:47:04 - F1 with Manhattan-Distance:                 83.85\t(Threshold: 342.6319)\n",
      "2022-09-07 20:47:04 - Precision with Manhattan-Distance:          76.05\n",
      "2022-09-07 20:47:04 - Recall with Manhattan-Distance:             93.44\n",
      "2022-09-07 20:47:04 - Average Precision with Manhattan-Distance:  89.45\n",
      "\n",
      "2022-09-07 20:47:04 - Accuracy with Euclidean-Distance:           78.80\t(Threshold: 14.9194)\n",
      "2022-09-07 20:47:04 - F1 with Euclidean-Distance:                 84.07\t(Threshold: 16.0285)\n",
      "2022-09-07 20:47:04 - Precision with Euclidean-Distance:          75.76\n",
      "2022-09-07 20:47:04 - Recall with Euclidean-Distance:             94.43\n",
      "2022-09-07 20:47:04 - Average Precision with Euclidean-Distance:  89.51\n",
      "\n",
      "2022-09-07 20:47:04 - Accuracy with Dot-Product:           78.18\t(Threshold: 105.8897)\n",
      "2022-09-07 20:47:04 - F1 with Dot-Product:                 83.86\t(Threshold: 56.4004)\n",
      "2022-09-07 20:47:04 - Precision with Dot-Product:          75.04\n",
      "2022-09-07 20:47:04 - Recall with Dot-Product:             95.03\n",
      "2022-09-07 20:47:04 - Average Precision with Dot-Product:  88.91\n",
      "\n",
      "2022-09-07 20:47:04 - Save model to binary_sim_output/sentence-transformers/quora-distilbert-base\n"
     ]
    },
    {
     "data": {
      "application/vnd.jupyter.widget-view+json": {
       "model_id": "547c0b77196e46b88541f1bb91734ae9",
       "version_major": 2,
       "version_minor": 0
      },
      "text/plain": [
       "Iteration:   0%|          | 0/150 [00:00<?, ?it/s]"
      ]
     },
     "metadata": {},
     "output_type": "display_data"
    },
    {
     "name": "stdout",
     "output_type": "stream",
     "text": [
      "2022-09-07 20:47:17 - Binary Accuracy Evaluation of the model on  dataset after epoch 1:\n",
      "2022-09-07 20:47:17 - Accuracy with Cosine-Similarity:           79.80\t(Threshold: 0.4339)\n",
      "2022-09-07 20:47:17 - F1 with Cosine-Similarity:                 85.11\t(Threshold: 0.3684)\n",
      "2022-09-07 20:47:17 - Precision with Cosine-Similarity:          78.72\n",
      "2022-09-07 20:47:17 - Recall with Cosine-Similarity:             92.64\n",
      "2022-09-07 20:47:17 - Average Precision with Cosine-Similarity:  91.24\n",
      "\n",
      "2022-09-07 20:47:17 - Accuracy with Manhattan-Distance:           79.18\t(Threshold: 335.6955)\n",
      "2022-09-07 20:47:17 - F1 with Manhattan-Distance:                 84.61\t(Threshold: 345.0104)\n",
      "2022-09-07 20:47:17 - Precision with Manhattan-Distance:          78.87\n",
      "2022-09-07 20:47:17 - Recall with Manhattan-Distance:             91.25\n",
      "2022-09-07 20:47:17 - Average Precision with Manhattan-Distance:  90.40\n",
      "\n",
      "2022-09-07 20:47:17 - Accuracy with Euclidean-Distance:           79.30\t(Threshold: 15.5300)\n",
      "2022-09-07 20:47:17 - F1 with Euclidean-Distance:                 84.69\t(Threshold: 16.1444)\n",
      "2022-09-07 20:47:17 - Precision with Euclidean-Distance:          78.57\n",
      "2022-09-07 20:47:17 - Recall with Euclidean-Distance:             91.85\n",
      "2022-09-07 20:47:17 - Average Precision with Euclidean-Distance:  90.65\n",
      "\n",
      "2022-09-07 20:47:17 - Accuracy with Dot-Product:           79.55\t(Threshold: 110.9857)\n",
      "2022-09-07 20:47:17 - F1 with Dot-Product:                 84.64\t(Threshold: 83.8990)\n",
      "2022-09-07 20:47:17 - Precision with Dot-Product:          80.00\n",
      "2022-09-07 20:47:17 - Recall with Dot-Product:             89.86\n",
      "2022-09-07 20:47:17 - Average Precision with Dot-Product:  90.88\n",
      "\n",
      "2022-09-07 20:47:17 - Save model to binary_sim_output/sentence-transformers/quora-distilbert-base\n"
     ]
    },
    {
     "data": {
      "application/vnd.jupyter.widget-view+json": {
       "model_id": "a8098c99463b4d99b73d35398713b9a3",
       "version_major": 2,
       "version_minor": 0
      },
      "text/plain": [
       "Iteration:   0%|          | 0/150 [00:00<?, ?it/s]"
      ]
     },
     "metadata": {},
     "output_type": "display_data"
    },
    {
     "name": "stdout",
     "output_type": "stream",
     "text": [
      "2022-09-07 20:47:30 - Binary Accuracy Evaluation of the model on  dataset after epoch 2:\n",
      "2022-09-07 20:47:31 - Accuracy with Cosine-Similarity:           80.80\t(Threshold: 0.4407)\n",
      "2022-09-07 20:47:31 - F1 with Cosine-Similarity:                 85.79\t(Threshold: 0.3069)\n",
      "2022-09-07 20:47:31 - Precision with Cosine-Similarity:          80.03\n",
      "2022-09-07 20:47:31 - Recall with Cosine-Similarity:             92.45\n",
      "2022-09-07 20:47:31 - Average Precision with Cosine-Similarity:  91.69\n",
      "\n",
      "2022-09-07 20:47:31 - Accuracy with Manhattan-Distance:           80.80\t(Threshold: 361.7603)\n",
      "2022-09-07 20:47:31 - F1 with Manhattan-Distance:                 85.90\t(Threshold: 381.1732)\n",
      "2022-09-07 20:47:31 - Precision with Manhattan-Distance:          79.19\n",
      "2022-09-07 20:47:31 - Recall with Manhattan-Distance:             93.84\n",
      "2022-09-07 20:47:31 - Average Precision with Manhattan-Distance:  90.87\n",
      "\n",
      "2022-09-07 20:47:31 - Accuracy with Euclidean-Distance:           81.30\t(Threshold: 16.4362)\n",
      "2022-09-07 20:47:31 - F1 with Euclidean-Distance:                 86.10\t(Threshold: 17.8976)\n",
      "2022-09-07 20:47:31 - Precision with Euclidean-Distance:          78.84\n",
      "2022-09-07 20:47:31 - Recall with Euclidean-Distance:             94.83\n",
      "2022-09-07 20:47:31 - Average Precision with Euclidean-Distance:  91.03\n",
      "\n",
      "2022-09-07 20:47:31 - Accuracy with Dot-Product:           80.67\t(Threshold: 66.0614)\n",
      "2022-09-07 20:47:31 - F1 with Dot-Product:                 85.77\t(Threshold: 55.7554)\n",
      "2022-09-07 20:47:31 - Precision with Dot-Product:          78.83\n",
      "2022-09-07 20:47:31 - Recall with Dot-Product:             94.04\n",
      "2022-09-07 20:47:31 - Average Precision with Dot-Product:  91.50\n",
      "\n",
      "2022-09-07 20:47:31 - Save model to binary_sim_output/sentence-transformers/quora-distilbert-base\n"
     ]
    },
    {
     "data": {
      "application/vnd.jupyter.widget-view+json": {
       "model_id": "3dbcacc8937a4892b1d7855d05c5b638",
       "version_major": 2,
       "version_minor": 0
      },
      "text/plain": [
       "Iteration:   0%|          | 0/150 [00:00<?, ?it/s]"
      ]
     },
     "metadata": {},
     "output_type": "display_data"
    },
    {
     "name": "stdout",
     "output_type": "stream",
     "text": [
      "2022-09-07 20:47:44 - Binary Accuracy Evaluation of the model on  dataset after epoch 3:\n",
      "2022-09-07 20:47:44 - Accuracy with Cosine-Similarity:           81.67\t(Threshold: 0.4182)\n",
      "2022-09-07 20:47:44 - F1 with Cosine-Similarity:                 86.22\t(Threshold: 0.3594)\n",
      "2022-09-07 20:47:44 - Precision with Cosine-Similarity:          80.62\n",
      "2022-09-07 20:47:44 - Recall with Cosine-Similarity:             92.64\n",
      "2022-09-07 20:47:44 - Average Precision with Cosine-Similarity:  90.86\n",
      "\n",
      "2022-09-07 20:47:44 - Accuracy with Manhattan-Distance:           81.17\t(Threshold: 383.7314)\n",
      "2022-09-07 20:47:44 - F1 with Manhattan-Distance:                 86.08\t(Threshold: 383.7314)\n",
      "2022-09-07 20:47:44 - Precision with Manhattan-Distance:          80.24\n",
      "2022-09-07 20:47:44 - Recall with Manhattan-Distance:             92.84\n",
      "2022-09-07 20:47:44 - Average Precision with Manhattan-Distance:  90.72\n",
      "\n",
      "2022-09-07 20:47:44 - Accuracy with Euclidean-Distance:           81.55\t(Threshold: 17.6299)\n",
      "2022-09-07 20:47:44 - F1 with Euclidean-Distance:                 86.32\t(Threshold: 17.6299)\n",
      "2022-09-07 20:47:44 - Precision with Euclidean-Distance:          80.66\n",
      "2022-09-07 20:47:44 - Recall with Euclidean-Distance:             92.84\n",
      "2022-09-07 20:47:44 - Average Precision with Euclidean-Distance:  90.74\n",
      "\n",
      "2022-09-07 20:47:44 - Accuracy with Dot-Product:           80.92\t(Threshold: 89.0112)\n",
      "2022-09-07 20:47:44 - F1 with Dot-Product:                 85.82\t(Threshold: 81.9453)\n",
      "2022-09-07 20:47:44 - Precision with Dot-Product:          79.93\n",
      "2022-09-07 20:47:44 - Recall with Dot-Product:             92.64\n",
      "2022-09-07 20:47:44 - Average Precision with Dot-Product:  90.39\n",
      "\n"
     ]
    },
    {
     "data": {
      "application/vnd.jupyter.widget-view+json": {
       "model_id": "675869c511a84139a38f6e9e5a9435e1",
       "version_major": 2,
       "version_minor": 0
      },
      "text/plain": [
       "Iteration:   0%|          | 0/150 [00:00<?, ?it/s]"
      ]
     },
     "metadata": {},
     "output_type": "display_data"
    },
    {
     "name": "stdout",
     "output_type": "stream",
     "text": [
      "2022-09-07 20:47:56 - Binary Accuracy Evaluation of the model on  dataset after epoch 4:\n",
      "2022-09-07 20:47:57 - Accuracy with Cosine-Similarity:           79.68\t(Threshold: 0.2431)\n",
      "2022-09-07 20:47:57 - F1 with Cosine-Similarity:                 85.00\t(Threshold: 0.2431)\n",
      "2022-09-07 20:47:57 - Precision with Cosine-Similarity:          79.11\n",
      "2022-09-07 20:47:57 - Recall with Cosine-Similarity:             91.85\n",
      "2022-09-07 20:47:57 - Average Precision with Cosine-Similarity:  90.39\n",
      "\n",
      "2022-09-07 20:47:57 - Accuracy with Manhattan-Distance:           80.30\t(Threshold: 381.8479)\n",
      "2022-09-07 20:47:57 - F1 with Manhattan-Distance:                 85.32\t(Threshold: 422.2581)\n",
      "2022-09-07 20:47:57 - Precision with Manhattan-Distance:          79.66\n",
      "2022-09-07 20:47:57 - Recall with Manhattan-Distance:             91.85\n",
      "2022-09-07 20:47:57 - Average Precision with Manhattan-Distance:  90.31\n",
      "\n",
      "2022-09-07 20:47:57 - Accuracy with Euclidean-Distance:           80.05\t(Threshold: 17.5416)\n",
      "2022-09-07 20:47:57 - F1 with Euclidean-Distance:                 85.19\t(Threshold: 19.1791)\n",
      "2022-09-07 20:47:57 - Precision with Euclidean-Distance:          79.72\n",
      "2022-09-07 20:47:57 - Recall with Euclidean-Distance:             91.45\n",
      "2022-09-07 20:47:57 - Average Precision with Euclidean-Distance:  90.39\n",
      "\n",
      "2022-09-07 20:47:57 - Accuracy with Dot-Product:           79.43\t(Threshold: 115.6768)\n",
      "2022-09-07 20:47:57 - F1 with Dot-Product:                 84.82\t(Threshold: 55.5845)\n",
      "2022-09-07 20:47:57 - Precision with Dot-Product:          78.94\n",
      "2022-09-07 20:47:57 - Recall with Dot-Product:             91.65\n",
      "2022-09-07 20:47:57 - Average Precision with Dot-Product:  90.01\n",
      "\n"
     ]
    },
    {
     "data": {
      "application/vnd.jupyter.widget-view+json": {
       "model_id": "7ecbe9f4bb7c49ffb49f41498e6d5432",
       "version_major": 2,
       "version_minor": 0
      },
      "text/plain": [
       "Iteration:   0%|          | 0/150 [00:00<?, ?it/s]"
      ]
     },
     "metadata": {},
     "output_type": "display_data"
    },
    {
     "name": "stdout",
     "output_type": "stream",
     "text": [
      "2022-09-07 20:48:09 - Binary Accuracy Evaluation of the model on  dataset after epoch 5:\n",
      "2022-09-07 20:48:10 - Accuracy with Cosine-Similarity:           80.05\t(Threshold: 0.2152)\n",
      "2022-09-07 20:48:10 - F1 with Cosine-Similarity:                 84.93\t(Threshold: 0.2113)\n",
      "2022-09-07 20:48:10 - Precision with Cosine-Similarity:          80.68\n",
      "2022-09-07 20:48:10 - Recall with Cosine-Similarity:             89.66\n",
      "2022-09-07 20:48:10 - Average Precision with Cosine-Similarity:  90.55\n",
      "\n",
      "2022-09-07 20:48:10 - Accuracy with Manhattan-Distance:           80.42\t(Threshold: 442.6093)\n",
      "2022-09-07 20:48:10 - F1 with Manhattan-Distance:                 85.45\t(Threshold: 446.8097)\n",
      "2022-09-07 20:48:10 - Precision with Manhattan-Distance:          79.59\n",
      "2022-09-07 20:48:10 - Recall with Manhattan-Distance:             92.25\n",
      "2022-09-07 20:48:10 - Average Precision with Manhattan-Distance:  90.22\n",
      "\n",
      "2022-09-07 20:48:10 - Accuracy with Euclidean-Distance:           80.55\t(Threshold: 20.2799)\n",
      "2022-09-07 20:48:10 - F1 with Euclidean-Distance:                 85.58\t(Threshold: 20.5117)\n",
      "2022-09-07 20:48:10 - Precision with Euclidean-Distance:          79.97\n",
      "2022-09-07 20:48:10 - Recall with Euclidean-Distance:             92.05\n",
      "2022-09-07 20:48:10 - Average Precision with Euclidean-Distance:  90.30\n",
      "\n",
      "2022-09-07 20:48:10 - Accuracy with Dot-Product:           79.55\t(Threshold: 57.1917)\n",
      "2022-09-07 20:48:10 - F1 with Dot-Product:                 84.91\t(Threshold: 13.7222)\n",
      "2022-09-07 20:48:10 - Precision with Dot-Product:          78.22\n",
      "2022-09-07 20:48:10 - Recall with Dot-Product:             92.84\n",
      "2022-09-07 20:48:10 - Average Precision with Dot-Product:  90.40\n",
      "\n"
     ]
    },
    {
     "data": {
      "application/vnd.jupyter.widget-view+json": {
       "model_id": "8f6cc63513bf4d9990367245092d8f51",
       "version_major": 2,
       "version_minor": 0
      },
      "text/plain": [
       "Iteration:   0%|          | 0/150 [00:00<?, ?it/s]"
      ]
     },
     "metadata": {},
     "output_type": "display_data"
    },
    {
     "name": "stdout",
     "output_type": "stream",
     "text": [
      "2022-09-07 20:48:22 - Binary Accuracy Evaluation of the model on  dataset after epoch 6:\n",
      "2022-09-07 20:48:23 - Accuracy with Cosine-Similarity:           79.55\t(Threshold: 0.3399)\n",
      "2022-09-07 20:48:23 - F1 with Cosine-Similarity:                 84.70\t(Threshold: 0.3399)\n",
      "2022-09-07 20:48:23 - Precision with Cosine-Similarity:          79.79\n",
      "2022-09-07 20:48:23 - Recall with Cosine-Similarity:             90.26\n",
      "2022-09-07 20:48:23 - Average Precision with Cosine-Similarity:  90.12\n",
      "\n",
      "2022-09-07 20:48:23 - Accuracy with Manhattan-Distance:           80.05\t(Threshold: 403.5145)\n",
      "2022-09-07 20:48:23 - F1 with Manhattan-Distance:                 85.07\t(Threshold: 403.5145)\n",
      "2022-09-07 20:48:23 - Precision with Manhattan-Distance:          80.14\n",
      "2022-09-07 20:48:23 - Recall with Manhattan-Distance:             90.66\n",
      "2022-09-07 20:48:23 - Average Precision with Manhattan-Distance:  89.88\n",
      "\n",
      "2022-09-07 20:48:23 - Accuracy with Euclidean-Distance:           79.93\t(Threshold: 18.3885)\n",
      "2022-09-07 20:48:23 - F1 with Euclidean-Distance:                 85.00\t(Threshold: 19.6987)\n",
      "2022-09-07 20:48:23 - Precision with Euclidean-Distance:          79.11\n",
      "2022-09-07 20:48:23 - Recall with Euclidean-Distance:             91.85\n",
      "2022-09-07 20:48:23 - Average Precision with Euclidean-Distance:  89.94\n",
      "\n",
      "2022-09-07 20:48:23 - Accuracy with Dot-Product:           79.43\t(Threshold: 127.0212)\n",
      "2022-09-07 20:48:23 - F1 with Dot-Product:                 84.48\t(Threshold: 52.8903)\n",
      "2022-09-07 20:48:23 - Precision with Dot-Product:          78.50\n",
      "2022-09-07 20:48:23 - Recall with Dot-Product:             91.45\n",
      "2022-09-07 20:48:23 - Average Precision with Dot-Product:  89.79\n",
      "\n"
     ]
    },
    {
     "data": {
      "application/vnd.jupyter.widget-view+json": {
       "model_id": "3719d7c2897744d6b9d6c5571a6e0a7b",
       "version_major": 2,
       "version_minor": 0
      },
      "text/plain": [
       "Iteration:   0%|          | 0/150 [00:00<?, ?it/s]"
      ]
     },
     "metadata": {},
     "output_type": "display_data"
    },
    {
     "name": "stdout",
     "output_type": "stream",
     "text": [
      "2022-09-07 20:48:35 - Binary Accuracy Evaluation of the model on  dataset after epoch 7:\n",
      "2022-09-07 20:48:36 - Accuracy with Cosine-Similarity:           79.93\t(Threshold: 0.3178)\n",
      "2022-09-07 20:48:36 - F1 with Cosine-Similarity:                 84.92\t(Threshold: 0.2023)\n",
      "2022-09-07 20:48:36 - Precision with Cosine-Similarity:          79.86\n",
      "2022-09-07 20:48:36 - Recall with Cosine-Similarity:             90.66\n",
      "2022-09-07 20:48:36 - Average Precision with Cosine-Similarity:  90.42\n",
      "\n",
      "2022-09-07 20:48:36 - Accuracy with Manhattan-Distance:           80.05\t(Threshold: 385.4167)\n",
      "2022-09-07 20:48:36 - F1 with Manhattan-Distance:                 85.05\t(Threshold: 433.1630)\n",
      "2022-09-07 20:48:36 - Precision with Manhattan-Distance:          79.79\n",
      "2022-09-07 20:48:36 - Recall with Manhattan-Distance:             91.05\n",
      "2022-09-07 20:48:36 - Average Precision with Manhattan-Distance:  90.18\n",
      "\n",
      "2022-09-07 20:48:36 - Accuracy with Euclidean-Distance:           80.05\t(Threshold: 17.9274)\n",
      "2022-09-07 20:48:36 - F1 with Euclidean-Distance:                 85.16\t(Threshold: 19.8566)\n",
      "2022-09-07 20:48:36 - Precision with Euclidean-Distance:          79.83\n",
      "2022-09-07 20:48:36 - Recall with Euclidean-Distance:             91.25\n",
      "2022-09-07 20:48:36 - Average Precision with Euclidean-Distance:  90.24\n",
      "\n",
      "2022-09-07 20:48:36 - Accuracy with Dot-Product:           79.80\t(Threshold: 53.6172)\n",
      "2022-09-07 20:48:36 - F1 with Dot-Product:                 84.92\t(Threshold: 53.6172)\n",
      "2022-09-07 20:48:36 - Precision with Dot-Product:          79.86\n",
      "2022-09-07 20:48:36 - Recall with Dot-Product:             90.66\n",
      "2022-09-07 20:48:36 - Average Precision with Dot-Product:  90.18\n",
      "\n"
     ]
    },
    {
     "data": {
      "application/vnd.jupyter.widget-view+json": {
       "model_id": "2f3f8dffc7454ba0aaed1b3b5699e76d",
       "version_major": 2,
       "version_minor": 0
      },
      "text/plain": [
       "Iteration:   0%|          | 0/150 [00:00<?, ?it/s]"
      ]
     },
     "metadata": {},
     "output_type": "display_data"
    },
    {
     "name": "stdout",
     "output_type": "stream",
     "text": [
      "2022-09-07 20:48:48 - Binary Accuracy Evaluation of the model on  dataset after epoch 8:\n",
      "2022-09-07 20:48:48 - Accuracy with Cosine-Similarity:           80.17\t(Threshold: 0.3314)\n",
      "2022-09-07 20:48:48 - F1 with Cosine-Similarity:                 85.24\t(Threshold: 0.1364)\n",
      "2022-09-07 20:48:48 - Precision with Cosine-Similarity:          79.08\n",
      "2022-09-07 20:48:48 - Recall with Cosine-Similarity:             92.45\n",
      "2022-09-07 20:48:48 - Average Precision with Cosine-Similarity:  90.34\n",
      "\n",
      "2022-09-07 20:48:48 - Accuracy with Manhattan-Distance:           79.93\t(Threshold: 392.2557)\n",
      "2022-09-07 20:48:48 - F1 with Manhattan-Distance:                 85.19\t(Threshold: 457.6984)\n",
      "2022-09-07 20:48:48 - Precision with Manhattan-Distance:          78.85\n",
      "2022-09-07 20:48:48 - Recall with Manhattan-Distance:             92.64\n",
      "2022-09-07 20:48:48 - Average Precision with Manhattan-Distance:  90.09\n",
      "\n",
      "2022-09-07 20:48:48 - Accuracy with Euclidean-Distance:           79.93\t(Threshold: 17.6050)\n",
      "2022-09-07 20:48:48 - F1 with Euclidean-Distance:                 85.22\t(Threshold: 21.1586)\n",
      "2022-09-07 20:48:48 - Precision with Euclidean-Distance:          78.75\n",
      "2022-09-07 20:48:48 - Recall with Euclidean-Distance:             92.84\n",
      "2022-09-07 20:48:48 - Average Precision with Euclidean-Distance:  90.15\n",
      "\n",
      "2022-09-07 20:48:48 - Accuracy with Dot-Product:           80.17\t(Threshold: 78.4153)\n",
      "2022-09-07 20:48:48 - F1 with Dot-Product:                 85.07\t(Threshold: 78.4153)\n",
      "2022-09-07 20:48:48 - Precision with Dot-Product:          80.60\n",
      "2022-09-07 20:48:48 - Recall with Dot-Product:             90.06\n",
      "2022-09-07 20:48:48 - Average Precision with Dot-Product:  90.09\n",
      "\n"
     ]
    },
    {
     "data": {
      "application/vnd.jupyter.widget-view+json": {
       "model_id": "c4e3c1e4b6584e629f2419aba252d4a4",
       "version_major": 2,
       "version_minor": 0
      },
      "text/plain": [
       "Iteration:   0%|          | 0/150 [00:00<?, ?it/s]"
      ]
     },
     "metadata": {},
     "output_type": "display_data"
    },
    {
     "name": "stdout",
     "output_type": "stream",
     "text": [
      "2022-09-07 20:49:01 - Binary Accuracy Evaluation of the model on  dataset after epoch 9:\n",
      "2022-09-07 20:49:02 - Accuracy with Cosine-Similarity:           80.05\t(Threshold: 0.3176)\n",
      "2022-09-07 20:49:02 - F1 with Cosine-Similarity:                 84.94\t(Threshold: 0.2920)\n",
      "2022-09-07 20:49:02 - Precision with Cosine-Similarity:          80.21\n",
      "2022-09-07 20:49:02 - Recall with Cosine-Similarity:             90.26\n",
      "2022-09-07 20:49:02 - Average Precision with Cosine-Similarity:  90.29\n",
      "\n",
      "2022-09-07 20:49:02 - Accuracy with Manhattan-Distance:           79.80\t(Threshold: 425.3356)\n",
      "2022-09-07 20:49:02 - F1 with Manhattan-Distance:                 85.11\t(Threshold: 459.2954)\n",
      "2022-09-07 20:49:02 - Precision with Manhattan-Distance:          78.72\n",
      "2022-09-07 20:49:02 - Recall with Manhattan-Distance:             92.64\n",
      "2022-09-07 20:49:02 - Average Precision with Manhattan-Distance:  90.05\n",
      "\n",
      "2022-09-07 20:49:02 - Accuracy with Euclidean-Distance:           79.93\t(Threshold: 18.0835)\n",
      "2022-09-07 20:49:02 - F1 with Euclidean-Distance:                 85.16\t(Threshold: 20.9459)\n",
      "2022-09-07 20:49:02 - Precision with Euclidean-Distance:          78.95\n",
      "2022-09-07 20:49:02 - Recall with Euclidean-Distance:             92.45\n",
      "2022-09-07 20:49:02 - Average Precision with Euclidean-Distance:  90.09\n",
      "\n",
      "2022-09-07 20:49:02 - Accuracy with Dot-Product:           80.17\t(Threshold: 76.5402)\n",
      "2022-09-07 20:49:02 - F1 with Dot-Product:                 85.07\t(Threshold: 76.5402)\n",
      "2022-09-07 20:49:02 - Precision with Dot-Product:          80.60\n",
      "2022-09-07 20:49:02 - Recall with Dot-Product:             90.06\n",
      "2022-09-07 20:49:02 - Average Precision with Dot-Product:  90.08\n",
      "\n",
      "Training done...\n",
      "\n",
      "\n",
      "\n",
      "                     ********** sentence-transformers/quora-distilbert-base **********\n",
      "2022-09-07 20:49:02 - Load pretrained SentenceTransformer: binary_sim_output/sentence-transformers/quora-distilbert-base\n",
      "2022-09-07 20:49:02 - Use pytorch device: cuda\n",
      "2022-09-07 20:49:02 - Softmax loss: #Vectors concatenated: 3\n",
      "2022-09-07 20:49:02 - EmbeddingSimilarityEvaluator: Evaluating the model on SPRAG-test dataset:\n",
      "2022-09-07 20:49:04 - Cosine-Similarity :\tPearson: 0.6453\tSpearman: 0.6247\n",
      "2022-09-07 20:49:04 - Manhattan-Distance:\tPearson: 0.5884\tSpearman: 0.6088\n",
      "2022-09-07 20:49:04 - Euclidean-Distance:\tPearson: 0.5996\tSpearman: 0.6152\n",
      "2022-09-07 20:49:04 - Dot-Product-Similarity:\tPearson: 0.6372\tSpearman: 0.6215\n",
      "2022-09-07 20:49:04 - Binary Accuracy Evaluation of the model on  dataset:\n",
      "2022-09-07 20:49:04 - Accuracy with Cosine-Similarity:           80.80\t(Threshold: 0.4407)\n",
      "2022-09-07 20:49:04 - F1 with Cosine-Similarity:                 85.79\t(Threshold: 0.3069)\n",
      "2022-09-07 20:49:04 - Precision with Cosine-Similarity:          80.03\n",
      "2022-09-07 20:49:04 - Recall with Cosine-Similarity:             92.45\n",
      "2022-09-07 20:49:04 - Average Precision with Cosine-Similarity:  91.69\n",
      "\n",
      "2022-09-07 20:49:04 - Accuracy with Manhattan-Distance:           80.80\t(Threshold: 361.7603)\n",
      "2022-09-07 20:49:04 - F1 with Manhattan-Distance:                 85.90\t(Threshold: 381.1732)\n",
      "2022-09-07 20:49:04 - Precision with Manhattan-Distance:          79.19\n",
      "2022-09-07 20:49:04 - Recall with Manhattan-Distance:             93.84\n",
      "2022-09-07 20:49:04 - Average Precision with Manhattan-Distance:  90.87\n",
      "\n",
      "2022-09-07 20:49:04 - Accuracy with Euclidean-Distance:           81.30\t(Threshold: 16.4362)\n",
      "2022-09-07 20:49:04 - F1 with Euclidean-Distance:                 86.10\t(Threshold: 17.8976)\n",
      "2022-09-07 20:49:04 - Precision with Euclidean-Distance:          78.84\n",
      "2022-09-07 20:49:04 - Recall with Euclidean-Distance:             94.83\n",
      "2022-09-07 20:49:04 - Average Precision with Euclidean-Distance:  91.03\n",
      "\n",
      "2022-09-07 20:49:04 - Accuracy with Dot-Product:           80.67\t(Threshold: 66.0614)\n",
      "2022-09-07 20:49:04 - F1 with Dot-Product:                 85.77\t(Threshold: 55.7554)\n",
      "2022-09-07 20:49:04 - Precision with Dot-Product:          78.83\n",
      "2022-09-07 20:49:04 - Recall with Dot-Product:             94.04\n",
      "2022-09-07 20:49:04 - Average Precision with Dot-Product:  91.50\n",
      "\n"
     ]
    },
    {
     "data": {
      "text/plain": [
       "0.9169131174056341"
      ]
     },
     "execution_count": 59,
     "metadata": {},
     "output_type": "execute_result"
    }
   ],
   "source": [
    "\n",
    "st_model = 'sentence-transformers/quora-distilbert-base'\n",
    "num_epochs = 10\n",
    "batch_size=16\n",
    "model_save_path = \"binary_sim_output/\"+st_model\n",
    "train_dataloader = DataLoader(train_examples, shuffle=True, batch_size=batch_size)\n",
    "  \n",
    "test_dataloader = DataLoader(test_examples, shuffle=True, batch_size=batch_size)\n",
    "model = train_and_evaluate(st_model, train_dataloader, test_dataloader, num_epochs, model_save_path)\n",
    "print(\"\\n\\n\")\n",
    "print(\" \"*20, \"*\"*10, st_model , \"*\"*10)\n",
    "\n",
    "# Load the stored model and evaluate its performance on mohler test dataset\n",
    "model = SentenceTransformer(model_save_path)\n",
    "train_loss = losses.SoftmaxLoss(model=model, sentence_embedding_dimension=model.get_sentence_embedding_dimension(), num_labels=2)\n",
    "test_evaluator = evaluation.EmbeddingSimilarityEvaluator.from_input_examples(test_examples, batch_size=16, name='SPRAG-test')\n",
    "test_evaluator(model, output_path=model_save_path)\n",
    "train_loss.cuda()\n",
    "\n",
    "x_test_dA = test_data['ReferenceAnswer'].values.tolist()\n",
    "x_test_sA = test_data['StudentAnswer'].values.tolist()\n",
    "y_test = test_labels \n",
    "\n",
    "evaluator = evaluation.BinaryClassificationEvaluator(x_test_dA, x_test_sA, y_test)\n",
    "evaluator(model, output_path=model_save_path)\n"
   ]
  },
  {
   "cell_type": "code",
   "execution_count": 60,
   "id": "2b4f91ba",
   "metadata": {},
   "outputs": [
    {
     "data": {
      "application/vnd.jupyter.widget-view+json": {
       "model_id": "a24ffbe378334c4c99da0a140c5046fd",
       "version_major": 2,
       "version_minor": 0
      },
      "text/plain": [
       "Batches:   0%|          | 0/1 [00:00<?, ?it/s]"
      ]
     },
     "metadata": {},
     "output_type": "display_data"
    },
    {
     "data": {
      "application/vnd.jupyter.widget-view+json": {
       "model_id": "e61719b3da284da0aa4216448cb9b568",
       "version_major": 2,
       "version_minor": 0
      },
      "text/plain": [
       "Batches:   0%|          | 0/1 [00:00<?, ?it/s]"
      ]
     },
     "metadata": {},
     "output_type": "display_data"
    },
    {
     "data": {
      "text/plain": [
       "(768,)"
      ]
     },
     "execution_count": 60,
     "metadata": {},
     "output_type": "execute_result"
    }
   ],
   "source": [
    "#Our sentences we like to encode\n",
    "s1 = model.encode(\"Python is an object oriented programming language\")\n",
    "s2 = model.encode(\"java is an oop language\")\n",
    "\n",
    "s1.shape"
   ]
  },
  {
   "cell_type": "markdown",
   "id": "0667637a",
   "metadata": {},
   "source": []
  },
  {
   "cell_type": "code",
   "execution_count": 61,
   "id": "0c3ebdfe",
   "metadata": {},
   "outputs": [
    {
     "data": {
      "text/plain": [
       "tensor([[0.1541]])"
      ]
     },
     "execution_count": 61,
     "metadata": {},
     "output_type": "execute_result"
    }
   ],
   "source": [
    "#Compute cosine similarity between all pairs\n",
    "from sentence_transformers import util\n",
    "cos_sim = util.cos_sim(s1, s2)\n",
    "cos_sim"
   ]
  },
  {
   "cell_type": "code",
   "execution_count": null,
   "id": "f3185216",
   "metadata": {},
   "outputs": [],
   "source": []
  },
  {
   "cell_type": "code",
   "execution_count": null,
   "id": "1edf2612",
   "metadata": {},
   "outputs": [],
   "source": []
  }
 ],
 "metadata": {
  "kernelspec": {
   "display_name": "Python 3 (ipykernel)",
   "language": "python",
   "name": "python3"
  },
  "language_info": {
   "codemirror_mode": {
    "name": "ipython",
    "version": 3
   },
   "file_extension": ".py",
   "mimetype": "text/x-python",
   "name": "python",
   "nbconvert_exporter": "python",
   "pygments_lexer": "ipython3",
   "version": "3.9.7"
  }
 },
 "nbformat": 4,
 "nbformat_minor": 5
}
