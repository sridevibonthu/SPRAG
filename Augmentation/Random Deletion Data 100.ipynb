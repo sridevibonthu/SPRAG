{
 "cells": [
  {
   "cell_type": "code",
   "execution_count": 90,
   "id": "d81ecea5",
   "metadata": {},
   "outputs": [
    {
     "name": "stdout",
     "output_type": "stream",
     "text": [
      "huggingface/tokenizers: The current process just got forked, after parallelism has already been used. Disabling parallelism to avoid deadlocks...\n",
      "To disable this warning, you can either:\n",
      "\t- Avoid using `tokenizers` before the fork if possible\n",
      "\t- Explicitly set the environment variable TOKENIZERS_PARALLELISM=(true | false)\n",
      "Defaulting to user installation because normal site-packages is not writeable\n",
      "Requirement already satisfied: sentence-transformers in /home/jupyter-vit_sridevi/.local/lib/python3.9/site-packages (2.2.2)\n",
      "Requirement already satisfied: huggingface-hub>=0.4.0 in /home/jupyter-vit_sridevi/.local/lib/python3.9/site-packages (from sentence-transformers) (0.8.1)\n",
      "Requirement already satisfied: torch>=1.6.0 in /home/jupyter-vit_sridevi/.local/lib/python3.9/site-packages (from sentence-transformers) (1.12.0)\n",
      "Requirement already satisfied: transformers<5.0.0,>=4.6.0 in /home/jupyter-vit_sridevi/.local/lib/python3.9/site-packages (from sentence-transformers) (4.20.1)\n",
      "Requirement already satisfied: scipy in /home/jupyter-vit_sridevi/.local/lib/python3.9/site-packages (from sentence-transformers) (1.8.1)\n",
      "Requirement already satisfied: nltk in /home/jupyter-vit_sridevi/.local/lib/python3.9/site-packages (from sentence-transformers) (3.7)\n",
      "Requirement already satisfied: tqdm in /opt/tljh/user/lib/python3.9/site-packages (from sentence-transformers) (4.62.3)\n",
      "Requirement already satisfied: numpy in /opt/tljh/user/lib/python3.9/site-packages (from sentence-transformers) (1.22.3)\n",
      "Requirement already satisfied: sentencepiece in /home/jupyter-vit_sridevi/.local/lib/python3.9/site-packages (from sentence-transformers) (0.1.96)\n",
      "Requirement already satisfied: scikit-learn in /home/jupyter-vit_sridevi/.local/lib/python3.9/site-packages (from sentence-transformers) (1.1.1)\n",
      "Requirement already satisfied: torchvision in /home/jupyter-vit_sridevi/.local/lib/python3.9/site-packages (from sentence-transformers) (0.13.0)\n",
      "Requirement already satisfied: pyyaml>=5.1 in /home/jupyter-vit_sridevi/.local/lib/python3.9/site-packages (from huggingface-hub>=0.4.0->sentence-transformers) (6.0)\n",
      "Requirement already satisfied: requests in /opt/tljh/user/lib/python3.9/site-packages (from huggingface-hub>=0.4.0->sentence-transformers) (2.26.0)\n",
      "Requirement already satisfied: typing-extensions>=3.7.4.3 in /home/jupyter-vit_sridevi/.local/lib/python3.9/site-packages (from huggingface-hub>=0.4.0->sentence-transformers) (4.3.0)\n",
      "Requirement already satisfied: filelock in /home/jupyter-vit_sridevi/.local/lib/python3.9/site-packages (from huggingface-hub>=0.4.0->sentence-transformers) (3.7.1)\n",
      "Requirement already satisfied: packaging>=20.9 in /opt/tljh/user/lib/python3.9/site-packages (from huggingface-hub>=0.4.0->sentence-transformers) (21.3)\n",
      "Requirement already satisfied: regex!=2019.12.17 in /home/jupyter-vit_sridevi/.local/lib/python3.9/site-packages (from transformers<5.0.0,>=4.6.0->sentence-transformers) (2022.7.9)\n",
      "Requirement already satisfied: tokenizers!=0.11.3,<0.13,>=0.11.1 in /home/jupyter-vit_sridevi/.local/lib/python3.9/site-packages (from transformers<5.0.0,>=4.6.0->sentence-transformers) (0.12.1)\n",
      "Requirement already satisfied: click in /home/jupyter-vit_sridevi/.local/lib/python3.9/site-packages (from nltk->sentence-transformers) (8.1.3)\n",
      "Requirement already satisfied: joblib in /home/jupyter-vit_sridevi/.local/lib/python3.9/site-packages (from nltk->sentence-transformers) (1.1.0)\n",
      "Requirement already satisfied: threadpoolctl>=2.0.0 in /home/jupyter-vit_sridevi/.local/lib/python3.9/site-packages (from scikit-learn->sentence-transformers) (3.1.0)\n",
      "Requirement already satisfied: pillow!=8.3.*,>=5.3.0 in /home/jupyter-vit_sridevi/.local/lib/python3.9/site-packages (from torchvision->sentence-transformers) (9.2.0)\n",
      "Requirement already satisfied: pyparsing!=3.0.5,>=2.0.2 in /opt/tljh/user/lib/python3.9/site-packages (from packaging>=20.9->huggingface-hub>=0.4.0->sentence-transformers) (3.0.9)\n",
      "Requirement already satisfied: charset-normalizer~=2.0.0 in /opt/tljh/user/lib/python3.9/site-packages (from requests->huggingface-hub>=0.4.0->sentence-transformers) (2.0.0)\n",
      "Requirement already satisfied: idna<4,>=2.5 in /opt/tljh/user/lib/python3.9/site-packages (from requests->huggingface-hub>=0.4.0->sentence-transformers) (3.1)\n",
      "Requirement already satisfied: certifi>=2017.4.17 in /opt/tljh/user/lib/python3.9/site-packages (from requests->huggingface-hub>=0.4.0->sentence-transformers) (2021.10.8)\n",
      "Requirement already satisfied: urllib3<1.27,>=1.21.1 in /opt/tljh/user/lib/python3.9/site-packages (from requests->huggingface-hub>=0.4.0->sentence-transformers) (1.26.7)\n",
      "huggingface/tokenizers: The current process just got forked, after parallelism has already been used. Disabling parallelism to avoid deadlocks...\n",
      "To disable this warning, you can either:\n",
      "\t- Avoid using `tokenizers` before the fork if possible\n",
      "\t- Explicitly set the environment variable TOKENIZERS_PARALLELISM=(true | false)\n",
      "Defaulting to user installation because normal site-packages is not writeable\n",
      "Requirement already satisfied: pandas in /home/jupyter-vit_sridevi/.local/lib/python3.9/site-packages (1.4.3)\n",
      "Requirement already satisfied: pytz>=2020.1 in /opt/tljh/user/lib/python3.9/site-packages (from pandas) (2022.1)\n",
      "Requirement already satisfied: numpy>=1.18.5 in /opt/tljh/user/lib/python3.9/site-packages (from pandas) (1.22.3)\n",
      "Requirement already satisfied: python-dateutil>=2.8.1 in /opt/tljh/user/lib/python3.9/site-packages (from pandas) (2.8.2)\n",
      "Requirement already satisfied: six>=1.5 in /opt/tljh/user/lib/python3.9/site-packages (from python-dateutil>=2.8.1->pandas) (1.16.0)\n"
     ]
    }
   ],
   "source": [
    "!pip install sentence-transformers\n",
    "!pip install pandas\n"
   ]
  },
  {
   "cell_type": "code",
   "execution_count": 91,
   "id": "c445cdaf",
   "metadata": {},
   "outputs": [],
   "source": [
    "\n",
    "\n",
    "from sklearn.metrics import accuracy_score, f1_score\n",
    "from sklearn.linear_model import LogisticRegression\n",
    "from sentence_transformers import SentenceTransformer, InputExample, losses, models, datasets, evaluation\n",
    "from torch.utils.data import DataLoader\n",
    "\n",
    "from sklearn.manifold import TSNE\n",
    "from matplotlib import pyplot as plt\n",
    "\n",
    "# import warnings filter\n",
    "from warnings import simplefilter\n",
    "# ignore all future warnings\n",
    "simplefilter(action='ignore', category=FutureWarning)\n",
    "\n",
    "import pandas as pd\n",
    "import numpy as np\n",
    "\n",
    "import torch\n",
    "import random\n",
    "import torch\n",
    "import random\n",
    "\n",
    "def set_seed(seed):\n",
    "  random.seed(seed)\n",
    "  np.random.seed(seed)\n",
    "  torch.manual_seed(seed)"
   ]
  },
  {
   "cell_type": "code",
   "execution_count": 92,
   "id": "14c99818",
   "metadata": {},
   "outputs": [
    {
     "data": {
      "text/html": [
       "<div>\n",
       "<style scoped>\n",
       "    .dataframe tbody tr th:only-of-type {\n",
       "        vertical-align: middle;\n",
       "    }\n",
       "\n",
       "    .dataframe tbody tr th {\n",
       "        vertical-align: top;\n",
       "    }\n",
       "\n",
       "    .dataframe thead th {\n",
       "        text-align: right;\n",
       "    }\n",
       "</style>\n",
       "<table border=\"1\" class=\"dataframe\">\n",
       "  <thead>\n",
       "    <tr style=\"text-align: right;\">\n",
       "      <th></th>\n",
       "      <th>Unnamed: 0</th>\n",
       "      <th>QuestionID</th>\n",
       "      <th>ReferenceAnswer</th>\n",
       "      <th>StudentAnswer</th>\n",
       "      <th>Score1</th>\n",
       "      <th>Score2</th>\n",
       "      <th>avg_score</th>\n",
       "      <th>max_score</th>\n",
       "    </tr>\n",
       "  </thead>\n",
       "  <tbody>\n",
       "    <tr>\n",
       "      <th>0</th>\n",
       "      <td>0.0</td>\n",
       "      <td>PythonQ001</td>\n",
       "      <td>List, Set and Dictionary are mutable data stru...</td>\n",
       "      <td>Tha object structures which can be changeable ...</td>\n",
       "      <td>1.0</td>\n",
       "      <td>0.0</td>\n",
       "      <td>0.5</td>\n",
       "      <td>1.0</td>\n",
       "    </tr>\n",
       "    <tr>\n",
       "      <th>1</th>\n",
       "      <td>1.0</td>\n",
       "      <td>PythonQ001</td>\n",
       "      <td>List, Set and Dictionary are mutable data stru...</td>\n",
       "      <td>Tuple</td>\n",
       "      <td>0.0</td>\n",
       "      <td>0.0</td>\n",
       "      <td>0.0</td>\n",
       "      <td>0.0</td>\n",
       "    </tr>\n",
       "  </tbody>\n",
       "</table>\n",
       "</div>"
      ],
      "text/plain": [
       "   Unnamed: 0  QuestionID                                    ReferenceAnswer  \\\n",
       "0         0.0  PythonQ001  List, Set and Dictionary are mutable data stru...   \n",
       "1         1.0  PythonQ001  List, Set and Dictionary are mutable data stru...   \n",
       "\n",
       "                                       StudentAnswer  Score1  Score2  \\\n",
       "0  Tha object structures which can be changeable ...     1.0     0.0   \n",
       "1                                              Tuple     0.0     0.0   \n",
       "\n",
       "   avg_score  max_score  \n",
       "0        0.5        1.0  \n",
       "1        0.0        0.0  "
      ]
     },
     "execution_count": 92,
     "metadata": {},
     "output_type": "execute_result"
    }
   ],
   "source": [
    "#Load the sprag dataset\n",
    "data = pd.read_csv(\"refstdcombined.csv\")\n",
    "data.head(2)"
   ]
  },
  {
   "cell_type": "code",
   "execution_count": 93,
   "id": "c830d9ed",
   "metadata": {},
   "outputs": [],
   "source": [
    "data['bin_score'] = data.apply(lambda row : 1 if row.avg_score>=3 else 0, axis=1)"
   ]
  },
  {
   "cell_type": "code",
   "execution_count": 94,
   "id": "fb65373f",
   "metadata": {},
   "outputs": [
    {
     "data": {
      "text/html": [
       "<div>\n",
       "<style scoped>\n",
       "    .dataframe tbody tr th:only-of-type {\n",
       "        vertical-align: middle;\n",
       "    }\n",
       "\n",
       "    .dataframe tbody tr th {\n",
       "        vertical-align: top;\n",
       "    }\n",
       "\n",
       "    .dataframe thead th {\n",
       "        text-align: right;\n",
       "    }\n",
       "</style>\n",
       "<table border=\"1\" class=\"dataframe\">\n",
       "  <thead>\n",
       "    <tr style=\"text-align: right;\">\n",
       "      <th></th>\n",
       "      <th>Unnamed: 0</th>\n",
       "      <th>QuestionID</th>\n",
       "      <th>ReferenceAnswer</th>\n",
       "      <th>StudentAnswer</th>\n",
       "      <th>Score1</th>\n",
       "      <th>Score2</th>\n",
       "      <th>avg_score</th>\n",
       "      <th>max_score</th>\n",
       "      <th>bin_score</th>\n",
       "    </tr>\n",
       "  </thead>\n",
       "  <tbody>\n",
       "    <tr>\n",
       "      <th>0</th>\n",
       "      <td>0.0</td>\n",
       "      <td>PythonQ001</td>\n",
       "      <td>List, Set and Dictionary are mutable data stru...</td>\n",
       "      <td>Tha object structures which can be changeable ...</td>\n",
       "      <td>1.0</td>\n",
       "      <td>0.0</td>\n",
       "      <td>0.5</td>\n",
       "      <td>1.0</td>\n",
       "      <td>0</td>\n",
       "    </tr>\n",
       "    <tr>\n",
       "      <th>1</th>\n",
       "      <td>1.0</td>\n",
       "      <td>PythonQ001</td>\n",
       "      <td>List, Set and Dictionary are mutable data stru...</td>\n",
       "      <td>Tuple</td>\n",
       "      <td>0.0</td>\n",
       "      <td>0.0</td>\n",
       "      <td>0.0</td>\n",
       "      <td>0.0</td>\n",
       "      <td>0</td>\n",
       "    </tr>\n",
       "  </tbody>\n",
       "</table>\n",
       "</div>"
      ],
      "text/plain": [
       "   Unnamed: 0  QuestionID                                    ReferenceAnswer  \\\n",
       "0         0.0  PythonQ001  List, Set and Dictionary are mutable data stru...   \n",
       "1         1.0  PythonQ001  List, Set and Dictionary are mutable data stru...   \n",
       "\n",
       "                                       StudentAnswer  Score1  Score2  \\\n",
       "0  Tha object structures which can be changeable ...     1.0     0.0   \n",
       "1                                              Tuple     0.0     0.0   \n",
       "\n",
       "   avg_score  max_score  bin_score  \n",
       "0        0.5        1.0          0  \n",
       "1        0.0        0.0          0  "
      ]
     },
     "execution_count": 94,
     "metadata": {},
     "output_type": "execute_result"
    }
   ],
   "source": [
    "data.head(2)"
   ]
  },
  {
   "cell_type": "code",
   "execution_count": 95,
   "id": "ac3fd9e5",
   "metadata": {},
   "outputs": [],
   "source": [
    "data = data.dropna()"
   ]
  },
  {
   "cell_type": "code",
   "execution_count": 96,
   "id": "c209e2dd",
   "metadata": {},
   "outputs": [
    {
     "data": {
      "image/png": "[encoded data removed]",
      "text/plain": [
       "<Figure size 432x288 with 1 Axes>"
      ]
     },
     "metadata": {
      "needs_background": "light"
     },
     "output_type": "display_data"
    }
   ],
   "source": [
    "data['bin_score'].value_counts(normalize=True).plot(kind='bar');"
   ]
  },
  {
   "cell_type": "code",
   "execution_count": 97,
   "id": "59468089",
   "metadata": {},
   "outputs": [],
   "source": [
    "#### Just some code to print debug information to stdout\n",
    "import logging\n",
    "from sentence_transformers import LoggingHandler\n",
    "logging.basicConfig(format='%(asctime)s - %(message)s',\n",
    "                    datefmt='%Y-%m-%d %H:%M:%S',\n",
    "                    level=logging.INFO,\n",
    "                    handlers=[LoggingHandler()])"
   ]
  },
  {
   "cell_type": "code",
   "execution_count": 98,
   "id": "088b0996",
   "metadata": {},
   "outputs": [],
   "source": [
    "from sklearn.model_selection import train_test_split\n",
    "\n",
    "# Storing labels in array\n",
    "labels = data['bin_score'].values\n",
    "\n",
    "# Dropping labels column from data\n",
    "data = data.drop(['bin_score'], axis=1)\n",
    "\n",
    "# Splitting data into train and test sets in a 70/30 ratio\n",
    "train_data, test_data, train_labels, test_labels = train_test_split(data, labels, stratify=labels, random_state=42, test_size=0.2)"
   ]
  },
  {
   "cell_type": "code",
   "execution_count": 99,
   "id": "6c00c606",
   "metadata": {},
   "outputs": [
    {
     "data": {
      "text/plain": [
       "(3208, numpy.ndarray, (3208,))"
      ]
     },
     "execution_count": 99,
     "metadata": {},
     "output_type": "execute_result"
    }
   ],
   "source": [
    "len(train_data)*1, type(train_labels), train_labels.shape\n"
   ]
  },
  {
   "cell_type": "code",
   "execution_count": 100,
   "id": "32056e86",
   "metadata": {},
   "outputs": [],
   "source": [
    "train_data = train_data.iloc[0:3208]\n",
    "train_labels = train_labels[0:3208]"
   ]
  },
  {
   "cell_type": "code",
   "execution_count": 101,
   "id": "94b443ed",
   "metadata": {},
   "outputs": [
    {
     "data": {
      "text/plain": [
       "(pandas.core.frame.DataFrame, numpy.ndarray, 3208, 3208)"
      ]
     },
     "execution_count": 101,
     "metadata": {},
     "output_type": "execute_result"
    }
   ],
   "source": [
    "type(train_data), type(train_labels), len(train_data), len(train_labels)"
   ]
  },
  {
   "cell_type": "code",
   "execution_count": 102,
   "id": "b7ec8650",
   "metadata": {},
   "outputs": [],
   "source": [
    "\n",
    "def random_deletion(sentence, p=0.2): \n",
    "  words = sentence.split()\n",
    "  if len(words) <= 3:\n",
    "    return ' '.join(words)\n",
    "  remaining = list(filter(lambda x: random.uniform(0,1) > p,words)) \n",
    "  if len(remaining) == 0: # if not left, sample a random word\n",
    "    return ' '.join([random.choice(words)])\n",
    "  else:\n",
    "    return ' '.join(remaining)\n"
   ]
  },
  {
   "cell_type": "code",
   "execution_count": 103,
   "id": "27ef661e",
   "metadata": {},
   "outputs": [
    {
     "data": {
      "text/plain": [
       "'Hi i am'"
      ]
     },
     "execution_count": 103,
     "metadata": {},
     "output_type": "execute_result"
    }
   ],
   "source": [
    "random_deletion(\"Hi i am \")"
   ]
  },
  {
   "cell_type": "code",
   "execution_count": 104,
   "id": "43744dab",
   "metadata": {},
   "outputs": [],
   "source": [
    "def sentence_pairs_generation(sentence1, sentence2, labels, pairs, datatype='train'):\n",
    "\t# initialize two empty lists to hold the (sentence, sentence) pairs and\n",
    "\t# labels to indicate if the grade of the pair\n",
    "\n",
    "  numClassesList = np.unique(labels)\n",
    "  #print(numClassesList)\n",
    "  idx = [np.where(labels == i)[0] for i in numClassesList]\n",
    "  #print(idx)\n",
    "  i=0\n",
    "\n",
    "  for idxA in range(len(sentence1)):      \n",
    "    dAns = sentence1[idxA]\n",
    "    sAns = sentence2[idxA]\n",
    "    label = int(labels[idxA])\n",
    "    \n",
    "\t\t  # prepare a pair and update the sentences and labels lists, respectively\n",
    "    pairs.append(InputExample(texts=[dAns, sAns], label=label))\n",
    "    \n",
    "    if datatype=='train' and random.random() >= 0.5:\n",
    "      sAns = random_deletion(sentence2[idxA])\n",
    "      #print(sAns)\n",
    "      pairs.append(InputExample(texts=[dAns, sAns], label=label))\n",
    "      i = i+1\n",
    "  \n",
    "  print(\"No.of augmented examples : \", i)\n",
    "\n",
    "     \n",
    "\t# return a 2-tuple of our image pairs and labels\n",
    "  return (pairs)"
   ]
  },
  {
   "cell_type": "code",
   "execution_count": 105,
   "id": "73812285",
   "metadata": {},
   "outputs": [],
   "source": [
    "set_seed(0)\n",
    "# Equal samples per class training\n",
    "#train_df_sample = pd.concat([train_df[train_df[1]==0].sample(num_training), train_df[train_df[1]==1].sample(num_training)])\n",
    "x_train_dA = train_data['ReferenceAnswer'].values.tolist()\n",
    "x_train_sA = train_data['StudentAnswer'].values.tolist()\n",
    "y_train = train_labels.tolist()\n",
    "y_train = [int(x) for x in y_train]"
   ]
  },
  {
   "cell_type": "code",
   "execution_count": 106,
   "id": "61fd6221",
   "metadata": {},
   "outputs": [
    {
     "name": "stdout",
     "output_type": "stream",
     "text": [
      "No.of augmented examples :  0\n"
     ]
    }
   ],
   "source": [
    "#use test dataset as dev dataset\n",
    "x_test_dA = test_data['ReferenceAnswer'].values.tolist()\n",
    "x_test_sA = test_data['StudentAnswer'].values.tolist()\n",
    "y_test = test_labels / 1.0\n",
    "y_test = test_labels.tolist()\n",
    "#y_test = [int(x) for x in y_test]\n",
    "\n",
    "test_examples = [] \n",
    "test_examples = sentence_pairs_generation(np.array(x_test_dA), np.array(x_test_sA), np.array(y_test), test_examples, datatype='test')"
   ]
  },
  {
   "cell_type": "code",
   "execution_count": 107,
   "id": "e1b687e2",
   "metadata": {},
   "outputs": [
    {
     "data": {
      "text/plain": [
       "802"
      ]
     },
     "execution_count": 107,
     "metadata": {},
     "output_type": "execute_result"
    }
   ],
   "source": [
    "len(test_examples)"
   ]
  },
  {
   "cell_type": "code",
   "execution_count": 108,
   "id": "6049c777",
   "metadata": {},
   "outputs": [
    {
     "name": "stdout",
     "output_type": "stream",
     "text": [
      "No.of augmented examples :  1675\n"
     ]
    }
   ],
   "source": [
    "train_examples = [] \n",
    "train_examples = sentence_pairs_generation(np.array(x_train_dA), np.array(x_train_sA), np.array(y_train), train_examples)"
   ]
  },
  {
   "cell_type": "code",
   "execution_count": 109,
   "id": "cb255189",
   "metadata": {},
   "outputs": [
    {
     "data": {
      "text/plain": [
       "4883"
      ]
     },
     "execution_count": 109,
     "metadata": {},
     "output_type": "execute_result"
    }
   ],
   "source": [
    "len(train_examples)"
   ]
  },
  {
   "cell_type": "code",
   "execution_count": 110,
   "id": "5bef49b2",
   "metadata": {},
   "outputs": [],
   "source": [
    "# Save path of the model\n",
    "from datetime import datetime\n",
    "model_save_path = 'output/training_sprag_v4_'+datetime.now().strftime(\"%Y-%m-%d_%H-%M-%S\")"
   ]
  },
  {
   "cell_type": "code",
   "execution_count": 111,
   "id": "cad4f826",
   "metadata": {},
   "outputs": [],
   "source": [
    "from sentence_transformers import evaluation\n",
    "import math\n",
    "\n",
    "\n",
    "def train_and_evaluate(st_model, train_dataloader, test_dataloader, num_epochs,model_save_path):\n",
    "  model = SentenceTransformer(st_model)\n",
    "  #for evaluation\n",
    "  train_loss = losses.SoftmaxLoss(model=model, sentence_embedding_dimension=model.get_sentence_embedding_dimension(), num_labels=2)\n",
    "  #test_evaluator = evaluation.EmbeddingSimilarityEvaluator.from_input_examples(test_examples, batch_size=16, name='SPRAG-test')\n",
    "  x_test_dA = test_data['ReferenceAnswer'].values.tolist()\n",
    "  x_test_sA = test_data['StudentAnswer'].values.tolist()\n",
    "  y_test = test_labels \n",
    "\n",
    "  evaluator = evaluation.BinaryClassificationEvaluator(x_test_dA, x_test_sA, y_test)\n",
    "\n",
    "  #configuring the training\n",
    "  warmup_steps = math.ceil(len(train_dataloader) * num_epochs * 0.1) #10% of train data for warm-up\n",
    "  print(warmup_steps)\n",
    "  #train_loss = losses.CosineSimilarityLoss(model)\n",
    "  model.fit(train_objectives=[(train_dataloader, train_loss)],\n",
    "          evaluator=evaluator,\n",
    "          epochs=num_epochs,\n",
    "          warmup_steps=warmup_steps,\n",
    "          show_progress_bar=True,  \n",
    "          #evaluation_steps=50, \n",
    "          output_path=model_save_path,)\n",
    "  print(\"Training done...\")"
   ]
  },
  {
   "cell_type": "code",
   "execution_count": 112,
   "id": "4d6a71e0",
   "metadata": {},
   "outputs": [
    {
     "name": "stdout",
     "output_type": "stream",
     "text": [
      "2022-09-07 19:53:50 - Load pretrained SentenceTransformer: stsb-distilbert-base\n",
      "2022-09-07 19:53:50 - Use pytorch device: cuda\n",
      "2022-09-07 19:53:50 - Softmax loss: #Vectors concatenated: 3\n",
      "306\n"
     ]
    },
    {
     "data": {
      "application/vnd.jupyter.widget-view+json": {
       "model_id": "8dbc1af2cee24e188d94bc4fc9674569",
       "version_major": 2,
       "version_minor": 0
      },
      "text/plain": [
       "Epoch:   0%|          | 0/10 [00:00<?, ?it/s]"
      ]
     },
     "metadata": {},
     "output_type": "display_data"
    },
    {
     "data": {
      "application/vnd.jupyter.widget-view+json": {
       "model_id": "f0786f10de144b71854578f623303fc4",
       "version_major": 2,
       "version_minor": 0
      },
      "text/plain": [
       "Iteration:   0%|          | 0/306 [00:00<?, ?it/s]"
      ]
     },
     "metadata": {},
     "output_type": "display_data"
    },
    {
     "name": "stdout",
     "output_type": "stream",
     "text": [
      "2022-09-07 19:54:15 - Binary Accuracy Evaluation of the model on  dataset after epoch 0:\n",
      "2022-09-07 19:54:16 - Accuracy with Cosine-Similarity:           79.68\t(Threshold: 0.4603)\n",
      "2022-09-07 19:54:16 - F1 with Cosine-Similarity:                 84.59\t(Threshold: 0.3280)\n",
      "2022-09-07 19:54:16 - Precision with Cosine-Similarity:          76.61\n",
      "2022-09-07 19:54:16 - Recall with Cosine-Similarity:             94.43\n",
      "2022-09-07 19:54:16 - Average Precision with Cosine-Similarity:  90.92\n",
      "\n",
      "2022-09-07 19:54:16 - Accuracy with Manhattan-Distance:           79.68\t(Threshold: 362.7212)\n",
      "2022-09-07 19:54:16 - F1 with Manhattan-Distance:                 84.44\t(Threshold: 366.0925)\n",
      "2022-09-07 19:54:16 - Precision with Manhattan-Distance:          80.76\n",
      "2022-09-07 19:54:16 - Recall with Manhattan-Distance:             88.47\n",
      "2022-09-07 19:54:16 - Average Precision with Manhattan-Distance:  91.00\n",
      "\n",
      "2022-09-07 19:54:16 - Accuracy with Euclidean-Distance:           80.05\t(Threshold: 16.5225)\n",
      "2022-09-07 19:54:16 - F1 with Euclidean-Distance:                 84.73\t(Threshold: 16.5225)\n",
      "2022-09-07 19:54:16 - Precision with Euclidean-Distance:          81.47\n",
      "2022-09-07 19:54:16 - Recall with Euclidean-Distance:             88.27\n",
      "2022-09-07 19:54:16 - Average Precision with Euclidean-Distance:  91.06\n",
      "\n",
      "2022-09-07 19:54:16 - Accuracy with Dot-Product:           78.93\t(Threshold: 116.5851)\n",
      "2022-09-07 19:54:16 - F1 with Dot-Product:                 84.40\t(Threshold: 81.0025)\n",
      "2022-09-07 19:54:16 - Precision with Dot-Product:          76.16\n",
      "2022-09-07 19:54:16 - Recall with Dot-Product:             94.63\n",
      "2022-09-07 19:54:16 - Average Precision with Dot-Product:  90.41\n",
      "\n",
      "2022-09-07 19:54:16 - Save model to binary_sim_output/stsb-distilbert-base\n"
     ]
    },
    {
     "data": {
      "application/vnd.jupyter.widget-view+json": {
       "model_id": "859978cc6c15431eb33106c8c5c06817",
       "version_major": 2,
       "version_minor": 0
      },
      "text/plain": [
       "Iteration:   0%|          | 0/306 [00:00<?, ?it/s]"
      ]
     },
     "metadata": {},
     "output_type": "display_data"
    },
    {
     "name": "stdout",
     "output_type": "stream",
     "text": [
      "2022-09-07 19:54:41 - Binary Accuracy Evaluation of the model on  dataset after epoch 1:\n",
      "2022-09-07 19:54:41 - Accuracy with Cosine-Similarity:           81.42\t(Threshold: 0.3004)\n",
      "2022-09-07 19:54:41 - F1 with Cosine-Similarity:                 86.32\t(Threshold: 0.3004)\n",
      "2022-09-07 19:54:41 - Precision with Cosine-Similarity:          80.20\n",
      "2022-09-07 19:54:41 - Recall with Cosine-Similarity:             93.44\n",
      "2022-09-07 19:54:41 - Average Precision with Cosine-Similarity:  91.60\n",
      "\n",
      "2022-09-07 19:54:41 - Accuracy with Manhattan-Distance:           81.17\t(Threshold: 415.7628)\n",
      "2022-09-07 19:54:41 - F1 with Manhattan-Distance:                 86.31\t(Threshold: 427.1168)\n",
      "2022-09-07 19:54:41 - Precision with Manhattan-Distance:          79.33\n",
      "2022-09-07 19:54:41 - Recall with Manhattan-Distance:             94.63\n",
      "2022-09-07 19:54:41 - Average Precision with Manhattan-Distance:  91.77\n",
      "\n",
      "2022-09-07 19:54:41 - Accuracy with Euclidean-Distance:           81.55\t(Threshold: 19.3214)\n",
      "2022-09-07 19:54:41 - F1 with Euclidean-Distance:                 86.57\t(Threshold: 19.4267)\n",
      "2022-09-07 19:54:41 - Precision with Euclidean-Distance:          79.63\n",
      "2022-09-07 19:54:41 - Recall with Euclidean-Distance:             94.83\n",
      "2022-09-07 19:54:41 - Average Precision with Euclidean-Distance:  91.79\n",
      "\n",
      "2022-09-07 19:54:41 - Accuracy with Dot-Product:           81.30\t(Threshold: 80.5831)\n",
      "2022-09-07 19:54:41 - F1 with Dot-Product:                 86.19\t(Threshold: 80.1997)\n",
      "2022-09-07 19:54:41 - Precision with Dot-Product:          80.27\n",
      "2022-09-07 19:54:41 - Recall with Dot-Product:             93.04\n",
      "2022-09-07 19:54:41 - Average Precision with Dot-Product:  91.05\n",
      "\n",
      "2022-09-07 19:54:41 - Save model to binary_sim_output/stsb-distilbert-base\n"
     ]
    },
    {
     "data": {
      "application/vnd.jupyter.widget-view+json": {
       "model_id": "df995d61ed98450e8ef24cb2ed60de60",
       "version_major": 2,
       "version_minor": 0
      },
      "text/plain": [
       "Iteration:   0%|          | 0/306 [00:00<?, ?it/s]"
      ]
     },
     "metadata": {},
     "output_type": "display_data"
    },
    {
     "name": "stdout",
     "output_type": "stream",
     "text": [
      "2022-09-07 19:55:06 - Binary Accuracy Evaluation of the model on  dataset after epoch 2:\n",
      "2022-09-07 19:55:07 - Accuracy with Cosine-Similarity:           82.17\t(Threshold: 0.4214)\n",
      "2022-09-07 19:55:07 - F1 with Cosine-Similarity:                 86.64\t(Threshold: 0.3241)\n",
      "2022-09-07 19:55:07 - Precision with Cosine-Similarity:          81.22\n",
      "2022-09-07 19:55:07 - Recall with Cosine-Similarity:             92.84\n",
      "2022-09-07 19:55:07 - Average Precision with Cosine-Similarity:  91.67\n",
      "\n",
      "2022-09-07 19:55:07 - Accuracy with Manhattan-Distance:           82.04\t(Threshold: 414.7073)\n",
      "2022-09-07 19:55:07 - F1 with Manhattan-Distance:                 86.64\t(Threshold: 416.4011)\n",
      "2022-09-07 19:55:07 - Precision with Manhattan-Distance:          81.22\n",
      "2022-09-07 19:55:07 - Recall with Manhattan-Distance:             92.84\n",
      "2022-09-07 19:55:07 - Average Precision with Manhattan-Distance:  91.72\n",
      "\n",
      "2022-09-07 19:55:07 - Accuracy with Euclidean-Distance:           82.29\t(Threshold: 17.5584)\n",
      "2022-09-07 19:55:07 - F1 with Euclidean-Distance:                 86.75\t(Threshold: 18.9103)\n",
      "2022-09-07 19:55:07 - Precision with Euclidean-Distance:          81.25\n",
      "2022-09-07 19:55:07 - Recall with Euclidean-Distance:             93.04\n",
      "2022-09-07 19:55:07 - Average Precision with Euclidean-Distance:  91.76\n",
      "\n",
      "2022-09-07 19:55:07 - Accuracy with Dot-Product:           82.04\t(Threshold: 110.4196)\n",
      "2022-09-07 19:55:07 - F1 with Dot-Product:                 86.57\t(Threshold: 91.7973)\n",
      "2022-09-07 19:55:07 - Precision with Dot-Product:          81.55\n",
      "2022-09-07 19:55:07 - Recall with Dot-Product:             92.25\n",
      "2022-09-07 19:55:07 - Average Precision with Dot-Product:  91.38\n",
      "\n"
     ]
    },
    {
     "data": {
      "application/vnd.jupyter.widget-view+json": {
       "model_id": "6a15db3a47bd4c448dc8262c7d6c2809",
       "version_major": 2,
       "version_minor": 0
      },
      "text/plain": [
       "Iteration:   0%|          | 0/306 [00:00<?, ?it/s]"
      ]
     },
     "metadata": {},
     "output_type": "display_data"
    },
    {
     "name": "stdout",
     "output_type": "stream",
     "text": [
      "2022-09-07 19:55:31 - Binary Accuracy Evaluation of the model on  dataset after epoch 3:\n",
      "2022-09-07 19:55:32 - Accuracy with Cosine-Similarity:           80.42\t(Threshold: 0.3404)\n",
      "2022-09-07 19:55:32 - F1 with Cosine-Similarity:                 85.03\t(Threshold: 0.2747)\n",
      "2022-09-07 19:55:32 - Precision with Cosine-Similarity:          81.68\n",
      "2022-09-07 19:55:32 - Recall with Cosine-Similarity:             88.67\n",
      "2022-09-07 19:55:32 - Average Precision with Cosine-Similarity:  91.27\n",
      "\n",
      "2022-09-07 19:55:32 - Accuracy with Manhattan-Distance:           80.30\t(Threshold: 427.0103)\n",
      "2022-09-07 19:55:32 - F1 with Manhattan-Distance:                 84.92\t(Threshold: 427.0103)\n",
      "2022-09-07 19:55:32 - Precision with Manhattan-Distance:          81.65\n",
      "2022-09-07 19:55:32 - Recall with Manhattan-Distance:             88.47\n",
      "2022-09-07 19:55:32 - Average Precision with Manhattan-Distance:  91.43\n",
      "\n",
      "2022-09-07 19:55:32 - Accuracy with Euclidean-Distance:           80.42\t(Threshold: 18.9568)\n",
      "2022-09-07 19:55:32 - F1 with Euclidean-Distance:                 85.00\t(Threshold: 19.5017)\n",
      "2022-09-07 19:55:32 - Precision with Euclidean-Distance:          81.80\n",
      "2022-09-07 19:55:32 - Recall with Euclidean-Distance:             88.47\n",
      "2022-09-07 19:55:32 - Average Precision with Euclidean-Distance:  91.46\n",
      "\n",
      "2022-09-07 19:55:32 - Accuracy with Dot-Product:           80.42\t(Threshold: 86.1419)\n",
      "2022-09-07 19:55:32 - F1 with Dot-Product:                 84.73\t(Threshold: 73.4419)\n",
      "2022-09-07 19:55:32 - Precision with Dot-Product:          81.47\n",
      "2022-09-07 19:55:32 - Recall with Dot-Product:             88.27\n",
      "2022-09-07 19:55:32 - Average Precision with Dot-Product:  90.51\n",
      "\n"
     ]
    },
    {
     "data": {
      "application/vnd.jupyter.widget-view+json": {
       "model_id": "62514d6fe691476dbecc2a6f963dae0a",
       "version_major": 2,
       "version_minor": 0
      },
      "text/plain": [
       "Iteration:   0%|          | 0/306 [00:00<?, ?it/s]"
      ]
     },
     "metadata": {},
     "output_type": "display_data"
    },
    {
     "name": "stdout",
     "output_type": "stream",
     "text": [
      "2022-09-07 19:55:56 - Binary Accuracy Evaluation of the model on  dataset after epoch 4:\n",
      "2022-09-07 19:55:57 - Accuracy with Cosine-Similarity:           80.92\t(Threshold: 0.2812)\n",
      "2022-09-07 19:55:57 - F1 with Cosine-Similarity:                 85.42\t(Threshold: 0.2013)\n",
      "2022-09-07 19:55:57 - Precision with Cosine-Similarity:          81.56\n",
      "2022-09-07 19:55:57 - Recall with Cosine-Similarity:             89.66\n",
      "2022-09-07 19:55:57 - Average Precision with Cosine-Similarity:  91.11\n",
      "\n",
      "2022-09-07 19:55:57 - Accuracy with Manhattan-Distance:           80.80\t(Threshold: 416.8217)\n",
      "2022-09-07 19:55:57 - F1 with Manhattan-Distance:                 85.26\t(Threshold: 467.3687)\n",
      "2022-09-07 19:55:57 - Precision with Manhattan-Distance:          80.78\n",
      "2022-09-07 19:55:57 - Recall with Manhattan-Distance:             90.26\n",
      "2022-09-07 19:55:57 - Average Precision with Manhattan-Distance:  91.21\n",
      "\n",
      "2022-09-07 19:55:57 - Accuracy with Euclidean-Distance:           81.05\t(Threshold: 18.8353)\n",
      "2022-09-07 19:55:57 - F1 with Euclidean-Distance:                 85.61\t(Threshold: 20.9337)\n",
      "2022-09-07 19:55:57 - Precision with Euclidean-Distance:          81.74\n",
      "2022-09-07 19:55:57 - Recall with Euclidean-Distance:             89.86\n",
      "2022-09-07 19:55:57 - Average Precision with Euclidean-Distance:  91.26\n",
      "\n",
      "2022-09-07 19:55:57 - Accuracy with Dot-Product:           80.67\t(Threshold: 85.4679)\n",
      "2022-09-07 19:55:57 - F1 with Dot-Product:                 85.26\t(Threshold: 52.5075)\n",
      "2022-09-07 19:55:57 - Precision with Dot-Product:          81.26\n",
      "2022-09-07 19:55:57 - Recall with Dot-Product:             89.66\n",
      "2022-09-07 19:55:57 - Average Precision with Dot-Product:  90.53\n",
      "\n"
     ]
    },
    {
     "data": {
      "application/vnd.jupyter.widget-view+json": {
       "model_id": "aec02aebd2b64b3e819ada8d699a46c5",
       "version_major": 2,
       "version_minor": 0
      },
      "text/plain": [
       "Iteration:   0%|          | 0/306 [00:00<?, ?it/s]"
      ]
     },
     "metadata": {},
     "output_type": "display_data"
    },
    {
     "name": "stdout",
     "output_type": "stream",
     "text": [
      "2022-09-07 19:56:21 - Binary Accuracy Evaluation of the model on  dataset after epoch 5:\n",
      "2022-09-07 19:56:22 - Accuracy with Cosine-Similarity:           81.30\t(Threshold: 0.2873)\n",
      "2022-09-07 19:56:22 - F1 with Cosine-Similarity:                 85.74\t(Threshold: -0.0372)\n",
      "2022-09-07 19:56:22 - Precision with Cosine-Similarity:          78.93\n",
      "2022-09-07 19:56:22 - Recall with Cosine-Similarity:             93.84\n",
      "2022-09-07 19:56:22 - Average Precision with Cosine-Similarity:  91.18\n",
      "\n",
      "2022-09-07 19:56:22 - Accuracy with Manhattan-Distance:           81.30\t(Threshold: 400.8601)\n",
      "2022-09-07 19:56:22 - F1 with Manhattan-Distance:                 85.82\t(Threshold: 521.3687)\n",
      "2022-09-07 19:56:22 - Precision with Manhattan-Distance:          79.06\n",
      "2022-09-07 19:56:22 - Recall with Manhattan-Distance:             93.84\n",
      "2022-09-07 19:56:22 - Average Precision with Manhattan-Distance:  91.23\n",
      "\n",
      "2022-09-07 19:56:22 - Accuracy with Euclidean-Distance:           81.30\t(Threshold: 18.1695)\n",
      "2022-09-07 19:56:22 - F1 with Euclidean-Distance:                 85.95\t(Threshold: 23.4769)\n",
      "2022-09-07 19:56:22 - Precision with Euclidean-Distance:          79.43\n",
      "2022-09-07 19:56:22 - Recall with Euclidean-Distance:             93.64\n",
      "2022-09-07 19:56:22 - Average Precision with Euclidean-Distance:  91.26\n",
      "\n",
      "2022-09-07 19:56:22 - Accuracy with Dot-Product:           81.30\t(Threshold: 81.2187)\n",
      "2022-09-07 19:56:22 - F1 with Dot-Product:                 85.77\t(Threshold: 26.5531)\n",
      "2022-09-07 19:56:22 - Precision with Dot-Product:          80.59\n",
      "2022-09-07 19:56:22 - Recall with Dot-Product:             91.65\n",
      "2022-09-07 19:56:22 - Average Precision with Dot-Product:  90.68\n",
      "\n"
     ]
    },
    {
     "data": {
      "application/vnd.jupyter.widget-view+json": {
       "model_id": "27b1cffbf26d46dba81efd61c63dbe76",
       "version_major": 2,
       "version_minor": 0
      },
      "text/plain": [
       "Iteration:   0%|          | 0/306 [00:00<?, ?it/s]"
      ]
     },
     "metadata": {},
     "output_type": "display_data"
    },
    {
     "name": "stdout",
     "output_type": "stream",
     "text": [
      "2022-09-07 19:56:46 - Binary Accuracy Evaluation of the model on  dataset after epoch 6:\n",
      "2022-09-07 19:56:47 - Accuracy with Cosine-Similarity:           81.42\t(Threshold: 0.2654)\n",
      "2022-09-07 19:56:47 - F1 with Cosine-Similarity:                 85.74\t(Threshold: 0.2654)\n",
      "2022-09-07 19:56:47 - Precision with Cosine-Similarity:          82.66\n",
      "2022-09-07 19:56:47 - Recall with Cosine-Similarity:             89.07\n",
      "2022-09-07 19:56:47 - Average Precision with Cosine-Similarity:  91.32\n",
      "\n",
      "2022-09-07 19:56:47 - Accuracy with Manhattan-Distance:           81.05\t(Threshold: 437.0734)\n",
      "2022-09-07 19:56:47 - F1 with Manhattan-Distance:                 85.44\t(Threshold: 437.0734)\n",
      "2022-09-07 19:56:47 - Precision with Manhattan-Distance:          82.44\n",
      "2022-09-07 19:56:47 - Recall with Manhattan-Distance:             88.67\n",
      "2022-09-07 19:56:47 - Average Precision with Manhattan-Distance:  91.39\n",
      "\n",
      "2022-09-07 19:56:47 - Accuracy with Euclidean-Distance:           81.05\t(Threshold: 20.0843)\n",
      "2022-09-07 19:56:47 - F1 with Euclidean-Distance:                 85.50\t(Threshold: 20.6037)\n",
      "2022-09-07 19:56:47 - Precision with Euclidean-Distance:          81.70\n",
      "2022-09-07 19:56:47 - Recall with Euclidean-Distance:             89.66\n",
      "2022-09-07 19:56:47 - Average Precision with Euclidean-Distance:  91.41\n",
      "\n",
      "2022-09-07 19:56:47 - Accuracy with Dot-Product:           81.30\t(Threshold: 73.3971)\n",
      "2022-09-07 19:56:47 - F1 with Dot-Product:                 85.71\t(Threshold: 64.4199)\n",
      "2022-09-07 19:56:47 - Precision with Dot-Product:          82.27\n",
      "2022-09-07 19:56:47 - Recall with Dot-Product:             89.46\n",
      "2022-09-07 19:56:47 - Average Precision with Dot-Product:  90.88\n",
      "\n"
     ]
    },
    {
     "data": {
      "application/vnd.jupyter.widget-view+json": {
       "model_id": "67b18ba429ee4dce9c42380cf2069ef5",
       "version_major": 2,
       "version_minor": 0
      },
      "text/plain": [
       "Iteration:   0%|          | 0/306 [00:00<?, ?it/s]"
      ]
     },
     "metadata": {},
     "output_type": "display_data"
    },
    {
     "name": "stdout",
     "output_type": "stream",
     "text": [
      "2022-09-07 19:57:11 - Binary Accuracy Evaluation of the model on  dataset after epoch 7:\n",
      "2022-09-07 19:57:12 - Accuracy with Cosine-Similarity:           80.80\t(Threshold: 0.3420)\n",
      "2022-09-07 19:57:12 - F1 with Cosine-Similarity:                 85.18\t(Threshold: 0.0359)\n",
      "2022-09-07 19:57:12 - Precision with Cosine-Similarity:          80.18\n",
      "2022-09-07 19:57:12 - Recall with Cosine-Similarity:             90.85\n",
      "2022-09-07 19:57:12 - Average Precision with Cosine-Similarity:  90.96\n",
      "\n",
      "2022-09-07 19:57:12 - Accuracy with Manhattan-Distance:           80.92\t(Threshold: 425.9594)\n",
      "2022-09-07 19:57:12 - F1 with Manhattan-Distance:                 85.25\t(Threshold: 425.9594)\n",
      "2022-09-07 19:57:12 - Precision with Manhattan-Distance:          82.77\n",
      "2022-09-07 19:57:12 - Recall with Manhattan-Distance:             87.87\n",
      "2022-09-07 19:57:12 - Average Precision with Manhattan-Distance:  91.01\n",
      "\n",
      "2022-09-07 19:57:12 - Accuracy with Euclidean-Distance:           80.92\t(Threshold: 19.5466)\n",
      "2022-09-07 19:57:12 - F1 with Euclidean-Distance:                 85.30\t(Threshold: 19.5466)\n",
      "2022-09-07 19:57:12 - Precision with Euclidean-Distance:          82.53\n",
      "2022-09-07 19:57:12 - Recall with Euclidean-Distance:             88.27\n",
      "2022-09-07 19:57:12 - Average Precision with Euclidean-Distance:  91.04\n",
      "\n",
      "2022-09-07 19:57:12 - Accuracy with Dot-Product:           80.80\t(Threshold: 89.9463)\n",
      "2022-09-07 19:57:12 - F1 with Dot-Product:                 85.18\t(Threshold: 9.9907)\n",
      "2022-09-07 19:57:12 - Precision with Dot-Product:          80.18\n",
      "2022-09-07 19:57:12 - Recall with Dot-Product:             90.85\n",
      "2022-09-07 19:57:12 - Average Precision with Dot-Product:  90.48\n",
      "\n"
     ]
    },
    {
     "data": {
      "application/vnd.jupyter.widget-view+json": {
       "model_id": "31943123114d4def877abb1507df93bd",
       "version_major": 2,
       "version_minor": 0
      },
      "text/plain": [
       "Iteration:   0%|          | 0/306 [00:00<?, ?it/s]"
      ]
     },
     "metadata": {},
     "output_type": "display_data"
    },
    {
     "name": "stdout",
     "output_type": "stream",
     "text": [
      "2022-09-07 19:57:36 - Binary Accuracy Evaluation of the model on  dataset after epoch 8:\n",
      "2022-09-07 19:57:36 - Accuracy with Cosine-Similarity:           80.67\t(Threshold: 0.4158)\n",
      "2022-09-07 19:57:36 - F1 with Cosine-Similarity:                 85.03\t(Threshold: 0.3123)\n",
      "2022-09-07 19:57:36 - Precision with Cosine-Similarity:          81.68\n",
      "2022-09-07 19:57:36 - Recall with Cosine-Similarity:             88.67\n",
      "2022-09-07 19:57:36 - Average Precision with Cosine-Similarity:  91.12\n",
      "\n",
      "2022-09-07 19:57:36 - Accuracy with Manhattan-Distance:           80.67\t(Threshold: 391.1016)\n",
      "2022-09-07 19:57:36 - F1 with Manhattan-Distance:                 85.05\t(Threshold: 405.9653)\n",
      "2022-09-07 19:57:36 - Precision with Manhattan-Distance:          82.58\n",
      "2022-09-07 19:57:36 - Recall with Manhattan-Distance:             87.67\n",
      "2022-09-07 19:57:36 - Average Precision with Manhattan-Distance:  91.15\n",
      "\n",
      "2022-09-07 19:57:36 - Accuracy with Euclidean-Distance:           80.80\t(Threshold: 18.0945)\n",
      "2022-09-07 19:57:36 - F1 with Euclidean-Distance:                 85.16\t(Threshold: 18.7129)\n",
      "2022-09-07 19:57:36 - Precision with Euclidean-Distance:          82.62\n",
      "2022-09-07 19:57:36 - Recall with Euclidean-Distance:             87.87\n",
      "2022-09-07 19:57:36 - Average Precision with Euclidean-Distance:  91.19\n",
      "\n",
      "2022-09-07 19:57:36 - Accuracy with Dot-Product:           80.55\t(Threshold: 119.2461)\n",
      "2022-09-07 19:57:36 - F1 with Dot-Product:                 85.02\t(Threshold: -39.2027)\n",
      "2022-09-07 19:57:36 - Precision with Dot-Product:          77.45\n",
      "2022-09-07 19:57:36 - Recall with Dot-Product:             94.23\n",
      "2022-09-07 19:57:36 - Average Precision with Dot-Product:  90.79\n",
      "\n"
     ]
    },
    {
     "data": {
      "application/vnd.jupyter.widget-view+json": {
       "model_id": "9e06fa4eaa864edfbbf9fc4ee4f7e7be",
       "version_major": 2,
       "version_minor": 0
      },
      "text/plain": [
       "Iteration:   0%|          | 0/306 [00:00<?, ?it/s]"
      ]
     },
     "metadata": {},
     "output_type": "display_data"
    },
    {
     "name": "stdout",
     "output_type": "stream",
     "text": [
      "2022-09-07 19:58:01 - Binary Accuracy Evaluation of the model on  dataset after epoch 9:\n",
      "2022-09-07 19:58:01 - Accuracy with Cosine-Similarity:           80.80\t(Threshold: 0.2696)\n",
      "2022-09-07 19:58:01 - F1 with Cosine-Similarity:                 85.22\t(Threshold: 0.2696)\n",
      "2022-09-07 19:58:01 - Precision with Cosine-Similarity:          82.37\n",
      "2022-09-07 19:58:01 - Recall with Cosine-Similarity:             88.27\n",
      "2022-09-07 19:58:01 - Average Precision with Cosine-Similarity:  91.12\n",
      "\n",
      "2022-09-07 19:58:01 - Accuracy with Manhattan-Distance:           80.55\t(Threshold: 423.8373)\n",
      "2022-09-07 19:58:01 - F1 with Manhattan-Distance:                 85.11\t(Threshold: 446.9401)\n",
      "2022-09-07 19:58:01 - Precision with Manhattan-Distance:          81.83\n",
      "2022-09-07 19:58:01 - Recall with Manhattan-Distance:             88.67\n",
      "2022-09-07 19:58:01 - Average Precision with Manhattan-Distance:  91.18\n",
      "\n",
      "2022-09-07 19:58:01 - Accuracy with Euclidean-Distance:           80.67\t(Threshold: 18.9863)\n",
      "2022-09-07 19:58:01 - F1 with Euclidean-Distance:                 85.20\t(Threshold: 20.3339)\n",
      "2022-09-07 19:58:01 - Precision with Euclidean-Distance:          81.99\n",
      "2022-09-07 19:58:01 - Recall with Euclidean-Distance:             88.67\n",
      "2022-09-07 19:58:01 - Average Precision with Euclidean-Distance:  91.21\n",
      "\n",
      "2022-09-07 19:58:01 - Accuracy with Dot-Product:           80.80\t(Threshold: 73.1097)\n",
      "2022-09-07 19:58:01 - F1 with Dot-Product:                 85.22\t(Threshold: 73.1097)\n",
      "2022-09-07 19:58:01 - Precision with Dot-Product:          82.37\n",
      "2022-09-07 19:58:01 - Recall with Dot-Product:             88.27\n",
      "2022-09-07 19:58:01 - Average Precision with Dot-Product:  90.75\n",
      "\n",
      "Training done...\n",
      "\n",
      "\n",
      "\n",
      "                     ********** stsb-distilbert-base **********\n",
      "2022-09-07 19:58:01 - Load pretrained SentenceTransformer: binary_sim_output/stsb-distilbert-base\n",
      "2022-09-07 19:58:02 - Use pytorch device: cuda\n",
      "2022-09-07 19:58:02 - Softmax loss: #Vectors concatenated: 3\n",
      "2022-09-07 19:58:02 - EmbeddingSimilarityEvaluator: Evaluating the model on SPRAG-test dataset:\n",
      "2022-09-07 19:58:03 - Cosine-Similarity :\tPearson: 0.6420\tSpearman: 0.6247\n",
      "2022-09-07 19:58:03 - Manhattan-Distance:\tPearson: 0.6169\tSpearman: 0.6277\n",
      "2022-09-07 19:58:03 - Euclidean-Distance:\tPearson: 0.6193\tSpearman: 0.6284\n",
      "2022-09-07 19:58:03 - Dot-Product-Similarity:\tPearson: 0.6342\tSpearman: 0.6164\n",
      "2022-09-07 19:58:03 - Binary Accuracy Evaluation of the model on  dataset:\n",
      "2022-09-07 19:58:04 - Accuracy with Cosine-Similarity:           81.42\t(Threshold: 0.3004)\n",
      "2022-09-07 19:58:04 - F1 with Cosine-Similarity:                 86.32\t(Threshold: 0.3004)\n",
      "2022-09-07 19:58:04 - Precision with Cosine-Similarity:          80.20\n",
      "2022-09-07 19:58:04 - Recall with Cosine-Similarity:             93.44\n",
      "2022-09-07 19:58:04 - Average Precision with Cosine-Similarity:  91.60\n",
      "\n",
      "2022-09-07 19:58:04 - Accuracy with Manhattan-Distance:           81.17\t(Threshold: 415.7628)\n",
      "2022-09-07 19:58:04 - F1 with Manhattan-Distance:                 86.31\t(Threshold: 427.1168)\n",
      "2022-09-07 19:58:04 - Precision with Manhattan-Distance:          79.33\n",
      "2022-09-07 19:58:04 - Recall with Manhattan-Distance:             94.63\n",
      "2022-09-07 19:58:04 - Average Precision with Manhattan-Distance:  91.77\n",
      "\n",
      "2022-09-07 19:58:04 - Accuracy with Euclidean-Distance:           81.55\t(Threshold: 19.3214)\n",
      "2022-09-07 19:58:04 - F1 with Euclidean-Distance:                 86.57\t(Threshold: 19.4267)\n",
      "2022-09-07 19:58:04 - Precision with Euclidean-Distance:          79.63\n",
      "2022-09-07 19:58:04 - Recall with Euclidean-Distance:             94.83\n",
      "2022-09-07 19:58:04 - Average Precision with Euclidean-Distance:  91.79\n",
      "\n",
      "2022-09-07 19:58:04 - Accuracy with Dot-Product:           81.30\t(Threshold: 80.5831)\n",
      "2022-09-07 19:58:04 - F1 with Dot-Product:                 86.19\t(Threshold: 80.1997)\n",
      "2022-09-07 19:58:04 - Precision with Dot-Product:          80.27\n",
      "2022-09-07 19:58:04 - Recall with Dot-Product:             93.04\n",
      "2022-09-07 19:58:04 - Average Precision with Dot-Product:  91.05\n",
      "\n"
     ]
    },
    {
     "data": {
      "text/plain": [
       "0.9178847760800382"
      ]
     },
     "execution_count": 112,
     "metadata": {},
     "output_type": "execute_result"
    }
   ],
   "source": [
    "st_model = 'stsb-distilbert-base'\n",
    "num_epochs = 10\n",
    "batch_size=16\n",
    "model_save_path = \"binary_sim_output/\"+st_model\n",
    "train_dataloader = DataLoader(train_examples, shuffle=True, batch_size=batch_size)\n",
    "  \n",
    "test_dataloader = DataLoader(test_examples, shuffle=True, batch_size=batch_size)\n",
    "model = train_and_evaluate(st_model, train_dataloader, test_dataloader, num_epochs, model_save_path)\n",
    "print(\"\\n\\n\")\n",
    "print(\" \"*20, \"*\"*10, st_model , \"*\"*10)\n",
    "\n",
    "# Load the stored model and evaluate its performance on mohler test dataset\n",
    "model = SentenceTransformer(model_save_path)\n",
    "train_loss = losses.SoftmaxLoss(model=model, sentence_embedding_dimension=model.get_sentence_embedding_dimension(), num_labels=2)\n",
    "test_evaluator = evaluation.EmbeddingSimilarityEvaluator.from_input_examples(test_examples, batch_size=16, name='SPRAG-test')\n",
    "test_evaluator(model, output_path=model_save_path)\n",
    "train_loss.cuda()\n",
    "\n",
    "x_test_dA = test_data['ReferenceAnswer'].values.tolist()\n",
    "x_test_sA = test_data['StudentAnswer'].values.tolist()\n",
    "y_test = test_labels \n",
    "\n",
    "evaluator = evaluation.BinaryClassificationEvaluator(x_test_dA, x_test_sA, y_test)\n",
    "evaluator(model, output_path=model_save_path)\n"
   ]
  },
  {
   "cell_type": "code",
   "execution_count": 113,
   "id": "28ca7d4f",
   "metadata": {},
   "outputs": [
    {
     "name": "stdout",
     "output_type": "stream",
     "text": [
      "2022-09-07 19:58:04 - Load pretrained SentenceTransformer: sentence-transformers/paraphrase-albert-small-v2\n",
      "2022-09-07 19:58:04 - Use pytorch device: cuda\n",
      "2022-09-07 19:58:04 - Softmax loss: #Vectors concatenated: 3\n",
      "306\n"
     ]
    },
    {
     "data": {
      "application/vnd.jupyter.widget-view+json": {
       "model_id": "cfb93ec24cbc431eaf71aac6eb4a665d",
       "version_major": 2,
       "version_minor": 0
      },
      "text/plain": [
       "Epoch:   0%|          | 0/10 [00:00<?, ?it/s]"
      ]
     },
     "metadata": {},
     "output_type": "display_data"
    },
    {
     "data": {
      "application/vnd.jupyter.widget-view+json": {
       "model_id": "c2987d47a84d4799bb12be7d8011d004",
       "version_major": 2,
       "version_minor": 0
      },
      "text/plain": [
       "Iteration:   0%|          | 0/306 [00:00<?, ?it/s]"
      ]
     },
     "metadata": {},
     "output_type": "display_data"
    },
    {
     "name": "stdout",
     "output_type": "stream",
     "text": [
      "2022-09-07 19:58:26 - Binary Accuracy Evaluation of the model on  dataset after epoch 0:\n",
      "2022-09-07 19:58:27 - Accuracy with Cosine-Similarity:           78.80\t(Threshold: 0.4441)\n",
      "2022-09-07 19:58:27 - F1 with Cosine-Similarity:                 84.05\t(Threshold: 0.4441)\n",
      "2022-09-07 19:58:27 - Precision with Cosine-Similarity:          79.57\n",
      "2022-09-07 19:58:27 - Recall with Cosine-Similarity:             89.07\n",
      "2022-09-07 19:58:27 - Average Precision with Cosine-Similarity:  88.85\n",
      "\n",
      "2022-09-07 19:58:27 - Accuracy with Manhattan-Distance:           78.30\t(Threshold: 528.9998)\n",
      "2022-09-07 19:58:27 - F1 with Manhattan-Distance:                 84.31\t(Threshold: 538.6050)\n",
      "2022-09-07 19:58:27 - Precision with Manhattan-Distance:          76.41\n",
      "2022-09-07 19:58:27 - Recall with Manhattan-Distance:             94.04\n",
      "2022-09-07 19:58:27 - Average Precision with Manhattan-Distance:  88.48\n",
      "\n",
      "2022-09-07 19:58:27 - Accuracy with Euclidean-Distance:           78.43\t(Threshold: 23.6353)\n",
      "2022-09-07 19:58:27 - F1 with Euclidean-Distance:                 84.01\t(Threshold: 24.2452)\n",
      "2022-09-07 19:58:27 - Precision with Euclidean-Distance:          76.99\n",
      "2022-09-07 19:58:27 - Recall with Euclidean-Distance:             92.45\n",
      "2022-09-07 19:58:27 - Average Precision with Euclidean-Distance:  88.54\n",
      "\n",
      "2022-09-07 19:58:27 - Accuracy with Dot-Product:           75.81\t(Threshold: 246.4974)\n",
      "2022-09-07 19:58:27 - F1 with Dot-Product:                 82.58\t(Threshold: 165.1544)\n",
      "2022-09-07 19:58:27 - Precision with Dot-Product:          72.66\n",
      "2022-09-07 19:58:27 - Recall with Dot-Product:             95.63\n",
      "2022-09-07 19:58:27 - Average Precision with Dot-Product:  86.57\n",
      "\n",
      "2022-09-07 19:58:27 - Save model to binary_sim_output/sentence-transformers/paraphrase-albert-small-v2\n"
     ]
    },
    {
     "data": {
      "application/vnd.jupyter.widget-view+json": {
       "model_id": "cd791a576e7f4dccab54c05060116954",
       "version_major": 2,
       "version_minor": 0
      },
      "text/plain": [
       "Iteration:   0%|          | 0/306 [00:00<?, ?it/s]"
      ]
     },
     "metadata": {},
     "output_type": "display_data"
    },
    {
     "name": "stdout",
     "output_type": "stream",
     "text": [
      "2022-09-07 19:58:49 - Binary Accuracy Evaluation of the model on  dataset after epoch 1:\n",
      "2022-09-07 19:58:50 - Accuracy with Cosine-Similarity:           78.68\t(Threshold: 0.4025)\n",
      "2022-09-07 19:58:50 - F1 with Cosine-Similarity:                 83.97\t(Threshold: 0.4025)\n",
      "2022-09-07 19:58:50 - Precision with Cosine-Similarity:          79.43\n",
      "2022-09-07 19:58:50 - Recall with Cosine-Similarity:             89.07\n",
      "2022-09-07 19:58:50 - Average Precision with Cosine-Similarity:  89.23\n",
      "\n",
      "2022-09-07 19:58:50 - Accuracy with Manhattan-Distance:           79.05\t(Threshold: 613.4426)\n",
      "2022-09-07 19:58:50 - F1 with Manhattan-Distance:                 84.21\t(Threshold: 614.9802)\n",
      "2022-09-07 19:58:50 - Precision with Manhattan-Distance:          79.86\n",
      "2022-09-07 19:58:50 - Recall with Manhattan-Distance:             89.07\n",
      "2022-09-07 19:58:50 - Average Precision with Manhattan-Distance:  89.11\n",
      "\n",
      "2022-09-07 19:58:50 - Accuracy with Euclidean-Distance:           78.80\t(Threshold: 27.9471)\n",
      "2022-09-07 19:58:50 - F1 with Euclidean-Distance:                 84.04\t(Threshold: 28.3213)\n",
      "2022-09-07 19:58:50 - Precision with Euclidean-Distance:          78.78\n",
      "2022-09-07 19:58:50 - Recall with Euclidean-Distance:             90.06\n",
      "2022-09-07 19:58:50 - Average Precision with Euclidean-Distance:  89.13\n",
      "\n",
      "2022-09-07 19:58:50 - Accuracy with Dot-Product:           78.43\t(Threshold: 274.2463)\n",
      "2022-09-07 19:58:50 - F1 with Dot-Product:                 83.35\t(Threshold: 274.2463)\n",
      "2022-09-07 19:58:50 - Precision with Dot-Product:          80.78\n",
      "2022-09-07 19:58:50 - Recall with Dot-Product:             86.08\n",
      "2022-09-07 19:58:50 - Average Precision with Dot-Product:  87.95\n",
      "\n",
      "2022-09-07 19:58:50 - Save model to binary_sim_output/sentence-transformers/paraphrase-albert-small-v2\n"
     ]
    },
    {
     "data": {
      "application/vnd.jupyter.widget-view+json": {
       "model_id": "6b7a80b8ddae438e9e46f1ab844a6925",
       "version_major": 2,
       "version_minor": 0
      },
      "text/plain": [
       "Iteration:   0%|          | 0/306 [00:00<?, ?it/s]"
      ]
     },
     "metadata": {},
     "output_type": "display_data"
    },
    {
     "name": "stdout",
     "output_type": "stream",
     "text": [
      "2022-09-07 19:59:12 - Binary Accuracy Evaluation of the model on  dataset after epoch 2:\n",
      "2022-09-07 19:59:13 - Accuracy with Cosine-Similarity:           80.30\t(Threshold: 0.3577)\n",
      "2022-09-07 19:59:13 - F1 with Cosine-Similarity:                 85.23\t(Threshold: 0.3577)\n",
      "2022-09-07 19:59:13 - Precision with Cosine-Similarity:          80.42\n",
      "2022-09-07 19:59:13 - Recall with Cosine-Similarity:             90.66\n",
      "2022-09-07 19:59:13 - Average Precision with Cosine-Similarity:  89.92\n",
      "\n",
      "2022-09-07 19:59:13 - Accuracy with Manhattan-Distance:           80.05\t(Threshold: 679.7679)\n",
      "2022-09-07 19:59:13 - F1 with Manhattan-Distance:                 85.19\t(Threshold: 705.6637)\n",
      "2022-09-07 19:59:13 - Precision with Manhattan-Distance:          78.85\n",
      "2022-09-07 19:59:13 - Recall with Manhattan-Distance:             92.64\n",
      "2022-09-07 19:59:13 - Average Precision with Manhattan-Distance:  90.04\n",
      "\n",
      "2022-09-07 19:59:13 - Accuracy with Euclidean-Distance:           80.17\t(Threshold: 31.4245)\n",
      "2022-09-07 19:59:13 - F1 with Euclidean-Distance:                 85.13\t(Threshold: 31.4245)\n",
      "2022-09-07 19:59:13 - Precision with Euclidean-Distance:          80.39\n",
      "2022-09-07 19:59:13 - Recall with Euclidean-Distance:             90.46\n",
      "2022-09-07 19:59:13 - Average Precision with Euclidean-Distance:  90.04\n",
      "\n",
      "2022-09-07 19:59:13 - Accuracy with Dot-Product:           80.67\t(Threshold: 298.8889)\n",
      "2022-09-07 19:59:13 - F1 with Dot-Product:                 85.28\t(Threshold: 293.4460)\n",
      "2022-09-07 19:59:13 - Precision with Dot-Product:          81.64\n",
      "2022-09-07 19:59:13 - Recall with Dot-Product:             89.26\n",
      "2022-09-07 19:59:13 - Average Precision with Dot-Product:  89.22\n",
      "\n",
      "2022-09-07 19:59:13 - Save model to binary_sim_output/sentence-transformers/paraphrase-albert-small-v2\n"
     ]
    },
    {
     "data": {
      "application/vnd.jupyter.widget-view+json": {
       "model_id": "44be883546f24a4f9732c9dd1637c76c",
       "version_major": 2,
       "version_minor": 0
      },
      "text/plain": [
       "Iteration:   0%|          | 0/306 [00:00<?, ?it/s]"
      ]
     },
     "metadata": {},
     "output_type": "display_data"
    },
    {
     "name": "stdout",
     "output_type": "stream",
     "text": [
      "2022-09-07 19:59:35 - Binary Accuracy Evaluation of the model on  dataset after epoch 3:\n",
      "2022-09-07 19:59:36 - Accuracy with Cosine-Similarity:           79.93\t(Threshold: 0.2556)\n",
      "2022-09-07 19:59:36 - F1 with Cosine-Similarity:                 85.16\t(Threshold: 0.2556)\n",
      "2022-09-07 19:59:36 - Precision with Cosine-Similarity:          79.38\n",
      "2022-09-07 19:59:36 - Recall with Cosine-Similarity:             91.85\n",
      "2022-09-07 19:59:36 - Average Precision with Cosine-Similarity:  89.48\n",
      "\n",
      "2022-09-07 19:59:36 - Accuracy with Manhattan-Distance:           80.80\t(Threshold: 788.1540)\n",
      "2022-09-07 19:59:36 - F1 with Manhattan-Distance:                 85.92\t(Threshold: 788.1540)\n",
      "2022-09-07 19:59:36 - Precision with Manhattan-Distance:          79.53\n",
      "2022-09-07 19:59:36 - Recall with Manhattan-Distance:             93.44\n",
      "2022-09-07 19:59:36 - Average Precision with Manhattan-Distance:  89.61\n",
      "\n",
      "2022-09-07 19:59:36 - Accuracy with Euclidean-Distance:           80.67\t(Threshold: 36.2533)\n",
      "2022-09-07 19:59:36 - F1 with Euclidean-Distance:                 85.87\t(Threshold: 36.2533)\n",
      "2022-09-07 19:59:36 - Precision with Euclidean-Distance:          79.29\n",
      "2022-09-07 19:59:36 - Recall with Euclidean-Distance:             93.64\n",
      "2022-09-07 19:59:36 - Average Precision with Euclidean-Distance:  89.53\n",
      "\n",
      "2022-09-07 19:59:36 - Accuracy with Dot-Product:           79.80\t(Threshold: 234.0396)\n",
      "2022-09-07 19:59:36 - F1 with Dot-Product:                 85.03\t(Threshold: 222.0623)\n",
      "2022-09-07 19:59:36 - Precision with Dot-Product:          79.45\n",
      "2022-09-07 19:59:36 - Recall with Dot-Product:             91.45\n",
      "2022-09-07 19:59:36 - Average Precision with Dot-Product:  88.88\n",
      "\n"
     ]
    },
    {
     "data": {
      "application/vnd.jupyter.widget-view+json": {
       "model_id": "610d2fe91ecf4d53ac1660c5227b3e6f",
       "version_major": 2,
       "version_minor": 0
      },
      "text/plain": [
       "Iteration:   0%|          | 0/306 [00:00<?, ?it/s]"
      ]
     },
     "metadata": {},
     "output_type": "display_data"
    },
    {
     "name": "stdout",
     "output_type": "stream",
     "text": [
      "2022-09-07 19:59:58 - Binary Accuracy Evaluation of the model on  dataset after epoch 4:\n",
      "2022-09-07 19:59:59 - Accuracy with Cosine-Similarity:           80.55\t(Threshold: 0.3955)\n",
      "2022-09-07 19:59:59 - F1 with Cosine-Similarity:                 85.39\t(Threshold: 0.3833)\n",
      "2022-09-07 19:59:59 - Precision with Cosine-Similarity:          80.71\n",
      "2022-09-07 19:59:59 - Recall with Cosine-Similarity:             90.66\n",
      "2022-09-07 19:59:59 - Average Precision with Cosine-Similarity:  90.69\n",
      "\n",
      "2022-09-07 19:59:59 - Accuracy with Manhattan-Distance:           80.92\t(Threshold: 754.5425)\n",
      "2022-09-07 19:59:59 - F1 with Manhattan-Distance:                 85.85\t(Threshold: 760.2092)\n",
      "2022-09-07 19:59:59 - Precision with Manhattan-Distance:          80.28\n",
      "2022-09-07 19:59:59 - Recall with Manhattan-Distance:             92.25\n",
      "2022-09-07 19:59:59 - Average Precision with Manhattan-Distance:  90.86\n",
      "\n",
      "2022-09-07 19:59:59 - Accuracy with Euclidean-Distance:           80.67\t(Threshold: 34.3938)\n",
      "2022-09-07 19:59:59 - F1 with Euclidean-Distance:                 85.63\t(Threshold: 34.7127)\n",
      "2022-09-07 19:59:59 - Precision with Euclidean-Distance:          80.21\n",
      "2022-09-07 19:59:59 - Recall with Euclidean-Distance:             91.85\n",
      "2022-09-07 19:59:59 - Average Precision with Euclidean-Distance:  90.78\n",
      "\n",
      "2022-09-07 19:59:59 - Accuracy with Dot-Product:           80.92\t(Threshold: 363.6343)\n",
      "2022-09-07 19:59:59 - F1 with Dot-Product:                 85.63\t(Threshold: 335.2663)\n",
      "2022-09-07 19:59:59 - Precision with Dot-Product:          80.67\n",
      "2022-09-07 19:59:59 - Recall with Dot-Product:             91.25\n",
      "2022-09-07 19:59:59 - Average Precision with Dot-Product:  89.97\n",
      "\n",
      "2022-09-07 19:59:59 - Save model to binary_sim_output/sentence-transformers/paraphrase-albert-small-v2\n"
     ]
    },
    {
     "data": {
      "application/vnd.jupyter.widget-view+json": {
       "model_id": "b9c684f83bd9422a9c39a99ea5be9a9b",
       "version_major": 2,
       "version_minor": 0
      },
      "text/plain": [
       "Iteration:   0%|          | 0/306 [00:00<?, ?it/s]"
      ]
     },
     "metadata": {},
     "output_type": "display_data"
    },
    {
     "name": "stdout",
     "output_type": "stream",
     "text": [
      "2022-09-07 20:00:21 - Binary Accuracy Evaluation of the model on  dataset after epoch 5:\n",
      "2022-09-07 20:00:22 - Accuracy with Cosine-Similarity:           79.93\t(Threshold: 0.4331)\n",
      "2022-09-07 20:00:22 - F1 with Cosine-Similarity:                 84.92\t(Threshold: 0.2370)\n",
      "2022-09-07 20:00:22 - Precision with Cosine-Similarity:          77.41\n",
      "2022-09-07 20:00:22 - Recall with Cosine-Similarity:             94.04\n",
      "2022-09-07 20:00:22 - Average Precision with Cosine-Similarity:  90.57\n",
      "\n",
      "2022-09-07 20:00:22 - Accuracy with Manhattan-Distance:           80.30\t(Threshold: 696.1898)\n",
      "2022-09-07 20:00:22 - F1 with Manhattan-Distance:                 85.24\t(Threshold: 769.0851)\n",
      "2022-09-07 20:00:22 - Precision with Manhattan-Distance:          79.97\n",
      "2022-09-07 20:00:22 - Recall with Manhattan-Distance:             91.25\n",
      "2022-09-07 20:00:22 - Average Precision with Manhattan-Distance:  90.62\n",
      "\n",
      "2022-09-07 20:00:22 - Accuracy with Euclidean-Distance:           80.30\t(Threshold: 31.9510)\n",
      "2022-09-07 20:00:22 - F1 with Euclidean-Distance:                 84.97\t(Threshold: 34.7535)\n",
      "2022-09-07 20:00:22 - Precision with Euclidean-Distance:          80.11\n",
      "2022-09-07 20:00:22 - Recall with Euclidean-Distance:             90.46\n",
      "2022-09-07 20:00:22 - Average Precision with Euclidean-Distance:  90.49\n",
      "\n",
      "2022-09-07 20:00:22 - Accuracy with Dot-Product:           80.30\t(Threshold: 398.6450)\n",
      "2022-09-07 20:00:22 - F1 with Dot-Product:                 84.94\t(Threshold: 232.7039)\n",
      "2022-09-07 20:00:22 - Precision with Dot-Product:          77.72\n",
      "2022-09-07 20:00:22 - Recall with Dot-Product:             93.64\n",
      "2022-09-07 20:00:22 - Average Precision with Dot-Product:  89.94\n",
      "\n"
     ]
    },
    {
     "data": {
      "application/vnd.jupyter.widget-view+json": {
       "model_id": "c92e672d01c747bb9cac95f915c78721",
       "version_major": 2,
       "version_minor": 0
      },
      "text/plain": [
       "Iteration:   0%|          | 0/306 [00:00<?, ?it/s]"
      ]
     },
     "metadata": {},
     "output_type": "display_data"
    },
    {
     "name": "stdout",
     "output_type": "stream",
     "text": [
      "2022-09-07 20:00:44 - Binary Accuracy Evaluation of the model on  dataset after epoch 6:\n",
      "2022-09-07 20:00:44 - Accuracy with Cosine-Similarity:           80.30\t(Threshold: 0.2903)\n",
      "2022-09-07 20:00:44 - F1 with Cosine-Similarity:                 85.56\t(Threshold: 0.2176)\n",
      "2022-09-07 20:00:44 - Precision with Cosine-Similarity:          79.19\n",
      "2022-09-07 20:00:44 - Recall with Cosine-Similarity:             93.04\n",
      "2022-09-07 20:00:44 - Average Precision with Cosine-Similarity:  90.55\n",
      "\n",
      "2022-09-07 20:00:44 - Accuracy with Manhattan-Distance:           80.42\t(Threshold: 715.9462)\n",
      "2022-09-07 20:00:44 - F1 with Manhattan-Distance:                 85.50\t(Threshold: 811.9581)\n",
      "2022-09-07 20:00:44 - Precision with Manhattan-Distance:          79.83\n",
      "2022-09-07 20:00:44 - Recall with Manhattan-Distance:             92.05\n",
      "2022-09-07 20:00:44 - Average Precision with Manhattan-Distance:  90.42\n",
      "\n",
      "2022-09-07 20:00:44 - Accuracy with Euclidean-Distance:           80.55\t(Threshold: 37.2780)\n",
      "2022-09-07 20:00:44 - F1 with Euclidean-Distance:                 85.61\t(Threshold: 37.3622)\n",
      "2022-09-07 20:00:44 - Precision with Euclidean-Distance:          79.86\n",
      "2022-09-07 20:00:44 - Recall with Euclidean-Distance:             92.25\n",
      "2022-09-07 20:00:44 - Average Precision with Euclidean-Distance:  90.29\n",
      "\n",
      "2022-09-07 20:00:44 - Accuracy with Dot-Product:           80.30\t(Threshold: 340.4756)\n",
      "2022-09-07 20:00:44 - F1 with Dot-Product:                 85.45\t(Threshold: 189.7888)\n",
      "2022-09-07 20:00:44 - Precision with Dot-Product:          78.73\n",
      "2022-09-07 20:00:44 - Recall with Dot-Product:             93.44\n",
      "2022-09-07 20:00:44 - Average Precision with Dot-Product:  90.09\n",
      "\n"
     ]
    },
    {
     "data": {
      "application/vnd.jupyter.widget-view+json": {
       "model_id": "9c0500dc3ed2427f9fbc80697bc3aad6",
       "version_major": 2,
       "version_minor": 0
      },
      "text/plain": [
       "Iteration:   0%|          | 0/306 [00:00<?, ?it/s]"
      ]
     },
     "metadata": {},
     "output_type": "display_data"
    },
    {
     "name": "stdout",
     "output_type": "stream",
     "text": [
      "2022-09-07 20:01:06 - Binary Accuracy Evaluation of the model on  dataset after epoch 7:\n",
      "2022-09-07 20:01:07 - Accuracy with Cosine-Similarity:           80.92\t(Threshold: 0.3846)\n",
      "2022-09-07 20:01:07 - F1 with Cosine-Similarity:                 85.71\t(Threshold: 0.3751)\n",
      "2022-09-07 20:01:07 - Precision with Cosine-Similarity:          80.81\n",
      "2022-09-07 20:01:07 - Recall with Cosine-Similarity:             91.25\n",
      "2022-09-07 20:01:07 - Average Precision with Cosine-Similarity:  90.65\n",
      "\n",
      "2022-09-07 20:01:07 - Accuracy with Manhattan-Distance:           81.05\t(Threshold: 700.0128)\n",
      "2022-09-07 20:01:07 - F1 with Manhattan-Distance:                 85.63\t(Threshold: 748.3751)\n",
      "2022-09-07 20:01:07 - Precision with Manhattan-Distance:          80.67\n",
      "2022-09-07 20:01:07 - Recall with Manhattan-Distance:             91.25\n",
      "2022-09-07 20:01:07 - Average Precision with Manhattan-Distance:  90.64\n",
      "\n",
      "2022-09-07 20:01:07 - Accuracy with Euclidean-Distance:           80.67\t(Threshold: 32.1609)\n",
      "2022-09-07 20:01:07 - F1 with Euclidean-Distance:                 85.53\t(Threshold: 34.5014)\n",
      "2022-09-07 20:01:07 - Precision with Euclidean-Distance:          80.63\n",
      "2022-09-07 20:01:07 - Recall with Euclidean-Distance:             91.05\n",
      "2022-09-07 20:01:07 - Average Precision with Euclidean-Distance:  90.52\n",
      "\n",
      "2022-09-07 20:01:07 - Accuracy with Dot-Product:           81.17\t(Threshold: 359.7440)\n",
      "2022-09-07 20:01:07 - F1 with Dot-Product:                 85.82\t(Threshold: 359.7440)\n",
      "2022-09-07 20:01:07 - Precision with Dot-Product:          81.32\n",
      "2022-09-07 20:01:07 - Recall with Dot-Product:             90.85\n",
      "2022-09-07 20:01:07 - Average Precision with Dot-Product:  90.02\n",
      "\n"
     ]
    },
    {
     "data": {
      "application/vnd.jupyter.widget-view+json": {
       "model_id": "75663ef9cb334d2ebd5f797ca2ba505a",
       "version_major": 2,
       "version_minor": 0
      },
      "text/plain": [
       "Iteration:   0%|          | 0/306 [00:00<?, ?it/s]"
      ]
     },
     "metadata": {},
     "output_type": "display_data"
    },
    {
     "name": "stdout",
     "output_type": "stream",
     "text": [
      "2022-09-07 20:01:29 - Binary Accuracy Evaluation of the model on  dataset after epoch 8:\n",
      "2022-09-07 20:01:30 - Accuracy with Cosine-Similarity:           80.30\t(Threshold: 0.4425)\n",
      "2022-09-07 20:01:30 - F1 with Cosine-Similarity:                 85.24\t(Threshold: 0.2761)\n",
      "2022-09-07 20:01:30 - Precision with Cosine-Similarity:          79.08\n",
      "2022-09-07 20:01:30 - Recall with Cosine-Similarity:             92.45\n",
      "2022-09-07 20:01:30 - Average Precision with Cosine-Similarity:  90.78\n",
      "\n",
      "2022-09-07 20:01:30 - Accuracy with Manhattan-Distance:           80.30\t(Threshold: 713.1671)\n",
      "2022-09-07 20:01:30 - F1 with Manhattan-Distance:                 85.58\t(Threshold: 832.7487)\n",
      "2022-09-07 20:01:30 - Precision with Manhattan-Distance:          78.67\n",
      "2022-09-07 20:01:30 - Recall with Manhattan-Distance:             93.84\n",
      "2022-09-07 20:01:30 - Average Precision with Manhattan-Distance:  90.57\n",
      "\n",
      "2022-09-07 20:01:30 - Accuracy with Euclidean-Distance:           80.17\t(Threshold: 38.1530)\n",
      "2022-09-07 20:01:30 - F1 with Euclidean-Distance:                 85.56\t(Threshold: 38.1530)\n",
      "2022-09-07 20:01:30 - Precision with Euclidean-Distance:          78.76\n",
      "2022-09-07 20:01:30 - Recall with Euclidean-Distance:             93.64\n",
      "2022-09-07 20:01:30 - Average Precision with Euclidean-Distance:  90.48\n",
      "\n",
      "2022-09-07 20:01:30 - Accuracy with Dot-Product:           80.67\t(Threshold: 333.9609)\n",
      "2022-09-07 20:01:30 - F1 with Dot-Product:                 85.34\t(Threshold: 333.9609)\n",
      "2022-09-07 20:01:30 - Precision with Dot-Product:          81.41\n",
      "2022-09-07 20:01:30 - Recall with Dot-Product:             89.66\n",
      "2022-09-07 20:01:30 - Average Precision with Dot-Product:  90.31\n",
      "\n"
     ]
    },
    {
     "data": {
      "application/vnd.jupyter.widget-view+json": {
       "model_id": "21e4de7198564f5ea1cd794c147de431",
       "version_major": 2,
       "version_minor": 0
      },
      "text/plain": [
       "Iteration:   0%|          | 0/306 [00:00<?, ?it/s]"
      ]
     },
     "metadata": {},
     "output_type": "display_data"
    },
    {
     "name": "stdout",
     "output_type": "stream",
     "text": [
      "2022-09-07 20:01:52 - Binary Accuracy Evaluation of the model on  dataset after epoch 9:\n",
      "2022-09-07 20:01:53 - Accuracy with Cosine-Similarity:           80.42\t(Threshold: 0.4366)\n",
      "2022-09-07 20:01:53 - F1 with Cosine-Similarity:                 85.24\t(Threshold: 0.3174)\n",
      "2022-09-07 20:01:53 - Precision with Cosine-Similarity:          79.97\n",
      "2022-09-07 20:01:53 - Recall with Cosine-Similarity:             91.25\n",
      "2022-09-07 20:01:53 - Average Precision with Cosine-Similarity:  90.65\n",
      "\n",
      "2022-09-07 20:01:53 - Accuracy with Manhattan-Distance:           80.42\t(Threshold: 722.4883)\n",
      "2022-09-07 20:01:53 - F1 with Manhattan-Distance:                 85.43\t(Threshold: 840.0576)\n",
      "2022-09-07 20:01:53 - Precision with Manhattan-Distance:          78.00\n",
      "2022-09-07 20:01:53 - Recall with Manhattan-Distance:             94.43\n",
      "2022-09-07 20:01:53 - Average Precision with Manhattan-Distance:  90.49\n",
      "\n",
      "2022-09-07 20:01:53 - Accuracy with Euclidean-Distance:           80.30\t(Threshold: 33.6082)\n",
      "2022-09-07 20:01:53 - F1 with Euclidean-Distance:                 85.38\t(Threshold: 38.4775)\n",
      "2022-09-07 20:01:53 - Precision with Euclidean-Distance:          78.18\n",
      "2022-09-07 20:01:53 - Recall with Euclidean-Distance:             94.04\n",
      "2022-09-07 20:01:53 - Average Precision with Euclidean-Distance:  90.37\n",
      "\n",
      "2022-09-07 20:01:53 - Accuracy with Dot-Product:           80.67\t(Threshold: 356.8647)\n",
      "2022-09-07 20:01:53 - F1 with Dot-Product:                 85.53\t(Threshold: 306.5167)\n",
      "2022-09-07 20:01:53 - Precision with Dot-Product:          80.63\n",
      "2022-09-07 20:01:53 - Recall with Dot-Product:             91.05\n",
      "2022-09-07 20:01:53 - Average Precision with Dot-Product:  90.18\n",
      "\n",
      "Training done...\n",
      "\n",
      "\n",
      "\n",
      "                     ********** sentence-transformers/paraphrase-albert-small-v2 **********\n",
      "2022-09-07 20:01:53 - Load pretrained SentenceTransformer: binary_sim_output/sentence-transformers/paraphrase-albert-small-v2\n",
      "2022-09-07 20:01:53 - Use pytorch device: cuda\n",
      "2022-09-07 20:01:53 - Softmax loss: #Vectors concatenated: 3\n",
      "2022-09-07 20:01:53 - EmbeddingSimilarityEvaluator: Evaluating the model on SPRAG-test dataset:\n",
      "2022-09-07 20:01:55 - Cosine-Similarity :\tPearson: 0.6198\tSpearman: 0.6032\n",
      "2022-09-07 20:01:55 - Manhattan-Distance:\tPearson: 0.6074\tSpearman: 0.6061\n",
      "2022-09-07 20:01:55 - Euclidean-Distance:\tPearson: 0.6065\tSpearman: 0.6044\n",
      "2022-09-07 20:01:55 - Dot-Product-Similarity:\tPearson: 0.6151\tSpearman: 0.5940\n",
      "2022-09-07 20:01:55 - Binary Accuracy Evaluation of the model on  dataset:\n",
      "2022-09-07 20:01:55 - Accuracy with Cosine-Similarity:           80.55\t(Threshold: 0.3955)\n",
      "2022-09-07 20:01:55 - F1 with Cosine-Similarity:                 85.39\t(Threshold: 0.3833)\n",
      "2022-09-07 20:01:55 - Precision with Cosine-Similarity:          80.71\n",
      "2022-09-07 20:01:55 - Recall with Cosine-Similarity:             90.66\n",
      "2022-09-07 20:01:55 - Average Precision with Cosine-Similarity:  90.69\n",
      "\n",
      "2022-09-07 20:01:55 - Accuracy with Manhattan-Distance:           80.92\t(Threshold: 754.5425)\n",
      "2022-09-07 20:01:55 - F1 with Manhattan-Distance:                 85.85\t(Threshold: 760.2092)\n",
      "2022-09-07 20:01:55 - Precision with Manhattan-Distance:          80.28\n",
      "2022-09-07 20:01:55 - Recall with Manhattan-Distance:             92.25\n",
      "2022-09-07 20:01:55 - Average Precision with Manhattan-Distance:  90.86\n",
      "\n",
      "2022-09-07 20:01:55 - Accuracy with Euclidean-Distance:           80.67\t(Threshold: 34.3938)\n",
      "2022-09-07 20:01:55 - F1 with Euclidean-Distance:                 85.63\t(Threshold: 34.7127)\n",
      "2022-09-07 20:01:55 - Precision with Euclidean-Distance:          80.21\n",
      "2022-09-07 20:01:55 - Recall with Euclidean-Distance:             91.85\n",
      "2022-09-07 20:01:55 - Average Precision with Euclidean-Distance:  90.78\n",
      "\n",
      "2022-09-07 20:01:55 - Accuracy with Dot-Product:           80.92\t(Threshold: 363.6343)\n",
      "2022-09-07 20:01:55 - F1 with Dot-Product:                 85.63\t(Threshold: 335.2663)\n",
      "2022-09-07 20:01:55 - Precision with Dot-Product:          80.67\n",
      "2022-09-07 20:01:55 - Recall with Dot-Product:             91.25\n",
      "2022-09-07 20:01:55 - Average Precision with Dot-Product:  89.97\n",
      "\n"
     ]
    },
    {
     "data": {
      "text/plain": [
       "0.9086394269462481"
      ]
     },
     "execution_count": 113,
     "metadata": {},
     "output_type": "execute_result"
    }
   ],
   "source": [
    "st_model = 'sentence-transformers/paraphrase-albert-small-v2'\n",
    "num_epochs = 10\n",
    "batch_size=16\n",
    "model_save_path = \"binary_sim_output/\"+st_model\n",
    "train_dataloader = DataLoader(train_examples, shuffle=True, batch_size=batch_size)\n",
    "  \n",
    "test_dataloader = DataLoader(test_examples, shuffle=True, batch_size=batch_size)\n",
    "model = train_and_evaluate(st_model, train_dataloader, test_dataloader, num_epochs, model_save_path)\n",
    "print(\"\\n\\n\")\n",
    "print(\" \"*20, \"*\"*10, st_model , \"*\"*10)\n",
    "\n",
    "# Load the stored model and evaluate its performance on mohler test dataset\n",
    "model = SentenceTransformer(model_save_path)\n",
    "train_loss = losses.SoftmaxLoss(model=model, sentence_embedding_dimension=model.get_sentence_embedding_dimension(), num_labels=2)\n",
    "test_evaluator = evaluation.EmbeddingSimilarityEvaluator.from_input_examples(test_examples, batch_size=16, name='SPRAG-test')\n",
    "test_evaluator(model, output_path=model_save_path)\n",
    "train_loss.cuda()\n",
    "\n",
    "x_test_dA = test_data['ReferenceAnswer'].values.tolist()\n",
    "x_test_sA = test_data['StudentAnswer'].values.tolist()\n",
    "y_test = test_labels \n",
    "\n",
    "evaluator = evaluation.BinaryClassificationEvaluator(x_test_dA, x_test_sA, y_test)\n",
    "evaluator(model, output_path=model_save_path)\n"
   ]
  },
  {
   "cell_type": "code",
   "execution_count": 114,
   "id": "513f89bc",
   "metadata": {},
   "outputs": [
    {
     "name": "stdout",
     "output_type": "stream",
     "text": [
      "2022-09-07 20:01:55 - Load pretrained SentenceTransformer: sentence-transformers/quora-distilbert-base\n",
      "2022-09-07 20:01:56 - Use pytorch device: cuda\n",
      "2022-09-07 20:01:56 - Softmax loss: #Vectors concatenated: 3\n",
      "306\n"
     ]
    },
    {
     "data": {
      "application/vnd.jupyter.widget-view+json": {
       "model_id": "0962cf6eb566406484438c20480f9f3b",
       "version_major": 2,
       "version_minor": 0
      },
      "text/plain": [
       "Epoch:   0%|          | 0/10 [00:00<?, ?it/s]"
      ]
     },
     "metadata": {},
     "output_type": "display_data"
    },
    {
     "data": {
      "application/vnd.jupyter.widget-view+json": {
       "model_id": "af0c6503a6274eef97c60ee0b0141227",
       "version_major": 2,
       "version_minor": 0
      },
      "text/plain": [
       "Iteration:   0%|          | 0/306 [00:00<?, ?it/s]"
      ]
     },
     "metadata": {},
     "output_type": "display_data"
    },
    {
     "name": "stdout",
     "output_type": "stream",
     "text": [
      "2022-09-07 20:02:20 - Binary Accuracy Evaluation of the model on  dataset after epoch 0:\n",
      "2022-09-07 20:02:21 - Accuracy with Cosine-Similarity:           80.67\t(Threshold: 0.5045)\n",
      "2022-09-07 20:02:21 - F1 with Cosine-Similarity:                 85.02\t(Threshold: 0.4278)\n",
      "2022-09-07 20:02:21 - Precision with Cosine-Similarity:          80.35\n",
      "2022-09-07 20:02:21 - Recall with Cosine-Similarity:             90.26\n",
      "2022-09-07 20:02:21 - Average Precision with Cosine-Similarity:  90.80\n",
      "\n",
      "2022-09-07 20:02:21 - Accuracy with Manhattan-Distance:           79.30\t(Threshold: 323.7233)\n",
      "2022-09-07 20:02:21 - F1 with Manhattan-Distance:                 84.88\t(Threshold: 336.0784)\n",
      "2022-09-07 20:02:21 - Precision with Manhattan-Distance:          78.32\n",
      "2022-09-07 20:02:21 - Recall with Manhattan-Distance:             92.64\n",
      "2022-09-07 20:02:21 - Average Precision with Manhattan-Distance:  89.72\n",
      "\n",
      "2022-09-07 20:02:21 - Accuracy with Euclidean-Distance:           79.68\t(Threshold: 15.0488)\n",
      "2022-09-07 20:02:21 - F1 with Euclidean-Distance:                 85.06\t(Threshold: 15.3548)\n",
      "2022-09-07 20:02:21 - Precision with Euclidean-Distance:          78.91\n",
      "2022-09-07 20:02:21 - Recall with Euclidean-Distance:             92.25\n",
      "2022-09-07 20:02:21 - Average Precision with Euclidean-Distance:  89.72\n",
      "\n",
      "2022-09-07 20:02:21 - Accuracy with Dot-Product:           80.17\t(Threshold: 88.9834)\n",
      "2022-09-07 20:02:21 - F1 with Dot-Product:                 85.12\t(Threshold: 64.5486)\n",
      "2022-09-07 20:02:21 - Precision with Dot-Product:          78.30\n",
      "2022-09-07 20:02:21 - Recall with Dot-Product:             93.24\n",
      "2022-09-07 20:02:21 - Average Precision with Dot-Product:  89.84\n",
      "\n",
      "2022-09-07 20:02:21 - Save model to binary_sim_output/sentence-transformers/quora-distilbert-base\n"
     ]
    },
    {
     "data": {
      "application/vnd.jupyter.widget-view+json": {
       "model_id": "de3d3c1a3094465e9c33ce4e5d5ed184",
       "version_major": 2,
       "version_minor": 0
      },
      "text/plain": [
       "Iteration:   0%|          | 0/306 [00:00<?, ?it/s]"
      ]
     },
     "metadata": {},
     "output_type": "display_data"
    },
    {
     "name": "stdout",
     "output_type": "stream",
     "text": [
      "2022-09-07 20:02:46 - Binary Accuracy Evaluation of the model on  dataset after epoch 1:\n",
      "2022-09-07 20:02:46 - Accuracy with Cosine-Similarity:           82.29\t(Threshold: 0.4795)\n",
      "2022-09-07 20:02:46 - F1 with Cosine-Similarity:                 86.59\t(Threshold: 0.3809)\n",
      "2022-09-07 20:02:46 - Precision with Cosine-Similarity:          81.44\n",
      "2022-09-07 20:02:46 - Recall with Cosine-Similarity:             92.45\n",
      "2022-09-07 20:02:46 - Average Precision with Cosine-Similarity:  92.22\n",
      "\n",
      "2022-09-07 20:02:46 - Accuracy with Manhattan-Distance:           80.92\t(Threshold: 318.1355)\n",
      "2022-09-07 20:02:46 - F1 with Manhattan-Distance:                 85.06\t(Threshold: 339.2838)\n",
      "2022-09-07 20:02:46 - Precision with Manhattan-Distance:          82.07\n",
      "2022-09-07 20:02:46 - Recall with Manhattan-Distance:             88.27\n",
      "2022-09-07 20:02:46 - Average Precision with Manhattan-Distance:  91.11\n",
      "\n",
      "2022-09-07 20:02:46 - Accuracy with Euclidean-Distance:           81.17\t(Threshold: 15.3618)\n",
      "2022-09-07 20:02:46 - F1 with Euclidean-Distance:                 85.36\t(Threshold: 15.5063)\n",
      "2022-09-07 20:02:46 - Precision with Euclidean-Distance:          82.80\n",
      "2022-09-07 20:02:46 - Recall with Euclidean-Distance:             88.07\n",
      "2022-09-07 20:02:46 - Average Precision with Euclidean-Distance:  91.25\n",
      "\n",
      "2022-09-07 20:02:46 - Accuracy with Dot-Product:           82.17\t(Threshold: 88.3751)\n",
      "2022-09-07 20:02:46 - F1 with Dot-Product:                 86.58\t(Threshold: 68.2031)\n",
      "2022-09-07 20:02:46 - Precision with Dot-Product:          80.07\n",
      "2022-09-07 20:02:46 - Recall with Dot-Product:             94.23\n",
      "2022-09-07 20:02:46 - Average Precision with Dot-Product:  92.00\n",
      "\n",
      "2022-09-07 20:02:46 - Save model to binary_sim_output/sentence-transformers/quora-distilbert-base\n"
     ]
    },
    {
     "data": {
      "application/vnd.jupyter.widget-view+json": {
       "model_id": "e62de6f75e764a7db274dc1f5a134e57",
       "version_major": 2,
       "version_minor": 0
      },
      "text/plain": [
       "Iteration:   0%|          | 0/306 [00:00<?, ?it/s]"
      ]
     },
     "metadata": {},
     "output_type": "display_data"
    },
    {
     "name": "stdout",
     "output_type": "stream",
     "text": [
      "2022-09-07 20:03:11 - Binary Accuracy Evaluation of the model on  dataset after epoch 2:\n",
      "2022-09-07 20:03:12 - Accuracy with Cosine-Similarity:           82.17\t(Threshold: 0.3455)\n",
      "2022-09-07 20:03:12 - F1 with Cosine-Similarity:                 86.75\t(Threshold: 0.3360)\n",
      "2022-09-07 20:03:12 - Precision with Cosine-Similarity:          81.25\n",
      "2022-09-07 20:03:12 - Recall with Cosine-Similarity:             93.04\n",
      "2022-09-07 20:03:12 - Average Precision with Cosine-Similarity:  92.25\n",
      "\n",
      "2022-09-07 20:03:12 - Accuracy with Manhattan-Distance:           80.30\t(Threshold: 359.6782)\n",
      "2022-09-07 20:03:12 - F1 with Manhattan-Distance:                 85.66\t(Threshold: 381.6302)\n",
      "2022-09-07 20:03:12 - Precision with Manhattan-Distance:          78.80\n",
      "2022-09-07 20:03:12 - Recall with Manhattan-Distance:             93.84\n",
      "2022-09-07 20:03:12 - Average Precision with Manhattan-Distance:  91.78\n",
      "\n",
      "2022-09-07 20:03:12 - Accuracy with Euclidean-Distance:           80.67\t(Threshold: 17.7189)\n",
      "2022-09-07 20:03:12 - F1 with Euclidean-Distance:                 85.95\t(Threshold: 17.7750)\n",
      "2022-09-07 20:03:12 - Precision with Euclidean-Distance:          79.00\n",
      "2022-09-07 20:03:12 - Recall with Euclidean-Distance:             94.23\n",
      "2022-09-07 20:03:12 - Average Precision with Euclidean-Distance:  91.81\n",
      "\n",
      "2022-09-07 20:03:12 - Accuracy with Dot-Product:           82.29\t(Threshold: 74.5238)\n",
      "2022-09-07 20:03:12 - F1 with Dot-Product:                 86.85\t(Threshold: 70.2644)\n",
      "2022-09-07 20:03:12 - Precision with Dot-Product:          81.28\n",
      "2022-09-07 20:03:12 - Recall with Dot-Product:             93.24\n",
      "2022-09-07 20:03:12 - Average Precision with Dot-Product:  92.06\n",
      "\n",
      "2022-09-07 20:03:12 - Save model to binary_sim_output/sentence-transformers/quora-distilbert-base\n"
     ]
    },
    {
     "data": {
      "application/vnd.jupyter.widget-view+json": {
       "model_id": "1d70e533a5cb4a7aad99a4e782ffc969",
       "version_major": 2,
       "version_minor": 0
      },
      "text/plain": [
       "Iteration:   0%|          | 0/306 [00:00<?, ?it/s]"
      ]
     },
     "metadata": {},
     "output_type": "display_data"
    },
    {
     "name": "stdout",
     "output_type": "stream",
     "text": [
      "2022-09-07 20:03:36 - Binary Accuracy Evaluation of the model on  dataset after epoch 3:\n",
      "2022-09-07 20:03:37 - Accuracy with Cosine-Similarity:           81.05\t(Threshold: 0.5816)\n",
      "2022-09-07 20:03:37 - F1 with Cosine-Similarity:                 85.69\t(Threshold: 0.0879)\n",
      "2022-09-07 20:03:37 - Precision with Cosine-Similarity:          77.49\n",
      "2022-09-07 20:03:37 - Recall with Cosine-Similarity:             95.83\n",
      "2022-09-07 20:03:37 - Average Precision with Cosine-Similarity:  91.99\n",
      "\n",
      "2022-09-07 20:03:37 - Accuracy with Manhattan-Distance:           80.92\t(Threshold: 378.5332)\n",
      "2022-09-07 20:03:37 - F1 with Manhattan-Distance:                 85.61\t(Threshold: 386.0922)\n",
      "2022-09-07 20:03:37 - Precision with Manhattan-Distance:          81.25\n",
      "2022-09-07 20:03:37 - Recall with Manhattan-Distance:             90.46\n",
      "2022-09-07 20:03:37 - Average Precision with Manhattan-Distance:  91.72\n",
      "\n",
      "2022-09-07 20:03:37 - Accuracy with Euclidean-Distance:           81.05\t(Threshold: 17.3582)\n",
      "2022-09-07 20:03:37 - F1 with Euclidean-Distance:                 85.61\t(Threshold: 17.3582)\n",
      "2022-09-07 20:03:37 - Precision with Euclidean-Distance:          81.74\n",
      "2022-09-07 20:03:37 - Recall with Euclidean-Distance:             89.86\n",
      "2022-09-07 20:03:37 - Average Precision with Euclidean-Distance:  91.75\n",
      "\n",
      "2022-09-07 20:03:37 - Accuracy with Dot-Product:           81.17\t(Threshold: 154.5566)\n",
      "2022-09-07 20:03:37 - F1 with Dot-Product:                 85.74\t(Threshold: 19.7412)\n",
      "2022-09-07 20:03:37 - Precision with Dot-Product:          77.71\n",
      "2022-09-07 20:03:37 - Recall with Dot-Product:             95.63\n",
      "2022-09-07 20:03:37 - Average Precision with Dot-Product:  91.79\n",
      "\n"
     ]
    },
    {
     "data": {
      "application/vnd.jupyter.widget-view+json": {
       "model_id": "b9c8a05d61ea4a338ad666f184e3dc7e",
       "version_major": 2,
       "version_minor": 0
      },
      "text/plain": [
       "Iteration:   0%|          | 0/306 [00:00<?, ?it/s]"
      ]
     },
     "metadata": {},
     "output_type": "display_data"
    },
    {
     "name": "stdout",
     "output_type": "stream",
     "text": [
      "2022-09-07 20:04:01 - Binary Accuracy Evaluation of the model on  dataset after epoch 4:\n",
      "2022-09-07 20:04:02 - Accuracy with Cosine-Similarity:           80.80\t(Threshold: 0.3763)\n",
      "2022-09-07 20:04:02 - F1 with Cosine-Similarity:                 85.71\t(Threshold: 0.0316)\n",
      "2022-09-07 20:04:02 - Precision with Cosine-Similarity:          78.61\n",
      "2022-09-07 20:04:02 - Recall with Cosine-Similarity:             94.23\n",
      "2022-09-07 20:04:02 - Average Precision with Cosine-Similarity:  92.14\n",
      "\n",
      "2022-09-07 20:04:02 - Accuracy with Manhattan-Distance:           80.92\t(Threshold: 369.4438)\n",
      "2022-09-07 20:04:02 - F1 with Manhattan-Distance:                 85.84\t(Threshold: 444.8904)\n",
      "2022-09-07 20:04:02 - Precision with Manhattan-Distance:          78.96\n",
      "2022-09-07 20:04:02 - Recall with Manhattan-Distance:             94.04\n",
      "2022-09-07 20:04:02 - Average Precision with Manhattan-Distance:  91.88\n",
      "\n",
      "2022-09-07 20:04:02 - Accuracy with Euclidean-Distance:           80.92\t(Threshold: 17.3192)\n",
      "2022-09-07 20:04:02 - F1 with Euclidean-Distance:                 85.50\t(Threshold: 19.7392)\n",
      "2022-09-07 20:04:02 - Precision with Euclidean-Distance:          79.83\n",
      "2022-09-07 20:04:02 - Recall with Euclidean-Distance:             92.05\n",
      "2022-09-07 20:04:02 - Average Precision with Euclidean-Distance:  91.90\n",
      "\n",
      "2022-09-07 20:04:02 - Accuracy with Dot-Product:           80.42\t(Threshold: 82.1599)\n",
      "2022-09-07 20:04:02 - F1 with Dot-Product:                 85.71\t(Threshold: -7.2823)\n",
      "2022-09-07 20:04:02 - Precision with Dot-Product:          77.40\n",
      "2022-09-07 20:04:02 - Recall with Dot-Product:             96.02\n",
      "2022-09-07 20:04:02 - Average Precision with Dot-Product:  92.17\n",
      "\n"
     ]
    },
    {
     "data": {
      "application/vnd.jupyter.widget-view+json": {
       "model_id": "79ca8ff1ed7648b48120e2813a79ebac",
       "version_major": 2,
       "version_minor": 0
      },
      "text/plain": [
       "Iteration:   0%|          | 0/306 [00:00<?, ?it/s]"
      ]
     },
     "metadata": {},
     "output_type": "display_data"
    },
    {
     "name": "stdout",
     "output_type": "stream",
     "text": [
      "2022-09-07 20:04:26 - Binary Accuracy Evaluation of the model on  dataset after epoch 5:\n",
      "2022-09-07 20:04:27 - Accuracy with Cosine-Similarity:           81.55\t(Threshold: 0.2714)\n",
      "2022-09-07 20:04:27 - F1 with Cosine-Similarity:                 86.30\t(Threshold: 0.2007)\n",
      "2022-09-07 20:04:27 - Precision with Cosine-Similarity:          80.76\n",
      "2022-09-07 20:04:27 - Recall with Cosine-Similarity:             92.64\n",
      "2022-09-07 20:04:27 - Average Precision with Cosine-Similarity:  91.84\n",
      "\n",
      "2022-09-07 20:04:27 - Accuracy with Manhattan-Distance:           81.42\t(Threshold: 438.2475)\n",
      "2022-09-07 20:04:27 - F1 with Manhattan-Distance:                 86.34\t(Threshold: 438.2475)\n",
      "2022-09-07 20:04:27 - Precision with Manhattan-Distance:          80.10\n",
      "2022-09-07 20:04:27 - Recall with Manhattan-Distance:             93.64\n",
      "2022-09-07 20:04:27 - Average Precision with Manhattan-Distance:  91.66\n",
      "\n",
      "2022-09-07 20:04:27 - Accuracy with Euclidean-Distance:           81.55\t(Threshold: 20.2344)\n",
      "2022-09-07 20:04:27 - F1 with Euclidean-Distance:                 86.52\t(Threshold: 20.7420)\n",
      "2022-09-07 20:04:27 - Precision with Euclidean-Distance:          79.83\n",
      "2022-09-07 20:04:27 - Recall with Euclidean-Distance:             94.43\n",
      "2022-09-07 20:04:27 - Average Precision with Euclidean-Distance:  91.65\n",
      "\n",
      "2022-09-07 20:04:27 - Accuracy with Dot-Product:           81.55\t(Threshold: 66.7022)\n",
      "2022-09-07 20:04:27 - F1 with Dot-Product:                 86.19\t(Threshold: 61.6170)\n",
      "2022-09-07 20:04:27 - Precision with Dot-Product:          81.20\n",
      "2022-09-07 20:04:27 - Recall with Dot-Product:             91.85\n",
      "2022-09-07 20:04:27 - Average Precision with Dot-Product:  91.76\n",
      "\n"
     ]
    },
    {
     "data": {
      "application/vnd.jupyter.widget-view+json": {
       "model_id": "5e6327a5c2144d7a86147300d11e1644",
       "version_major": 2,
       "version_minor": 0
      },
      "text/plain": [
       "Iteration:   0%|          | 0/306 [00:00<?, ?it/s]"
      ]
     },
     "metadata": {},
     "output_type": "display_data"
    },
    {
     "name": "stdout",
     "output_type": "stream",
     "text": [
      "2022-09-07 20:04:51 - Binary Accuracy Evaluation of the model on  dataset after epoch 6:\n",
      "2022-09-07 20:04:52 - Accuracy with Cosine-Similarity:           81.17\t(Threshold: 0.5979)\n",
      "2022-09-07 20:04:52 - F1 with Cosine-Similarity:                 85.55\t(Threshold: 0.2657)\n",
      "2022-09-07 20:04:52 - Precision with Cosine-Similarity:          80.53\n",
      "2022-09-07 20:04:52 - Recall with Cosine-Similarity:             91.25\n",
      "2022-09-07 20:04:52 - Average Precision with Cosine-Similarity:  92.17\n",
      "\n",
      "2022-09-07 20:04:52 - Accuracy with Manhattan-Distance:           81.05\t(Threshold: 317.7576)\n",
      "2022-09-07 20:04:52 - F1 with Manhattan-Distance:                 85.59\t(Threshold: 473.1053)\n",
      "2022-09-07 20:04:52 - Precision with Manhattan-Distance:          78.25\n",
      "2022-09-07 20:04:52 - Recall with Manhattan-Distance:             94.43\n",
      "2022-09-07 20:04:52 - Average Precision with Manhattan-Distance:  92.04\n",
      "\n",
      "2022-09-07 20:04:52 - Accuracy with Euclidean-Distance:           81.17\t(Threshold: 15.5621)\n",
      "2022-09-07 20:04:52 - F1 with Euclidean-Distance:                 85.48\t(Threshold: 21.9393)\n",
      "2022-09-07 20:04:52 - Precision with Euclidean-Distance:          78.22\n",
      "2022-09-07 20:04:52 - Recall with Euclidean-Distance:             94.23\n",
      "2022-09-07 20:04:52 - Average Precision with Euclidean-Distance:  92.07\n",
      "\n",
      "2022-09-07 20:04:52 - Accuracy with Dot-Product:           80.92\t(Threshold: 136.6031)\n",
      "2022-09-07 20:04:52 - F1 with Dot-Product:                 85.48\t(Threshold: 36.9118)\n",
      "2022-09-07 20:04:52 - Precision with Dot-Product:          79.49\n",
      "2022-09-07 20:04:52 - Recall with Dot-Product:             92.45\n",
      "2022-09-07 20:04:52 - Average Precision with Dot-Product:  92.03\n",
      "\n"
     ]
    },
    {
     "data": {
      "application/vnd.jupyter.widget-view+json": {
       "model_id": "ec296d4546c645c59a7908a19f734ad8",
       "version_major": 2,
       "version_minor": 0
      },
      "text/plain": [
       "Iteration:   0%|          | 0/306 [00:00<?, ?it/s]"
      ]
     },
     "metadata": {},
     "output_type": "display_data"
    },
    {
     "name": "stdout",
     "output_type": "stream",
     "text": [
      "2022-09-07 20:05:16 - Binary Accuracy Evaluation of the model on  dataset after epoch 7:\n",
      "2022-09-07 20:05:16 - Accuracy with Cosine-Similarity:           80.67\t(Threshold: 0.6154)\n",
      "2022-09-07 20:05:16 - F1 with Cosine-Similarity:                 85.39\t(Threshold: 0.2350)\n",
      "2022-09-07 20:05:16 - Precision with Cosine-Similarity:          80.71\n",
      "2022-09-07 20:05:16 - Recall with Cosine-Similarity:             90.66\n",
      "2022-09-07 20:05:16 - Average Precision with Cosine-Similarity:  91.85\n",
      "\n",
      "2022-09-07 20:05:16 - Accuracy with Manhattan-Distance:           81.05\t(Threshold: 303.0126)\n",
      "2022-09-07 20:05:16 - F1 with Manhattan-Distance:                 85.30\t(Threshold: 485.5274)\n",
      "2022-09-07 20:05:16 - Precision with Manhattan-Distance:          78.05\n",
      "2022-09-07 20:05:16 - Recall with Manhattan-Distance:             94.04\n",
      "2022-09-07 20:05:16 - Average Precision with Manhattan-Distance:  91.69\n",
      "\n",
      "2022-09-07 20:05:16 - Accuracy with Euclidean-Distance:           80.92\t(Threshold: 13.8511)\n",
      "2022-09-07 20:05:16 - F1 with Euclidean-Distance:                 85.25\t(Threshold: 22.4542)\n",
      "2022-09-07 20:05:16 - Precision with Euclidean-Distance:          77.83\n",
      "2022-09-07 20:05:16 - Recall with Euclidean-Distance:             94.23\n",
      "2022-09-07 20:05:16 - Average Precision with Euclidean-Distance:  91.72\n",
      "\n",
      "2022-09-07 20:05:16 - Accuracy with Dot-Product:           80.80\t(Threshold: 125.5924)\n",
      "2022-09-07 20:05:16 - F1 with Dot-Product:                 85.31\t(Threshold: 63.7068)\n",
      "2022-09-07 20:05:16 - Precision with Dot-Product:          81.04\n",
      "2022-09-07 20:05:16 - Recall with Dot-Product:             90.06\n",
      "2022-09-07 20:05:16 - Average Precision with Dot-Product:  91.75\n",
      "\n"
     ]
    },
    {
     "data": {
      "application/vnd.jupyter.widget-view+json": {
       "model_id": "1b58fc957d1d487db86c4d0f30ce7c29",
       "version_major": 2,
       "version_minor": 0
      },
      "text/plain": [
       "Iteration:   0%|          | 0/306 [00:00<?, ?it/s]"
      ]
     },
     "metadata": {},
     "output_type": "display_data"
    },
    {
     "name": "stdout",
     "output_type": "stream",
     "text": [
      "2022-09-07 20:05:41 - Binary Accuracy Evaluation of the model on  dataset after epoch 8:\n",
      "2022-09-07 20:05:41 - Accuracy with Cosine-Similarity:           81.05\t(Threshold: 0.3525)\n",
      "2022-09-07 20:05:41 - F1 with Cosine-Similarity:                 85.47\t(Threshold: 0.3525)\n",
      "2022-09-07 20:05:41 - Precision with Cosine-Similarity:          82.32\n",
      "2022-09-07 20:05:41 - Recall with Cosine-Similarity:             88.87\n",
      "2022-09-07 20:05:41 - Average Precision with Cosine-Similarity:  91.81\n",
      "\n",
      "2022-09-07 20:05:41 - Accuracy with Manhattan-Distance:           81.05\t(Threshold: 393.6036)\n",
      "2022-09-07 20:05:41 - F1 with Manhattan-Distance:                 85.50\t(Threshold: 393.6036)\n",
      "2022-09-07 20:05:41 - Precision with Manhattan-Distance:          82.20\n",
      "2022-09-07 20:05:41 - Recall with Manhattan-Distance:             89.07\n",
      "2022-09-07 20:05:41 - Average Precision with Manhattan-Distance:  91.66\n",
      "\n",
      "2022-09-07 20:05:41 - Accuracy with Euclidean-Distance:           81.05\t(Threshold: 18.4239)\n",
      "2022-09-07 20:05:41 - F1 with Euclidean-Distance:                 85.52\t(Threshold: 18.4239)\n",
      "2022-09-07 20:05:41 - Precision with Euclidean-Distance:          82.08\n",
      "2022-09-07 20:05:41 - Recall with Euclidean-Distance:             89.26\n",
      "2022-09-07 20:05:41 - Average Precision with Euclidean-Distance:  91.68\n",
      "\n",
      "2022-09-07 20:05:41 - Accuracy with Dot-Product:           80.92\t(Threshold: 91.3275)\n",
      "2022-09-07 20:05:41 - F1 with Dot-Product:                 85.36\t(Threshold: 91.3275)\n",
      "2022-09-07 20:05:41 - Precision with Dot-Product:          82.29\n",
      "2022-09-07 20:05:41 - Recall with Dot-Product:             88.67\n",
      "2022-09-07 20:05:41 - Average Precision with Dot-Product:  91.73\n",
      "\n"
     ]
    },
    {
     "data": {
      "application/vnd.jupyter.widget-view+json": {
       "model_id": "a4a4b4347a4a47bbb02680910d8c899e",
       "version_major": 2,
       "version_minor": 0
      },
      "text/plain": [
       "Iteration:   0%|          | 0/306 [00:00<?, ?it/s]"
      ]
     },
     "metadata": {},
     "output_type": "display_data"
    },
    {
     "name": "stdout",
     "output_type": "stream",
     "text": [
      "2022-09-07 20:06:05 - Binary Accuracy Evaluation of the model on  dataset after epoch 9:\n",
      "2022-09-07 20:06:06 - Accuracy with Cosine-Similarity:           81.30\t(Threshold: 0.4583)\n",
      "2022-09-07 20:06:06 - F1 with Cosine-Similarity:                 85.63\t(Threshold: 0.3427)\n",
      "2022-09-07 20:06:06 - Precision with Cosine-Similarity:          81.62\n",
      "2022-09-07 20:06:06 - Recall with Cosine-Similarity:             90.06\n",
      "2022-09-07 20:06:06 - Average Precision with Cosine-Similarity:  91.95\n",
      "\n",
      "2022-09-07 20:06:06 - Accuracy with Manhattan-Distance:           81.17\t(Threshold: 366.0786)\n",
      "2022-09-07 20:06:06 - F1 with Manhattan-Distance:                 86.03\t(Threshold: 469.2175)\n",
      "2022-09-07 20:06:06 - Precision with Manhattan-Distance:          79.56\n",
      "2022-09-07 20:06:06 - Recall with Manhattan-Distance:             93.64\n",
      "2022-09-07 20:06:06 - Average Precision with Manhattan-Distance:  91.84\n",
      "\n",
      "2022-09-07 20:06:06 - Accuracy with Euclidean-Distance:           81.42\t(Threshold: 17.0354)\n",
      "2022-09-07 20:06:06 - F1 with Euclidean-Distance:                 85.74\t(Threshold: 17.0354)\n",
      "2022-09-07 20:06:06 - Precision with Euclidean-Distance:          82.66\n",
      "2022-09-07 20:06:06 - Recall with Euclidean-Distance:             89.07\n",
      "2022-09-07 20:06:06 - Average Precision with Euclidean-Distance:  91.85\n",
      "\n",
      "2022-09-07 20:06:06 - Accuracy with Dot-Product:           81.30\t(Threshold: 120.6065)\n",
      "2022-09-07 20:06:06 - F1 with Dot-Product:                 85.66\t(Threshold: 107.3993)\n",
      "2022-09-07 20:06:06 - Precision with Dot-Product:          82.50\n",
      "2022-09-07 20:06:06 - Recall with Dot-Product:             89.07\n",
      "2022-09-07 20:06:06 - Average Precision with Dot-Product:  91.84\n",
      "\n",
      "Training done...\n",
      "\n",
      "\n",
      "\n",
      "                     ********** sentence-transformers/quora-distilbert-base **********\n",
      "2022-09-07 20:06:06 - Load pretrained SentenceTransformer: binary_sim_output/sentence-transformers/quora-distilbert-base\n",
      "2022-09-07 20:06:07 - Use pytorch device: cuda\n",
      "2022-09-07 20:06:07 - Softmax loss: #Vectors concatenated: 3\n",
      "2022-09-07 20:06:07 - EmbeddingSimilarityEvaluator: Evaluating the model on SPRAG-test dataset:\n",
      "2022-09-07 20:06:08 - Cosine-Similarity :\tPearson: 0.6560\tSpearman: 0.6401\n",
      "2022-09-07 20:06:08 - Manhattan-Distance:\tPearson: 0.6194\tSpearman: 0.6269\n",
      "2022-09-07 20:06:08 - Euclidean-Distance:\tPearson: 0.6246\tSpearman: 0.6286\n",
      "2022-09-07 20:06:08 - Dot-Product-Similarity:\tPearson: 0.6565\tSpearman: 0.6376\n",
      "2022-09-07 20:06:08 - Binary Accuracy Evaluation of the model on  dataset:\n",
      "2022-09-07 20:06:09 - Accuracy with Cosine-Similarity:           82.17\t(Threshold: 0.3455)\n",
      "2022-09-07 20:06:09 - F1 with Cosine-Similarity:                 86.75\t(Threshold: 0.3360)\n",
      "2022-09-07 20:06:09 - Precision with Cosine-Similarity:          81.25\n",
      "2022-09-07 20:06:09 - Recall with Cosine-Similarity:             93.04\n",
      "2022-09-07 20:06:09 - Average Precision with Cosine-Similarity:  92.25\n",
      "\n",
      "2022-09-07 20:06:09 - Accuracy with Manhattan-Distance:           80.30\t(Threshold: 359.6782)\n",
      "2022-09-07 20:06:09 - F1 with Manhattan-Distance:                 85.66\t(Threshold: 381.6302)\n",
      "2022-09-07 20:06:09 - Precision with Manhattan-Distance:          78.80\n",
      "2022-09-07 20:06:09 - Recall with Manhattan-Distance:             93.84\n",
      "2022-09-07 20:06:09 - Average Precision with Manhattan-Distance:  91.78\n",
      "\n",
      "2022-09-07 20:06:09 - Accuracy with Euclidean-Distance:           80.67\t(Threshold: 17.7189)\n",
      "2022-09-07 20:06:09 - F1 with Euclidean-Distance:                 85.95\t(Threshold: 17.7750)\n",
      "2022-09-07 20:06:09 - Precision with Euclidean-Distance:          79.00\n",
      "2022-09-07 20:06:09 - Recall with Euclidean-Distance:             94.23\n",
      "2022-09-07 20:06:09 - Average Precision with Euclidean-Distance:  91.81\n",
      "\n",
      "2022-09-07 20:06:09 - Accuracy with Dot-Product:           82.29\t(Threshold: 74.5238)\n",
      "2022-09-07 20:06:09 - F1 with Dot-Product:                 86.85\t(Threshold: 70.2644)\n",
      "2022-09-07 20:06:09 - Precision with Dot-Product:          81.28\n",
      "2022-09-07 20:06:09 - Recall with Dot-Product:             93.24\n",
      "2022-09-07 20:06:09 - Average Precision with Dot-Product:  92.06\n",
      "\n"
     ]
    },
    {
     "data": {
      "text/plain": [
       "0.9225357111916996"
      ]
     },
     "execution_count": 114,
     "metadata": {},
     "output_type": "execute_result"
    }
   ],
   "source": [
    "\n",
    "st_model = 'sentence-transformers/quora-distilbert-base'\n",
    "num_epochs = 10\n",
    "batch_size=16\n",
    "model_save_path = \"binary_sim_output/\"+st_model\n",
    "train_dataloader = DataLoader(train_examples, shuffle=True, batch_size=batch_size)\n",
    "  \n",
    "test_dataloader = DataLoader(test_examples, shuffle=True, batch_size=batch_size)\n",
    "model = train_and_evaluate(st_model, train_dataloader, test_dataloader, num_epochs, model_save_path)\n",
    "print(\"\\n\\n\")\n",
    "print(\" \"*20, \"*\"*10, st_model , \"*\"*10)\n",
    "\n",
    "# Load the stored model and evaluate its performance on mohler test dataset\n",
    "model = SentenceTransformer(model_save_path)\n",
    "train_loss = losses.SoftmaxLoss(model=model, sentence_embedding_dimension=model.get_sentence_embedding_dimension(), num_labels=2)\n",
    "test_evaluator = evaluation.EmbeddingSimilarityEvaluator.from_input_examples(test_examples, batch_size=16, name='SPRAG-test')\n",
    "test_evaluator(model, output_path=model_save_path)\n",
    "train_loss.cuda()\n",
    "\n",
    "x_test_dA = test_data['ReferenceAnswer'].values.tolist()\n",
    "x_test_sA = test_data['StudentAnswer'].values.tolist()\n",
    "y_test = test_labels \n",
    "\n",
    "evaluator = evaluation.BinaryClassificationEvaluator(x_test_dA, x_test_sA, y_test)\n",
    "evaluator(model, output_path=model_save_path)\n"
   ]
  },
  {
   "cell_type": "code",
   "execution_count": 115,
   "id": "2b4f91ba",
   "metadata": {},
   "outputs": [
    {
     "data": {
      "application/vnd.jupyter.widget-view+json": {
       "model_id": "af118914acd544dcb6c5a744552342f3",
       "version_major": 2,
       "version_minor": 0
      },
      "text/plain": [
       "Batches:   0%|          | 0/1 [00:00<?, ?it/s]"
      ]
     },
     "metadata": {},
     "output_type": "display_data"
    },
    {
     "data": {
      "application/vnd.jupyter.widget-view+json": {
       "model_id": "0fa0c22d58f3423caef245065c6d0140",
       "version_major": 2,
       "version_minor": 0
      },
      "text/plain": [
       "Batches:   0%|          | 0/1 [00:00<?, ?it/s]"
      ]
     },
     "metadata": {},
     "output_type": "display_data"
    },
    {
     "data": {
      "text/plain": [
       "(768,)"
      ]
     },
     "execution_count": 115,
     "metadata": {},
     "output_type": "execute_result"
    }
   ],
   "source": [
    "#Our sentences we like to encode\n",
    "s1 = model.encode(\"Python is an object oriented programming language\")\n",
    "s2 = model.encode(\"java is an oop language\")\n",
    "\n",
    "s1.shape"
   ]
  },
  {
   "cell_type": "markdown",
   "id": "0667637a",
   "metadata": {},
   "source": []
  },
  {
   "cell_type": "code",
   "execution_count": 116,
   "id": "0c3ebdfe",
   "metadata": {},
   "outputs": [
    {
     "data": {
      "text/plain": [
       "tensor([[0.2985]])"
      ]
     },
     "execution_count": 116,
     "metadata": {},
     "output_type": "execute_result"
    }
   ],
   "source": [
    "#Compute cosine similarity between all pairs\n",
    "from sentence_transformers import util\n",
    "cos_sim = util.cos_sim(s1, s2)\n",
    "cos_sim"
   ]
  },
  {
   "cell_type": "code",
   "execution_count": null,
   "id": "f3185216",
   "metadata": {},
   "outputs": [],
   "source": []
  },
  {
   "cell_type": "code",
   "execution_count": null,
   "id": "a736394c",
   "metadata": {},
   "outputs": [],
   "source": []
  }
 ],
 "metadata": {
  "kernelspec": {
   "display_name": "Python 3 (ipykernel)",
   "language": "python",
   "name": "python3"
  },
  "language_info": {
   "codemirror_mode": {
    "name": "ipython",
    "version": 3
   },
   "file_extension": ".py",
   "mimetype": "text/x-python",
   "name": "python",
   "nbconvert_exporter": "python",
   "pygments_lexer": "ipython3",
   "version": "3.9.7"
  }
 },
 "nbformat": 4,
 "nbformat_minor": 5
}
