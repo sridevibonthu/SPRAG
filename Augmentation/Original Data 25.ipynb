{
 "cells": [
  {
   "cell_type": "code",
   "execution_count": 1,
   "id": "d81ecea5",
   "metadata": {},
   "outputs": [
    {
     "name": "stdout",
     "output_type": "stream",
     "text": [
      "Defaulting to user installation because normal site-packages is not writeable\n",
      "Requirement already satisfied: sentence-transformers in /home/jupyter-vit_sridevi/.local/lib/python3.9/site-packages (2.2.2)\n",
      "Requirement already satisfied: numpy in /opt/tljh/user/lib/python3.9/site-packages (from sentence-transformers) (1.22.3)\n",
      "Requirement already satisfied: tqdm in /opt/tljh/user/lib/python3.9/site-packages (from sentence-transformers) (4.62.3)\n",
      "Requirement already satisfied: scikit-learn in /home/jupyter-vit_sridevi/.local/lib/python3.9/site-packages (from sentence-transformers) (1.1.1)\n",
      "Requirement already satisfied: sentencepiece in /home/jupyter-vit_sridevi/.local/lib/python3.9/site-packages (from sentence-transformers) (0.1.96)\n",
      "Requirement already satisfied: scipy in /home/jupyter-vit_sridevi/.local/lib/python3.9/site-packages (from sentence-transformers) (1.8.1)\n",
      "Requirement already satisfied: nltk in /home/jupyter-vit_sridevi/.local/lib/python3.9/site-packages (from sentence-transformers) (3.7)\n",
      "Requirement already satisfied: huggingface-hub>=0.4.0 in /home/jupyter-vit_sridevi/.local/lib/python3.9/site-packages (from sentence-transformers) (0.8.1)\n",
      "Requirement already satisfied: torchvision in /home/jupyter-vit_sridevi/.local/lib/python3.9/site-packages (from sentence-transformers) (0.13.0)\n",
      "Requirement already satisfied: transformers<5.0.0,>=4.6.0 in /home/jupyter-vit_sridevi/.local/lib/python3.9/site-packages (from sentence-transformers) (4.20.1)\n",
      "Requirement already satisfied: torch>=1.6.0 in /home/jupyter-vit_sridevi/.local/lib/python3.9/site-packages (from sentence-transformers) (1.12.0)\n",
      "Requirement already satisfied: pyyaml>=5.1 in /home/jupyter-vit_sridevi/.local/lib/python3.9/site-packages (from huggingface-hub>=0.4.0->sentence-transformers) (6.0)\n",
      "Requirement already satisfied: typing-extensions>=3.7.4.3 in /home/jupyter-vit_sridevi/.local/lib/python3.9/site-packages (from huggingface-hub>=0.4.0->sentence-transformers) (4.3.0)\n",
      "Requirement already satisfied: packaging>=20.9 in /opt/tljh/user/lib/python3.9/site-packages (from huggingface-hub>=0.4.0->sentence-transformers) (21.3)\n",
      "Requirement already satisfied: requests in /opt/tljh/user/lib/python3.9/site-packages (from huggingface-hub>=0.4.0->sentence-transformers) (2.26.0)\n",
      "Requirement already satisfied: filelock in /home/jupyter-vit_sridevi/.local/lib/python3.9/site-packages (from huggingface-hub>=0.4.0->sentence-transformers) (3.7.1)\n",
      "Requirement already satisfied: regex!=2019.12.17 in /home/jupyter-vit_sridevi/.local/lib/python3.9/site-packages (from transformers<5.0.0,>=4.6.0->sentence-transformers) (2022.7.9)\n",
      "Requirement already satisfied: tokenizers!=0.11.3,<0.13,>=0.11.1 in /home/jupyter-vit_sridevi/.local/lib/python3.9/site-packages (from transformers<5.0.0,>=4.6.0->sentence-transformers) (0.12.1)\n",
      "Requirement already satisfied: click in /home/jupyter-vit_sridevi/.local/lib/python3.9/site-packages (from nltk->sentence-transformers) (8.1.3)\n",
      "Requirement already satisfied: joblib in /home/jupyter-vit_sridevi/.local/lib/python3.9/site-packages (from nltk->sentence-transformers) (1.1.0)\n",
      "Requirement already satisfied: threadpoolctl>=2.0.0 in /home/jupyter-vit_sridevi/.local/lib/python3.9/site-packages (from scikit-learn->sentence-transformers) (3.1.0)\n",
      "Requirement already satisfied: pillow!=8.3.*,>=5.3.0 in /home/jupyter-vit_sridevi/.local/lib/python3.9/site-packages (from torchvision->sentence-transformers) (9.2.0)\n",
      "Requirement already satisfied: pyparsing!=3.0.5,>=2.0.2 in /opt/tljh/user/lib/python3.9/site-packages (from packaging>=20.9->huggingface-hub>=0.4.0->sentence-transformers) (3.0.9)\n",
      "Requirement already satisfied: urllib3<1.27,>=1.21.1 in /opt/tljh/user/lib/python3.9/site-packages (from requests->huggingface-hub>=0.4.0->sentence-transformers) (1.26.7)\n",
      "Requirement already satisfied: idna<4,>=2.5 in /opt/tljh/user/lib/python3.9/site-packages (from requests->huggingface-hub>=0.4.0->sentence-transformers) (3.1)\n",
      "Requirement already satisfied: certifi>=2017.4.17 in /opt/tljh/user/lib/python3.9/site-packages (from requests->huggingface-hub>=0.4.0->sentence-transformers) (2021.10.8)\n",
      "Requirement already satisfied: charset-normalizer~=2.0.0 in /opt/tljh/user/lib/python3.9/site-packages (from requests->huggingface-hub>=0.4.0->sentence-transformers) (2.0.0)\n",
      "Defaulting to user installation because normal site-packages is not writeable\n",
      "Requirement already satisfied: pandas in /home/jupyter-vit_sridevi/.local/lib/python3.9/site-packages (1.4.3)\n",
      "Requirement already satisfied: pytz>=2020.1 in /opt/tljh/user/lib/python3.9/site-packages (from pandas) (2022.1)\n",
      "Requirement already satisfied: numpy>=1.18.5 in /opt/tljh/user/lib/python3.9/site-packages (from pandas) (1.22.3)\n",
      "Requirement already satisfied: python-dateutil>=2.8.1 in /opt/tljh/user/lib/python3.9/site-packages (from pandas) (2.8.2)\n",
      "Requirement already satisfied: six>=1.5 in /opt/tljh/user/lib/python3.9/site-packages (from python-dateutil>=2.8.1->pandas) (1.16.0)\n"
     ]
    }
   ],
   "source": [
    "!pip install sentence-transformers\n",
    "!pip install pandas"
   ]
  },
  {
   "cell_type": "code",
   "execution_count": 2,
   "id": "c445cdaf",
   "metadata": {},
   "outputs": [],
   "source": [
    "\n",
    "\n",
    "from sklearn.metrics import accuracy_score, f1_score\n",
    "from sklearn.linear_model import LogisticRegression\n",
    "from sentence_transformers import SentenceTransformer, InputExample, losses, models, datasets, evaluation\n",
    "from torch.utils.data import DataLoader\n",
    "\n",
    "from sklearn.manifold import TSNE\n",
    "from matplotlib import pyplot as plt\n",
    "\n",
    "# import warnings filter\n",
    "from warnings import simplefilter\n",
    "# ignore all future warnings\n",
    "simplefilter(action='ignore', category=FutureWarning)\n",
    "\n",
    "import pandas as pd\n",
    "import numpy as np\n",
    "\n",
    "import torch\n",
    "import random\n",
    "import torch\n",
    "\n",
    "def set_seed(seed):\n",
    "  random.seed(seed)\n",
    "  np.random.seed(seed)\n",
    "  torch.manual_seed(seed)"
   ]
  },
  {
   "cell_type": "code",
   "execution_count": 3,
   "id": "14c99818",
   "metadata": {},
   "outputs": [
    {
     "data": {
      "text/html": [
       "<div>\n",
       "<style scoped>\n",
       "    .dataframe tbody tr th:only-of-type {\n",
       "        vertical-align: middle;\n",
       "    }\n",
       "\n",
       "    .dataframe tbody tr th {\n",
       "        vertical-align: top;\n",
       "    }\n",
       "\n",
       "    .dataframe thead th {\n",
       "        text-align: right;\n",
       "    }\n",
       "</style>\n",
       "<table border=\"1\" class=\"dataframe\">\n",
       "  <thead>\n",
       "    <tr style=\"text-align: right;\">\n",
       "      <th></th>\n",
       "      <th>Unnamed: 0</th>\n",
       "      <th>QuestionID</th>\n",
       "      <th>ReferenceAnswer</th>\n",
       "      <th>StudentAnswer</th>\n",
       "      <th>Score1</th>\n",
       "      <th>Score2</th>\n",
       "      <th>avg_score</th>\n",
       "      <th>max_score</th>\n",
       "    </tr>\n",
       "  </thead>\n",
       "  <tbody>\n",
       "    <tr>\n",
       "      <th>0</th>\n",
       "      <td>0.0</td>\n",
       "      <td>PythonQ001</td>\n",
       "      <td>List, Set and Dictionary are mutable data stru...</td>\n",
       "      <td>Tha object structures which can be changeable ...</td>\n",
       "      <td>1.0</td>\n",
       "      <td>0.0</td>\n",
       "      <td>0.5</td>\n",
       "      <td>1.0</td>\n",
       "    </tr>\n",
       "    <tr>\n",
       "      <th>1</th>\n",
       "      <td>1.0</td>\n",
       "      <td>PythonQ001</td>\n",
       "      <td>List, Set and Dictionary are mutable data stru...</td>\n",
       "      <td>Tuple</td>\n",
       "      <td>0.0</td>\n",
       "      <td>0.0</td>\n",
       "      <td>0.0</td>\n",
       "      <td>0.0</td>\n",
       "    </tr>\n",
       "  </tbody>\n",
       "</table>\n",
       "</div>"
      ],
      "text/plain": [
       "   Unnamed: 0  QuestionID                                    ReferenceAnswer  \\\n",
       "0         0.0  PythonQ001  List, Set and Dictionary are mutable data stru...   \n",
       "1         1.0  PythonQ001  List, Set and Dictionary are mutable data stru...   \n",
       "\n",
       "                                       StudentAnswer  Score1  Score2  \\\n",
       "0  Tha object structures which can be changeable ...     1.0     0.0   \n",
       "1                                              Tuple     0.0     0.0   \n",
       "\n",
       "   avg_score  max_score  \n",
       "0        0.5        1.0  \n",
       "1        0.0        0.0  "
      ]
     },
     "execution_count": 3,
     "metadata": {},
     "output_type": "execute_result"
    }
   ],
   "source": [
    "#Load the sprag dataset\n",
    "data = pd.read_csv(\"refstdcombined.csv\")\n",
    "data.head(2)"
   ]
  },
  {
   "cell_type": "code",
   "execution_count": 4,
   "id": "c830d9ed",
   "metadata": {},
   "outputs": [],
   "source": [
    "data['bin_score'] = data.apply(lambda row : 1 if row.avg_score>=3 else 0, axis=1)"
   ]
  },
  {
   "cell_type": "code",
   "execution_count": 5,
   "id": "fb65373f",
   "metadata": {},
   "outputs": [
    {
     "data": {
      "text/html": [
       "<div>\n",
       "<style scoped>\n",
       "    .dataframe tbody tr th:only-of-type {\n",
       "        vertical-align: middle;\n",
       "    }\n",
       "\n",
       "    .dataframe tbody tr th {\n",
       "        vertical-align: top;\n",
       "    }\n",
       "\n",
       "    .dataframe thead th {\n",
       "        text-align: right;\n",
       "    }\n",
       "</style>\n",
       "<table border=\"1\" class=\"dataframe\">\n",
       "  <thead>\n",
       "    <tr style=\"text-align: right;\">\n",
       "      <th></th>\n",
       "      <th>Unnamed: 0</th>\n",
       "      <th>QuestionID</th>\n",
       "      <th>ReferenceAnswer</th>\n",
       "      <th>StudentAnswer</th>\n",
       "      <th>Score1</th>\n",
       "      <th>Score2</th>\n",
       "      <th>avg_score</th>\n",
       "      <th>max_score</th>\n",
       "      <th>bin_score</th>\n",
       "    </tr>\n",
       "  </thead>\n",
       "  <tbody>\n",
       "    <tr>\n",
       "      <th>0</th>\n",
       "      <td>0.0</td>\n",
       "      <td>PythonQ001</td>\n",
       "      <td>List, Set and Dictionary are mutable data stru...</td>\n",
       "      <td>Tha object structures which can be changeable ...</td>\n",
       "      <td>1.0</td>\n",
       "      <td>0.0</td>\n",
       "      <td>0.5</td>\n",
       "      <td>1.0</td>\n",
       "      <td>0</td>\n",
       "    </tr>\n",
       "    <tr>\n",
       "      <th>1</th>\n",
       "      <td>1.0</td>\n",
       "      <td>PythonQ001</td>\n",
       "      <td>List, Set and Dictionary are mutable data stru...</td>\n",
       "      <td>Tuple</td>\n",
       "      <td>0.0</td>\n",
       "      <td>0.0</td>\n",
       "      <td>0.0</td>\n",
       "      <td>0.0</td>\n",
       "      <td>0</td>\n",
       "    </tr>\n",
       "  </tbody>\n",
       "</table>\n",
       "</div>"
      ],
      "text/plain": [
       "   Unnamed: 0  QuestionID                                    ReferenceAnswer  \\\n",
       "0         0.0  PythonQ001  List, Set and Dictionary are mutable data stru...   \n",
       "1         1.0  PythonQ001  List, Set and Dictionary are mutable data stru...   \n",
       "\n",
       "                                       StudentAnswer  Score1  Score2  \\\n",
       "0  Tha object structures which can be changeable ...     1.0     0.0   \n",
       "1                                              Tuple     0.0     0.0   \n",
       "\n",
       "   avg_score  max_score  bin_score  \n",
       "0        0.5        1.0          0  \n",
       "1        0.0        0.0          0  "
      ]
     },
     "execution_count": 5,
     "metadata": {},
     "output_type": "execute_result"
    }
   ],
   "source": [
    "data.head(2)"
   ]
  },
  {
   "cell_type": "code",
   "execution_count": 6,
   "id": "ac3fd9e5",
   "metadata": {},
   "outputs": [],
   "source": [
    "data = data.dropna()"
   ]
  },
  {
   "cell_type": "code",
   "execution_count": 7,
   "id": "c209e2dd",
   "metadata": {},
   "outputs": [
    {
     "data": {
      "image/png": "[encoded data removed]",
      "text/plain": [
       "<Figure size 432x288 with 1 Axes>"
      ]
     },
     "metadata": {
      "needs_background": "light"
     },
     "output_type": "display_data"
    }
   ],
   "source": [
    "data['bin_score'].value_counts(normalize=True).plot(kind='bar');"
   ]
  },
  {
   "cell_type": "code",
   "execution_count": 8,
   "id": "59468089",
   "metadata": {},
   "outputs": [],
   "source": [
    "#### Just some code to print debug information to stdout\n",
    "import logging\n",
    "from sentence_transformers import LoggingHandler\n",
    "logging.basicConfig(format='%(asctime)s - %(message)s',\n",
    "                    datefmt='%Y-%m-%d %H:%M:%S',\n",
    "                    level=logging.INFO,\n",
    "                    handlers=[LoggingHandler()])"
   ]
  },
  {
   "cell_type": "code",
   "execution_count": 9,
   "id": "088b0996",
   "metadata": {},
   "outputs": [],
   "source": [
    "from sklearn.model_selection import train_test_split\n",
    "\n",
    "# Storing labels in array\n",
    "labels = data['bin_score'].values\n",
    "\n",
    "# Dropping labels column from data\n",
    "data = data.drop(['bin_score'], axis=1)\n",
    "\n",
    "# Splitting data into train and test sets in a 70/30 ratio\n",
    "train_data, test_data, train_labels, test_labels = train_test_split(data, labels, stratify=labels, random_state=42, test_size=0.2)"
   ]
  },
  {
   "cell_type": "code",
   "execution_count": 10,
   "id": "6c00c606",
   "metadata": {},
   "outputs": [
    {
     "data": {
      "text/plain": [
       "(802.0, numpy.ndarray, (3208,))"
      ]
     },
     "execution_count": 10,
     "metadata": {},
     "output_type": "execute_result"
    }
   ],
   "source": [
    "len(train_data)*0.25, type(train_labels), train_labels.shape\n"
   ]
  },
  {
   "cell_type": "code",
   "execution_count": 11,
   "id": "32056e86",
   "metadata": {},
   "outputs": [],
   "source": [
    "train_data = train_data.iloc[0:802]\n",
    "train_labels = train_labels[0:802]"
   ]
  },
  {
   "cell_type": "code",
   "execution_count": 12,
   "id": "94b443ed",
   "metadata": {},
   "outputs": [
    {
     "data": {
      "text/plain": [
       "(pandas.core.frame.DataFrame, numpy.ndarray, 802, 802)"
      ]
     },
     "execution_count": 12,
     "metadata": {},
     "output_type": "execute_result"
    }
   ],
   "source": [
    "type(train_data), type(train_labels), len(train_data), len(train_labels)"
   ]
  },
  {
   "cell_type": "code",
   "execution_count": 13,
   "id": "43744dab",
   "metadata": {},
   "outputs": [],
   "source": [
    "def sentence_pairs_generation(sentence1, sentence2, labels, pairs):\n",
    "\t# initialize two empty lists to hold the (sentence, sentence) pairs and\n",
    "\t# labels to indicate if the grade of the pair\n",
    "\n",
    "  numClassesList = np.unique(labels)\n",
    "  #print(numClassesList)\n",
    "  idx = [np.where(labels == i)[0] for i in numClassesList]\n",
    "  #print(idx)\n",
    "\n",
    "  for idxA in range(len(sentence1)):      \n",
    "    dAns = sentence1[idxA]\n",
    "    sAns = sentence2[idxA]\n",
    "    label = int(labels[idxA])\n",
    "    \n",
    "\t\t  # prepare a pair and update the sentences and labels lists, respectively\n",
    "    pairs.append(InputExample(texts=[dAns, sAns], label=label))\n",
    "\n",
    "     \n",
    "\t# return a 2-tuple of our image pairs and labels\n",
    "  return (pairs)"
   ]
  },
  {
   "cell_type": "code",
   "execution_count": 14,
   "id": "73812285",
   "metadata": {},
   "outputs": [],
   "source": [
    "set_seed(0)\n",
    "# Equal samples per class training\n",
    "#train_df_sample = pd.concat([train_df[train_df[1]==0].sample(num_training), train_df[train_df[1]==1].sample(num_training)])\n",
    "x_train_dA = train_data['ReferenceAnswer'].values.tolist()\n",
    "x_train_sA = train_data['StudentAnswer'].values.tolist()\n",
    "y_train = train_labels.tolist()\n",
    "y_train = [int(x) for x in y_train]"
   ]
  },
  {
   "cell_type": "code",
   "execution_count": 15,
   "id": "61fd6221",
   "metadata": {},
   "outputs": [],
   "source": [
    "#use test dataset as dev dataset\n",
    "x_test_dA = test_data['ReferenceAnswer'].values.tolist()\n",
    "x_test_sA = test_data['StudentAnswer'].values.tolist()\n",
    "y_test = test_labels / 1.0\n",
    "y_test = test_labels.tolist()\n",
    "#y_test = [int(x) for x in y_test]\n",
    "\n",
    "test_examples = [] \n",
    "test_examples = sentence_pairs_generation(np.array(x_test_dA), np.array(x_test_sA), np.array(y_test), test_examples)"
   ]
  },
  {
   "cell_type": "code",
   "execution_count": 16,
   "id": "6049c777",
   "metadata": {},
   "outputs": [],
   "source": [
    "train_examples = [] \n",
    "train_examples = sentence_pairs_generation(np.array(x_train_dA), np.array(x_train_sA), np.array(y_train), train_examples)"
   ]
  },
  {
   "cell_type": "code",
   "execution_count": 17,
   "id": "5bef49b2",
   "metadata": {},
   "outputs": [],
   "source": [
    "# Save path of the model\n",
    "from datetime import datetime\n",
    "model_save_path = 'output/training_sprag_v4_'+datetime.now().strftime(\"%Y-%m-%d_%H-%M-%S\")"
   ]
  },
  {
   "cell_type": "code",
   "execution_count": 18,
   "id": "cad4f826",
   "metadata": {},
   "outputs": [],
   "source": [
    "from sentence_transformers import evaluation\n",
    "import math\n",
    "\n",
    "\n",
    "def train_and_evaluate(st_model, train_dataloader, test_dataloader, num_epochs,model_save_path):\n",
    "  model = SentenceTransformer(st_model)\n",
    "  #for evaluation\n",
    "  train_loss = losses.SoftmaxLoss(model=model, sentence_embedding_dimension=model.get_sentence_embedding_dimension(), num_labels=2)\n",
    "  #test_evaluator = evaluation.EmbeddingSimilarityEvaluator.from_input_examples(test_examples, batch_size=16, name='SPRAG-test')\n",
    "  x_test_dA = test_data['ReferenceAnswer'].values.tolist()\n",
    "  x_test_sA = test_data['StudentAnswer'].values.tolist()\n",
    "  y_test = test_labels \n",
    "\n",
    "  evaluator = evaluation.BinaryClassificationEvaluator(x_test_dA, x_test_sA, y_test)\n",
    "\n",
    "  #configuring the training\n",
    "  warmup_steps = math.ceil(len(train_dataloader) * num_epochs * 0.1) #10% of train data for warm-up\n",
    "  print(warmup_steps)\n",
    "  #train_loss = losses.CosineSimilarityLoss(model)\n",
    "  model.fit(train_objectives=[(train_dataloader, train_loss)],\n",
    "          evaluator=evaluator,\n",
    "          epochs=num_epochs,\n",
    "          warmup_steps=warmup_steps,\n",
    "          show_progress_bar=True,  \n",
    "          #evaluation_steps=50, \n",
    "          output_path=model_save_path,)\n",
    "  print(\"Training done...\")"
   ]
  },
  {
   "cell_type": "code",
   "execution_count": 19,
   "id": "4d6a71e0",
   "metadata": {},
   "outputs": [
    {
     "name": "stdout",
     "output_type": "stream",
     "text": [
      "2022-09-06 22:05:10 - Load pretrained SentenceTransformer: stsb-distilbert-base\n",
      "2022-09-06 22:05:11 - Use pytorch device: cuda\n",
      "2022-09-06 22:05:11 - Softmax loss: #Vectors concatenated: 3\n",
      "51\n"
     ]
    },
    {
     "data": {
      "application/vnd.jupyter.widget-view+json": {
       "model_id": "1ae57d4d751447e7a000964df9aafb03",
       "version_major": 2,
       "version_minor": 0
      },
      "text/plain": [
       "Epoch:   0%|          | 0/10 [00:00<?, ?it/s]"
      ]
     },
     "metadata": {},
     "output_type": "display_data"
    },
    {
     "data": {
      "application/vnd.jupyter.widget-view+json": {
       "model_id": "1c9dc36dd4dd46b1976d37b247f78821",
       "version_major": 2,
       "version_minor": 0
      },
      "text/plain": [
       "Iteration:   0%|          | 0/51 [00:00<?, ?it/s]"
      ]
     },
     "metadata": {},
     "output_type": "display_data"
    },
    {
     "name": "stdout",
     "output_type": "stream",
     "text": [
      "2022-09-06 22:05:18 - Binary Accuracy Evaluation of the model on  dataset after epoch 0:\n",
      "2022-09-06 22:05:19 - Accuracy with Cosine-Similarity:           73.94\t(Threshold: 0.4318)\n",
      "2022-09-06 22:05:19 - F1 with Cosine-Similarity:                 81.62\t(Threshold: 0.4071)\n",
      "2022-09-06 22:05:19 - Precision with Cosine-Similarity:          73.19\n",
      "2022-09-06 22:05:19 - Recall with Cosine-Similarity:             92.25\n",
      "2022-09-06 22:05:19 - Average Precision with Cosine-Similarity:  86.91\n",
      "\n",
      "2022-09-06 22:05:19 - Accuracy with Manhattan-Distance:           74.19\t(Threshold: 349.6080)\n",
      "2022-09-06 22:05:19 - F1 with Manhattan-Distance:                 82.04\t(Threshold: 371.3835)\n",
      "2022-09-06 22:05:19 - Precision with Manhattan-Distance:          72.52\n",
      "2022-09-06 22:05:19 - Recall with Manhattan-Distance:             94.43\n",
      "2022-09-06 22:05:19 - Average Precision with Manhattan-Distance:  87.45\n",
      "\n",
      "2022-09-06 22:05:19 - Accuracy with Euclidean-Distance:           74.31\t(Threshold: 15.8637)\n",
      "2022-09-06 22:05:19 - F1 with Euclidean-Distance:                 81.59\t(Threshold: 16.9544)\n",
      "2022-09-06 22:05:19 - Precision with Euclidean-Distance:          72.17\n",
      "2022-09-06 22:05:19 - Recall with Euclidean-Distance:             93.84\n",
      "2022-09-06 22:05:19 - Average Precision with Euclidean-Distance:  87.50\n",
      "\n",
      "2022-09-06 22:05:19 - Accuracy with Dot-Product:           73.19\t(Threshold: 83.0682)\n",
      "2022-09-06 22:05:19 - F1 with Dot-Product:                 81.70\t(Threshold: 83.0682)\n",
      "2022-09-06 22:05:19 - Precision with Dot-Product:          71.43\n",
      "2022-09-06 22:05:19 - Recall with Dot-Product:             95.43\n",
      "2022-09-06 22:05:19 - Average Precision with Dot-Product:  84.79\n",
      "\n",
      "2022-09-06 22:05:19 - Save model to binary_sim_output/stsb-distilbert-base\n"
     ]
    },
    {
     "data": {
      "application/vnd.jupyter.widget-view+json": {
       "model_id": "454143e5ee064005bc2a52c19add22c1",
       "version_major": 2,
       "version_minor": 0
      },
      "text/plain": [
       "Iteration:   0%|          | 0/51 [00:00<?, ?it/s]"
      ]
     },
     "metadata": {},
     "output_type": "display_data"
    },
    {
     "name": "stdout",
     "output_type": "stream",
     "text": [
      "2022-09-06 22:05:23 - Binary Accuracy Evaluation of the model on  dataset after epoch 1:\n",
      "2022-09-06 22:05:24 - Accuracy with Cosine-Similarity:           76.81\t(Threshold: 0.4361)\n",
      "2022-09-06 22:05:24 - F1 with Cosine-Similarity:                 82.99\t(Threshold: 0.2772)\n",
      "2022-09-06 22:05:24 - Precision with Cosine-Similarity:          72.51\n",
      "2022-09-06 22:05:24 - Recall with Cosine-Similarity:             97.02\n",
      "2022-09-06 22:05:24 - Average Precision with Cosine-Similarity:  88.96\n",
      "\n",
      "2022-09-06 22:05:24 - Accuracy with Manhattan-Distance:           76.43\t(Threshold: 351.5850)\n",
      "2022-09-06 22:05:24 - F1 with Manhattan-Distance:                 83.19\t(Threshold: 405.3092)\n",
      "2022-09-06 22:05:24 - Precision with Manhattan-Distance:          73.73\n",
      "2022-09-06 22:05:24 - Recall with Manhattan-Distance:             95.43\n",
      "2022-09-06 22:05:24 - Average Precision with Manhattan-Distance:  89.17\n",
      "\n",
      "2022-09-06 22:05:24 - Accuracy with Euclidean-Distance:           76.68\t(Threshold: 16.4800)\n",
      "2022-09-06 22:05:24 - F1 with Euclidean-Distance:                 83.58\t(Threshold: 18.1963)\n",
      "2022-09-06 22:05:24 - Precision with Euclidean-Distance:          74.84\n",
      "2022-09-06 22:05:24 - Recall with Euclidean-Distance:             94.63\n",
      "2022-09-06 22:05:24 - Average Precision with Euclidean-Distance:  89.21\n",
      "\n",
      "2022-09-06 22:05:24 - Accuracy with Dot-Product:           76.31\t(Threshold: 110.9822)\n",
      "2022-09-06 22:05:24 - F1 with Dot-Product:                 82.96\t(Threshold: 68.5337)\n",
      "2022-09-06 22:05:24 - Precision with Dot-Product:          72.58\n",
      "2022-09-06 22:05:24 - Recall with Dot-Product:             96.82\n",
      "2022-09-06 22:05:24 - Average Precision with Dot-Product:  87.97\n",
      "\n",
      "2022-09-06 22:05:24 - Save model to binary_sim_output/stsb-distilbert-base\n"
     ]
    },
    {
     "data": {
      "application/vnd.jupyter.widget-view+json": {
       "model_id": "100dd250d2dd4f9bad20545e1f471a74",
       "version_major": 2,
       "version_minor": 0
      },
      "text/plain": [
       "Iteration:   0%|          | 0/51 [00:00<?, ?it/s]"
      ]
     },
     "metadata": {},
     "output_type": "display_data"
    },
    {
     "name": "stdout",
     "output_type": "stream",
     "text": [
      "2022-09-06 22:05:29 - Binary Accuracy Evaluation of the model on  dataset after epoch 2:\n",
      "2022-09-06 22:05:29 - Accuracy with Cosine-Similarity:           78.30\t(Threshold: 0.3507)\n",
      "2022-09-06 22:05:29 - F1 with Cosine-Similarity:                 83.96\t(Threshold: 0.3054)\n",
      "2022-09-06 22:05:29 - Precision with Cosine-Similarity:          76.77\n",
      "2022-09-06 22:05:29 - Recall with Cosine-Similarity:             92.64\n",
      "2022-09-06 22:05:29 - Average Precision with Cosine-Similarity:  90.02\n",
      "\n",
      "2022-09-06 22:05:29 - Accuracy with Manhattan-Distance:           78.55\t(Threshold: 394.9673)\n",
      "2022-09-06 22:05:29 - F1 with Manhattan-Distance:                 84.01\t(Threshold: 396.2942)\n",
      "2022-09-06 22:05:29 - Precision with Manhattan-Distance:          78.88\n",
      "2022-09-06 22:05:29 - Recall with Manhattan-Distance:             89.86\n",
      "2022-09-06 22:05:29 - Average Precision with Manhattan-Distance:  90.16\n",
      "\n",
      "2022-09-06 22:05:29 - Accuracy with Euclidean-Distance:           78.43\t(Threshold: 17.5156)\n",
      "2022-09-06 22:05:29 - F1 with Euclidean-Distance:                 83.91\t(Threshold: 18.8816)\n",
      "2022-09-06 22:05:29 - Precision with Euclidean-Distance:          75.88\n",
      "2022-09-06 22:05:29 - Recall with Euclidean-Distance:             93.84\n",
      "2022-09-06 22:05:29 - Average Precision with Euclidean-Distance:  90.19\n",
      "\n",
      "2022-09-06 22:05:29 - Accuracy with Dot-Product:           77.81\t(Threshold: 76.5405)\n",
      "2022-09-06 22:05:29 - F1 with Dot-Product:                 83.88\t(Threshold: 76.5405)\n",
      "2022-09-06 22:05:29 - Precision with Dot-Product:          77.04\n",
      "2022-09-06 22:05:29 - Recall with Dot-Product:             92.05\n",
      "2022-09-06 22:05:29 - Average Precision with Dot-Product:  89.54\n",
      "\n",
      "2022-09-06 22:05:29 - Save model to binary_sim_output/stsb-distilbert-base\n"
     ]
    },
    {
     "data": {
      "application/vnd.jupyter.widget-view+json": {
       "model_id": "dbc70c476d544109918892c0308897d0",
       "version_major": 2,
       "version_minor": 0
      },
      "text/plain": [
       "Iteration:   0%|          | 0/51 [00:00<?, ?it/s]"
      ]
     },
     "metadata": {},
     "output_type": "display_data"
    },
    {
     "name": "stdout",
     "output_type": "stream",
     "text": [
      "2022-09-06 22:05:34 - Binary Accuracy Evaluation of the model on  dataset after epoch 3:\n",
      "2022-09-06 22:05:34 - Accuracy with Cosine-Similarity:           77.68\t(Threshold: 0.3085)\n",
      "2022-09-06 22:05:34 - F1 with Cosine-Similarity:                 83.83\t(Threshold: 0.1504)\n",
      "2022-09-06 22:05:34 - Precision with Cosine-Similarity:          73.57\n",
      "2022-09-06 22:05:34 - Recall with Cosine-Similarity:             97.42\n",
      "2022-09-06 22:05:34 - Average Precision with Cosine-Similarity:  90.11\n",
      "\n",
      "2022-09-06 22:05:34 - Accuracy with Manhattan-Distance:           78.30\t(Threshold: 410.0159)\n",
      "2022-09-06 22:05:34 - F1 with Manhattan-Distance:                 83.90\t(Threshold: 460.0889)\n",
      "2022-09-06 22:05:34 - Precision with Manhattan-Distance:          73.68\n",
      "2022-09-06 22:05:34 - Recall with Manhattan-Distance:             97.42\n",
      "2022-09-06 22:05:34 - Average Precision with Manhattan-Distance:  90.19\n",
      "\n",
      "2022-09-06 22:05:34 - Accuracy with Euclidean-Distance:           78.05\t(Threshold: 18.7125)\n",
      "2022-09-06 22:05:34 - F1 with Euclidean-Distance:                 83.83\t(Threshold: 20.8817)\n",
      "2022-09-06 22:05:34 - Precision with Euclidean-Distance:          73.57\n",
      "2022-09-06 22:05:34 - Recall with Euclidean-Distance:             97.42\n",
      "2022-09-06 22:05:34 - Average Precision with Euclidean-Distance:  90.23\n",
      "\n",
      "2022-09-06 22:05:34 - Accuracy with Dot-Product:           77.43\t(Threshold: 96.4901)\n",
      "2022-09-06 22:05:34 - F1 with Dot-Product:                 83.70\t(Threshold: 31.7905)\n",
      "2022-09-06 22:05:34 - Precision with Dot-Product:          73.04\n",
      "2022-09-06 22:05:34 - Recall with Dot-Product:             98.01\n",
      "2022-09-06 22:05:34 - Average Precision with Dot-Product:  89.84\n",
      "\n",
      "2022-09-06 22:05:34 - Save model to binary_sim_output/stsb-distilbert-base\n"
     ]
    },
    {
     "data": {
      "application/vnd.jupyter.widget-view+json": {
       "model_id": "6a65f9953f1b4aef82fa50fb279e6493",
       "version_major": 2,
       "version_minor": 0
      },
      "text/plain": [
       "Iteration:   0%|          | 0/51 [00:00<?, ?it/s]"
      ]
     },
     "metadata": {},
     "output_type": "display_data"
    },
    {
     "name": "stdout",
     "output_type": "stream",
     "text": [
      "2022-09-06 22:05:39 - Binary Accuracy Evaluation of the model on  dataset after epoch 4:\n",
      "2022-09-06 22:05:40 - Accuracy with Cosine-Similarity:           78.55\t(Threshold: 0.3013)\n",
      "2022-09-06 22:05:40 - F1 with Cosine-Similarity:                 83.96\t(Threshold: 0.3013)\n",
      "2022-09-06 22:05:40 - Precision with Cosine-Similarity:          79.09\n",
      "2022-09-06 22:05:40 - Recall with Cosine-Similarity:             89.46\n",
      "2022-09-06 22:05:40 - Average Precision with Cosine-Similarity:  90.37\n",
      "\n",
      "2022-09-06 22:05:40 - Accuracy with Manhattan-Distance:           78.93\t(Threshold: 421.2029)\n",
      "2022-09-06 22:05:40 - F1 with Manhattan-Distance:                 84.34\t(Threshold: 421.2029)\n",
      "2022-09-06 22:05:40 - Precision with Manhattan-Distance:          78.99\n",
      "2022-09-06 22:05:40 - Recall with Manhattan-Distance:             90.46\n",
      "2022-09-06 22:05:40 - Average Precision with Manhattan-Distance:  90.37\n",
      "\n",
      "2022-09-06 22:05:40 - Accuracy with Euclidean-Distance:           79.05\t(Threshold: 18.7026)\n",
      "2022-09-06 22:05:40 - F1 with Euclidean-Distance:                 84.25\t(Threshold: 18.9907)\n",
      "2022-09-06 22:05:40 - Precision with Euclidean-Distance:          79.30\n",
      "2022-09-06 22:05:40 - Recall with Euclidean-Distance:             89.86\n",
      "2022-09-06 22:05:40 - Average Precision with Euclidean-Distance:  90.43\n",
      "\n",
      "2022-09-06 22:05:40 - Accuracy with Dot-Product:           78.18\t(Threshold: 87.8523)\n",
      "2022-09-06 22:05:40 - F1 with Dot-Product:                 84.10\t(Threshold: 37.6962)\n",
      "2022-09-06 22:05:40 - Precision with Dot-Product:          74.69\n",
      "2022-09-06 22:05:40 - Recall with Dot-Product:             96.22\n",
      "2022-09-06 22:05:40 - Average Precision with Dot-Product:  90.23\n",
      "\n",
      "2022-09-06 22:05:40 - Save model to binary_sim_output/stsb-distilbert-base\n"
     ]
    },
    {
     "data": {
      "application/vnd.jupyter.widget-view+json": {
       "model_id": "72e84ab4ca1740fea3a28917120c64ce",
       "version_major": 2,
       "version_minor": 0
      },
      "text/plain": [
       "Iteration:   0%|          | 0/51 [00:00<?, ?it/s]"
      ]
     },
     "metadata": {},
     "output_type": "display_data"
    },
    {
     "name": "stdout",
     "output_type": "stream",
     "text": [
      "2022-09-06 22:05:45 - Binary Accuracy Evaluation of the model on  dataset after epoch 5:\n",
      "2022-09-06 22:05:45 - Accuracy with Cosine-Similarity:           78.55\t(Threshold: 0.2805)\n",
      "2022-09-06 22:05:45 - F1 with Cosine-Similarity:                 83.83\t(Threshold: -0.0148)\n",
      "2022-09-06 22:05:45 - Precision with Cosine-Similarity:          73.57\n",
      "2022-09-06 22:05:45 - Recall with Cosine-Similarity:             97.42\n",
      "2022-09-06 22:05:45 - Average Precision with Cosine-Similarity:  89.82\n",
      "\n",
      "2022-09-06 22:05:45 - Accuracy with Manhattan-Distance:           78.68\t(Threshold: 436.1821)\n",
      "2022-09-06 22:05:45 - F1 with Manhattan-Distance:                 84.11\t(Threshold: 444.2760)\n",
      "2022-09-06 22:05:45 - Precision with Manhattan-Distance:          78.16\n",
      "2022-09-06 22:05:45 - Recall with Manhattan-Distance:             91.05\n",
      "2022-09-06 22:05:45 - Average Precision with Manhattan-Distance:  89.85\n",
      "\n",
      "2022-09-06 22:05:45 - Accuracy with Euclidean-Distance:           78.93\t(Threshold: 19.8115)\n",
      "2022-09-06 22:05:45 - F1 with Euclidean-Distance:                 84.31\t(Threshold: 19.9291)\n",
      "2022-09-06 22:05:45 - Precision with Euclidean-Distance:          79.09\n",
      "2022-09-06 22:05:45 - Recall with Euclidean-Distance:             90.26\n",
      "2022-09-06 22:05:45 - Average Precision with Euclidean-Distance:  89.90\n",
      "\n",
      "2022-09-06 22:05:45 - Accuracy with Dot-Product:           78.55\t(Threshold: 77.3812)\n",
      "2022-09-06 22:05:45 - F1 with Dot-Product:                 83.83\t(Threshold: -3.8103)\n",
      "2022-09-06 22:05:45 - Precision with Dot-Product:          73.57\n",
      "2022-09-06 22:05:45 - Recall with Dot-Product:             97.42\n",
      "2022-09-06 22:05:45 - Average Precision with Dot-Product:  89.55\n",
      "\n"
     ]
    },
    {
     "data": {
      "application/vnd.jupyter.widget-view+json": {
       "model_id": "f318d94d3fc140a3897a77d318d51476",
       "version_major": 2,
       "version_minor": 0
      },
      "text/plain": [
       "Iteration:   0%|          | 0/51 [00:00<?, ?it/s]"
      ]
     },
     "metadata": {},
     "output_type": "display_data"
    },
    {
     "name": "stdout",
     "output_type": "stream",
     "text": [
      "2022-09-06 22:05:49 - Binary Accuracy Evaluation of the model on  dataset after epoch 6:\n",
      "2022-09-06 22:05:50 - Accuracy with Cosine-Similarity:           78.68\t(Threshold: 0.2177)\n",
      "2022-09-06 22:05:50 - F1 with Cosine-Similarity:                 84.30\t(Threshold: 0.2177)\n",
      "2022-09-06 22:05:50 - Precision with Cosine-Similarity:          78.33\n",
      "2022-09-06 22:05:50 - Recall with Cosine-Similarity:             91.25\n",
      "2022-09-06 22:05:50 - Average Precision with Cosine-Similarity:  89.51\n",
      "\n",
      "2022-09-06 22:05:50 - Accuracy with Manhattan-Distance:           78.55\t(Threshold: 450.8061)\n",
      "2022-09-06 22:05:50 - F1 with Manhattan-Distance:                 84.31\t(Threshold: 450.8061)\n",
      "2022-09-06 22:05:50 - Precision with Manhattan-Distance:          77.91\n",
      "2022-09-06 22:05:50 - Recall with Manhattan-Distance:             91.85\n",
      "2022-09-06 22:05:50 - Average Precision with Manhattan-Distance:  89.50\n",
      "\n",
      "2022-09-06 22:05:50 - Accuracy with Euclidean-Distance:           78.68\t(Threshold: 20.2611)\n",
      "2022-09-06 22:05:50 - F1 with Euclidean-Distance:                 84.36\t(Threshold: 20.6317)\n",
      "2022-09-06 22:05:50 - Precision with Euclidean-Distance:          77.72\n",
      "2022-09-06 22:05:50 - Recall with Euclidean-Distance:             92.25\n",
      "2022-09-06 22:05:50 - Average Precision with Euclidean-Distance:  89.59\n",
      "\n",
      "2022-09-06 22:05:50 - Accuracy with Dot-Product:           78.18\t(Threshold: 59.8203)\n",
      "2022-09-06 22:05:50 - F1 with Dot-Product:                 83.93\t(Threshold: 59.0394)\n",
      "2022-09-06 22:05:50 - Precision with Dot-Product:          77.99\n",
      "2022-09-06 22:05:50 - Recall with Dot-Product:             90.85\n",
      "2022-09-06 22:05:50 - Average Precision with Dot-Product:  89.18\n",
      "\n"
     ]
    },
    {
     "data": {
      "application/vnd.jupyter.widget-view+json": {
       "model_id": "0f052a4ac45a486ca4a8f19a948d419a",
       "version_major": 2,
       "version_minor": 0
      },
      "text/plain": [
       "Iteration:   0%|          | 0/51 [00:00<?, ?it/s]"
      ]
     },
     "metadata": {},
     "output_type": "display_data"
    },
    {
     "name": "stdout",
     "output_type": "stream",
     "text": [
      "2022-09-06 22:05:54 - Binary Accuracy Evaluation of the model on  dataset after epoch 7:\n",
      "2022-09-06 22:05:54 - Accuracy with Cosine-Similarity:           77.56\t(Threshold: 0.1906)\n",
      "2022-09-06 22:05:54 - F1 with Cosine-Similarity:                 83.69\t(Threshold: 0.0881)\n",
      "2022-09-06 22:05:54 - Precision with Cosine-Similarity:          75.52\n",
      "2022-09-06 22:05:54 - Recall with Cosine-Similarity:             93.84\n",
      "2022-09-06 22:05:54 - Average Precision with Cosine-Similarity:  89.33\n",
      "\n",
      "2022-09-06 22:05:54 - Accuracy with Manhattan-Distance:           77.56\t(Threshold: 422.7499)\n",
      "2022-09-06 22:05:54 - F1 with Manhattan-Distance:                 83.75\t(Threshold: 489.6779)\n",
      "2022-09-06 22:05:54 - Precision with Manhattan-Distance:          75.36\n",
      "2022-09-06 22:05:54 - Recall with Manhattan-Distance:             94.23\n",
      "2022-09-06 22:05:54 - Average Precision with Manhattan-Distance:  89.31\n",
      "\n",
      "2022-09-06 22:05:54 - Accuracy with Euclidean-Distance:           77.93\t(Threshold: 19.1899)\n",
      "2022-09-06 22:05:54 - F1 with Euclidean-Distance:                 83.87\t(Threshold: 21.6084)\n",
      "2022-09-06 22:05:54 - Precision with Euclidean-Distance:          76.35\n",
      "2022-09-06 22:05:54 - Recall with Euclidean-Distance:             93.04\n",
      "2022-09-06 22:05:54 - Average Precision with Euclidean-Distance:  89.41\n",
      "\n",
      "2022-09-06 22:05:54 - Accuracy with Dot-Product:           77.68\t(Threshold: 46.9383)\n",
      "2022-09-06 22:05:54 - F1 with Dot-Product:                 83.73\t(Threshold: 25.5851)\n",
      "2022-09-06 22:05:54 - Precision with Dot-Product:          75.72\n",
      "2022-09-06 22:05:54 - Recall with Dot-Product:             93.64\n",
      "2022-09-06 22:05:54 - Average Precision with Dot-Product:  88.98\n",
      "\n"
     ]
    },
    {
     "data": {
      "application/vnd.jupyter.widget-view+json": {
       "model_id": "ae56681ea3b543d685bb664b6bc05892",
       "version_major": 2,
       "version_minor": 0
      },
      "text/plain": [
       "Iteration:   0%|          | 0/51 [00:00<?, ?it/s]"
      ]
     },
     "metadata": {},
     "output_type": "display_data"
    },
    {
     "name": "stdout",
     "output_type": "stream",
     "text": [
      "2022-09-06 22:05:58 - Binary Accuracy Evaluation of the model on  dataset after epoch 8:\n",
      "2022-09-06 22:05:59 - Accuracy with Cosine-Similarity:           77.81\t(Threshold: 0.1993)\n",
      "2022-09-06 22:05:59 - F1 with Cosine-Similarity:                 83.75\t(Threshold: 0.1096)\n",
      "2022-09-06 22:05:59 - Precision with Cosine-Similarity:          76.01\n",
      "2022-09-06 22:05:59 - Recall with Cosine-Similarity:             93.24\n",
      "2022-09-06 22:05:59 - Average Precision with Cosine-Similarity:  89.32\n",
      "\n",
      "2022-09-06 22:05:59 - Accuracy with Manhattan-Distance:           77.81\t(Threshold: 431.8127)\n",
      "2022-09-06 22:05:59 - F1 with Manhattan-Distance:                 83.81\t(Threshold: 487.1646)\n",
      "2022-09-06 22:05:59 - Precision with Manhattan-Distance:          75.85\n",
      "2022-09-06 22:05:59 - Recall with Manhattan-Distance:             93.64\n",
      "2022-09-06 22:05:59 - Average Precision with Manhattan-Distance:  89.29\n",
      "\n",
      "2022-09-06 22:05:59 - Accuracy with Euclidean-Distance:           78.18\t(Threshold: 20.0542)\n",
      "2022-09-06 22:05:59 - F1 with Euclidean-Distance:                 83.81\t(Threshold: 22.0886)\n",
      "2022-09-06 22:05:59 - Precision with Euclidean-Distance:          75.85\n",
      "2022-09-06 22:05:59 - Recall with Euclidean-Distance:             93.64\n",
      "2022-09-06 22:05:59 - Average Precision with Euclidean-Distance:  89.38\n",
      "\n",
      "2022-09-06 22:05:59 - Accuracy with Dot-Product:           77.68\t(Threshold: 52.6659)\n",
      "2022-09-06 22:05:59 - F1 with Dot-Product:                 83.69\t(Threshold: 21.8123)\n",
      "2022-09-06 22:05:59 - Precision with Dot-Product:          75.52\n",
      "2022-09-06 22:05:59 - Recall with Dot-Product:             93.84\n",
      "2022-09-06 22:05:59 - Average Precision with Dot-Product:  88.97\n",
      "\n"
     ]
    },
    {
     "data": {
      "application/vnd.jupyter.widget-view+json": {
       "model_id": "d43f2bad45744881a6eba31e110d7950",
       "version_major": 2,
       "version_minor": 0
      },
      "text/plain": [
       "Iteration:   0%|          | 0/51 [00:00<?, ?it/s]"
      ]
     },
     "metadata": {},
     "output_type": "display_data"
    },
    {
     "name": "stdout",
     "output_type": "stream",
     "text": [
      "2022-09-06 22:06:03 - Binary Accuracy Evaluation of the model on  dataset after epoch 9:\n",
      "2022-09-06 22:06:04 - Accuracy with Cosine-Similarity:           77.81\t(Threshold: 0.1944)\n",
      "2022-09-06 22:06:04 - F1 with Cosine-Similarity:                 83.82\t(Threshold: 0.1030)\n",
      "2022-09-06 22:06:04 - Precision with Cosine-Similarity:          76.14\n",
      "2022-09-06 22:06:04 - Recall with Cosine-Similarity:             93.24\n",
      "2022-09-06 22:06:04 - Average Precision with Cosine-Similarity:  89.21\n",
      "\n",
      "2022-09-06 22:06:04 - Accuracy with Manhattan-Distance:           77.81\t(Threshold: 455.9030)\n",
      "2022-09-06 22:06:04 - F1 with Manhattan-Distance:                 83.81\t(Threshold: 490.5422)\n",
      "2022-09-06 22:06:04 - Precision with Manhattan-Distance:          75.85\n",
      "2022-09-06 22:06:04 - Recall with Manhattan-Distance:             93.64\n",
      "2022-09-06 22:06:04 - Average Precision with Manhattan-Distance:  89.21\n",
      "\n",
      "2022-09-06 22:06:04 - Accuracy with Euclidean-Distance:           78.18\t(Threshold: 20.2194)\n",
      "2022-09-06 22:06:04 - F1 with Euclidean-Distance:                 83.96\t(Threshold: 22.1768)\n",
      "2022-09-06 22:06:04 - Precision with Euclidean-Distance:          76.09\n",
      "2022-09-06 22:06:04 - Recall with Euclidean-Distance:             93.64\n",
      "2022-09-06 22:06:04 - Average Precision with Euclidean-Distance:  89.32\n",
      "\n",
      "2022-09-06 22:06:04 - Accuracy with Dot-Product:           77.68\t(Threshold: 49.0536)\n",
      "2022-09-06 22:06:04 - F1 with Dot-Product:                 83.76\t(Threshold: 19.6773)\n",
      "2022-09-06 22:06:04 - Precision with Dot-Product:          75.64\n",
      "2022-09-06 22:06:04 - Recall with Dot-Product:             93.84\n",
      "2022-09-06 22:06:04 - Average Precision with Dot-Product:  88.88\n",
      "\n",
      "Training done...\n",
      "\n",
      "\n",
      "\n",
      "                     ********** stsb-distilbert-base **********\n",
      "2022-09-06 22:06:04 - Load pretrained SentenceTransformer: binary_sim_output/stsb-distilbert-base\n",
      "2022-09-06 22:06:04 - Use pytorch device: cuda\n",
      "2022-09-06 22:06:04 - Softmax loss: #Vectors concatenated: 3\n",
      "2022-09-06 22:06:04 - EmbeddingSimilarityEvaluator: Evaluating the model on SPRAG-test dataset:\n",
      "2022-09-06 22:06:06 - Cosine-Similarity :\tPearson: 0.6056\tSpearman: 0.5896\n",
      "2022-09-06 22:06:06 - Manhattan-Distance:\tPearson: 0.5795\tSpearman: 0.5904\n",
      "2022-09-06 22:06:06 - Euclidean-Distance:\tPearson: 0.5814\tSpearman: 0.5914\n",
      "2022-09-06 22:06:06 - Dot-Product-Similarity:\tPearson: 0.6022\tSpearman: 0.5871\n",
      "2022-09-06 22:06:06 - Binary Accuracy Evaluation of the model on  dataset:\n",
      "2022-09-06 22:06:06 - Accuracy with Cosine-Similarity:           78.55\t(Threshold: 0.3013)\n",
      "2022-09-06 22:06:06 - F1 with Cosine-Similarity:                 83.96\t(Threshold: 0.3013)\n",
      "2022-09-06 22:06:06 - Precision with Cosine-Similarity:          79.09\n",
      "2022-09-06 22:06:06 - Recall with Cosine-Similarity:             89.46\n",
      "2022-09-06 22:06:06 - Average Precision with Cosine-Similarity:  90.37\n",
      "\n",
      "2022-09-06 22:06:06 - Accuracy with Manhattan-Distance:           78.93\t(Threshold: 421.2029)\n",
      "2022-09-06 22:06:06 - F1 with Manhattan-Distance:                 84.34\t(Threshold: 421.2029)\n",
      "2022-09-06 22:06:06 - Precision with Manhattan-Distance:          78.99\n",
      "2022-09-06 22:06:06 - Recall with Manhattan-Distance:             90.46\n",
      "2022-09-06 22:06:06 - Average Precision with Manhattan-Distance:  90.37\n",
      "\n",
      "2022-09-06 22:06:06 - Accuracy with Euclidean-Distance:           79.05\t(Threshold: 18.7026)\n",
      "2022-09-06 22:06:06 - F1 with Euclidean-Distance:                 84.25\t(Threshold: 18.9907)\n",
      "2022-09-06 22:06:06 - Precision with Euclidean-Distance:          79.30\n",
      "2022-09-06 22:06:06 - Recall with Euclidean-Distance:             89.86\n",
      "2022-09-06 22:06:06 - Average Precision with Euclidean-Distance:  90.43\n",
      "\n",
      "2022-09-06 22:06:06 - Accuracy with Dot-Product:           78.18\t(Threshold: 87.8523)\n",
      "2022-09-06 22:06:06 - F1 with Dot-Product:                 84.10\t(Threshold: 37.6962)\n",
      "2022-09-06 22:06:06 - Precision with Dot-Product:          74.69\n",
      "2022-09-06 22:06:06 - Recall with Dot-Product:             96.22\n",
      "2022-09-06 22:06:06 - Average Precision with Dot-Product:  90.23\n",
      "\n"
     ]
    },
    {
     "data": {
      "text/plain": [
       "0.9042889785259232"
      ]
     },
     "execution_count": 19,
     "metadata": {},
     "output_type": "execute_result"
    }
   ],
   "source": [
    "st_model = 'stsb-distilbert-base'\n",
    "num_epochs = 10\n",
    "batch_size=16\n",
    "model_save_path = \"binary_sim_output/\"+st_model\n",
    "train_dataloader = DataLoader(train_examples, shuffle=True, batch_size=batch_size)\n",
    "  \n",
    "test_dataloader = DataLoader(test_examples, shuffle=True, batch_size=batch_size)\n",
    "model = train_and_evaluate(st_model, train_dataloader, test_dataloader, num_epochs, model_save_path)\n",
    "print(\"\\n\\n\")\n",
    "print(\" \"*20, \"*\"*10, st_model , \"*\"*10)\n",
    "\n",
    "# Load the stored model and evaluate its performance on mohler test dataset\n",
    "model = SentenceTransformer(model_save_path)\n",
    "train_loss = losses.SoftmaxLoss(model=model, sentence_embedding_dimension=model.get_sentence_embedding_dimension(), num_labels=2)\n",
    "test_evaluator = evaluation.EmbeddingSimilarityEvaluator.from_input_examples(test_examples, batch_size=16, name='SPRAG-test')\n",
    "test_evaluator(model, output_path=model_save_path)\n",
    "train_loss.cuda()\n",
    "\n",
    "x_test_dA = test_data['ReferenceAnswer'].values.tolist()\n",
    "x_test_sA = test_data['StudentAnswer'].values.tolist()\n",
    "y_test = test_labels \n",
    "\n",
    "evaluator = evaluation.BinaryClassificationEvaluator(x_test_dA, x_test_sA, y_test)\n",
    "evaluator(model, output_path=model_save_path)\n"
   ]
  },
  {
   "cell_type": "code",
   "execution_count": 20,
   "id": "28ca7d4f",
   "metadata": {},
   "outputs": [
    {
     "name": "stdout",
     "output_type": "stream",
     "text": [
      "2022-09-06 22:06:06 - Load pretrained SentenceTransformer: sentence-transformers/paraphrase-albert-small-v2\n",
      "2022-09-06 22:06:06 - Use pytorch device: cuda\n",
      "2022-09-06 22:06:06 - Softmax loss: #Vectors concatenated: 3\n",
      "51\n"
     ]
    },
    {
     "data": {
      "application/vnd.jupyter.widget-view+json": {
       "model_id": "d5b7d822f8894e10abd9df549d59397f",
       "version_major": 2,
       "version_minor": 0
      },
      "text/plain": [
       "Epoch:   0%|          | 0/10 [00:00<?, ?it/s]"
      ]
     },
     "metadata": {},
     "output_type": "display_data"
    },
    {
     "data": {
      "application/vnd.jupyter.widget-view+json": {
       "model_id": "9d32ee13fd74421b87fe9755d7fe0138",
       "version_major": 2,
       "version_minor": 0
      },
      "text/plain": [
       "Iteration:   0%|          | 0/51 [00:00<?, ?it/s]"
      ]
     },
     "metadata": {},
     "output_type": "display_data"
    },
    {
     "name": "stdout",
     "output_type": "stream",
     "text": [
      "2022-09-06 22:06:10 - Binary Accuracy Evaluation of the model on  dataset after epoch 0:\n",
      "2022-09-06 22:06:11 - Accuracy with Cosine-Similarity:           72.82\t(Threshold: 0.4221)\n",
      "2022-09-06 22:06:11 - F1 with Cosine-Similarity:                 80.86\t(Threshold: 0.3687)\n",
      "2022-09-06 22:06:11 - Precision with Cosine-Similarity:          71.39\n",
      "2022-09-06 22:06:11 - Recall with Cosine-Similarity:             93.24\n",
      "2022-09-06 22:06:11 - Average Precision with Cosine-Similarity:  86.38\n",
      "\n",
      "2022-09-06 22:06:11 - Accuracy with Manhattan-Distance:           73.94\t(Threshold: 346.6595)\n",
      "2022-09-06 22:06:11 - F1 with Manhattan-Distance:                 80.58\t(Threshold: 385.9807)\n",
      "2022-09-06 22:06:11 - Precision with Manhattan-Distance:          70.27\n",
      "2022-09-06 22:06:11 - Recall with Manhattan-Distance:             94.43\n",
      "2022-09-06 22:06:11 - Average Precision with Manhattan-Distance:  86.40\n",
      "\n",
      "2022-09-06 22:06:11 - Accuracy with Euclidean-Distance:           74.31\t(Threshold: 15.7030)\n",
      "2022-09-06 22:06:11 - F1 with Euclidean-Distance:                 80.83\t(Threshold: 17.2435)\n",
      "2022-09-06 22:06:11 - Precision with Euclidean-Distance:          71.21\n",
      "2022-09-06 22:06:11 - Recall with Euclidean-Distance:             93.44\n",
      "2022-09-06 22:06:11 - Average Precision with Euclidean-Distance:  86.45\n",
      "\n",
      "2022-09-06 22:06:11 - Accuracy with Dot-Product:           70.45\t(Threshold: 85.7164)\n",
      "2022-09-06 22:06:11 - F1 with Dot-Product:                 79.38\t(Threshold: 59.1317)\n",
      "2022-09-06 22:06:11 - Precision with Dot-Product:          67.27\n",
      "2022-09-06 22:06:11 - Recall with Dot-Product:             96.82\n",
      "2022-09-06 22:06:11 - Average Precision with Dot-Product:  78.81\n",
      "\n",
      "2022-09-06 22:06:11 - Save model to binary_sim_output/sentence-transformers/paraphrase-albert-small-v2\n"
     ]
    },
    {
     "data": {
      "application/vnd.jupyter.widget-view+json": {
       "model_id": "2a22deb1d77b428389035efb5150888c",
       "version_major": 2,
       "version_minor": 0
      },
      "text/plain": [
       "Iteration:   0%|          | 0/51 [00:00<?, ?it/s]"
      ]
     },
     "metadata": {},
     "output_type": "display_data"
    },
    {
     "name": "stdout",
     "output_type": "stream",
     "text": [
      "2022-09-06 22:06:15 - Binary Accuracy Evaluation of the model on  dataset after epoch 1:\n",
      "2022-09-06 22:06:16 - Accuracy with Cosine-Similarity:           74.69\t(Threshold: 0.4715)\n",
      "2022-09-06 22:06:16 - F1 with Cosine-Similarity:                 81.13\t(Threshold: 0.3043)\n",
      "2022-09-06 22:06:16 - Precision with Cosine-Similarity:          69.71\n",
      "2022-09-06 22:06:16 - Recall with Cosine-Similarity:             97.02\n",
      "2022-09-06 22:06:16 - Average Precision with Cosine-Similarity:  87.15\n",
      "\n",
      "2022-09-06 22:06:16 - Accuracy with Manhattan-Distance:           74.56\t(Threshold: 515.5471)\n",
      "2022-09-06 22:06:16 - F1 with Manhattan-Distance:                 81.72\t(Threshold: 553.7754)\n",
      "2022-09-06 22:06:16 - Precision with Manhattan-Distance:          71.90\n",
      "2022-09-06 22:06:16 - Recall with Manhattan-Distance:             94.63\n",
      "2022-09-06 22:06:16 - Average Precision with Manhattan-Distance:  86.67\n",
      "\n",
      "2022-09-06 22:06:16 - Accuracy with Euclidean-Distance:           74.56\t(Threshold: 23.1831)\n",
      "2022-09-06 22:06:16 - F1 with Euclidean-Distance:                 81.79\t(Threshold: 24.7665)\n",
      "2022-09-06 22:06:16 - Precision with Euclidean-Distance:          73.08\n",
      "2022-09-06 22:06:16 - Recall with Euclidean-Distance:             92.84\n",
      "2022-09-06 22:06:16 - Average Precision with Euclidean-Distance:  86.83\n",
      "\n",
      "2022-09-06 22:06:16 - Accuracy with Dot-Product:           71.57\t(Threshold: 163.8586)\n",
      "2022-09-06 22:06:16 - F1 with Dot-Product:                 80.45\t(Threshold: 163.8586)\n",
      "2022-09-06 22:06:16 - Precision with Dot-Product:          70.74\n",
      "2022-09-06 22:06:16 - Recall with Dot-Product:             93.24\n",
      "2022-09-06 22:06:16 - Average Precision with Dot-Product:  84.08\n",
      "\n",
      "2022-09-06 22:06:16 - Save model to binary_sim_output/sentence-transformers/paraphrase-albert-small-v2\n"
     ]
    },
    {
     "data": {
      "application/vnd.jupyter.widget-view+json": {
       "model_id": "80d8bb0f08904a9f811bbac135e3a25b",
       "version_major": 2,
       "version_minor": 0
      },
      "text/plain": [
       "Iteration:   0%|          | 0/51 [00:00<?, ?it/s]"
      ]
     },
     "metadata": {},
     "output_type": "display_data"
    },
    {
     "name": "stdout",
     "output_type": "stream",
     "text": [
      "2022-09-06 22:06:20 - Binary Accuracy Evaluation of the model on  dataset after epoch 2:\n",
      "2022-09-06 22:06:20 - Accuracy with Cosine-Similarity:           76.06\t(Threshold: 0.4058)\n",
      "2022-09-06 22:06:20 - F1 with Cosine-Similarity:                 82.37\t(Threshold: 0.3818)\n",
      "2022-09-06 22:06:20 - Precision with Cosine-Similarity:          76.18\n",
      "2022-09-06 22:06:20 - Recall with Cosine-Similarity:             89.66\n",
      "2022-09-06 22:06:20 - Average Precision with Cosine-Similarity:  87.52\n",
      "\n",
      "2022-09-06 22:06:20 - Accuracy with Manhattan-Distance:           75.44\t(Threshold: 586.9927)\n",
      "2022-09-06 22:06:20 - F1 with Manhattan-Distance:                 81.91\t(Threshold: 595.6906)\n",
      "2022-09-06 22:06:20 - Precision with Manhattan-Distance:          76.11\n",
      "2022-09-06 22:06:20 - Recall with Manhattan-Distance:             88.67\n",
      "2022-09-06 22:06:20 - Average Precision with Manhattan-Distance:  87.55\n",
      "\n",
      "2022-09-06 22:06:20 - Accuracy with Euclidean-Distance:           75.56\t(Threshold: 26.7148)\n",
      "2022-09-06 22:06:20 - F1 with Euclidean-Distance:                 82.13\t(Threshold: 28.6056)\n",
      "2022-09-06 22:06:20 - Precision with Euclidean-Distance:          71.53\n",
      "2022-09-06 22:06:20 - Recall with Euclidean-Distance:             96.42\n",
      "2022-09-06 22:06:20 - Average Precision with Euclidean-Distance:  87.68\n",
      "\n",
      "2022-09-06 22:06:20 - Accuracy with Dot-Product:           74.31\t(Threshold: 266.1703)\n",
      "2022-09-06 22:06:20 - F1 with Dot-Product:                 81.09\t(Threshold: 170.5426)\n",
      "2022-09-06 22:06:20 - Precision with Dot-Product:          71.17\n",
      "2022-09-06 22:06:20 - Recall with Dot-Product:             94.23\n",
      "2022-09-06 22:06:20 - Average Precision with Dot-Product:  85.32\n",
      "\n",
      "2022-09-06 22:06:20 - Save model to binary_sim_output/sentence-transformers/paraphrase-albert-small-v2\n"
     ]
    },
    {
     "data": {
      "application/vnd.jupyter.widget-view+json": {
       "model_id": "e44be42c52514165b4d8e659d7810ee7",
       "version_major": 2,
       "version_minor": 0
      },
      "text/plain": [
       "Iteration:   0%|          | 0/51 [00:00<?, ?it/s]"
      ]
     },
     "metadata": {},
     "output_type": "display_data"
    },
    {
     "name": "stdout",
     "output_type": "stream",
     "text": [
      "2022-09-06 22:06:24 - Binary Accuracy Evaluation of the model on  dataset after epoch 3:\n",
      "2022-09-06 22:06:25 - Accuracy with Cosine-Similarity:           77.31\t(Threshold: 0.3784)\n",
      "2022-09-06 22:06:25 - F1 with Cosine-Similarity:                 83.33\t(Threshold: 0.3784)\n",
      "2022-09-06 22:06:25 - Precision with Cosine-Similarity:          77.25\n",
      "2022-09-06 22:06:25 - Recall with Cosine-Similarity:             90.46\n",
      "2022-09-06 22:06:25 - Average Precision with Cosine-Similarity:  88.18\n",
      "\n",
      "2022-09-06 22:06:25 - Accuracy with Manhattan-Distance:           76.43\t(Threshold: 600.9573)\n",
      "2022-09-06 22:06:25 - F1 with Manhattan-Distance:                 83.30\t(Threshold: 673.4652)\n",
      "2022-09-06 22:06:25 - Precision with Manhattan-Distance:          74.65\n",
      "2022-09-06 22:06:25 - Recall with Manhattan-Distance:             94.23\n",
      "2022-09-06 22:06:25 - Average Precision with Manhattan-Distance:  88.28\n",
      "\n",
      "2022-09-06 22:06:25 - Accuracy with Euclidean-Distance:           76.93\t(Threshold: 27.5414)\n",
      "2022-09-06 22:06:25 - F1 with Euclidean-Distance:                 82.95\t(Threshold: 30.7034)\n",
      "2022-09-06 22:06:25 - Precision with Euclidean-Distance:          74.33\n",
      "2022-09-06 22:06:25 - Recall with Euclidean-Distance:             93.84\n",
      "2022-09-06 22:06:25 - Average Precision with Euclidean-Distance:  88.28\n",
      "\n",
      "2022-09-06 22:06:25 - Accuracy with Dot-Product:           75.81\t(Threshold: 284.4190)\n",
      "2022-09-06 22:06:25 - F1 with Dot-Product:                 82.22\t(Threshold: 194.3614)\n",
      "2022-09-06 22:06:25 - Precision with Dot-Product:          72.11\n",
      "2022-09-06 22:06:25 - Recall with Dot-Product:             95.63\n",
      "2022-09-06 22:06:25 - Average Precision with Dot-Product:  87.20\n",
      "\n",
      "2022-09-06 22:06:25 - Save model to binary_sim_output/sentence-transformers/paraphrase-albert-small-v2\n"
     ]
    },
    {
     "data": {
      "application/vnd.jupyter.widget-view+json": {
       "model_id": "424674df00d644658567b69e0490fe72",
       "version_major": 2,
       "version_minor": 0
      },
      "text/plain": [
       "Iteration:   0%|          | 0/51 [00:00<?, ?it/s]"
      ]
     },
     "metadata": {},
     "output_type": "display_data"
    },
    {
     "name": "stdout",
     "output_type": "stream",
     "text": [
      "2022-09-06 22:06:29 - Binary Accuracy Evaluation of the model on  dataset after epoch 4:\n",
      "2022-09-06 22:06:29 - Accuracy with Cosine-Similarity:           78.18\t(Threshold: 0.4180)\n",
      "2022-09-06 22:06:29 - F1 with Cosine-Similarity:                 83.41\t(Threshold: 0.3996)\n",
      "2022-09-06 22:06:29 - Precision with Cosine-Similarity:          79.71\n",
      "2022-09-06 22:06:29 - Recall with Cosine-Similarity:             87.48\n",
      "2022-09-06 22:06:29 - Average Precision with Cosine-Similarity:  88.41\n",
      "\n",
      "2022-09-06 22:06:29 - Accuracy with Manhattan-Distance:           78.18\t(Threshold: 648.9149)\n",
      "2022-09-06 22:06:29 - F1 with Manhattan-Distance:                 83.16\t(Threshold: 670.0438)\n",
      "2022-09-06 22:06:29 - Precision with Manhattan-Distance:          78.15\n",
      "2022-09-06 22:06:29 - Recall with Manhattan-Distance:             88.87\n",
      "2022-09-06 22:06:29 - Average Precision with Manhattan-Distance:  88.61\n",
      "\n",
      "2022-09-06 22:06:30 - Accuracy with Euclidean-Distance:           78.05\t(Threshold: 30.1001)\n",
      "2022-09-06 22:06:30 - F1 with Euclidean-Distance:                 83.55\t(Threshold: 30.3918)\n",
      "2022-09-06 22:06:30 - Precision with Euclidean-Distance:          78.84\n",
      "2022-09-06 22:06:30 - Recall with Euclidean-Distance:             88.87\n",
      "2022-09-06 22:06:30 - Average Precision with Euclidean-Distance:  88.65\n",
      "\n",
      "2022-09-06 22:06:30 - Accuracy with Dot-Product:           77.43\t(Threshold: 314.9913)\n",
      "2022-09-06 22:06:30 - F1 with Dot-Product:                 82.51\t(Threshold: 232.8943)\n",
      "2022-09-06 22:06:30 - Precision with Dot-Product:          74.24\n",
      "2022-09-06 22:06:30 - Recall with Dot-Product:             92.84\n",
      "2022-09-06 22:06:30 - Average Precision with Dot-Product:  87.23\n",
      "\n",
      "2022-09-06 22:06:30 - Save model to binary_sim_output/sentence-transformers/paraphrase-albert-small-v2\n"
     ]
    },
    {
     "data": {
      "application/vnd.jupyter.widget-view+json": {
       "model_id": "ca02f78d9a754737af9e2c0d67596438",
       "version_major": 2,
       "version_minor": 0
      },
      "text/plain": [
       "Iteration:   0%|          | 0/51 [00:00<?, ?it/s]"
      ]
     },
     "metadata": {},
     "output_type": "display_data"
    },
    {
     "name": "stdout",
     "output_type": "stream",
     "text": [
      "2022-09-06 22:06:33 - Binary Accuracy Evaluation of the model on  dataset after epoch 5:\n",
      "2022-09-06 22:06:34 - Accuracy with Cosine-Similarity:           78.18\t(Threshold: 0.3978)\n",
      "2022-09-06 22:06:34 - F1 with Cosine-Similarity:                 83.46\t(Threshold: 0.3466)\n",
      "2022-09-06 22:06:34 - Precision with Cosine-Similarity:          79.14\n",
      "2022-09-06 22:06:34 - Recall with Cosine-Similarity:             88.27\n",
      "2022-09-06 22:06:34 - Average Precision with Cosine-Similarity:  88.98\n",
      "\n",
      "2022-09-06 22:06:34 - Accuracy with Manhattan-Distance:           78.68\t(Threshold: 695.6189)\n",
      "2022-09-06 22:06:34 - F1 with Manhattan-Distance:                 83.70\t(Threshold: 695.6189)\n",
      "2022-09-06 22:06:34 - Precision with Manhattan-Distance:          80.40\n",
      "2022-09-06 22:06:34 - Recall with Manhattan-Distance:             87.28\n",
      "2022-09-06 22:06:34 - Average Precision with Manhattan-Distance:  89.20\n",
      "\n",
      "2022-09-06 22:06:34 - Accuracy with Euclidean-Distance:           78.80\t(Threshold: 31.0660)\n",
      "2022-09-06 22:06:34 - F1 with Euclidean-Distance:                 83.56\t(Threshold: 31.2475)\n",
      "2022-09-06 22:06:34 - Precision with Euclidean-Distance:          81.36\n",
      "2022-09-06 22:06:34 - Recall with Euclidean-Distance:             85.88\n",
      "2022-09-06 22:06:34 - Average Precision with Euclidean-Distance:  89.15\n",
      "\n",
      "2022-09-06 22:06:34 - Accuracy with Dot-Product:           76.93\t(Threshold: 276.9090)\n",
      "2022-09-06 22:06:34 - F1 with Dot-Product:                 83.06\t(Threshold: 228.2817)\n",
      "2022-09-06 22:06:34 - Precision with Dot-Product:          75.95\n",
      "2022-09-06 22:06:34 - Recall with Dot-Product:             91.65\n",
      "2022-09-06 22:06:34 - Average Precision with Dot-Product:  88.20\n",
      "\n",
      "2022-09-06 22:06:34 - Save model to binary_sim_output/sentence-transformers/paraphrase-albert-small-v2\n"
     ]
    },
    {
     "data": {
      "application/vnd.jupyter.widget-view+json": {
       "model_id": "89e407fc63d940358d516d25ee536b54",
       "version_major": 2,
       "version_minor": 0
      },
      "text/plain": [
       "Iteration:   0%|          | 0/51 [00:00<?, ?it/s]"
      ]
     },
     "metadata": {},
     "output_type": "display_data"
    },
    {
     "name": "stdout",
     "output_type": "stream",
     "text": [
      "2022-09-06 22:06:38 - Binary Accuracy Evaluation of the model on  dataset after epoch 6:\n",
      "2022-09-06 22:06:39 - Accuracy with Cosine-Similarity:           78.55\t(Threshold: 0.3929)\n",
      "2022-09-06 22:06:39 - F1 with Cosine-Similarity:                 83.94\t(Threshold: 0.3048)\n",
      "2022-09-06 22:06:39 - Precision with Cosine-Similarity:          76.86\n",
      "2022-09-06 22:06:39 - Recall with Cosine-Similarity:             92.45\n",
      "2022-09-06 22:06:39 - Average Precision with Cosine-Similarity:  89.20\n",
      "\n",
      "2022-09-06 22:06:39 - Accuracy with Manhattan-Distance:           78.80\t(Threshold: 676.8571)\n",
      "2022-09-06 22:06:39 - F1 with Manhattan-Distance:                 83.70\t(Threshold: 734.0618)\n",
      "2022-09-06 22:06:39 - Precision with Manhattan-Distance:          77.59\n",
      "2022-09-06 22:06:39 - Recall with Manhattan-Distance:             90.85\n",
      "2022-09-06 22:06:39 - Average Precision with Manhattan-Distance:  89.41\n",
      "\n",
      "2022-09-06 22:06:39 - Accuracy with Euclidean-Distance:           78.68\t(Threshold: 31.1438)\n",
      "2022-09-06 22:06:39 - F1 with Euclidean-Distance:                 84.02\t(Threshold: 33.6565)\n",
      "2022-09-06 22:06:39 - Precision with Euclidean-Distance:          77.70\n",
      "2022-09-06 22:06:39 - Recall with Euclidean-Distance:             91.45\n",
      "2022-09-06 22:06:39 - Average Precision with Euclidean-Distance:  89.42\n",
      "\n",
      "2022-09-06 22:06:39 - Accuracy with Dot-Product:           77.18\t(Threshold: 300.3827)\n",
      "2022-09-06 22:06:39 - F1 with Dot-Product:                 83.56\t(Threshold: 238.6253)\n",
      "2022-09-06 22:06:39 - Precision with Dot-Product:          76.23\n",
      "2022-09-06 22:06:39 - Recall with Dot-Product:             92.45\n",
      "2022-09-06 22:06:39 - Average Precision with Dot-Product:  88.33\n",
      "\n",
      "2022-09-06 22:06:39 - Save model to binary_sim_output/sentence-transformers/paraphrase-albert-small-v2\n"
     ]
    },
    {
     "data": {
      "application/vnd.jupyter.widget-view+json": {
       "model_id": "3d4f753f32b045b2a8c13f1d72152343",
       "version_major": 2,
       "version_minor": 0
      },
      "text/plain": [
       "Iteration:   0%|          | 0/51 [00:00<?, ?it/s]"
      ]
     },
     "metadata": {},
     "output_type": "display_data"
    },
    {
     "name": "stdout",
     "output_type": "stream",
     "text": [
      "2022-09-06 22:06:43 - Binary Accuracy Evaluation of the model on  dataset after epoch 7:\n",
      "2022-09-06 22:06:43 - Accuracy with Cosine-Similarity:           78.55\t(Threshold: 0.4036)\n",
      "2022-09-06 22:06:43 - F1 with Cosine-Similarity:                 83.80\t(Threshold: 0.2691)\n",
      "2022-09-06 22:06:43 - Precision with Cosine-Similarity:          76.22\n",
      "2022-09-06 22:06:43 - Recall with Cosine-Similarity:             93.04\n",
      "2022-09-06 22:06:43 - Average Precision with Cosine-Similarity:  89.20\n",
      "\n",
      "2022-09-06 22:06:43 - Accuracy with Manhattan-Distance:           78.80\t(Threshold: 681.5396)\n",
      "2022-09-06 22:06:43 - F1 with Manhattan-Distance:                 83.81\t(Threshold: 763.6022)\n",
      "2022-09-06 22:06:43 - Precision with Manhattan-Distance:          76.52\n",
      "2022-09-06 22:06:43 - Recall with Manhattan-Distance:             92.64\n",
      "2022-09-06 22:06:43 - Average Precision with Manhattan-Distance:  89.46\n",
      "\n",
      "2022-09-06 22:06:43 - Accuracy with Euclidean-Distance:           78.68\t(Threshold: 31.8500)\n",
      "2022-09-06 22:06:43 - F1 with Euclidean-Distance:                 83.93\t(Threshold: 33.3156)\n",
      "2022-09-06 22:06:43 - Precision with Euclidean-Distance:          79.19\n",
      "2022-09-06 22:06:43 - Recall with Euclidean-Distance:             89.26\n",
      "2022-09-06 22:06:43 - Average Precision with Euclidean-Distance:  89.43\n",
      "\n",
      "2022-09-06 22:06:43 - Accuracy with Dot-Product:           77.31\t(Threshold: 308.1127)\n",
      "2022-09-06 22:06:43 - F1 with Dot-Product:                 83.47\t(Threshold: 201.7330)\n",
      "2022-09-06 22:06:43 - Precision with Dot-Product:          75.16\n",
      "2022-09-06 22:06:43 - Recall with Dot-Product:             93.84\n",
      "2022-09-06 22:06:43 - Average Precision with Dot-Product:  88.48\n",
      "\n",
      "2022-09-06 22:06:43 - Save model to binary_sim_output/sentence-transformers/paraphrase-albert-small-v2\n"
     ]
    },
    {
     "data": {
      "application/vnd.jupyter.widget-view+json": {
       "model_id": "438e0e0a8f3d4b21b9bfe3133a7f6dce",
       "version_major": 2,
       "version_minor": 0
      },
      "text/plain": [
       "Iteration:   0%|          | 0/51 [00:00<?, ?it/s]"
      ]
     },
     "metadata": {},
     "output_type": "display_data"
    },
    {
     "name": "stdout",
     "output_type": "stream",
     "text": [
      "2022-09-06 22:06:47 - Binary Accuracy Evaluation of the model on  dataset after epoch 8:\n",
      "2022-09-06 22:06:48 - Accuracy with Cosine-Similarity:           78.43\t(Threshold: 0.4188)\n",
      "2022-09-06 22:06:48 - F1 with Cosine-Similarity:                 83.70\t(Threshold: 0.2886)\n",
      "2022-09-06 22:06:48 - Precision with Cosine-Similarity:          76.87\n",
      "2022-09-06 22:06:48 - Recall with Cosine-Similarity:             91.85\n",
      "2022-09-06 22:06:48 - Average Precision with Cosine-Similarity:  89.15\n",
      "\n",
      "2022-09-06 22:06:48 - Accuracy with Manhattan-Distance:           78.55\t(Threshold: 695.3488)\n",
      "2022-09-06 22:06:48 - F1 with Manhattan-Distance:                 83.92\t(Threshold: 780.1469)\n",
      "2022-09-06 22:06:48 - Precision with Manhattan-Distance:          75.52\n",
      "2022-09-06 22:06:48 - Recall with Manhattan-Distance:             94.43\n",
      "2022-09-06 22:06:48 - Average Precision with Manhattan-Distance:  89.41\n",
      "\n",
      "2022-09-06 22:06:48 - Accuracy with Euclidean-Distance:           78.43\t(Threshold: 30.9513)\n",
      "2022-09-06 22:06:48 - F1 with Euclidean-Distance:                 83.92\t(Threshold: 34.4216)\n",
      "2022-09-06 22:06:48 - Precision with Euclidean-Distance:          77.26\n",
      "2022-09-06 22:06:48 - Recall with Euclidean-Distance:             91.85\n",
      "2022-09-06 22:06:48 - Average Precision with Euclidean-Distance:  89.39\n",
      "\n",
      "2022-09-06 22:06:48 - Accuracy with Dot-Product:           77.56\t(Threshold: 304.9722)\n",
      "2022-09-06 22:06:48 - F1 with Dot-Product:                 83.73\t(Threshold: 215.7948)\n",
      "2022-09-06 22:06:48 - Precision with Dot-Product:          75.72\n",
      "2022-09-06 22:06:48 - Recall with Dot-Product:             93.64\n",
      "2022-09-06 22:06:48 - Average Precision with Dot-Product:  88.40\n",
      "\n"
     ]
    },
    {
     "data": {
      "application/vnd.jupyter.widget-view+json": {
       "model_id": "83b81cd2e31841f7b0bb8220f26ab058",
       "version_major": 2,
       "version_minor": 0
      },
      "text/plain": [
       "Iteration:   0%|          | 0/51 [00:00<?, ?it/s]"
      ]
     },
     "metadata": {},
     "output_type": "display_data"
    },
    {
     "name": "stdout",
     "output_type": "stream",
     "text": [
      "2022-09-06 22:06:52 - Binary Accuracy Evaluation of the model on  dataset after epoch 9:\n",
      "2022-09-06 22:06:52 - Accuracy with Cosine-Similarity:           78.43\t(Threshold: 0.4171)\n",
      "2022-09-06 22:06:52 - F1 with Cosine-Similarity:                 83.68\t(Threshold: 0.2821)\n",
      "2022-09-06 22:06:52 - Precision with Cosine-Similarity:          76.57\n",
      "2022-09-06 22:06:52 - Recall with Cosine-Similarity:             92.25\n",
      "2022-09-06 22:06:52 - Average Precision with Cosine-Similarity:  89.10\n",
      "\n",
      "2022-09-06 22:06:52 - Accuracy with Manhattan-Distance:           78.55\t(Threshold: 696.0906)\n",
      "2022-09-06 22:06:52 - F1 with Manhattan-Distance:                 83.97\t(Threshold: 772.6551)\n",
      "2022-09-06 22:06:52 - Precision with Manhattan-Distance:          76.38\n",
      "2022-09-06 22:06:52 - Recall with Manhattan-Distance:             93.24\n",
      "2022-09-06 22:06:52 - Average Precision with Manhattan-Distance:  89.35\n",
      "\n",
      "2022-09-06 22:06:52 - Accuracy with Euclidean-Distance:           78.55\t(Threshold: 31.0714)\n",
      "2022-09-06 22:06:52 - F1 with Euclidean-Distance:                 83.92\t(Threshold: 34.4892)\n",
      "2022-09-06 22:06:52 - Precision with Euclidean-Distance:          77.26\n",
      "2022-09-06 22:06:52 - Recall with Euclidean-Distance:             91.85\n",
      "2022-09-06 22:06:52 - Average Precision with Euclidean-Distance:  89.35\n",
      "\n",
      "2022-09-06 22:06:52 - Accuracy with Dot-Product:           77.43\t(Threshold: 305.4919)\n",
      "2022-09-06 22:06:52 - F1 with Dot-Product:                 83.66\t(Threshold: 210.6786)\n",
      "2022-09-06 22:06:52 - Precision with Dot-Product:          75.60\n",
      "2022-09-06 22:06:52 - Recall with Dot-Product:             93.64\n",
      "2022-09-06 22:06:52 - Average Precision with Dot-Product:  88.33\n",
      "\n",
      "Training done...\n",
      "\n",
      "\n",
      "\n",
      "                     ********** sentence-transformers/paraphrase-albert-small-v2 **********\n",
      "2022-09-06 22:06:52 - Load pretrained SentenceTransformer: binary_sim_output/sentence-transformers/paraphrase-albert-small-v2\n",
      "2022-09-06 22:06:53 - Use pytorch device: cuda\n",
      "2022-09-06 22:06:53 - Softmax loss: #Vectors concatenated: 3\n",
      "2022-09-06 22:06:53 - EmbeddingSimilarityEvaluator: Evaluating the model on SPRAG-test dataset:\n",
      "2022-09-06 22:06:54 - Cosine-Similarity :\tPearson: 0.5810\tSpearman: 0.5764\n",
      "2022-09-06 22:06:54 - Manhattan-Distance:\tPearson: 0.5418\tSpearman: 0.5833\n",
      "2022-09-06 22:06:54 - Euclidean-Distance:\tPearson: 0.5426\tSpearman: 0.5832\n",
      "2022-09-06 22:06:54 - Dot-Product-Similarity:\tPearson: 0.5654\tSpearman: 0.5623\n",
      "2022-09-06 22:06:54 - Binary Accuracy Evaluation of the model on  dataset:\n",
      "2022-09-06 22:06:55 - Accuracy with Cosine-Similarity:           78.55\t(Threshold: 0.4036)\n",
      "2022-09-06 22:06:55 - F1 with Cosine-Similarity:                 83.80\t(Threshold: 0.2691)\n",
      "2022-09-06 22:06:55 - Precision with Cosine-Similarity:          76.22\n",
      "2022-09-06 22:06:55 - Recall with Cosine-Similarity:             93.04\n",
      "2022-09-06 22:06:55 - Average Precision with Cosine-Similarity:  89.20\n",
      "\n",
      "2022-09-06 22:06:55 - Accuracy with Manhattan-Distance:           78.80\t(Threshold: 681.5396)\n",
      "2022-09-06 22:06:55 - F1 with Manhattan-Distance:                 83.81\t(Threshold: 763.6022)\n",
      "2022-09-06 22:06:55 - Precision with Manhattan-Distance:          76.52\n",
      "2022-09-06 22:06:55 - Recall with Manhattan-Distance:             92.64\n",
      "2022-09-06 22:06:55 - Average Precision with Manhattan-Distance:  89.46\n",
      "\n",
      "2022-09-06 22:06:55 - Accuracy with Euclidean-Distance:           78.68\t(Threshold: 31.8500)\n",
      "2022-09-06 22:06:55 - F1 with Euclidean-Distance:                 83.93\t(Threshold: 33.3156)\n",
      "2022-09-06 22:06:55 - Precision with Euclidean-Distance:          79.19\n",
      "2022-09-06 22:06:55 - Recall with Euclidean-Distance:             89.26\n",
      "2022-09-06 22:06:55 - Average Precision with Euclidean-Distance:  89.43\n",
      "\n",
      "2022-09-06 22:06:55 - Accuracy with Dot-Product:           77.31\t(Threshold: 308.1127)\n",
      "2022-09-06 22:06:55 - F1 with Dot-Product:                 83.47\t(Threshold: 201.7330)\n",
      "2022-09-06 22:06:55 - Precision with Dot-Product:          75.16\n",
      "2022-09-06 22:06:55 - Recall with Dot-Product:             93.84\n",
      "2022-09-06 22:06:55 - Average Precision with Dot-Product:  88.48\n",
      "\n"
     ]
    },
    {
     "data": {
      "text/plain": [
       "0.8945889411695274"
      ]
     },
     "execution_count": 20,
     "metadata": {},
     "output_type": "execute_result"
    }
   ],
   "source": [
    "st_model = 'sentence-transformers/paraphrase-albert-small-v2'\n",
    "num_epochs = 10\n",
    "batch_size=16\n",
    "model_save_path = \"binary_sim_output/\"+st_model\n",
    "train_dataloader = DataLoader(train_examples, shuffle=True, batch_size=batch_size)\n",
    "  \n",
    "test_dataloader = DataLoader(test_examples, shuffle=True, batch_size=batch_size)\n",
    "model = train_and_evaluate(st_model, train_dataloader, test_dataloader, num_epochs, model_save_path)\n",
    "print(\"\\n\\n\")\n",
    "print(\" \"*20, \"*\"*10, st_model , \"*\"*10)\n",
    "\n",
    "# Load the stored model and evaluate its performance on mohler test dataset\n",
    "model = SentenceTransformer(model_save_path)\n",
    "train_loss = losses.SoftmaxLoss(model=model, sentence_embedding_dimension=model.get_sentence_embedding_dimension(), num_labels=2)\n",
    "test_evaluator = evaluation.EmbeddingSimilarityEvaluator.from_input_examples(test_examples, batch_size=16, name='SPRAG-test')\n",
    "test_evaluator(model, output_path=model_save_path)\n",
    "train_loss.cuda()\n",
    "\n",
    "x_test_dA = test_data['ReferenceAnswer'].values.tolist()\n",
    "x_test_sA = test_data['StudentAnswer'].values.tolist()\n",
    "y_test = test_labels \n",
    "\n",
    "evaluator = evaluation.BinaryClassificationEvaluator(x_test_dA, x_test_sA, y_test)\n",
    "evaluator(model, output_path=model_save_path)\n"
   ]
  },
  {
   "cell_type": "code",
   "execution_count": 21,
   "id": "513f89bc",
   "metadata": {},
   "outputs": [
    {
     "name": "stdout",
     "output_type": "stream",
     "text": [
      "2022-09-06 22:06:55 - Load pretrained SentenceTransformer: sentence-transformers/quora-distilbert-base\n",
      "2022-09-06 22:06:56 - Use pytorch device: cuda\n",
      "2022-09-06 22:06:56 - Softmax loss: #Vectors concatenated: 3\n",
      "51\n"
     ]
    },
    {
     "data": {
      "application/vnd.jupyter.widget-view+json": {
       "model_id": "870cbe03ac014a02ba239b29c6215e59",
       "version_major": 2,
       "version_minor": 0
      },
      "text/plain": [
       "Epoch:   0%|          | 0/10 [00:00<?, ?it/s]"
      ]
     },
     "metadata": {},
     "output_type": "display_data"
    },
    {
     "data": {
      "application/vnd.jupyter.widget-view+json": {
       "model_id": "e3e568b31b6944e8a558580f6576c122",
       "version_major": 2,
       "version_minor": 0
      },
      "text/plain": [
       "Iteration:   0%|          | 0/51 [00:00<?, ?it/s]"
      ]
     },
     "metadata": {},
     "output_type": "display_data"
    },
    {
     "name": "stdout",
     "output_type": "stream",
     "text": [
      "2022-09-06 22:07:00 - Binary Accuracy Evaluation of the model on  dataset after epoch 0:\n",
      "2022-09-06 22:07:00 - Accuracy with Cosine-Similarity:           75.06\t(Threshold: 0.5193)\n",
      "2022-09-06 22:07:00 - F1 with Cosine-Similarity:                 80.81\t(Threshold: 0.4187)\n",
      "2022-09-06 22:07:00 - Precision with Cosine-Similarity:          72.77\n",
      "2022-09-06 22:07:00 - Recall with Cosine-Similarity:             90.85\n",
      "2022-09-06 22:07:00 - Average Precision with Cosine-Similarity:  86.57\n",
      "\n",
      "2022-09-06 22:07:00 - Accuracy with Manhattan-Distance:           69.45\t(Threshold: 267.0740)\n",
      "2022-09-06 22:07:00 - F1 with Manhattan-Distance:                 78.51\t(Threshold: 293.7437)\n",
      "2022-09-06 22:07:00 - Precision with Manhattan-Distance:          68.34\n",
      "2022-09-06 22:07:00 - Recall with Manhattan-Distance:             92.25\n",
      "2022-09-06 22:07:00 - Average Precision with Manhattan-Distance:  82.29\n",
      "\n",
      "2022-09-06 22:07:00 - Accuracy with Euclidean-Distance:           68.70\t(Threshold: 11.8028)\n",
      "2022-09-06 22:07:00 - F1 with Euclidean-Distance:                 77.98\t(Threshold: 13.0823)\n",
      "2022-09-06 22:07:00 - Precision with Euclidean-Distance:          68.52\n",
      "2022-09-06 22:07:00 - Recall with Euclidean-Distance:             90.46\n",
      "2022-09-06 22:07:00 - Average Precision with Euclidean-Distance:  82.02\n",
      "\n",
      "2022-09-06 22:07:00 - Accuracy with Dot-Product:           75.19\t(Threshold: 74.2365)\n",
      "2022-09-06 22:07:00 - F1 with Dot-Product:                 81.83\t(Threshold: 46.8668)\n",
      "2022-09-06 22:07:00 - Precision with Dot-Product:          72.43\n",
      "2022-09-06 22:07:00 - Recall with Dot-Product:             94.04\n",
      "2022-09-06 22:07:00 - Average Precision with Dot-Product:  87.04\n",
      "\n",
      "2022-09-06 22:07:00 - Save model to binary_sim_output/sentence-transformers/quora-distilbert-base\n"
     ]
    },
    {
     "data": {
      "application/vnd.jupyter.widget-view+json": {
       "model_id": "94f3867cf3f2496388c65c8f849fa3c2",
       "version_major": 2,
       "version_minor": 0
      },
      "text/plain": [
       "Iteration:   0%|          | 0/51 [00:00<?, ?it/s]"
      ]
     },
     "metadata": {},
     "output_type": "display_data"
    },
    {
     "name": "stdout",
     "output_type": "stream",
     "text": [
      "2022-09-06 22:07:05 - Binary Accuracy Evaluation of the model on  dataset after epoch 1:\n",
      "2022-09-06 22:07:06 - Accuracy with Cosine-Similarity:           78.68\t(Threshold: 0.3996)\n",
      "2022-09-06 22:07:06 - F1 with Cosine-Similarity:                 84.38\t(Threshold: 0.3996)\n",
      "2022-09-06 22:07:06 - Precision with Cosine-Similarity:          78.04\n",
      "2022-09-06 22:07:06 - Recall with Cosine-Similarity:             91.85\n",
      "2022-09-06 22:07:06 - Average Precision with Cosine-Similarity:  90.53\n",
      "\n",
      "2022-09-06 22:07:06 - Accuracy with Manhattan-Distance:           79.05\t(Threshold: 326.3671)\n",
      "2022-09-06 22:07:06 - F1 with Manhattan-Distance:                 84.53\t(Threshold: 326.3671)\n",
      "2022-09-06 22:07:06 - Precision with Manhattan-Distance:          78.73\n",
      "2022-09-06 22:07:06 - Recall with Manhattan-Distance:             91.25\n",
      "2022-09-06 22:07:06 - Average Precision with Manhattan-Distance:  89.85\n",
      "\n",
      "2022-09-06 22:07:06 - Accuracy with Euclidean-Distance:           78.93\t(Threshold: 14.9372)\n",
      "2022-09-06 22:07:06 - F1 with Euclidean-Distance:                 84.42\t(Threshold: 15.0984)\n",
      "2022-09-06 22:07:06 - Precision with Euclidean-Distance:          78.69\n",
      "2022-09-06 22:07:06 - Recall with Euclidean-Distance:             91.05\n",
      "2022-09-06 22:07:06 - Average Precision with Euclidean-Distance:  90.01\n",
      "\n",
      "2022-09-06 22:07:06 - Accuracy with Dot-Product:           78.05\t(Threshold: 108.7445)\n",
      "2022-09-06 22:07:06 - F1 with Dot-Product:                 84.15\t(Threshold: 61.9689)\n",
      "2022-09-06 22:07:06 - Precision with Dot-Product:          75.51\n",
      "2022-09-06 22:07:06 - Recall with Dot-Product:             95.03\n",
      "2022-09-06 22:07:06 - Average Precision with Dot-Product:  89.56\n",
      "\n",
      "2022-09-06 22:07:06 - Save model to binary_sim_output/sentence-transformers/quora-distilbert-base\n"
     ]
    },
    {
     "data": {
      "application/vnd.jupyter.widget-view+json": {
       "model_id": "572fb9f3136e4b63816455a2a6b4eca6",
       "version_major": 2,
       "version_minor": 0
      },
      "text/plain": [
       "Iteration:   0%|          | 0/51 [00:00<?, ?it/s]"
      ]
     },
     "metadata": {},
     "output_type": "display_data"
    },
    {
     "name": "stdout",
     "output_type": "stream",
     "text": [
      "2022-09-06 22:07:11 - Binary Accuracy Evaluation of the model on  dataset after epoch 2:\n",
      "2022-09-06 22:07:11 - Accuracy with Cosine-Similarity:           79.80\t(Threshold: 0.4495)\n",
      "2022-09-06 22:07:11 - F1 with Cosine-Similarity:                 85.01\t(Threshold: 0.3670)\n",
      "2022-09-06 22:07:11 - Precision with Cosine-Similarity:          78.26\n",
      "2022-09-06 22:07:11 - Recall with Cosine-Similarity:             93.04\n",
      "2022-09-06 22:07:11 - Average Precision with Cosine-Similarity:  90.86\n",
      "\n",
      "2022-09-06 22:07:11 - Accuracy with Manhattan-Distance:           79.68\t(Threshold: 343.8992)\n",
      "2022-09-06 22:07:11 - F1 with Manhattan-Distance:                 85.06\t(Threshold: 347.2985)\n",
      "2022-09-06 22:07:11 - Precision with Manhattan-Distance:          78.91\n",
      "2022-09-06 22:07:11 - Recall with Manhattan-Distance:             92.25\n",
      "2022-09-06 22:07:11 - Average Precision with Manhattan-Distance:  90.38\n",
      "\n",
      "2022-09-06 22:07:11 - Accuracy with Euclidean-Distance:           79.93\t(Threshold: 15.8169)\n",
      "2022-09-06 22:07:11 - F1 with Euclidean-Distance:                 85.08\t(Threshold: 15.8850)\n",
      "2022-09-06 22:07:11 - Precision with Euclidean-Distance:          79.69\n",
      "2022-09-06 22:07:11 - Recall with Euclidean-Distance:             91.25\n",
      "2022-09-06 22:07:11 - Average Precision with Euclidean-Distance:  90.51\n",
      "\n",
      "2022-09-06 22:07:11 - Accuracy with Dot-Product:           79.93\t(Threshold: 118.0213)\n",
      "2022-09-06 22:07:11 - F1 with Dot-Product:                 84.31\t(Threshold: 67.6380)\n",
      "2022-09-06 22:07:11 - Precision with Dot-Product:          76.41\n",
      "2022-09-06 22:07:11 - Recall with Dot-Product:             94.04\n",
      "2022-09-06 22:07:11 - Average Precision with Dot-Product:  90.28\n",
      "\n",
      "2022-09-06 22:07:11 - Save model to binary_sim_output/sentence-transformers/quora-distilbert-base\n"
     ]
    },
    {
     "data": {
      "application/vnd.jupyter.widget-view+json": {
       "model_id": "ef51443770e143b4872f4c887f1647f0",
       "version_major": 2,
       "version_minor": 0
      },
      "text/plain": [
       "Iteration:   0%|          | 0/51 [00:00<?, ?it/s]"
      ]
     },
     "metadata": {},
     "output_type": "display_data"
    },
    {
     "name": "stdout",
     "output_type": "stream",
     "text": [
      "2022-09-06 22:07:16 - Binary Accuracy Evaluation of the model on  dataset after epoch 3:\n",
      "2022-09-06 22:07:16 - Accuracy with Cosine-Similarity:           80.55\t(Threshold: 0.3666)\n",
      "2022-09-06 22:07:16 - F1 with Cosine-Similarity:                 85.30\t(Threshold: 0.2743)\n",
      "2022-09-06 22:07:16 - Precision with Cosine-Similarity:          78.46\n",
      "2022-09-06 22:07:16 - Recall with Cosine-Similarity:             93.44\n",
      "2022-09-06 22:07:16 - Average Precision with Cosine-Similarity:  90.90\n",
      "\n",
      "2022-09-06 22:07:16 - Accuracy with Manhattan-Distance:           79.80\t(Threshold: 360.4915)\n",
      "2022-09-06 22:07:16 - F1 with Manhattan-Distance:                 84.60\t(Threshold: 360.4915)\n",
      "2022-09-06 22:07:16 - Precision with Manhattan-Distance:          81.06\n",
      "2022-09-06 22:07:16 - Recall with Manhattan-Distance:             88.47\n",
      "2022-09-06 22:07:16 - Average Precision with Manhattan-Distance:  89.92\n",
      "\n",
      "2022-09-06 22:07:16 - Accuracy with Euclidean-Distance:           79.80\t(Threshold: 16.8818)\n",
      "2022-09-06 22:07:16 - F1 with Euclidean-Distance:                 84.80\t(Threshold: 17.4123)\n",
      "2022-09-06 22:07:16 - Precision with Euclidean-Distance:          78.61\n",
      "2022-09-06 22:07:16 - Recall with Euclidean-Distance:             92.05\n",
      "2022-09-06 22:07:16 - Average Precision with Euclidean-Distance:  90.10\n",
      "\n",
      "2022-09-06 22:07:16 - Accuracy with Dot-Product:           80.30\t(Threshold: 86.6416)\n",
      "2022-09-06 22:07:16 - F1 with Dot-Product:                 85.16\t(Threshold: 62.1346)\n",
      "2022-09-06 22:07:16 - Precision with Dot-Product:          79.38\n",
      "2022-09-06 22:07:16 - Recall with Dot-Product:             91.85\n",
      "2022-09-06 22:07:16 - Average Precision with Dot-Product:  90.75\n",
      "\n",
      "2022-09-06 22:07:16 - Save model to binary_sim_output/sentence-transformers/quora-distilbert-base\n"
     ]
    },
    {
     "data": {
      "application/vnd.jupyter.widget-view+json": {
       "model_id": "4d74995599bb419aa984855674d9b62b",
       "version_major": 2,
       "version_minor": 0
      },
      "text/plain": [
       "Iteration:   0%|          | 0/51 [00:00<?, ?it/s]"
      ]
     },
     "metadata": {},
     "output_type": "display_data"
    },
    {
     "name": "stdout",
     "output_type": "stream",
     "text": [
      "2022-09-06 22:07:21 - Binary Accuracy Evaluation of the model on  dataset after epoch 4:\n",
      "2022-09-06 22:07:22 - Accuracy with Cosine-Similarity:           80.42\t(Threshold: 0.3780)\n",
      "2022-09-06 22:07:22 - F1 with Cosine-Similarity:                 85.64\t(Threshold: 0.2945)\n",
      "2022-09-06 22:07:22 - Precision with Cosine-Similarity:          78.07\n",
      "2022-09-06 22:07:22 - Recall with Cosine-Similarity:             94.83\n",
      "2022-09-06 22:07:22 - Average Precision with Cosine-Similarity:  90.67\n",
      "\n",
      "2022-09-06 22:07:22 - Accuracy with Manhattan-Distance:           79.93\t(Threshold: 372.4164)\n",
      "2022-09-06 22:07:22 - F1 with Manhattan-Distance:                 85.06\t(Threshold: 382.4820)\n",
      "2022-09-06 22:07:22 - Precision with Manhattan-Distance:          78.49\n",
      "2022-09-06 22:07:22 - Recall with Manhattan-Distance:             92.84\n",
      "2022-09-06 22:07:22 - Average Precision with Manhattan-Distance:  90.16\n",
      "\n",
      "2022-09-06 22:07:22 - Accuracy with Euclidean-Distance:           79.93\t(Threshold: 16.4656)\n",
      "2022-09-06 22:07:22 - F1 with Euclidean-Distance:                 85.64\t(Threshold: 18.2432)\n",
      "2022-09-06 22:07:22 - Precision with Euclidean-Distance:          77.67\n",
      "2022-09-06 22:07:22 - Recall with Euclidean-Distance:             95.43\n",
      "2022-09-06 22:07:22 - Average Precision with Euclidean-Distance:  90.30\n",
      "\n",
      "2022-09-06 22:07:22 - Accuracy with Dot-Product:           80.05\t(Threshold: 90.9237)\n",
      "2022-09-06 22:07:22 - F1 with Dot-Product:                 85.20\t(Threshold: 68.3898)\n",
      "2022-09-06 22:07:22 - Precision with Dot-Product:          78.02\n",
      "2022-09-06 22:07:22 - Recall with Dot-Product:             93.84\n",
      "2022-09-06 22:07:22 - Average Precision with Dot-Product:  90.25\n",
      "\n"
     ]
    },
    {
     "data": {
      "application/vnd.jupyter.widget-view+json": {
       "model_id": "60aa96d630d34c8dbae5abdf05f943f7",
       "version_major": 2,
       "version_minor": 0
      },
      "text/plain": [
       "Iteration:   0%|          | 0/51 [00:00<?, ?it/s]"
      ]
     },
     "metadata": {},
     "output_type": "display_data"
    },
    {
     "name": "stdout",
     "output_type": "stream",
     "text": [
      "2022-09-06 22:07:26 - Binary Accuracy Evaluation of the model on  dataset after epoch 5:\n",
      "2022-09-06 22:07:27 - Accuracy with Cosine-Similarity:           81.05\t(Threshold: 0.2561)\n",
      "2022-09-06 22:07:27 - F1 with Cosine-Similarity:                 85.98\t(Threshold: 0.2561)\n",
      "2022-09-06 22:07:27 - Precision with Cosine-Similarity:          80.21\n",
      "2022-09-06 22:07:27 - Recall with Cosine-Similarity:             92.64\n",
      "2022-09-06 22:07:27 - Average Precision with Cosine-Similarity:  90.59\n",
      "\n",
      "2022-09-06 22:07:27 - Accuracy with Manhattan-Distance:           79.55\t(Threshold: 403.9404)\n",
      "2022-09-06 22:07:27 - F1 with Manhattan-Distance:                 85.09\t(Threshold: 415.8200)\n",
      "2022-09-06 22:07:27 - Precision with Manhattan-Distance:          77.98\n",
      "2022-09-06 22:07:27 - Recall with Manhattan-Distance:             93.64\n",
      "2022-09-06 22:07:27 - Average Precision with Manhattan-Distance:  89.99\n",
      "\n",
      "2022-09-06 22:07:27 - Accuracy with Euclidean-Distance:           79.93\t(Threshold: 17.8939)\n",
      "2022-09-06 22:07:27 - F1 with Euclidean-Distance:                 85.33\t(Threshold: 19.2964)\n",
      "2022-09-06 22:07:27 - Precision with Euclidean-Distance:          77.96\n",
      "2022-09-06 22:07:27 - Recall with Euclidean-Distance:             94.23\n",
      "2022-09-06 22:07:27 - Average Precision with Euclidean-Distance:  90.11\n",
      "\n",
      "2022-09-06 22:07:27 - Accuracy with Dot-Product:           81.30\t(Threshold: 65.5573)\n",
      "2022-09-06 22:07:27 - F1 with Dot-Product:                 85.93\t(Threshold: 65.5573)\n",
      "2022-09-06 22:07:27 - Precision with Dot-Product:          81.35\n",
      "2022-09-06 22:07:27 - Recall with Dot-Product:             91.05\n",
      "2022-09-06 22:07:27 - Average Precision with Dot-Product:  90.41\n",
      "\n"
     ]
    },
    {
     "data": {
      "application/vnd.jupyter.widget-view+json": {
       "model_id": "0b38123bff65414aad7eaa24bc07b73f",
       "version_major": 2,
       "version_minor": 0
      },
      "text/plain": [
       "Iteration:   0%|          | 0/51 [00:00<?, ?it/s]"
      ]
     },
     "metadata": {},
     "output_type": "display_data"
    },
    {
     "name": "stdout",
     "output_type": "stream",
     "text": [
      "2022-09-06 22:07:31 - Binary Accuracy Evaluation of the model on  dataset after epoch 6:\n",
      "2022-09-06 22:07:31 - Accuracy with Cosine-Similarity:           80.92\t(Threshold: 0.3960)\n",
      "2022-09-06 22:07:31 - F1 with Cosine-Similarity:                 85.58\t(Threshold: 0.3863)\n",
      "2022-09-06 22:07:31 - Precision with Cosine-Similarity:          81.36\n",
      "2022-09-06 22:07:31 - Recall with Cosine-Similarity:             90.26\n",
      "2022-09-06 22:07:31 - Average Precision with Cosine-Similarity:  90.43\n",
      "\n",
      "2022-09-06 22:07:31 - Accuracy with Manhattan-Distance:           80.05\t(Threshold: 385.2328)\n",
      "2022-09-06 22:07:31 - F1 with Manhattan-Distance:                 85.23\t(Threshold: 412.5109)\n",
      "2022-09-06 22:07:31 - Precision with Manhattan-Distance:          77.92\n",
      "2022-09-06 22:07:31 - Recall with Manhattan-Distance:             94.04\n",
      "2022-09-06 22:07:31 - Average Precision with Manhattan-Distance:  90.27\n",
      "\n",
      "2022-09-06 22:07:31 - Accuracy with Euclidean-Distance:           80.42\t(Threshold: 16.7542)\n",
      "2022-09-06 22:07:31 - F1 with Euclidean-Distance:                 85.25\t(Threshold: 18.4819)\n",
      "2022-09-06 22:07:31 - Precision with Euclidean-Distance:          78.66\n",
      "2022-09-06 22:07:31 - Recall with Euclidean-Distance:             93.04\n",
      "2022-09-06 22:07:31 - Average Precision with Euclidean-Distance:  90.33\n",
      "\n",
      "2022-09-06 22:07:31 - Accuracy with Dot-Product:           80.55\t(Threshold: 100.5439)\n",
      "2022-09-06 22:07:31 - F1 with Dot-Product:                 85.17\t(Threshold: 98.5222)\n",
      "2022-09-06 22:07:31 - Precision with Dot-Product:          81.60\n",
      "2022-09-06 22:07:31 - Recall with Dot-Product:             89.07\n",
      "2022-09-06 22:07:31 - Average Precision with Dot-Product:  90.11\n",
      "\n"
     ]
    },
    {
     "data": {
      "application/vnd.jupyter.widget-view+json": {
       "model_id": "d47e7810cd424ab6a51036d80874005a",
       "version_major": 2,
       "version_minor": 0
      },
      "text/plain": [
       "Iteration:   0%|          | 0/51 [00:00<?, ?it/s]"
      ]
     },
     "metadata": {},
     "output_type": "display_data"
    },
    {
     "name": "stdout",
     "output_type": "stream",
     "text": [
      "2022-09-06 22:07:36 - Binary Accuracy Evaluation of the model on  dataset after epoch 7:\n",
      "2022-09-06 22:07:36 - Accuracy with Cosine-Similarity:           80.17\t(Threshold: 0.4227)\n",
      "2022-09-06 22:07:36 - F1 with Cosine-Similarity:                 85.02\t(Threshold: 0.3410)\n",
      "2022-09-06 22:07:36 - Precision with Cosine-Similarity:          79.90\n",
      "2022-09-06 22:07:36 - Recall with Cosine-Similarity:             90.85\n",
      "2022-09-06 22:07:36 - Average Precision with Cosine-Similarity:  90.12\n",
      "\n",
      "2022-09-06 22:07:36 - Accuracy with Manhattan-Distance:           80.42\t(Threshold: 367.5646)\n",
      "2022-09-06 22:07:36 - F1 with Manhattan-Distance:                 85.17\t(Threshold: 416.2642)\n",
      "2022-09-06 22:07:36 - Precision with Manhattan-Distance:          78.52\n",
      "2022-09-06 22:07:36 - Recall with Manhattan-Distance:             93.04\n",
      "2022-09-06 22:07:36 - Average Precision with Manhattan-Distance:  90.11\n",
      "\n",
      "2022-09-06 22:07:36 - Accuracy with Euclidean-Distance:           80.30\t(Threshold: 16.5070)\n",
      "2022-09-06 22:07:36 - F1 with Euclidean-Distance:                 85.35\t(Threshold: 18.9952)\n",
      "2022-09-06 22:07:36 - Precision with Euclidean-Distance:          78.69\n",
      "2022-09-06 22:07:36 - Recall with Euclidean-Distance:             93.24\n",
      "2022-09-06 22:07:36 - Average Precision with Euclidean-Distance:  90.15\n",
      "\n",
      "2022-09-06 22:07:36 - Accuracy with Dot-Product:           79.80\t(Threshold: 111.6122)\n",
      "2022-09-06 22:07:36 - F1 with Dot-Product:                 84.66\t(Threshold: 75.9120)\n",
      "2022-09-06 22:07:36 - Precision with Dot-Product:          78.67\n",
      "2022-09-06 22:07:36 - Recall with Dot-Product:             91.65\n",
      "2022-09-06 22:07:36 - Average Precision with Dot-Product:  89.71\n",
      "\n"
     ]
    },
    {
     "data": {
      "application/vnd.jupyter.widget-view+json": {
       "model_id": "c61090543e344902af4b6b1f37297ee7",
       "version_major": 2,
       "version_minor": 0
      },
      "text/plain": [
       "Iteration:   0%|          | 0/51 [00:00<?, ?it/s]"
      ]
     },
     "metadata": {},
     "output_type": "display_data"
    },
    {
     "name": "stdout",
     "output_type": "stream",
     "text": [
      "2022-09-06 22:07:40 - Binary Accuracy Evaluation of the model on  dataset after epoch 8:\n",
      "2022-09-06 22:07:41 - Accuracy with Cosine-Similarity:           79.93\t(Threshold: 0.3371)\n",
      "2022-09-06 22:07:41 - F1 with Cosine-Similarity:                 85.24\t(Threshold: 0.2195)\n",
      "2022-09-06 22:07:41 - Precision with Cosine-Similarity:          79.08\n",
      "2022-09-06 22:07:41 - Recall with Cosine-Similarity:             92.45\n",
      "2022-09-06 22:07:41 - Average Precision with Cosine-Similarity:  90.03\n",
      "\n",
      "2022-09-06 22:07:41 - Accuracy with Manhattan-Distance:           79.80\t(Threshold: 401.2263)\n",
      "2022-09-06 22:07:41 - F1 with Manhattan-Distance:                 85.07\t(Threshold: 434.4608)\n",
      "2022-09-06 22:07:41 - Precision with Manhattan-Distance:          78.07\n",
      "2022-09-06 22:07:41 - Recall with Manhattan-Distance:             93.44\n",
      "2022-09-06 22:07:41 - Average Precision with Manhattan-Distance:  89.97\n",
      "\n",
      "2022-09-06 22:07:41 - Accuracy with Euclidean-Distance:           79.55\t(Threshold: 18.3127)\n",
      "2022-09-06 22:07:41 - F1 with Euclidean-Distance:                 85.07\t(Threshold: 20.0347)\n",
      "2022-09-06 22:07:41 - Precision with Euclidean-Distance:          78.07\n",
      "2022-09-06 22:07:41 - Recall with Euclidean-Distance:             93.44\n",
      "2022-09-06 22:07:41 - Average Precision with Euclidean-Distance:  90.00\n",
      "\n",
      "2022-09-06 22:07:41 - Accuracy with Dot-Product:           79.93\t(Threshold: 74.0597)\n",
      "2022-09-06 22:07:41 - F1 with Dot-Product:                 84.96\t(Threshold: 49.7943)\n",
      "2022-09-06 22:07:41 - Precision with Dot-Product:          78.45\n",
      "2022-09-06 22:07:41 - Recall with Dot-Product:             92.64\n",
      "2022-09-06 22:07:41 - Average Precision with Dot-Product:  89.78\n",
      "\n"
     ]
    },
    {
     "data": {
      "application/vnd.jupyter.widget-view+json": {
       "model_id": "5631644f93c142758528e94f98bd0c41",
       "version_major": 2,
       "version_minor": 0
      },
      "text/plain": [
       "Iteration:   0%|          | 0/51 [00:00<?, ?it/s]"
      ]
     },
     "metadata": {},
     "output_type": "display_data"
    },
    {
     "name": "stdout",
     "output_type": "stream",
     "text": [
      "2022-09-06 22:07:45 - Binary Accuracy Evaluation of the model on  dataset after epoch 9:\n",
      "2022-09-06 22:07:46 - Accuracy with Cosine-Similarity:           80.05\t(Threshold: 0.3754)\n",
      "2022-09-06 22:07:46 - F1 with Cosine-Similarity:                 85.09\t(Threshold: 0.2148)\n",
      "2022-09-06 22:07:46 - Precision with Cosine-Similarity:          78.39\n",
      "2022-09-06 22:07:46 - Recall with Cosine-Similarity:             93.04\n",
      "2022-09-06 22:07:46 - Average Precision with Cosine-Similarity:  90.13\n",
      "\n",
      "2022-09-06 22:07:46 - Accuracy with Manhattan-Distance:           79.80\t(Threshold: 394.9830)\n",
      "2022-09-06 22:07:46 - F1 with Manhattan-Distance:                 84.82\t(Threshold: 436.7791)\n",
      "2022-09-06 22:07:46 - Precision with Manhattan-Distance:          77.38\n",
      "2022-09-06 22:07:46 - Recall with Manhattan-Distance:             93.84\n",
      "2022-09-06 22:07:46 - Average Precision with Manhattan-Distance:  90.07\n",
      "\n",
      "2022-09-06 22:07:46 - Accuracy with Euclidean-Distance:           79.93\t(Threshold: 17.6132)\n",
      "2022-09-06 22:07:46 - F1 with Euclidean-Distance:                 85.14\t(Threshold: 19.6509)\n",
      "2022-09-06 22:07:46 - Precision with Euclidean-Distance:          78.62\n",
      "2022-09-06 22:07:46 - Recall with Euclidean-Distance:             92.84\n",
      "2022-09-06 22:07:46 - Average Precision with Euclidean-Distance:  90.13\n",
      "\n",
      "2022-09-06 22:07:46 - Accuracy with Dot-Product:           79.30\t(Threshold: 80.9503)\n",
      "2022-09-06 22:07:46 - F1 with Dot-Product:                 85.13\t(Threshold: 44.3050)\n",
      "2022-09-06 22:07:46 - Precision with Dot-Product:          77.49\n",
      "2022-09-06 22:07:46 - Recall with Dot-Product:             94.43\n",
      "2022-09-06 22:07:46 - Average Precision with Dot-Product:  89.82\n",
      "\n",
      "Training done...\n",
      "\n",
      "\n",
      "\n",
      "                     ********** sentence-transformers/quora-distilbert-base **********\n",
      "2022-09-06 22:07:46 - Load pretrained SentenceTransformer: binary_sim_output/sentence-transformers/quora-distilbert-base\n",
      "2022-09-06 22:07:46 - Use pytorch device: cuda\n",
      "2022-09-06 22:07:46 - Softmax loss: #Vectors concatenated: 3\n",
      "2022-09-06 22:07:46 - EmbeddingSimilarityEvaluator: Evaluating the model on SPRAG-test dataset:\n",
      "2022-09-06 22:07:48 - Cosine-Similarity :\tPearson: 0.6243\tSpearman: 0.6092\n",
      "2022-09-06 22:07:48 - Manhattan-Distance:\tPearson: 0.5563\tSpearman: 0.5838\n",
      "2022-09-06 22:07:48 - Euclidean-Distance:\tPearson: 0.5665\tSpearman: 0.5915\n",
      "2022-09-06 22:07:48 - Dot-Product-Similarity:\tPearson: 0.6159\tSpearman: 0.6071\n",
      "2022-09-06 22:07:48 - Binary Accuracy Evaluation of the model on  dataset:\n",
      "2022-09-06 22:07:48 - Accuracy with Cosine-Similarity:           80.55\t(Threshold: 0.3666)\n",
      "2022-09-06 22:07:48 - F1 with Cosine-Similarity:                 85.30\t(Threshold: 0.2743)\n",
      "2022-09-06 22:07:48 - Precision with Cosine-Similarity:          78.46\n",
      "2022-09-06 22:07:48 - Recall with Cosine-Similarity:             93.44\n",
      "2022-09-06 22:07:48 - Average Precision with Cosine-Similarity:  90.90\n",
      "\n",
      "2022-09-06 22:07:48 - Accuracy with Manhattan-Distance:           79.80\t(Threshold: 360.4915)\n",
      "2022-09-06 22:07:48 - F1 with Manhattan-Distance:                 84.60\t(Threshold: 360.4915)\n",
      "2022-09-06 22:07:48 - Precision with Manhattan-Distance:          81.06\n",
      "2022-09-06 22:07:48 - Recall with Manhattan-Distance:             88.47\n",
      "2022-09-06 22:07:48 - Average Precision with Manhattan-Distance:  89.92\n",
      "\n",
      "2022-09-06 22:07:48 - Accuracy with Euclidean-Distance:           79.80\t(Threshold: 16.8818)\n",
      "2022-09-06 22:07:48 - F1 with Euclidean-Distance:                 84.80\t(Threshold: 17.4123)\n",
      "2022-09-06 22:07:48 - Precision with Euclidean-Distance:          78.61\n",
      "2022-09-06 22:07:48 - Recall with Euclidean-Distance:             92.05\n",
      "2022-09-06 22:07:48 - Average Precision with Euclidean-Distance:  90.10\n",
      "\n",
      "2022-09-06 22:07:48 - Accuracy with Dot-Product:           80.30\t(Threshold: 86.6416)\n",
      "2022-09-06 22:07:48 - F1 with Dot-Product:                 85.16\t(Threshold: 62.1346)\n",
      "2022-09-06 22:07:48 - Precision with Dot-Product:          79.38\n",
      "2022-09-06 22:07:48 - Recall with Dot-Product:             91.85\n",
      "2022-09-06 22:07:48 - Average Precision with Dot-Product:  90.75\n",
      "\n"
     ]
    },
    {
     "data": {
      "text/plain": [
       "0.9090447660226931"
      ]
     },
     "execution_count": 21,
     "metadata": {},
     "output_type": "execute_result"
    }
   ],
   "source": [
    "\n",
    "st_model = 'sentence-transformers/quora-distilbert-base'\n",
    "num_epochs = 10\n",
    "batch_size=16\n",
    "model_save_path = \"binary_sim_output/\"+st_model\n",
    "train_dataloader = DataLoader(train_examples, shuffle=True, batch_size=batch_size)\n",
    "  \n",
    "test_dataloader = DataLoader(test_examples, shuffle=True, batch_size=batch_size)\n",
    "model = train_and_evaluate(st_model, train_dataloader, test_dataloader, num_epochs, model_save_path)\n",
    "print(\"\\n\\n\")\n",
    "print(\" \"*20, \"*\"*10, st_model , \"*\"*10)\n",
    "\n",
    "# Load the stored model and evaluate its performance on mohler test dataset\n",
    "model = SentenceTransformer(model_save_path)\n",
    "train_loss = losses.SoftmaxLoss(model=model, sentence_embedding_dimension=model.get_sentence_embedding_dimension(), num_labels=2)\n",
    "test_evaluator = evaluation.EmbeddingSimilarityEvaluator.from_input_examples(test_examples, batch_size=16, name='SPRAG-test')\n",
    "test_evaluator(model, output_path=model_save_path)\n",
    "train_loss.cuda()\n",
    "\n",
    "x_test_dA = test_data['ReferenceAnswer'].values.tolist()\n",
    "x_test_sA = test_data['StudentAnswer'].values.tolist()\n",
    "y_test = test_labels \n",
    "\n",
    "evaluator = evaluation.BinaryClassificationEvaluator(x_test_dA, x_test_sA, y_test)\n",
    "evaluator(model, output_path=model_save_path)\n"
   ]
  },
  {
   "cell_type": "code",
   "execution_count": 22,
   "id": "2b4f91ba",
   "metadata": {},
   "outputs": [
    {
     "data": {
      "application/vnd.jupyter.widget-view+json": {
       "model_id": "edc321582bfd4feea2b37c913a5a876d",
       "version_major": 2,
       "version_minor": 0
      },
      "text/plain": [
       "Batches:   0%|          | 0/1 [00:00<?, ?it/s]"
      ]
     },
     "metadata": {},
     "output_type": "display_data"
    },
    {
     "data": {
      "application/vnd.jupyter.widget-view+json": {
       "model_id": "cc2118157cee4f1a8b64249503394689",
       "version_major": 2,
       "version_minor": 0
      },
      "text/plain": [
       "Batches:   0%|          | 0/1 [00:00<?, ?it/s]"
      ]
     },
     "metadata": {},
     "output_type": "display_data"
    },
    {
     "data": {
      "text/plain": [
       "(768,)"
      ]
     },
     "execution_count": 22,
     "metadata": {},
     "output_type": "execute_result"
    }
   ],
   "source": [
    "#Our sentences we like to encode\n",
    "s1 = model.encode(\"Python is an object oriented programming language\")\n",
    "s2 = model.encode(\"java is an oop language\")\n",
    "\n",
    "s1.shape"
   ]
  },
  {
   "cell_type": "markdown",
   "id": "0667637a",
   "metadata": {},
   "source": []
  },
  {
   "cell_type": "code",
   "execution_count": 23,
   "id": "0c3ebdfe",
   "metadata": {},
   "outputs": [
    {
     "data": {
      "text/plain": [
       "tensor([[0.3458]])"
      ]
     },
     "execution_count": 23,
     "metadata": {},
     "output_type": "execute_result"
    }
   ],
   "source": [
    "#Compute cosine similarity between all pairs\n",
    "from sentence_transformers import util\n",
    "cos_sim = util.cos_sim(s1, s2)\n",
    "cos_sim"
   ]
  },
  {
   "cell_type": "code",
   "execution_count": null,
   "id": "f3185216",
   "metadata": {},
   "outputs": [],
   "source": []
  },
  {
   "cell_type": "code",
   "execution_count": null,
   "id": "6ae53a74",
   "metadata": {},
   "outputs": [],
   "source": []
  }
 ],
 "metadata": {
  "kernelspec": {
   "display_name": "Python 3 (ipykernel)",
   "language": "python",
   "name": "python3"
  },
  "language_info": {
   "codemirror_mode": {
    "name": "ipython",
    "version": 3
   },
   "file_extension": ".py",
   "mimetype": "text/x-python",
   "name": "python",
   "nbconvert_exporter": "python",
   "pygments_lexer": "ipython3",
   "version": "3.9.7"
  }
 },
 "nbformat": 4,
 "nbformat_minor": 5
}
