{
 "cells": [
  {
   "cell_type": "code",
   "execution_count": 1,
   "id": "d81ecea5",
   "metadata": {},
   "outputs": [
    {
     "name": "stdout",
     "output_type": "stream",
     "text": [
      "Defaulting to user installation because normal site-packages is not writeable\n",
      "Requirement already satisfied: sentence-transformers in /home/jupyter-vit_sridevi/.local/lib/python3.9/site-packages (2.2.2)\n",
      "Requirement already satisfied: torchvision in /home/jupyter-vit_sridevi/.local/lib/python3.9/site-packages (from sentence-transformers) (0.13.0)\n",
      "Requirement already satisfied: scikit-learn in /home/jupyter-vit_sridevi/.local/lib/python3.9/site-packages (from sentence-transformers) (1.1.1)\n",
      "Requirement already satisfied: sentencepiece in /home/jupyter-vit_sridevi/.local/lib/python3.9/site-packages (from sentence-transformers) (0.1.96)\n",
      "Requirement already satisfied: transformers<5.0.0,>=4.6.0 in /home/jupyter-vit_sridevi/.local/lib/python3.9/site-packages (from sentence-transformers) (4.20.1)\n",
      "Requirement already satisfied: numpy in /opt/tljh/user/lib/python3.9/site-packages (from sentence-transformers) (1.22.3)\n",
      "Requirement already satisfied: huggingface-hub>=0.4.0 in /home/jupyter-vit_sridevi/.local/lib/python3.9/site-packages (from sentence-transformers) (0.8.1)\n",
      "Requirement already satisfied: scipy in /home/jupyter-vit_sridevi/.local/lib/python3.9/site-packages (from sentence-transformers) (1.8.1)\n",
      "Requirement already satisfied: nltk in /home/jupyter-vit_sridevi/.local/lib/python3.9/site-packages (from sentence-transformers) (3.7)\n",
      "Requirement already satisfied: torch>=1.6.0 in /home/jupyter-vit_sridevi/.local/lib/python3.9/site-packages (from sentence-transformers) (1.12.0)\n",
      "Requirement already satisfied: tqdm in /opt/tljh/user/lib/python3.9/site-packages (from sentence-transformers) (4.62.3)\n",
      "Requirement already satisfied: pyyaml>=5.1 in /home/jupyter-vit_sridevi/.local/lib/python3.9/site-packages (from huggingface-hub>=0.4.0->sentence-transformers) (6.0)\n",
      "Requirement already satisfied: requests in /opt/tljh/user/lib/python3.9/site-packages (from huggingface-hub>=0.4.0->sentence-transformers) (2.26.0)\n",
      "Requirement already satisfied: typing-extensions>=3.7.4.3 in /home/jupyter-vit_sridevi/.local/lib/python3.9/site-packages (from huggingface-hub>=0.4.0->sentence-transformers) (4.3.0)\n",
      "Requirement already satisfied: packaging>=20.9 in /opt/tljh/user/lib/python3.9/site-packages (from huggingface-hub>=0.4.0->sentence-transformers) (21.3)\n",
      "Requirement already satisfied: filelock in /home/jupyter-vit_sridevi/.local/lib/python3.9/site-packages (from huggingface-hub>=0.4.0->sentence-transformers) (3.7.1)\n",
      "Requirement already satisfied: regex!=2019.12.17 in /home/jupyter-vit_sridevi/.local/lib/python3.9/site-packages (from transformers<5.0.0,>=4.6.0->sentence-transformers) (2022.7.9)\n",
      "Requirement already satisfied: tokenizers!=0.11.3,<0.13,>=0.11.1 in /home/jupyter-vit_sridevi/.local/lib/python3.9/site-packages (from transformers<5.0.0,>=4.6.0->sentence-transformers) (0.12.1)\n",
      "Requirement already satisfied: click in /home/jupyter-vit_sridevi/.local/lib/python3.9/site-packages (from nltk->sentence-transformers) (8.1.3)\n",
      "Requirement already satisfied: joblib in /home/jupyter-vit_sridevi/.local/lib/python3.9/site-packages (from nltk->sentence-transformers) (1.1.0)\n",
      "Requirement already satisfied: threadpoolctl>=2.0.0 in /home/jupyter-vit_sridevi/.local/lib/python3.9/site-packages (from scikit-learn->sentence-transformers) (3.1.0)\n",
      "Requirement already satisfied: pillow!=8.3.*,>=5.3.0 in /home/jupyter-vit_sridevi/.local/lib/python3.9/site-packages (from torchvision->sentence-transformers) (9.2.0)\n",
      "Requirement already satisfied: pyparsing!=3.0.5,>=2.0.2 in /opt/tljh/user/lib/python3.9/site-packages (from packaging>=20.9->huggingface-hub>=0.4.0->sentence-transformers) (3.0.9)\n",
      "Requirement already satisfied: urllib3<1.27,>=1.21.1 in /opt/tljh/user/lib/python3.9/site-packages (from requests->huggingface-hub>=0.4.0->sentence-transformers) (1.26.7)\n",
      "Requirement already satisfied: charset-normalizer~=2.0.0 in /opt/tljh/user/lib/python3.9/site-packages (from requests->huggingface-hub>=0.4.0->sentence-transformers) (2.0.0)\n",
      "Requirement already satisfied: certifi>=2017.4.17 in /opt/tljh/user/lib/python3.9/site-packages (from requests->huggingface-hub>=0.4.0->sentence-transformers) (2021.10.8)\n",
      "Requirement already satisfied: idna<4,>=2.5 in /opt/tljh/user/lib/python3.9/site-packages (from requests->huggingface-hub>=0.4.0->sentence-transformers) (3.1)\n",
      "Defaulting to user installation because normal site-packages is not writeable\n",
      "Requirement already satisfied: pandas in /home/jupyter-vit_sridevi/.local/lib/python3.9/site-packages (1.4.3)\n",
      "Requirement already satisfied: numpy>=1.18.5 in /opt/tljh/user/lib/python3.9/site-packages (from pandas) (1.22.3)\n",
      "Requirement already satisfied: pytz>=2020.1 in /opt/tljh/user/lib/python3.9/site-packages (from pandas) (2022.1)\n",
      "Requirement already satisfied: python-dateutil>=2.8.1 in /opt/tljh/user/lib/python3.9/site-packages (from pandas) (2.8.2)\n",
      "Requirement already satisfied: six>=1.5 in /opt/tljh/user/lib/python3.9/site-packages (from python-dateutil>=2.8.1->pandas) (1.16.0)\n"
     ]
    }
   ],
   "source": [
    "!pip install sentence-transformers\n",
    "!pip install pandas\n"
   ]
  },
  {
   "cell_type": "code",
   "execution_count": 2,
   "id": "c445cdaf",
   "metadata": {},
   "outputs": [],
   "source": [
    "\n",
    "\n",
    "from sklearn.metrics import accuracy_score, f1_score\n",
    "from sklearn.linear_model import LogisticRegression\n",
    "from sentence_transformers import SentenceTransformer, InputExample, losses, models, datasets, evaluation\n",
    "from torch.utils.data import DataLoader\n",
    "\n",
    "from sklearn.manifold import TSNE\n",
    "from matplotlib import pyplot as plt\n",
    "\n",
    "# import warnings filter\n",
    "from warnings import simplefilter\n",
    "# ignore all future warnings\n",
    "simplefilter(action='ignore', category=FutureWarning)\n",
    "\n",
    "import pandas as pd\n",
    "import numpy as np\n",
    "\n",
    "import torch\n",
    "import random\n",
    "import torch\n",
    "import random\n",
    "\n",
    "def set_seed(seed):\n",
    "  random.seed(seed)\n",
    "  np.random.seed(seed)\n",
    "  torch.manual_seed(seed)"
   ]
  },
  {
   "cell_type": "code",
   "execution_count": 3,
   "id": "14c99818",
   "metadata": {},
   "outputs": [
    {
     "data": {
      "text/html": [
       "<div>\n",
       "<style scoped>\n",
       "    .dataframe tbody tr th:only-of-type {\n",
       "        vertical-align: middle;\n",
       "    }\n",
       "\n",
       "    .dataframe tbody tr th {\n",
       "        vertical-align: top;\n",
       "    }\n",
       "\n",
       "    .dataframe thead th {\n",
       "        text-align: right;\n",
       "    }\n",
       "</style>\n",
       "<table border=\"1\" class=\"dataframe\">\n",
       "  <thead>\n",
       "    <tr style=\"text-align: right;\">\n",
       "      <th></th>\n",
       "      <th>Unnamed: 0</th>\n",
       "      <th>QuestionID</th>\n",
       "      <th>ReferenceAnswer</th>\n",
       "      <th>StudentAnswer</th>\n",
       "      <th>Score1</th>\n",
       "      <th>Score2</th>\n",
       "      <th>avg_score</th>\n",
       "      <th>max_score</th>\n",
       "    </tr>\n",
       "  </thead>\n",
       "  <tbody>\n",
       "    <tr>\n",
       "      <th>0</th>\n",
       "      <td>0.0</td>\n",
       "      <td>PythonQ001</td>\n",
       "      <td>List, Set and Dictionary are mutable data stru...</td>\n",
       "      <td>Tha object structures which can be changeable ...</td>\n",
       "      <td>1.0</td>\n",
       "      <td>0.0</td>\n",
       "      <td>0.5</td>\n",
       "      <td>1.0</td>\n",
       "    </tr>\n",
       "    <tr>\n",
       "      <th>1</th>\n",
       "      <td>1.0</td>\n",
       "      <td>PythonQ001</td>\n",
       "      <td>List, Set and Dictionary are mutable data stru...</td>\n",
       "      <td>Tuple</td>\n",
       "      <td>0.0</td>\n",
       "      <td>0.0</td>\n",
       "      <td>0.0</td>\n",
       "      <td>0.0</td>\n",
       "    </tr>\n",
       "  </tbody>\n",
       "</table>\n",
       "</div>"
      ],
      "text/plain": [
       "   Unnamed: 0  QuestionID                                    ReferenceAnswer  \\\n",
       "0         0.0  PythonQ001  List, Set and Dictionary are mutable data stru...   \n",
       "1         1.0  PythonQ001  List, Set and Dictionary are mutable data stru...   \n",
       "\n",
       "                                       StudentAnswer  Score1  Score2  \\\n",
       "0  Tha object structures which can be changeable ...     1.0     0.0   \n",
       "1                                              Tuple     0.0     0.0   \n",
       "\n",
       "   avg_score  max_score  \n",
       "0        0.5        1.0  \n",
       "1        0.0        0.0  "
      ]
     },
     "execution_count": 3,
     "metadata": {},
     "output_type": "execute_result"
    }
   ],
   "source": [
    "#Load the sprag dataset\n",
    "data = pd.read_csv(\"refstdcombined.csv\")\n",
    "data.head(2)"
   ]
  },
  {
   "cell_type": "code",
   "execution_count": 4,
   "id": "c830d9ed",
   "metadata": {},
   "outputs": [],
   "source": [
    "data['bin_score'] = data.apply(lambda row : 1 if row.avg_score>=3 else 0, axis=1)"
   ]
  },
  {
   "cell_type": "code",
   "execution_count": 5,
   "id": "fb65373f",
   "metadata": {},
   "outputs": [
    {
     "data": {
      "text/html": [
       "<div>\n",
       "<style scoped>\n",
       "    .dataframe tbody tr th:only-of-type {\n",
       "        vertical-align: middle;\n",
       "    }\n",
       "\n",
       "    .dataframe tbody tr th {\n",
       "        vertical-align: top;\n",
       "    }\n",
       "\n",
       "    .dataframe thead th {\n",
       "        text-align: right;\n",
       "    }\n",
       "</style>\n",
       "<table border=\"1\" class=\"dataframe\">\n",
       "  <thead>\n",
       "    <tr style=\"text-align: right;\">\n",
       "      <th></th>\n",
       "      <th>Unnamed: 0</th>\n",
       "      <th>QuestionID</th>\n",
       "      <th>ReferenceAnswer</th>\n",
       "      <th>StudentAnswer</th>\n",
       "      <th>Score1</th>\n",
       "      <th>Score2</th>\n",
       "      <th>avg_score</th>\n",
       "      <th>max_score</th>\n",
       "      <th>bin_score</th>\n",
       "    </tr>\n",
       "  </thead>\n",
       "  <tbody>\n",
       "    <tr>\n",
       "      <th>0</th>\n",
       "      <td>0.0</td>\n",
       "      <td>PythonQ001</td>\n",
       "      <td>List, Set and Dictionary are mutable data stru...</td>\n",
       "      <td>Tha object structures which can be changeable ...</td>\n",
       "      <td>1.0</td>\n",
       "      <td>0.0</td>\n",
       "      <td>0.5</td>\n",
       "      <td>1.0</td>\n",
       "      <td>0</td>\n",
       "    </tr>\n",
       "    <tr>\n",
       "      <th>1</th>\n",
       "      <td>1.0</td>\n",
       "      <td>PythonQ001</td>\n",
       "      <td>List, Set and Dictionary are mutable data stru...</td>\n",
       "      <td>Tuple</td>\n",
       "      <td>0.0</td>\n",
       "      <td>0.0</td>\n",
       "      <td>0.0</td>\n",
       "      <td>0.0</td>\n",
       "      <td>0</td>\n",
       "    </tr>\n",
       "  </tbody>\n",
       "</table>\n",
       "</div>"
      ],
      "text/plain": [
       "   Unnamed: 0  QuestionID                                    ReferenceAnswer  \\\n",
       "0         0.0  PythonQ001  List, Set and Dictionary are mutable data stru...   \n",
       "1         1.0  PythonQ001  List, Set and Dictionary are mutable data stru...   \n",
       "\n",
       "                                       StudentAnswer  Score1  Score2  \\\n",
       "0  Tha object structures which can be changeable ...     1.0     0.0   \n",
       "1                                              Tuple     0.0     0.0   \n",
       "\n",
       "   avg_score  max_score  bin_score  \n",
       "0        0.5        1.0          0  \n",
       "1        0.0        0.0          0  "
      ]
     },
     "execution_count": 5,
     "metadata": {},
     "output_type": "execute_result"
    }
   ],
   "source": [
    "data.head(2)"
   ]
  },
  {
   "cell_type": "code",
   "execution_count": 6,
   "id": "ac3fd9e5",
   "metadata": {},
   "outputs": [],
   "source": [
    "data = data.dropna()"
   ]
  },
  {
   "cell_type": "code",
   "execution_count": 7,
   "id": "c209e2dd",
   "metadata": {},
   "outputs": [
    {
     "data": {
      "image/png": "[encoded data removed]",
      "text/plain": [
       "<Figure size 432x288 with 1 Axes>"
      ]
     },
     "metadata": {
      "needs_background": "light"
     },
     "output_type": "display_data"
    }
   ],
   "source": [
    "data['bin_score'].value_counts(normalize=True).plot(kind='bar');"
   ]
  },
  {
   "cell_type": "code",
   "execution_count": 8,
   "id": "59468089",
   "metadata": {},
   "outputs": [],
   "source": [
    "#### Just some code to print debug information to stdout\n",
    "import logging\n",
    "from sentence_transformers import LoggingHandler\n",
    "logging.basicConfig(format='%(asctime)s - %(message)s',\n",
    "                    datefmt='%Y-%m-%d %H:%M:%S',\n",
    "                    level=logging.INFO,\n",
    "                    handlers=[LoggingHandler()])"
   ]
  },
  {
   "cell_type": "code",
   "execution_count": 9,
   "id": "088b0996",
   "metadata": {},
   "outputs": [],
   "source": [
    "from sklearn.model_selection import train_test_split\n",
    "\n",
    "# Storing labels in array\n",
    "labels = data['bin_score'].values\n",
    "\n",
    "# Dropping labels column from data\n",
    "data = data.drop(['bin_score'], axis=1)\n",
    "\n",
    "# Splitting data into train and test sets in a 70/30 ratio\n",
    "train_data, test_data, train_labels, test_labels = train_test_split(data, labels, stratify=labels, random_state=42, test_size=0.2)"
   ]
  },
  {
   "cell_type": "code",
   "execution_count": 10,
   "id": "6c00c606",
   "metadata": {},
   "outputs": [
    {
     "data": {
      "text/plain": [
       "(2406.0, numpy.ndarray, (3208,))"
      ]
     },
     "execution_count": 10,
     "metadata": {},
     "output_type": "execute_result"
    }
   ],
   "source": [
    "len(train_data)*0.75, type(train_labels), train_labels.shape\n"
   ]
  },
  {
   "cell_type": "code",
   "execution_count": 11,
   "id": "32056e86",
   "metadata": {},
   "outputs": [],
   "source": [
    "train_data = train_data.iloc[0:2406]\n",
    "train_labels = train_labels[0:2406]"
   ]
  },
  {
   "cell_type": "code",
   "execution_count": 12,
   "id": "94b443ed",
   "metadata": {},
   "outputs": [
    {
     "data": {
      "text/plain": [
       "(pandas.core.frame.DataFrame, numpy.ndarray, 2406, 2406)"
      ]
     },
     "execution_count": 12,
     "metadata": {},
     "output_type": "execute_result"
    }
   ],
   "source": [
    "type(train_data), type(train_labels), len(train_data), len(train_labels)"
   ]
  },
  {
   "cell_type": "code",
   "execution_count": 13,
   "id": "10bf9ca2",
   "metadata": {},
   "outputs": [],
   "source": [
    "\n",
    "def random_deletion(sentence, p=0.2): \n",
    "  words = sentence.split()\n",
    "  if len(words) <= 3:\n",
    "    return ' '.join(words)\n",
    "  remaining = list(filter(lambda x: random.uniform(0,1) > p,words)) \n",
    "  if len(remaining) == 0: # if not left, sample a random word\n",
    "    return ' '.join([random.choice(words)])\n",
    "  else:\n",
    "    return ' '.join(remaining)\n"
   ]
  },
  {
   "cell_type": "code",
   "execution_count": 18,
   "id": "c5fe4bc5",
   "metadata": {},
   "outputs": [
    {
     "data": {
      "text/plain": [
       "'Hi i am'"
      ]
     },
     "execution_count": 18,
     "metadata": {},
     "output_type": "execute_result"
    }
   ],
   "source": [
    "random_deletion(\"Hi i am \")"
   ]
  },
  {
   "cell_type": "code",
   "execution_count": 22,
   "id": "43744dab",
   "metadata": {},
   "outputs": [],
   "source": [
    "def sentence_pairs_generation(sentence1, sentence2, labels, pairs, datatype='train'):\n",
    "\t# initialize two empty lists to hold the (sentence, sentence) pairs and\n",
    "\t# labels to indicate if the grade of the pair\n",
    "\n",
    "  numClassesList = np.unique(labels)\n",
    "  #print(numClassesList)\n",
    "  idx = [np.where(labels == i)[0] for i in numClassesList]\n",
    "  #print(idx)\n",
    "  i=0\n",
    "\n",
    "  for idxA in range(len(sentence1)):      \n",
    "    dAns = sentence1[idxA]\n",
    "    sAns = sentence2[idxA]\n",
    "    label = int(labels[idxA])\n",
    "    \n",
    "\t\t  # prepare a pair and update the sentences and labels lists, respectively\n",
    "    pairs.append(InputExample(texts=[dAns, sAns], label=label))\n",
    "    \n",
    "    if datatype=='train' and random.random() >= 0.5:\n",
    "      sAns = random_deletion(sentence2[idxA])\n",
    "      #print(sAns)\n",
    "      pairs.append(InputExample(texts=[dAns, sAns], label=label))\n",
    "      i = i+1\n",
    "  \n",
    "  print(\"No.of augmented examples : \", i)\n",
    "\n",
    "     \n",
    "\t# return a 2-tuple of our image pairs and labels\n",
    "  return (pairs)"
   ]
  },
  {
   "cell_type": "code",
   "execution_count": 23,
   "id": "73812285",
   "metadata": {},
   "outputs": [],
   "source": [
    "set_seed(0)\n",
    "# Equal samples per class training\n",
    "#train_df_sample = pd.concat([train_df[train_df[1]==0].sample(num_training), train_df[train_df[1]==1].sample(num_training)])\n",
    "x_train_dA = train_data['ReferenceAnswer'].values.tolist()\n",
    "x_train_sA = train_data['StudentAnswer'].values.tolist()\n",
    "y_train = train_labels.tolist()\n",
    "y_train = [int(x) for x in y_train]"
   ]
  },
  {
   "cell_type": "code",
   "execution_count": 24,
   "id": "61fd6221",
   "metadata": {},
   "outputs": [
    {
     "name": "stdout",
     "output_type": "stream",
     "text": [
      "No.of augmented examples :  0\n"
     ]
    }
   ],
   "source": [
    "#use test dataset as dev dataset\n",
    "x_test_dA = test_data['ReferenceAnswer'].values.tolist()\n",
    "x_test_sA = test_data['StudentAnswer'].values.tolist()\n",
    "y_test = test_labels / 1.0\n",
    "y_test = test_labels.tolist()\n",
    "#y_test = [int(x) for x in y_test]\n",
    "\n",
    "test_examples = [] \n",
    "test_examples = sentence_pairs_generation(np.array(x_test_dA), np.array(x_test_sA), np.array(y_test), test_examples, datatype='test')"
   ]
  },
  {
   "cell_type": "code",
   "execution_count": 25,
   "id": "b9c3a924",
   "metadata": {},
   "outputs": [
    {
     "data": {
      "text/plain": [
       "802"
      ]
     },
     "execution_count": 25,
     "metadata": {},
     "output_type": "execute_result"
    }
   ],
   "source": [
    "len(test_examples)"
   ]
  },
  {
   "cell_type": "code",
   "execution_count": 26,
   "id": "6049c777",
   "metadata": {},
   "outputs": [
    {
     "name": "stdout",
     "output_type": "stream",
     "text": [
      "No.of augmented examples :  1247\n"
     ]
    }
   ],
   "source": [
    "train_examples = [] \n",
    "train_examples = sentence_pairs_generation(np.array(x_train_dA), np.array(x_train_sA), np.array(y_train), train_examples)"
   ]
  },
  {
   "cell_type": "code",
   "execution_count": 27,
   "id": "99564e5f",
   "metadata": {},
   "outputs": [
    {
     "data": {
      "text/plain": [
       "3653"
      ]
     },
     "execution_count": 27,
     "metadata": {},
     "output_type": "execute_result"
    }
   ],
   "source": [
    "len(train_examples)"
   ]
  },
  {
   "cell_type": "code",
   "execution_count": 28,
   "id": "5bef49b2",
   "metadata": {},
   "outputs": [],
   "source": [
    "# Save path of the model\n",
    "from datetime import datetime\n",
    "model_save_path = 'output/training_sprag_v4_'+datetime.now().strftime(\"%Y-%m-%d_%H-%M-%S\")"
   ]
  },
  {
   "cell_type": "code",
   "execution_count": 29,
   "id": "cad4f826",
   "metadata": {},
   "outputs": [],
   "source": [
    "from sentence_transformers import evaluation\n",
    "import math\n",
    "\n",
    "\n",
    "def train_and_evaluate(st_model, train_dataloader, test_dataloader, num_epochs,model_save_path):\n",
    "  model = SentenceTransformer(st_model)\n",
    "  #for evaluation\n",
    "  train_loss = losses.SoftmaxLoss(model=model, sentence_embedding_dimension=model.get_sentence_embedding_dimension(), num_labels=2)\n",
    "  #test_evaluator = evaluation.EmbeddingSimilarityEvaluator.from_input_examples(test_examples, batch_size=16, name='SPRAG-test')\n",
    "  x_test_dA = test_data['ReferenceAnswer'].values.tolist()\n",
    "  x_test_sA = test_data['StudentAnswer'].values.tolist()\n",
    "  y_test = test_labels \n",
    "\n",
    "  evaluator = evaluation.BinaryClassificationEvaluator(x_test_dA, x_test_sA, y_test)\n",
    "\n",
    "  #configuring the training\n",
    "  warmup_steps = math.ceil(len(train_dataloader) * num_epochs * 0.1) #10% of train data for warm-up\n",
    "  print(warmup_steps)\n",
    "  #train_loss = losses.CosineSimilarityLoss(model)\n",
    "  model.fit(train_objectives=[(train_dataloader, train_loss)],\n",
    "          evaluator=evaluator,\n",
    "          epochs=num_epochs,\n",
    "          warmup_steps=warmup_steps,\n",
    "          show_progress_bar=True,  \n",
    "          #evaluation_steps=50, \n",
    "          output_path=model_save_path,)\n",
    "  print(\"Training done...\")"
   ]
  },
  {
   "cell_type": "code",
   "execution_count": 30,
   "id": "4d6a71e0",
   "metadata": {},
   "outputs": [
    {
     "name": "stdout",
     "output_type": "stream",
     "text": [
      "2022-09-07 18:54:37 - Load pretrained SentenceTransformer: stsb-distilbert-base\n",
      "2022-09-07 18:54:38 - Use pytorch device: cuda\n",
      "2022-09-07 18:54:38 - Softmax loss: #Vectors concatenated: 3\n",
      "229\n"
     ]
    },
    {
     "data": {
      "application/vnd.jupyter.widget-view+json": {
       "model_id": "9f00edbd079e49f6b75a72d17aa8bcc1",
       "version_major": 2,
       "version_minor": 0
      },
      "text/plain": [
       "Epoch:   0%|          | 0/10 [00:00<?, ?it/s]"
      ]
     },
     "metadata": {},
     "output_type": "display_data"
    },
    {
     "data": {
      "application/vnd.jupyter.widget-view+json": {
       "model_id": "5fbd64b26e294847ae6729e16f0170b6",
       "version_major": 2,
       "version_minor": 0
      },
      "text/plain": [
       "Iteration:   0%|          | 0/229 [00:00<?, ?it/s]"
      ]
     },
     "metadata": {},
     "output_type": "display_data"
    },
    {
     "name": "stdout",
     "output_type": "stream",
     "text": [
      "2022-09-07 18:54:59 - Binary Accuracy Evaluation of the model on  dataset after epoch 0:\n",
      "2022-09-07 18:54:59 - Accuracy with Cosine-Similarity:           78.80\t(Threshold: 0.4616)\n",
      "2022-09-07 18:54:59 - F1 with Cosine-Similarity:                 84.41\t(Threshold: 0.3568)\n",
      "2022-09-07 18:54:59 - Precision with Cosine-Similarity:          75.79\n",
      "2022-09-07 18:54:59 - Recall with Cosine-Similarity:             95.23\n",
      "2022-09-07 18:54:59 - Average Precision with Cosine-Similarity:  90.93\n",
      "\n",
      "2022-09-07 18:54:59 - Accuracy with Manhattan-Distance:           79.55\t(Threshold: 368.9156)\n",
      "2022-09-07 18:54:59 - F1 with Manhattan-Distance:                 84.95\t(Threshold: 369.6714)\n",
      "2022-09-07 18:54:59 - Precision with Manhattan-Distance:          78.88\n",
      "2022-09-07 18:54:59 - Recall with Manhattan-Distance:             92.05\n",
      "2022-09-07 18:54:59 - Average Precision with Manhattan-Distance:  91.05\n",
      "\n",
      "2022-09-07 18:54:59 - Accuracy with Euclidean-Distance:           79.18\t(Threshold: 16.9174)\n",
      "2022-09-07 18:54:59 - F1 with Euclidean-Distance:                 84.80\t(Threshold: 16.9393)\n",
      "2022-09-07 18:54:59 - Precision with Euclidean-Distance:          78.19\n",
      "2022-09-07 18:54:59 - Recall with Euclidean-Distance:             92.64\n",
      "2022-09-07 18:54:59 - Average Precision with Euclidean-Distance:  91.10\n",
      "\n",
      "2022-09-07 18:54:59 - Accuracy with Dot-Product:           78.30\t(Threshold: 111.3411)\n",
      "2022-09-07 18:54:59 - F1 with Dot-Product:                 84.53\t(Threshold: 78.0882)\n",
      "2022-09-07 18:54:59 - Precision with Dot-Product:          74.77\n",
      "2022-09-07 18:54:59 - Recall with Dot-Product:             97.22\n",
      "2022-09-07 18:54:59 - Average Precision with Dot-Product:  90.47\n",
      "\n",
      "2022-09-07 18:54:59 - Save model to binary_sim_output/stsb-distilbert-base\n"
     ]
    },
    {
     "data": {
      "application/vnd.jupyter.widget-view+json": {
       "model_id": "fc9f7464c2724e4683a8ef0062415f25",
       "version_major": 2,
       "version_minor": 0
      },
      "text/plain": [
       "Iteration:   0%|          | 0/229 [00:00<?, ?it/s]"
      ]
     },
     "metadata": {},
     "output_type": "display_data"
    },
    {
     "name": "stdout",
     "output_type": "stream",
     "text": [
      "2022-09-07 18:55:18 - Binary Accuracy Evaluation of the model on  dataset after epoch 1:\n",
      "2022-09-07 18:55:19 - Accuracy with Cosine-Similarity:           81.92\t(Threshold: 0.3924)\n",
      "2022-09-07 18:55:19 - F1 with Cosine-Similarity:                 86.38\t(Threshold: 0.3924)\n",
      "2022-09-07 18:55:19 - Precision with Cosine-Similarity:          81.85\n",
      "2022-09-07 18:55:19 - Recall with Cosine-Similarity:             91.45\n",
      "2022-09-07 18:55:19 - Average Precision with Cosine-Similarity:  91.84\n",
      "\n",
      "2022-09-07 18:55:19 - Accuracy with Manhattan-Distance:           82.29\t(Threshold: 386.6787)\n",
      "2022-09-07 18:55:19 - F1 with Manhattan-Distance:                 86.65\t(Threshold: 391.2766)\n",
      "2022-09-07 18:55:19 - Precision with Manhattan-Distance:          81.69\n",
      "2022-09-07 18:55:19 - Recall with Manhattan-Distance:             92.25\n",
      "2022-09-07 18:55:19 - Average Precision with Manhattan-Distance:  91.92\n",
      "\n",
      "2022-09-07 18:55:19 - Accuracy with Euclidean-Distance:           82.54\t(Threshold: 17.6451)\n",
      "2022-09-07 18:55:19 - F1 with Euclidean-Distance:                 86.87\t(Threshold: 17.6451)\n",
      "2022-09-07 18:55:19 - Precision with Euclidean-Distance:          82.24\n",
      "2022-09-07 18:55:19 - Recall with Euclidean-Distance:             92.05\n",
      "2022-09-07 18:55:19 - Average Precision with Euclidean-Distance:  91.98\n",
      "\n",
      "2022-09-07 18:55:19 - Accuracy with Dot-Product:           81.30\t(Threshold: 97.3991)\n",
      "2022-09-07 18:55:19 - F1 with Dot-Product:                 86.06\t(Threshold: 97.3991)\n",
      "2022-09-07 18:55:19 - Precision with Dot-Product:          80.80\n",
      "2022-09-07 18:55:19 - Recall with Dot-Product:             92.05\n",
      "2022-09-07 18:55:19 - Average Precision with Dot-Product:  91.37\n",
      "\n",
      "2022-09-07 18:55:19 - Save model to binary_sim_output/stsb-distilbert-base\n"
     ]
    },
    {
     "data": {
      "application/vnd.jupyter.widget-view+json": {
       "model_id": "ab6e7db9e5be4f4c909ce79b575a07e0",
       "version_major": 2,
       "version_minor": 0
      },
      "text/plain": [
       "Iteration:   0%|          | 0/229 [00:00<?, ?it/s]"
      ]
     },
     "metadata": {},
     "output_type": "display_data"
    },
    {
     "name": "stdout",
     "output_type": "stream",
     "text": [
      "2022-09-07 18:55:38 - Binary Accuracy Evaluation of the model on  dataset after epoch 2:\n",
      "2022-09-07 18:55:39 - Accuracy with Cosine-Similarity:           81.17\t(Threshold: 0.2022)\n",
      "2022-09-07 18:55:39 - F1 with Cosine-Similarity:                 86.26\t(Threshold: 0.1848)\n",
      "2022-09-07 18:55:39 - Precision with Cosine-Similarity:          79.53\n",
      "2022-09-07 18:55:39 - Recall with Cosine-Similarity:             94.23\n",
      "2022-09-07 18:55:39 - Average Precision with Cosine-Similarity:  91.22\n",
      "\n",
      "2022-09-07 18:55:39 - Accuracy with Manhattan-Distance:           81.67\t(Threshold: 445.3369)\n",
      "2022-09-07 18:55:39 - F1 with Manhattan-Distance:                 86.62\t(Threshold: 452.7309)\n",
      "2022-09-07 18:55:39 - Precision with Manhattan-Distance:          79.44\n",
      "2022-09-07 18:55:39 - Recall with Manhattan-Distance:             95.23\n",
      "2022-09-07 18:55:39 - Average Precision with Manhattan-Distance:  91.46\n",
      "\n",
      "2022-09-07 18:55:39 - Accuracy with Euclidean-Distance:           81.67\t(Threshold: 20.5046)\n",
      "2022-09-07 18:55:39 - F1 with Euclidean-Distance:                 86.70\t(Threshold: 20.5046)\n",
      "2022-09-07 18:55:39 - Precision with Euclidean-Distance:          79.57\n",
      "2022-09-07 18:55:39 - Recall with Euclidean-Distance:             95.23\n",
      "2022-09-07 18:55:39 - Average Precision with Euclidean-Distance:  91.47\n",
      "\n",
      "2022-09-07 18:55:39 - Accuracy with Dot-Product:           81.17\t(Threshold: 50.1069)\n",
      "2022-09-07 18:55:39 - F1 with Dot-Product:                 86.18\t(Threshold: 50.1069)\n",
      "2022-09-07 18:55:39 - Precision with Dot-Product:          79.83\n",
      "2022-09-07 18:55:39 - Recall with Dot-Product:             93.64\n",
      "2022-09-07 18:55:39 - Average Precision with Dot-Product:  90.84\n",
      "\n"
     ]
    },
    {
     "data": {
      "application/vnd.jupyter.widget-view+json": {
       "model_id": "55df290e561543169e26a2d651df1ecf",
       "version_major": 2,
       "version_minor": 0
      },
      "text/plain": [
       "Iteration:   0%|          | 0/229 [00:00<?, ?it/s]"
      ]
     },
     "metadata": {},
     "output_type": "display_data"
    },
    {
     "name": "stdout",
     "output_type": "stream",
     "text": [
      "2022-09-07 18:55:57 - Binary Accuracy Evaluation of the model on  dataset after epoch 3:\n",
      "2022-09-07 18:55:58 - Accuracy with Cosine-Similarity:           80.55\t(Threshold: 0.4012)\n",
      "2022-09-07 18:55:58 - F1 with Cosine-Similarity:                 85.77\t(Threshold: 0.1245)\n",
      "2022-09-07 18:55:58 - Precision with Cosine-Similarity:          78.42\n",
      "2022-09-07 18:55:58 - Recall with Cosine-Similarity:             94.63\n",
      "2022-09-07 18:55:58 - Average Precision with Cosine-Similarity:  91.15\n",
      "\n",
      "2022-09-07 18:55:58 - Accuracy with Manhattan-Distance:           81.05\t(Threshold: 395.6289)\n",
      "2022-09-07 18:55:58 - F1 with Manhattan-Distance:                 85.77\t(Threshold: 478.9796)\n",
      "2022-09-07 18:55:58 - Precision with Manhattan-Distance:          78.42\n",
      "2022-09-07 18:55:58 - Recall with Manhattan-Distance:             94.63\n",
      "2022-09-07 18:55:58 - Average Precision with Manhattan-Distance:  91.33\n",
      "\n",
      "2022-09-07 18:55:58 - Accuracy with Euclidean-Distance:           81.05\t(Threshold: 17.9122)\n",
      "2022-09-07 18:55:58 - F1 with Euclidean-Distance:                 85.92\t(Threshold: 21.6472)\n",
      "2022-09-07 18:55:58 - Precision with Euclidean-Distance:          78.68\n",
      "2022-09-07 18:55:58 - Recall with Euclidean-Distance:             94.63\n",
      "2022-09-07 18:55:58 - Average Precision with Euclidean-Distance:  91.29\n",
      "\n",
      "2022-09-07 18:55:58 - Accuracy with Dot-Product:           80.42\t(Threshold: 89.7953)\n",
      "2022-09-07 18:55:58 - F1 with Dot-Product:                 85.77\t(Threshold: 32.0811)\n",
      "2022-09-07 18:55:58 - Precision with Dot-Product:          78.42\n",
      "2022-09-07 18:55:58 - Recall with Dot-Product:             94.63\n",
      "2022-09-07 18:55:58 - Average Precision with Dot-Product:  90.86\n",
      "\n"
     ]
    },
    {
     "data": {
      "application/vnd.jupyter.widget-view+json": {
       "model_id": "0cb2c496511045729cb0731bf7861967",
       "version_major": 2,
       "version_minor": 0
      },
      "text/plain": [
       "Iteration:   0%|          | 0/229 [00:00<?, ?it/s]"
      ]
     },
     "metadata": {},
     "output_type": "display_data"
    },
    {
     "name": "stdout",
     "output_type": "stream",
     "text": [
      "2022-09-07 18:56:17 - Binary Accuracy Evaluation of the model on  dataset after epoch 4:\n",
      "2022-09-07 18:56:17 - Accuracy with Cosine-Similarity:           81.05\t(Threshold: 0.4431)\n",
      "2022-09-07 18:56:17 - F1 with Cosine-Similarity:                 85.58\t(Threshold: 0.1929)\n",
      "2022-09-07 18:56:17 - Precision with Cosine-Similarity:          79.52\n",
      "2022-09-07 18:56:17 - Recall with Cosine-Similarity:             92.64\n",
      "2022-09-07 18:56:17 - Average Precision with Cosine-Similarity:  91.07\n",
      "\n",
      "2022-09-07 18:56:17 - Accuracy with Manhattan-Distance:           80.67\t(Threshold: 377.9612)\n",
      "2022-09-07 18:56:17 - F1 with Manhattan-Distance:                 85.64\t(Threshold: 469.1945)\n",
      "2022-09-07 18:56:17 - Precision with Manhattan-Distance:          78.89\n",
      "2022-09-07 18:56:17 - Recall with Manhattan-Distance:             93.64\n",
      "2022-09-07 18:56:17 - Average Precision with Manhattan-Distance:  91.18\n",
      "\n",
      "2022-09-07 18:56:17 - Accuracy with Euclidean-Distance:           80.92\t(Threshold: 18.6107)\n",
      "2022-09-07 18:56:17 - F1 with Euclidean-Distance:                 85.77\t(Threshold: 20.9471)\n",
      "2022-09-07 18:56:17 - Precision with Euclidean-Distance:          79.69\n",
      "2022-09-07 18:56:17 - Recall with Euclidean-Distance:             92.84\n",
      "2022-09-07 18:56:17 - Average Precision with Euclidean-Distance:  91.18\n",
      "\n",
      "2022-09-07 18:56:17 - Accuracy with Dot-Product:           80.92\t(Threshold: 106.5504)\n",
      "2022-09-07 18:56:17 - F1 with Dot-Product:                 85.51\t(Threshold: 38.3778)\n",
      "2022-09-07 18:56:17 - Precision with Dot-Product:          78.54\n",
      "2022-09-07 18:56:17 - Recall with Dot-Product:             93.84\n",
      "2022-09-07 18:56:17 - Average Precision with Dot-Product:  90.69\n",
      "\n"
     ]
    },
    {
     "data": {
      "application/vnd.jupyter.widget-view+json": {
       "model_id": "6e985b51f40049958544c42e363c2bf2",
       "version_major": 2,
       "version_minor": 0
      },
      "text/plain": [
       "Iteration:   0%|          | 0/229 [00:00<?, ?it/s]"
      ]
     },
     "metadata": {},
     "output_type": "display_data"
    },
    {
     "name": "stdout",
     "output_type": "stream",
     "text": [
      "2022-09-07 18:56:36 - Binary Accuracy Evaluation of the model on  dataset after epoch 5:\n",
      "2022-09-07 18:56:37 - Accuracy with Cosine-Similarity:           81.30\t(Threshold: 0.1743)\n",
      "2022-09-07 18:56:37 - F1 with Cosine-Similarity:                 85.96\t(Threshold: 0.1743)\n",
      "2022-09-07 18:56:37 - Precision with Cosine-Similarity:          81.24\n",
      "2022-09-07 18:56:37 - Recall with Cosine-Similarity:             91.25\n",
      "2022-09-07 18:56:37 - Average Precision with Cosine-Similarity:  90.97\n",
      "\n",
      "2022-09-07 18:56:37 - Accuracy with Manhattan-Distance:           81.05\t(Threshold: 465.0609)\n",
      "2022-09-07 18:56:37 - F1 with Manhattan-Distance:                 85.77\t(Threshold: 465.0609)\n",
      "2022-09-07 18:56:37 - Precision with Manhattan-Distance:          81.06\n",
      "2022-09-07 18:56:37 - Recall with Manhattan-Distance:             91.05\n",
      "2022-09-07 18:56:37 - Average Precision with Manhattan-Distance:  91.14\n",
      "\n",
      "2022-09-07 18:56:37 - Accuracy with Euclidean-Distance:           81.05\t(Threshold: 20.7593)\n",
      "2022-09-07 18:56:37 - F1 with Euclidean-Distance:                 85.74\t(Threshold: 21.5467)\n",
      "2022-09-07 18:56:37 - Precision with Euclidean-Distance:          80.70\n",
      "2022-09-07 18:56:37 - Recall with Euclidean-Distance:             91.45\n",
      "2022-09-07 18:56:37 - Average Precision with Euclidean-Distance:  91.12\n",
      "\n",
      "2022-09-07 18:56:37 - Accuracy with Dot-Product:           81.30\t(Threshold: 47.9526)\n",
      "2022-09-07 18:56:37 - F1 with Dot-Product:                 85.96\t(Threshold: 47.9526)\n",
      "2022-09-07 18:56:37 - Precision with Dot-Product:          81.24\n",
      "2022-09-07 18:56:37 - Recall with Dot-Product:             91.25\n",
      "2022-09-07 18:56:37 - Average Precision with Dot-Product:  90.46\n",
      "\n"
     ]
    },
    {
     "data": {
      "application/vnd.jupyter.widget-view+json": {
       "model_id": "da22bc8d8f58490b9632b57599b1f5b4",
       "version_major": 2,
       "version_minor": 0
      },
      "text/plain": [
       "Iteration:   0%|          | 0/229 [00:00<?, ?it/s]"
      ]
     },
     "metadata": {},
     "output_type": "display_data"
    },
    {
     "name": "stdout",
     "output_type": "stream",
     "text": [
      "2022-09-07 18:56:55 - Binary Accuracy Evaluation of the model on  dataset after epoch 6:\n",
      "2022-09-07 18:56:56 - Accuracy with Cosine-Similarity:           81.30\t(Threshold: 0.1804)\n",
      "2022-09-07 18:56:56 - F1 with Cosine-Similarity:                 85.93\t(Threshold: 0.1804)\n",
      "2022-09-07 18:56:56 - Precision with Cosine-Similarity:          81.35\n",
      "2022-09-07 18:56:56 - Recall with Cosine-Similarity:             91.05\n",
      "2022-09-07 18:56:56 - Average Precision with Cosine-Similarity:  90.86\n",
      "\n",
      "2022-09-07 18:56:56 - Accuracy with Manhattan-Distance:           81.17\t(Threshold: 472.0653)\n",
      "2022-09-07 18:56:56 - F1 with Manhattan-Distance:                 85.93\t(Threshold: 472.0653)\n",
      "2022-09-07 18:56:56 - Precision with Manhattan-Distance:          80.88\n",
      "2022-09-07 18:56:56 - Recall with Manhattan-Distance:             91.65\n",
      "2022-09-07 18:56:56 - Average Precision with Manhattan-Distance:  90.96\n",
      "\n",
      "2022-09-07 18:56:56 - Accuracy with Euclidean-Distance:           81.30\t(Threshold: 21.5557)\n",
      "2022-09-07 18:56:56 - F1 with Euclidean-Distance:                 86.01\t(Threshold: 21.5557)\n",
      "2022-09-07 18:56:56 - Precision with Euclidean-Distance:          81.02\n",
      "2022-09-07 18:56:56 - Recall with Euclidean-Distance:             91.65\n",
      "2022-09-07 18:56:56 - Average Precision with Euclidean-Distance:  90.99\n",
      "\n",
      "2022-09-07 18:56:56 - Accuracy with Dot-Product:           81.17\t(Threshold: 47.1556)\n",
      "2022-09-07 18:56:56 - F1 with Dot-Product:                 85.87\t(Threshold: 47.1556)\n",
      "2022-09-07 18:56:56 - Precision with Dot-Product:          81.10\n",
      "2022-09-07 18:56:56 - Recall with Dot-Product:             91.25\n",
      "2022-09-07 18:56:56 - Average Precision with Dot-Product:  90.38\n",
      "\n"
     ]
    },
    {
     "data": {
      "application/vnd.jupyter.widget-view+json": {
       "model_id": "c29c2466529e4520a08ee9285f796c2c",
       "version_major": 2,
       "version_minor": 0
      },
      "text/plain": [
       "Iteration:   0%|          | 0/229 [00:00<?, ?it/s]"
      ]
     },
     "metadata": {},
     "output_type": "display_data"
    },
    {
     "name": "stdout",
     "output_type": "stream",
     "text": [
      "2022-09-07 18:57:14 - Binary Accuracy Evaluation of the model on  dataset after epoch 7:\n",
      "2022-09-07 18:57:14 - Accuracy with Cosine-Similarity:           81.55\t(Threshold: 0.4114)\n",
      "2022-09-07 18:57:14 - F1 with Cosine-Similarity:                 85.63\t(Threshold: 0.4114)\n",
      "2022-09-07 18:57:14 - Precision with Cosine-Similarity:          83.68\n",
      "2022-09-07 18:57:14 - Recall with Cosine-Similarity:             87.67\n",
      "2022-09-07 18:57:14 - Average Precision with Cosine-Similarity:  90.89\n",
      "\n",
      "2022-09-07 18:57:14 - Accuracy with Manhattan-Distance:           81.42\t(Threshold: 365.1011)\n",
      "2022-09-07 18:57:14 - F1 with Manhattan-Distance:                 85.63\t(Threshold: 434.0256)\n",
      "2022-09-07 18:57:14 - Precision with Manhattan-Distance:          81.62\n",
      "2022-09-07 18:57:14 - Recall with Manhattan-Distance:             90.06\n",
      "2022-09-07 18:57:14 - Average Precision with Manhattan-Distance:  91.00\n",
      "\n",
      "2022-09-07 18:57:14 - Accuracy with Euclidean-Distance:           81.55\t(Threshold: 16.8506)\n",
      "2022-09-07 18:57:14 - F1 with Euclidean-Distance:                 85.69\t(Threshold: 20.3997)\n",
      "2022-09-07 18:57:14 - Precision with Euclidean-Distance:          81.40\n",
      "2022-09-07 18:57:14 - Recall with Euclidean-Distance:             90.46\n",
      "2022-09-07 18:57:14 - Average Precision with Euclidean-Distance:  91.01\n",
      "\n",
      "2022-09-07 18:57:14 - Accuracy with Dot-Product:           81.42\t(Threshold: 111.4200)\n",
      "2022-09-07 18:57:14 - F1 with Dot-Product:                 85.52\t(Threshold: 111.4200)\n",
      "2022-09-07 18:57:14 - Precision with Dot-Product:          83.65\n",
      "2022-09-07 18:57:14 - Recall with Dot-Product:             87.48\n",
      "2022-09-07 18:57:14 - Average Precision with Dot-Product:  90.47\n",
      "\n"
     ]
    },
    {
     "data": {
      "application/vnd.jupyter.widget-view+json": {
       "model_id": "56e85303f82540bdbac731a4de5c0ba2",
       "version_major": 2,
       "version_minor": 0
      },
      "text/plain": [
       "Iteration:   0%|          | 0/229 [00:00<?, ?it/s]"
      ]
     },
     "metadata": {},
     "output_type": "display_data"
    },
    {
     "name": "stdout",
     "output_type": "stream",
     "text": [
      "2022-09-07 18:57:32 - Binary Accuracy Evaluation of the model on  dataset after epoch 8:\n",
      "2022-09-07 18:57:33 - Accuracy with Cosine-Similarity:           81.30\t(Threshold: 0.2571)\n",
      "2022-09-07 18:57:33 - F1 with Cosine-Similarity:                 85.85\t(Threshold: 0.2233)\n",
      "2022-09-07 18:57:33 - Precision with Cosine-Similarity:          81.69\n",
      "2022-09-07 18:57:33 - Recall with Cosine-Similarity:             90.46\n",
      "2022-09-07 18:57:33 - Average Precision with Cosine-Similarity:  91.05\n",
      "\n",
      "2022-09-07 18:57:33 - Accuracy with Manhattan-Distance:           81.67\t(Threshold: 402.5538)\n",
      "2022-09-07 18:57:33 - F1 with Manhattan-Distance:                 85.82\t(Threshold: 442.7583)\n",
      "2022-09-07 18:57:33 - Precision with Manhattan-Distance:          81.80\n",
      "2022-09-07 18:57:33 - Recall with Manhattan-Distance:             90.26\n",
      "2022-09-07 18:57:33 - Average Precision with Manhattan-Distance:  91.15\n",
      "\n",
      "2022-09-07 18:57:33 - Accuracy with Euclidean-Distance:           81.42\t(Threshold: 18.6108)\n",
      "2022-09-07 18:57:33 - F1 with Euclidean-Distance:                 86.01\t(Threshold: 20.8452)\n",
      "2022-09-07 18:57:33 - Precision with Euclidean-Distance:          81.49\n",
      "2022-09-07 18:57:33 - Recall with Euclidean-Distance:             91.05\n",
      "2022-09-07 18:57:33 - Average Precision with Euclidean-Distance:  91.14\n",
      "\n",
      "2022-09-07 18:57:33 - Accuracy with Dot-Product:           81.30\t(Threshold: 66.8805)\n",
      "2022-09-07 18:57:33 - F1 with Dot-Product:                 85.80\t(Threshold: 64.9855)\n",
      "2022-09-07 18:57:33 - Precision with Dot-Product:          81.92\n",
      "2022-09-07 18:57:33 - Recall with Dot-Product:             90.06\n",
      "2022-09-07 18:57:33 - Average Precision with Dot-Product:  90.66\n",
      "\n"
     ]
    },
    {
     "data": {
      "application/vnd.jupyter.widget-view+json": {
       "model_id": "5a7c4a9ead1440f7befc3baea7c16136",
       "version_major": 2,
       "version_minor": 0
      },
      "text/plain": [
       "Iteration:   0%|          | 0/229 [00:00<?, ?it/s]"
      ]
     },
     "metadata": {},
     "output_type": "display_data"
    },
    {
     "name": "stdout",
     "output_type": "stream",
     "text": [
      "2022-09-07 18:57:51 - Binary Accuracy Evaluation of the model on  dataset after epoch 9:\n",
      "2022-09-07 18:57:51 - Accuracy with Cosine-Similarity:           81.67\t(Threshold: 0.3789)\n",
      "2022-09-07 18:57:51 - F1 with Cosine-Similarity:                 85.93\t(Threshold: 0.3759)\n",
      "2022-09-07 18:57:51 - Precision with Cosine-Similarity:          82.84\n",
      "2022-09-07 18:57:51 - Recall with Cosine-Similarity:             89.26\n",
      "2022-09-07 18:57:51 - Average Precision with Cosine-Similarity:  91.05\n",
      "\n",
      "2022-09-07 18:57:51 - Accuracy with Manhattan-Distance:           81.80\t(Threshold: 405.7445)\n",
      "2022-09-07 18:57:51 - F1 with Manhattan-Distance:                 85.99\t(Threshold: 405.7445)\n",
      "2022-09-07 18:57:51 - Precision with Manhattan-Distance:          83.12\n",
      "2022-09-07 18:57:51 - Recall with Manhattan-Distance:             89.07\n",
      "2022-09-07 18:57:51 - Average Precision with Manhattan-Distance:  91.11\n",
      "\n",
      "2022-09-07 18:57:51 - Accuracy with Euclidean-Distance:           81.67\t(Threshold: 18.5909)\n",
      "2022-09-07 18:57:51 - F1 with Euclidean-Distance:                 85.91\t(Threshold: 18.5909)\n",
      "2022-09-07 18:57:51 - Precision with Euclidean-Distance:          82.96\n",
      "2022-09-07 18:57:51 - Recall with Euclidean-Distance:             89.07\n",
      "2022-09-07 18:57:51 - Average Precision with Euclidean-Distance:  91.13\n",
      "\n",
      "2022-09-07 18:57:51 - Accuracy with Dot-Product:           81.42\t(Threshold: 113.7476)\n",
      "2022-09-07 18:57:51 - F1 with Dot-Product:                 85.82\t(Threshold: 92.9659)\n",
      "2022-09-07 18:57:51 - Precision with Dot-Product:          82.30\n",
      "2022-09-07 18:57:51 - Recall with Dot-Product:             89.66\n",
      "2022-09-07 18:57:51 - Average Precision with Dot-Product:  90.65\n",
      "\n",
      "Training done...\n",
      "\n",
      "\n",
      "\n",
      "                     ********** stsb-distilbert-base **********\n",
      "2022-09-07 18:57:51 - Load pretrained SentenceTransformer: binary_sim_output/stsb-distilbert-base\n",
      "2022-09-07 18:57:52 - Use pytorch device: cuda\n",
      "2022-09-07 18:57:52 - Softmax loss: #Vectors concatenated: 3\n",
      "2022-09-07 18:57:52 - EmbeddingSimilarityEvaluator: Evaluating the model on SPRAG-test dataset:\n",
      "2022-09-07 18:57:53 - Cosine-Similarity :\tPearson: 0.6492\tSpearman: 0.6321\n",
      "2022-09-07 18:57:53 - Manhattan-Distance:\tPearson: 0.6251\tSpearman: 0.6345\n",
      "2022-09-07 18:57:53 - Euclidean-Distance:\tPearson: 0.6274\tSpearman: 0.6357\n",
      "2022-09-07 18:57:53 - Dot-Product-Similarity:\tPearson: 0.6413\tSpearman: 0.6241\n",
      "2022-09-07 18:57:53 - Binary Accuracy Evaluation of the model on  dataset:\n",
      "2022-09-07 18:57:54 - Accuracy with Cosine-Similarity:           81.92\t(Threshold: 0.3924)\n",
      "2022-09-07 18:57:54 - F1 with Cosine-Similarity:                 86.38\t(Threshold: 0.3924)\n",
      "2022-09-07 18:57:54 - Precision with Cosine-Similarity:          81.85\n",
      "2022-09-07 18:57:54 - Recall with Cosine-Similarity:             91.45\n",
      "2022-09-07 18:57:54 - Average Precision with Cosine-Similarity:  91.84\n",
      "\n",
      "2022-09-07 18:57:54 - Accuracy with Manhattan-Distance:           82.29\t(Threshold: 386.6787)\n",
      "2022-09-07 18:57:54 - F1 with Manhattan-Distance:                 86.65\t(Threshold: 391.2766)\n",
      "2022-09-07 18:57:54 - Precision with Manhattan-Distance:          81.69\n",
      "2022-09-07 18:57:54 - Recall with Manhattan-Distance:             92.25\n",
      "2022-09-07 18:57:54 - Average Precision with Manhattan-Distance:  91.92\n",
      "\n",
      "2022-09-07 18:57:54 - Accuracy with Euclidean-Distance:           82.54\t(Threshold: 17.6451)\n",
      "2022-09-07 18:57:54 - F1 with Euclidean-Distance:                 86.87\t(Threshold: 17.6451)\n",
      "2022-09-07 18:57:54 - Precision with Euclidean-Distance:          82.24\n",
      "2022-09-07 18:57:54 - Recall with Euclidean-Distance:             92.05\n",
      "2022-09-07 18:57:54 - Average Precision with Euclidean-Distance:  91.98\n",
      "\n",
      "2022-09-07 18:57:54 - Accuracy with Dot-Product:           81.30\t(Threshold: 97.3991)\n",
      "2022-09-07 18:57:54 - F1 with Dot-Product:                 86.06\t(Threshold: 97.3991)\n",
      "2022-09-07 18:57:54 - Precision with Dot-Product:          80.80\n",
      "2022-09-07 18:57:54 - Recall with Dot-Product:             92.05\n",
      "2022-09-07 18:57:54 - Average Precision with Dot-Product:  91.37\n",
      "\n"
     ]
    },
    {
     "data": {
      "text/plain": [
       "0.9198119808974333"
      ]
     },
     "execution_count": 30,
     "metadata": {},
     "output_type": "execute_result"
    }
   ],
   "source": [
    "st_model = 'stsb-distilbert-base'\n",
    "num_epochs = 10\n",
    "batch_size=16\n",
    "model_save_path = \"binary_sim_output/\"+st_model\n",
    "train_dataloader = DataLoader(train_examples, shuffle=True, batch_size=batch_size)\n",
    "  \n",
    "test_dataloader = DataLoader(test_examples, shuffle=True, batch_size=batch_size)\n",
    "model = train_and_evaluate(st_model, train_dataloader, test_dataloader, num_epochs, model_save_path)\n",
    "print(\"\\n\\n\")\n",
    "print(\" \"*20, \"*\"*10, st_model , \"*\"*10)\n",
    "\n",
    "# Load the stored model and evaluate its performance on mohler test dataset\n",
    "model = SentenceTransformer(model_save_path)\n",
    "train_loss = losses.SoftmaxLoss(model=model, sentence_embedding_dimension=model.get_sentence_embedding_dimension(), num_labels=2)\n",
    "test_evaluator = evaluation.EmbeddingSimilarityEvaluator.from_input_examples(test_examples, batch_size=16, name='SPRAG-test')\n",
    "test_evaluator(model, output_path=model_save_path)\n",
    "train_loss.cuda()\n",
    "\n",
    "x_test_dA = test_data['ReferenceAnswer'].values.tolist()\n",
    "x_test_sA = test_data['StudentAnswer'].values.tolist()\n",
    "y_test = test_labels \n",
    "\n",
    "evaluator = evaluation.BinaryClassificationEvaluator(x_test_dA, x_test_sA, y_test)\n",
    "evaluator(model, output_path=model_save_path)\n"
   ]
  },
  {
   "cell_type": "code",
   "execution_count": 31,
   "id": "28ca7d4f",
   "metadata": {},
   "outputs": [
    {
     "name": "stdout",
     "output_type": "stream",
     "text": [
      "2022-09-07 18:57:54 - Load pretrained SentenceTransformer: sentence-transformers/paraphrase-albert-small-v2\n",
      "2022-09-07 18:57:54 - Use pytorch device: cuda\n",
      "2022-09-07 18:57:54 - Softmax loss: #Vectors concatenated: 3\n",
      "229\n"
     ]
    },
    {
     "data": {
      "application/vnd.jupyter.widget-view+json": {
       "model_id": "3d1f23a3969b47a78d7d587475b081bc",
       "version_major": 2,
       "version_minor": 0
      },
      "text/plain": [
       "Epoch:   0%|          | 0/10 [00:00<?, ?it/s]"
      ]
     },
     "metadata": {},
     "output_type": "display_data"
    },
    {
     "data": {
      "application/vnd.jupyter.widget-view+json": {
       "model_id": "c0e3bb9e4594431199285d951a3c6226",
       "version_major": 2,
       "version_minor": 0
      },
      "text/plain": [
       "Iteration:   0%|          | 0/229 [00:00<?, ?it/s]"
      ]
     },
     "metadata": {},
     "output_type": "display_data"
    },
    {
     "name": "stdout",
     "output_type": "stream",
     "text": [
      "2022-09-07 18:58:11 - Binary Accuracy Evaluation of the model on  dataset after epoch 0:\n",
      "2022-09-07 18:58:11 - Accuracy with Cosine-Similarity:           79.18\t(Threshold: 0.5186)\n",
      "2022-09-07 18:58:11 - F1 with Cosine-Similarity:                 83.32\t(Threshold: 0.5169)\n",
      "2022-09-07 18:58:11 - Precision with Cosine-Similarity:          83.73\n",
      "2022-09-07 18:58:11 - Recall with Cosine-Similarity:             82.90\n",
      "2022-09-07 18:58:11 - Average Precision with Cosine-Similarity:  88.52\n",
      "\n",
      "2022-09-07 18:58:11 - Accuracy with Manhattan-Distance:           77.68\t(Threshold: 536.3831)\n",
      "2022-09-07 18:58:11 - F1 with Manhattan-Distance:                 83.46\t(Threshold: 553.2213)\n",
      "2022-09-07 18:58:11 - Precision with Manhattan-Distance:          77.61\n",
      "2022-09-07 18:58:11 - Recall with Manhattan-Distance:             90.26\n",
      "2022-09-07 18:58:11 - Average Precision with Manhattan-Distance:  88.30\n",
      "\n",
      "2022-09-07 18:58:11 - Accuracy with Euclidean-Distance:           77.81\t(Threshold: 24.4337)\n",
      "2022-09-07 18:58:11 - F1 with Euclidean-Distance:                 83.30\t(Threshold: 25.0216)\n",
      "2022-09-07 18:58:11 - Precision with Euclidean-Distance:          78.09\n",
      "2022-09-07 18:58:11 - Recall with Euclidean-Distance:             89.26\n",
      "2022-09-07 18:58:11 - Average Precision with Euclidean-Distance:  88.38\n",
      "\n",
      "2022-09-07 18:58:11 - Accuracy with Dot-Product:           75.44\t(Threshold: 282.7301)\n",
      "2022-09-07 18:58:11 - F1 with Dot-Product:                 82.26\t(Threshold: 210.6336)\n",
      "2022-09-07 18:58:11 - Precision with Dot-Product:          73.11\n",
      "2022-09-07 18:58:11 - Recall with Dot-Product:             94.04\n",
      "2022-09-07 18:58:11 - Average Precision with Dot-Product:  86.47\n",
      "\n",
      "2022-09-07 18:58:11 - Save model to binary_sim_output/sentence-transformers/paraphrase-albert-small-v2\n"
     ]
    },
    {
     "data": {
      "application/vnd.jupyter.widget-view+json": {
       "model_id": "cc7f760a8b1d4e01b2ec6ea7fbf5ca0c",
       "version_major": 2,
       "version_minor": 0
      },
      "text/plain": [
       "Iteration:   0%|          | 0/229 [00:00<?, ?it/s]"
      ]
     },
     "metadata": {},
     "output_type": "display_data"
    },
    {
     "name": "stdout",
     "output_type": "stream",
     "text": [
      "2022-09-07 18:58:28 - Binary Accuracy Evaluation of the model on  dataset after epoch 1:\n",
      "2022-09-07 18:58:29 - Accuracy with Cosine-Similarity:           79.43\t(Threshold: 0.4670)\n",
      "2022-09-07 18:58:29 - F1 with Cosine-Similarity:                 83.96\t(Threshold: 0.3712)\n",
      "2022-09-07 18:58:29 - Precision with Cosine-Similarity:          76.77\n",
      "2022-09-07 18:58:29 - Recall with Cosine-Similarity:             92.64\n",
      "2022-09-07 18:58:29 - Average Precision with Cosine-Similarity:  88.64\n",
      "\n",
      "2022-09-07 18:58:29 - Accuracy with Manhattan-Distance:           79.80\t(Threshold: 617.5675)\n",
      "2022-09-07 18:58:29 - F1 with Manhattan-Distance:                 84.74\t(Threshold: 626.7361)\n",
      "2022-09-07 18:58:29 - Precision with Manhattan-Distance:          79.24\n",
      "2022-09-07 18:58:29 - Recall with Manhattan-Distance:             91.05\n",
      "2022-09-07 18:58:29 - Average Precision with Manhattan-Distance:  88.53\n",
      "\n",
      "2022-09-07 18:58:29 - Accuracy with Euclidean-Distance:           79.80\t(Threshold: 27.9679)\n",
      "2022-09-07 18:58:29 - F1 with Euclidean-Distance:                 84.79\t(Threshold: 28.2975)\n",
      "2022-09-07 18:58:29 - Precision with Euclidean-Distance:          79.48\n",
      "2022-09-07 18:58:29 - Recall with Euclidean-Distance:             90.85\n",
      "2022-09-07 18:58:29 - Average Precision with Euclidean-Distance:  88.54\n",
      "\n",
      "2022-09-07 18:58:29 - Accuracy with Dot-Product:           78.18\t(Threshold: 308.8847)\n",
      "2022-09-07 18:58:29 - F1 with Dot-Product:                 83.20\t(Threshold: 213.3858)\n",
      "2022-09-07 18:58:29 - Precision with Dot-Product:          73.40\n",
      "2022-09-07 18:58:29 - Recall with Dot-Product:             96.02\n",
      "2022-09-07 18:58:29 - Average Precision with Dot-Product:  87.15\n",
      "\n",
      "2022-09-07 18:58:29 - Save model to binary_sim_output/sentence-transformers/paraphrase-albert-small-v2\n"
     ]
    },
    {
     "data": {
      "application/vnd.jupyter.widget-view+json": {
       "model_id": "d053d0e82977404bb7713e383a4d2ad6",
       "version_major": 2,
       "version_minor": 0
      },
      "text/plain": [
       "Iteration:   0%|          | 0/229 [00:00<?, ?it/s]"
      ]
     },
     "metadata": {},
     "output_type": "display_data"
    },
    {
     "name": "stdout",
     "output_type": "stream",
     "text": [
      "2022-09-07 18:58:46 - Binary Accuracy Evaluation of the model on  dataset after epoch 2:\n",
      "2022-09-07 18:58:46 - Accuracy with Cosine-Similarity:           81.17\t(Threshold: 0.3892)\n",
      "2022-09-07 18:58:46 - F1 with Cosine-Similarity:                 85.55\t(Threshold: 0.3892)\n",
      "2022-09-07 18:58:46 - Precision with Cosine-Similarity:          82.47\n",
      "2022-09-07 18:58:46 - Recall with Cosine-Similarity:             88.87\n",
      "2022-09-07 18:58:46 - Average Precision with Cosine-Similarity:  89.69\n",
      "\n",
      "2022-09-07 18:58:46 - Accuracy with Manhattan-Distance:           79.93\t(Threshold: 692.3163)\n",
      "2022-09-07 18:58:46 - F1 with Manhattan-Distance:                 85.20\t(Threshold: 742.7900)\n",
      "2022-09-07 18:58:46 - Precision with Manhattan-Distance:          77.61\n",
      "2022-09-07 18:58:46 - Recall with Manhattan-Distance:             94.43\n",
      "2022-09-07 18:58:46 - Average Precision with Manhattan-Distance:  89.75\n",
      "\n",
      "2022-09-07 18:58:46 - Accuracy with Euclidean-Distance:           80.42\t(Threshold: 31.9835)\n",
      "2022-09-07 18:58:46 - F1 with Euclidean-Distance:                 85.34\t(Threshold: 32.0189)\n",
      "2022-09-07 18:58:46 - Precision with Euclidean-Distance:          80.46\n",
      "2022-09-07 18:58:46 - Recall with Euclidean-Distance:             90.85\n",
      "2022-09-07 18:58:46 - Average Precision with Euclidean-Distance:  89.67\n",
      "\n",
      "2022-09-07 18:58:46 - Accuracy with Dot-Product:           81.17\t(Threshold: 330.8039)\n",
      "2022-09-07 18:58:46 - F1 with Dot-Product:                 85.66\t(Threshold: 274.9785)\n",
      "2022-09-07 18:58:46 - Precision with Dot-Product:          79.66\n",
      "2022-09-07 18:58:46 - Recall with Dot-Product:             92.64\n",
      "2022-09-07 18:58:46 - Average Precision with Dot-Product:  88.76\n",
      "\n",
      "2022-09-07 18:58:46 - Save model to binary_sim_output/sentence-transformers/paraphrase-albert-small-v2\n"
     ]
    },
    {
     "data": {
      "application/vnd.jupyter.widget-view+json": {
       "model_id": "3c1de383b78d44be9e252cd618548386",
       "version_major": 2,
       "version_minor": 0
      },
      "text/plain": [
       "Iteration:   0%|          | 0/229 [00:00<?, ?it/s]"
      ]
     },
     "metadata": {},
     "output_type": "display_data"
    },
    {
     "name": "stdout",
     "output_type": "stream",
     "text": [
      "2022-09-07 18:59:03 - Binary Accuracy Evaluation of the model on  dataset after epoch 3:\n",
      "2022-09-07 18:59:03 - Accuracy with Cosine-Similarity:           80.80\t(Threshold: 0.3294)\n",
      "2022-09-07 18:59:03 - F1 with Cosine-Similarity:                 85.71\t(Threshold: 0.3294)\n",
      "2022-09-07 18:59:03 - Precision with Cosine-Similarity:          80.35\n",
      "2022-09-07 18:59:03 - Recall with Cosine-Similarity:             91.85\n",
      "2022-09-07 18:59:03 - Average Precision with Cosine-Similarity:  89.58\n",
      "\n",
      "2022-09-07 18:59:04 - Accuracy with Manhattan-Distance:           79.80\t(Threshold: 717.0208)\n",
      "2022-09-07 18:59:04 - F1 with Manhattan-Distance:                 84.96\t(Threshold: 752.1400)\n",
      "2022-09-07 18:59:04 - Precision with Manhattan-Distance:          78.45\n",
      "2022-09-07 18:59:04 - Recall with Manhattan-Distance:             92.64\n",
      "2022-09-07 18:59:04 - Average Precision with Manhattan-Distance:  89.75\n",
      "\n",
      "2022-09-07 18:59:04 - Accuracy with Euclidean-Distance:           79.80\t(Threshold: 32.1711)\n",
      "2022-09-07 18:59:04 - F1 with Euclidean-Distance:                 84.70\t(Threshold: 34.3776)\n",
      "2022-09-07 18:59:04 - Precision with Euclidean-Distance:          78.15\n",
      "2022-09-07 18:59:04 - Recall with Euclidean-Distance:             92.45\n",
      "2022-09-07 18:59:04 - Average Precision with Euclidean-Distance:  89.67\n",
      "\n",
      "2022-09-07 18:59:04 - Accuracy with Dot-Product:           80.67\t(Threshold: 294.5972)\n",
      "2022-09-07 18:59:04 - F1 with Dot-Product:                 85.45\t(Threshold: 294.5972)\n",
      "2022-09-07 18:59:04 - Precision with Dot-Product:          80.96\n",
      "2022-09-07 18:59:04 - Recall with Dot-Product:             90.46\n",
      "2022-09-07 18:59:04 - Average Precision with Dot-Product:  88.88\n",
      "\n"
     ]
    },
    {
     "data": {
      "application/vnd.jupyter.widget-view+json": {
       "model_id": "ba63f3a4ed7343578bfacb40185b2a8b",
       "version_major": 2,
       "version_minor": 0
      },
      "text/plain": [
       "Iteration:   0%|          | 0/229 [00:00<?, ?it/s]"
      ]
     },
     "metadata": {},
     "output_type": "display_data"
    },
    {
     "name": "stdout",
     "output_type": "stream",
     "text": [
      "2022-09-07 18:59:20 - Binary Accuracy Evaluation of the model on  dataset after epoch 4:\n",
      "2022-09-07 18:59:21 - Accuracy with Cosine-Similarity:           79.80\t(Threshold: 0.4516)\n",
      "2022-09-07 18:59:21 - F1 with Cosine-Similarity:                 85.20\t(Threshold: 0.2571)\n",
      "2022-09-07 18:59:21 - Precision with Cosine-Similarity:          78.43\n",
      "2022-09-07 18:59:21 - Recall with Cosine-Similarity:             93.24\n",
      "2022-09-07 18:59:21 - Average Precision with Cosine-Similarity:  89.78\n",
      "\n",
      "2022-09-07 18:59:21 - Accuracy with Manhattan-Distance:           79.55\t(Threshold: 714.0787)\n",
      "2022-09-07 18:59:21 - F1 with Manhattan-Distance:                 85.02\t(Threshold: 806.6598)\n",
      "2022-09-07 18:59:21 - Precision with Manhattan-Distance:          77.85\n",
      "2022-09-07 18:59:21 - Recall with Manhattan-Distance:             93.64\n",
      "2022-09-07 18:59:21 - Average Precision with Manhattan-Distance:  89.89\n",
      "\n",
      "2022-09-07 18:59:21 - Accuracy with Euclidean-Distance:           79.18\t(Threshold: 35.4562)\n",
      "2022-09-07 18:59:21 - F1 with Euclidean-Distance:                 85.05\t(Threshold: 37.9543)\n",
      "2022-09-07 18:59:21 - Precision with Euclidean-Distance:          76.97\n",
      "2022-09-07 18:59:21 - Recall with Euclidean-Distance:             95.03\n",
      "2022-09-07 18:59:21 - Average Precision with Euclidean-Distance:  89.81\n",
      "\n",
      "2022-09-07 18:59:21 - Accuracy with Dot-Product:           79.68\t(Threshold: 240.7589)\n",
      "2022-09-07 18:59:21 - F1 with Dot-Product:                 85.17\t(Threshold: 240.7589)\n",
      "2022-09-07 18:59:21 - Precision with Dot-Product:          78.52\n",
      "2022-09-07 18:59:21 - Recall with Dot-Product:             93.04\n",
      "2022-09-07 18:59:21 - Average Precision with Dot-Product:  89.30\n",
      "\n",
      "2022-09-07 18:59:21 - Save model to binary_sim_output/sentence-transformers/paraphrase-albert-small-v2\n"
     ]
    },
    {
     "data": {
      "application/vnd.jupyter.widget-view+json": {
       "model_id": "37e3599d4fae407880773a2bde19eb0e",
       "version_major": 2,
       "version_minor": 0
      },
      "text/plain": [
       "Iteration:   0%|          | 0/229 [00:00<?, ?it/s]"
      ]
     },
     "metadata": {},
     "output_type": "display_data"
    },
    {
     "name": "stdout",
     "output_type": "stream",
     "text": [
      "2022-09-07 18:59:38 - Binary Accuracy Evaluation of the model on  dataset after epoch 5:\n",
      "2022-09-07 18:59:38 - Accuracy with Cosine-Similarity:           80.30\t(Threshold: 0.3878)\n",
      "2022-09-07 18:59:38 - F1 with Cosine-Similarity:                 85.07\t(Threshold: 0.3481)\n",
      "2022-09-07 18:59:38 - Precision with Cosine-Similarity:          80.60\n",
      "2022-09-07 18:59:38 - Recall with Cosine-Similarity:             90.06\n",
      "2022-09-07 18:59:38 - Average Precision with Cosine-Similarity:  89.87\n",
      "\n",
      "2022-09-07 18:59:38 - Accuracy with Manhattan-Distance:           79.80\t(Threshold: 761.8762)\n",
      "2022-09-07 18:59:38 - F1 with Manhattan-Distance:                 84.92\t(Threshold: 836.4608)\n",
      "2022-09-07 18:59:38 - Precision with Manhattan-Distance:          77.02\n",
      "2022-09-07 18:59:38 - Recall with Manhattan-Distance:             94.63\n",
      "2022-09-07 18:59:38 - Average Precision with Manhattan-Distance:  89.86\n",
      "\n",
      "2022-09-07 18:59:38 - Accuracy with Euclidean-Distance:           79.55\t(Threshold: 34.4749)\n",
      "2022-09-07 18:59:38 - F1 with Euclidean-Distance:                 85.13\t(Threshold: 37.9139)\n",
      "2022-09-07 18:59:38 - Precision with Euclidean-Distance:          77.49\n",
      "2022-09-07 18:59:38 - Recall with Euclidean-Distance:             94.43\n",
      "2022-09-07 18:59:38 - Average Precision with Euclidean-Distance:  89.79\n",
      "\n",
      "2022-09-07 18:59:38 - Accuracy with Dot-Product:           80.80\t(Threshold: 359.5353)\n",
      "2022-09-07 18:59:38 - F1 with Dot-Product:                 85.28\t(Threshold: 316.4992)\n",
      "2022-09-07 18:59:38 - Precision with Dot-Product:          81.15\n",
      "2022-09-07 18:59:38 - Recall with Dot-Product:             89.86\n",
      "2022-09-07 18:59:38 - Average Precision with Dot-Product:  89.35\n",
      "\n"
     ]
    },
    {
     "data": {
      "application/vnd.jupyter.widget-view+json": {
       "model_id": "9a98b9a030634864bcfd14b1c1127ace",
       "version_major": 2,
       "version_minor": 0
      },
      "text/plain": [
       "Iteration:   0%|          | 0/229 [00:00<?, ?it/s]"
      ]
     },
     "metadata": {},
     "output_type": "display_data"
    },
    {
     "name": "stdout",
     "output_type": "stream",
     "text": [
      "2022-09-07 18:59:55 - Binary Accuracy Evaluation of the model on  dataset after epoch 6:\n",
      "2022-09-07 18:59:56 - Accuracy with Cosine-Similarity:           80.05\t(Threshold: 0.4676)\n",
      "2022-09-07 18:59:56 - F1 with Cosine-Similarity:                 84.85\t(Threshold: 0.2021)\n",
      "2022-09-07 18:59:56 - Precision with Cosine-Similarity:          76.52\n",
      "2022-09-07 18:59:56 - Recall with Cosine-Similarity:             95.23\n",
      "2022-09-07 18:59:56 - Average Precision with Cosine-Similarity:  89.36\n",
      "\n",
      "2022-09-07 18:59:56 - Accuracy with Manhattan-Distance:           79.55\t(Threshold: 711.6614)\n",
      "2022-09-07 18:59:56 - F1 with Manhattan-Distance:                 85.18\t(Threshold: 839.1413)\n",
      "2022-09-07 18:59:56 - Precision with Manhattan-Distance:          76.92\n",
      "2022-09-07 18:59:56 - Recall with Manhattan-Distance:             95.43\n",
      "2022-09-07 18:59:56 - Average Precision with Manhattan-Distance:  89.37\n",
      "\n",
      "2022-09-07 18:59:56 - Accuracy with Euclidean-Distance:           79.30\t(Threshold: 32.9896)\n",
      "2022-09-07 18:59:56 - F1 with Euclidean-Distance:                 85.20\t(Threshold: 38.2010)\n",
      "2022-09-07 18:59:56 - Precision with Euclidean-Distance:          77.22\n",
      "2022-09-07 18:59:56 - Recall with Euclidean-Distance:             95.03\n",
      "2022-09-07 18:59:56 - Average Precision with Euclidean-Distance:  89.30\n",
      "\n",
      "2022-09-07 18:59:56 - Accuracy with Dot-Product:           79.80\t(Threshold: 417.0164)\n",
      "2022-09-07 18:59:56 - F1 with Dot-Product:                 84.95\t(Threshold: 273.4875)\n",
      "2022-09-07 18:59:56 - Precision with Dot-Product:          78.88\n",
      "2022-09-07 18:59:56 - Recall with Dot-Product:             92.05\n",
      "2022-09-07 18:59:56 - Average Precision with Dot-Product:  88.89\n",
      "\n"
     ]
    },
    {
     "data": {
      "application/vnd.jupyter.widget-view+json": {
       "model_id": "c73c8c8638ea49ae8fac586021ebc878",
       "version_major": 2,
       "version_minor": 0
      },
      "text/plain": [
       "Iteration:   0%|          | 0/229 [00:00<?, ?it/s]"
      ]
     },
     "metadata": {},
     "output_type": "display_data"
    },
    {
     "name": "stdout",
     "output_type": "stream",
     "text": [
      "2022-09-07 19:00:12 - Binary Accuracy Evaluation of the model on  dataset after epoch 7:\n",
      "2022-09-07 19:00:13 - Accuracy with Cosine-Similarity:           79.93\t(Threshold: 0.3681)\n",
      "2022-09-07 19:00:13 - F1 with Cosine-Similarity:                 84.98\t(Threshold: 0.1319)\n",
      "2022-09-07 19:00:13 - Precision with Cosine-Similarity:          76.47\n",
      "2022-09-07 19:00:13 - Recall with Cosine-Similarity:             95.63\n",
      "2022-09-07 19:00:13 - Average Precision with Cosine-Similarity:  89.53\n",
      "\n",
      "2022-09-07 19:00:13 - Accuracy with Manhattan-Distance:           79.43\t(Threshold: 750.9167)\n",
      "2022-09-07 19:00:13 - F1 with Manhattan-Distance:                 84.75\t(Threshold: 825.1589)\n",
      "2022-09-07 19:00:13 - Precision with Manhattan-Distance:          77.96\n",
      "2022-09-07 19:00:13 - Recall with Manhattan-Distance:             92.84\n",
      "2022-09-07 19:00:13 - Average Precision with Manhattan-Distance:  89.46\n",
      "\n",
      "2022-09-07 19:00:13 - Accuracy with Euclidean-Distance:           79.30\t(Threshold: 36.5647)\n",
      "2022-09-07 19:00:13 - F1 with Euclidean-Distance:                 84.82\t(Threshold: 39.4184)\n",
      "2022-09-07 19:00:13 - Precision with Euclidean-Distance:          76.99\n",
      "2022-09-07 19:00:13 - Recall with Euclidean-Distance:             94.43\n",
      "2022-09-07 19:00:13 - Average Precision with Euclidean-Distance:  89.34\n",
      "\n",
      "2022-09-07 19:00:13 - Accuracy with Dot-Product:           80.05\t(Threshold: 322.1517)\n",
      "2022-09-07 19:00:13 - F1 with Dot-Product:                 84.88\t(Threshold: 269.1683)\n",
      "2022-09-07 19:00:13 - Precision with Dot-Product:          80.43\n",
      "2022-09-07 19:00:13 - Recall with Dot-Product:             89.86\n",
      "2022-09-07 19:00:13 - Average Precision with Dot-Product:  89.07\n",
      "\n"
     ]
    },
    {
     "data": {
      "application/vnd.jupyter.widget-view+json": {
       "model_id": "95c7ec896034496c814f522df102fc7d",
       "version_major": 2,
       "version_minor": 0
      },
      "text/plain": [
       "Iteration:   0%|          | 0/229 [00:00<?, ?it/s]"
      ]
     },
     "metadata": {},
     "output_type": "display_data"
    },
    {
     "name": "stdout",
     "output_type": "stream",
     "text": [
      "2022-09-07 19:00:29 - Binary Accuracy Evaluation of the model on  dataset after epoch 8:\n",
      "2022-09-07 19:00:30 - Accuracy with Cosine-Similarity:           79.68\t(Threshold: 0.3938)\n",
      "2022-09-07 19:00:30 - F1 with Cosine-Similarity:                 84.87\t(Threshold: 0.1869)\n",
      "2022-09-07 19:00:30 - Precision with Cosine-Similarity:          77.20\n",
      "2022-09-07 19:00:30 - Recall with Cosine-Similarity:             94.23\n",
      "2022-09-07 19:00:30 - Average Precision with Cosine-Similarity:  89.55\n",
      "\n",
      "2022-09-07 19:00:30 - Accuracy with Manhattan-Distance:           79.55\t(Threshold: 750.1478)\n",
      "2022-09-07 19:00:30 - F1 with Manhattan-Distance:                 84.94\t(Threshold: 833.5925)\n",
      "2022-09-07 19:00:30 - Precision with Manhattan-Distance:          78.13\n",
      "2022-09-07 19:00:30 - Recall with Manhattan-Distance:             93.04\n",
      "2022-09-07 19:00:30 - Average Precision with Manhattan-Distance:  89.48\n",
      "\n",
      "2022-09-07 19:00:30 - Accuracy with Euclidean-Distance:           79.43\t(Threshold: 36.1748)\n",
      "2022-09-07 19:00:30 - F1 with Euclidean-Distance:                 84.89\t(Threshold: 38.5990)\n",
      "2022-09-07 19:00:30 - Precision with Euclidean-Distance:          77.91\n",
      "2022-09-07 19:00:30 - Recall with Euclidean-Distance:             93.24\n",
      "2022-09-07 19:00:30 - Average Precision with Euclidean-Distance:  89.37\n",
      "\n",
      "2022-09-07 19:00:30 - Accuracy with Dot-Product:           80.17\t(Threshold: 330.9943)\n",
      "2022-09-07 19:00:30 - F1 with Dot-Product:                 84.99\t(Threshold: 284.7634)\n",
      "2022-09-07 19:00:30 - Precision with Dot-Product:          80.46\n",
      "2022-09-07 19:00:30 - Recall with Dot-Product:             90.06\n",
      "2022-09-07 19:00:30 - Average Precision with Dot-Product:  89.03\n",
      "\n"
     ]
    },
    {
     "data": {
      "application/vnd.jupyter.widget-view+json": {
       "model_id": "11c608712ce749608decac9a2cef8e29",
       "version_major": 2,
       "version_minor": 0
      },
      "text/plain": [
       "Iteration:   0%|          | 0/229 [00:00<?, ?it/s]"
      ]
     },
     "metadata": {},
     "output_type": "display_data"
    },
    {
     "name": "stdout",
     "output_type": "stream",
     "text": [
      "2022-09-07 19:00:47 - Binary Accuracy Evaluation of the model on  dataset after epoch 9:\n",
      "2022-09-07 19:00:47 - Accuracy with Cosine-Similarity:           79.93\t(Threshold: 0.4814)\n",
      "2022-09-07 19:00:47 - F1 with Cosine-Similarity:                 84.94\t(Threshold: 0.2371)\n",
      "2022-09-07 19:00:47 - Precision with Cosine-Similarity:          77.72\n",
      "2022-09-07 19:00:47 - Recall with Cosine-Similarity:             93.64\n",
      "2022-09-07 19:00:47 - Average Precision with Cosine-Similarity:  89.57\n",
      "\n",
      "2022-09-07 19:00:47 - Accuracy with Manhattan-Distance:           79.43\t(Threshold: 699.8207)\n",
      "2022-09-07 19:00:47 - F1 with Manhattan-Distance:                 84.93\t(Threshold: 850.3741)\n",
      "2022-09-07 19:00:47 - Precision with Manhattan-Distance:          76.64\n",
      "2022-09-07 19:00:47 - Recall with Manhattan-Distance:             95.23\n",
      "2022-09-07 19:00:47 - Average Precision with Manhattan-Distance:  89.58\n",
      "\n",
      "2022-09-07 19:00:47 - Accuracy with Euclidean-Distance:           79.55\t(Threshold: 35.3529)\n",
      "2022-09-07 19:00:47 - F1 with Euclidean-Distance:                 84.93\t(Threshold: 38.9067)\n",
      "2022-09-07 19:00:47 - Precision with Euclidean-Distance:          76.64\n",
      "2022-09-07 19:00:47 - Recall with Euclidean-Distance:             95.23\n",
      "2022-09-07 19:00:47 - Average Precision with Euclidean-Distance:  89.44\n",
      "\n",
      "2022-09-07 19:00:47 - Accuracy with Dot-Product:           80.17\t(Threshold: 354.9979)\n",
      "2022-09-07 19:00:47 - F1 with Dot-Product:                 84.91\t(Threshold: 319.8542)\n",
      "2022-09-07 19:00:47 - Precision with Dot-Product:          80.32\n",
      "2022-09-07 19:00:47 - Recall with Dot-Product:             90.06\n",
      "2022-09-07 19:00:47 - Average Precision with Dot-Product:  89.03\n",
      "\n",
      "Training done...\n",
      "\n",
      "\n",
      "\n",
      "                     ********** sentence-transformers/paraphrase-albert-small-v2 **********\n",
      "2022-09-07 19:00:47 - Load pretrained SentenceTransformer: binary_sim_output/sentence-transformers/paraphrase-albert-small-v2\n",
      "2022-09-07 19:00:47 - Use pytorch device: cuda\n",
      "2022-09-07 19:00:47 - Softmax loss: #Vectors concatenated: 3\n",
      "2022-09-07 19:00:47 - EmbeddingSimilarityEvaluator: Evaluating the model on SPRAG-test dataset:\n",
      "2022-09-07 19:00:49 - Cosine-Similarity :\tPearson: 0.6082\tSpearman: 0.5953\n",
      "2022-09-07 19:00:49 - Manhattan-Distance:\tPearson: 0.5837\tSpearman: 0.5960\n",
      "2022-09-07 19:00:49 - Euclidean-Distance:\tPearson: 0.5839\tSpearman: 0.5945\n",
      "2022-09-07 19:00:49 - Dot-Product-Similarity:\tPearson: 0.6034\tSpearman: 0.5888\n",
      "2022-09-07 19:00:49 - Binary Accuracy Evaluation of the model on  dataset:\n",
      "2022-09-07 19:00:50 - Accuracy with Cosine-Similarity:           79.80\t(Threshold: 0.4516)\n",
      "2022-09-07 19:00:50 - F1 with Cosine-Similarity:                 85.20\t(Threshold: 0.2571)\n",
      "2022-09-07 19:00:50 - Precision with Cosine-Similarity:          78.43\n",
      "2022-09-07 19:00:50 - Recall with Cosine-Similarity:             93.24\n",
      "2022-09-07 19:00:50 - Average Precision with Cosine-Similarity:  89.78\n",
      "\n",
      "2022-09-07 19:00:50 - Accuracy with Manhattan-Distance:           79.55\t(Threshold: 714.0787)\n",
      "2022-09-07 19:00:50 - F1 with Manhattan-Distance:                 85.02\t(Threshold: 806.6598)\n",
      "2022-09-07 19:00:50 - Precision with Manhattan-Distance:          77.85\n",
      "2022-09-07 19:00:50 - Recall with Manhattan-Distance:             93.64\n",
      "2022-09-07 19:00:50 - Average Precision with Manhattan-Distance:  89.89\n",
      "\n",
      "2022-09-07 19:00:50 - Accuracy with Euclidean-Distance:           79.18\t(Threshold: 35.4562)\n",
      "2022-09-07 19:00:50 - F1 with Euclidean-Distance:                 85.05\t(Threshold: 37.9543)\n",
      "2022-09-07 19:00:50 - Precision with Euclidean-Distance:          76.97\n",
      "2022-09-07 19:00:50 - Recall with Euclidean-Distance:             95.03\n",
      "2022-09-07 19:00:50 - Average Precision with Euclidean-Distance:  89.81\n",
      "\n",
      "2022-09-07 19:00:50 - Accuracy with Dot-Product:           79.68\t(Threshold: 240.7589)\n",
      "2022-09-07 19:00:50 - F1 with Dot-Product:                 85.17\t(Threshold: 240.7589)\n",
      "2022-09-07 19:00:50 - Precision with Dot-Product:          78.52\n",
      "2022-09-07 19:00:50 - Recall with Dot-Product:             93.04\n",
      "2022-09-07 19:00:50 - Average Precision with Dot-Product:  89.30\n",
      "\n"
     ]
    },
    {
     "data": {
      "text/plain": [
       "0.8988632797809347"
      ]
     },
     "execution_count": 31,
     "metadata": {},
     "output_type": "execute_result"
    }
   ],
   "source": [
    "st_model = 'sentence-transformers/paraphrase-albert-small-v2'\n",
    "num_epochs = 10\n",
    "batch_size=16\n",
    "model_save_path = \"binary_sim_output/\"+st_model\n",
    "train_dataloader = DataLoader(train_examples, shuffle=True, batch_size=batch_size)\n",
    "  \n",
    "test_dataloader = DataLoader(test_examples, shuffle=True, batch_size=batch_size)\n",
    "model = train_and_evaluate(st_model, train_dataloader, test_dataloader, num_epochs, model_save_path)\n",
    "print(\"\\n\\n\")\n",
    "print(\" \"*20, \"*\"*10, st_model , \"*\"*10)\n",
    "\n",
    "# Load the stored model and evaluate its performance on mohler test dataset\n",
    "model = SentenceTransformer(model_save_path)\n",
    "train_loss = losses.SoftmaxLoss(model=model, sentence_embedding_dimension=model.get_sentence_embedding_dimension(), num_labels=2)\n",
    "test_evaluator = evaluation.EmbeddingSimilarityEvaluator.from_input_examples(test_examples, batch_size=16, name='SPRAG-test')\n",
    "test_evaluator(model, output_path=model_save_path)\n",
    "train_loss.cuda()\n",
    "\n",
    "x_test_dA = test_data['ReferenceAnswer'].values.tolist()\n",
    "x_test_sA = test_data['StudentAnswer'].values.tolist()\n",
    "y_test = test_labels \n",
    "\n",
    "evaluator = evaluation.BinaryClassificationEvaluator(x_test_dA, x_test_sA, y_test)\n",
    "evaluator(model, output_path=model_save_path)\n"
   ]
  },
  {
   "cell_type": "code",
   "execution_count": 32,
   "id": "513f89bc",
   "metadata": {},
   "outputs": [
    {
     "name": "stdout",
     "output_type": "stream",
     "text": [
      "2022-09-07 19:00:50 - Load pretrained SentenceTransformer: sentence-transformers/quora-distilbert-base\n",
      "2022-09-07 19:00:50 - Use pytorch device: cuda\n",
      "2022-09-07 19:00:50 - Softmax loss: #Vectors concatenated: 3\n",
      "229\n"
     ]
    },
    {
     "data": {
      "application/vnd.jupyter.widget-view+json": {
       "model_id": "feb67f56e8884302ac9c403273b096f7",
       "version_major": 2,
       "version_minor": 0
      },
      "text/plain": [
       "Epoch:   0%|          | 0/10 [00:00<?, ?it/s]"
      ]
     },
     "metadata": {},
     "output_type": "display_data"
    },
    {
     "data": {
      "application/vnd.jupyter.widget-view+json": {
       "model_id": "cdfb31bf786b45669912853a31b30570",
       "version_major": 2,
       "version_minor": 0
      },
      "text/plain": [
       "Iteration:   0%|          | 0/229 [00:00<?, ?it/s]"
      ]
     },
     "metadata": {},
     "output_type": "display_data"
    },
    {
     "name": "stdout",
     "output_type": "stream",
     "text": [
      "2022-09-07 19:01:08 - Binary Accuracy Evaluation of the model on  dataset after epoch 0:\n",
      "2022-09-07 19:01:09 - Accuracy with Cosine-Similarity:           79.55\t(Threshold: 0.4752)\n",
      "2022-09-07 19:01:09 - F1 with Cosine-Similarity:                 84.89\t(Threshold: 0.3929)\n",
      "2022-09-07 19:01:09 - Precision with Cosine-Similarity:          77.50\n",
      "2022-09-07 19:01:09 - Recall with Cosine-Similarity:             93.84\n",
      "2022-09-07 19:01:09 - Average Precision with Cosine-Similarity:  90.48\n",
      "\n",
      "2022-09-07 19:01:09 - Accuracy with Manhattan-Distance:           78.43\t(Threshold: 326.9354)\n",
      "2022-09-07 19:01:09 - F1 with Manhattan-Distance:                 84.20\t(Threshold: 345.3604)\n",
      "2022-09-07 19:01:09 - Precision with Manhattan-Distance:          75.71\n",
      "2022-09-07 19:01:09 - Recall with Manhattan-Distance:             94.83\n",
      "2022-09-07 19:01:09 - Average Precision with Manhattan-Distance:  89.59\n",
      "\n",
      "2022-09-07 19:01:09 - Accuracy with Euclidean-Distance:           78.43\t(Threshold: 14.7021)\n",
      "2022-09-07 19:01:09 - F1 with Euclidean-Distance:                 84.08\t(Threshold: 15.4185)\n",
      "2022-09-07 19:01:09 - Precision with Euclidean-Distance:          77.52\n",
      "2022-09-07 19:01:09 - Recall with Euclidean-Distance:             91.85\n",
      "2022-09-07 19:01:09 - Average Precision with Euclidean-Distance:  89.73\n",
      "\n",
      "2022-09-07 19:01:09 - Accuracy with Dot-Product:           78.30\t(Threshold: 99.5156)\n",
      "2022-09-07 19:01:09 - F1 with Dot-Product:                 83.93\t(Threshold: 75.5182)\n",
      "2022-09-07 19:01:09 - Precision with Dot-Product:          77.99\n",
      "2022-09-07 19:01:09 - Recall with Dot-Product:             90.85\n",
      "2022-09-07 19:01:09 - Average Precision with Dot-Product:  89.49\n",
      "\n",
      "2022-09-07 19:01:09 - Save model to binary_sim_output/sentence-transformers/quora-distilbert-base\n"
     ]
    },
    {
     "data": {
      "application/vnd.jupyter.widget-view+json": {
       "model_id": "bd933bb3ad144bc9a4700a7b4463e487",
       "version_major": 2,
       "version_minor": 0
      },
      "text/plain": [
       "Iteration:   0%|          | 0/229 [00:00<?, ?it/s]"
      ]
     },
     "metadata": {},
     "output_type": "display_data"
    },
    {
     "name": "stdout",
     "output_type": "stream",
     "text": [
      "2022-09-07 19:01:28 - Binary Accuracy Evaluation of the model on  dataset after epoch 1:\n",
      "2022-09-07 19:01:28 - Accuracy with Cosine-Similarity:           81.92\t(Threshold: 0.4480)\n",
      "2022-09-07 19:01:28 - F1 with Cosine-Similarity:                 86.49\t(Threshold: 0.4086)\n",
      "2022-09-07 19:01:28 - Precision with Cosine-Similarity:          81.40\n",
      "2022-09-07 19:01:28 - Recall with Cosine-Similarity:             92.25\n",
      "2022-09-07 19:01:28 - Average Precision with Cosine-Similarity:  91.95\n",
      "\n",
      "2022-09-07 19:01:28 - Accuracy with Manhattan-Distance:           80.55\t(Threshold: 335.8401)\n",
      "2022-09-07 19:01:28 - F1 with Manhattan-Distance:                 85.20\t(Threshold: 335.8401)\n",
      "2022-09-07 19:01:28 - Precision with Manhattan-Distance:          81.49\n",
      "2022-09-07 19:01:28 - Recall with Manhattan-Distance:             89.26\n",
      "2022-09-07 19:01:28 - Average Precision with Manhattan-Distance:  90.97\n",
      "\n",
      "2022-09-07 19:01:28 - Accuracy with Euclidean-Distance:           80.92\t(Threshold: 14.9948)\n",
      "2022-09-07 19:01:28 - F1 with Euclidean-Distance:                 85.28\t(Threshold: 16.5374)\n",
      "2022-09-07 19:01:28 - Precision with Euclidean-Distance:          78.15\n",
      "2022-09-07 19:01:28 - Recall with Euclidean-Distance:             93.84\n",
      "2022-09-07 19:01:28 - Average Precision with Euclidean-Distance:  91.14\n",
      "\n",
      "2022-09-07 19:01:28 - Accuracy with Dot-Product:           82.42\t(Threshold: 82.1436)\n",
      "2022-09-07 19:01:28 - F1 with Dot-Product:                 86.96\t(Threshold: 82.1436)\n",
      "2022-09-07 19:01:28 - Precision with Dot-Product:          81.31\n",
      "2022-09-07 19:01:28 - Recall with Dot-Product:             93.44\n",
      "2022-09-07 19:01:28 - Average Precision with Dot-Product:  91.45\n",
      "\n",
      "2022-09-07 19:01:28 - Save model to binary_sim_output/sentence-transformers/quora-distilbert-base\n"
     ]
    },
    {
     "data": {
      "application/vnd.jupyter.widget-view+json": {
       "model_id": "93f4acb3adfb4310acda5c08a37374f7",
       "version_major": 2,
       "version_minor": 0
      },
      "text/plain": [
       "Iteration:   0%|          | 0/229 [00:00<?, ?it/s]"
      ]
     },
     "metadata": {},
     "output_type": "display_data"
    },
    {
     "name": "stdout",
     "output_type": "stream",
     "text": [
      "2022-09-07 19:01:47 - Binary Accuracy Evaluation of the model on  dataset after epoch 2:\n",
      "2022-09-07 19:01:48 - Accuracy with Cosine-Similarity:           81.67\t(Threshold: 0.5311)\n",
      "2022-09-07 19:01:48 - F1 with Cosine-Similarity:                 85.93\t(Threshold: 0.5100)\n",
      "2022-09-07 19:01:48 - Precision with Cosine-Similarity:          82.84\n",
      "2022-09-07 19:01:48 - Recall with Cosine-Similarity:             89.26\n",
      "2022-09-07 19:01:48 - Average Precision with Cosine-Similarity:  91.74\n",
      "\n",
      "2022-09-07 19:01:48 - Accuracy with Manhattan-Distance:           81.17\t(Threshold: 350.2568)\n",
      "2022-09-07 19:01:48 - F1 with Manhattan-Distance:                 85.77\t(Threshold: 350.2568)\n",
      "2022-09-07 19:01:48 - Precision with Manhattan-Distance:          81.54\n",
      "2022-09-07 19:01:48 - Recall with Manhattan-Distance:             90.46\n",
      "2022-09-07 19:01:48 - Average Precision with Manhattan-Distance:  91.53\n",
      "\n",
      "2022-09-07 19:01:48 - Accuracy with Euclidean-Distance:           81.05\t(Threshold: 15.2150)\n",
      "2022-09-07 19:01:48 - F1 with Euclidean-Distance:                 85.66\t(Threshold: 16.2920)\n",
      "2022-09-07 19:01:48 - Precision with Euclidean-Distance:          80.56\n",
      "2022-09-07 19:01:48 - Recall with Euclidean-Distance:             91.45\n",
      "2022-09-07 19:01:48 - Average Precision with Euclidean-Distance:  91.62\n",
      "\n",
      "2022-09-07 19:01:48 - Accuracy with Dot-Product:           81.30\t(Threshold: 137.0764)\n",
      "2022-09-07 19:01:48 - F1 with Dot-Product:                 85.53\t(Threshold: 121.3357)\n",
      "2022-09-07 19:01:48 - Precision with Dot-Product:          81.59\n",
      "2022-09-07 19:01:48 - Recall with Dot-Product:             89.86\n",
      "2022-09-07 19:01:48 - Average Precision with Dot-Product:  91.35\n",
      "\n"
     ]
    },
    {
     "data": {
      "application/vnd.jupyter.widget-view+json": {
       "model_id": "c73511927f2f41ed92f9ab7b72c4917e",
       "version_major": 2,
       "version_minor": 0
      },
      "text/plain": [
       "Iteration:   0%|          | 0/229 [00:00<?, ?it/s]"
      ]
     },
     "metadata": {},
     "output_type": "display_data"
    },
    {
     "name": "stdout",
     "output_type": "stream",
     "text": [
      "2022-09-07 19:02:06 - Binary Accuracy Evaluation of the model on  dataset after epoch 3:\n",
      "2022-09-07 19:02:06 - Accuracy with Cosine-Similarity:           81.17\t(Threshold: 0.5157)\n",
      "2022-09-07 19:02:06 - F1 with Cosine-Similarity:                 85.59\t(Threshold: 0.1070)\n",
      "2022-09-07 19:02:06 - Precision with Cosine-Similarity:          77.46\n",
      "2022-09-07 19:02:06 - Recall with Cosine-Similarity:             95.63\n",
      "2022-09-07 19:02:06 - Average Precision with Cosine-Similarity:  91.71\n",
      "\n",
      "2022-09-07 19:02:06 - Accuracy with Manhattan-Distance:           80.55\t(Threshold: 351.8164)\n",
      "2022-09-07 19:02:06 - F1 with Manhattan-Distance:                 85.38\t(Threshold: 425.3116)\n",
      "2022-09-07 19:02:06 - Precision with Manhattan-Distance:          77.78\n",
      "2022-09-07 19:02:06 - Recall with Manhattan-Distance:             94.63\n",
      "2022-09-07 19:02:06 - Average Precision with Manhattan-Distance:  91.21\n",
      "\n",
      "2022-09-07 19:02:06 - Accuracy with Euclidean-Distance:           80.30\t(Threshold: 15.6058)\n",
      "2022-09-07 19:02:06 - F1 with Euclidean-Distance:                 85.46\t(Threshold: 19.8660)\n",
      "2022-09-07 19:02:06 - Precision with Euclidean-Distance:          77.91\n",
      "2022-09-07 19:02:06 - Recall with Euclidean-Distance:             94.63\n",
      "2022-09-07 19:02:06 - Average Precision with Euclidean-Distance:  91.29\n",
      "\n",
      "2022-09-07 19:02:06 - Accuracy with Dot-Product:           80.92\t(Threshold: 134.1134)\n",
      "2022-09-07 19:02:06 - F1 with Dot-Product:                 85.51\t(Threshold: 43.1701)\n",
      "2022-09-07 19:02:06 - Precision with Dot-Product:          78.96\n",
      "2022-09-07 19:02:06 - Recall with Dot-Product:             93.24\n",
      "2022-09-07 19:02:06 - Average Precision with Dot-Product:  91.66\n",
      "\n"
     ]
    },
    {
     "data": {
      "application/vnd.jupyter.widget-view+json": {
       "model_id": "0de0e21a25844dd5ac06b01142fd7b7f",
       "version_major": 2,
       "version_minor": 0
      },
      "text/plain": [
       "Iteration:   0%|          | 0/229 [00:00<?, ?it/s]"
      ]
     },
     "metadata": {},
     "output_type": "display_data"
    },
    {
     "name": "stdout",
     "output_type": "stream",
     "text": [
      "2022-09-07 19:02:25 - Binary Accuracy Evaluation of the model on  dataset after epoch 4:\n",
      "2022-09-07 19:02:25 - Accuracy with Cosine-Similarity:           80.80\t(Threshold: 0.5574)\n",
      "2022-09-07 19:02:25 - F1 with Cosine-Similarity:                 85.32\t(Threshold: 0.3400)\n",
      "2022-09-07 19:02:25 - Precision with Cosine-Similarity:          79.66\n",
      "2022-09-07 19:02:25 - Recall with Cosine-Similarity:             91.85\n",
      "2022-09-07 19:02:25 - Average Precision with Cosine-Similarity:  91.71\n",
      "\n",
      "2022-09-07 19:02:25 - Accuracy with Manhattan-Distance:           80.67\t(Threshold: 347.0094)\n",
      "2022-09-07 19:02:25 - F1 with Manhattan-Distance:                 85.48\t(Threshold: 439.3744)\n",
      "2022-09-07 19:02:25 - Precision with Manhattan-Distance:          78.22\n",
      "2022-09-07 19:02:25 - Recall with Manhattan-Distance:             94.23\n",
      "2022-09-07 19:02:25 - Average Precision with Manhattan-Distance:  91.53\n",
      "\n",
      "2022-09-07 19:02:25 - Accuracy with Euclidean-Distance:           80.67\t(Threshold: 15.3824)\n",
      "2022-09-07 19:02:25 - F1 with Euclidean-Distance:                 85.48\t(Threshold: 18.8842)\n",
      "2022-09-07 19:02:25 - Precision with Euclidean-Distance:          79.05\n",
      "2022-09-07 19:02:25 - Recall with Euclidean-Distance:             93.04\n",
      "2022-09-07 19:02:25 - Average Precision with Euclidean-Distance:  91.60\n",
      "\n",
      "2022-09-07 19:02:25 - Accuracy with Dot-Product:           80.80\t(Threshold: 148.2785)\n",
      "2022-09-07 19:02:25 - F1 with Dot-Product:                 85.35\t(Threshold: 36.5822)\n",
      "2022-09-07 19:02:25 - Precision with Dot-Product:          77.87\n",
      "2022-09-07 19:02:25 - Recall with Dot-Product:             94.43\n",
      "2022-09-07 19:02:25 - Average Precision with Dot-Product:  91.59\n",
      "\n"
     ]
    },
    {
     "data": {
      "application/vnd.jupyter.widget-view+json": {
       "model_id": "7099eb1f38a049529c1b79639553f4ea",
       "version_major": 2,
       "version_minor": 0
      },
      "text/plain": [
       "Iteration:   0%|          | 0/229 [00:00<?, ?it/s]"
      ]
     },
     "metadata": {},
     "output_type": "display_data"
    },
    {
     "name": "stdout",
     "output_type": "stream",
     "text": [
      "2022-09-07 19:02:44 - Binary Accuracy Evaluation of the model on  dataset after epoch 5:\n",
      "2022-09-07 19:02:44 - Accuracy with Cosine-Similarity:           79.93\t(Threshold: 0.2327)\n",
      "2022-09-07 19:02:44 - F1 with Cosine-Similarity:                 85.30\t(Threshold: 0.2327)\n",
      "2022-09-07 19:02:44 - Precision with Cosine-Similarity:          78.89\n",
      "2022-09-07 19:02:44 - Recall with Cosine-Similarity:             92.84\n",
      "2022-09-07 19:02:44 - Average Precision with Cosine-Similarity:  91.14\n",
      "\n",
      "2022-09-07 19:02:44 - Accuracy with Manhattan-Distance:           79.93\t(Threshold: 370.8111)\n",
      "2022-09-07 19:02:44 - F1 with Manhattan-Distance:                 85.38\t(Threshold: 451.3709)\n",
      "2022-09-07 19:02:44 - Precision with Manhattan-Distance:          78.18\n",
      "2022-09-07 19:02:44 - Recall with Manhattan-Distance:             94.04\n",
      "2022-09-07 19:02:44 - Average Precision with Manhattan-Distance:  90.99\n",
      "\n",
      "2022-09-07 19:02:44 - Accuracy with Euclidean-Distance:           79.93\t(Threshold: 19.8491)\n",
      "2022-09-07 19:02:44 - F1 with Euclidean-Distance:                 85.43\t(Threshold: 20.9769)\n",
      "2022-09-07 19:02:44 - Precision with Euclidean-Distance:          78.00\n",
      "2022-09-07 19:02:44 - Recall with Euclidean-Distance:             94.43\n",
      "2022-09-07 19:02:44 - Average Precision with Euclidean-Distance:  91.02\n",
      "\n",
      "2022-09-07 19:02:44 - Accuracy with Dot-Product:           79.93\t(Threshold: 75.5504)\n",
      "2022-09-07 19:02:44 - F1 with Dot-Product:                 85.25\t(Threshold: 57.4528)\n",
      "2022-09-07 19:02:44 - Precision with Dot-Product:          78.66\n",
      "2022-09-07 19:02:44 - Recall with Dot-Product:             93.04\n",
      "2022-09-07 19:02:44 - Average Precision with Dot-Product:  91.04\n",
      "\n"
     ]
    },
    {
     "data": {
      "application/vnd.jupyter.widget-view+json": {
       "model_id": "e4aa978ee1224430b6a93c1da85dbb4a",
       "version_major": 2,
       "version_minor": 0
      },
      "text/plain": [
       "Iteration:   0%|          | 0/229 [00:00<?, ?it/s]"
      ]
     },
     "metadata": {},
     "output_type": "display_data"
    },
    {
     "name": "stdout",
     "output_type": "stream",
     "text": [
      "2022-09-07 19:03:03 - Binary Accuracy Evaluation of the model on  dataset after epoch 6:\n",
      "2022-09-07 19:03:03 - Accuracy with Cosine-Similarity:           80.05\t(Threshold: 0.4501)\n",
      "2022-09-07 19:03:03 - F1 with Cosine-Similarity:                 85.20\t(Threshold: 0.1116)\n",
      "2022-09-07 19:03:03 - Precision with Cosine-Similarity:          78.43\n",
      "2022-09-07 19:03:03 - Recall with Cosine-Similarity:             93.24\n",
      "2022-09-07 19:03:03 - Average Precision with Cosine-Similarity:  91.09\n",
      "\n",
      "2022-09-07 19:03:03 - Accuracy with Manhattan-Distance:           80.17\t(Threshold: 395.8991)\n",
      "2022-09-07 19:03:03 - F1 with Manhattan-Distance:                 84.96\t(Threshold: 398.8896)\n",
      "2022-09-07 19:03:03 - Precision with Manhattan-Distance:          81.05\n",
      "2022-09-07 19:03:03 - Recall with Manhattan-Distance:             89.26\n",
      "2022-09-07 19:03:03 - Average Precision with Manhattan-Distance:  90.91\n",
      "\n",
      "2022-09-07 19:03:03 - Accuracy with Euclidean-Distance:           80.17\t(Threshold: 17.7163)\n",
      "2022-09-07 19:03:03 - F1 with Euclidean-Distance:                 84.99\t(Threshold: 21.2984)\n",
      "2022-09-07 19:03:03 - Precision with Euclidean-Distance:          78.36\n",
      "2022-09-07 19:03:03 - Recall with Euclidean-Distance:             92.84\n",
      "2022-09-07 19:03:03 - Average Precision with Euclidean-Distance:  90.93\n",
      "\n",
      "2022-09-07 19:03:03 - Accuracy with Dot-Product:           80.05\t(Threshold: 121.9199)\n",
      "2022-09-07 19:03:03 - F1 with Dot-Product:                 85.27\t(Threshold: 31.1107)\n",
      "2022-09-07 19:03:03 - Precision with Dot-Product:          78.56\n",
      "2022-09-07 19:03:03 - Recall with Dot-Product:             93.24\n",
      "2022-09-07 19:03:03 - Average Precision with Dot-Product:  90.94\n",
      "\n"
     ]
    },
    {
     "data": {
      "application/vnd.jupyter.widget-view+json": {
       "model_id": "d52f51cedebe4cb2a3ac23df21a38bbe",
       "version_major": 2,
       "version_minor": 0
      },
      "text/plain": [
       "Iteration:   0%|          | 0/229 [00:00<?, ?it/s]"
      ]
     },
     "metadata": {},
     "output_type": "display_data"
    },
    {
     "name": "stdout",
     "output_type": "stream",
     "text": [
      "2022-09-07 19:03:21 - Binary Accuracy Evaluation of the model on  dataset after epoch 7:\n",
      "2022-09-07 19:03:22 - Accuracy with Cosine-Similarity:           80.42\t(Threshold: 0.4413)\n",
      "2022-09-07 19:03:22 - F1 with Cosine-Similarity:                 84.94\t(Threshold: 0.0221)\n",
      "2022-09-07 19:03:22 - Precision with Cosine-Similarity:          78.13\n",
      "2022-09-07 19:03:22 - Recall with Cosine-Similarity:             93.04\n",
      "2022-09-07 19:03:22 - Average Precision with Cosine-Similarity:  91.03\n",
      "\n",
      "2022-09-07 19:03:22 - Accuracy with Manhattan-Distance:           80.42\t(Threshold: 379.4109)\n",
      "2022-09-07 19:03:22 - F1 with Manhattan-Distance:                 84.80\t(Threshold: 379.4109)\n",
      "2022-09-07 19:03:22 - Precision with Manhattan-Distance:          82.64\n",
      "2022-09-07 19:03:22 - Recall with Manhattan-Distance:             87.08\n",
      "2022-09-07 19:03:22 - Average Precision with Manhattan-Distance:  90.74\n",
      "\n",
      "2022-09-07 19:03:22 - Accuracy with Euclidean-Distance:           80.42\t(Threshold: 17.1493)\n",
      "2022-09-07 19:03:22 - F1 with Euclidean-Distance:                 84.74\t(Threshold: 17.1493)\n",
      "2022-09-07 19:03:22 - Precision with Euclidean-Distance:          82.89\n",
      "2022-09-07 19:03:22 - Recall with Euclidean-Distance:             86.68\n",
      "2022-09-07 19:03:22 - Average Precision with Euclidean-Distance:  90.79\n",
      "\n",
      "2022-09-07 19:03:22 - Accuracy with Dot-Product:           80.30\t(Threshold: 119.2785)\n",
      "2022-09-07 19:03:22 - F1 with Dot-Product:                 84.95\t(Threshold: 19.9305)\n",
      "2022-09-07 19:03:22 - Precision with Dot-Product:          78.88\n",
      "2022-09-07 19:03:22 - Recall with Dot-Product:             92.05\n",
      "2022-09-07 19:03:22 - Average Precision with Dot-Product:  90.94\n",
      "\n"
     ]
    },
    {
     "data": {
      "application/vnd.jupyter.widget-view+json": {
       "model_id": "10ef13c7128f43acaa237525681561d5",
       "version_major": 2,
       "version_minor": 0
      },
      "text/plain": [
       "Iteration:   0%|          | 0/229 [00:00<?, ?it/s]"
      ]
     },
     "metadata": {},
     "output_type": "display_data"
    },
    {
     "name": "stdout",
     "output_type": "stream",
     "text": [
      "2022-09-07 19:03:40 - Binary Accuracy Evaluation of the model on  dataset after epoch 8:\n",
      "2022-09-07 19:03:41 - Accuracy with Cosine-Similarity:           80.05\t(Threshold: 0.3626)\n",
      "2022-09-07 19:03:41 - F1 with Cosine-Similarity:                 85.15\t(Threshold: -0.1328)\n",
      "2022-09-07 19:03:41 - Precision with Cosine-Similarity:          77.40\n",
      "2022-09-07 19:03:41 - Recall with Cosine-Similarity:             94.63\n",
      "2022-09-07 19:03:41 - Average Precision with Cosine-Similarity:  91.05\n",
      "\n",
      "2022-09-07 19:03:41 - Accuracy with Manhattan-Distance:           79.80\t(Threshold: 369.6907)\n",
      "2022-09-07 19:03:41 - F1 with Manhattan-Distance:                 84.76\t(Threshold: 528.1753)\n",
      "2022-09-07 19:03:41 - Precision with Manhattan-Distance:          76.11\n",
      "2022-09-07 19:03:41 - Recall with Manhattan-Distance:             95.63\n",
      "2022-09-07 19:03:41 - Average Precision with Manhattan-Distance:  90.78\n",
      "\n",
      "2022-09-07 19:03:41 - Accuracy with Euclidean-Distance:           79.80\t(Threshold: 16.9573)\n",
      "2022-09-07 19:03:41 - F1 with Euclidean-Distance:                 84.79\t(Threshold: 24.6626)\n",
      "2022-09-07 19:03:41 - Precision with Euclidean-Distance:          75.66\n",
      "2022-09-07 19:03:41 - Recall with Euclidean-Distance:             96.42\n",
      "2022-09-07 19:03:41 - Average Precision with Euclidean-Distance:  90.84\n",
      "\n",
      "2022-09-07 19:03:41 - Accuracy with Dot-Product:           80.05\t(Threshold: 96.5489)\n",
      "2022-09-07 19:03:41 - F1 with Dot-Product:                 85.00\t(Threshold: -36.1988)\n",
      "2022-09-07 19:03:41 - Precision with Dot-Product:          77.15\n",
      "2022-09-07 19:03:41 - Recall with Dot-Product:             94.63\n",
      "2022-09-07 19:03:41 - Average Precision with Dot-Product:  90.92\n",
      "\n"
     ]
    },
    {
     "data": {
      "application/vnd.jupyter.widget-view+json": {
       "model_id": "9d34313f55b94d02b8414878159d16f3",
       "version_major": 2,
       "version_minor": 0
      },
      "text/plain": [
       "Iteration:   0%|          | 0/229 [00:00<?, ?it/s]"
      ]
     },
     "metadata": {},
     "output_type": "display_data"
    },
    {
     "name": "stdout",
     "output_type": "stream",
     "text": [
      "2022-09-07 19:03:59 - Binary Accuracy Evaluation of the model on  dataset after epoch 9:\n",
      "2022-09-07 19:03:59 - Accuracy with Cosine-Similarity:           80.55\t(Threshold: 0.4678)\n",
      "2022-09-07 19:03:59 - F1 with Cosine-Similarity:                 85.13\t(Threshold: -0.0809)\n",
      "2022-09-07 19:03:59 - Precision with Cosine-Similarity:          77.49\n",
      "2022-09-07 19:03:59 - Recall with Cosine-Similarity:             94.43\n",
      "2022-09-07 19:03:59 - Average Precision with Cosine-Similarity:  91.07\n",
      "\n",
      "2022-09-07 19:03:59 - Accuracy with Manhattan-Distance:           80.17\t(Threshold: 370.6890)\n",
      "2022-09-07 19:03:59 - F1 with Manhattan-Distance:                 84.93\t(Threshold: 522.0721)\n",
      "2022-09-07 19:03:59 - Precision with Manhattan-Distance:          76.64\n",
      "2022-09-07 19:03:59 - Recall with Manhattan-Distance:             95.23\n",
      "2022-09-07 19:03:59 - Average Precision with Manhattan-Distance:  90.88\n",
      "\n",
      "2022-09-07 19:03:59 - Accuracy with Euclidean-Distance:           80.30\t(Threshold: 17.0758)\n",
      "2022-09-07 19:03:59 - F1 with Euclidean-Distance:                 84.88\t(Threshold: 24.1427)\n",
      "2022-09-07 19:03:59 - Precision with Euclidean-Distance:          76.43\n",
      "2022-09-07 19:03:59 - Recall with Euclidean-Distance:             95.43\n",
      "2022-09-07 19:03:59 - Average Precision with Euclidean-Distance:  90.90\n",
      "\n",
      "2022-09-07 19:03:59 - Accuracy with Dot-Product:           80.67\t(Threshold: 124.4982)\n",
      "2022-09-07 19:03:59 - F1 with Dot-Product:                 85.13\t(Threshold: -21.4432)\n",
      "2022-09-07 19:03:59 - Precision with Dot-Product:          77.49\n",
      "2022-09-07 19:03:59 - Recall with Dot-Product:             94.43\n",
      "2022-09-07 19:03:59 - Average Precision with Dot-Product:  90.95\n",
      "\n",
      "Training done...\n",
      "\n",
      "\n",
      "\n",
      "                     ********** sentence-transformers/quora-distilbert-base **********\n",
      "2022-09-07 19:03:59 - Load pretrained SentenceTransformer: binary_sim_output/sentence-transformers/quora-distilbert-base\n",
      "2022-09-07 19:04:00 - Use pytorch device: cuda\n",
      "2022-09-07 19:04:00 - Softmax loss: #Vectors concatenated: 3\n",
      "2022-09-07 19:04:00 - EmbeddingSimilarityEvaluator: Evaluating the model on SPRAG-test dataset:\n",
      "2022-09-07 19:04:01 - Cosine-Similarity :\tPearson: 0.6553\tSpearman: 0.6381\n",
      "2022-09-07 19:04:01 - Manhattan-Distance:\tPearson: 0.5949\tSpearman: 0.6139\n",
      "2022-09-07 19:04:01 - Euclidean-Distance:\tPearson: 0.6050\tSpearman: 0.6194\n",
      "2022-09-07 19:04:01 - Dot-Product-Similarity:\tPearson: 0.6495\tSpearman: 0.6301\n",
      "2022-09-07 19:04:01 - Binary Accuracy Evaluation of the model on  dataset:\n",
      "2022-09-07 19:04:02 - Accuracy with Cosine-Similarity:           81.92\t(Threshold: 0.4480)\n",
      "2022-09-07 19:04:02 - F1 with Cosine-Similarity:                 86.49\t(Threshold: 0.4086)\n",
      "2022-09-07 19:04:02 - Precision with Cosine-Similarity:          81.40\n",
      "2022-09-07 19:04:02 - Recall with Cosine-Similarity:             92.25\n",
      "2022-09-07 19:04:02 - Average Precision with Cosine-Similarity:  91.95\n",
      "\n",
      "2022-09-07 19:04:02 - Accuracy with Manhattan-Distance:           80.55\t(Threshold: 335.8401)\n",
      "2022-09-07 19:04:02 - F1 with Manhattan-Distance:                 85.20\t(Threshold: 335.8401)\n",
      "2022-09-07 19:04:02 - Precision with Manhattan-Distance:          81.49\n",
      "2022-09-07 19:04:02 - Recall with Manhattan-Distance:             89.26\n",
      "2022-09-07 19:04:02 - Average Precision with Manhattan-Distance:  90.97\n",
      "\n",
      "2022-09-07 19:04:02 - Accuracy with Euclidean-Distance:           80.92\t(Threshold: 14.9948)\n",
      "2022-09-07 19:04:02 - F1 with Euclidean-Distance:                 85.28\t(Threshold: 16.5374)\n",
      "2022-09-07 19:04:02 - Precision with Euclidean-Distance:          78.15\n",
      "2022-09-07 19:04:02 - Recall with Euclidean-Distance:             93.84\n",
      "2022-09-07 19:04:02 - Average Precision with Euclidean-Distance:  91.14\n",
      "\n",
      "2022-09-07 19:04:02 - Accuracy with Dot-Product:           82.42\t(Threshold: 82.1436)\n",
      "2022-09-07 19:04:02 - F1 with Dot-Product:                 86.96\t(Threshold: 82.1436)\n",
      "2022-09-07 19:04:02 - Precision with Dot-Product:          81.31\n",
      "2022-09-07 19:04:02 - Recall with Dot-Product:             93.44\n",
      "2022-09-07 19:04:02 - Average Precision with Dot-Product:  91.45\n",
      "\n"
     ]
    },
    {
     "data": {
      "text/plain": [
       "0.9194782594693177"
      ]
     },
     "execution_count": 32,
     "metadata": {},
     "output_type": "execute_result"
    }
   ],
   "source": [
    "\n",
    "st_model = 'sentence-transformers/quora-distilbert-base'\n",
    "num_epochs = 10\n",
    "batch_size=16\n",
    "model_save_path = \"binary_sim_output/\"+st_model\n",
    "train_dataloader = DataLoader(train_examples, shuffle=True, batch_size=batch_size)\n",
    "  \n",
    "test_dataloader = DataLoader(test_examples, shuffle=True, batch_size=batch_size)\n",
    "model = train_and_evaluate(st_model, train_dataloader, test_dataloader, num_epochs, model_save_path)\n",
    "print(\"\\n\\n\")\n",
    "print(\" \"*20, \"*\"*10, st_model , \"*\"*10)\n",
    "\n",
    "# Load the stored model and evaluate its performance on mohler test dataset\n",
    "model = SentenceTransformer(model_save_path)\n",
    "train_loss = losses.SoftmaxLoss(model=model, sentence_embedding_dimension=model.get_sentence_embedding_dimension(), num_labels=2)\n",
    "test_evaluator = evaluation.EmbeddingSimilarityEvaluator.from_input_examples(test_examples, batch_size=16, name='SPRAG-test')\n",
    "test_evaluator(model, output_path=model_save_path)\n",
    "train_loss.cuda()\n",
    "\n",
    "x_test_dA = test_data['ReferenceAnswer'].values.tolist()\n",
    "x_test_sA = test_data['StudentAnswer'].values.tolist()\n",
    "y_test = test_labels \n",
    "\n",
    "evaluator = evaluation.BinaryClassificationEvaluator(x_test_dA, x_test_sA, y_test)\n",
    "evaluator(model, output_path=model_save_path)\n"
   ]
  },
  {
   "cell_type": "code",
   "execution_count": 33,
   "id": "2b4f91ba",
   "metadata": {},
   "outputs": [
    {
     "data": {
      "application/vnd.jupyter.widget-view+json": {
       "model_id": "a4b3a248ca1740258c505045234c6375",
       "version_major": 2,
       "version_minor": 0
      },
      "text/plain": [
       "Batches:   0%|          | 0/1 [00:00<?, ?it/s]"
      ]
     },
     "metadata": {},
     "output_type": "display_data"
    },
    {
     "data": {
      "application/vnd.jupyter.widget-view+json": {
       "model_id": "8718bb47ba434381b2b048161451f373",
       "version_major": 2,
       "version_minor": 0
      },
      "text/plain": [
       "Batches:   0%|          | 0/1 [00:00<?, ?it/s]"
      ]
     },
     "metadata": {},
     "output_type": "display_data"
    },
    {
     "data": {
      "text/plain": [
       "(768,)"
      ]
     },
     "execution_count": 33,
     "metadata": {},
     "output_type": "execute_result"
    }
   ],
   "source": [
    "#Our sentences we like to encode\n",
    "s1 = model.encode(\"Python is an object oriented programming language\")\n",
    "s2 = model.encode(\"java is an oop language\")\n",
    "\n",
    "s1.shape"
   ]
  },
  {
   "cell_type": "markdown",
   "id": "0667637a",
   "metadata": {},
   "source": []
  },
  {
   "cell_type": "code",
   "execution_count": 34,
   "id": "0c3ebdfe",
   "metadata": {},
   "outputs": [
    {
     "data": {
      "text/plain": [
       "tensor([[0.2374]])"
      ]
     },
     "execution_count": 34,
     "metadata": {},
     "output_type": "execute_result"
    }
   ],
   "source": [
    "#Compute cosine similarity between all pairs\n",
    "from sentence_transformers import util\n",
    "cos_sim = util.cos_sim(s1, s2)\n",
    "cos_sim"
   ]
  },
  {
   "cell_type": "code",
   "execution_count": null,
   "id": "f3185216",
   "metadata": {},
   "outputs": [],
   "source": []
  },
  {
   "cell_type": "code",
   "execution_count": null,
   "id": "f9d2f152",
   "metadata": {},
   "outputs": [],
   "source": []
  }
 ],
 "metadata": {
  "kernelspec": {
   "display_name": "Python 3 (ipykernel)",
   "language": "python",
   "name": "python3"
  },
  "language_info": {
   "codemirror_mode": {
    "name": "ipython",
    "version": 3
   },
   "file_extension": ".py",
   "mimetype": "text/x-python",
   "name": "python",
   "nbconvert_exporter": "python",
   "pygments_lexer": "ipython3",
   "version": "3.9.7"
  }
 },
 "nbformat": 4,
 "nbformat_minor": 5
}
